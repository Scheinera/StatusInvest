{
 "cells": [
  {
   "cell_type": "markdown",
   "metadata": {
    "formattedRanges": [],
    "cell_id": "d355503daf27408b9c8c5ba95caedad1",
    "deepnote_cell_type": "text-cell-h1"
   },
   "source": [
    "# Indicadores Consolidados - Ações"
   ],
   "block_group": "d355503daf27408b9c8c5ba95caedad1"
  },
  {
   "cell_type": "code",
   "metadata": {
    "source_hash": null,
    "is_code_hidden": false,
    "execution_start": 1693025123415,
    "execution_millis": 70,
    "deepnote_to_be_reexecuted": false,
    "deepnote_app_is_code_hidden": true,
    "cell_id": "734682f62f20453db4f278ab821573de",
    "deepnote_cell_type": "code"
   },
   "source": [
    "import pandas as pd\n",
    "import numpy as np\n",
    "import json\n",
    "from bs4 import BeautifulSoup\n",
    "\n",
    "tickets = pd.read_csv('/work/Deepnote/Database/ticker.csv')\n",
    "tickets = tickets.drop(['Unnamed: 0'],axis=1)\n",
    "tick_list = tickets['tickers'].tolist()\n",
    "len(tick_list)"
   ],
   "block_group": "b5f83b95f7fa489d98e858c00f9d1402",
   "execution_count": null,
   "outputs": [
    {
     "output_type": "execute_result",
     "execution_count": 1,
     "data": {
      "text/plain": "620"
     },
     "metadata": {}
    }
   ]
  },
  {
   "cell_type": "code",
   "metadata": {
    "source_hash": null,
    "is_code_hidden": false,
    "execution_start": 1693025128855,
    "execution_millis": 32,
    "deepnote_to_be_reexecuted": false,
    "deepnote_app_is_code_hidden": true,
    "cell_id": "92ba2f3cc7e5408bab84857a4243155d",
    "deepnote_cell_type": "code"
   },
   "source": [
    "# dicionario com todas as ações por linha a serem substituidas\n",
    "index_stocks = []\n",
    "index_tickers = {}\n",
    "for i, v in zip((range(len(tick_list))), tick_list):\n",
    "    index_tickers[i] = v\n",
    "    index_stocks.append(index_tickers)\n",
    "#index_tickers"
   ],
   "block_group": "874d6ced32b54ae3bb6d1b419bbc7e49",
   "execution_count": null,
   "outputs": []
  },
  {
   "cell_type": "code",
   "metadata": {
    "source_hash": null,
    "is_code_hidden": false,
    "execution_start": 1693025132427,
    "execution_millis": 15,
    "deepnote_to_be_reexecuted": false,
    "deepnote_app_is_code_hidden": true,
    "cell_id": "0e530dde95c54a7caf0cb6f8396a7faa",
    "deepnote_cell_type": "code"
   },
   "source": [
    "url = 'https://statusinvest.com.br/acoes/busca-avancada'"
   ],
   "block_group": "adffdad915b549e4a51a2e94d7b84eb3",
   "execution_count": null,
   "outputs": []
  },
  {
   "cell_type": "code",
   "metadata": {
    "source_hash": null,
    "is_code_hidden": false,
    "execution_start": 1693025136195,
    "execution_millis": 55868,
    "is_output_hidden": false,
    "deepnote_to_be_reexecuted": false,
    "deepnote_app_is_code_hidden": true,
    "deepnote_app_is_output_hidden": true,
    "cell_id": "f52c7d82804949deb9e44a0435e63006",
    "deepnote_cell_type": "code"
   },
   "source": [
    "import requests\n",
    "\n",
    "dados = []\n",
    "\n",
    "url = 'https://statusinvest.com.br/acoes/'\n",
    "\n",
    "for i, v in zip(tick_list, (range(len(tick_list)))):\n",
    "    print(f'{v}.{i}') \n",
    "\n",
    "    headers = {\n",
    "        'authority': 'statusinvest.com.br',\n",
    "        'sec-ch-ua': '\\\"Google Chrome\\\";v=\\\"116\\\", \\\"Chromium\\\";v=\\\"116\\\", \\\";Not A Brand\\\";v=\\\"99\\\"',\n",
    "        'accept': '*/*',\n",
    "        'x-requested-with': 'XMLHttpRequest',\n",
    "        'sec-ch-ua-mobile': '?0',\n",
    "        'user-agent': 'Mozilla/5.0 (Windows NT 10.0; Win64; x64) AppleWebKit/537.36 (KHTML, like Gecko) Chrome/116.0.0.0 Safari/537.36',\n",
    "        'content-type': 'application/x-www-form-urlencoded; charset=UTF-8',\n",
    "        'origin': 'https://statusinvest.com.br',\n",
    "        'sec-fetch-site': 'same-origin',\n",
    "        'sec-fetch-mode': 'cors',\n",
    "        'sec-fetch-dest': 'empty',\n",
    "        'referer': url + str(i),\n",
    "        'accept-language': 'pt-BR,pt;q=0.9,en-US;q=0.8,en;q=0.7',\n",
    "        'cookie': '_adasys=e2299e4d-38b0-48c7-91be-a844fb91e62c; _ga=GA1.3.1768435062.1608297004; G_ENABLED_IDPS=google; __cfduid=d96cf593e372b319fd9ac85a0385fd3971614276176; denakop_freq={}; _gid=GA1.3.490929924.1615153324; __cf_bm=ccb5439cbc002734ed38f28e7c99677ec0b5afff-1615325452-1800-AWbw2mlOXKHt6BZ0dybIWT1O8Z4S9u6Mv7pm7/qkTNvQPFa+jTjP1n06mQmPXqmE938CAjZonuuP2B6noCkuoBpP5ouTIc/MWeUoxtuhdKfJ05v24zpwzU/CpAosevhANA==; _gat_gtag_UA_142136095_1=1',\n",
    "    }   \n",
    "\n",
    "    data = {\n",
    "        'ticker': str(i),\n",
    "        'time': '5'\n",
    "    }\n",
    "\n",
    "    response = requests.post('https://statusinvest.com.br/acao/indicatorhistorical', headers=headers, data=data)\n",
    "\n",
    "    \n",
    "    try:\n",
    "        r = response.json()\n",
    "    except json.JSONDecodeError as e:\n",
    "        print(f\"Error decoding JSON: {e}\")\n",
    "        exit(1)\n",
    "    \n",
    "\n",
    "    # Coletando informações para DataFrame\n",
    "    dado = {}\n",
    "    \n",
    "    \n",
    "    c = requests.get(url + str(i)).content\n",
    "    soup = BeautifulSoup(c)\n",
    "\n",
    "\n",
    "       ### INDICADORES DE VALUATION ###\n",
    "\n",
    "    try:    \n",
    "        dado['DY'] = r['data'][0]['ranks'][0]['value_F']\n",
    "    except:\n",
    "        dado['DY'] = np.NaN\n",
    "    try:    \n",
    "        dado['P/L'] = r['data'][1]['ranks'][0]['value_F']\n",
    "    except:\n",
    "        dado['P/L'] = np.NaN\n",
    "    try:\n",
    "        dado['PEG RATIO'] = r['data'][13]['ranks'][0]['value_F']\n",
    "    except:\n",
    "        dado['PEG RATIO'] = np.NaN\n",
    "    try:    \n",
    "        dado['P/VP'] = r['data'][2]['ranks'][0]['value_F']\n",
    "    except:\n",
    "        dado['P/VP'] = np.NaN\n",
    "    try:    \n",
    "        dado['EV/EBITDA'] = r['data'][3]['ranks'][0]['value_F']\n",
    "    except:\n",
    "        dado['EV/EBITDA'] = np.NaN\n",
    "    try:    \n",
    "        dado['EV/EBIT'] = r['data'][10]['ranks'][0]['value_F']\n",
    "    except:\n",
    "        dado['EV/EBIT'] = np.NaN\n",
    "    try:\n",
    "        dado['P/EBITDA'] = r['data'][9]['ranks'][0]['value_F']\n",
    "    except:\n",
    "        dado['P/EBITDA'] = np.NaN\n",
    "    try:\n",
    "        dado['P/EBIT'] = r['data'][4]['ranks'][0]['value_F']\n",
    "    except:\n",
    "        dado['P/EBIT'] = np.NaN        \n",
    "    try:    \n",
    "        dado['VPA'] = r['data'][12]['ranks'][0]['value_F']\n",
    "    except:\n",
    "        dado['VPA'] = np.NaN\n",
    "    try:\n",
    "        dado['P/ATIVO'] = r['data'][6]['ranks'][0]['value_F']\n",
    "    except:\n",
    "        dado['P/ATIVO'] = np.NaN\n",
    "    try:    \n",
    "        dado['LPA'] = r['data'][11]['ranks'][0]['value_F']\n",
    "    except:\n",
    "        dado['LPA'] = np.NaN\n",
    "    try:    \n",
    "        dado['P/SR'] = r['data'][5]['ranks'][0]['value_F']\n",
    "    except:\n",
    "        dado['P/SR'] = np.NaN\n",
    "    try:\n",
    "        dado['P/CAP GIRO'] = r['data'][7]['ranks'][0]['value_F']\n",
    "    except:\n",
    "        dado['P/CAP GIRO'] = np.NaN \n",
    "    try:\n",
    "        dado['P/ATIVO CIRC.LIQ'] = r['data'][8]['ranks'][0]['value_F']\n",
    "    except:\n",
    "        dado['P/ATIVO CIRC.LIQ'] = np.NaN\n",
    "\n",
    "\n",
    "    ### INDICADORES ENVIVIDAMENTO ###\n",
    "\n",
    "    try:    \n",
    "        dado['DÍVIDA LÍQUIDA/PL'] = r['data'][14]['ranks'][0]['value_F']\n",
    "    except:\n",
    "        dado['DÍVIDA LÍQUIDA/PL'] = np.NaN\n",
    "    try:    \n",
    "        dado['DÍVIDA LÍQUIDA/EBITDA'] = r['data'][15]['ranks'][0]['value_F']\n",
    "    except:\n",
    "        dado['DÍVIDA LÍQUIDA/EBITDA'] = np.NaN\n",
    "    try:    \n",
    "        dado['DÍVIDA LÍQUIDA/EBIT'] = r['data'][16]['ranks'][0]['value_F']\n",
    "    except:\n",
    "        dado['DÍVIDA LÍQUIDA/EBIT'] = np.NaN\n",
    "    try:    \n",
    "        dado['PL/ATIVOS'] = r['data'][17]['ranks'][0]['value_F']\n",
    "    except:\n",
    "        dado['PL/ATIVOS'] = np.NaN\n",
    "    try:    \n",
    "        dado['PASSIVOS/ATIVOS'] = r['data'][18]['ranks'][0]['value_F']\n",
    "    except:\n",
    "        dado['PASSIVOS/ATIVOS'] = np.NaN\n",
    "    try:    \n",
    "        dado['LIQUIDEZ CORRENTE'] = r['data'][19]['ranks'][0]['value_F']\n",
    "    except:\n",
    "        dado['LIQUIDEZ CORRENTE'] = np.NaN\n",
    "\n",
    "\n",
    "    ### INDICADORES DE EFICIENCIA ###\n",
    "\n",
    "    try:    \n",
    "        dado['M.BRUTA'] = r['data'][20]['ranks'][0]['value_F']\n",
    "    except:\n",
    "        dado['M.BRUTA'] = np.NaN\n",
    "    try:    \n",
    "        dado['M.EBITDA'] = r['data'][21]['ranks'][0]['value_F']\n",
    "    except:\n",
    "        dado['M.EBITDA'] = np.NaN\n",
    "\n",
    "    try:    \n",
    "        dado['M.EBIT'] = r['data'][22]['ranks'][0]['value_F']\n",
    "    except:\n",
    "        dado['M.EBIT'] = np.NaN\n",
    "\n",
    "    try:    \n",
    "        dado['M.LÍQUIDA'] = r['data'][23]['ranks'][0]['value_F']\n",
    "    except:\n",
    "        dado['M.LÍQUIDA'] = np.NaN\n",
    "\n",
    "\n",
    "    ### INDICADORES DE RENTABILIDADE ###\n",
    "\n",
    "    try:    \n",
    "        dado['ROE'] = r['data'][24]['ranks'][0]['value_F']\n",
    "    except:\n",
    "        dado['ROE'] = np.NaN\n",
    "    try:    \n",
    "        dado['ROA'] = r['data'][25]['ranks'][0]['value_F']\n",
    "    except:\n",
    "        dado['ROA'] = np.NaN\n",
    "    try:\n",
    "        dado['ROIC'] = r['data'][26]['ranks'][0]['value_F']\n",
    "    except:\n",
    "        dado['ROIC'] = np.NaN\n",
    "    try:\n",
    "        dado['GIRO ATIVOS'] = r['data'][27]['ranks'][0]['value_F']\n",
    "    except:\n",
    "        dado['GIRO ATIVOS'] = np.NaN\n",
    "\n",
    "\n",
    "    ### INDICADORES DE CRESCIMENTO ###\n",
    "\n",
    "    try:\n",
    "        dado['CAGR RECEITAS 5 ANOS'] = r['data'][28]['ranks'][0]['value_F']\n",
    "    except:\n",
    "        dado['CAGR RECEITAS 5 ANOS'] = np.NaN\n",
    "    try:\n",
    "        dado['CAGR LUCROS 5 ANOS'] = r['data'][29]['ranks'][0]['value_F']\n",
    "    except:\n",
    "        dado['CAGR LUCROS 5 ANOS'] = np.NaN\n",
    "\n",
    "\n",
    "    # Adicionando resultado a lista de cards\n",
    "    dados.append(dado)\n"
   ],
   "block_group": "53d61bb05a664182b34b55e17a7df79a",
   "execution_count": null,
   "outputs": [
    {
     "name": "stdout",
     "text": "24.ANDG3B\n25.ANDG4B\n26.ANIM3\n27.APER3\n28.APTI3\n29.APTI4\n30.ARML3\n31.ARZZ3\n32.ASAI3\n33.ATMP3\n34.ATOM3\n35.AURA33\nError decoding JSON: Expecting value: line 1 column 1 (char 0)\n36.AURE3\n37.AVLL3\nError decoding JSON: Expecting value: line 1 column 1 (char 0)\n38.AZEV3\nError decoding JSON: Expecting value: line 1 column 1 (char 0)\n39.AZEV4\nError decoding JSON: Expecting value: line 1 column 1 (char 0)\n40.AZUL4\n41.B3SA3\nError decoding JSON: Expecting value: line 1 column 1 (char 0)\n42.BAHI3\nError decoding JSON: Expecting value: line 1 column 1 (char 0)\n43.BALM3\n44.BALM4\nError decoding JSON: Expecting value: line 1 column 1 (char 0)\n45.BAUH4\nError decoding JSON: Expecting value: line 1 column 1 (char 0)\n46.BAZA3\nError decoding JSON: Expecting value: line 1 column 1 (char 0)\n47.BBAS3\n48.BBDC3\nError decoding JSON: Expecting value: line 1 column 1 (char 0)\n49.BBDC4\nError decoding JSON: Expecting value: line 1 column 1 (char 0)\n50.BBML3\n51.BBSE3\nError decoding JSON: Expecting value: line 1 column 1 (char 0)\n52.BDLL3\nError decoding JSON: Expecting value: line 1 column 1 (char 0)\n53.BDLL4\n54.BEEF11\nError decoding JSON: Expecting value: line 1 column 1 (char 0)\n55.BEEF3\nError decoding JSON: Expecting value: line 1 column 1 (char 0)\n56.BEES3\n57.BEES4\nError decoding JSON: Expecting value: line 1 column 1 (char 0)\n58.BFRE11\nError decoding JSON: Expecting value: line 1 column 1 (char 0)\n59.BFRE12\n60.BGIP3\nError decoding JSON: Expecting value: line 1 column 1 (char 0)\n61.BGIP4\nError decoding JSON: Expecting value: line 1 column 1 (char 0)\n62.BIDI11\n63.BIDI3\nError decoding JSON: Expecting value: line 1 column 1 (char 0)\n64.BIDI4\nError decoding JSON: Expecting value: line 1 column 1 (char 0)\n65.BIOM3\n66.BLAU3\nError decoding JSON: Expecting value: line 1 column 1 (char 0)\n67.BLUT3\nError decoding JSON: Expecting value: line 1 column 1 (char 0)\n68.BLUT4\n69.BMEB3\nError decoding JSON: Expecting value: line 1 column 1 (char 0)\n70.BMEB4\nError decoding JSON: Expecting value: line 1 column 1 (char 0)\n71.BMGB4\nError decoding JSON: Expecting value: line 1 column 1 (char 0)\n72.BMIN3\n73.BMIN4\nError decoding JSON: Expecting value: line 1 column 1 (char 0)\n74.BMKS3\nError decoding JSON: Expecting value: line 1 column 1 (char 0)\n75.BMOB3\nError decoding JSON: Expecting value: line 1 column 1 (char 0)\n76.BNBR3\n77.BOAS3\nError decoding JSON: Expecting value: line 1 column 1 (char 0)\n78.BOBR3\nError decoding JSON: Expecting value: line 1 column 1 (char 0)\n79.BOBR4\n80.BPAC11\nError decoding JSON: Expecting value: line 1 column 1 (char 0)\n81.BPAC3\nError decoding JSON: Expecting value: line 1 column 1 (char 0)\n82.BPAC5\n83.BPAN4\nError decoding JSON: Expecting value: line 1 column 1 (char 0)\n84.BPAR3\nError decoding JSON: Expecting value: line 1 column 1 (char 0)\n85.BPAT33\nError decoding JSON: Expecting value: line 1 column 1 (char 0)\n86.BPHA3\n87.BRAP3\nError decoding JSON: Expecting value: line 1 column 1 (char 0)\n88.BRAP4\nError decoding JSON: Expecting value: line 1 column 1 (char 0)\n89.BRBI11\n90.BRBI3\nError decoding JSON: Expecting value: line 1 column 1 (char 0)\n91.BRBI4\nError decoding JSON: Expecting value: line 1 column 1 (char 0)\n92.BRFS3\n93.BRGE11\nError decoding JSON: Expecting value: line 1 column 1 (char 0)\n94.BRGE12\nError decoding JSON: Expecting value: line 1 column 1 (char 0)\n95.BRGE3\n96.BRGE5\nError decoding JSON: Expecting value: line 1 column 1 (char 0)\n97.BRGE6\nError decoding JSON: Expecting value: line 1 column 1 (char 0)\n98.BRGE7\nError decoding JSON: Expecting value: line 1 column 1 (char 0)\n99.BRGE8\n100.BRIN3\nError decoding JSON: Expecting value: line 1 column 1 (char 0)\n101.BRIT3\nError decoding JSON: Expecting value: line 1 column 1 (char 0)\n102.BRIV3\n103.BRIV4\nError decoding JSON: Expecting value: line 1 column 1 (char 0)\n104.BRKM3\nError decoding JSON: Expecting value: line 1 column 1 (char 0)\n105.BRKM5\n106.BRKM6\nError decoding JSON: Expecting value: line 1 column 1 (char 0)\n107.BRML3\nError decoding JSON: Expecting value: line 1 column 1 (char 0)\n108.BRPR3\n109.BRQB3\nError decoding JSON: Expecting value: line 1 column 1 (char 0)\n110.BRSR3\nError decoding JSON: Expecting value: line 1 column 1 (char 0)\n111.BRSR5\n112.BRSR6\nError decoding JSON: Expecting value: line 1 column 1 (char 0)\n113.BSEV3\nError decoding JSON: Expecting value: line 1 column 1 (char 0)\n114.BSLI3\n115.BSLI4\nError decoding JSON: Expecting value: line 1 column 1 (char 0)\n116.BTTL4\nError decoding JSON: Expecting value: line 1 column 1 (char 0)\n117.CALI3\nError decoding JSON: Expecting value: line 1 column 1 (char 0)\n118.CALI4\n119.CAMB3\nError decoding JSON: Expecting value: line 1 column 1 (char 0)\n120.CAMB4\n121.CAML3\nError decoding JSON: Expecting value: line 1 column 1 (char 0)\n122.CASH3\nError decoding JSON: Expecting value: line 1 column 1 (char 0)\n123.CASN3\n124.CASN4\nError decoding JSON: Expecting value: line 1 column 1 (char 0)\n125.CATA3\nError decoding JSON: Expecting value: line 1 column 1 (char 0)\n126.CATA4\nError decoding JSON: Expecting value: line 1 column 1 (char 0)\n127.CBAV3\n128.CBEE3\nError decoding JSON: Expecting value: line 1 column 1 (char 0)\n129.CCRO3\nError decoding JSON: Expecting value: line 1 column 1 (char 0)\n130.CCXC3\n131.CEAB3\nError decoding JSON: Expecting value: line 1 column 1 (char 0)\n132.CEBR3\nError decoding JSON: Expecting value: line 1 column 1 (char 0)\n133.CEBR5\nError decoding JSON: Expecting value: line 1 column 1 (char 0)\n134.CEBR6\n135.CEDO3\nError decoding JSON: Expecting value: line 1 column 1 (char 0)\n136.CEDO4\nError decoding JSON: Expecting value: line 1 column 1 (char 0)\n137.CEEB3\n138.CEEB5\nError decoding JSON: Expecting value: line 1 column 1 (char 0)\n139.CEEB6\nError decoding JSON: Expecting value: line 1 column 1 (char 0)\n140.CEED3\n141.CEED4\nError decoding JSON: Expecting value: line 1 column 1 (char 0)\n142.CEGR3\nError decoding JSON: Expecting value: line 1 column 1 (char 0)\n143.CEPE3\nError decoding JSON: Expecting value: line 1 column 1 (char 0)\n144.CEPE5\n145.CEPE6\nError decoding JSON: Expecting value: line 1 column 1 (char 0)\n146.CESP3\n147.CESP5\nError decoding JSON: Expecting value: line 1 column 1 (char 0)\n148.CESP6\nError decoding JSON: Expecting value: line 1 column 1 (char 0)\n149.CGAS3\n150.CGAS5\nError decoding JSON: Expecting value: line 1 column 1 (char 0)\n151.CGRA3\nError decoding JSON: Expecting value: line 1 column 1 (char 0)\n152.CGRA4\n153.CIEL3\nError decoding JSON: Expecting value: line 1 column 1 (char 0)\n154.CLSA3\nError decoding JSON: Expecting value: line 1 column 1 (char 0)\n155.CLSC3\n156.CLSC4\nError decoding JSON: Expecting value: line 1 column 1 (char 0)\n157.CMIG3\nError decoding JSON: Expecting value: line 1 column 1 (char 0)\n158.CMIG4\n159.CMIN3\nError decoding JSON: Expecting value: line 1 column 1 (char 0)\n160.CMSA3\nError decoding JSON: Expecting value: line 1 column 1 (char 0)\n161.CMSA4\n162.CNSY3\nError decoding JSON: Expecting value: line 1 column 1 (char 0)\n163.COCE3\nError decoding JSON: Expecting value: line 1 column 1 (char 0)\n164.COCE5\nError decoding JSON: Expecting value: line 1 column 1 (char 0)\n165.COCE6\n166.COGN3\nError decoding JSON: Expecting value: line 1 column 1 (char 0)\n167.CORR3\nError decoding JSON: Expecting value: line 1 column 1 (char 0)\n168.CORR4\n169.CPFE3\nError decoding JSON: Expecting value: line 1 column 1 (char 0)\n170.CPLE11\nError decoding JSON: Expecting value: line 1 column 1 (char 0)\n171.CPLE3\n172.CPLE5\nError decoding JSON: Expecting value: line 1 column 1 (char 0)\n173.CPLE6\nError decoding JSON: Expecting value: line 1 column 1 (char 0)\n174.CPRE3\n175.CREM3\nError decoding JSON: Expecting value: line 1 column 1 (char 0)\n176.CRFB3\nError decoding JSON: Expecting value: line 1 column 1 (char 0)\n177.CRIV3\nError decoding JSON: Expecting value: line 1 column 1 (char 0)\n178.CRIV4\n179.CRPG3\nError decoding JSON: Expecting value: line 1 column 1 (char 0)\n180.CRPG5\nError decoding JSON: Expecting value: line 1 column 1 (char 0)\n181.CRPG6\n182.CSAB3\nError decoding JSON: Expecting value: line 1 column 1 (char 0)\n183.CSAB4\nError decoding JSON: Expecting value: line 1 column 1 (char 0)\n184.CSAN3\n185.CSED3\nError decoding JSON: Expecting value: line 1 column 1 (char 0)\n186.CSMG3\nError decoding JSON: Expecting value: line 1 column 1 (char 0)\n187.CSNA3\n188.CSRN3\nError decoding JSON: Expecting value: line 1 column 1 (char 0)\n189.CSRN5\nError decoding JSON: Expecting value: line 1 column 1 (char 0)\n190.CSRN6\n191.CSUD3\nError decoding JSON: Expecting value: line 1 column 1 (char 0)\n192.CTCA3\nError decoding JSON: Expecting value: line 1 column 1 (char 0)\n193.CTKA3\n194.CTKA4\nError decoding JSON: Expecting value: line 1 column 1 (char 0)\n195.CTNM3\nError decoding JSON: Expecting value: line 1 column 1 (char 0)\n196.CTNM4\n197.CTSA3\nError decoding JSON: Expecting value: line 1 column 1 (char 0)\n198.CTSA4\nError decoding JSON: Expecting value: line 1 column 1 (char 0)\n199.CTSA8\n200.CURY3\nError decoding JSON: Expecting value: line 1 column 1 (char 0)\n201.CVCB3\nError decoding JSON: Expecting value: line 1 column 1 (char 0)\n202.CXSE3\nError decoding JSON: Expecting value: line 1 column 1 (char 0)\n203.CYRE3\n204.DASA3\nError decoding JSON: Expecting value: line 1 column 1 (char 0)\n205.DESK3\nError decoding JSON: Expecting value: line 1 column 1 (char 0)\n206.DEXP3\n207.DEXP4\nError decoding JSON: Expecting value: line 1 column 1 (char 0)\n208.DIRR3\nError decoding JSON: Expecting value: line 1 column 1 (char 0)\n209.DMMO11\nError decoding JSON: Expecting value: line 1 column 1 (char 0)\n210.DMMO3\n211.DMVF3\nError decoding JSON: Expecting value: line 1 column 1 (char 0)\n212.DOHL3\nError decoding JSON: Expecting value: line 1 column 1 (char 0)\n213.DOHL4\n214.DOTZ3\nError decoding JSON: Expecting value: line 1 column 1 (char 0)\n215.DTCY3\n216.DTCY4\nError decoding JSON: Expecting value: line 1 column 1 (char 0)\n217.DXCO3\nError decoding JSON: Expecting value: line 1 column 1 (char 0)\n218.EALT3\nError decoding JSON: Expecting value: line 1 column 1 (char 0)\n219.EALT4\n220.ECOR3\nError decoding JSON: Expecting value: line 1 column 1 (char 0)\n221.ECPR3\nError decoding JSON: Expecting value: line 1 column 1 (char 0)\n222.ECPR4\n223.EEEL3\nError decoding JSON: Expecting value: line 1 column 1 (char 0)\n224.EEEL4\nError decoding JSON: Expecting value: line 1 column 1 (char 0)\n225.EGIE3\n226.EKTR3\nError decoding JSON: Expecting value: line 1 column 1 (char 0)\n227.EKTR4\nError decoding JSON: Expecting value: line 1 column 1 (char 0)\n228.ELEK3\n229.ELEK4\nError decoding JSON: Expecting value: line 1 column 1 (char 0)\n230.ELET3\nError decoding JSON: Expecting value: line 1 column 1 (char 0)\n231.ELET5\n232.ELET6\nError decoding JSON: Expecting value: line 1 column 1 (char 0)\n233.ELMD3\nError decoding JSON: Expecting value: line 1 column 1 (char 0)\n234.ELPL3\n235.EMAE3\nError decoding JSON: Expecting value: line 1 column 1 (char 0)\n236.EMAE4\nError decoding JSON: Expecting value: line 1 column 1 (char 0)\n237.EMBR3\n238.ENAT3\nError decoding JSON: Expecting value: line 1 column 1 (char 0)\n239.ENBR3\nError decoding JSON: Expecting value: line 1 column 1 (char 0)\n240.ENEV3\nError decoding JSON: Expecting value: line 1 column 1 (char 0)\n241.ENGI11\n242.ENGI3\nError decoding JSON: Expecting value: line 1 column 1 (char 0)\n243.ENGI4\nError decoding JSON: Expecting value: line 1 column 1 (char 0)\n244.ENJU3\n245.ENMA3B\nError decoding JSON: Expecting value: line 1 column 1 (char 0)\n246.ENMA6B\nError decoding JSON: Expecting value: line 1 column 1 (char 0)\n247.ENMT3\nError decoding JSON: Expecting value: line 1 column 1 (char 0)\n248.ENMT4\n249.EPAR3\nError decoding JSON: Expecting value: line 1 column 1 (char 0)\n250.EQPA3\nError decoding JSON: Expecting value: line 1 column 1 (char 0)\n251.EQPA5\n252.EQPA6\nError decoding JSON: Expecting value: line 1 column 1 (char 0)\n253.EQPA7\nError decoding JSON: Expecting value: line 1 column 1 (char 0)\n254.EQTL3\nError decoding JSON: Expecting value: line 1 column 1 (char 0)\n255.ESPA3\n256.ESTR3\nError decoding JSON: Expecting value: line 1 column 1 (char 0)\n257.ESTR4\n258.ETER3\nError decoding JSON: Expecting value: line 1 column 1 (char 0)\n259.EUCA3\nError decoding JSON: Expecting value: line 1 column 1 (char 0)\n260.EUCA4\nError decoding JSON: Expecting value: line 1 column 1 (char 0)\n261.EVEN3\n262.EZTC3\nError decoding JSON: Expecting value: line 1 column 1 (char 0)\n263.FBMC3\nError decoding JSON: Expecting value: line 1 column 1 (char 0)\n264.FBMC4\n265.FESA3\nError decoding JSON: Expecting value: line 1 column 1 (char 0)\n266.FESA4\nError decoding JSON: Expecting value: line 1 column 1 (char 0)\n267.FHER3\n268.FIBR3\nError decoding JSON: Expecting value: line 1 column 1 (char 0)\n269.FIEI3\nError decoding JSON: Expecting value: line 1 column 1 (char 0)\n270.FIGE3\n271.FIGE4\nError decoding JSON: Expecting value: line 1 column 1 (char 0)\n272.FIQE3\nError decoding JSON: Expecting value: line 1 column 1 (char 0)\n273.FLEX3\n274.FLRY3\nError decoding JSON: Expecting value: line 1 column 1 (char 0)\n275.FNCN3\nError decoding JSON: Expecting value: line 1 column 1 (char 0)\n276.FRAS3\n277.FRIO3\nError decoding JSON: Expecting value: line 1 column 1 (char 0)\n278.FRTA3\nError decoding JSON: Expecting value: line 1 column 1 (char 0)\n279.FTRT3B\n280.G2DI33\nError decoding JSON: Expecting value: line 1 column 1 (char 0)\n281.GBIO33\nError decoding JSON: Expecting value: line 1 column 1 (char 0)\n282.GEPA3\n283.GEPA4\nError decoding JSON: Expecting value: line 1 column 1 (char 0)\n284.GETT11\nError decoding JSON: Expecting value: line 1 column 1 (char 0)\n285.GETT3\nError decoding JSON: Expecting value: line 1 column 1 (char 0)\n286.GETT4\n287.GFSA3\nError decoding JSON: Expecting value: line 1 column 1 (char 0)\n288.GGBR3\nError decoding JSON: Expecting value: line 1 column 1 (char 0)\n289.GGBR4\n290.GGPS3\nError decoding JSON: Expecting value: line 1 column 1 (char 0)\n291.GMAT3\nError decoding JSON: Expecting value: line 1 column 1 (char 0)\n292.GNDI3\n293.GOAU3\nError decoding JSON: Expecting value: line 1 column 1 (char 0)\n294.GOAU4\nError decoding JSON: Expecting value: line 1 column 1 (char 0)\n295.GOLL4\n296.GPAR3\nError decoding JSON: Expecting value: line 1 column 1 (char 0)\n297.GPIV33\nError decoding JSON: Expecting value: line 1 column 1 (char 0)\n298.GRAO3\nError decoding JSON: Expecting value: line 1 column 1 (char 0)\n299.GRND3\n300.GSHP3\nError decoding JSON: Expecting value: line 1 column 1 (char 0)\n301.GUAR3\nError decoding JSON: Expecting value: line 1 column 1 (char 0)\n302.GUAR4\n303.HAGA3\nError decoding JSON: Expecting value: line 1 column 1 (char 0)\n304.HAGA4\nError decoding JSON: Expecting value: line 1 column 1 (char 0)\n305.HAPV3\n306.HBOR3\nError decoding JSON: Expecting value: line 1 column 1 (char 0)\n307.HBRE3\nError decoding JSON: Expecting value: line 1 column 1 (char 0)\n308.HBSA3\n309.HBTS5\nError decoding JSON: Expecting value: line 1 column 1 (char 0)\n310.HETA3\nError decoding JSON: Expecting value: line 1 column 1 (char 0)\n311.HETA4\n312.HGTX3\nError decoding JSON: Expecting value: line 1 column 1 (char 0)\n313.HOOT3\nError decoding JSON: Expecting value: line 1 column 1 (char 0)\n314.HOOT4\n315.HYPE3\nError decoding JSON: Expecting value: line 1 column 1 (char 0)\n316.IDVL3\nError decoding JSON: Expecting value: line 1 column 1 (char 0)\n317.IDVL4\n318.IFCM3\nError decoding JSON: Expecting value: line 1 column 1 (char 0)\n319.IGBR3\nError decoding JSON: Expecting value: line 1 column 1 (char 0)\n320.IGSN3\nError decoding JSON: Expecting value: line 1 column 1 (char 0)\n321.IGTA3\n322.IGTI11\nError decoding JSON: Expecting value: line 1 column 1 (char 0)\n323.IGTI3\nError decoding JSON: Expecting value: line 1 column 1 (char 0)\n324.IGTI4\n325.INEP3\nError decoding JSON: Expecting value: line 1 column 1 (char 0)\n326.INEP4\nError decoding JSON: Expecting value: line 1 column 1 (char 0)\n327.INNT3\n328.INTB3\nError decoding JSON: Expecting value: line 1 column 1 (char 0)\n329.IRBR3\nError decoding JSON: Expecting value: line 1 column 1 (char 0)\n330.ITEC3\n331.ITSA3\nError decoding JSON: Expecting value: line 1 column 1 (char 0)\n332.ITSA4\nError decoding JSON: Expecting value: line 1 column 1 (char 0)\n333.ITUB3\n334.ITUB4\nError decoding JSON: Expecting value: line 1 column 1 (char 0)\n335.JALL3\nError decoding JSON: Expecting value: line 1 column 1 (char 0)\n336.JBSS3\n337.JFEN3\nError decoding JSON: Expecting value: line 1 column 1 (char 0)\n338.JHSF3\nError decoding JSON: Expecting value: line 1 column 1 (char 0)\n339.JOPA3\nError decoding JSON: Expecting value: line 1 column 1 (char 0)\n340.JOPA4\n341.JSLG3\nError decoding JSON: Expecting value: line 1 column 1 (char 0)\n342.KEPL3\nError decoding JSON: Expecting value: line 1 column 1 (char 0)\n343.KLBN11\n344.KLBN3\nError decoding JSON: Expecting value: line 1 column 1 (char 0)\n345.KLBN4\nError decoding JSON: Expecting value: line 1 column 1 (char 0)\n346.KRSA3\n347.LAME3\nError decoding JSON: Expecting value: line 1 column 1 (char 0)\n348.LAME4\nError decoding JSON: Expecting value: line 1 column 1 (char 0)\n349.LAND3\n350.LAVV3\nError decoding JSON: Expecting value: line 1 column 1 (char 0)\n351.LCAM3\nError decoding JSON: Expecting value: line 1 column 1 (char 0)\n352.LEVE3\n353.LHER3\nError decoding JSON: Expecting value: line 1 column 1 (char 0)\n354.LHER4\nError decoding JSON: Expecting value: line 1 column 1 (char 0)\n355.LIGT3\n356.LINX3\nError decoding JSON: Expecting value: line 1 column 1 (char 0)\n357.LIPR3\nError decoding JSON: Expecting value: line 1 column 1 (char 0)\n358.LJQQ3\n359.LOGG3\nError decoding JSON: Expecting value: line 1 column 1 (char 0)\n360.LOGN3\nError decoding JSON: Expecting value: line 1 column 1 (char 0)\n361.LPSB3\nError decoding JSON: Expecting value: line 1 column 1 (char 0)\n362.LREN3\n363.LTEL3B\nError decoding JSON: Expecting value: line 1 column 1 (char 0)\n364.LUPA3\nError decoding JSON: Expecting value: line 1 column 1 (char 0)\n365.LUXM3\n366.LUXM4\nError decoding JSON: Expecting value: line 1 column 1 (char 0)\n367.LVTC3\nError decoding JSON: Expecting value: line 1 column 1 (char 0)\n368.LWSA3\n369.MAGG3\nError decoding JSON: Expecting value: line 1 column 1 (char 0)\n370.MAPT3\nError decoding JSON: Expecting value: line 1 column 1 (char 0)\n371.MAPT4\nError decoding JSON: Expecting value: line 1 column 1 (char 0)\n372.MATD3\n373.MBLY3\nError decoding JSON: Expecting value: line 1 column 1 (char 0)\n374.MDIA3\n375.MDNE3\nError decoding JSON: Expecting value: line 1 column 1 (char 0)\n376.MEAL3\nError decoding JSON: Expecting value: line 1 column 1 (char 0)\n377.MEGA3\nError decoding JSON: Expecting value: line 1 column 1 (char 0)\n378.MELK3\n379.MERC3\nError decoding JSON: Expecting value: line 1 column 1 (char 0)\n380.MERC4\nError decoding JSON: Expecting value: line 1 column 1 (char 0)\n381.MGEL3\n382.MGEL4\nError decoding JSON: Expecting value: line 1 column 1 (char 0)\n383.MGLU3\nError decoding JSON: Expecting value: line 1 column 1 (char 0)\n384.MILS3\n385.MLAS3\nError decoding JSON: Expecting value: line 1 column 1 (char 0)\n386.MMAQ3\nError decoding JSON: Expecting value: line 1 column 1 (char 0)\n387.MMAQ4\n388.MMXM3\nError decoding JSON: Expecting value: line 1 column 1 (char 0)\n389.MNDL3\nError decoding JSON: Expecting value: line 1 column 1 (char 0)\n390.MNPR3\nError decoding JSON: Expecting value: line 1 column 1 (char 0)\n391.MOAR3\n392.MODL11\nError decoding JSON: Expecting value: line 1 column 1 (char 0)\n393.MODL3\nError decoding JSON: Expecting value: line 1 column 1 (char 0)\n394.MODL4\n395.MOSI3\nError decoding JSON: Expecting value: line 1 column 1 (char 0)\n396.MOVI3\nError decoding JSON: Expecting value: line 1 column 1 (char 0)\n397.MPLU3\n398.MRFG3\nError decoding JSON: Expecting value: line 1 column 1 (char 0)\n399.MRSA3B\nError decoding JSON: Expecting value: line 1 column 1 (char 0)\n400.MRSA5B\nError decoding JSON: Expecting value: line 1 column 1 (char 0)\n401.MRSA6B\n402.MRVE3\nError decoding JSON: Expecting value: line 1 column 1 (char 0)\n403.MSPA3\nError decoding JSON: Expecting value: line 1 column 1 (char 0)\n404.MSPA4\n405.MSRO3\nError decoding JSON: Expecting value: line 1 column 1 (char 0)\n406.MTIG3\nError decoding JSON: Expecting value: line 1 column 1 (char 0)\n407.MTIG4\n408.MTRE3\nError decoding JSON: Expecting value: line 1 column 1 (char 0)\n409.MTSA3\nError decoding JSON: Expecting value: line 1 column 1 (char 0)\n410.MTSA4\nError decoding JSON: Expecting value: line 1 column 1 (char 0)\n411.MULT3\n412.MWET3\nError decoding JSON: Expecting value: line 1 column 1 (char 0)\n413.MWET4\nError decoding JSON: Expecting value: line 1 column 1 (char 0)\n414.MYPK3\n415.NAFG3\nError decoding JSON: Expecting value: line 1 column 1 (char 0)\n416.NAFG4\nError decoding JSON: Expecting value: line 1 column 1 (char 0)\n417.NEMO3\n418.NEMO5\nError decoding JSON: Expecting value: line 1 column 1 (char 0)\n419.NEMO6\nError decoding JSON: Expecting value: line 1 column 1 (char 0)\n420.NEOE3\n421.NEXP3\nError decoding JSON: Expecting value: line 1 column 1 (char 0)\n422.NGRD3\nError decoding JSON: Expecting value: line 1 column 1 (char 0)\n423.NINJ3\nError decoding JSON: Expecting value: line 1 column 1 (char 0)\n424.NORD3\n425.NRTQ3\nError decoding JSON: Expecting value: line 1 column 1 (char 0)\n426.NTCO3\nError decoding JSON: Expecting value: line 1 column 1 (char 0)\n427.NUTR3\n428.ODER4\nError decoding JSON: Expecting value: line 1 column 1 (char 0)\n429.ODPV3\nError decoding JSON: Expecting value: line 1 column 1 (char 0)\n430.OFSA3\n431.OGXP3\nError decoding JSON: Expecting value: line 1 column 1 (char 0)\n432.OIBR3\nError decoding JSON: Expecting value: line 1 column 1 (char 0)\n433.OIBR4\nError decoding JSON: Expecting value: line 1 column 1 (char 0)\n434.OMGE3\n435.ONCO3\nError decoding JSON: Expecting value: line 1 column 1 (char 0)\n436.OPCT3\nError decoding JSON: Expecting value: line 1 column 1 (char 0)\n437.ORVR3\n438.OSXB3\nError decoding JSON: Expecting value: line 1 column 1 (char 0)\n439.PARD3\nError decoding JSON: Expecting value: line 1 column 1 (char 0)\n440.PATI3\n441.PATI4\nError decoding JSON: Expecting value: line 1 column 1 (char 0)\n442.PCAR3\nError decoding JSON: Expecting value: line 1 column 1 (char 0)\n443.PCAR4\n444.PDGR3\nError decoding JSON: Expecting value: line 1 column 1 (char 0)\n445.PDTC3\nError decoding JSON: Expecting value: line 1 column 1 (char 0)\n446.PEAB3\nError decoding JSON: Expecting value: line 1 column 1 (char 0)\n447.PEAB4\n448.PETR3\nError decoding JSON: Expecting value: line 1 column 1 (char 0)\n449.PETR4\nError decoding JSON: Expecting value: line 1 column 1 (char 0)\n450.PETZ3\n451.PFRM3\nError decoding JSON: Expecting value: line 1 column 1 (char 0)\n452.PGMN3\nError decoding JSON: Expecting value: line 1 column 1 (char 0)\n453.PINE3\n454.PINE4\nError decoding JSON: Expecting value: line 1 column 1 (char 0)\n455.PLAS3\n456.PLPL3\nError decoding JSON: Expecting value: line 1 column 1 (char 0)\n457.PMAM3\nError decoding JSON: Expecting value: line 1 column 1 (char 0)\n458.PNVL3\nError decoding JSON: Expecting value: line 1 column 1 (char 0)\n459.PNVL4\n460.POMO3\nError decoding JSON: Expecting value: line 1 column 1 (char 0)\n461.POMO4\nError decoding JSON: Expecting value: line 1 column 1 (char 0)\n462.PORT3\n463.POSI3\nError decoding JSON: Expecting value: line 1 column 1 (char 0)\n464.POWE3\nError decoding JSON: Expecting value: line 1 column 1 (char 0)\n465.PPAR3\n466.PPLA11\nError decoding JSON: Expecting value: line 1 column 1 (char 0)\n467.PRIO3\nError decoding JSON: Expecting value: line 1 column 1 (char 0)\n468.PRNR3\n469.PSSA3\nError decoding JSON: Expecting value: line 1 column 1 (char 0)\n470.PTBL3\nError decoding JSON: Expecting value: line 1 column 1 (char 0)\n471.PTCA11\n472.PTCA3\nError decoding JSON: Expecting value: line 1 column 1 (char 0)\n473.PTNT3\nError decoding JSON: Expecting value: line 1 column 1 (char 0)\n474.PTNT4\nError decoding JSON: Expecting value: line 1 column 1 (char 0)\n475.QGEP3\n476.QUAL3\nError decoding JSON: Expecting value: line 1 column 1 (char 0)\n477.QUSW3\nError decoding JSON: Expecting value: line 1 column 1 (char 0)\n478.QVQP3B\n479.RADL3\nError decoding JSON: Expecting value: line 1 column 1 (char 0)\n480.RAIL3\nError decoding JSON: Expecting value: line 1 column 1 (char 0)\n481.RAIZ4\nError decoding JSON: Expecting value: line 1 column 1 (char 0)\n482.RANI3\n483.RANI4\nError decoding JSON: Expecting value: line 1 column 1 (char 0)\n484.RAPT3\nError decoding JSON: Expecting value: line 1 column 1 (char 0)\n485.RAPT4\n486.RCSL3\nError decoding JSON: Expecting value: line 1 column 1 (char 0)\n487.RCSL4\nError decoding JSON: Expecting value: line 1 column 1 (char 0)\n488.RDNI3\n489.RDOR3\nError decoding JSON: Expecting value: line 1 column 1 (char 0)\n490.RECV3\nError decoding JSON: Expecting value: line 1 column 1 (char 0)\n491.REDE3\n492.RENT3\nError decoding JSON: Expecting value: line 1 column 1 (char 0)\n493.RLOG3\nError decoding JSON: Expecting value: line 1 column 1 (char 0)\n494.RNEW11\n495.RNEW3\nError decoding JSON: Expecting value: line 1 column 1 (char 0)\n496.RNEW4\nError decoding JSON: Expecting value: line 1 column 1 (char 0)\n497.ROMI3\n498.RPAD3\nError decoding JSON: Expecting value: line 1 column 1 (char 0)\n499.RPAD5\nError decoding JSON: Expecting value: line 1 column 1 (char 0)\n500.RPAD6\nError decoding JSON: Expecting value: line 1 column 1 (char 0)\n501.RPMG3\n502.RRRP3\nError decoding JSON: Expecting value: line 1 column 1 (char 0)\n503.RSID3\nError decoding JSON: Expecting value: line 1 column 1 (char 0)\n504.RSUL3\n505.RSUL4\nError decoding JSON: Expecting value: line 1 column 1 (char 0)\n506.SANB11\nError decoding JSON: Expecting value: line 1 column 1 (char 0)\n507.SANB3\nError decoding JSON: Expecting value: line 1 column 1 (char 0)\n508.SANB4\n509.SAPR11\nError decoding JSON: Expecting value: line 1 column 1 (char 0)\n510.SAPR3\nError decoding JSON: Expecting value: line 1 column 1 (char 0)\n511.SAPR4\n512.SBFG3\nError decoding JSON: Expecting value: line 1 column 1 (char 0)\n513.SBSP3\nError decoding JSON: Expecting value: line 1 column 1 (char 0)\n514.SCAR3\nError decoding JSON: Expecting value: line 1 column 1 (char 0)\n515.SEDU3\n516.SEER3\nError decoding JSON: Expecting value: line 1 column 1 (char 0)\n517.SEQL3\n518.SGPS3\nError decoding JSON: Expecting value: line 1 column 1 (char 0)\n519.SHOW3\nError decoding JSON: Expecting value: line 1 column 1 (char 0)\n520.SHUL3\n521.SHUL4\nError decoding JSON: Expecting value: line 1 column 1 (char 0)\n522.SIMH3\nError decoding JSON: Expecting value: line 1 column 1 (char 0)\n523.SLCE3\n524.SLED3\nError decoding JSON: Expecting value: line 1 column 1 (char 0)\n525.SLED4\nError decoding JSON: Expecting value: line 1 column 1 (char 0)\n526.SMFT3\nError decoding JSON: Expecting value: line 1 column 1 (char 0)\n527.SMLS3\n528.SMTO3\nError decoding JSON: Expecting value: line 1 column 1 (char 0)\n529.SNSY3\nError decoding JSON: Expecting value: line 1 column 1 (char 0)\n530.SNSY5\n531.SNSY6\nError decoding JSON: Expecting value: line 1 column 1 (char 0)\n532.SOJA3\nError decoding JSON: Expecting value: line 1 column 1 (char 0)\n533.SOMA3\nError decoding JSON: Expecting value: line 1 column 1 (char 0)\n534.SOND3\n535.SOND5\nError decoding JSON: Expecting value: line 1 column 1 (char 0)\n536.SOND6\nError decoding JSON: Expecting value: line 1 column 1 (char 0)\n537.SPRI3\n538.SPRI5\nError decoding JSON: Expecting value: line 1 column 1 (char 0)\n539.SPRI6\nError decoding JSON: Expecting value: line 1 column 1 (char 0)\n540.SPRT3B\n541.SQIA3\nError decoding JSON: Expecting value: line 1 column 1 (char 0)\n542.STBP3\nError decoding JSON: Expecting value: line 1 column 1 (char 0)\n543.STKF3\n544.STTR3\nError decoding JSON: Expecting value: line 1 column 1 (char 0)\n545.SULA11\nError decoding JSON: Expecting value: line 1 column 1 (char 0)\n546.SULA3\nError decoding JSON: Expecting value: line 1 column 1 (char 0)\n547.SULA4\n548.SUZB3\nError decoding JSON: Expecting value: line 1 column 1 (char 0)\n549.SYNE3\nError decoding JSON: Expecting value: line 1 column 1 (char 0)\n550.TAEE11\n551.TAEE3\nError decoding JSON: Expecting value: line 1 column 1 (char 0)\n552.TAEE4\nError decoding JSON: Expecting value: line 1 column 1 (char 0)\n553.TASA3\nError decoding JSON: Expecting value: line 1 column 1 (char 0)\n554.TASA4\n555.TCNO3\nError decoding JSON: Expecting value: line 1 column 1 (char 0)\n556.TCNO4\nError decoding JSON: Expecting value: line 1 column 1 (char 0)\n557.TCSA3\n558.TECN3\nError decoding JSON: Expecting value: line 1 column 1 (char 0)\n559.TEKA3\nError decoding JSON: Expecting value: line 1 column 1 (char 0)\n560.TEKA4\n561.TELB3\nError decoding JSON: Expecting value: line 1 column 1 (char 0)\n562.TELB4\nError decoding JSON: Expecting value: line 1 column 1 (char 0)\n563.TEND3\nError decoding JSON: Expecting value: line 1 column 1 (char 0)\n564.TESA3\n565.TFCO4\nError decoding JSON: Expecting value: line 1 column 1 (char 0)\n566.TGMA3\nError decoding JSON: Expecting value: line 1 column 1 (char 0)\n567.TIET11\n568.TIET3\nError decoding JSON: Expecting value: line 1 column 1 (char 0)\n569.TIET4\n570.TIMS3\nError decoding JSON: Expecting value: line 1 column 1 (char 0)\n571.TKNO3\nError decoding JSON: Expecting value: line 1 column 1 (char 0)\n572.TKNO4\n573.TOTS3\nError decoding JSON: Expecting value: line 1 column 1 (char 0)\n574.TOYB3\nError decoding JSON: Expecting value: line 1 column 1 (char 0)\n575.TOYB4\nError decoding JSON: Expecting value: line 1 column 1 (char 0)\n576.TPIS3\n577.TRAD3\nError decoding JSON: Expecting value: line 1 column 1 (char 0)\n578.TRIS3\nError decoding JSON: Expecting value: line 1 column 1 (char 0)\n579.TRPL3\n580.TRPL4\nError decoding JSON: Expecting value: line 1 column 1 (char 0)\n581.TRPN3\nError decoding JSON: Expecting value: line 1 column 1 (char 0)\n582.TTEN3\nError decoding JSON: Expecting value: line 1 column 1 (char 0)\n583.TUPY3\n584.TXRX3\nError decoding JSON: Expecting value: line 1 column 1 (char 0)\n585.TXRX4\nError decoding JSON: Expecting value: line 1 column 1 (char 0)\n586.UCAS3\n587.UGPA3\nError decoding JSON: Expecting value: line 1 column 1 (char 0)\n588.UNIP3\nError decoding JSON: Expecting value: line 1 column 1 (char 0)\n589.UNIP5\n590.UNIP6\nError decoding JSON: Expecting value: line 1 column 1 (char 0)\n591.USIM3\nError decoding JSON: Expecting value: line 1 column 1 (char 0)\n592.USIM5\nError decoding JSON: Expecting value: line 1 column 1 (char 0)\n593.USIM6\n594.VALE3\nError decoding JSON: Expecting value: line 1 column 1 (char 0)\n595.VAMO3\nError decoding JSON: Expecting value: line 1 column 1 (char 0)\n596.VBBR3\n597.VIIA3\nError decoding JSON: Expecting value: line 1 column 1 (char 0)\n598.VITT3\nError decoding JSON: Expecting value: line 1 column 1 (char 0)\n599.VIVA3\nError decoding JSON: Expecting value: line 1 column 1 (char 0)\n600.VIVR3\n601.VIVT3\nError decoding JSON: Expecting value: line 1 column 1 (char 0)\n602.VIVT4\nError decoding JSON: Expecting value: line 1 column 1 (char 0)\n603.VLID3\n604.VSPT3\nError decoding JSON: Expecting value: line 1 column 1 (char 0)\n605.VSPT4\nError decoding JSON: Expecting value: line 1 column 1 (char 0)\n606.VSTE3\n607.VULC3\nError decoding JSON: Expecting value: line 1 column 1 (char 0)\n608.VVAR11\n609.VVAR4\nError decoding JSON: Expecting value: line 1 column 1 (char 0)\n610.VVEO3\nError decoding JSON: Expecting value: line 1 column 1 (char 0)\n611.WEGE3\n612.WEST3\nError decoding JSON: Expecting value: line 1 column 1 (char 0)\n613.WHRL3\nError decoding JSON: Expecting value: line 1 column 1 (char 0)\n614.WHRL4\nError decoding JSON: Expecting value: line 1 column 1 (char 0)\n615.WIZC3\nError decoding JSON: Expecting value: line 1 column 1 (char 0)\n616.WLMM3\n617.WLMM4\nError decoding JSON: Expecting value: line 1 column 1 (char 0)\n618.YDUQ3\nError decoding JSON: Expecting value: line 1 column 1 (char 0)\n619.ZAMP3\n",
     "output_type": "stream"
    }
   ]
  },
  {
   "cell_type": "code",
   "metadata": {
    "source_hash": null,
    "execution_start": 1693025408111,
    "execution_millis": 366,
    "deepnote_to_be_reexecuted": false,
    "cell_id": "bd5f49d3e93840b7a475ebe9e2e22d71",
    "deepnote_cell_type": "code"
   },
   "source": [
    "# Criando um DataFrame com os resultados\n",
    "dataset = pd.DataFrame(dados)\n",
    "dataset.rename(index = index_tickers, inplace = True)\n",
    "dataset"
   ],
   "block_group": "0d31e928b8bb4f38bf737e5c501655eb",
   "execution_count": null,
   "outputs": [
    {
     "output_type": "execute_result",
     "execution_count": 11,
     "data": {
      "application/vnd.deepnote.dataframe.v3+json": {
       "column_count": 30,
       "row_count": 620,
       "columns": [
        {
         "name": "DY",
         "dtype": "object",
         "stats": {
          "unique_count": 109,
          "nan_count": 0,
          "categories": [
           {
            "name": "-%",
            "count": 291
           },
           {
            "name": "2,39%",
            "count": 9
           },
           {
            "name": "107 others",
            "count": 320
           }
          ]
         }
        },
        {
         "name": "P/L",
         "dtype": "object",
         "stats": {
          "unique_count": 201,
          "nan_count": 0,
          "categories": [
           {
            "name": "0,00",
            "count": 43
           },
           {
            "name": "0,06",
            "count": 7
           },
           {
            "name": "199 others",
            "count": 570
           }
          ]
         }
        },
        {
         "name": "PEG RATIO",
         "dtype": "object",
         "stats": {
          "unique_count": 119,
          "nan_count": 0,
          "categories": [
           {
            "name": "0,00",
            "count": 116
           },
           {
            "name": "-0,11",
            "count": 20
           },
           {
            "name": "117 others",
            "count": 484
           }
          ]
         }
        },
        {
         "name": "P/VP",
         "dtype": "object",
         "stats": {
          "unique_count": 175,
          "nan_count": 0,
          "categories": [
           {
            "name": "0,00",
            "count": 47
           },
           {
            "name": "2,45",
            "count": 9
           },
           {
            "name": "173 others",
            "count": 564
           }
          ]
         }
        },
        {
         "name": "EV/EBITDA",
         "dtype": "object",
         "stats": {
          "unique_count": 152,
          "nan_count": 0,
          "categories": [
           {
            "name": "-",
            "count": 166
           },
           {
            "name": "0,00",
            "count": 23
           },
           {
            "name": "150 others",
            "count": 431
           }
          ]
         }
        },
        {
         "name": "EV/EBIT",
         "dtype": "object",
         "stats": {
          "unique_count": 197,
          "nan_count": 0,
          "categories": [
           {
            "name": "7,73",
            "count": 7
           },
           {
            "name": "-17,72",
            "count": 7
           },
           {
            "name": "195 others",
            "count": 606
           }
          ]
         }
        },
        {
         "name": "P/EBITDA",
         "dtype": "object",
         "stats": {
          "unique_count": 144,
          "nan_count": 0,
          "categories": [
           {
            "name": "-",
            "count": 169
           },
           {
            "name": "-12,97",
            "count": 7
           },
           {
            "name": "142 others",
            "count": 444
           }
          ]
         }
        },
        {
         "name": "P/EBIT",
         "dtype": "object",
         "stats": {
          "unique_count": 191,
          "nan_count": 0,
          "categories": [
           {
            "name": "0,00",
            "count": 43
           },
           {
            "name": "9,61",
            "count": 8
           },
           {
            "name": "189 others",
            "count": 569
           }
          ]
         }
        },
        {
         "name": "VPA",
         "dtype": "object",
         "stats": {
          "unique_count": 203,
          "nan_count": 0,
          "categories": [
           {
            "name": "0,00",
            "count": 14
           },
           {
            "name": "17,89",
            "count": 7
           },
           {
            "name": "201 others",
            "count": 599
           }
          ]
         }
        },
        {
         "name": "P/ATIVO",
         "dtype": "object",
         "stats": {
          "unique_count": 117,
          "nan_count": 0,
          "categories": [
           {
            "name": "0,00",
            "count": 47
           },
           {
            "name": "0,25",
            "count": 20
           },
           {
            "name": "115 others",
            "count": 553
           }
          ]
         }
        },
        {
         "name": "LPA",
         "dtype": "object",
         "stats": {
          "unique_count": 184,
          "nan_count": 0,
          "categories": [
           {
            "name": "1,09",
            "count": 15
           },
           {
            "name": "0,62",
            "count": 11
           },
           {
            "name": "182 others",
            "count": 594
           }
          ]
         }
        },
        {
         "name": "P/SR",
         "dtype": "object",
         "stats": {
          "unique_count": 151,
          "nan_count": 0,
          "categories": [
           {
            "name": "0,00",
            "count": 36
           },
           {
            "name": "-",
            "count": 34
           },
           {
            "name": "149 others",
            "count": 550
           }
          ]
         }
        },
        {
         "name": "P/CAP GIRO",
         "dtype": "object",
         "stats": {
          "unique_count": 189,
          "nan_count": 0,
          "categories": [
           {
            "name": "0,00",
            "count": 47
           },
           {
            "name": "-",
            "count": 15
           },
           {
            "name": "187 others",
            "count": 558
           }
          ]
         }
        },
        {
         "name": "P/ATIVO CIRC.LIQ",
         "dtype": "object",
         "stats": {
          "unique_count": 137,
          "nan_count": 0,
          "categories": [
           {
            "name": "0,00",
            "count": 39
           },
           {
            "name": "-0,32",
            "count": 13
           },
           {
            "name": "135 others",
            "count": 568
           }
          ]
         }
        },
        {
         "name": "DÍVIDA LÍQUIDA/PL",
         "dtype": "object",
         "stats": {
          "unique_count": 127,
          "nan_count": 0,
          "categories": [
           {
            "name": "-",
            "count": 135
           },
           {
            "name": "0,12",
            "count": 14
           },
           {
            "name": "125 others",
            "count": 471
           }
          ]
         }
        },
        {
         "name": "DÍVIDA LÍQUIDA/EBITDA",
         "dtype": "object",
         "stats": {
          "unique_count": 139,
          "nan_count": 0,
          "categories": [
           {
            "name": "-",
            "count": 175
           },
           {
            "name": "0,50",
            "count": 7
           },
           {
            "name": "137 others",
            "count": 438
           }
          ]
         }
        },
        {
         "name": "DÍVIDA LÍQUIDA/EBIT",
         "dtype": "object",
         "stats": {
          "unique_count": 179,
          "nan_count": 0,
          "categories": [
           {
            "name": "-",
            "count": 55
           },
           {
            "name": "0,00",
            "count": 10
           },
           {
            "name": "177 others",
            "count": 555
           }
          ]
         }
        },
        {
         "name": "PL/ATIVOS",
         "dtype": "object",
         "stats": {
          "unique_count": 104,
          "nan_count": 0,
          "categories": [
           {
            "name": "0,51",
            "count": 21
           },
           {
            "name": "0,32",
            "count": 18
           },
           {
            "name": "102 others",
            "count": 581
           }
          ]
         }
        },
        {
         "name": "PASSIVOS/ATIVOS",
         "dtype": "object",
         "stats": {
          "unique_count": 103,
          "nan_count": 0,
          "categories": [
           {
            "name": "0,48",
            "count": 18
           },
           {
            "name": "0,68",
            "count": 16
           },
           {
            "name": "101 others",
            "count": 586
           }
          ]
         }
        },
        {
         "name": "LIQUIDEZ CORRENTE",
         "dtype": "object",
         "stats": {
          "unique_count": 153,
          "nan_count": 0,
          "categories": [
           {
            "name": "-",
            "count": 35
           },
           {
            "name": "1,65",
            "count": 10
           },
           {
            "name": "151 others",
            "count": 575
           }
          ]
         }
        },
        {
         "name": "M.BRUTA",
         "dtype": "object",
         "stats": {
          "unique_count": 193,
          "nan_count": 0,
          "categories": [
           {
            "name": "-%",
            "count": 34
           },
           {
            "name": "100,00%",
            "count": 14
           },
           {
            "name": "191 others",
            "count": 572
           }
          ]
         }
        },
        {
         "name": "M.EBITDA",
         "dtype": "object",
         "stats": {
          "unique_count": 148,
          "nan_count": 0,
          "categories": [
           {
            "name": "-%",
            "count": 166
           },
           {
            "name": "28,14%",
            "count": 10
           },
           {
            "name": "146 others",
            "count": 444
           }
          ]
         }
        },
        {
         "name": "M.EBIT",
         "dtype": "object",
         "stats": {
          "unique_count": 195,
          "nan_count": 0,
          "categories": [
           {
            "name": "-%",
            "count": 34
           },
           {
            "name": "2,69%",
            "count": 7
           },
           {
            "name": "193 others",
            "count": 579
           }
          ]
         }
        },
        {
         "name": "M.LÍQUIDA",
         "dtype": "object",
         "stats": {
          "unique_count": 199,
          "nan_count": 0,
          "categories": [
           {
            "name": "-%",
            "count": 34
           },
           {
            "name": "2.221,70%",
            "count": 7
           },
           {
            "name": "197 others",
            "count": 579
           }
          ]
         }
        },
        {
         "name": "ROE",
         "dtype": "object",
         "stats": {
          "unique_count": 203,
          "nan_count": 0,
          "categories": [
           {
            "name": "6,08%",
            "count": 7
           },
           {
            "name": "8,85%",
            "count": 6
           },
           {
            "name": "201 others",
            "count": 607
           }
          ]
         }
        },
        {
         "name": "ROA",
         "dtype": "object",
         "stats": {
          "unique_count": 203,
          "nan_count": 0,
          "categories": [
           {
            "name": "0,32%",
            "count": 7
           },
           {
            "name": "2,72%",
            "count": 7
           },
           {
            "name": "201 others",
            "count": 606
           }
          ]
         }
        },
        {
         "name": "ROIC",
         "dtype": "object",
         "stats": {
          "unique_count": 191,
          "nan_count": 0,
          "categories": [
           {
            "name": "-%",
            "count": 55
           },
           {
            "name": "1,83%",
            "count": 7
           },
           {
            "name": "189 others",
            "count": 558
           }
          ]
         }
        },
        {
         "name": "GIRO ATIVOS",
         "dtype": "object",
         "stats": {
          "unique_count": 109,
          "nan_count": 0,
          "categories": [
           {
            "name": "0,00",
            "count": 44
           },
           {
            "name": "0,35",
            "count": 18
           },
           {
            "name": "107 others",
            "count": 558
           }
          ]
         }
        },
        {
         "name": "CAGR RECEITAS 5 ANOS",
         "dtype": "object",
         "stats": {
          "unique_count": 179,
          "nan_count": 0,
          "categories": [
           {
            "name": "-%",
            "count": 75
           },
           {
            "name": "-31,54%",
            "count": 7
           },
           {
            "name": "177 others",
            "count": 538
           }
          ]
         }
        },
        {
         "name": "CAGR LUCROS 5 ANOS",
         "dtype": "object",
         "stats": {
          "unique_count": 103,
          "nan_count": 0,
          "categories": [
           {
            "name": "-%",
            "count": 302
           },
           {
            "name": "9,39%",
            "count": 7
           },
           {
            "name": "101 others",
            "count": 311
           }
          ]
         }
        },
        {
         "name": "_deepnote_index_column",
         "dtype": "object"
        }
       ],
       "rows": [
        {
         "DY": "-%",
         "P/L": "-4,01",
         "PEG RATIO": "-0,01",
         "P/VP": "1,33",
         "EV/EBITDA": "11,45",
         "EV/EBIT": "-171,53",
         "P/EBITDA": "21,09",
         "P/EBIT": "-93,14",
         "VPA": "7,32",
         "P/ATIVO": "0,46",
         "LPA": "-2,42",
         "P/SR": "1,02",
         "P/CAP GIRO": "-3,57",
         "P/ATIVO CIRC.LIQ": "-0,54",
         "DÍVIDA LÍQUIDA/PL": "1,03",
         "DÍVIDA LÍQUIDA/EBITDA": "8,92",
         "DÍVIDA LÍQUIDA/EBIT": "-72,55",
         "PL/ATIVOS": "0,34",
         "PASSIVOS/ATIVOS": "0,65",
         "LIQUIDEZ CORRENTE": "0,55",
         "M.BRUTA": "30,29%",
         "M.EBITDA": "8,87%",
         "M.EBIT": "-1,09%",
         "M.LÍQUIDA": "-25,30%",
         "ROE": "-33,11%",
         "ROA": "-11,37%",
         "ROIC": "-1,98%",
         "GIRO ATIVOS": "0,45",
         "CAGR RECEITAS 5 ANOS": "0,13%",
         "CAGR LUCROS 5 ANOS": "-%",
         "_deepnote_index_column": "AALR3"
        },
        {
         "DY": "8,78%",
         "P/L": "5,14",
         "PEG RATIO": "0,35",
         "P/VP": "0,74",
         "EV/EBITDA": "-",
         "EV/EBIT": "3,94",
         "P/EBITDA": "-",
         "P/EBIT": "3,94",
         "VPA": "23,98",
         "P/ATIVO": "0,07",
         "LPA": "3,48",
         "P/SR": "0,99",
         "P/CAP GIRO": "3,26",
         "P/ATIVO CIRC.LIQ": "-0,08",
         "DÍVIDA LÍQUIDA/PL": "-",
         "DÍVIDA LÍQUIDA/EBITDA": "-",
         "DÍVIDA LÍQUIDA/EBIT": "-",
         "PL/ATIVOS": "0,10",
         "PASSIVOS/ATIVOS": "0,90",
         "LIQUIDEZ CORRENTE": "1,50",
         "M.BRUTA": "31,62%",
         "M.EBITDA": "-%",
         "M.EBIT": "25,25%",
         "M.LÍQUIDA": "19,35%",
         "ROE": "14,50%",
         "ROA": "1,45%",
         "ROIC": "-%",
         "GIRO ATIVOS": "0,07",
         "CAGR RECEITAS 5 ANOS": "18,70%",
         "CAGR LUCROS 5 ANOS": "12,95%",
         "_deepnote_index_column": "ABCB4"
        },
        {
         "DY": "5,44%",
         "P/L": "15,47",
         "PEG RATIO": "2,85",
         "P/VP": "2,60",
         "EV/EBITDA": "9,14",
         "EV/EBIT": "11,72",
         "P/EBITDA": "8,62",
         "P/EBIT": "12,42",
         "VPA": "5,40",
         "P/ATIVO": "1,66",
         "LPA": "0,91",
         "P/SR": "2,67",
         "P/CAP GIRO": "1.091,60",
         "P/ATIVO CIRC.LIQ": "-2,23",
         "DÍVIDA LÍQUIDA/PL": "-0,10",
         "DÍVIDA LÍQUIDA/EBITDA": "-0,35",
         "DÍVIDA LÍQUIDA/EBIT": "-0,47",
         "PL/ATIVOS": "0,64",
         "PASSIVOS/ATIVOS": "0,35",
         "LIQUIDEZ CORRENTE": "1,01",
         "M.BRUTA": "49,95%",
         "M.EBITDA": "29,22%",
         "M.EBIT": "21,50%",
         "M.LÍQUIDA": "17,26%",
         "ROE": "16,78%",
         "ROA": "10,71%",
         "ROIC": "18,20%",
         "GIRO ATIVOS": "0,62",
         "CAGR RECEITAS 5 ANOS": "10,72%",
         "CAGR LUCROS 5 ANOS": "14,46%",
         "_deepnote_index_column": "ABEV3"
        },
        {
         "DY": "-%",
         "P/L": "-4,09",
         "PEG RATIO": "-0,58",
         "P/VP": "-1,29",
         "EV/EBITDA": "-",
         "EV/EBIT": "-5,69",
         "P/EBITDA": "-",
         "P/EBIT": "-5,69",
         "VPA": "-1,21",
         "P/ATIVO": "105,12",
         "LPA": "-0,38",
         "P/SR": "770,90",
         "P/CAP GIRO": "-1,43",
         "P/ATIVO CIRC.LIQ": "-116,16",
         "DÍVIDA LÍQUIDA/PL": "-",
         "DÍVIDA LÍQUIDA/EBITDA": "-",
         "DÍVIDA LÍQUIDA/EBIT": "0,00",
         "PL/ATIVOS": "-81,72",
         "PASSIVOS/ATIVOS": "82,72",
         "LIQUIDEZ CORRENTE": "0,00",
         "M.BRUTA": "100,00%",
         "M.EBITDA": "-%",
         "M.EBIT": "-13.548,48%",
         "M.LÍQUIDA": "-18.860,61%",
         "ROE": "-31,47%",
         "ROA": "-2.571,90%",
         "ROIC": "22,61%",
         "GIRO ATIVOS": "0,14",
         "CAGR RECEITAS 5 ANOS": "-%",
         "CAGR LUCROS 5 ANOS": "-%",
         "_deepnote_index_column": "ADHM3"
        },
        {
         "DY": "-%",
         "P/L": "-7,33",
         "PEG RATIO": "0,00",
         "P/VP": "0,93",
         "EV/EBITDA": "2,36",
         "EV/EBIT": "6,16",
         "P/EBITDA": "5,17",
         "P/EBIT": "2,81",
         "VPA": "1,10",
         "P/ATIVO": "0,25",
         "LPA": "-0,14",
         "P/SR": "0,26",
         "P/CAP GIRO": "1,03",
         "P/ATIVO CIRC.LIQ": "-0,63",
         "DÍVIDA LÍQUIDA/PL": "1,11",
         "DÍVIDA LÍQUIDA/EBITDA": "2,83",
         "DÍVIDA LÍQUIDA/EBIT": "3,38",
         "PL/ATIVOS": "0,27",
         "PASSIVOS/ATIVOS": "0,73",
         "LIQUIDEZ CORRENTE": "1,63",
         "M.BRUTA": "13,03%",
         "M.EBITDA": "11,17%",
         "M.EBIT": "9,37%",
         "M.LÍQUIDA": "-3,59%",
         "ROE": "-12,65%",
         "ROA": "-3,35%",
         "ROIC": "9,83%",
         "GIRO ATIVOS": "0,93",
         "CAGR RECEITAS 5 ANOS": "-%",
         "CAGR LUCROS 5 ANOS": "-%",
         "_deepnote_index_column": "AERI3"
        },
        {
         "DY": "-%",
         "P/L": "47,29",
         "PEG RATIO": "-0,68",
         "P/VP": "1,56",
         "EV/EBITDA": "-",
         "EV/EBIT": "17,88",
         "P/EBITDA": "-",
         "P/EBIT": "8,08",
         "VPA": "7,32",
         "P/ATIVO": "0,34",
         "LPA": "0,24",
         "P/SR": "2,21",
         "P/CAP GIRO": "4,07",
         "P/ATIVO CIRC.LIQ": "-0,44",
         "DÍVIDA LÍQUIDA/PL": "1,89",
         "DÍVIDA LÍQUIDA/EBITDA": "-",
         "DÍVIDA LÍQUIDA/EBIT": "9,82",
         "PL/ATIVOS": "0,22",
         "PASSIVOS/ATIVOS": "0,73",
         "LIQUIDEZ CORRENTE": "1,64",
         "M.BRUTA": "34,55%",
         "M.EBITDA": "-%",
         "M.EBIT": "27,40%",
         "M.LÍQUIDA": "4,68%",
         "ROE": "3,29%",
         "ROA": "0,73%",
         "ROIC": "4,29%",
         "GIRO ATIVOS": "0,16",
         "CAGR RECEITAS 5 ANOS": "-%",
         "CAGR LUCROS 5 ANOS": "-%",
         "_deepnote_index_column": "AESB3"
        },
        {
         "DY": "2,81%",
         "P/L": "15,04",
         "PEG RATIO": "-0,24",
         "P/VP": "2,18",
         "EV/EBITDA": "-",
         "EV/EBIT": "14,81",
         "P/EBITDA": "-",
         "P/EBIT": "14,73",
         "VPA": "4,30",
         "P/ATIVO": "1,91",
         "LPA": "0,62",
         "P/SR": "7,36",
         "P/CAP GIRO": "10,13",
         "P/ATIVO CIRC.LIQ": "-2,54",
         "DÍVIDA LÍQUIDA/PL": "-0,07",
         "DÍVIDA LÍQUIDA/EBITDA": "-",
         "DÍVIDA LÍQUIDA/EBIT": "-0,47",
         "PL/ATIVOS": "0,88",
         "PASSIVOS/ATIVOS": "0,12",
         "LIQUIDEZ CORRENTE": "4,34",
         "M.BRUTA": "59,73%",
         "M.EBITDA": "-%",
         "M.EBIT": "49,97%",
         "M.LÍQUIDA": "48,96%",
         "ROE": "14,46%",
         "ROA": "12,72%",
         "ROIC": "13,28%",
         "GIRO ATIVOS": "0,26",
         "CAGR RECEITAS 5 ANOS": "24,96%",
         "CAGR LUCROS 5 ANOS": "25,66%",
         "_deepnote_index_column": "AFLT3"
        },
        {
         "DY": "13,28%",
         "P/L": "43,85",
         "PEG RATIO": "-0,47",
         "P/VP": "1,23",
         "EV/EBITDA": "-",
         "EV/EBIT": "50,64",
         "P/EBITDA": "-",
         "P/EBIT": "40,20",
         "VPA": "19,91",
         "P/ATIVO": "0,75",
         "LPA": "0,56",
         "P/SR": "2,16",
         "P/CAP GIRO": "3,30",
         "P/ATIVO CIRC.LIQ": "-1,27",
         "DÍVIDA LÍQUIDA/PL": "0,32",
         "DÍVIDA LÍQUIDA/EBITDA": "-",
         "DÍVIDA LÍQUIDA/EBIT": "10,60",
         "PL/ATIVOS": "0,61",
         "PASSIVOS/ATIVOS": "0,39",
         "LIQUIDEZ CORRENTE": "2,25",
         "M.BRUTA": "14,46%",
         "M.EBITDA": "-%",
         "M.EBIT": "5,37%",
         "M.LÍQUIDA": "4,93%",
         "ROE": "2,79%",
         "ROA": "1,71%",
         "ROIC": "1,65%",
         "GIRO ATIVOS": "0,35",
         "CAGR RECEITAS 5 ANOS": "59,78%",
         "CAGR LUCROS 5 ANOS": "15,83%",
         "_deepnote_index_column": "AGRO3"
        },
        {
         "DY": "0,81%",
         "P/L": "-4,28",
         "PEG RATIO": "0,00",
         "P/VP": "0,80",
         "EV/EBITDA": "1,50",
         "EV/EBIT": "4,11",
         "P/EBITDA": "3,17",
         "P/EBIT": "1,94",
         "VPA": "6,18",
         "P/ATIVO": "0,10",
         "LPA": "-1,15",
         "P/SR": "0,08",
         "P/CAP GIRO": "1,72",
         "P/ATIVO CIRC.LIQ": "-0,46",
         "DÍVIDA LÍQUIDA/PL": "0,88",
         "DÍVIDA LÍQUIDA/EBITDA": "1,66",
         "DÍVIDA LÍQUIDA/EBIT": "2,15",
         "PL/ATIVOS": "0,12",
         "PASSIVOS/ATIVOS": "0,88",
         "LIQUIDEZ CORRENTE": "1,08",
         "M.BRUTA": "12,38%",
         "M.EBITDA": "5,05%",
         "M.EBIT": "3,90%",
         "M.LÍQUIDA": "-1,77%",
         "ROE": "-18,62%",
         "ROA": "-2,24%",
         "ROIC": "13,29%",
         "GIRO ATIVOS": "1,27",
         "CAGR RECEITAS 5 ANOS": "-%",
         "CAGR LUCROS 5 ANOS": "-%",
         "_deepnote_index_column": "AGXY3"
        },
        {
         "DY": "-%",
         "P/L": "2,52",
         "PEG RATIO": "-0,01",
         "P/VP": "22,00",
         "EV/EBITDA": "1,77",
         "EV/EBIT": "1,54",
         "P/EBITDA": "1,46",
         "P/EBIT": "1,87",
         "VPA": "1,00",
         "P/ATIVO": "0,51",
         "LPA": "8,77",
         "P/SR": "0,40",
         "P/CAP GIRO": "3,85",
         "P/ATIVO CIRC.LIQ": "-0,89",
         "DÍVIDA LÍQUIDA/PL": "-3,79",
         "DÍVIDA LÍQUIDA/EBITDA": "-0,30",
         "DÍVIDA LÍQUIDA/EBIT": "-0,32",
         "PL/ATIVOS": "0,02",
         "PASSIVOS/ATIVOS": "0,98",
         "LIQUIDEZ CORRENTE": "1,46",
         "M.BRUTA": "35,19%",
         "M.EBITDA": "22,72%",
         "M.EBIT": "21,45%",
         "M.LÍQUIDA": "15,93%",
         "ROE": "873,55%",
         "ROA": "20,39%",
         "ROIC": "683,71%",
         "GIRO ATIVOS": "1,28",
         "CAGR RECEITAS 5 ANOS": "20,77%",
         "CAGR LUCROS 5 ANOS": "-%",
         "_deepnote_index_column": "AHEB3"
        }
       ]
      },
      "text/plain": "          DY     P/L PEG RATIO   P/VP EV/EBITDA  EV/EBIT P/EBITDA  P/EBIT  \\\nAALR3     -%   -4,01     -0,01   1,33     11,45  -171,53    21,09  -93,14   \nABCB4  8,78%    5,14      0,35   0,74         -     3,94        -    3,94   \nABEV3  5,44%   15,47      2,85   2,60      9,14    11,72     8,62   12,42   \nADHM3     -%   -4,09     -0,58  -1,29         -    -5,69        -   -5,69   \nAERI3     -%   -7,33      0,00   0,93      2,36     6,16     5,17    2,81   \n...      ...     ...       ...    ...       ...      ...      ...     ...   \nWIZC3  1,60%   33,43      1,56  10,28     25,16    27,43    24,80   27,83   \nWLMM3  3,30%    7,69      0,63   1,33      5,43     7,12     6,94    5,58   \nWLMM4  3,30%    7,69      0,63   1,33      5,43     7,12     6,94    5,58   \nYDUQ3  3,30%    7,69      0,63   1,33      5,43     7,12     6,94    5,58   \nZAMP3     -%  -14,65     -0,33   1,19      4,84    27,17     6,84   19,21   \n\n         VPA P/ATIVO  ...  M.BRUTA M.EBITDA       M.EBIT    M.LÍQUIDA  \\\nAALR3   7,32    0,46  ...   30,29%    8,87%       -1,09%      -25,30%   \nABCB4  23,98    0,07  ...   31,62%       -%       25,25%       19,35%   \nABEV3   5,40    1,66  ...   49,95%   29,22%       21,50%       17,26%   \nADHM3  -1,21  105,12  ...  100,00%       -%  -13.548,48%  -18.860,61%   \nAERI3   1,10    0,25  ...   13,03%   11,17%        9,37%       -3,59%   \n...      ...     ...  ...      ...      ...          ...          ...   \nWIZC3   3,54    5,28  ...   30,38%   19,74%       17,84%       14,85%   \nWLMM3  17,94    0,92  ...   12,56%    7,24%        7,05%        5,11%   \nWLMM4  17,94    0,92  ...   12,56%    7,24%        7,05%        5,11%   \nYDUQ3  17,94    0,92  ...   12,56%    7,24%        7,05%        5,11%   \nZAMP3   4,97    0,41  ...   64,96%    8,93%        2,25%       -2,95%   \n\n           ROE         ROA    ROIC GIRO ATIVOS CAGR RECEITAS 5 ANOS  \\\nAALR3  -33,11%     -11,37%  -1,98%        0,45                0,13%   \nABCB4   14,50%       1,45%      -%        0,07               18,70%   \nABEV3   16,78%      10,71%  18,20%        0,62               10,72%   \nADHM3  -31,47%  -2.571,90%  22,61%        0,14                   -%   \nAERI3  -12,65%      -3,35%   9,83%        0,93                   -%   \n...        ...         ...     ...         ...                  ...   \nWIZC3   30,74%      15,81%  24,36%        1,06               25,71%   \nWLMM3   17,35%      12,01%  13,80%        2,35               32,16%   \nWLMM4   17,35%      12,01%  13,80%        2,35               32,16%   \nYDUQ3   17,35%      12,01%  13,80%        2,35               32,16%   \nZAMP3   -8,15%      -2,77%   2,35%        0,94               15,36%   \n\n      CAGR LUCROS 5 ANOS  \nAALR3                 -%  \nABCB4             12,95%  \nABEV3             14,46%  \nADHM3                 -%  \nAERI3                 -%  \n...                  ...  \nWIZC3             31,96%  \nWLMM3                 -%  \nWLMM4                 -%  \nYDUQ3                 -%  \nZAMP3                 -%  \n\n[620 rows x 30 columns]",
      "text/html": "<div>\n<style scoped>\n    .dataframe tbody tr th:only-of-type {\n        vertical-align: middle;\n    }\n\n    .dataframe tbody tr th {\n        vertical-align: top;\n    }\n\n    .dataframe thead th {\n        text-align: right;\n    }\n</style>\n<table border=\"1\" class=\"dataframe\">\n  <thead>\n    <tr style=\"text-align: right;\">\n      <th></th>\n      <th>DY</th>\n      <th>P/L</th>\n      <th>PEG RATIO</th>\n      <th>P/VP</th>\n      <th>EV/EBITDA</th>\n      <th>EV/EBIT</th>\n      <th>P/EBITDA</th>\n      <th>P/EBIT</th>\n      <th>VPA</th>\n      <th>P/ATIVO</th>\n      <th>...</th>\n      <th>M.BRUTA</th>\n      <th>M.EBITDA</th>\n      <th>M.EBIT</th>\n      <th>M.LÍQUIDA</th>\n      <th>ROE</th>\n      <th>ROA</th>\n      <th>ROIC</th>\n      <th>GIRO ATIVOS</th>\n      <th>CAGR RECEITAS 5 ANOS</th>\n      <th>CAGR LUCROS 5 ANOS</th>\n    </tr>\n  </thead>\n  <tbody>\n    <tr>\n      <th>AALR3</th>\n      <td>-%</td>\n      <td>-4,01</td>\n      <td>-0,01</td>\n      <td>1,33</td>\n      <td>11,45</td>\n      <td>-171,53</td>\n      <td>21,09</td>\n      <td>-93,14</td>\n      <td>7,32</td>\n      <td>0,46</td>\n      <td>...</td>\n      <td>30,29%</td>\n      <td>8,87%</td>\n      <td>-1,09%</td>\n      <td>-25,30%</td>\n      <td>-33,11%</td>\n      <td>-11,37%</td>\n      <td>-1,98%</td>\n      <td>0,45</td>\n      <td>0,13%</td>\n      <td>-%</td>\n    </tr>\n    <tr>\n      <th>ABCB4</th>\n      <td>8,78%</td>\n      <td>5,14</td>\n      <td>0,35</td>\n      <td>0,74</td>\n      <td>-</td>\n      <td>3,94</td>\n      <td>-</td>\n      <td>3,94</td>\n      <td>23,98</td>\n      <td>0,07</td>\n      <td>...</td>\n      <td>31,62%</td>\n      <td>-%</td>\n      <td>25,25%</td>\n      <td>19,35%</td>\n      <td>14,50%</td>\n      <td>1,45%</td>\n      <td>-%</td>\n      <td>0,07</td>\n      <td>18,70%</td>\n      <td>12,95%</td>\n    </tr>\n    <tr>\n      <th>ABEV3</th>\n      <td>5,44%</td>\n      <td>15,47</td>\n      <td>2,85</td>\n      <td>2,60</td>\n      <td>9,14</td>\n      <td>11,72</td>\n      <td>8,62</td>\n      <td>12,42</td>\n      <td>5,40</td>\n      <td>1,66</td>\n      <td>...</td>\n      <td>49,95%</td>\n      <td>29,22%</td>\n      <td>21,50%</td>\n      <td>17,26%</td>\n      <td>16,78%</td>\n      <td>10,71%</td>\n      <td>18,20%</td>\n      <td>0,62</td>\n      <td>10,72%</td>\n      <td>14,46%</td>\n    </tr>\n    <tr>\n      <th>ADHM3</th>\n      <td>-%</td>\n      <td>-4,09</td>\n      <td>-0,58</td>\n      <td>-1,29</td>\n      <td>-</td>\n      <td>-5,69</td>\n      <td>-</td>\n      <td>-5,69</td>\n      <td>-1,21</td>\n      <td>105,12</td>\n      <td>...</td>\n      <td>100,00%</td>\n      <td>-%</td>\n      <td>-13.548,48%</td>\n      <td>-18.860,61%</td>\n      <td>-31,47%</td>\n      <td>-2.571,90%</td>\n      <td>22,61%</td>\n      <td>0,14</td>\n      <td>-%</td>\n      <td>-%</td>\n    </tr>\n    <tr>\n      <th>AERI3</th>\n      <td>-%</td>\n      <td>-7,33</td>\n      <td>0,00</td>\n      <td>0,93</td>\n      <td>2,36</td>\n      <td>6,16</td>\n      <td>5,17</td>\n      <td>2,81</td>\n      <td>1,10</td>\n      <td>0,25</td>\n      <td>...</td>\n      <td>13,03%</td>\n      <td>11,17%</td>\n      <td>9,37%</td>\n      <td>-3,59%</td>\n      <td>-12,65%</td>\n      <td>-3,35%</td>\n      <td>9,83%</td>\n      <td>0,93</td>\n      <td>-%</td>\n      <td>-%</td>\n    </tr>\n    <tr>\n      <th>...</th>\n      <td>...</td>\n      <td>...</td>\n      <td>...</td>\n      <td>...</td>\n      <td>...</td>\n      <td>...</td>\n      <td>...</td>\n      <td>...</td>\n      <td>...</td>\n      <td>...</td>\n      <td>...</td>\n      <td>...</td>\n      <td>...</td>\n      <td>...</td>\n      <td>...</td>\n      <td>...</td>\n      <td>...</td>\n      <td>...</td>\n      <td>...</td>\n      <td>...</td>\n      <td>...</td>\n    </tr>\n    <tr>\n      <th>WIZC3</th>\n      <td>1,60%</td>\n      <td>33,43</td>\n      <td>1,56</td>\n      <td>10,28</td>\n      <td>25,16</td>\n      <td>27,43</td>\n      <td>24,80</td>\n      <td>27,83</td>\n      <td>3,54</td>\n      <td>5,28</td>\n      <td>...</td>\n      <td>30,38%</td>\n      <td>19,74%</td>\n      <td>17,84%</td>\n      <td>14,85%</td>\n      <td>30,74%</td>\n      <td>15,81%</td>\n      <td>24,36%</td>\n      <td>1,06</td>\n      <td>25,71%</td>\n      <td>31,96%</td>\n    </tr>\n    <tr>\n      <th>WLMM3</th>\n      <td>3,30%</td>\n      <td>7,69</td>\n      <td>0,63</td>\n      <td>1,33</td>\n      <td>5,43</td>\n      <td>7,12</td>\n      <td>6,94</td>\n      <td>5,58</td>\n      <td>17,94</td>\n      <td>0,92</td>\n      <td>...</td>\n      <td>12,56%</td>\n      <td>7,24%</td>\n      <td>7,05%</td>\n      <td>5,11%</td>\n      <td>17,35%</td>\n      <td>12,01%</td>\n      <td>13,80%</td>\n      <td>2,35</td>\n      <td>32,16%</td>\n      <td>-%</td>\n    </tr>\n    <tr>\n      <th>WLMM4</th>\n      <td>3,30%</td>\n      <td>7,69</td>\n      <td>0,63</td>\n      <td>1,33</td>\n      <td>5,43</td>\n      <td>7,12</td>\n      <td>6,94</td>\n      <td>5,58</td>\n      <td>17,94</td>\n      <td>0,92</td>\n      <td>...</td>\n      <td>12,56%</td>\n      <td>7,24%</td>\n      <td>7,05%</td>\n      <td>5,11%</td>\n      <td>17,35%</td>\n      <td>12,01%</td>\n      <td>13,80%</td>\n      <td>2,35</td>\n      <td>32,16%</td>\n      <td>-%</td>\n    </tr>\n    <tr>\n      <th>YDUQ3</th>\n      <td>3,30%</td>\n      <td>7,69</td>\n      <td>0,63</td>\n      <td>1,33</td>\n      <td>5,43</td>\n      <td>7,12</td>\n      <td>6,94</td>\n      <td>5,58</td>\n      <td>17,94</td>\n      <td>0,92</td>\n      <td>...</td>\n      <td>12,56%</td>\n      <td>7,24%</td>\n      <td>7,05%</td>\n      <td>5,11%</td>\n      <td>17,35%</td>\n      <td>12,01%</td>\n      <td>13,80%</td>\n      <td>2,35</td>\n      <td>32,16%</td>\n      <td>-%</td>\n    </tr>\n    <tr>\n      <th>ZAMP3</th>\n      <td>-%</td>\n      <td>-14,65</td>\n      <td>-0,33</td>\n      <td>1,19</td>\n      <td>4,84</td>\n      <td>27,17</td>\n      <td>6,84</td>\n      <td>19,21</td>\n      <td>4,97</td>\n      <td>0,41</td>\n      <td>...</td>\n      <td>64,96%</td>\n      <td>8,93%</td>\n      <td>2,25%</td>\n      <td>-2,95%</td>\n      <td>-8,15%</td>\n      <td>-2,77%</td>\n      <td>2,35%</td>\n      <td>0,94</td>\n      <td>15,36%</td>\n      <td>-%</td>\n    </tr>\n  </tbody>\n</table>\n<p>620 rows × 30 columns</p>\n</div>"
     },
     "metadata": {}
    }
   ]
  },
  {
   "cell_type": "markdown",
   "source": [
    "<a style='text-decoration:none;line-height:16px;display:flex;color:#5B5B62;padding:10px;justify-content:end;' href='https://deepnote.com?utm_source=created-in-deepnote-cell&projectId=660cb8e4-2684-411b-b5a3-8477913f2bb2' target=\"_blank\">\n",
    "<img alt='Created in deepnote.com' style='display:inline;max-height:16px;margin:0px;margin-right:7.5px;' src='data:image/svg+xml;base64,PD94bWwgdmVyc2lvbj0iMS4wIiBlbmNvZGluZz0iVVRGLTgiPz4KPHN2ZyB3aWR0aD0iODBweCIgaGVpZ2h0PSI4MHB4IiB2aWV3Qm94PSIwIDAgODAgODAiIHZlcnNpb249IjEuMSIgeG1sbnM9Imh0dHA6Ly93d3cudzMub3JnLzIwMDAvc3ZnIiB4bWxuczp4bGluaz0iaHR0cDovL3d3dy53My5vcmcvMTk5OS94bGluayI+CiAgICA8IS0tIEdlbmVyYXRvcjogU2tldGNoIDU0LjEgKDc2NDkwKSAtIGh0dHBzOi8vc2tldGNoYXBwLmNvbSAtLT4KICAgIDx0aXRsZT5Hcm91cCAzPC90aXRsZT4KICAgIDxkZXNjPkNyZWF0ZWQgd2l0aCBTa2V0Y2guPC9kZXNjPgogICAgPGcgaWQ9IkxhbmRpbmciIHN0cm9rZT0ibm9uZSIgc3Ryb2tlLXdpZHRoPSIxIiBmaWxsPSJub25lIiBmaWxsLXJ1bGU9ImV2ZW5vZGQiPgogICAgICAgIDxnIGlkPSJBcnRib2FyZCIgdHJhbnNmb3JtPSJ0cmFuc2xhdGUoLTEyMzUuMDAwMDAwLCAtNzkuMDAwMDAwKSI+CiAgICAgICAgICAgIDxnIGlkPSJHcm91cC0zIiB0cmFuc2Zvcm09InRyYW5zbGF0ZSgxMjM1LjAwMDAwMCwgNzkuMDAwMDAwKSI+CiAgICAgICAgICAgICAgICA8cG9seWdvbiBpZD0iUGF0aC0yMCIgZmlsbD0iIzAyNjVCNCIgcG9pbnRzPSIyLjM3NjIzNzYyIDgwIDM4LjA0NzY2NjcgODAgNTcuODIxNzgyMiA3My44MDU3NTkyIDU3LjgyMTc4MjIgMzIuNzU5MjczOSAzOS4xNDAyMjc4IDMxLjY4MzE2ODMiPjwvcG9seWdvbj4KICAgICAgICAgICAgICAgIDxwYXRoIGQ9Ik0zNS4wMDc3MTgsODAgQzQyLjkwNjIwMDcsNzYuNDU0OTM1OCA0Ny41NjQ5MTY3LDcxLjU0MjI2NzEgNDguOTgzODY2LDY1LjI2MTk5MzkgQzUxLjExMjI4OTksNTUuODQxNTg0MiA0MS42NzcxNzk1LDQ5LjIxMjIyODQgMjUuNjIzOTg0Niw0OS4yMTIyMjg0IEMyNS40ODQ5Mjg5LDQ5LjEyNjg0NDggMjkuODI2MTI5Niw0My4yODM4MjQ4IDM4LjY0NzU4NjksMzEuNjgzMTY4MyBMNzIuODcxMjg3MSwzMi41NTQ0MjUgTDY1LjI4MDk3Myw2Ny42NzYzNDIxIEw1MS4xMTIyODk5LDc3LjM3NjE0NCBMMzUuMDA3NzE4LDgwIFoiIGlkPSJQYXRoLTIyIiBmaWxsPSIjMDAyODY4Ij48L3BhdGg+CiAgICAgICAgICAgICAgICA8cGF0aCBkPSJNMCwzNy43MzA0NDA1IEwyNy4xMTQ1MzcsMC4yNTcxMTE0MzYgQzYyLjM3MTUxMjMsLTEuOTkwNzE3MDEgODAsMTAuNTAwMzkyNyA4MCwzNy43MzA0NDA1IEM4MCw2NC45NjA0ODgyIDY0Ljc3NjUwMzgsNzkuMDUwMzQxNCAzNC4zMjk1MTEzLDgwIEM0Ny4wNTUzNDg5LDc3LjU2NzA4MDggNTMuNDE4MjY3Nyw3MC4zMTM2MTAzIDUzLjQxODI2NzcsNTguMjM5NTg4NSBDNTMuNDE4MjY3Nyw0MC4xMjg1NTU3IDM2LjMwMzk1NDQsMzcuNzMwNDQwNSAyNS4yMjc0MTcsMzcuNzMwNDQwNSBDMTcuODQzMDU4NiwzNy43MzA0NDA1IDkuNDMzOTE5NjYsMzcuNzMwNDQwNSAwLDM3LjczMDQ0MDUgWiIgaWQ9IlBhdGgtMTkiIGZpbGw9IiMzNzkzRUYiPjwvcGF0aD4KICAgICAgICAgICAgPC9nPgogICAgICAgIDwvZz4KICAgIDwvZz4KPC9zdmc+' > </img>\n",
    "Created in <span style='font-weight:600;margin-left:4px;'>Deepnote</span></a>"
   ],
   "metadata": {
    "created_in_deepnote_cell": true,
    "deepnote_cell_type": "markdown"
   }
  }
 ],
 "nbformat": 4,
 "nbformat_minor": 0,
 "metadata": {
  "deepnote": {},
  "orig_nbformat": 2,
  "deepnote_full_width": false,
  "deepnote_notebook_id": "71ca81452f154b01b805d053b1f92e50",
  "deepnote_persisted_session": {
   "createdAt": "2023-08-23T23:46:28.264Z"
  },
  "deepnote_execution_queue": []
 }
}
