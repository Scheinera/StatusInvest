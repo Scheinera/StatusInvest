{
 "cells": [
  {
   "cell_type": "code",
   "execution_count": 1,
   "outputs": [],
   "source": [
    "import pandas as pd\n",
    "import numpy as np\n",
    "import matplotlib.pyplot as plt\n",
    "import time\n",
    "import dash\n",
    "import openpyxl\n",
    "import os\n",
    "from pathlib import Path\n",
    "from selenium import webdriver\n",
    "from selenium.webdriver.chrome.service import Service \n",
    "from webdriver_manager.chrome import ChromeDriverManager\n",
    "from selenium.webdriver.common.by import By\n",
    "from selenium.webdriver.support.ui import WebDriverWait\n",
    "from selenium.webdriver.support import expected_conditions as EC"
   ],
   "metadata": {
    "collapsed": false,
    "ExecuteTime": {
     "end_time": "2023-09-26T15:27:28.076621Z",
     "start_time": "2023-09-26T15:27:22.310395Z"
    }
   }
  },
  {
   "cell_type": "code",
   "execution_count": 2,
   "outputs": [
    {
     "name": "stdout",
     "output_type": "stream",
     "text": [
      "Source path renamed to destination path successfully.\n"
     ]
    }
   ],
   "source": [
    "#Instalando o driver\n",
    "servico = Service(ChromeDriverManager().install())\n",
    "\n",
    "#Abrindo o navegador\n",
    "navegador = webdriver.Chrome(service=servico)\n",
    "\n",
    "##Iniciando o processo dados\n",
    "navegador.get('https://statusinvest.com.br/fundos-imobiliarios/busca-avancada')\n",
    "time.sleep(2)\n",
    "navegador.find_element(By.XPATH, '//*[@id=\"main-2\"]/div[3]/div/div/div/button[2]').click()\n",
    "time.sleep(2)\n",
    "navegador.find_element(By.XPATH, '//*[@id=\"main-2\"]/div[4]/div/div[1]/div[2]/a/span').click()\n",
    "time.sleep(2)\n",
    "\n",
    "#Fecha o navegador\n",
    "navegador.quit()\n",
    "\n",
    "## Renomeia o arquivo e move para pasta desejada\n",
    "source = '/Users/scheiner/Downloads/statusinvest-busca-avancada.csv'\n",
    "dest = '/Users/scheiner/Documents/GitHub/StatusInvest/funds.csv'\n",
    "os.rename(source, dest) \n",
    "\n",
    "print(\"Source path renamed to destination path successfully.\")"
   ],
   "metadata": {
    "collapsed": false,
    "ExecuteTime": {
     "end_time": "2023-09-26T15:27:42.170286Z",
     "start_time": "2023-09-26T15:27:28.114847Z"
    }
   }
  },
  {
   "cell_type": "code",
   "execution_count": 3,
   "outputs": [
    {
     "data": {
      "text/plain": "26"
     },
     "execution_count": 3,
     "metadata": {},
     "output_type": "execute_result"
    }
   ],
   "source": [
    "fundinvest = pd.read_csv('funds.csv', sep=';',  decimal=',', thousands='.', encoding=\"utf-8\" )\n",
    "#fiis = pd.DataFrame(funds)\n",
    "\n",
    "\n",
    "fundinvest = fundinvest.loc[:, ['TICKER', 'PRECO', 'GESTAO' , 'DY', 'P/VP', 'PERCENTUAL EM CAIXA', \n",
    "                        'N COTISTAS', 'CAGR DIVIDENDOS 3 ANOS', ' CAGR VALOR CORA 3 ANOS', \n",
    "                        'LIQUIDEZ MEDIA DIARIA', 'PATRIMONIO', 'VALOR PATRIMONIAL COTA', \n",
    "                        ' N COTAS', 'ULTIMO DIVIDENDO']]\n",
    "\n",
    "fundinvest.fillna(value=0, inplace=True)\n",
    "\n",
    "fundinvest.rename(columns={'PERCENTUAL EM CAIXA': \"PERC_CX\" }, inplace=True)\n",
    "fundinvest.rename(columns={'CAGR DIVIDENDOS 3 ANOS': \"DY_CAGR_3ANOS\" }, inplace=True)\n",
    "fundinvest.rename(columns={' CAGR VALOR CORA 3 ANOS': \"VLR_CAGR_3ANOS\" }, inplace=True)\n",
    "fundinvest.rename(columns={'LIQUIDEZ MEDIA DIARIA': \"LIQ_DIARIA\" }, inplace=True)\n",
    "fundinvest.rename(columns={'VALOR PATRIMONIAL COTA': \"VLR_PATR_COTA\" }, inplace=True)\n",
    "fundinvest.rename(columns={'ULTIMO DIVIDENDO': \"ULT_DIV\" }, inplace=True)\n",
    "\n",
    "fundinvest.rename(columns={'TICKER': \"TICKERS\" }, inplace=True)\n",
    "\n",
    "\n",
    "fundinvest = fundinvest.loc[fundinvest['DY'] > 0].loc[\n",
    "    fundinvest['DY_CAGR_3ANOS'] >= 0.01].loc[\n",
    "    fundinvest['VLR_CAGR_3ANOS'] >= 0.01].loc[\n",
    "    fundinvest['N COTISTAS'] >= 1000].loc[\n",
    "    fundinvest['LIQ_DIARIA'] >= 100].loc[\n",
    "    fundinvest['ULT_DIV'] >= 0.1]\n",
    "\n",
    "len(fundinvest.index)"
   ],
   "metadata": {
    "collapsed": false,
    "ExecuteTime": {
     "end_time": "2023-09-26T15:27:42.331716Z",
     "start_time": "2023-09-26T15:27:42.178658Z"
    }
   }
  },
  {
   "cell_type": "code",
   "execution_count": 4,
   "outputs": [],
   "source": [
    "#Instalando o driver\n",
    "servico = Service(ChromeDriverManager().install())\n",
    "\n",
    "#Abrindo o navegador\n",
    "navegador = webdriver.Chrome(service=servico)\n",
    "\n",
    "ticker = fundinvest['TICKERS']\n",
    "list_funds = ticker.to_list()\n",
    "\n",
    "indicators_list_funds = []\n",
    "for funds in list_funds:\n",
    "\n",
    "    #Criando url\n",
    "    url = f\"https://statusinvest.com.br/fundos-imobiliarios/{funds}\"\n",
    "\n",
    "    \n",
    "    try:\n",
    "        #Abrindo o navegador\n",
    "        navegador.get(url)\n",
    "\n",
    "        time.sleep(0.25)\n",
    "    \n",
    "        #Coletando infos\n",
    "        NAME = navegador.find_element(By.XPATH, '//*[@id=\"main-header\"]/div[2]/div/div[1]/h1/small').text\n",
    "        MIN_MES = navegador.find_element(By.XPATH, '//*[@id=\"main-2\"]/div[2]/div[1]/div[2]/div/div[2]/div/span[2]').text\n",
    "        MAX_MES = navegador.find_element(By.XPATH, '//*[@id=\"main-2\"]/div[2]/div[1]/div[3]/div/div[2]/div/span[2]').text\n",
    "        MIN_52S = navegador.find_element(By.XPATH, '//*[@id=\"main-2\"]/div[2]/div[1]/div[2]/div/div[1]/strong').text\n",
    "        MAX_52S = navegador.find_element(By.XPATH, '//*[@id=\"main-2\"]/div[2]/div[1]/div[3]/div/div[1]/strong').text\n",
    "        GAIN_12M = navegador.find_element(By.XPATH, '//*[@id=\"main-2\"]/div[2]/div[1]/div[5]/div/div[1]/strong').text\n",
    "        GAIN_MES = navegador.find_element(By.XPATH, '//*[@id=\"main-2\"]/div[2]/div[1]/div[5]/div/div[1]/strong').text\n",
    "        TIPO = navegador.find_element(By.XPATH, '//*[@id=\"fund-section\"]/div/div/div[2]/div/div[5]/div/div/div/strong').text\n",
    "        SEGMENTO = navegador.find_element(By.XPATH, '//*[@id=\"fund-section\"]/div/div/div[2]/div/div[6]/div/div/strong').text\n",
    "        \n",
    "        \n",
    "\n",
    "        #Criando dict\n",
    "        dicionario = {  \"funds\": funds,\n",
    "                        \"NAME\": NAME,\n",
    "                        \"MIN_MES\": MIN_MES, \n",
    "                        \"MAX_MES\": MAX_MES, \n",
    "                        \"MIN_52S\": MIN_52S, \n",
    "                        \"MAX_52S\": MAX_52S, \n",
    "                        \"VAL_12M\": GAIN_12M,\n",
    "                        \"VAL_MES\": GAIN_MES,\n",
    "                        \"TIPO\": TIPO,\n",
    "                        \"SEGMENTO\": SEGMENTO\n",
    "                        \n",
    "                        }\n",
    "\n",
    "        #Criando lista de dicts\n",
    "        indicators_list_funds.append(dicionario)\n",
    "    except Exception as e:\n",
    "        print(e)\n",
    "\n",
    "#Fecha o navegador\n",
    "navegador.quit()"
   ],
   "metadata": {
    "collapsed": false,
    "ExecuteTime": {
     "end_time": "2023-09-26T15:28:25.545822Z",
     "start_time": "2023-09-26T15:27:42.244684Z"
    }
   }
  },
  {
   "cell_type": "code",
   "execution_count": 5,
   "outputs": [
    {
     "data": {
      "text/plain": "   TICKERS                                    NAME  \\\n0   ARRI11      ÁTRIO REIT RECEBÍVEIS IMOBILIÁRIOS   \n1   BMLC11           BM BRASCAN LAJES CORPORATIVAS   \n2   BTCR11         BTG PACTUAL CRÉDITO IMOBILIÁRIO   \n3   EURO11                                 EUROPAR   \n4   FCFL11                       CAMPUS FARIA LIMA   \n5   FIGS11          GENERAL SHOPPING ATIVO E RENDA   \n9   HGPO11         CSHG PRIME OFFICES FDO INV IMOB   \n11  HSML11                   HSI MALL FDO INV IMOB   \n13  JRDM11                     SHOPPING JARDIM SUL   \n14  KNCR11          KINEA RENDIMENTOS IMOBILIÁRIOS   \n15  MALL11                     MALLS BRASIL PLURAL   \n16  NEWL11                       NEWPORT LOGÍSTICA   \n17  ONEF11                                 THE ONE   \n18  PLCR11        FDO INV. IMOB. PLURAL RECEBIVEIS   \n20  RBHG11       RIO BRAVO CREDITO IMOB HIGH GRADE   \n21  SADI11  SANTANDER PAPEIS IMOB CDI FDO INV IMOB   \n25  XPML11                                XP MALLS   \n\n                         SEGMENTO   GESTAO  N COTISTAS   PATRIMONIO  \\\n0   Títulos e Valores Mobiliários    Ativa      27.581   116.877384   \n1                         Híbrido    Ativa       1.493   110.584605   \n2   Títulos e Valores Mobiliários    Ativa      16.934   458.252684   \n3                       Logística  Passiva       2.429   124.873196   \n4                          Outros    Ativa       3.589   403.737700   \n5                       Shoppings  Passiva      14.961   217.182009   \n9              Lajes Corporativas  Passiva      16.426   524.198180   \n11                      Shoppings    Ativa     163.854  1500.114725   \n13                      Shoppings  Passiva       4.001   224.143181   \n14  Títulos e Valores Mobiliários    Ativa     272.678  5764.202758   \n15                      Shoppings    Ativa     129.196  1093.206451   \n16                        Híbrido    Ativa       3.677   279.049927   \n17             Lajes Corporativas  Passiva       2.736   209.521663   \n18  Títulos e Valores Mobiliários    Ativa      16.361   195.237870   \n20  Títulos e Valores Mobiliários    Ativa       9.587   158.472293   \n21  Títulos e Valores Mobiliários    Ativa      10.064   148.668633   \n25                      Shoppings    Ativa     357.599  3462.052426   \n\n      N COTAS  VLR_PATR_COTA  UP/DOWNSIDE   PRECO  ...  MIN_52S  MAX_52S  \\\n0   13056.237           8.95     0.005618    8.90  ...     8.06     9.43   \n1     998.405         110.76     0.054857  105.00  ...    98.00   108.99   \n2    4810.097          95.27     0.082614   88.00  ...    85.45    97.79   \n3     383.936         325.24     0.332951  244.00  ...   218.31   250.00   \n4    3474.010         116.22     0.004494  115.70  ...    98.92   125.97   \n5    2850.000          76.20     0.176834   64.75  ...    45.57    65.12   \n9    1753.057         299.02     0.093349  273.49  ...   238.00   297.00   \n11  15780.613          95.06     0.011492   93.98  ...    74.09    96.92   \n13   2522.968          88.84     0.034226   85.90  ...    76.56    87.93   \n14  57097.087         100.95     0.013656   99.59  ...    93.00   102.40   \n15   9124.659         119.81     0.030712  116.24  ...    97.02   119.69   \n16   2033.099         137.25     0.300948  105.50  ...    91.88   115.00   \n17    911.000         229.99     0.150008  199.99  ...   162.00   204.00   \n18   2109.169          92.57     0.004340   92.17  ...    82.22    92.88   \n20   1727.582          91.73     0.023887   89.59  ...    79.99    90.89   \n21   1548.684          96.00     0.104845   86.89  ...    80.00    92.42   \n25  30822.213         112.32     0.014268  110.74  ...    93.96   114.66   \n\n    VAL_12M  ULT_DIV     DY  DY_CAGR_3ANOS  P/VP  PERC_CX  VLR_CAGR_3ANOS  \\\n0     -1.55     0.10  15.15           3.73  1.00     2.63            0.26   \n1      5.00     0.76  11.53          20.48  0.95    17.27            4.22   \n2     -5.46     0.90   2.05          32.78  0.92     8.00            1.52   \n3      6.14     1.88   9.16          10.36  0.75     1.54            3.89   \n4     -3.08     0.81   8.18           8.46  1.00     0.68            0.29   \n5     12.86     0.45   7.98          23.87  0.85     1.01            1.44   \n9      4.93     1.60   7.05          13.65  0.91     0.58            6.79   \n11    -0.29     0.74   9.18          21.13  0.99     4.33            0.52   \n13     0.47     0.40   7.36          28.90  0.97     0.41            4.07   \n14    -1.77     1.20  13.81          49.84  0.99     5.56            3.40   \n15     6.42     0.85   8.15          15.68  0.97     2.11            8.12   \n16     3.22     0.95  11.31           4.39  0.77     2.82            0.98   \n17    17.28     1.02   5.85          13.79  0.87     0.99           10.20   \n18     7.42     1.00  13.27          10.38  1.00    13.46            3.56   \n20     1.92     1.05  14.35          18.90  0.98     6.44            2.71   \n21    -4.09     1.00  14.24          62.08  0.91     1.99            0.11   \n25     6.57     0.85   8.72          24.98  0.99    24.11            1.57   \n\n     LIQ_DIARIA  \n0     286279.18  \n1      33388.82  \n2     652774.65  \n3      36334.46  \n4     178924.54  \n5     188302.41  \n9     706113.97  \n11   2851309.82  \n13    610682.00  \n14  11711816.85  \n15   2860856.15  \n16    741775.03  \n17     37076.79  \n18    568135.82  \n20    273249.31  \n21    439506.15  \n25  14077393.41  \n\n[17 rows x 23 columns]",
      "text/html": "<div>\n<style scoped>\n    .dataframe tbody tr th:only-of-type {\n        vertical-align: middle;\n    }\n\n    .dataframe tbody tr th {\n        vertical-align: top;\n    }\n\n    .dataframe thead th {\n        text-align: right;\n    }\n</style>\n<table border=\"1\" class=\"dataframe\">\n  <thead>\n    <tr style=\"text-align: right;\">\n      <th></th>\n      <th>TICKERS</th>\n      <th>NAME</th>\n      <th>SEGMENTO</th>\n      <th>GESTAO</th>\n      <th>N COTISTAS</th>\n      <th>PATRIMONIO</th>\n      <th>N COTAS</th>\n      <th>VLR_PATR_COTA</th>\n      <th>UP/DOWNSIDE</th>\n      <th>PRECO</th>\n      <th>...</th>\n      <th>MIN_52S</th>\n      <th>MAX_52S</th>\n      <th>VAL_12M</th>\n      <th>ULT_DIV</th>\n      <th>DY</th>\n      <th>DY_CAGR_3ANOS</th>\n      <th>P/VP</th>\n      <th>PERC_CX</th>\n      <th>VLR_CAGR_3ANOS</th>\n      <th>LIQ_DIARIA</th>\n    </tr>\n  </thead>\n  <tbody>\n    <tr>\n      <th>0</th>\n      <td>ARRI11</td>\n      <td>ÁTRIO REIT RECEBÍVEIS IMOBILIÁRIOS</td>\n      <td>Títulos e Valores Mobiliários</td>\n      <td>Ativa</td>\n      <td>27.581</td>\n      <td>116.877384</td>\n      <td>13056.237</td>\n      <td>8.95</td>\n      <td>0.005618</td>\n      <td>8.90</td>\n      <td>...</td>\n      <td>8.06</td>\n      <td>9.43</td>\n      <td>-1.55</td>\n      <td>0.10</td>\n      <td>15.15</td>\n      <td>3.73</td>\n      <td>1.00</td>\n      <td>2.63</td>\n      <td>0.26</td>\n      <td>286279.18</td>\n    </tr>\n    <tr>\n      <th>1</th>\n      <td>BMLC11</td>\n      <td>BM BRASCAN LAJES CORPORATIVAS</td>\n      <td>Híbrido</td>\n      <td>Ativa</td>\n      <td>1.493</td>\n      <td>110.584605</td>\n      <td>998.405</td>\n      <td>110.76</td>\n      <td>0.054857</td>\n      <td>105.00</td>\n      <td>...</td>\n      <td>98.00</td>\n      <td>108.99</td>\n      <td>5.00</td>\n      <td>0.76</td>\n      <td>11.53</td>\n      <td>20.48</td>\n      <td>0.95</td>\n      <td>17.27</td>\n      <td>4.22</td>\n      <td>33388.82</td>\n    </tr>\n    <tr>\n      <th>2</th>\n      <td>BTCR11</td>\n      <td>BTG PACTUAL CRÉDITO IMOBILIÁRIO</td>\n      <td>Títulos e Valores Mobiliários</td>\n      <td>Ativa</td>\n      <td>16.934</td>\n      <td>458.252684</td>\n      <td>4810.097</td>\n      <td>95.27</td>\n      <td>0.082614</td>\n      <td>88.00</td>\n      <td>...</td>\n      <td>85.45</td>\n      <td>97.79</td>\n      <td>-5.46</td>\n      <td>0.90</td>\n      <td>2.05</td>\n      <td>32.78</td>\n      <td>0.92</td>\n      <td>8.00</td>\n      <td>1.52</td>\n      <td>652774.65</td>\n    </tr>\n    <tr>\n      <th>3</th>\n      <td>EURO11</td>\n      <td>EUROPAR</td>\n      <td>Logística</td>\n      <td>Passiva</td>\n      <td>2.429</td>\n      <td>124.873196</td>\n      <td>383.936</td>\n      <td>325.24</td>\n      <td>0.332951</td>\n      <td>244.00</td>\n      <td>...</td>\n      <td>218.31</td>\n      <td>250.00</td>\n      <td>6.14</td>\n      <td>1.88</td>\n      <td>9.16</td>\n      <td>10.36</td>\n      <td>0.75</td>\n      <td>1.54</td>\n      <td>3.89</td>\n      <td>36334.46</td>\n    </tr>\n    <tr>\n      <th>4</th>\n      <td>FCFL11</td>\n      <td>CAMPUS FARIA LIMA</td>\n      <td>Outros</td>\n      <td>Ativa</td>\n      <td>3.589</td>\n      <td>403.737700</td>\n      <td>3474.010</td>\n      <td>116.22</td>\n      <td>0.004494</td>\n      <td>115.70</td>\n      <td>...</td>\n      <td>98.92</td>\n      <td>125.97</td>\n      <td>-3.08</td>\n      <td>0.81</td>\n      <td>8.18</td>\n      <td>8.46</td>\n      <td>1.00</td>\n      <td>0.68</td>\n      <td>0.29</td>\n      <td>178924.54</td>\n    </tr>\n    <tr>\n      <th>5</th>\n      <td>FIGS11</td>\n      <td>GENERAL SHOPPING ATIVO E RENDA</td>\n      <td>Shoppings</td>\n      <td>Passiva</td>\n      <td>14.961</td>\n      <td>217.182009</td>\n      <td>2850.000</td>\n      <td>76.20</td>\n      <td>0.176834</td>\n      <td>64.75</td>\n      <td>...</td>\n      <td>45.57</td>\n      <td>65.12</td>\n      <td>12.86</td>\n      <td>0.45</td>\n      <td>7.98</td>\n      <td>23.87</td>\n      <td>0.85</td>\n      <td>1.01</td>\n      <td>1.44</td>\n      <td>188302.41</td>\n    </tr>\n    <tr>\n      <th>9</th>\n      <td>HGPO11</td>\n      <td>CSHG PRIME OFFICES FDO INV IMOB</td>\n      <td>Lajes Corporativas</td>\n      <td>Passiva</td>\n      <td>16.426</td>\n      <td>524.198180</td>\n      <td>1753.057</td>\n      <td>299.02</td>\n      <td>0.093349</td>\n      <td>273.49</td>\n      <td>...</td>\n      <td>238.00</td>\n      <td>297.00</td>\n      <td>4.93</td>\n      <td>1.60</td>\n      <td>7.05</td>\n      <td>13.65</td>\n      <td>0.91</td>\n      <td>0.58</td>\n      <td>6.79</td>\n      <td>706113.97</td>\n    </tr>\n    <tr>\n      <th>11</th>\n      <td>HSML11</td>\n      <td>HSI MALL FDO INV IMOB</td>\n      <td>Shoppings</td>\n      <td>Ativa</td>\n      <td>163.854</td>\n      <td>1500.114725</td>\n      <td>15780.613</td>\n      <td>95.06</td>\n      <td>0.011492</td>\n      <td>93.98</td>\n      <td>...</td>\n      <td>74.09</td>\n      <td>96.92</td>\n      <td>-0.29</td>\n      <td>0.74</td>\n      <td>9.18</td>\n      <td>21.13</td>\n      <td>0.99</td>\n      <td>4.33</td>\n      <td>0.52</td>\n      <td>2851309.82</td>\n    </tr>\n    <tr>\n      <th>13</th>\n      <td>JRDM11</td>\n      <td>SHOPPING JARDIM SUL</td>\n      <td>Shoppings</td>\n      <td>Passiva</td>\n      <td>4.001</td>\n      <td>224.143181</td>\n      <td>2522.968</td>\n      <td>88.84</td>\n      <td>0.034226</td>\n      <td>85.90</td>\n      <td>...</td>\n      <td>76.56</td>\n      <td>87.93</td>\n      <td>0.47</td>\n      <td>0.40</td>\n      <td>7.36</td>\n      <td>28.90</td>\n      <td>0.97</td>\n      <td>0.41</td>\n      <td>4.07</td>\n      <td>610682.00</td>\n    </tr>\n    <tr>\n      <th>14</th>\n      <td>KNCR11</td>\n      <td>KINEA RENDIMENTOS IMOBILIÁRIOS</td>\n      <td>Títulos e Valores Mobiliários</td>\n      <td>Ativa</td>\n      <td>272.678</td>\n      <td>5764.202758</td>\n      <td>57097.087</td>\n      <td>100.95</td>\n      <td>0.013656</td>\n      <td>99.59</td>\n      <td>...</td>\n      <td>93.00</td>\n      <td>102.40</td>\n      <td>-1.77</td>\n      <td>1.20</td>\n      <td>13.81</td>\n      <td>49.84</td>\n      <td>0.99</td>\n      <td>5.56</td>\n      <td>3.40</td>\n      <td>11711816.85</td>\n    </tr>\n    <tr>\n      <th>15</th>\n      <td>MALL11</td>\n      <td>MALLS BRASIL PLURAL</td>\n      <td>Shoppings</td>\n      <td>Ativa</td>\n      <td>129.196</td>\n      <td>1093.206451</td>\n      <td>9124.659</td>\n      <td>119.81</td>\n      <td>0.030712</td>\n      <td>116.24</td>\n      <td>...</td>\n      <td>97.02</td>\n      <td>119.69</td>\n      <td>6.42</td>\n      <td>0.85</td>\n      <td>8.15</td>\n      <td>15.68</td>\n      <td>0.97</td>\n      <td>2.11</td>\n      <td>8.12</td>\n      <td>2860856.15</td>\n    </tr>\n    <tr>\n      <th>16</th>\n      <td>NEWL11</td>\n      <td>NEWPORT LOGÍSTICA</td>\n      <td>Híbrido</td>\n      <td>Ativa</td>\n      <td>3.677</td>\n      <td>279.049927</td>\n      <td>2033.099</td>\n      <td>137.25</td>\n      <td>0.300948</td>\n      <td>105.50</td>\n      <td>...</td>\n      <td>91.88</td>\n      <td>115.00</td>\n      <td>3.22</td>\n      <td>0.95</td>\n      <td>11.31</td>\n      <td>4.39</td>\n      <td>0.77</td>\n      <td>2.82</td>\n      <td>0.98</td>\n      <td>741775.03</td>\n    </tr>\n    <tr>\n      <th>17</th>\n      <td>ONEF11</td>\n      <td>THE ONE</td>\n      <td>Lajes Corporativas</td>\n      <td>Passiva</td>\n      <td>2.736</td>\n      <td>209.521663</td>\n      <td>911.000</td>\n      <td>229.99</td>\n      <td>0.150008</td>\n      <td>199.99</td>\n      <td>...</td>\n      <td>162.00</td>\n      <td>204.00</td>\n      <td>17.28</td>\n      <td>1.02</td>\n      <td>5.85</td>\n      <td>13.79</td>\n      <td>0.87</td>\n      <td>0.99</td>\n      <td>10.20</td>\n      <td>37076.79</td>\n    </tr>\n    <tr>\n      <th>18</th>\n      <td>PLCR11</td>\n      <td>FDO INV. IMOB. PLURAL RECEBIVEIS</td>\n      <td>Títulos e Valores Mobiliários</td>\n      <td>Ativa</td>\n      <td>16.361</td>\n      <td>195.237870</td>\n      <td>2109.169</td>\n      <td>92.57</td>\n      <td>0.004340</td>\n      <td>92.17</td>\n      <td>...</td>\n      <td>82.22</td>\n      <td>92.88</td>\n      <td>7.42</td>\n      <td>1.00</td>\n      <td>13.27</td>\n      <td>10.38</td>\n      <td>1.00</td>\n      <td>13.46</td>\n      <td>3.56</td>\n      <td>568135.82</td>\n    </tr>\n    <tr>\n      <th>20</th>\n      <td>RBHG11</td>\n      <td>RIO BRAVO CREDITO IMOB HIGH GRADE</td>\n      <td>Títulos e Valores Mobiliários</td>\n      <td>Ativa</td>\n      <td>9.587</td>\n      <td>158.472293</td>\n      <td>1727.582</td>\n      <td>91.73</td>\n      <td>0.023887</td>\n      <td>89.59</td>\n      <td>...</td>\n      <td>79.99</td>\n      <td>90.89</td>\n      <td>1.92</td>\n      <td>1.05</td>\n      <td>14.35</td>\n      <td>18.90</td>\n      <td>0.98</td>\n      <td>6.44</td>\n      <td>2.71</td>\n      <td>273249.31</td>\n    </tr>\n    <tr>\n      <th>21</th>\n      <td>SADI11</td>\n      <td>SANTANDER PAPEIS IMOB CDI FDO INV IMOB</td>\n      <td>Títulos e Valores Mobiliários</td>\n      <td>Ativa</td>\n      <td>10.064</td>\n      <td>148.668633</td>\n      <td>1548.684</td>\n      <td>96.00</td>\n      <td>0.104845</td>\n      <td>86.89</td>\n      <td>...</td>\n      <td>80.00</td>\n      <td>92.42</td>\n      <td>-4.09</td>\n      <td>1.00</td>\n      <td>14.24</td>\n      <td>62.08</td>\n      <td>0.91</td>\n      <td>1.99</td>\n      <td>0.11</td>\n      <td>439506.15</td>\n    </tr>\n    <tr>\n      <th>25</th>\n      <td>XPML11</td>\n      <td>XP MALLS</td>\n      <td>Shoppings</td>\n      <td>Ativa</td>\n      <td>357.599</td>\n      <td>3462.052426</td>\n      <td>30822.213</td>\n      <td>112.32</td>\n      <td>0.014268</td>\n      <td>110.74</td>\n      <td>...</td>\n      <td>93.96</td>\n      <td>114.66</td>\n      <td>6.57</td>\n      <td>0.85</td>\n      <td>8.72</td>\n      <td>24.98</td>\n      <td>0.99</td>\n      <td>24.11</td>\n      <td>1.57</td>\n      <td>14077393.41</td>\n    </tr>\n  </tbody>\n</table>\n<p>17 rows × 23 columns</p>\n</div>"
     },
     "execution_count": 5,
     "metadata": {},
     "output_type": "execute_result"
    }
   ],
   "source": [
    "funds = pd.DataFrame.from_dict(indicators_list_funds)\n",
    "\n",
    "funds = funds.replace('-', '')\n",
    "funds = funds.replace('-%', '')\n",
    "funds['MIN_MES'] = (funds['MIN_MES']).str.lstrip('R$ ')\n",
    "funds['MAX_MES'] = (funds['MAX_MES']).str.lstrip('R$ ')\n",
    "funds['MIN_MES'] = (funds['MIN_MES']).str.strip('- ')\n",
    "funds['MAX_MES'] = (funds['MAX_MES']).str.strip('- ')\n",
    "funds['VAL_12M'] = (funds['VAL_12M']).str.rstrip('%')\n",
    "funds['VAL_MES'] = (funds['VAL_MES']).str.rstrip('%')\n",
    "\n",
    "funds.to_csv('list_funds.csv')\n",
    "\n",
    "list_funds = pd.read_csv(\"list_funds.csv\", sep=',', decimal=',', thousands='.', encoding=\"utf-8\" )\n",
    "\n",
    "list_funds.fillna(value=0, inplace=True)\n",
    "list_funds = list_funds.drop(['Unnamed: 0'],axis=1)\n",
    "list_funds.rename(columns={'funds': \"TICKERS\" }, inplace=True)\n",
    "\n",
    "invest_funds = pd.merge(fundinvest, list_funds, on='TICKERS')\n",
    "\n",
    "invest_funds['UP/DOWNSIDE'] = (invest_funds['VLR_PATR_COTA'] / invest_funds['PRECO'])-1\n",
    "\n",
    "invest_funds = invest_funds[['TICKERS', 'NAME',  'SEGMENTO', 'GESTAO', 'N COTISTAS', \n",
    "                             'PATRIMONIO', ' N COTAS', 'VLR_PATR_COTA', 'UP/DOWNSIDE', 'PRECO', \n",
    "                             'MIN_MES', 'MAX_MES', 'VAL_MES', 'MIN_52S', 'MAX_52S', \n",
    "                             'VAL_12M', 'ULT_DIV', 'DY', 'DY_CAGR_3ANOS', 'P/VP', \n",
    "                             'PERC_CX',  'VLR_CAGR_3ANOS', 'LIQ_DIARIA', ]]\n",
    "\n",
    "invest_funds = invest_funds.loc[invest_funds['DY'] > 0].loc[\n",
    "    invest_funds['DY_CAGR_3ANOS'] >= 0.01].loc[\n",
    "    invest_funds['VLR_CAGR_3ANOS'] >= 0.01].loc[\n",
    "    invest_funds['N COTISTAS'] >= 1000].loc[\n",
    "    invest_funds['LIQ_DIARIA'] >= 100].loc[\n",
    "    invest_funds['ULT_DIV'] >= 0.1].loc[\n",
    "    invest_funds['UP/DOWNSIDE'] > 0]\n",
    "\n",
    "# def formatar (valor):\n",
    "#     return \"{:.2}\".format(float(valor))\n",
    "\n",
    "invest_funds['PATRIMONIO'] = invest_funds['PATRIMONIO'] / 1000000\n",
    "invest_funds[' N COTAS'] = invest_funds[' N COTAS'] / 1000\n",
    "invest_funds['N COTISTAS'] = invest_funds['N COTISTAS'] / 1000\n",
    "\n",
    "\n",
    "\n",
    "invest_funds"
   ],
   "metadata": {
    "collapsed": false,
    "ExecuteTime": {
     "end_time": "2023-09-26T15:28:25.719954Z",
     "start_time": "2023-09-26T15:28:25.584229Z"
    }
   }
  },
  {
   "cell_type": "code",
   "execution_count": 5,
   "outputs": [],
   "source": [],
   "metadata": {
    "collapsed": false,
    "ExecuteTime": {
     "end_time": "2023-09-26T15:28:25.743770Z",
     "start_time": "2023-09-26T15:28:25.715967Z"
    }
   }
  }
 ],
 "nbformat": 4,
 "nbformat_minor": 0,
 "metadata": {
  "deepnote": {},
  "orig_nbformat": 2,
  "deepnote_notebook_id": "492085a6bf3141a79474d7a842a3ce2d",
  "deepnote_persisted_session": {
   "createdAt": "2023-08-25T04:16:33.077Z"
  },
  "deepnote_execution_queue": [],
  "kernelspec": {
   "name": "python3",
   "language": "python",
   "display_name": "Python 3 (ipykernel)"
  }
 }
}
