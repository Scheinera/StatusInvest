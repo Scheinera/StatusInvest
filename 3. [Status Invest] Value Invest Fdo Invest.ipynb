{
 "cells": [
  {
   "cell_type": "code",
   "execution_count": 1,
   "outputs": [],
   "source": [
    "import pandas as pd\n",
    "import numpy as np\n",
    "import matplotlib.pyplot as plt\n",
    "import time\n",
    "import dash\n",
    "import openpyxl\n",
    "import os\n",
    "from pathlib import Path\n",
    "from selenium import webdriver\n",
    "from selenium.webdriver.chrome.service import Service \n",
    "from webdriver_manager.chrome import ChromeDriverManager\n",
    "from selenium.webdriver.common.by import By\n",
    "from selenium.webdriver.support.ui import WebDriverWait\n",
    "from selenium.webdriver.support import expected_conditions as EC"
   ],
   "metadata": {
    "collapsed": false,
    "ExecuteTime": {
     "end_time": "2023-09-15T12:18:49.129594Z",
     "start_time": "2023-09-15T12:18:36.221760Z"
    }
   }
  },
  {
   "cell_type": "code",
   "execution_count": 2,
   "outputs": [
    {
     "name": "stdout",
     "output_type": "stream",
     "text": [
      "Source path renamed to destination path successfully.\n"
     ]
    }
   ],
   "source": [
    "#Instalando o driver\n",
    "servico = Service(ChromeDriverManager().install())\n",
    "\n",
    "#Abrindo o navegador\n",
    "navegador = webdriver.Chrome(service=servico)\n",
    "\n",
    "##Iniciando o processo dados\n",
    "navegador.get('https://statusinvest.com.br/fundos-imobiliarios/busca-avancada')\n",
    "time.sleep(2)\n",
    "navegador.find_element(By.XPATH, '//*[@id=\"main-2\"]/div[3]/div/div/div/button[2]').click()\n",
    "time.sleep(2)\n",
    "navegador.find_element(By.XPATH, '//*[@id=\"main-2\"]/div[4]/div/div[1]/div[2]/a/span').click()\n",
    "time.sleep(2)\n",
    "\n",
    "#Fecha o navegador\n",
    "navegador.quit()\n",
    "\n",
    "## Renomeia o arquivo e move para pasta desejada\n",
    "source = '/Users/scheiner/Downloads/statusinvest-busca-avancada.csv'\n",
    "dest = '/Users/scheiner/Documents/GitHub/StatusInvest/funds.csv'\n",
    "os.rename(source, dest) \n",
    "\n",
    "print(\"Source path renamed to destination path successfully.\")"
   ],
   "metadata": {
    "collapsed": false,
    "ExecuteTime": {
     "end_time": "2023-09-15T12:19:07.943914Z",
     "start_time": "2023-09-15T12:18:49.119240Z"
    }
   }
  },
  {
   "cell_type": "code",
   "execution_count": 36,
   "outputs": [
    {
     "data": {
      "text/plain": "25"
     },
     "execution_count": 36,
     "metadata": {},
     "output_type": "execute_result"
    }
   ],
   "source": [
    "fundinvest = pd.read_csv('funds.csv', sep=';',  decimal=',', thousands='.', encoding=\"utf-8\" )\n",
    "#fiis = pd.DataFrame(funds)\n",
    "\n",
    "\n",
    "fundinvest = fundinvest.loc[:, ['TICKER', 'PRECO', 'GESTAO' , 'DY', 'P/VP', 'PERCENTUAL EM CAIXA', \n",
    "                        'N COTISTAS', 'CAGR DIVIDENDOS 3 ANOS', ' CAGR VALOR CORA 3 ANOS', \n",
    "                        'LIQUIDEZ MEDIA DIARIA', 'PATRIMONIO', 'VALOR PATRIMONIAL COTA', \n",
    "                        ' N COTAS', 'ULTIMO DIVIDENDO']]\n",
    "\n",
    "fundinvest.fillna(value=0, inplace=True)\n",
    "\n",
    "fundinvest.rename(columns={'PERCENTUAL EM CAIXA': \"PERC_CX\" }, inplace=True)\n",
    "fundinvest.rename(columns={'CAGR DIVIDENDOS 3 ANOS': \"DY_CAGR_3ANOS\" }, inplace=True)\n",
    "fundinvest.rename(columns={' CAGR VALOR CORA 3 ANOS': \"VLR_CAGR_3ANOS\" }, inplace=True)\n",
    "fundinvest.rename(columns={'LIQUIDEZ MEDIA DIARIA': \"LIQ_DIARIA\" }, inplace=True)\n",
    "fundinvest.rename(columns={'VALOR PATRIMONIAL COTA': \"VLR_PATR_COTA\" }, inplace=True)\n",
    "fundinvest.rename(columns={'ULTIMO DIVIDENDO': \"ULT_DIV\" }, inplace=True)\n",
    "\n",
    "fundinvest.rename(columns={'TICKER': \"TICKERS\" }, inplace=True)\n",
    "\n",
    "\n",
    "fundinvest = fundinvest.loc[fundinvest['DY'] > 0].loc[\n",
    "    fundinvest['DY_CAGR_3ANOS'] >= 0.01].loc[\n",
    "    fundinvest['VLR_CAGR_3ANOS'] >= 0.01].loc[\n",
    "    fundinvest['N COTISTAS'] >= 1000].loc[\n",
    "    fundinvest['LIQ_DIARIA'] >= 100].loc[\n",
    "    fundinvest['ULT_DIV'] >= 0.1]\n",
    "\n",
    "len(fundinvest.index)"
   ],
   "metadata": {
    "collapsed": false,
    "ExecuteTime": {
     "end_time": "2023-09-15T13:59:54.100527Z",
     "start_time": "2023-09-15T13:59:54.009458Z"
    }
   }
  },
  {
   "cell_type": "code",
   "execution_count": 37,
   "outputs": [],
   "source": [
    "#Instalando o driver\n",
    "servico = Service(ChromeDriverManager().install())\n",
    "\n",
    "#Abrindo o navegador\n",
    "navegador = webdriver.Chrome(service=servico)\n",
    "\n",
    "ticker = fundinvest['TICKERS']\n",
    "list_funds = ticker.to_list()\n",
    "\n",
    "indicators_list_funds = []\n",
    "for funds in list_funds:\n",
    "\n",
    "    #Criando url\n",
    "    url = f\"https://statusinvest.com.br/fundos-imobiliarios/{funds}\"\n",
    "\n",
    "    \n",
    "    try:\n",
    "        #Abrindo o navegador\n",
    "        navegador.get(url)\n",
    "\n",
    "        time.sleep(0.25)\n",
    "    \n",
    "        #Coletando infos\n",
    "        NAME = navegador.find_element(By.XPATH, '//*[@id=\"main-header\"]/div[2]/div/div[1]/h1/small').text\n",
    "        MIN_MES = navegador.find_element(By.XPATH, '//*[@id=\"main-2\"]/div[2]/div[1]/div[2]/div/div[2]/div/span[2]').text\n",
    "        MAX_MES = navegador.find_element(By.XPATH, '//*[@id=\"main-2\"]/div[2]/div[1]/div[3]/div/div[2]/div/span[2]').text\n",
    "        MIN_52S = navegador.find_element(By.XPATH, '//*[@id=\"main-2\"]/div[2]/div[1]/div[2]/div/div[1]/strong').text\n",
    "        MAX_52S = navegador.find_element(By.XPATH, '//*[@id=\"main-2\"]/div[2]/div[1]/div[3]/div/div[1]/strong').text\n",
    "        GAIN_12M = navegador.find_element(By.XPATH, '//*[@id=\"main-2\"]/div[2]/div[1]/div[5]/div/div[1]/strong').text\n",
    "        GAIN_MES = navegador.find_element(By.XPATH, '//*[@id=\"main-2\"]/div[2]/div[1]/div[5]/div/div[1]/strong').text\n",
    "        TIPO = navegador.find_element(By.XPATH, '//*[@id=\"fund-section\"]/div/div/div[2]/div/div[5]/div/div/div/strong').text\n",
    "        SEGMENTO = navegador.find_element(By.XPATH, '//*[@id=\"fund-section\"]/div/div/div[2]/div/div[6]/div/div/strong').text\n",
    "        \n",
    "        \n",
    "\n",
    "        #Criando dict\n",
    "        dicionario = {  \"funds\": funds,\n",
    "                        \"NAME\": NAME,\n",
    "                        \"MIN_MES\": MIN_MES, \n",
    "                        \"MAX_MES\": MAX_MES, \n",
    "                        \"MIN_52S\": MIN_52S, \n",
    "                        \"MAX_52S\": MAX_52S, \n",
    "                        \"VAL_12M\": GAIN_12M,\n",
    "                        \"VAL_MES\": GAIN_MES,\n",
    "                        \"TIPO\": TIPO,\n",
    "                        \"SEGMENTO\": SEGMENTO\n",
    "                        \n",
    "                        }\n",
    "\n",
    "        #Criando lista de dicts\n",
    "        indicators_list_funds.append(dicionario)\n",
    "    except Exception as e:\n",
    "        print(e)\n",
    "\n",
    "#Fecha o navegador\n",
    "navegador.quit()"
   ],
   "metadata": {
    "collapsed": false,
    "ExecuteTime": {
     "end_time": "2023-09-15T14:00:41.566820Z",
     "start_time": "2023-09-15T13:59:57.855146Z"
    }
   }
  },
  {
   "cell_type": "code",
   "execution_count": 94,
   "outputs": [
    {
     "data": {
      "text/plain": "   TICKERS                                NAME                       SEGMENTO  \\\n0   ARRI11  ÁTRIO REIT RECEBÍVEIS IMOBILIÁRIOS  Títulos e Valores Mobiliários   \n1   BMLC11       BM BRASCAN LAJES CORPORATIVAS                        Híbrido   \n2   BTCR11     BTG PACTUAL CRÉDITO IMOBILIÁRIO  Títulos e Valores Mobiliários   \n3   EURO11                             EUROPAR                      Logística   \n4   FCFL11                   CAMPUS FARIA LIMA                         Outros   \n8   HGPO11     CSHG PRIME OFFICES FDO INV IMOB             Lajes Corporativas   \n10  HSML11               HSI MALL FDO INV IMOB                      Shoppings   \n12  JRDM11                 SHOPPING JARDIM SUL                      Shoppings   \n13  KNCR11      KINEA RENDIMENTOS IMOBILIÁRIOS  Títulos e Valores Mobiliários   \n14  MALL11                 MALLS BRASIL PLURAL                      Shoppings   \n16  NEWL11                   NEWPORT LOGÍSTICA                        Híbrido   \n17  ONEF11                             THE ONE             Lajes Corporativas   \n18  PLCR11    FDO INV. IMOB. PLURAL RECEBIVEIS  Títulos e Valores Mobiliários   \n20  RBHG11   RIO BRAVO CREDITO IMOB HIGH GRADE  Títulos e Valores Mobiliários   \n22  VGIR11                       VALORA RE III  Títulos e Valores Mobiliários   \n24  XPML11                            XP MALLS                      Shoppings   \n\n     GESTAO  N COTISTAS   PATRIMONIO     N COTAS  VLR_PATR_COTA  UP/DOWNSIDE  \\\n0     Ativa      27.459   117.478339   13056.237           9.00     0.021566   \n1     Ativa       1.505   110.629236     998.405         110.81     0.045279   \n2     Ativa      16.934   458.252684    4810.097          95.27     0.082614   \n3   Passiva       2.429   124.873196     383.936         325.24     0.319432   \n4     Ativa       3.634   403.741892    3474.010         116.22     0.000172   \n8   Passiva      15.267   524.362205    1753.057         299.11     0.088861   \n10    Ativa     160.995  1503.214578   15780.613          95.26     0.007936   \n12  Passiva       4.001   224.143181    2522.968          88.84     0.034226   \n13    Ativa     257.717  5758.807700   57097.087         100.86     0.018685   \n14    Ativa     124.481  1092.773095    9124.659         119.76     0.017589   \n16    Ativa       3.677   279.049927    2033.099         137.25     0.313523   \n17  Passiva       2.783   209.516806     911.000         229.99     0.149950   \n18    Ativa      15.919   196.200010    2109.169          93.02     0.013290   \n20    Ativa       9.587   158.472293    1727.582          91.73     0.029171   \n22    Ativa     204.689   995.247970  103220.707           9.64     0.003122   \n24    Ativa     336.875  3050.727984   26537.865         114.96     0.024599   \n\n     PRECO  ...  MIN_52S  MAX_52S  VAL_12M  ULT_DIV     DY  DY_CAGR_3ANOS  \\\n0     8.81  ...     8.06     9.43    -1.01     0.10  15.32           3.73   \n1   106.01  ...    98.00   108.99     6.01     0.76  11.42          20.48   \n2    88.00  ...    85.45    97.79    -8.42     0.90   2.05          32.78   \n3   246.50  ...   218.31   250.00     6.72     1.88   9.06          10.36   \n4   116.20  ...    98.92   131.00    -7.35     0.78   8.22           9.63   \n8   274.70  ...   238.00   297.00     4.68     1.60   6.99          13.65   \n10   94.51  ...    74.09    96.92     3.86     0.74   9.12          21.13   \n12   85.90  ...    76.56    87.93    -0.58     0.40   7.36          28.90   \n13   99.01  ...    93.00   102.40    -2.14     1.20  13.90          49.84   \n14  117.69  ...    97.02   119.69     8.80     0.85   8.06          15.68   \n16  104.49  ...    91.88   115.00     2.48     0.95  11.41           4.39   \n17  200.00  ...   162.00   204.00    16.07     1.02   5.85          13.79   \n18   91.80  ...    82.22    92.00     6.01     1.00  13.34          10.38   \n20   89.13  ...    79.99    90.48     1.47     1.05  14.48          18.90   \n22    9.61  ...     9.12    10.08    -1.83     0.13  15.50          34.67   \n24  112.20  ...    93.96   114.66     7.88     0.84   8.50          27.91   \n\n    P/VP  PERC_CX  VLR_CAGR_3ANOS   LIQ_DIARIA  \n0   0.98     2.49            2.84    300934.06  \n1   0.96    17.32            4.63     34252.61  \n2   0.92     8.00            0.89    652774.65  \n3   0.76     1.54            4.81     40495.65  \n4   1.00     0.67            1.39    159354.39  \n8   0.92     0.61            7.36    591018.61  \n10  0.99     5.23            0.56   2906062.03  \n12  0.97     0.41            3.57    610682.00  \n13  0.98     6.33            3.30  11436523.00  \n14  0.98     2.11            7.95   2893946.61  \n16  0.76     2.82            1.27    680431.39  \n17  0.87     0.99            9.72     40249.03  \n18  0.99    12.63            4.20    633301.55  \n20  0.97     6.44            2.64    267517.48  \n22  1.00     2.78            4.30   4686479.87  \n24  0.98    13.12            0.89  11209732.26  \n\n[16 rows x 23 columns]",
      "text/html": "<div>\n<style scoped>\n    .dataframe tbody tr th:only-of-type {\n        vertical-align: middle;\n    }\n\n    .dataframe tbody tr th {\n        vertical-align: top;\n    }\n\n    .dataframe thead th {\n        text-align: right;\n    }\n</style>\n<table border=\"1\" class=\"dataframe\">\n  <thead>\n    <tr style=\"text-align: right;\">\n      <th></th>\n      <th>TICKERS</th>\n      <th>NAME</th>\n      <th>SEGMENTO</th>\n      <th>GESTAO</th>\n      <th>N COTISTAS</th>\n      <th>PATRIMONIO</th>\n      <th>N COTAS</th>\n      <th>VLR_PATR_COTA</th>\n      <th>UP/DOWNSIDE</th>\n      <th>PRECO</th>\n      <th>...</th>\n      <th>MIN_52S</th>\n      <th>MAX_52S</th>\n      <th>VAL_12M</th>\n      <th>ULT_DIV</th>\n      <th>DY</th>\n      <th>DY_CAGR_3ANOS</th>\n      <th>P/VP</th>\n      <th>PERC_CX</th>\n      <th>VLR_CAGR_3ANOS</th>\n      <th>LIQ_DIARIA</th>\n    </tr>\n  </thead>\n  <tbody>\n    <tr>\n      <th>0</th>\n      <td>ARRI11</td>\n      <td>ÁTRIO REIT RECEBÍVEIS IMOBILIÁRIOS</td>\n      <td>Títulos e Valores Mobiliários</td>\n      <td>Ativa</td>\n      <td>27.459</td>\n      <td>117.478339</td>\n      <td>13056.237</td>\n      <td>9.00</td>\n      <td>0.021566</td>\n      <td>8.81</td>\n      <td>...</td>\n      <td>8.06</td>\n      <td>9.43</td>\n      <td>-1.01</td>\n      <td>0.10</td>\n      <td>15.32</td>\n      <td>3.73</td>\n      <td>0.98</td>\n      <td>2.49</td>\n      <td>2.84</td>\n      <td>300934.06</td>\n    </tr>\n    <tr>\n      <th>1</th>\n      <td>BMLC11</td>\n      <td>BM BRASCAN LAJES CORPORATIVAS</td>\n      <td>Híbrido</td>\n      <td>Ativa</td>\n      <td>1.505</td>\n      <td>110.629236</td>\n      <td>998.405</td>\n      <td>110.81</td>\n      <td>0.045279</td>\n      <td>106.01</td>\n      <td>...</td>\n      <td>98.00</td>\n      <td>108.99</td>\n      <td>6.01</td>\n      <td>0.76</td>\n      <td>11.42</td>\n      <td>20.48</td>\n      <td>0.96</td>\n      <td>17.32</td>\n      <td>4.63</td>\n      <td>34252.61</td>\n    </tr>\n    <tr>\n      <th>2</th>\n      <td>BTCR11</td>\n      <td>BTG PACTUAL CRÉDITO IMOBILIÁRIO</td>\n      <td>Títulos e Valores Mobiliários</td>\n      <td>Ativa</td>\n      <td>16.934</td>\n      <td>458.252684</td>\n      <td>4810.097</td>\n      <td>95.27</td>\n      <td>0.082614</td>\n      <td>88.00</td>\n      <td>...</td>\n      <td>85.45</td>\n      <td>97.79</td>\n      <td>-8.42</td>\n      <td>0.90</td>\n      <td>2.05</td>\n      <td>32.78</td>\n      <td>0.92</td>\n      <td>8.00</td>\n      <td>0.89</td>\n      <td>652774.65</td>\n    </tr>\n    <tr>\n      <th>3</th>\n      <td>EURO11</td>\n      <td>EUROPAR</td>\n      <td>Logística</td>\n      <td>Passiva</td>\n      <td>2.429</td>\n      <td>124.873196</td>\n      <td>383.936</td>\n      <td>325.24</td>\n      <td>0.319432</td>\n      <td>246.50</td>\n      <td>...</td>\n      <td>218.31</td>\n      <td>250.00</td>\n      <td>6.72</td>\n      <td>1.88</td>\n      <td>9.06</td>\n      <td>10.36</td>\n      <td>0.76</td>\n      <td>1.54</td>\n      <td>4.81</td>\n      <td>40495.65</td>\n    </tr>\n    <tr>\n      <th>4</th>\n      <td>FCFL11</td>\n      <td>CAMPUS FARIA LIMA</td>\n      <td>Outros</td>\n      <td>Ativa</td>\n      <td>3.634</td>\n      <td>403.741892</td>\n      <td>3474.010</td>\n      <td>116.22</td>\n      <td>0.000172</td>\n      <td>116.20</td>\n      <td>...</td>\n      <td>98.92</td>\n      <td>131.00</td>\n      <td>-7.35</td>\n      <td>0.78</td>\n      <td>8.22</td>\n      <td>9.63</td>\n      <td>1.00</td>\n      <td>0.67</td>\n      <td>1.39</td>\n      <td>159354.39</td>\n    </tr>\n    <tr>\n      <th>8</th>\n      <td>HGPO11</td>\n      <td>CSHG PRIME OFFICES FDO INV IMOB</td>\n      <td>Lajes Corporativas</td>\n      <td>Passiva</td>\n      <td>15.267</td>\n      <td>524.362205</td>\n      <td>1753.057</td>\n      <td>299.11</td>\n      <td>0.088861</td>\n      <td>274.70</td>\n      <td>...</td>\n      <td>238.00</td>\n      <td>297.00</td>\n      <td>4.68</td>\n      <td>1.60</td>\n      <td>6.99</td>\n      <td>13.65</td>\n      <td>0.92</td>\n      <td>0.61</td>\n      <td>7.36</td>\n      <td>591018.61</td>\n    </tr>\n    <tr>\n      <th>10</th>\n      <td>HSML11</td>\n      <td>HSI MALL FDO INV IMOB</td>\n      <td>Shoppings</td>\n      <td>Ativa</td>\n      <td>160.995</td>\n      <td>1503.214578</td>\n      <td>15780.613</td>\n      <td>95.26</td>\n      <td>0.007936</td>\n      <td>94.51</td>\n      <td>...</td>\n      <td>74.09</td>\n      <td>96.92</td>\n      <td>3.86</td>\n      <td>0.74</td>\n      <td>9.12</td>\n      <td>21.13</td>\n      <td>0.99</td>\n      <td>5.23</td>\n      <td>0.56</td>\n      <td>2906062.03</td>\n    </tr>\n    <tr>\n      <th>12</th>\n      <td>JRDM11</td>\n      <td>SHOPPING JARDIM SUL</td>\n      <td>Shoppings</td>\n      <td>Passiva</td>\n      <td>4.001</td>\n      <td>224.143181</td>\n      <td>2522.968</td>\n      <td>88.84</td>\n      <td>0.034226</td>\n      <td>85.90</td>\n      <td>...</td>\n      <td>76.56</td>\n      <td>87.93</td>\n      <td>-0.58</td>\n      <td>0.40</td>\n      <td>7.36</td>\n      <td>28.90</td>\n      <td>0.97</td>\n      <td>0.41</td>\n      <td>3.57</td>\n      <td>610682.00</td>\n    </tr>\n    <tr>\n      <th>13</th>\n      <td>KNCR11</td>\n      <td>KINEA RENDIMENTOS IMOBILIÁRIOS</td>\n      <td>Títulos e Valores Mobiliários</td>\n      <td>Ativa</td>\n      <td>257.717</td>\n      <td>5758.807700</td>\n      <td>57097.087</td>\n      <td>100.86</td>\n      <td>0.018685</td>\n      <td>99.01</td>\n      <td>...</td>\n      <td>93.00</td>\n      <td>102.40</td>\n      <td>-2.14</td>\n      <td>1.20</td>\n      <td>13.90</td>\n      <td>49.84</td>\n      <td>0.98</td>\n      <td>6.33</td>\n      <td>3.30</td>\n      <td>11436523.00</td>\n    </tr>\n    <tr>\n      <th>14</th>\n      <td>MALL11</td>\n      <td>MALLS BRASIL PLURAL</td>\n      <td>Shoppings</td>\n      <td>Ativa</td>\n      <td>124.481</td>\n      <td>1092.773095</td>\n      <td>9124.659</td>\n      <td>119.76</td>\n      <td>0.017589</td>\n      <td>117.69</td>\n      <td>...</td>\n      <td>97.02</td>\n      <td>119.69</td>\n      <td>8.80</td>\n      <td>0.85</td>\n      <td>8.06</td>\n      <td>15.68</td>\n      <td>0.98</td>\n      <td>2.11</td>\n      <td>7.95</td>\n      <td>2893946.61</td>\n    </tr>\n    <tr>\n      <th>16</th>\n      <td>NEWL11</td>\n      <td>NEWPORT LOGÍSTICA</td>\n      <td>Híbrido</td>\n      <td>Ativa</td>\n      <td>3.677</td>\n      <td>279.049927</td>\n      <td>2033.099</td>\n      <td>137.25</td>\n      <td>0.313523</td>\n      <td>104.49</td>\n      <td>...</td>\n      <td>91.88</td>\n      <td>115.00</td>\n      <td>2.48</td>\n      <td>0.95</td>\n      <td>11.41</td>\n      <td>4.39</td>\n      <td>0.76</td>\n      <td>2.82</td>\n      <td>1.27</td>\n      <td>680431.39</td>\n    </tr>\n    <tr>\n      <th>17</th>\n      <td>ONEF11</td>\n      <td>THE ONE</td>\n      <td>Lajes Corporativas</td>\n      <td>Passiva</td>\n      <td>2.783</td>\n      <td>209.516806</td>\n      <td>911.000</td>\n      <td>229.99</td>\n      <td>0.149950</td>\n      <td>200.00</td>\n      <td>...</td>\n      <td>162.00</td>\n      <td>204.00</td>\n      <td>16.07</td>\n      <td>1.02</td>\n      <td>5.85</td>\n      <td>13.79</td>\n      <td>0.87</td>\n      <td>0.99</td>\n      <td>9.72</td>\n      <td>40249.03</td>\n    </tr>\n    <tr>\n      <th>18</th>\n      <td>PLCR11</td>\n      <td>FDO INV. IMOB. PLURAL RECEBIVEIS</td>\n      <td>Títulos e Valores Mobiliários</td>\n      <td>Ativa</td>\n      <td>15.919</td>\n      <td>196.200010</td>\n      <td>2109.169</td>\n      <td>93.02</td>\n      <td>0.013290</td>\n      <td>91.80</td>\n      <td>...</td>\n      <td>82.22</td>\n      <td>92.00</td>\n      <td>6.01</td>\n      <td>1.00</td>\n      <td>13.34</td>\n      <td>10.38</td>\n      <td>0.99</td>\n      <td>12.63</td>\n      <td>4.20</td>\n      <td>633301.55</td>\n    </tr>\n    <tr>\n      <th>20</th>\n      <td>RBHG11</td>\n      <td>RIO BRAVO CREDITO IMOB HIGH GRADE</td>\n      <td>Títulos e Valores Mobiliários</td>\n      <td>Ativa</td>\n      <td>9.587</td>\n      <td>158.472293</td>\n      <td>1727.582</td>\n      <td>91.73</td>\n      <td>0.029171</td>\n      <td>89.13</td>\n      <td>...</td>\n      <td>79.99</td>\n      <td>90.48</td>\n      <td>1.47</td>\n      <td>1.05</td>\n      <td>14.48</td>\n      <td>18.90</td>\n      <td>0.97</td>\n      <td>6.44</td>\n      <td>2.64</td>\n      <td>267517.48</td>\n    </tr>\n    <tr>\n      <th>22</th>\n      <td>VGIR11</td>\n      <td>VALORA RE III</td>\n      <td>Títulos e Valores Mobiliários</td>\n      <td>Ativa</td>\n      <td>204.689</td>\n      <td>995.247970</td>\n      <td>103220.707</td>\n      <td>9.64</td>\n      <td>0.003122</td>\n      <td>9.61</td>\n      <td>...</td>\n      <td>9.12</td>\n      <td>10.08</td>\n      <td>-1.83</td>\n      <td>0.13</td>\n      <td>15.50</td>\n      <td>34.67</td>\n      <td>1.00</td>\n      <td>2.78</td>\n      <td>4.30</td>\n      <td>4686479.87</td>\n    </tr>\n    <tr>\n      <th>24</th>\n      <td>XPML11</td>\n      <td>XP MALLS</td>\n      <td>Shoppings</td>\n      <td>Ativa</td>\n      <td>336.875</td>\n      <td>3050.727984</td>\n      <td>26537.865</td>\n      <td>114.96</td>\n      <td>0.024599</td>\n      <td>112.20</td>\n      <td>...</td>\n      <td>93.96</td>\n      <td>114.66</td>\n      <td>7.88</td>\n      <td>0.84</td>\n      <td>8.50</td>\n      <td>27.91</td>\n      <td>0.98</td>\n      <td>13.12</td>\n      <td>0.89</td>\n      <td>11209732.26</td>\n    </tr>\n  </tbody>\n</table>\n<p>16 rows × 23 columns</p>\n</div>"
     },
     "execution_count": 94,
     "metadata": {},
     "output_type": "execute_result"
    }
   ],
   "source": [
    "funds = pd.DataFrame.from_dict(indicators_list_funds)\n",
    "\n",
    "funds = funds.replace('-', '')\n",
    "funds = funds.replace('-%', '')\n",
    "funds['MIN_MES'] = (funds['MIN_MES']).str.lstrip('R$ ')\n",
    "funds['MAX_MES'] = (funds['MAX_MES']).str.lstrip('R$ ')\n",
    "funds['MIN_MES'] = (funds['MIN_MES']).str.strip('- ')\n",
    "funds['MAX_MES'] = (funds['MAX_MES']).str.strip('- ')\n",
    "funds['VAL_12M'] = (funds['VAL_12M']).str.rstrip('%')\n",
    "funds['VAL_MES'] = (funds['VAL_MES']).str.rstrip('%')\n",
    "\n",
    "funds.to_csv('list_funds.csv')\n",
    "\n",
    "list_funds = pd.read_csv(\"list_funds.csv\", sep=',', decimal=',', thousands='.', encoding=\"utf-8\" )\n",
    "\n",
    "list_funds.fillna(value=0, inplace=True)\n",
    "list_funds = list_funds.drop(['Unnamed: 0'],axis=1)\n",
    "list_funds.rename(columns={'funds': \"TICKERS\" }, inplace=True)\n",
    "\n",
    "invest_funds = pd.merge(fundinvest, list_funds, on='TICKERS')\n",
    "\n",
    "invest_funds['UP/DOWNSIDE'] = (invest_funds['VLR_PATR_COTA'] / invest_funds['PRECO'])-1\n",
    "\n",
    "invest_funds = invest_funds[['TICKERS', 'NAME',  'SEGMENTO', 'GESTAO', 'N COTISTAS', \n",
    "                             'PATRIMONIO', ' N COTAS', 'VLR_PATR_COTA', 'UP/DOWNSIDE', 'PRECO', \n",
    "                             'MIN_MES', 'MAX_MES', 'VAL_MES', 'MIN_52S', 'MAX_52S', \n",
    "                             'VAL_12M', 'ULT_DIV', 'DY', 'DY_CAGR_3ANOS', 'P/VP', \n",
    "                             'PERC_CX',  'VLR_CAGR_3ANOS', 'LIQ_DIARIA', ]]\n",
    "\n",
    "invest_funds = invest_funds.loc[invest_funds['DY'] > 0].loc[\n",
    "    invest_funds['DY_CAGR_3ANOS'] >= 0.01].loc[\n",
    "    invest_funds['VLR_CAGR_3ANOS'] >= 0.01].loc[\n",
    "    invest_funds['N COTISTAS'] >= 1000].loc[\n",
    "    invest_funds['LIQ_DIARIA'] >= 100].loc[\n",
    "    invest_funds['ULT_DIV'] >= 0.1].loc[\n",
    "    invest_funds['UP/DOWNSIDE'] > 0]\n",
    "\n",
    "# def formatar (valor):\n",
    "#     return \"{:.2}\".format(float(valor))\n",
    "\n",
    "invest_funds['PATRIMONIO'] = invest_funds['PATRIMONIO'] / 1000000\n",
    "invest_funds[' N COTAS'] = invest_funds[' N COTAS'] / 1000\n",
    "invest_funds['N COTISTAS'] = invest_funds['N COTISTAS'] / 1000\n",
    "\n",
    "\n",
    "\n",
    "invest_funds"
   ],
   "metadata": {
    "collapsed": false,
    "ExecuteTime": {
     "end_time": "2023-09-15T16:24:05.085767Z",
     "start_time": "2023-09-15T16:24:04.944324Z"
    }
   }
  },
  {
   "cell_type": "code",
   "execution_count": null,
   "outputs": [],
   "source": [],
   "metadata": {
    "collapsed": false
   }
  }
 ],
 "nbformat": 4,
 "nbformat_minor": 0,
 "metadata": {
  "deepnote": {},
  "orig_nbformat": 2,
  "deepnote_notebook_id": "492085a6bf3141a79474d7a842a3ce2d",
  "deepnote_persisted_session": {
   "createdAt": "2023-08-25T04:16:33.077Z"
  },
  "deepnote_execution_queue": [],
  "kernelspec": {
   "name": "python3",
   "language": "python",
   "display_name": "Python 3 (ipykernel)"
  }
 }
}
