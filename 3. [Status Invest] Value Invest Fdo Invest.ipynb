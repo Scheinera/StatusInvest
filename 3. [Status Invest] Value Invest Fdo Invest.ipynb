{
 "cells": [
  {
   "cell_type": "code",
   "execution_count": 1,
   "outputs": [],
   "source": [
    "import pandas as pd\n",
    "import numpy as np\n",
    "import matplotlib.pyplot as plt\n",
    "import time\n",
    "import dash\n",
    "import openpyxl\n",
    "import os\n",
    "from pathlib import Path\n",
    "from selenium import webdriver\n",
    "from selenium.webdriver.chrome.service import Service \n",
    "from webdriver_manager.chrome import ChromeDriverManager\n",
    "from selenium.webdriver.common.by import By\n",
    "from selenium.webdriver.support.ui import WebDriverWait\n",
    "from selenium.webdriver.support import expected_conditions as EC"
   ],
   "metadata": {
    "collapsed": false,
    "ExecuteTime": {
     "end_time": "2023-09-15T03:01:59.425829Z",
     "start_time": "2023-09-15T03:01:54.444218Z"
    }
   }
  },
  {
   "cell_type": "code",
   "execution_count": 2,
   "outputs": [
    {
     "name": "stdout",
     "output_type": "stream",
     "text": [
      "Source path renamed to destination path successfully.\n"
     ]
    }
   ],
   "source": [
    "#Instalando o driver\n",
    "servico = Service(ChromeDriverManager().install())\n",
    "\n",
    "#Abrindo o navegador\n",
    "navegador = webdriver.Chrome(service=servico)\n",
    "\n",
    "##Iniciando o processo dados\n",
    "navegador.get('https://statusinvest.com.br/fundos-imobiliarios/busca-avancada')\n",
    "time.sleep(2)\n",
    "navegador.find_element(By.XPATH, '//*[@id=\"main-2\"]/div[3]/div/div/div/button[2]').click()\n",
    "time.sleep(2)\n",
    "navegador.find_element(By.XPATH, '//*[@id=\"main-2\"]/div[4]/div/div[1]/div[2]/a/span').click()\n",
    "time.sleep(2)\n",
    "\n",
    "#Fecha o navegador\n",
    "navegador.quit()\n",
    "\n",
    "## Renomeia o arquivo e move para pasta desejada\n",
    "source = '/Users/scheiner/Downloads/statusinvest-busca-avancada.csv'\n",
    "dest = '/Users/scheiner/Documents/GitHub/StatusInvest/funds.csv'\n",
    "os.rename(source, dest) \n",
    "\n",
    "print(\"Source path renamed to destination path successfully.\")"
   ],
   "metadata": {
    "collapsed": false,
    "ExecuteTime": {
     "end_time": "2023-09-15T03:02:17.093513Z",
     "start_time": "2023-09-15T03:01:59.437084Z"
    }
   }
  },
  {
   "cell_type": "code",
   "execution_count": 10,
   "outputs": [
    {
     "data": {
      "text/plain": "    TICKERS   PRECO   GESTAO     DY  P/VP  PERC_CX  N COTISTAS  DY_CAGR_3ANOS  \\\n0    ABCP11   67.89  Passiva   8.35  0.74     1.53     17906.0          13.18   \n1    AFHI11   97.80    Ativa  12.90  1.02     2.10     22313.0           0.00   \n2    AIEC11   68.79    Ativa  13.20  0.73     2.54     15564.0           9.48   \n3    ALMI11  736.00  Passiva   0.00  0.36     2.24      2367.0           0.00   \n4    ALZC11    0.00        0   0.00  0.00     0.00         0.0           0.00   \n..      ...     ...      ...    ...   ...      ...         ...            ...   \n466  XPPR11   22.34    Ativa   9.85  0.32     3.67     61991.0         -30.77   \n467  XPSF11    8.57    Ativa  10.69  0.97     1.24     46486.0           0.78   \n468  YUFI11   88.90    Ativa   3.70  0.87     8.94        56.0           0.00   \n469  ZAVI11  129.35    Ativa   9.53  0.96     6.33      3311.0           0.00   \n470  ZIFI11  900.00    Ativa   0.00  0.75     0.00        65.0           0.00   \n\n     VLR_CAGR_3ANOS  LIQ_DIARIA    PATRIMONIO  VLR_PATR_COTA     N COTAS  \\\n0             -4.52    69929.48  4.325528e+08          91.86   4709082.0   \n1              0.00  1187180.65  2.897112e+08          95.95   3019453.0   \n2              0.00   733822.06  4.573551e+08          94.79   4824987.0   \n3            -14.66    50133.59  2.257938e+08        2030.94    111177.0   \n4              0.00        0.00  0.000000e+00           0.00   1000000.0   \n..              ...         ...           ...            ...         ...   \n466          -35.97   336843.77  5.156974e+08          70.49   7316171.0   \n467           -3.54   582819.26  3.816852e+08           8.81  43302140.0   \n468            0.00      149.00  5.008454e+07         101.66    492650.0   \n469            0.00   377343.13  1.586591e+08         135.22   1173322.0   \n470            0.00    17671.60  5.725747e+07        1205.80     47485.0   \n\n      ULT_DIV  \n0    0.500000  \n1    1.050000  \n2    0.760000  \n3    0.371133  \n4    0.000000  \n..        ...  \n466  0.100000  \n467  0.075000  \n468  0.383187  \n469  1.160000  \n470  3.304958  \n\n[471 rows x 14 columns]",
      "text/html": "<div>\n<style scoped>\n    .dataframe tbody tr th:only-of-type {\n        vertical-align: middle;\n    }\n\n    .dataframe tbody tr th {\n        vertical-align: top;\n    }\n\n    .dataframe thead th {\n        text-align: right;\n    }\n</style>\n<table border=\"1\" class=\"dataframe\">\n  <thead>\n    <tr style=\"text-align: right;\">\n      <th></th>\n      <th>TICKERS</th>\n      <th>PRECO</th>\n      <th>GESTAO</th>\n      <th>DY</th>\n      <th>P/VP</th>\n      <th>PERC_CX</th>\n      <th>N COTISTAS</th>\n      <th>DY_CAGR_3ANOS</th>\n      <th>VLR_CAGR_3ANOS</th>\n      <th>LIQ_DIARIA</th>\n      <th>PATRIMONIO</th>\n      <th>VLR_PATR_COTA</th>\n      <th>N COTAS</th>\n      <th>ULT_DIV</th>\n    </tr>\n  </thead>\n  <tbody>\n    <tr>\n      <th>0</th>\n      <td>ABCP11</td>\n      <td>67.89</td>\n      <td>Passiva</td>\n      <td>8.35</td>\n      <td>0.74</td>\n      <td>1.53</td>\n      <td>17906.0</td>\n      <td>13.18</td>\n      <td>-4.52</td>\n      <td>69929.48</td>\n      <td>4.325528e+08</td>\n      <td>91.86</td>\n      <td>4709082.0</td>\n      <td>0.500000</td>\n    </tr>\n    <tr>\n      <th>1</th>\n      <td>AFHI11</td>\n      <td>97.80</td>\n      <td>Ativa</td>\n      <td>12.90</td>\n      <td>1.02</td>\n      <td>2.10</td>\n      <td>22313.0</td>\n      <td>0.00</td>\n      <td>0.00</td>\n      <td>1187180.65</td>\n      <td>2.897112e+08</td>\n      <td>95.95</td>\n      <td>3019453.0</td>\n      <td>1.050000</td>\n    </tr>\n    <tr>\n      <th>2</th>\n      <td>AIEC11</td>\n      <td>68.79</td>\n      <td>Ativa</td>\n      <td>13.20</td>\n      <td>0.73</td>\n      <td>2.54</td>\n      <td>15564.0</td>\n      <td>9.48</td>\n      <td>0.00</td>\n      <td>733822.06</td>\n      <td>4.573551e+08</td>\n      <td>94.79</td>\n      <td>4824987.0</td>\n      <td>0.760000</td>\n    </tr>\n    <tr>\n      <th>3</th>\n      <td>ALMI11</td>\n      <td>736.00</td>\n      <td>Passiva</td>\n      <td>0.00</td>\n      <td>0.36</td>\n      <td>2.24</td>\n      <td>2367.0</td>\n      <td>0.00</td>\n      <td>-14.66</td>\n      <td>50133.59</td>\n      <td>2.257938e+08</td>\n      <td>2030.94</td>\n      <td>111177.0</td>\n      <td>0.371133</td>\n    </tr>\n    <tr>\n      <th>4</th>\n      <td>ALZC11</td>\n      <td>0.00</td>\n      <td>0</td>\n      <td>0.00</td>\n      <td>0.00</td>\n      <td>0.00</td>\n      <td>0.0</td>\n      <td>0.00</td>\n      <td>0.00</td>\n      <td>0.00</td>\n      <td>0.000000e+00</td>\n      <td>0.00</td>\n      <td>1000000.0</td>\n      <td>0.000000</td>\n    </tr>\n    <tr>\n      <th>...</th>\n      <td>...</td>\n      <td>...</td>\n      <td>...</td>\n      <td>...</td>\n      <td>...</td>\n      <td>...</td>\n      <td>...</td>\n      <td>...</td>\n      <td>...</td>\n      <td>...</td>\n      <td>...</td>\n      <td>...</td>\n      <td>...</td>\n      <td>...</td>\n    </tr>\n    <tr>\n      <th>466</th>\n      <td>XPPR11</td>\n      <td>22.34</td>\n      <td>Ativa</td>\n      <td>9.85</td>\n      <td>0.32</td>\n      <td>3.67</td>\n      <td>61991.0</td>\n      <td>-30.77</td>\n      <td>-35.97</td>\n      <td>336843.77</td>\n      <td>5.156974e+08</td>\n      <td>70.49</td>\n      <td>7316171.0</td>\n      <td>0.100000</td>\n    </tr>\n    <tr>\n      <th>467</th>\n      <td>XPSF11</td>\n      <td>8.57</td>\n      <td>Ativa</td>\n      <td>10.69</td>\n      <td>0.97</td>\n      <td>1.24</td>\n      <td>46486.0</td>\n      <td>0.78</td>\n      <td>-3.54</td>\n      <td>582819.26</td>\n      <td>3.816852e+08</td>\n      <td>8.81</td>\n      <td>43302140.0</td>\n      <td>0.075000</td>\n    </tr>\n    <tr>\n      <th>468</th>\n      <td>YUFI11</td>\n      <td>88.90</td>\n      <td>Ativa</td>\n      <td>3.70</td>\n      <td>0.87</td>\n      <td>8.94</td>\n      <td>56.0</td>\n      <td>0.00</td>\n      <td>0.00</td>\n      <td>149.00</td>\n      <td>5.008454e+07</td>\n      <td>101.66</td>\n      <td>492650.0</td>\n      <td>0.383187</td>\n    </tr>\n    <tr>\n      <th>469</th>\n      <td>ZAVI11</td>\n      <td>129.35</td>\n      <td>Ativa</td>\n      <td>9.53</td>\n      <td>0.96</td>\n      <td>6.33</td>\n      <td>3311.0</td>\n      <td>0.00</td>\n      <td>0.00</td>\n      <td>377343.13</td>\n      <td>1.586591e+08</td>\n      <td>135.22</td>\n      <td>1173322.0</td>\n      <td>1.160000</td>\n    </tr>\n    <tr>\n      <th>470</th>\n      <td>ZIFI11</td>\n      <td>900.00</td>\n      <td>Ativa</td>\n      <td>0.00</td>\n      <td>0.75</td>\n      <td>0.00</td>\n      <td>65.0</td>\n      <td>0.00</td>\n      <td>0.00</td>\n      <td>17671.60</td>\n      <td>5.725747e+07</td>\n      <td>1205.80</td>\n      <td>47485.0</td>\n      <td>3.304958</td>\n    </tr>\n  </tbody>\n</table>\n<p>471 rows × 14 columns</p>\n</div>"
     },
     "execution_count": 10,
     "metadata": {},
     "output_type": "execute_result"
    }
   ],
   "source": [
    "fundinvest = pd.read_csv('funds.csv', sep=';',  decimal=',', thousands='.', encoding='ISO-8859-1' )\n",
    "#fiis = pd.DataFrame(funds)\n",
    "\n",
    "\n",
    "fundinvest = fundinvest.loc[:, ['TICKER', 'PRECO', 'GESTAO' , 'DY', 'P/VP', 'PERCENTUAL EM CAIXA', \n",
    "                        'N COTISTAS', 'CAGR DIVIDENDOS 3 ANOS', ' CAGR VALOR CORA 3 ANOS', \n",
    "                        'LIQUIDEZ MEDIA DIARIA', 'PATRIMONIO', 'VALOR PATRIMONIAL COTA', \n",
    "                        ' N COTAS', 'ULTIMO DIVIDENDO']]\n",
    "\n",
    "fundinvest.fillna(value=0, inplace=True)\n",
    "\n",
    "fundinvest.rename(columns={'PERCENTUAL EM CAIXA': \"PERC_CX\" }, inplace=True)\n",
    "fundinvest.rename(columns={'CAGR DIVIDENDOS 3 ANOS': \"DY_CAGR_3ANOS\" }, inplace=True)\n",
    "fundinvest.rename(columns={' CAGR VALOR CORA 3 ANOS': \"VLR_CAGR_3ANOS\" }, inplace=True)\n",
    "fundinvest.rename(columns={'LIQUIDEZ MEDIA DIARIA': \"LIQ_DIARIA\" }, inplace=True)\n",
    "fundinvest.rename(columns={'VALOR PATRIMONIAL COTA': \"VLR_PATR_COTA\" }, inplace=True)\n",
    "fundinvest.rename(columns={'ULTIMO DIVIDENDO': \"ULT_DIV\" }, inplace=True)\n",
    "\n",
    "fundinvest.rename(columns={'TICKER': \"TICKERS\" }, inplace=True)\n",
    "\n",
    "fundinvest"
   ],
   "metadata": {
    "collapsed": false,
    "ExecuteTime": {
     "end_time": "2023-09-15T03:17:28.238371Z",
     "start_time": "2023-09-15T03:17:28.158478Z"
    }
   }
  },
  {
   "cell_type": "code",
   "execution_count": 6,
   "outputs": [],
   "source": [
    "#Instalando o driver\n",
    "servico = Service(ChromeDriverManager().install())\n",
    "\n",
    "#Abrindo o navegador\n",
    "navegador = webdriver.Chrome(service=servico)\n",
    "\n",
    "ticker = fundinvest['TICKERS']\n",
    "list_funds = ticker.to_list()\n",
    "\n",
    "indicators_list_funds = []\n",
    "for funds in list_funds:\n",
    "\n",
    "    #Criando url\n",
    "    url = f\"https://statusinvest.com.br/fundos-imobiliarios/{funds}\"\n",
    "\n",
    "    \n",
    "    try:\n",
    "        #Abrindo o navegador\n",
    "        navegador.get(url)\n",
    "\n",
    "        time.sleep(0.25)\n",
    "    \n",
    "        #Coletando infos\n",
    "        NAME = navegador.find_element(By.XPATH, '//*[@id=\"main-header\"]/div[2]/div/div[1]/h1/small').text\n",
    "        MIN_MES = navegador.find_element(By.XPATH, '//*[@id=\"main-2\"]/div[2]/div[1]/div[2]/div/div[2]/div/span[2]').text\n",
    "        MAX_MES = navegador.find_element(By.XPATH, '//*[@id=\"main-2\"]/div[2]/div[1]/div[3]/div/div[2]/div/span[2]').text\n",
    "        MIN_52S = navegador.find_element(By.XPATH, '//*[@id=\"main-2\"]/div[2]/div[1]/div[2]/div/div[1]/strong').text\n",
    "        MAX_52S = navegador.find_element(By.XPATH, '//*[@id=\"main-2\"]/div[2]/div[1]/div[3]/div/div[1]/strong').text\n",
    "        GAIN_12M = navegador.find_element(By.XPATH, '//*[@id=\"main-2\"]/div[2]/div[1]/div[5]/div/div[1]/strong').text\n",
    "        GAIN_MES = navegador.find_element(By.XPATH, '//*[@id=\"main-2\"]/div[2]/div[1]/div[5]/div/div[1]/strong').text\n",
    "        TIPO = navegador.find_element(By.XPATH, '//*[@id=\"fund-section\"]/div/div/div[2]/div/div[6]/div/div/strong').text\n",
    "        SEGMENTO = navegador.find_element(By.XPATH, '//*[@id=\"fund-section\"]/div/div/div[2]/div/div[6]/div/div/strong').text\n",
    "        \n",
    "        \n",
    "\n",
    "        #Criando dict\n",
    "        dicionario = {  \"funds\": funds,\n",
    "                        \"NAME\": NAME,\n",
    "                        \"MIN_MES\": MIN_MES, \n",
    "                        \"MAX_MES\": MAX_MES, \n",
    "                        \"MIN_52S\": MIN_52S, \n",
    "                        \"MAX_52S\": MAX_52S, \n",
    "                        \"VAL_12M\": GAIN_12M,\n",
    "                        \"VAL_MES\": GAIN_MES,\n",
    "                        \"TIPO\": TIPO,\n",
    "                        \"SEGMENTO\": SEGMENTO\n",
    "                        \n",
    "                        }\n",
    "\n",
    "        #Criando lista de dicts\n",
    "        indicators_list_funds.append(dicionario)\n",
    "    except Exception as e:\n",
    "        print(e)\n",
    "\n",
    "#Fecha o navegador\n",
    "navegador.quit()"
   ],
   "metadata": {
    "collapsed": false,
    "ExecuteTime": {
     "end_time": "2023-09-15T03:16:11.196880Z",
     "start_time": "2023-09-15T03:04:06.386083Z"
    }
   }
  },
  {
   "cell_type": "code",
   "execution_count": 7,
   "outputs": [
    {
     "data": {
      "text/plain": "    TICKERS                                               NAME    MIN_MES  \\\n0    ABCP11                               GRAND PLAZA SHOPPING   R$ 67,10   \n1    AFHI11                                      AF INVEST CRI   R$ 97,00   \n2    AIEC11                   AUTONOMY EDIFÃCIOS CORPORATIVOS   R$ 65,83   \n3    ALMI11                                    TORRE ALMIRANTE  R$ 714,42   \n4    ALZC11  ALIANZA CRÃDITO IMOBILIÃRIO FII FUNDO DE INV...       R$ -   \n..      ...                                                ...        ...   \n466  XPPR11                      XP PROPERTIES FDO. INV. IMOB.   R$ 22,32   \n467  XPSF11          XP SELECTION FDO DE FUNDOS INV IMOB - FII    R$ 8,42   \n468  YUFI11                                YUCA FDO INV. IMOB.   R$ 88,90   \n469  ZAVI11                             ZAVIT REAL ESTATE FUND  R$ 123,97   \n470  ZIFI11    ZION CAPITAL FUNDO DE INVESTIMENTO IMOBILIÃRIO  R$ 897,00   \n\n       MAX_MES MIN_52S   MAX_52S VAL_12M VAL_MES  \\\n0     R$ 70,00   63,99     76,10  -10,54  -10,54   \n1     R$ 97,80   92,17    100,31   -2,50   -2,50   \n2     R$ 68,98   59,48     81,00  -12,09  -12,09   \n3    R$ 773,95  714,42  1.000,00  -18,03  -18,03   \n4         R$ -       -         -       -       -   \n..         ...     ...       ...     ...     ...   \n466   R$ 22,79   22,03     46,55  -52,01  -52,01   \n467    R$ 8,68    6,67      8,75   12,76   12,76   \n468   R$ 89,99   63,01    109,96  -19,15  -19,15   \n469  R$ 129,95  116,00    136,00   -0,50   -0,50   \n470  R$ 900,00  860,00  1.289,00  -30,18  -30,18   \n\n                                TIPO                         SEGMENTO  \n0                          Shoppings                        Shoppings  \n1    TÃ­tulos e Valores MobiliÃ¡rios  TÃ­tulos e Valores MobiliÃ¡rios  \n2                 Lajes Corporativas               Lajes Corporativas  \n3                 Lajes Corporativas               Lajes Corporativas  \n4                                  0                                0  \n..                               ...                              ...  \n466                           Outros                           Outros  \n467  TÃ­tulos e Valores MobiliÃ¡rios  TÃ­tulos e Valores MobiliÃ¡rios  \n468                      Residencial                      Residencial  \n469                         HÃ­brido                         HÃ­brido  \n470                         HÃ­brido                         HÃ­brido  \n\n[471 rows x 10 columns]",
      "text/html": "<div>\n<style scoped>\n    .dataframe tbody tr th:only-of-type {\n        vertical-align: middle;\n    }\n\n    .dataframe tbody tr th {\n        vertical-align: top;\n    }\n\n    .dataframe thead th {\n        text-align: right;\n    }\n</style>\n<table border=\"1\" class=\"dataframe\">\n  <thead>\n    <tr style=\"text-align: right;\">\n      <th></th>\n      <th>TICKERS</th>\n      <th>NAME</th>\n      <th>MIN_MES</th>\n      <th>MAX_MES</th>\n      <th>MIN_52S</th>\n      <th>MAX_52S</th>\n      <th>VAL_12M</th>\n      <th>VAL_MES</th>\n      <th>TIPO</th>\n      <th>SEGMENTO</th>\n    </tr>\n  </thead>\n  <tbody>\n    <tr>\n      <th>0</th>\n      <td>ABCP11</td>\n      <td>GRAND PLAZA SHOPPING</td>\n      <td>R$ 67,10</td>\n      <td>R$ 70,00</td>\n      <td>63,99</td>\n      <td>76,10</td>\n      <td>-10,54</td>\n      <td>-10,54</td>\n      <td>Shoppings</td>\n      <td>Shoppings</td>\n    </tr>\n    <tr>\n      <th>1</th>\n      <td>AFHI11</td>\n      <td>AF INVEST CRI</td>\n      <td>R$ 97,00</td>\n      <td>R$ 97,80</td>\n      <td>92,17</td>\n      <td>100,31</td>\n      <td>-2,50</td>\n      <td>-2,50</td>\n      <td>TÃ­tulos e Valores MobiliÃ¡rios</td>\n      <td>TÃ­tulos e Valores MobiliÃ¡rios</td>\n    </tr>\n    <tr>\n      <th>2</th>\n      <td>AIEC11</td>\n      <td>AUTONOMY EDIFÃCIOS CORPORATIVOS</td>\n      <td>R$ 65,83</td>\n      <td>R$ 68,98</td>\n      <td>59,48</td>\n      <td>81,00</td>\n      <td>-12,09</td>\n      <td>-12,09</td>\n      <td>Lajes Corporativas</td>\n      <td>Lajes Corporativas</td>\n    </tr>\n    <tr>\n      <th>3</th>\n      <td>ALMI11</td>\n      <td>TORRE ALMIRANTE</td>\n      <td>R$ 714,42</td>\n      <td>R$ 773,95</td>\n      <td>714,42</td>\n      <td>1.000,00</td>\n      <td>-18,03</td>\n      <td>-18,03</td>\n      <td>Lajes Corporativas</td>\n      <td>Lajes Corporativas</td>\n    </tr>\n    <tr>\n      <th>4</th>\n      <td>ALZC11</td>\n      <td>ALIANZA CRÃDITO IMOBILIÃRIO FII FUNDO DE INV...</td>\n      <td>R$ -</td>\n      <td>R$ -</td>\n      <td>-</td>\n      <td>-</td>\n      <td>-</td>\n      <td>-</td>\n      <td>0</td>\n      <td>0</td>\n    </tr>\n    <tr>\n      <th>...</th>\n      <td>...</td>\n      <td>...</td>\n      <td>...</td>\n      <td>...</td>\n      <td>...</td>\n      <td>...</td>\n      <td>...</td>\n      <td>...</td>\n      <td>...</td>\n      <td>...</td>\n    </tr>\n    <tr>\n      <th>466</th>\n      <td>XPPR11</td>\n      <td>XP PROPERTIES FDO. INV. IMOB.</td>\n      <td>R$ 22,32</td>\n      <td>R$ 22,79</td>\n      <td>22,03</td>\n      <td>46,55</td>\n      <td>-52,01</td>\n      <td>-52,01</td>\n      <td>Outros</td>\n      <td>Outros</td>\n    </tr>\n    <tr>\n      <th>467</th>\n      <td>XPSF11</td>\n      <td>XP SELECTION FDO DE FUNDOS INV IMOB - FII</td>\n      <td>R$ 8,42</td>\n      <td>R$ 8,68</td>\n      <td>6,67</td>\n      <td>8,75</td>\n      <td>12,76</td>\n      <td>12,76</td>\n      <td>TÃ­tulos e Valores MobiliÃ¡rios</td>\n      <td>TÃ­tulos e Valores MobiliÃ¡rios</td>\n    </tr>\n    <tr>\n      <th>468</th>\n      <td>YUFI11</td>\n      <td>YUCA FDO INV. IMOB.</td>\n      <td>R$ 88,90</td>\n      <td>R$ 89,99</td>\n      <td>63,01</td>\n      <td>109,96</td>\n      <td>-19,15</td>\n      <td>-19,15</td>\n      <td>Residencial</td>\n      <td>Residencial</td>\n    </tr>\n    <tr>\n      <th>469</th>\n      <td>ZAVI11</td>\n      <td>ZAVIT REAL ESTATE FUND</td>\n      <td>R$ 123,97</td>\n      <td>R$ 129,95</td>\n      <td>116,00</td>\n      <td>136,00</td>\n      <td>-0,50</td>\n      <td>-0,50</td>\n      <td>HÃ­brido</td>\n      <td>HÃ­brido</td>\n    </tr>\n    <tr>\n      <th>470</th>\n      <td>ZIFI11</td>\n      <td>ZION CAPITAL FUNDO DE INVESTIMENTO IMOBILIÃRIO</td>\n      <td>R$ 897,00</td>\n      <td>R$ 900,00</td>\n      <td>860,00</td>\n      <td>1.289,00</td>\n      <td>-30,18</td>\n      <td>-30,18</td>\n      <td>HÃ­brido</td>\n      <td>HÃ­brido</td>\n    </tr>\n  </tbody>\n</table>\n<p>471 rows × 10 columns</p>\n</div>"
     },
     "execution_count": 7,
     "metadata": {},
     "output_type": "execute_result"
    }
   ],
   "source": [
    "funds = pd.DataFrame.from_dict(indicators_list_funds)\n",
    "\n",
    "funds['MIN_MES'] = (funds['MIN_MES']).str.lstrip('$')\n",
    "funds['MAX_MES'] = (funds['MAX_MES']).str.lstrip('$')\n",
    "funds['VAL_12M'] = (funds['VAL_12M']).str.rstrip('%')\n",
    "funds['VAL_MES'] = (funds['VAL_MES']).str.rstrip('%')\n",
    "\n",
    "funds.to_csv('list_funds.csv')\n",
    "\n",
    "list_funds = pd.read_csv(\"list_funds.csv\", sep=',', decimal=',', thousands='.', encoding='ISO-8859-1' )\n",
    "\n",
    "list_funds.fillna(value=0, inplace=True)\n",
    "list_funds = list_funds.drop(['Unnamed: 0'],axis=1)\n",
    "list_funds.rename(columns={'funds': \"TICKERS\" }, inplace=True)\n",
    "\n",
    "list_funds"
   ],
   "metadata": {
    "collapsed": false,
    "ExecuteTime": {
     "end_time": "2023-09-15T03:16:25.971978Z",
     "start_time": "2023-09-15T03:16:25.765557Z"
    }
   }
  },
  {
   "cell_type": "code",
   "execution_count": 14,
   "outputs": [
    {
     "data": {
      "text/plain": "    TICKERS                                               NAME   PRECO  \\\n0    ABCP11                               GRAND PLAZA SHOPPING   67.89   \n1    AFHI11                                      AF INVEST CRI   97.80   \n2    AIEC11                   AUTONOMY EDIFÃCIOS CORPORATIVOS   68.79   \n3    ALMI11                                    TORRE ALMIRANTE  736.00   \n4    ALZC11  ALIANZA CRÃDITO IMOBILIÃRIO FII FUNDO DE INV...    0.00   \n..      ...                                                ...     ...   \n466  XPPR11                      XP PROPERTIES FDO. INV. IMOB.   22.34   \n467  XPSF11          XP SELECTION FDO DE FUNDOS INV IMOB - FII    8.57   \n468  YUFI11                                YUCA FDO INV. IMOB.   88.90   \n469  ZAVI11                             ZAVIT REAL ESTATE FUND  129.35   \n470  ZIFI11    ZION CAPITAL FUNDO DE INVESTIMENTO IMOBILIÃRIO  900.00   \n\n       MIN_MES    MAX_MES VAL_MES MIN_52S   MAX_52S VAL_12M   GESTAO  ...  \\\n0     R$ 67,10   R$ 70,00  -10,54   63,99     76,10  -10,54  Passiva  ...   \n1     R$ 97,00   R$ 97,80   -2,50   92,17    100,31   -2,50    Ativa  ...   \n2     R$ 65,83   R$ 68,98  -12,09   59,48     81,00  -12,09    Ativa  ...   \n3    R$ 714,42  R$ 773,95  -18,03  714,42  1.000,00  -18,03  Passiva  ...   \n4         R$ -       R$ -       -       -         -       -        0  ...   \n..         ...        ...     ...     ...       ...     ...      ...  ...   \n466   R$ 22,32   R$ 22,79  -52,01   22,03     46,55  -52,01    Ativa  ...   \n467    R$ 8,42    R$ 8,68   12,76    6,67      8,75   12,76    Ativa  ...   \n468   R$ 88,90   R$ 89,99  -19,15   63,01    109,96  -19,15    Ativa  ...   \n469  R$ 123,97  R$ 129,95   -0,50  116,00    136,00   -0,50    Ativa  ...   \n470  R$ 897,00  R$ 900,00  -30,18  860,00  1.289,00  -30,18    Ativa  ...   \n\n     N COTISTAS  DY_CAGR_3ANOS  VLR_CAGR_3ANOS  LIQ_DIARIA    PATRIMONIO  \\\n0       17906.0          13.18           -4.52    69929.48  4.325528e+08   \n1       22313.0           0.00            0.00  1187180.65  2.897112e+08   \n2       15564.0           9.48            0.00   733822.06  4.573551e+08   \n3        2367.0           0.00          -14.66    50133.59  2.257938e+08   \n4           0.0           0.00            0.00        0.00  0.000000e+00   \n..          ...            ...             ...         ...           ...   \n466     61991.0         -30.77          -35.97   336843.77  5.156974e+08   \n467     46486.0           0.78           -3.54   582819.26  3.816852e+08   \n468        56.0           0.00            0.00      149.00  5.008454e+07   \n469      3311.0           0.00            0.00   377343.13  1.586591e+08   \n470        65.0           0.00            0.00    17671.60  5.725747e+07   \n\n     VLR_PATR_COTA     N COTAS   ULT_DIV                             TIPO  \\\n0            91.86   4709082.0  0.500000                        Shoppings   \n1            95.95   3019453.0  1.050000  TÃ­tulos e Valores MobiliÃ¡rios   \n2            94.79   4824987.0  0.760000               Lajes Corporativas   \n3          2030.94    111177.0  0.371133               Lajes Corporativas   \n4             0.00   1000000.0  0.000000                                0   \n..             ...         ...       ...                              ...   \n466          70.49   7316171.0  0.100000                           Outros   \n467           8.81  43302140.0  0.075000  TÃ­tulos e Valores MobiliÃ¡rios   \n468         101.66    492650.0  0.383187                      Residencial   \n469         135.22   1173322.0  1.160000                         HÃ­brido   \n470        1205.80     47485.0  3.304958                         HÃ­brido   \n\n                            SEGMENTO  \n0                          Shoppings  \n1    TÃ­tulos e Valores MobiliÃ¡rios  \n2                 Lajes Corporativas  \n3                 Lajes Corporativas  \n4                                  0  \n..                               ...  \n466                           Outros  \n467  TÃ­tulos e Valores MobiliÃ¡rios  \n468                      Residencial  \n469                         HÃ­brido  \n470                         HÃ­brido  \n\n[471 rows x 23 columns]",
      "text/html": "<div>\n<style scoped>\n    .dataframe tbody tr th:only-of-type {\n        vertical-align: middle;\n    }\n\n    .dataframe tbody tr th {\n        vertical-align: top;\n    }\n\n    .dataframe thead th {\n        text-align: right;\n    }\n</style>\n<table border=\"1\" class=\"dataframe\">\n  <thead>\n    <tr style=\"text-align: right;\">\n      <th></th>\n      <th>TICKERS</th>\n      <th>NAME</th>\n      <th>PRECO</th>\n      <th>MIN_MES</th>\n      <th>MAX_MES</th>\n      <th>VAL_MES</th>\n      <th>MIN_52S</th>\n      <th>MAX_52S</th>\n      <th>VAL_12M</th>\n      <th>GESTAO</th>\n      <th>...</th>\n      <th>N COTISTAS</th>\n      <th>DY_CAGR_3ANOS</th>\n      <th>VLR_CAGR_3ANOS</th>\n      <th>LIQ_DIARIA</th>\n      <th>PATRIMONIO</th>\n      <th>VLR_PATR_COTA</th>\n      <th>N COTAS</th>\n      <th>ULT_DIV</th>\n      <th>TIPO</th>\n      <th>SEGMENTO</th>\n    </tr>\n  </thead>\n  <tbody>\n    <tr>\n      <th>0</th>\n      <td>ABCP11</td>\n      <td>GRAND PLAZA SHOPPING</td>\n      <td>67.89</td>\n      <td>R$ 67,10</td>\n      <td>R$ 70,00</td>\n      <td>-10,54</td>\n      <td>63,99</td>\n      <td>76,10</td>\n      <td>-10,54</td>\n      <td>Passiva</td>\n      <td>...</td>\n      <td>17906.0</td>\n      <td>13.18</td>\n      <td>-4.52</td>\n      <td>69929.48</td>\n      <td>4.325528e+08</td>\n      <td>91.86</td>\n      <td>4709082.0</td>\n      <td>0.500000</td>\n      <td>Shoppings</td>\n      <td>Shoppings</td>\n    </tr>\n    <tr>\n      <th>1</th>\n      <td>AFHI11</td>\n      <td>AF INVEST CRI</td>\n      <td>97.80</td>\n      <td>R$ 97,00</td>\n      <td>R$ 97,80</td>\n      <td>-2,50</td>\n      <td>92,17</td>\n      <td>100,31</td>\n      <td>-2,50</td>\n      <td>Ativa</td>\n      <td>...</td>\n      <td>22313.0</td>\n      <td>0.00</td>\n      <td>0.00</td>\n      <td>1187180.65</td>\n      <td>2.897112e+08</td>\n      <td>95.95</td>\n      <td>3019453.0</td>\n      <td>1.050000</td>\n      <td>TÃ­tulos e Valores MobiliÃ¡rios</td>\n      <td>TÃ­tulos e Valores MobiliÃ¡rios</td>\n    </tr>\n    <tr>\n      <th>2</th>\n      <td>AIEC11</td>\n      <td>AUTONOMY EDIFÃCIOS CORPORATIVOS</td>\n      <td>68.79</td>\n      <td>R$ 65,83</td>\n      <td>R$ 68,98</td>\n      <td>-12,09</td>\n      <td>59,48</td>\n      <td>81,00</td>\n      <td>-12,09</td>\n      <td>Ativa</td>\n      <td>...</td>\n      <td>15564.0</td>\n      <td>9.48</td>\n      <td>0.00</td>\n      <td>733822.06</td>\n      <td>4.573551e+08</td>\n      <td>94.79</td>\n      <td>4824987.0</td>\n      <td>0.760000</td>\n      <td>Lajes Corporativas</td>\n      <td>Lajes Corporativas</td>\n    </tr>\n    <tr>\n      <th>3</th>\n      <td>ALMI11</td>\n      <td>TORRE ALMIRANTE</td>\n      <td>736.00</td>\n      <td>R$ 714,42</td>\n      <td>R$ 773,95</td>\n      <td>-18,03</td>\n      <td>714,42</td>\n      <td>1.000,00</td>\n      <td>-18,03</td>\n      <td>Passiva</td>\n      <td>...</td>\n      <td>2367.0</td>\n      <td>0.00</td>\n      <td>-14.66</td>\n      <td>50133.59</td>\n      <td>2.257938e+08</td>\n      <td>2030.94</td>\n      <td>111177.0</td>\n      <td>0.371133</td>\n      <td>Lajes Corporativas</td>\n      <td>Lajes Corporativas</td>\n    </tr>\n    <tr>\n      <th>4</th>\n      <td>ALZC11</td>\n      <td>ALIANZA CRÃDITO IMOBILIÃRIO FII FUNDO DE INV...</td>\n      <td>0.00</td>\n      <td>R$ -</td>\n      <td>R$ -</td>\n      <td>-</td>\n      <td>-</td>\n      <td>-</td>\n      <td>-</td>\n      <td>0</td>\n      <td>...</td>\n      <td>0.0</td>\n      <td>0.00</td>\n      <td>0.00</td>\n      <td>0.00</td>\n      <td>0.000000e+00</td>\n      <td>0.00</td>\n      <td>1000000.0</td>\n      <td>0.000000</td>\n      <td>0</td>\n      <td>0</td>\n    </tr>\n    <tr>\n      <th>...</th>\n      <td>...</td>\n      <td>...</td>\n      <td>...</td>\n      <td>...</td>\n      <td>...</td>\n      <td>...</td>\n      <td>...</td>\n      <td>...</td>\n      <td>...</td>\n      <td>...</td>\n      <td>...</td>\n      <td>...</td>\n      <td>...</td>\n      <td>...</td>\n      <td>...</td>\n      <td>...</td>\n      <td>...</td>\n      <td>...</td>\n      <td>...</td>\n      <td>...</td>\n      <td>...</td>\n    </tr>\n    <tr>\n      <th>466</th>\n      <td>XPPR11</td>\n      <td>XP PROPERTIES FDO. INV. IMOB.</td>\n      <td>22.34</td>\n      <td>R$ 22,32</td>\n      <td>R$ 22,79</td>\n      <td>-52,01</td>\n      <td>22,03</td>\n      <td>46,55</td>\n      <td>-52,01</td>\n      <td>Ativa</td>\n      <td>...</td>\n      <td>61991.0</td>\n      <td>-30.77</td>\n      <td>-35.97</td>\n      <td>336843.77</td>\n      <td>5.156974e+08</td>\n      <td>70.49</td>\n      <td>7316171.0</td>\n      <td>0.100000</td>\n      <td>Outros</td>\n      <td>Outros</td>\n    </tr>\n    <tr>\n      <th>467</th>\n      <td>XPSF11</td>\n      <td>XP SELECTION FDO DE FUNDOS INV IMOB - FII</td>\n      <td>8.57</td>\n      <td>R$ 8,42</td>\n      <td>R$ 8,68</td>\n      <td>12,76</td>\n      <td>6,67</td>\n      <td>8,75</td>\n      <td>12,76</td>\n      <td>Ativa</td>\n      <td>...</td>\n      <td>46486.0</td>\n      <td>0.78</td>\n      <td>-3.54</td>\n      <td>582819.26</td>\n      <td>3.816852e+08</td>\n      <td>8.81</td>\n      <td>43302140.0</td>\n      <td>0.075000</td>\n      <td>TÃ­tulos e Valores MobiliÃ¡rios</td>\n      <td>TÃ­tulos e Valores MobiliÃ¡rios</td>\n    </tr>\n    <tr>\n      <th>468</th>\n      <td>YUFI11</td>\n      <td>YUCA FDO INV. IMOB.</td>\n      <td>88.90</td>\n      <td>R$ 88,90</td>\n      <td>R$ 89,99</td>\n      <td>-19,15</td>\n      <td>63,01</td>\n      <td>109,96</td>\n      <td>-19,15</td>\n      <td>Ativa</td>\n      <td>...</td>\n      <td>56.0</td>\n      <td>0.00</td>\n      <td>0.00</td>\n      <td>149.00</td>\n      <td>5.008454e+07</td>\n      <td>101.66</td>\n      <td>492650.0</td>\n      <td>0.383187</td>\n      <td>Residencial</td>\n      <td>Residencial</td>\n    </tr>\n    <tr>\n      <th>469</th>\n      <td>ZAVI11</td>\n      <td>ZAVIT REAL ESTATE FUND</td>\n      <td>129.35</td>\n      <td>R$ 123,97</td>\n      <td>R$ 129,95</td>\n      <td>-0,50</td>\n      <td>116,00</td>\n      <td>136,00</td>\n      <td>-0,50</td>\n      <td>Ativa</td>\n      <td>...</td>\n      <td>3311.0</td>\n      <td>0.00</td>\n      <td>0.00</td>\n      <td>377343.13</td>\n      <td>1.586591e+08</td>\n      <td>135.22</td>\n      <td>1173322.0</td>\n      <td>1.160000</td>\n      <td>HÃ­brido</td>\n      <td>HÃ­brido</td>\n    </tr>\n    <tr>\n      <th>470</th>\n      <td>ZIFI11</td>\n      <td>ZION CAPITAL FUNDO DE INVESTIMENTO IMOBILIÃRIO</td>\n      <td>900.00</td>\n      <td>R$ 897,00</td>\n      <td>R$ 900,00</td>\n      <td>-30,18</td>\n      <td>860,00</td>\n      <td>1.289,00</td>\n      <td>-30,18</td>\n      <td>Ativa</td>\n      <td>...</td>\n      <td>65.0</td>\n      <td>0.00</td>\n      <td>0.00</td>\n      <td>17671.60</td>\n      <td>5.725747e+07</td>\n      <td>1205.80</td>\n      <td>47485.0</td>\n      <td>3.304958</td>\n      <td>HÃ­brido</td>\n      <td>HÃ­brido</td>\n    </tr>\n  </tbody>\n</table>\n<p>471 rows × 23 columns</p>\n</div>"
     },
     "execution_count": 14,
     "metadata": {},
     "output_type": "execute_result"
    }
   ],
   "source": [
    "invest_funds = pd.merge(fundinvest, list_funds, on='TICKERS')\n",
    "\n",
    "invest_funds = invest_funds[['TICKERS', 'NAME', 'PRECO', 'MIN_MES', 'MAX_MES', 'VAL_MES', 'MIN_52S', 'MAX_52S',  'VAL_12M',\n",
    "                             'GESTAO' , 'DY', 'P/VP', 'PERC_CX', 'N COTISTAS', 'DY_CAGR_3ANOS', \n",
    "                             'VLR_CAGR_3ANOS', 'LIQ_DIARIA', 'PATRIMONIO', 'VLR_PATR_COTA', \n",
    "                             ' N COTAS', 'ULT_DIV', 'TIPO', 'SEGMENTO']]\n",
    "\n",
    "invest_funds"
   ],
   "metadata": {
    "collapsed": false,
    "ExecuteTime": {
     "end_time": "2023-09-15T03:20:20.175791Z",
     "start_time": "2023-09-15T03:20:20.096773Z"
    }
   }
  },
  {
   "cell_type": "code",
   "execution_count": null,
   "outputs": [],
   "source": [],
   "metadata": {
    "collapsed": false
   }
  }
 ],
 "nbformat": 4,
 "nbformat_minor": 0,
 "metadata": {
  "deepnote": {},
  "orig_nbformat": 2,
  "deepnote_notebook_id": "492085a6bf3141a79474d7a842a3ce2d",
  "deepnote_persisted_session": {
   "createdAt": "2023-08-25T04:16:33.077Z"
  },
  "deepnote_execution_queue": [],
  "kernelspec": {
   "name": "python3",
   "language": "python",
   "display_name": "Python 3 (ipykernel)"
  }
 }
}
