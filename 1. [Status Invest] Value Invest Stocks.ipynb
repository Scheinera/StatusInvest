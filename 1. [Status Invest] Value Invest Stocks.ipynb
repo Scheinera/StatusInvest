{
 "cells": [
  {
   "cell_type": "code",
   "execution_count": 1,
   "id": "initial_id",
   "metadata": {
    "collapsed": true,
    "ExecuteTime": {
     "end_time": "2023-09-14T04:57:29.456822Z",
     "start_time": "2023-09-14T04:57:24.649567Z"
    }
   },
   "outputs": [],
   "source": [
    "import pandas as pd\n",
    "import matplotlib.pyplot as plt\n",
    "import time\n",
    "import dash\n",
    "import openpyxl\n",
    "import os\n",
    "from pathlib import Path\n",
    "from selenium import webdriver\n",
    "from selenium.webdriver.chrome.service import Service \n",
    "from webdriver_manager.chrome import ChromeDriverManager\n",
    "from selenium.webdriver.common.by import By\n",
    "from selenium.webdriver.support.ui import WebDriverWait\n",
    "from selenium.webdriver.support import expected_conditions as EC"
   ]
  },
  {
   "cell_type": "code",
   "execution_count": 2,
   "outputs": [
    {
     "name": "stdout",
     "output_type": "stream",
     "text": [
      "Source path renamed to destination path successfully.\n"
     ]
    }
   ],
   "source": [
    "#Instalando o driver\n",
    "servico = Service(ChromeDriverManager().install())\n",
    "\n",
    "#Abrindo o navegador\n",
    "navegador = webdriver.Chrome(service=servico)\n",
    "\n",
    "##Iniciando o processo dados\n",
    "navegador.get('https://statusinvest.com.br/acoes/busca-avancada/')\n",
    "time.sleep(2)\n",
    "navegador.find_element(By.XPATH, '//*[@id=\"main-2\"]/div[3]/div/div/div/button[2]').click()\n",
    "time.sleep(2)\n",
    "navegador.find_element(By.XPATH, '//*[@id=\"main-2\"]/div[4]/div/div[1]/div[2]/a/span').click()\n",
    "time.sleep(2)\n",
    "\n",
    "#Fecha o navegador\n",
    "navegador.quit()\n",
    "\n",
    "## Renomeia o arquivo e move para pasta desejada\n",
    "source = '/Users/scheiner/Downloads/statusinvest-busca-avancada.csv'\n",
    "dest = '/Users/scheiner/Documents/GitHub/StatusInvest/stocks.csv'\n",
    "os.rename(source, dest) \n",
    "\n",
    "print(\"Source path renamed to destination path successfully.\")"
   ],
   "metadata": {
    "collapsed": false,
    "ExecuteTime": {
     "end_time": "2023-09-14T04:57:48.334083Z",
     "start_time": "2023-09-14T04:57:29.478420Z"
    }
   },
   "id": "a192172055a6825e"
  },
  {
   "cell_type": "code",
   "execution_count": 3,
   "outputs": [],
   "source": [
    "### Tratamento dos dados importados:\n",
    "\n",
    "df = pd.read_csv(\"stocks.csv\", sep=';', decimal=',', thousands='.', encoding='ISO-8859-1' )\n",
    "    \n",
    "df['P/L_IDEAL'] = df[' VPA'] / df[' LPA']\n",
    "df['UP/DOWNSIDE'] = (df[' VPA'] / df['PRECO'])-1\n",
    "    \n",
    "valuation = df.loc[:, ['TICKER', 'PRECO', ' VPA' , 'DY', ' LPA', 'P/L', 'P/L_IDEAL', 'UP/DOWNSIDE', 'ROE', \n",
    "                           'P/VP', 'EV/EBIT' ,'LIQ. CORRENTE', 'MARG. LIQUIDA', 'DIV. LIQ. / PATRI.']]\n",
    "\n",
    "valuation.fillna(value=0, inplace=True)\n",
    "valuation.rename(columns={'LIQ. CORRENTE': \"LIQ.CORR\" }, inplace=True)\n",
    "valuation.rename(columns={'MARG. LIQUIDA': \"MARG.LIQ\" }, inplace=True)\n",
    "valuation.rename(columns={'DIV. LIQ. / PATRI.': \"DIV.LIQ/PL\" }, inplace=True)\n",
    "    \n",
    "    \n",
    "valuation = valuation.loc[valuation['DY'] >= 1].loc[\n",
    "    valuation['P/L'] >= 0.01].loc[valuation['P/L'] < 15].loc[\n",
    "    valuation['ROE'] >= 6].loc[\n",
    "    valuation['EV/EBIT'] >= 0.01].loc[valuation['EV/EBIT'] <= 15].loc[\n",
    "    valuation['LIQ.CORR'] >= 0.5]\n"
   ],
   "metadata": {
    "collapsed": false,
    "ExecuteTime": {
     "end_time": "2023-09-14T04:57:48.463660Z",
     "start_time": "2023-09-14T04:57:48.344990Z"
    }
   },
   "id": "bf05b800347381e3"
  },
  {
   "cell_type": "code",
   "execution_count": 4,
   "outputs": [],
   "source": [
    "#Instalando o driver\n",
    "servico = Service(ChromeDriverManager().install())\n",
    "\n",
    "#Abrindo o navegador\n",
    "navegador = webdriver.Chrome(service=servico)\n",
    "\n",
    "ticker = valuation['TICKER']\n",
    "lista_stocks = ticker.to_list()\n",
    "\n",
    "lista_indicadores_stocks = []\n",
    "for stocks in lista_stocks:\n",
    "\n",
    "    #Criando url\n",
    "    url = f\"https://statusinvest.com.br/acoes/{stocks}\"\n",
    "\n",
    "    \n",
    "    try:\n",
    "        #Abrindo o navegador\n",
    "        navegador.get(url)\n",
    "\n",
    "        time.sleep(0.25)\n",
    "    \n",
    "        #Coletando infos\n",
    "        PRECO = navegador.find_element(By.XPATH, '//*[@id=\"main-2\"]/div[2]/div/div[1]/div/div[1]/div/div[1]/strong').text\n",
    "        MIN_MES = navegador.find_element(By.XPATH, '//*[@id=\"main-2\"]/div[2]/div/div[1]/div/div[2]/div/div[2]/div/span[2]').text\n",
    "        MAX_MES = navegador.find_element(By.XPATH, '//*[@id=\"main-2\"]/div[2]/div/div[1]/div/div[3]/div/div[2]/div/span[2]').text\n",
    "        MIN_52S = navegador.find_element(By.XPATH, '//*[@id=\"main-2\"]/div[2]/div/div[1]/div/div[2]/div/div[1]/strong').text\n",
    "        MAX_52S = navegador.find_element(By.XPATH, '//*[@id=\"main-2\"]/div[2]/div/div[1]/div/div[3]/div/div[1]/strong').text\n",
    "        DY = navegador.find_element(By.XPATH, '//*[@id=\"main-2\"]/div[2]/div/div[1]/div/div[4]/div/div[1]/strong').text\n",
    "        GAIN_12M = navegador.find_element(By.XPATH, '//*[@id=\"main-2\"]/div[2]/div/div[1]/div/div[5]/div/div[1]/strong').text\n",
    "        GAIN_MES = navegador.find_element(By.XPATH, '//*[@id=\"main-2\"]/div[2]/div/div[1]/div/div[5]/div/div[2]/div/span[2]/b').text\n",
    "        QTDEPAPEL = navegador.find_element(By.XPATH, '//*[@id=\"company-section\"]/div[1]/div/div[2]/div[9]/div/div/strong').text\n",
    "        SEGMENTO = navegador.find_element(By.XPATH, '//*[@id=\"company-section\"]/div[1]/div/div[3]/div/div[3]/div/div/div/a/strong').text\n",
    "        \n",
    "        \n",
    "\n",
    "        #Criando dict\n",
    "        dicionario = {  \"stocks\": stocks, \n",
    "                        \"MIN_MES\": MIN_MES, \n",
    "                        \"MAX_MES\": MAX_MES, \n",
    "                        \"MIN_52S\": MIN_52S, \n",
    "                        \"MAX_52S\": MAX_52S, \n",
    "                        \"VAL_12M\": GAIN_12M,\n",
    "                        \"VAL_MES\": GAIN_MES,\n",
    "                        \"QTDEPAPEL\": QTDEPAPEL,\n",
    "                        \"SEGMENTO\": SEGMENTO\n",
    "                        \n",
    "                        }\n",
    "\n",
    "        #Criando lista de dicts\n",
    "        lista_indicadores_stocks.append(dicionario)\n",
    "    except Exception as e:\n",
    "        print(e)\n",
    "\n",
    "#Fecha o navegador\n",
    "navegador.quit()\n"
   ],
   "metadata": {
    "collapsed": false,
    "ExecuteTime": {
     "end_time": "2023-09-14T05:01:34.128248Z",
     "start_time": "2023-09-14T04:57:48.480002Z"
    }
   },
   "id": "db5440719f90c5d4"
  },
  {
   "cell_type": "code",
   "execution_count": 5,
   "outputs": [],
   "source": [
    "### Preparando os dados e Dataframe\n",
    "\n",
    "list_stocks = pd.DataFrame.from_dict(lista_indicadores_stocks)\n",
    "\n",
    "list_stocks = list_stocks.replace('-', '')\n",
    "list_stocks = list_stocks.replace('-%', '')\n",
    "list_stocks['MIN_MES'] = (list_stocks['MIN_MES']).str.lstrip('R$ ')\n",
    "list_stocks['MAX_MES'] = (list_stocks['MAX_MES']).str.lstrip('R$ ')\n",
    "list_stocks['MIN_MES'] = (list_stocks['MIN_MES']).str.strip('- ')\n",
    "list_stocks['MAX_MES'] = (list_stocks['MAX_MES']).str.strip('- ')\n",
    "list_stocks['VAL_12M'] = (list_stocks['VAL_12M']).str.rstrip('%')\n",
    "list_stocks['VAL_MES'] = (list_stocks['VAL_MES']).str.rstrip('%')\n",
    "list_stocks.to_csv('list_stocks.csv')\n",
    "\n",
    "list_stocks = pd.read_csv(\"list_stocks.csv\", sep=',', decimal=',', thousands='.', encoding='ISO-8859-1' )\n",
    "\n",
    "list_stocks = list_stocks.drop(['Unnamed: 0'],axis=1)\n",
    "list_stocks.fillna(value=0, inplace=True)\n",
    "\n",
    "list_stocks = list_stocks.replace('AcessÃ³rios', 'Acessorios')\n",
    "list_stocks = list_stocks.replace('Armas e MuniÃ§Ãµes', 'Armas e Municoes')\n",
    "list_stocks = list_stocks.replace('Artefatos de Ferro e AÃ§o', 'Artefatos de Ferro e Aco')\n",
    "list_stocks = list_stocks.replace('AutomÃ³veis e Motocicletas', 'Automoveis e Motocicletas')\n",
    "list_stocks = list_stocks.replace('AÃ§ucar e Alcool', 'Acucar e Alcool')\n",
    "list_stocks = list_stocks.replace('CalÃ§ados', 'Calcados')\n",
    "list_stocks = list_stocks.replace('ConstruÃ§Ã£o Pesada', 'Construcao Pesada')\n",
    "list_stocks = list_stocks.replace('EletrodomÃ©sticos', 'Eletrodomesticos')\n",
    "list_stocks = list_stocks.replace('Energia ElÃ©trica', 'Energia Eletrica')\n",
    "list_stocks = list_stocks.replace('Equipamentos e ServiÃ§os', 'Equipamentos e Servicos')\n",
    "list_stocks = list_stocks.replace('ExploraÃ§Ã£o de ImÃ³veis', 'Exploracao de Imoveis')\n",
    "list_stocks = list_stocks.replace('ExploraÃ§Ã£o de Rodovias', 'Exploracao de Rodovias')\n",
    "list_stocks = list_stocks.replace('ExploraÃ§Ã£o. Refino e DistribuiÃ§Ã£o', 'Exploracao Refino e Distribuicao')\n",
    "list_stocks = list_stocks.replace('GestÃ£o de Recursos e Investimentos', 'Gestao Recursos e Investimentos')\n",
    "list_stocks = list_stocks.replace('GÃ¡s', 'Gas')\n",
    "list_stocks = list_stocks.replace('IncorporaÃ§Ãµes', 'Incorporacoes')\n",
    "list_stocks = list_stocks.replace('IntermediaÃ§Ã£o ImobiliÃ¡ria', 'Intermediacao Imobiliaria')\n",
    "list_stocks = list_stocks.replace('LogÃ­stica', 'Logistica')\n",
    "list_stocks = list_stocks.replace('Material AeronÃ¡utico e de Defesa', 'Material Aeronautico e Defesa')\n",
    "list_stocks = list_stocks.replace('Material RodoviÃ¡rio', 'Material Rodoviario')\n",
    "list_stocks = list_stocks.replace('Minerais MetÃ¡licos', 'Minerais Metalicos')\n",
    "list_stocks = list_stocks.replace('MÃ¡q. e Equip. ConstruÃ§Ã£o e AgrÃ­colas', 'Maq Equip Construcao e Agricolas')\n",
    "list_stocks = list_stocks.replace('MÃ¡q. e Equip. Industriais', 'Maq Equip Industriais')\n",
    "list_stocks = list_stocks.replace('MÃ³veis', 'Moveis')\n",
    "list_stocks = list_stocks.replace('PetroquÃ­micos', 'Petroquimicos')\n",
    "list_stocks = list_stocks.replace('Produtos para ConstruÃ§Ã£o', 'Produtos para Construcao')\n",
    "list_stocks = list_stocks.replace('ProduÃ§Ã£o de Eventos e Shows', 'Producao de Eventos e Shows')\n",
    "list_stocks = list_stocks.replace('ProduÃ§Ã£o e DifusÃ£o de Filmes e Programas', 'Producao Difusao de Filmes e Programas')\n",
    "list_stocks = list_stocks.replace('Programas de FidelizaÃ§Ã£o', 'Programas de Fidelizacao')\n",
    "list_stocks = list_stocks.replace('Programas e ServiÃ§os', 'Programas e Servicos')\n",
    "list_stocks = list_stocks.replace('QuÃ­micos Diversos', 'Quimicos Diversos')\n",
    "list_stocks = list_stocks.replace('Serv.MÃ©d.Hospit..AnÃ¡lises e DiagnÃ³sticos', 'Serv Mao Hosp Analises e Diagnosticos')\n",
    "list_stocks = list_stocks.replace('ServiÃ§os Diversos', 'Servicos Diversos')\n",
    "list_stocks = list_stocks.replace('ServiÃ§os Educacionais', 'Servicos Educacionais')\n",
    "list_stocks = list_stocks.replace('ServiÃ§os Financeiros Diversos', 'Servicos Financeiros Diversos')\n",
    "list_stocks = list_stocks.replace('Soc. CrÃ©dito e Financiamento', 'Soc Credito e Financiamento')\n",
    "list_stocks = list_stocks.replace('Tecidos. VestuÃ¡rio e CalÃ§ados', 'Tecidos Vestuario e Calcados')\n",
    "list_stocks = list_stocks.replace('TelecomunicaÃ§Ãµes', 'Telecomunicacoes')\n",
    "list_stocks = list_stocks.replace('Transporte AÃ©reo', 'Transporte Aereo')\n",
    "list_stocks = list_stocks.replace('Transporte FerroviÃ¡rio', 'Transporte Ferroviario')\n",
    "list_stocks = list_stocks.replace('Transporte HidroviÃ¡rio', 'Transporte Hidroviario')\n",
    "list_stocks = list_stocks.replace('UtensÃ­lios DomÃ©sticos', 'Utensilios Domesticos')\n",
    "list_stocks = list_stocks.replace('VestuÃ¡rio', 'Vestuario')\n",
    "list_stocks = list_stocks.replace('Ãgua e Saneamento', 'Agua e Saneamento')\n",
    "\n",
    "valuation.rename(columns={'TICKER': \"TICKERS\" }, inplace=True)\n",
    "\n",
    "list_stocks.rename(columns={'stocks': \"TICKERS\" }, inplace=True)\n",
    "\n",
    "investing = pd.merge(valuation, list_stocks, on='TICKERS')\n",
    "#investing.sort_index(axis=1, inplace=True)\n"
   ],
   "metadata": {
    "collapsed": false,
    "ExecuteTime": {
     "end_time": "2023-09-14T05:01:34.137456Z",
     "start_time": "2023-09-14T05:01:32.887809Z"
    }
   },
   "id": "591e751df974b801"
  },
  {
   "cell_type": "code",
   "execution_count": 6,
   "outputs": [
    {
     "data": {
      "text/plain": "    TICKERS  PRECO    VPA     DY   LPA    P/L  P/L_IDEAL  UP/DOWNSIDE    ROE  \\\n0     ABCB4  19.40  23.98   8.43  3.48   5.35   6.890805     0.236082  14.50   \n1     AFLT3   8.60   4.30   2.95  0.62  14.33   6.935484    -0.500000  14.46   \n2     AGRO3  27.56  21.46  12.49  2.62   9.88   8.190840    -0.221335  12.22   \n3     ALSO3  24.04  25.57   2.31  5.58   4.02   4.582437     0.063644  21.84   \n4    ALUP11  29.52  24.49   5.85  2.50  11.52   9.796000    -0.170393  10.19   \n..      ...    ...    ...    ...   ...    ...        ...          ...    ...   \n166   VLID3  18.29  15.79   3.48  2.00   9.23   7.895000    -0.136687  12.68   \n167   VULC3  21.65   7.70   2.98  2.17   9.32   3.548387    -0.644342  28.24   \n168   WIZC3   6.26   2.59   7.20  0.66   9.41   3.924242    -0.586262  25.32   \n169   WLMM3  25.00  17.94   3.14  3.11   8.08   5.768489    -0.282400  17.35   \n170   WLMM4  39.00  17.94   2.32  3.11  12.04   5.768489    -0.540000  17.35   \n\n     P/VP  ...  MARG.LIQ  DIV.LIQ/PL  MIN_MES  MAX_MES  MIN_52S  MAX_52S  \\\n0    0.78  ...     19.35        0.00    18.35    19.40    15.27    21.24   \n1    2.07  ...     48.96       -0.07     8.60     9.01     8.07    10.50   \n2    1.21  ...     20.98        0.21    24.06    29.02    22.59    31.35   \n3    0.88  ...    172.55       -0.12    22.54    24.04    15.15    25.47   \n4    1.17  ...     23.99        1.22    28.53    29.64    22.35    30.11   \n..    ...  ...       ...         ...      ...      ...      ...      ...   \n166  1.17  ...      8.63        0.35    18.29    19.16     7.84    19.16   \n167  2.63  ...     19.83        0.05    20.27    21.94    10.62    21.94   \n168  2.38  ...     10.49        0.10     6.13     6.46     4.91     8.41   \n169  1.40  ...      5.11        0.00    23.11    25.17    19.22    25.17   \n170  2.09  ...      5.11        0.00    37.49    39.00    14.88    39.00   \n\n     VAL_12M  VAL_MES  QTDEPAPEL                SEGMENTO  \n0       3.58     3.91  226090118                  Bancos  \n1      -6.01    -3.37   63084700        Energia Eletrica  \n2       3.07    12.77  102377008             Agricultura  \n3      34.38     4.57  573936909   Exploracao de Imoveis  \n4      16.86     3.47  914275704        Energia Eletrica  \n..       ...      ...        ...                     ...  \n166    92.53    -1.67   81836375       Servicos Diversos  \n167    56.88     5.82  245916244                Calcados  \n168   -21.75     0.32  159907282   Corretoras de Seguros  \n169    30.07    -0.68   36414670  Material de Transporte  \n170    45.20     2.39   36414670  Material de Transporte  \n\n[171 rows x 22 columns]",
      "text/html": "<div>\n<style scoped>\n    .dataframe tbody tr th:only-of-type {\n        vertical-align: middle;\n    }\n\n    .dataframe tbody tr th {\n        vertical-align: top;\n    }\n\n    .dataframe thead th {\n        text-align: right;\n    }\n</style>\n<table border=\"1\" class=\"dataframe\">\n  <thead>\n    <tr style=\"text-align: right;\">\n      <th></th>\n      <th>TICKERS</th>\n      <th>PRECO</th>\n      <th>VPA</th>\n      <th>DY</th>\n      <th>LPA</th>\n      <th>P/L</th>\n      <th>P/L_IDEAL</th>\n      <th>UP/DOWNSIDE</th>\n      <th>ROE</th>\n      <th>P/VP</th>\n      <th>...</th>\n      <th>MARG.LIQ</th>\n      <th>DIV.LIQ/PL</th>\n      <th>MIN_MES</th>\n      <th>MAX_MES</th>\n      <th>MIN_52S</th>\n      <th>MAX_52S</th>\n      <th>VAL_12M</th>\n      <th>VAL_MES</th>\n      <th>QTDEPAPEL</th>\n      <th>SEGMENTO</th>\n    </tr>\n  </thead>\n  <tbody>\n    <tr>\n      <th>0</th>\n      <td>ABCB4</td>\n      <td>19.40</td>\n      <td>23.98</td>\n      <td>8.43</td>\n      <td>3.48</td>\n      <td>5.35</td>\n      <td>6.890805</td>\n      <td>0.236082</td>\n      <td>14.50</td>\n      <td>0.78</td>\n      <td>...</td>\n      <td>19.35</td>\n      <td>0.00</td>\n      <td>18.35</td>\n      <td>19.40</td>\n      <td>15.27</td>\n      <td>21.24</td>\n      <td>3.58</td>\n      <td>3.91</td>\n      <td>226090118</td>\n      <td>Bancos</td>\n    </tr>\n    <tr>\n      <th>1</th>\n      <td>AFLT3</td>\n      <td>8.60</td>\n      <td>4.30</td>\n      <td>2.95</td>\n      <td>0.62</td>\n      <td>14.33</td>\n      <td>6.935484</td>\n      <td>-0.500000</td>\n      <td>14.46</td>\n      <td>2.07</td>\n      <td>...</td>\n      <td>48.96</td>\n      <td>-0.07</td>\n      <td>8.60</td>\n      <td>9.01</td>\n      <td>8.07</td>\n      <td>10.50</td>\n      <td>-6.01</td>\n      <td>-3.37</td>\n      <td>63084700</td>\n      <td>Energia Eletrica</td>\n    </tr>\n    <tr>\n      <th>2</th>\n      <td>AGRO3</td>\n      <td>27.56</td>\n      <td>21.46</td>\n      <td>12.49</td>\n      <td>2.62</td>\n      <td>9.88</td>\n      <td>8.190840</td>\n      <td>-0.221335</td>\n      <td>12.22</td>\n      <td>1.21</td>\n      <td>...</td>\n      <td>20.98</td>\n      <td>0.21</td>\n      <td>24.06</td>\n      <td>29.02</td>\n      <td>22.59</td>\n      <td>31.35</td>\n      <td>3.07</td>\n      <td>12.77</td>\n      <td>102377008</td>\n      <td>Agricultura</td>\n    </tr>\n    <tr>\n      <th>3</th>\n      <td>ALSO3</td>\n      <td>24.04</td>\n      <td>25.57</td>\n      <td>2.31</td>\n      <td>5.58</td>\n      <td>4.02</td>\n      <td>4.582437</td>\n      <td>0.063644</td>\n      <td>21.84</td>\n      <td>0.88</td>\n      <td>...</td>\n      <td>172.55</td>\n      <td>-0.12</td>\n      <td>22.54</td>\n      <td>24.04</td>\n      <td>15.15</td>\n      <td>25.47</td>\n      <td>34.38</td>\n      <td>4.57</td>\n      <td>573936909</td>\n      <td>Exploracao de Imoveis</td>\n    </tr>\n    <tr>\n      <th>4</th>\n      <td>ALUP11</td>\n      <td>29.52</td>\n      <td>24.49</td>\n      <td>5.85</td>\n      <td>2.50</td>\n      <td>11.52</td>\n      <td>9.796000</td>\n      <td>-0.170393</td>\n      <td>10.19</td>\n      <td>1.17</td>\n      <td>...</td>\n      <td>23.99</td>\n      <td>1.22</td>\n      <td>28.53</td>\n      <td>29.64</td>\n      <td>22.35</td>\n      <td>30.11</td>\n      <td>16.86</td>\n      <td>3.47</td>\n      <td>914275704</td>\n      <td>Energia Eletrica</td>\n    </tr>\n    <tr>\n      <th>...</th>\n      <td>...</td>\n      <td>...</td>\n      <td>...</td>\n      <td>...</td>\n      <td>...</td>\n      <td>...</td>\n      <td>...</td>\n      <td>...</td>\n      <td>...</td>\n      <td>...</td>\n      <td>...</td>\n      <td>...</td>\n      <td>...</td>\n      <td>...</td>\n      <td>...</td>\n      <td>...</td>\n      <td>...</td>\n      <td>...</td>\n      <td>...</td>\n      <td>...</td>\n      <td>...</td>\n    </tr>\n    <tr>\n      <th>166</th>\n      <td>VLID3</td>\n      <td>18.29</td>\n      <td>15.79</td>\n      <td>3.48</td>\n      <td>2.00</td>\n      <td>9.23</td>\n      <td>7.895000</td>\n      <td>-0.136687</td>\n      <td>12.68</td>\n      <td>1.17</td>\n      <td>...</td>\n      <td>8.63</td>\n      <td>0.35</td>\n      <td>18.29</td>\n      <td>19.16</td>\n      <td>7.84</td>\n      <td>19.16</td>\n      <td>92.53</td>\n      <td>-1.67</td>\n      <td>81836375</td>\n      <td>Servicos Diversos</td>\n    </tr>\n    <tr>\n      <th>167</th>\n      <td>VULC3</td>\n      <td>21.65</td>\n      <td>7.70</td>\n      <td>2.98</td>\n      <td>2.17</td>\n      <td>9.32</td>\n      <td>3.548387</td>\n      <td>-0.644342</td>\n      <td>28.24</td>\n      <td>2.63</td>\n      <td>...</td>\n      <td>19.83</td>\n      <td>0.05</td>\n      <td>20.27</td>\n      <td>21.94</td>\n      <td>10.62</td>\n      <td>21.94</td>\n      <td>56.88</td>\n      <td>5.82</td>\n      <td>245916244</td>\n      <td>Calcados</td>\n    </tr>\n    <tr>\n      <th>168</th>\n      <td>WIZC3</td>\n      <td>6.26</td>\n      <td>2.59</td>\n      <td>7.20</td>\n      <td>0.66</td>\n      <td>9.41</td>\n      <td>3.924242</td>\n      <td>-0.586262</td>\n      <td>25.32</td>\n      <td>2.38</td>\n      <td>...</td>\n      <td>10.49</td>\n      <td>0.10</td>\n      <td>6.13</td>\n      <td>6.46</td>\n      <td>4.91</td>\n      <td>8.41</td>\n      <td>-21.75</td>\n      <td>0.32</td>\n      <td>159907282</td>\n      <td>Corretoras de Seguros</td>\n    </tr>\n    <tr>\n      <th>169</th>\n      <td>WLMM3</td>\n      <td>25.00</td>\n      <td>17.94</td>\n      <td>3.14</td>\n      <td>3.11</td>\n      <td>8.08</td>\n      <td>5.768489</td>\n      <td>-0.282400</td>\n      <td>17.35</td>\n      <td>1.40</td>\n      <td>...</td>\n      <td>5.11</td>\n      <td>0.00</td>\n      <td>23.11</td>\n      <td>25.17</td>\n      <td>19.22</td>\n      <td>25.17</td>\n      <td>30.07</td>\n      <td>-0.68</td>\n      <td>36414670</td>\n      <td>Material de Transporte</td>\n    </tr>\n    <tr>\n      <th>170</th>\n      <td>WLMM4</td>\n      <td>39.00</td>\n      <td>17.94</td>\n      <td>2.32</td>\n      <td>3.11</td>\n      <td>12.04</td>\n      <td>5.768489</td>\n      <td>-0.540000</td>\n      <td>17.35</td>\n      <td>2.09</td>\n      <td>...</td>\n      <td>5.11</td>\n      <td>0.00</td>\n      <td>37.49</td>\n      <td>39.00</td>\n      <td>14.88</td>\n      <td>39.00</td>\n      <td>45.20</td>\n      <td>2.39</td>\n      <td>36414670</td>\n      <td>Material de Transporte</td>\n    </tr>\n  </tbody>\n</table>\n<p>171 rows × 22 columns</p>\n</div>"
     },
     "execution_count": 6,
     "metadata": {},
     "output_type": "execute_result"
    }
   ],
   "source": [
    "investing"
   ],
   "metadata": {
    "collapsed": false,
    "ExecuteTime": {
     "end_time": "2023-09-14T05:01:34.145912Z",
     "start_time": "2023-09-14T05:01:32.935623Z"
    }
   },
   "id": "71201222944528d6"
  },
  {
   "cell_type": "code",
   "execution_count": 7,
   "outputs": [
    {
     "data": {
      "text/plain": "    TICKERS  PRECO  MIN_MES  MAX_MES  VAL_MES  MIN_52S  MAX_52S  VAL_12M  \\\n0     ABCB4  19.40    18.35    19.40     3.91    15.27    21.24     3.58   \n1     AFLT3   8.60     8.60     9.01    -3.37     8.07    10.50    -6.01   \n2     AGRO3  27.56    24.06    29.02    12.77    22.59    31.35     3.07   \n3     ALSO3  24.04    22.54    24.04     4.57    15.15    25.47    34.38   \n4    ALUP11  29.52    28.53    29.64     3.47    22.35    30.11    16.86   \n..      ...    ...      ...      ...      ...      ...      ...      ...   \n166   VLID3  18.29    18.29    19.16    -1.67     7.84    19.16    92.53   \n167   VULC3  21.65    20.27    21.94     5.82    10.62    21.94    56.88   \n168   WIZC3   6.26     6.13     6.46     0.32     4.91     8.41   -21.75   \n169   WLMM3  25.00    23.11    25.17    -0.68    19.22    25.17    30.07   \n170   WLMM4  39.00    37.49    39.00     2.39    14.88    39.00    45.20   \n\n       VPA     DY  ...  P/L_IDEAL  UP/DOWNSIDE    ROE  P/VP  EV/EBIT  \\\n0    23.98   8.43  ...   6.890805     0.236082  14.50  0.78     4.25   \n1     4.30   2.95  ...   6.935484    -0.500000  14.46  2.07    14.50   \n2    21.46  12.49  ...   8.190840    -0.221335  12.22  1.21    11.44   \n3    25.57   2.31  ...   4.582437     0.063644  21.84  0.88     2.04   \n4    24.49   5.85  ...   9.796000    -0.170393  10.19  1.17     7.76   \n..     ...    ...  ...        ...          ...    ...   ...      ...   \n166  15.79   3.48  ...   7.895000    -0.136687  12.68  1.17     5.21   \n167   7.70   2.98  ...   3.548387    -0.644342  28.24  2.63    10.27   \n168   2.59   7.20  ...   3.924242    -0.586262  25.32  2.38     2.72   \n169  17.94   3.14  ...   5.768489    -0.282400  17.35  1.40     7.22   \n170  17.94   2.32  ...   5.768489    -0.540000  17.35  2.09     7.22   \n\n     LIQ.CORR  MARG.LIQ  DIV.LIQ/PL  QTDEPAPEL                SEGMENTO  \n0        1.50     19.35        0.00  226090118                  Bancos  \n1        4.34     48.96       -0.07   63084700        Energia Eletrica  \n2        2.14     20.98        0.21  102377008             Agricultura  \n3        1.87    172.55       -0.12  573936909   Exploracao de Imoveis  \n4        2.44     23.99        1.22  914275704        Energia Eletrica  \n..        ...       ...         ...        ...                     ...  \n166      2.03      8.63        0.35   81836375       Servicos Diversos  \n167      3.71     19.83        0.05  245916244                Calcados  \n168      0.84     10.49        0.10  159907282   Corretoras de Seguros  \n169      2.48      5.11        0.00   36414670  Material de Transporte  \n170      2.48      5.11        0.00   36414670  Material de Transporte  \n\n[171 rows x 22 columns]",
      "text/html": "<div>\n<style scoped>\n    .dataframe tbody tr th:only-of-type {\n        vertical-align: middle;\n    }\n\n    .dataframe tbody tr th {\n        vertical-align: top;\n    }\n\n    .dataframe thead th {\n        text-align: right;\n    }\n</style>\n<table border=\"1\" class=\"dataframe\">\n  <thead>\n    <tr style=\"text-align: right;\">\n      <th></th>\n      <th>TICKERS</th>\n      <th>PRECO</th>\n      <th>MIN_MES</th>\n      <th>MAX_MES</th>\n      <th>VAL_MES</th>\n      <th>MIN_52S</th>\n      <th>MAX_52S</th>\n      <th>VAL_12M</th>\n      <th>VPA</th>\n      <th>DY</th>\n      <th>...</th>\n      <th>P/L_IDEAL</th>\n      <th>UP/DOWNSIDE</th>\n      <th>ROE</th>\n      <th>P/VP</th>\n      <th>EV/EBIT</th>\n      <th>LIQ.CORR</th>\n      <th>MARG.LIQ</th>\n      <th>DIV.LIQ/PL</th>\n      <th>QTDEPAPEL</th>\n      <th>SEGMENTO</th>\n    </tr>\n  </thead>\n  <tbody>\n    <tr>\n      <th>0</th>\n      <td>ABCB4</td>\n      <td>19.40</td>\n      <td>18.35</td>\n      <td>19.40</td>\n      <td>3.91</td>\n      <td>15.27</td>\n      <td>21.24</td>\n      <td>3.58</td>\n      <td>23.98</td>\n      <td>8.43</td>\n      <td>...</td>\n      <td>6.890805</td>\n      <td>0.236082</td>\n      <td>14.50</td>\n      <td>0.78</td>\n      <td>4.25</td>\n      <td>1.50</td>\n      <td>19.35</td>\n      <td>0.00</td>\n      <td>226090118</td>\n      <td>Bancos</td>\n    </tr>\n    <tr>\n      <th>1</th>\n      <td>AFLT3</td>\n      <td>8.60</td>\n      <td>8.60</td>\n      <td>9.01</td>\n      <td>-3.37</td>\n      <td>8.07</td>\n      <td>10.50</td>\n      <td>-6.01</td>\n      <td>4.30</td>\n      <td>2.95</td>\n      <td>...</td>\n      <td>6.935484</td>\n      <td>-0.500000</td>\n      <td>14.46</td>\n      <td>2.07</td>\n      <td>14.50</td>\n      <td>4.34</td>\n      <td>48.96</td>\n      <td>-0.07</td>\n      <td>63084700</td>\n      <td>Energia Eletrica</td>\n    </tr>\n    <tr>\n      <th>2</th>\n      <td>AGRO3</td>\n      <td>27.56</td>\n      <td>24.06</td>\n      <td>29.02</td>\n      <td>12.77</td>\n      <td>22.59</td>\n      <td>31.35</td>\n      <td>3.07</td>\n      <td>21.46</td>\n      <td>12.49</td>\n      <td>...</td>\n      <td>8.190840</td>\n      <td>-0.221335</td>\n      <td>12.22</td>\n      <td>1.21</td>\n      <td>11.44</td>\n      <td>2.14</td>\n      <td>20.98</td>\n      <td>0.21</td>\n      <td>102377008</td>\n      <td>Agricultura</td>\n    </tr>\n    <tr>\n      <th>3</th>\n      <td>ALSO3</td>\n      <td>24.04</td>\n      <td>22.54</td>\n      <td>24.04</td>\n      <td>4.57</td>\n      <td>15.15</td>\n      <td>25.47</td>\n      <td>34.38</td>\n      <td>25.57</td>\n      <td>2.31</td>\n      <td>...</td>\n      <td>4.582437</td>\n      <td>0.063644</td>\n      <td>21.84</td>\n      <td>0.88</td>\n      <td>2.04</td>\n      <td>1.87</td>\n      <td>172.55</td>\n      <td>-0.12</td>\n      <td>573936909</td>\n      <td>Exploracao de Imoveis</td>\n    </tr>\n    <tr>\n      <th>4</th>\n      <td>ALUP11</td>\n      <td>29.52</td>\n      <td>28.53</td>\n      <td>29.64</td>\n      <td>3.47</td>\n      <td>22.35</td>\n      <td>30.11</td>\n      <td>16.86</td>\n      <td>24.49</td>\n      <td>5.85</td>\n      <td>...</td>\n      <td>9.796000</td>\n      <td>-0.170393</td>\n      <td>10.19</td>\n      <td>1.17</td>\n      <td>7.76</td>\n      <td>2.44</td>\n      <td>23.99</td>\n      <td>1.22</td>\n      <td>914275704</td>\n      <td>Energia Eletrica</td>\n    </tr>\n    <tr>\n      <th>...</th>\n      <td>...</td>\n      <td>...</td>\n      <td>...</td>\n      <td>...</td>\n      <td>...</td>\n      <td>...</td>\n      <td>...</td>\n      <td>...</td>\n      <td>...</td>\n      <td>...</td>\n      <td>...</td>\n      <td>...</td>\n      <td>...</td>\n      <td>...</td>\n      <td>...</td>\n      <td>...</td>\n      <td>...</td>\n      <td>...</td>\n      <td>...</td>\n      <td>...</td>\n      <td>...</td>\n    </tr>\n    <tr>\n      <th>166</th>\n      <td>VLID3</td>\n      <td>18.29</td>\n      <td>18.29</td>\n      <td>19.16</td>\n      <td>-1.67</td>\n      <td>7.84</td>\n      <td>19.16</td>\n      <td>92.53</td>\n      <td>15.79</td>\n      <td>3.48</td>\n      <td>...</td>\n      <td>7.895000</td>\n      <td>-0.136687</td>\n      <td>12.68</td>\n      <td>1.17</td>\n      <td>5.21</td>\n      <td>2.03</td>\n      <td>8.63</td>\n      <td>0.35</td>\n      <td>81836375</td>\n      <td>Servicos Diversos</td>\n    </tr>\n    <tr>\n      <th>167</th>\n      <td>VULC3</td>\n      <td>21.65</td>\n      <td>20.27</td>\n      <td>21.94</td>\n      <td>5.82</td>\n      <td>10.62</td>\n      <td>21.94</td>\n      <td>56.88</td>\n      <td>7.70</td>\n      <td>2.98</td>\n      <td>...</td>\n      <td>3.548387</td>\n      <td>-0.644342</td>\n      <td>28.24</td>\n      <td>2.63</td>\n      <td>10.27</td>\n      <td>3.71</td>\n      <td>19.83</td>\n      <td>0.05</td>\n      <td>245916244</td>\n      <td>Calcados</td>\n    </tr>\n    <tr>\n      <th>168</th>\n      <td>WIZC3</td>\n      <td>6.26</td>\n      <td>6.13</td>\n      <td>6.46</td>\n      <td>0.32</td>\n      <td>4.91</td>\n      <td>8.41</td>\n      <td>-21.75</td>\n      <td>2.59</td>\n      <td>7.20</td>\n      <td>...</td>\n      <td>3.924242</td>\n      <td>-0.586262</td>\n      <td>25.32</td>\n      <td>2.38</td>\n      <td>2.72</td>\n      <td>0.84</td>\n      <td>10.49</td>\n      <td>0.10</td>\n      <td>159907282</td>\n      <td>Corretoras de Seguros</td>\n    </tr>\n    <tr>\n      <th>169</th>\n      <td>WLMM3</td>\n      <td>25.00</td>\n      <td>23.11</td>\n      <td>25.17</td>\n      <td>-0.68</td>\n      <td>19.22</td>\n      <td>25.17</td>\n      <td>30.07</td>\n      <td>17.94</td>\n      <td>3.14</td>\n      <td>...</td>\n      <td>5.768489</td>\n      <td>-0.282400</td>\n      <td>17.35</td>\n      <td>1.40</td>\n      <td>7.22</td>\n      <td>2.48</td>\n      <td>5.11</td>\n      <td>0.00</td>\n      <td>36414670</td>\n      <td>Material de Transporte</td>\n    </tr>\n    <tr>\n      <th>170</th>\n      <td>WLMM4</td>\n      <td>39.00</td>\n      <td>37.49</td>\n      <td>39.00</td>\n      <td>2.39</td>\n      <td>14.88</td>\n      <td>39.00</td>\n      <td>45.20</td>\n      <td>17.94</td>\n      <td>2.32</td>\n      <td>...</td>\n      <td>5.768489</td>\n      <td>-0.540000</td>\n      <td>17.35</td>\n      <td>2.09</td>\n      <td>7.22</td>\n      <td>2.48</td>\n      <td>5.11</td>\n      <td>0.00</td>\n      <td>36414670</td>\n      <td>Material de Transporte</td>\n    </tr>\n  </tbody>\n</table>\n<p>171 rows × 22 columns</p>\n</div>"
     },
     "execution_count": 7,
     "metadata": {},
     "output_type": "execute_result"
    }
   ],
   "source": [
    "value_invest = investing[['TICKERS', 'PRECO', 'MIN_MES', 'MAX_MES', 'VAL_MES', 'MIN_52S', 'MAX_52S',  'VAL_12M', \n",
    "                       ' VPA', 'DY', ' LPA', 'P/L' ,'P/L_IDEAL', 'UP/DOWNSIDE', 'ROE', 'P/VP', 'EV/EBIT', \n",
    "                       'LIQ.CORR', 'MARG.LIQ', 'DIV.LIQ/PL', 'QTDEPAPEL', 'SEGMENTO']]\n",
    "\n",
    "value_invest"
   ],
   "metadata": {
    "collapsed": false,
    "ExecuteTime": {
     "end_time": "2023-09-14T05:01:34.152382Z",
     "start_time": "2023-09-14T05:01:32.985890Z"
    }
   },
   "id": "489c38ac0238ed7f"
  },
  {
   "cell_type": "code",
   "execution_count": 7,
   "outputs": [],
   "source": [],
   "metadata": {
    "collapsed": false,
    "ExecuteTime": {
     "end_time": "2023-09-14T05:01:34.152985Z",
     "start_time": "2023-09-14T05:01:33.036601Z"
    }
   },
   "id": "2c0e98d791538057"
  }
 ],
 "metadata": {
  "kernelspec": {
   "display_name": "Python 3",
   "language": "python",
   "name": "python3"
  },
  "language_info": {
   "codemirror_mode": {
    "name": "ipython",
    "version": 2
   },
   "file_extension": ".py",
   "mimetype": "text/x-python",
   "name": "python",
   "nbconvert_exporter": "python",
   "pygments_lexer": "ipython2",
   "version": "2.7.6"
  }
 },
 "nbformat": 4,
 "nbformat_minor": 5
}
