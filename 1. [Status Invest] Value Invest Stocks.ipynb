{
 "cells": [
  {
   "cell_type": "code",
   "execution_count": 1,
   "id": "initial_id",
   "metadata": {
    "collapsed": true,
    "ExecuteTime": {
     "end_time": "2023-09-15T13:24:38.955742Z",
     "start_time": "2023-09-15T13:24:33.983999Z"
    }
   },
   "outputs": [],
   "source": [
    "import pandas as pd\n",
    "import matplotlib.pyplot as plt\n",
    "import time\n",
    "import dash\n",
    "import openpyxl\n",
    "import os\n",
    "from pathlib import Path\n",
    "from selenium import webdriver\n",
    "from selenium.webdriver.chrome.service import Service \n",
    "from webdriver_manager.chrome import ChromeDriverManager\n",
    "from selenium.webdriver.common.by import By\n",
    "from selenium.webdriver.support.ui import WebDriverWait\n",
    "from selenium.webdriver.support import expected_conditions as EC"
   ]
  },
  {
   "cell_type": "code",
   "execution_count": 2,
   "outputs": [
    {
     "name": "stdout",
     "output_type": "stream",
     "text": [
      "Source path renamed to destination path successfully.\n"
     ]
    }
   ],
   "source": [
    "#Instalando o driver\n",
    "servico = Service(ChromeDriverManager().install())\n",
    "\n",
    "#Abrindo o navegador\n",
    "navegador = webdriver.Chrome(service=servico)\n",
    "\n",
    "##Iniciando o processo dados\n",
    "navegador.get('https://statusinvest.com.br/acoes/busca-avancada/')\n",
    "time.sleep(2)\n",
    "navegador.find_element(By.XPATH, '//*[@id=\"main-2\"]/div[3]/div/div/div/button[2]').click()\n",
    "time.sleep(2)\n",
    "navegador.find_element(By.XPATH, '//*[@id=\"main-2\"]/div[4]/div/div[1]/div[2]/a/span').click()\n",
    "time.sleep(2)\n",
    "\n",
    "#Fecha o navegador\n",
    "navegador.quit()\n",
    "\n",
    "## Renomeia o arquivo e move para pasta desejada\n",
    "source = '/Users/scheiner/Downloads/statusinvest-busca-avancada.csv'\n",
    "dest = '/Users/scheiner/Documents/GitHub/StatusInvest/stocks.csv'\n",
    "os.rename(source, dest) \n",
    "\n",
    "print(\"Source path renamed to destination path successfully.\")"
   ],
   "metadata": {
    "collapsed": false,
    "ExecuteTime": {
     "end_time": "2023-09-15T13:24:54.721488Z",
     "start_time": "2023-09-15T13:24:38.957824Z"
    }
   },
   "id": "a192172055a6825e"
  },
  {
   "cell_type": "code",
   "execution_count": 3,
   "outputs": [],
   "source": [
    "### Tratamento dos dados importados:\n",
    "\n",
    "df = pd.read_csv(\"stocks.csv\", sep=';', decimal=',', thousands='.', encoding=\"utf-8\")\n",
    "    \n",
    "df['P/L_IDEAL'] = df[' VPA'] / df[' LPA']\n",
    "df['UP/DOWNSIDE'] = (df[' VPA'] / df['PRECO'])-1\n",
    "    \n",
    "valuation = df.loc[:, ['TICKER', 'PRECO', ' VPA' , 'DY', ' LPA', 'P/L', 'P/L_IDEAL', 'UP/DOWNSIDE', 'ROE', \n",
    "                           'P/VP', 'EV/EBIT' ,'LIQ. CORRENTE', 'MARG. LIQUIDA', 'DIV. LIQ. / PATRI.']]\n",
    "\n",
    "valuation.fillna(value=0, inplace=True)\n",
    "valuation.rename(columns={'LIQ. CORRENTE': \"LIQ.CORR\" }, inplace=True)\n",
    "valuation.rename(columns={'MARG. LIQUIDA': \"MARG.LIQ\" }, inplace=True)\n",
    "valuation.rename(columns={'DIV. LIQ. / PATRI.': \"DIV.LIQ/PL\" }, inplace=True)\n",
    "    \n",
    "    \n",
    "valuation = valuation.loc[valuation['DY'] >= 6].loc[\n",
    "    valuation['P/L'] >= 0.01].loc[valuation['P/L'] < 15].loc[\n",
    "    valuation['ROE'] >= 6].loc[\n",
    "    valuation['EV/EBIT'] >= 0.01].loc[valuation['EV/EBIT'] <= 15].loc[\n",
    "    valuation['LIQ.CORR'] >= 0.5]\n"
   ],
   "metadata": {
    "collapsed": false,
    "ExecuteTime": {
     "end_time": "2023-09-15T13:24:54.810742Z",
     "start_time": "2023-09-15T13:24:54.721243Z"
    }
   },
   "id": "bf05b800347381e3"
  },
  {
   "cell_type": "code",
   "execution_count": 4,
   "outputs": [],
   "source": [
    "#Instalando o driver\n",
    "servico = Service(ChromeDriverManager().install())\n",
    "\n",
    "#Abrindo o navegador\n",
    "navegador = webdriver.Chrome(service=servico)\n",
    "\n",
    "ticker = valuation['TICKER']\n",
    "lista_stocks = ticker.to_list()\n",
    "\n",
    "lista_indicadores_stocks = []\n",
    "for stocks in lista_stocks:\n",
    "\n",
    "    #Criando url\n",
    "    url = f\"https://statusinvest.com.br/acoes/{stocks}\"\n",
    "\n",
    "    \n",
    "    try:\n",
    "        #Abrindo o navegador\n",
    "        navegador.get(url)\n",
    "\n",
    "        time.sleep(0.25)\n",
    "    \n",
    "        #Coletando infos\n",
    "        PRECO = navegador.find_element(By.XPATH, '//*[@id=\"main-2\"]/div[2]/div/div[1]/div/div[1]/div/div[1]/strong').text\n",
    "        MIN_MES = navegador.find_element(By.XPATH, '//*[@id=\"main-2\"]/div[2]/div/div[1]/div/div[2]/div/div[2]/div/span[2]').text\n",
    "        MAX_MES = navegador.find_element(By.XPATH, '//*[@id=\"main-2\"]/div[2]/div/div[1]/div/div[3]/div/div[2]/div/span[2]').text\n",
    "        MIN_52S = navegador.find_element(By.XPATH, '//*[@id=\"main-2\"]/div[2]/div/div[1]/div/div[2]/div/div[1]/strong').text\n",
    "        MAX_52S = navegador.find_element(By.XPATH, '//*[@id=\"main-2\"]/div[2]/div/div[1]/div/div[3]/div/div[1]/strong').text\n",
    "        DY = navegador.find_element(By.XPATH, '//*[@id=\"main-2\"]/div[2]/div/div[1]/div/div[4]/div/div[1]/strong').text\n",
    "        GAIN_12M = navegador.find_element(By.XPATH, '//*[@id=\"main-2\"]/div[2]/div/div[1]/div/div[5]/div/div[1]/strong').text\n",
    "        GAIN_MES = navegador.find_element(By.XPATH, '//*[@id=\"main-2\"]/div[2]/div/div[1]/div/div[5]/div/div[2]/div/span[2]/b').text\n",
    "        SEGMENTO = navegador.find_element(By.XPATH, '//*[@id=\"company-section\"]/div[1]/div/div[3]/div/div[3]/div/div/div/a/strong').text\n",
    "        \n",
    "    \n",
    "\n",
    "        #Criando dict\n",
    "        dicionario = {  \"stocks\": stocks, \n",
    "                        \"MIN_MES\": MIN_MES, \n",
    "                        \"MAX_MES\": MAX_MES, \n",
    "                        \"MIN_52S\": MIN_52S, \n",
    "                        \"MAX_52S\": MAX_52S, \n",
    "                        \"VAL_12M\": GAIN_12M,\n",
    "                        \"VAL_MES\": GAIN_MES,\n",
    "                        \"SEGMENTO\": SEGMENTO\n",
    "                        \n",
    "                        }\n",
    "\n",
    "        #Criando lista de dicts\n",
    "        lista_indicadores_stocks.append(dicionario)\n",
    "    except Exception as e:\n",
    "        print(e)\n",
    "\n",
    "#Fecha o navegador\n",
    "navegador.quit()\n"
   ],
   "metadata": {
    "collapsed": false,
    "ExecuteTime": {
     "end_time": "2023-09-15T13:26:38.301056Z",
     "start_time": "2023-09-15T13:24:54.791793Z"
    }
   },
   "id": "db5440719f90c5d4"
  },
  {
   "cell_type": "code",
   "execution_count": 10,
   "outputs": [],
   "source": [
    "### Preparando os dados e Dataframe\n",
    "\n",
    "list_stocks = pd.DataFrame.from_dict(lista_indicadores_stocks)\n",
    "\n",
    "list_stocks = list_stocks.replace('-', '')\n",
    "list_stocks = list_stocks.replace('-%', '')\n",
    "list_stocks['MIN_MES'] = (list_stocks['MIN_MES']).str.lstrip('R$ ')\n",
    "list_stocks['MAX_MES'] = (list_stocks['MAX_MES']).str.lstrip('R$ ')\n",
    "list_stocks['MIN_MES'] = (list_stocks['MIN_MES']).str.strip('- ')\n",
    "list_stocks['MAX_MES'] = (list_stocks['MAX_MES']).str.strip('- ')\n",
    "list_stocks['VAL_12M'] = (list_stocks['VAL_12M']).str.rstrip('%')\n",
    "list_stocks['VAL_MES'] = (list_stocks['VAL_MES']).str.rstrip('%')\n",
    "list_stocks.to_csv('list_stocks.csv')\n",
    "\n",
    "list_stocks = pd.read_csv(\"list_stocks.csv\", sep=',', decimal=',', thousands='.', encoding=\"utf-8\" )\n",
    "\n",
    "list_stocks = list_stocks.drop(['Unnamed: 0'],axis=1)\n",
    "list_stocks.fillna(value=0, inplace=True)\n",
    "\n",
    "\n",
    "valuation.rename(columns={'TICKER': \"TICKERS\" }, inplace=True)\n",
    "\n",
    "list_stocks.rename(columns={'stocks': \"TICKERS\" }, inplace=True)\n",
    "\n",
    "investing = pd.merge(valuation, list_stocks, on='TICKERS')\n",
    "\n",
    "value_invest = investing[['TICKERS', 'PRECO', 'MIN_MES', 'MAX_MES', 'VAL_MES', 'MIN_52S', 'MAX_52S',  'VAL_12M', \n",
    "                       ' VPA', 'DY', ' LPA', 'P/L' ,'P/L_IDEAL', 'UP/DOWNSIDE', 'ROE', 'P/VP', 'EV/EBIT', \n",
    "                       'LIQ.CORR', 'MARG.LIQ', 'DIV.LIQ/PL', 'SEGMENTO']]\n",
    "\n",
    "### PEGANDO O INDICE IBOVESPA NA B3\n",
    "def get_tickers(indice):\n",
    "  url = 'http://bvmf.bmfbovespa.com.br/indices/ResumoCarteiraTeorica.aspx?Indice={}&idioma=pt-br'.format(indice.upper())\n",
    "  return (pd.read_html(url, decimal=',', thousands='.', index_col='Código')[0][:-1].index).to_list()\n",
    "\n",
    "t = get_tickers('IBOV')\n",
    "ibov = pd.DataFrame(t)\n",
    "ibov['IBOVESPA'] = 'IBOV'\n",
    "ibov.rename(columns={0: \"TICKERS\" }, inplace=True)\n",
    "ibov = ibov\n",
    "\n",
    "\n",
    "### PEGANDO O INDICE SMALL CAPS NA B3\n",
    "def get_tickers(indice):\n",
    "  url = 'http://bvmf.bmfbovespa.com.br/indices/ResumoCarteiraTeorica.aspx?Indice={}&idioma=pt-br'.format(indice.upper())\n",
    "  return (pd.read_html(url, decimal=',', thousands='.', index_col='Código')[0][:-1].index).to_list()\n",
    "\n",
    "u = get_tickers('SMLL')\n",
    "\n",
    "smll = pd.DataFrame(u)\n",
    "smll['SMALLCAP'] = 'SMLL'\n",
    "smll.rename(columns={0: \"TICKERS\" }, inplace=True)\n",
    "smll = smll\n",
    "\n",
    "### PEGANDO O INDICE SMALL IDIV NA B3\n",
    "def get_tickers(indice):\n",
    "  url = 'http://bvmf.bmfbovespa.com.br/indices/ResumoCarteiraTeorica.aspx?Indice={}&idioma=pt-br'.format(indice.upper())\n",
    "  return (pd.read_html(url, decimal=',', thousands='.', index_col='Código')[0][:-1].index).to_list()\n",
    "\n",
    "v = get_tickers('IDIV')\n",
    "\n",
    "idiv = pd.DataFrame(v)\n",
    "idiv['DIVIDENDOS'] = 'IDIV'\n",
    "idiv.rename(columns={0: \"TICKERS\" }, inplace=True)\n",
    "idiv = idiv\n",
    "\n",
    "value_invest = pd.merge(value_invest, ibov, on='TICKERS', how = 'left').fillna(0)\n",
    "\n",
    "value_invest = pd.merge(value_invest, smll, on='TICKERS', how = 'left').fillna(0)\n",
    "\n",
    "value_invest = pd.merge(value_invest, idiv, on='TICKERS', how = 'left').fillna(0)\n",
    "\n",
    "value_invest['IBOVESPA'] = (value_invest['IBOVESPA']).str.strip('0')\n",
    "value_invest['SMALLCAP'] = (value_invest['SMALLCAP']).str.strip('0')\n",
    "value_invest['DIVIDENDOS'] = (value_invest['DIVIDENDOS']).str.strip('0')\n",
    "\n",
    "value_invest.fillna('', inplace=True)\n",
    "\n",
    "value_invest = value_invest.loc[value_invest['DY'] >= 6].loc[\n",
    "    value_invest['P/L'] >= 0.01].loc[value_invest['P/L'] < 15].loc[\n",
    "    value_invest['ROE'] >= 6].loc[\n",
    "    value_invest['EV/EBIT'] >= 0.01].loc[value_invest['EV/EBIT'] <= 15].loc[\n",
    "    value_invest['LIQ.CORR'] >= 0.5].loc[\n",
    "    value_invest['UP/DOWNSIDE'] >= 0.1]#.loc[\n",
    "    # value_invest['IBOVESPA'] == 'IBOV'].loc[\n",
    "    # value_invest['SMALLCAP'] == 'SMLL'].loc[\n",
    "    # value_invest['DIVIDENDOS'] == 'IDIV']\n"
   ],
   "metadata": {
    "collapsed": false,
    "ExecuteTime": {
     "end_time": "2023-09-15T13:28:59.468011Z",
     "start_time": "2023-09-15T13:28:58.047640Z"
    }
   },
   "id": "591e751df974b801"
  },
  {
   "cell_type": "code",
   "execution_count": 11,
   "outputs": [
    {
     "data": {
      "text/plain": "   TICKERS   PRECO  MIN_MES  MAX_MES  VAL_MES  MIN_52S  MAX_52S  VAL_12M  \\\n0    ABCB4   20.26    18.35    20.26     8.52    15.27    21.24     6.69   \n3    BBAS3   47.38    46.35    47.39     0.53    29.19    50.89    31.79   \n4    BBDC3   13.18    12.80    13.20    -0.08    11.03    16.50   -10.64   \n7    BGIP3   26.00    24.90    28.99     4.42    21.06    33.22     1.05   \n8    BGIP4   24.00    22.12    24.10     8.50    15.08    27.39    42.01   \n11   BRSR3   12.92    12.51    13.35     0.86     9.58    14.71     9.68   \n12   BRSR6   12.46    12.11    12.76     0.40     8.56    15.00    17.33   \n13   CATA3  103.61   103.61   113.46     0.00     0.00     0.00     0.00   \n17   CIEL3    3.64     3.63     3.86    -5.70     3.63     5.69   -28.06   \n18   CLSC3   61.99    60.41    63.00     1.46    42.93    64.49    35.23   \n19   CLSC4   64.50    63.73    64.50     0.78    45.59    64.73    28.28   \n33   EUCA4   12.90    12.47    13.18     3.45     6.07    13.25    66.24   \n35   GGBR3   24.01    23.45    24.32    -1.27    16.90    25.88    41.65   \n37   GOAU3   11.86    11.51    12.00     0.42     8.59    13.04    38.07   \n38   GOAU4   11.91    11.56    12.08    -0.50     9.00    13.95    32.33   \n41   JHSF3    4.98     4.67     5.01     4.18     3.29     6.99   -27.30   \n47   MELK3    4.58     4.17     4.58     5.53     2.59     4.91    20.84   \n48   MMAQ4   49.73    48.80    61.38     0.00     0.00     0.00     0.00   \n49   MTRE3    5.35     5.03     5.36     1.71     2.87     6.96    26.78   \n50   NEOE3   19.11    18.13    19.11     3.30    13.08    21.99    23.29   \n54   POSI3    7.97     7.80     8.41    -3.86     5.92    12.45   -35.15   \n58  SAPR11   23.64    22.58    23.67     4.00    15.24    23.67    48.87   \n59   SAPR3    4.51     4.30     4.54     2.97     2.88     4.54    48.36   \n60   SAPR4    4.75     4.57     4.76     2.15     3.11     4.76    45.71   \n71   TKNO4   61.00    61.00    61.00     0.00    53.64    72.31   -13.27   \n\n        VPA      DY  ...    ROE  P/VP  EV/EBIT  LIQ.CORR  MARG.LIQ  \\\n0     23.98    7.87  ...  14.50  0.83     4.36      1.50     19.35   \n3     56.75    9.71  ...  20.01  0.83     3.18     12.76     12.35   \n4     15.64    6.91  ...   9.78  0.85    10.97      7.16      7.37   \n7     35.35    8.93  ...  10.32  0.71     6.38      0.76      5.27   \n8     35.35   10.24  ...  10.32  0.68     6.38      0.76      5.27   \n11    23.36    7.31  ...   8.61  0.55     5.81      2.81      5.73   \n12    23.36    7.57  ...   8.61  0.53     5.81      2.81      5.73   \n13  1214.17   38.09  ...  17.46  0.09     1.91      1.85      9.25   \n17     4.31    8.01  ...  16.24  0.84     4.77      1.19     17.91   \n18    82.99    6.43  ...  19.14  0.75     4.20      0.95      5.98   \n19    82.99    6.80  ...  19.14  0.78     4.20      0.95      5.98   \n33    23.09    6.06  ...  12.13  0.56     5.39      1.61      9.82   \n35    27.87   13.77  ...  19.52  0.86     3.58      2.94     12.54   \n37    16.83    9.83  ...  18.39  0.70     1.27      3.03      4.20   \n38    16.83    9.74  ...  18.39  0.71     1.27      3.03      4.20   \n41     7.41    9.44  ...   9.21  0.67     7.62      3.42     27.67   \n47     5.79    7.39  ...   6.74  0.78    13.67      3.11      7.61   \n48  5503.84  503.40  ...  15.88  0.01     3.19      1.58      4.08   \n49     9.72   17.38  ...   9.49  0.54    10.80      2.85     12.11   \n50    23.07    6.11  ...  16.86  0.82     6.13      1.16     10.69   \n54     9.80    6.49  ...  15.32  0.81     4.10      2.07      5.62   \n58    30.11    7.77  ...  15.03  0.78     5.62      1.47     23.19   \n59     6.02    7.54  ...  15.03  0.75     5.62      1.47     23.19   \n60     6.02    7.90  ...  15.03  0.79     5.62      1.47     23.19   \n71    92.42    6.71  ...  10.69  0.66     4.14      3.65     10.54   \n\n    DIV.LIQ/PL                       SEGMENTO  IBOVESPA  SMALLCAP  DIVIDENDOS  \n0         0.00                         Bancos                SMLL        IDIV  \n3         0.00                         Bancos      IBOV                  IDIV  \n4         0.00                         Bancos      IBOV                        \n7         0.00                         Bancos                                  \n8         0.00                         Bancos                                  \n11        0.00                         Bancos                                  \n12        0.00                         Bancos                SMLL        IDIV  \n13        0.27                 Fios e Tecidos                                  \n17        0.55  Serviços Financeiros Diversos      IBOV      SMLL        IDIV  \n18        0.45               Energia Elétrica                                  \n19        0.45               Energia Elétrica                                  \n33        0.26                        Madeira                                  \n35        0.13                     Siderurgia                                  \n37        0.32                     Siderurgia                                  \n38        0.32                     Siderurgia      IBOV      SMLL              \n41        0.47                  Incorporações      IBOV      SMLL              \n47       -0.14                  Incorporações                                  \n48        0.76         Material de Transporte                                  \n49        0.39                  Incorporações                SMLL              \n50        1.31               Energia Elétrica                                  \n54        0.64    Computadores e Equipamentos                SMLL              \n58        0.49              Água e Saneamento                SMLL        IDIV  \n59        0.49              Água e Saneamento                                  \n60        0.49              Água e Saneamento                SMLL        IDIV  \n71       -0.11       Artefatos de Ferro e Aço                                  \n\n[25 rows x 24 columns]",
      "text/html": "<div>\n<style scoped>\n    .dataframe tbody tr th:only-of-type {\n        vertical-align: middle;\n    }\n\n    .dataframe tbody tr th {\n        vertical-align: top;\n    }\n\n    .dataframe thead th {\n        text-align: right;\n    }\n</style>\n<table border=\"1\" class=\"dataframe\">\n  <thead>\n    <tr style=\"text-align: right;\">\n      <th></th>\n      <th>TICKERS</th>\n      <th>PRECO</th>\n      <th>MIN_MES</th>\n      <th>MAX_MES</th>\n      <th>VAL_MES</th>\n      <th>MIN_52S</th>\n      <th>MAX_52S</th>\n      <th>VAL_12M</th>\n      <th>VPA</th>\n      <th>DY</th>\n      <th>...</th>\n      <th>ROE</th>\n      <th>P/VP</th>\n      <th>EV/EBIT</th>\n      <th>LIQ.CORR</th>\n      <th>MARG.LIQ</th>\n      <th>DIV.LIQ/PL</th>\n      <th>SEGMENTO</th>\n      <th>IBOVESPA</th>\n      <th>SMALLCAP</th>\n      <th>DIVIDENDOS</th>\n    </tr>\n  </thead>\n  <tbody>\n    <tr>\n      <th>0</th>\n      <td>ABCB4</td>\n      <td>20.26</td>\n      <td>18.35</td>\n      <td>20.26</td>\n      <td>8.52</td>\n      <td>15.27</td>\n      <td>21.24</td>\n      <td>6.69</td>\n      <td>23.98</td>\n      <td>7.87</td>\n      <td>...</td>\n      <td>14.50</td>\n      <td>0.83</td>\n      <td>4.36</td>\n      <td>1.50</td>\n      <td>19.35</td>\n      <td>0.00</td>\n      <td>Bancos</td>\n      <td></td>\n      <td>SMLL</td>\n      <td>IDIV</td>\n    </tr>\n    <tr>\n      <th>3</th>\n      <td>BBAS3</td>\n      <td>47.38</td>\n      <td>46.35</td>\n      <td>47.39</td>\n      <td>0.53</td>\n      <td>29.19</td>\n      <td>50.89</td>\n      <td>31.79</td>\n      <td>56.75</td>\n      <td>9.71</td>\n      <td>...</td>\n      <td>20.01</td>\n      <td>0.83</td>\n      <td>3.18</td>\n      <td>12.76</td>\n      <td>12.35</td>\n      <td>0.00</td>\n      <td>Bancos</td>\n      <td>IBOV</td>\n      <td></td>\n      <td>IDIV</td>\n    </tr>\n    <tr>\n      <th>4</th>\n      <td>BBDC3</td>\n      <td>13.18</td>\n      <td>12.80</td>\n      <td>13.20</td>\n      <td>-0.08</td>\n      <td>11.03</td>\n      <td>16.50</td>\n      <td>-10.64</td>\n      <td>15.64</td>\n      <td>6.91</td>\n      <td>...</td>\n      <td>9.78</td>\n      <td>0.85</td>\n      <td>10.97</td>\n      <td>7.16</td>\n      <td>7.37</td>\n      <td>0.00</td>\n      <td>Bancos</td>\n      <td>IBOV</td>\n      <td></td>\n      <td></td>\n    </tr>\n    <tr>\n      <th>7</th>\n      <td>BGIP3</td>\n      <td>26.00</td>\n      <td>24.90</td>\n      <td>28.99</td>\n      <td>4.42</td>\n      <td>21.06</td>\n      <td>33.22</td>\n      <td>1.05</td>\n      <td>35.35</td>\n      <td>8.93</td>\n      <td>...</td>\n      <td>10.32</td>\n      <td>0.71</td>\n      <td>6.38</td>\n      <td>0.76</td>\n      <td>5.27</td>\n      <td>0.00</td>\n      <td>Bancos</td>\n      <td></td>\n      <td></td>\n      <td></td>\n    </tr>\n    <tr>\n      <th>8</th>\n      <td>BGIP4</td>\n      <td>24.00</td>\n      <td>22.12</td>\n      <td>24.10</td>\n      <td>8.50</td>\n      <td>15.08</td>\n      <td>27.39</td>\n      <td>42.01</td>\n      <td>35.35</td>\n      <td>10.24</td>\n      <td>...</td>\n      <td>10.32</td>\n      <td>0.68</td>\n      <td>6.38</td>\n      <td>0.76</td>\n      <td>5.27</td>\n      <td>0.00</td>\n      <td>Bancos</td>\n      <td></td>\n      <td></td>\n      <td></td>\n    </tr>\n    <tr>\n      <th>11</th>\n      <td>BRSR3</td>\n      <td>12.92</td>\n      <td>12.51</td>\n      <td>13.35</td>\n      <td>0.86</td>\n      <td>9.58</td>\n      <td>14.71</td>\n      <td>9.68</td>\n      <td>23.36</td>\n      <td>7.31</td>\n      <td>...</td>\n      <td>8.61</td>\n      <td>0.55</td>\n      <td>5.81</td>\n      <td>2.81</td>\n      <td>5.73</td>\n      <td>0.00</td>\n      <td>Bancos</td>\n      <td></td>\n      <td></td>\n      <td></td>\n    </tr>\n    <tr>\n      <th>12</th>\n      <td>BRSR6</td>\n      <td>12.46</td>\n      <td>12.11</td>\n      <td>12.76</td>\n      <td>0.40</td>\n      <td>8.56</td>\n      <td>15.00</td>\n      <td>17.33</td>\n      <td>23.36</td>\n      <td>7.57</td>\n      <td>...</td>\n      <td>8.61</td>\n      <td>0.53</td>\n      <td>5.81</td>\n      <td>2.81</td>\n      <td>5.73</td>\n      <td>0.00</td>\n      <td>Bancos</td>\n      <td></td>\n      <td>SMLL</td>\n      <td>IDIV</td>\n    </tr>\n    <tr>\n      <th>13</th>\n      <td>CATA3</td>\n      <td>103.61</td>\n      <td>103.61</td>\n      <td>113.46</td>\n      <td>0.00</td>\n      <td>0.00</td>\n      <td>0.00</td>\n      <td>0.00</td>\n      <td>1214.17</td>\n      <td>38.09</td>\n      <td>...</td>\n      <td>17.46</td>\n      <td>0.09</td>\n      <td>1.91</td>\n      <td>1.85</td>\n      <td>9.25</td>\n      <td>0.27</td>\n      <td>Fios e Tecidos</td>\n      <td></td>\n      <td></td>\n      <td></td>\n    </tr>\n    <tr>\n      <th>17</th>\n      <td>CIEL3</td>\n      <td>3.64</td>\n      <td>3.63</td>\n      <td>3.86</td>\n      <td>-5.70</td>\n      <td>3.63</td>\n      <td>5.69</td>\n      <td>-28.06</td>\n      <td>4.31</td>\n      <td>8.01</td>\n      <td>...</td>\n      <td>16.24</td>\n      <td>0.84</td>\n      <td>4.77</td>\n      <td>1.19</td>\n      <td>17.91</td>\n      <td>0.55</td>\n      <td>Serviços Financeiros Diversos</td>\n      <td>IBOV</td>\n      <td>SMLL</td>\n      <td>IDIV</td>\n    </tr>\n    <tr>\n      <th>18</th>\n      <td>CLSC3</td>\n      <td>61.99</td>\n      <td>60.41</td>\n      <td>63.00</td>\n      <td>1.46</td>\n      <td>42.93</td>\n      <td>64.49</td>\n      <td>35.23</td>\n      <td>82.99</td>\n      <td>6.43</td>\n      <td>...</td>\n      <td>19.14</td>\n      <td>0.75</td>\n      <td>4.20</td>\n      <td>0.95</td>\n      <td>5.98</td>\n      <td>0.45</td>\n      <td>Energia Elétrica</td>\n      <td></td>\n      <td></td>\n      <td></td>\n    </tr>\n    <tr>\n      <th>19</th>\n      <td>CLSC4</td>\n      <td>64.50</td>\n      <td>63.73</td>\n      <td>64.50</td>\n      <td>0.78</td>\n      <td>45.59</td>\n      <td>64.73</td>\n      <td>28.28</td>\n      <td>82.99</td>\n      <td>6.80</td>\n      <td>...</td>\n      <td>19.14</td>\n      <td>0.78</td>\n      <td>4.20</td>\n      <td>0.95</td>\n      <td>5.98</td>\n      <td>0.45</td>\n      <td>Energia Elétrica</td>\n      <td></td>\n      <td></td>\n      <td></td>\n    </tr>\n    <tr>\n      <th>33</th>\n      <td>EUCA4</td>\n      <td>12.90</td>\n      <td>12.47</td>\n      <td>13.18</td>\n      <td>3.45</td>\n      <td>6.07</td>\n      <td>13.25</td>\n      <td>66.24</td>\n      <td>23.09</td>\n      <td>6.06</td>\n      <td>...</td>\n      <td>12.13</td>\n      <td>0.56</td>\n      <td>5.39</td>\n      <td>1.61</td>\n      <td>9.82</td>\n      <td>0.26</td>\n      <td>Madeira</td>\n      <td></td>\n      <td></td>\n      <td></td>\n    </tr>\n    <tr>\n      <th>35</th>\n      <td>GGBR3</td>\n      <td>24.01</td>\n      <td>23.45</td>\n      <td>24.32</td>\n      <td>-1.27</td>\n      <td>16.90</td>\n      <td>25.88</td>\n      <td>41.65</td>\n      <td>27.87</td>\n      <td>13.77</td>\n      <td>...</td>\n      <td>19.52</td>\n      <td>0.86</td>\n      <td>3.58</td>\n      <td>2.94</td>\n      <td>12.54</td>\n      <td>0.13</td>\n      <td>Siderurgia</td>\n      <td></td>\n      <td></td>\n      <td></td>\n    </tr>\n    <tr>\n      <th>37</th>\n      <td>GOAU3</td>\n      <td>11.86</td>\n      <td>11.51</td>\n      <td>12.00</td>\n      <td>0.42</td>\n      <td>8.59</td>\n      <td>13.04</td>\n      <td>38.07</td>\n      <td>16.83</td>\n      <td>9.83</td>\n      <td>...</td>\n      <td>18.39</td>\n      <td>0.70</td>\n      <td>1.27</td>\n      <td>3.03</td>\n      <td>4.20</td>\n      <td>0.32</td>\n      <td>Siderurgia</td>\n      <td></td>\n      <td></td>\n      <td></td>\n    </tr>\n    <tr>\n      <th>38</th>\n      <td>GOAU4</td>\n      <td>11.91</td>\n      <td>11.56</td>\n      <td>12.08</td>\n      <td>-0.50</td>\n      <td>9.00</td>\n      <td>13.95</td>\n      <td>32.33</td>\n      <td>16.83</td>\n      <td>9.74</td>\n      <td>...</td>\n      <td>18.39</td>\n      <td>0.71</td>\n      <td>1.27</td>\n      <td>3.03</td>\n      <td>4.20</td>\n      <td>0.32</td>\n      <td>Siderurgia</td>\n      <td>IBOV</td>\n      <td>SMLL</td>\n      <td></td>\n    </tr>\n    <tr>\n      <th>41</th>\n      <td>JHSF3</td>\n      <td>4.98</td>\n      <td>4.67</td>\n      <td>5.01</td>\n      <td>4.18</td>\n      <td>3.29</td>\n      <td>6.99</td>\n      <td>-27.30</td>\n      <td>7.41</td>\n      <td>9.44</td>\n      <td>...</td>\n      <td>9.21</td>\n      <td>0.67</td>\n      <td>7.62</td>\n      <td>3.42</td>\n      <td>27.67</td>\n      <td>0.47</td>\n      <td>Incorporações</td>\n      <td>IBOV</td>\n      <td>SMLL</td>\n      <td></td>\n    </tr>\n    <tr>\n      <th>47</th>\n      <td>MELK3</td>\n      <td>4.58</td>\n      <td>4.17</td>\n      <td>4.58</td>\n      <td>5.53</td>\n      <td>2.59</td>\n      <td>4.91</td>\n      <td>20.84</td>\n      <td>5.79</td>\n      <td>7.39</td>\n      <td>...</td>\n      <td>6.74</td>\n      <td>0.78</td>\n      <td>13.67</td>\n      <td>3.11</td>\n      <td>7.61</td>\n      <td>-0.14</td>\n      <td>Incorporações</td>\n      <td></td>\n      <td></td>\n      <td></td>\n    </tr>\n    <tr>\n      <th>48</th>\n      <td>MMAQ4</td>\n      <td>49.73</td>\n      <td>48.80</td>\n      <td>61.38</td>\n      <td>0.00</td>\n      <td>0.00</td>\n      <td>0.00</td>\n      <td>0.00</td>\n      <td>5503.84</td>\n      <td>503.40</td>\n      <td>...</td>\n      <td>15.88</td>\n      <td>0.01</td>\n      <td>3.19</td>\n      <td>1.58</td>\n      <td>4.08</td>\n      <td>0.76</td>\n      <td>Material de Transporte</td>\n      <td></td>\n      <td></td>\n      <td></td>\n    </tr>\n    <tr>\n      <th>49</th>\n      <td>MTRE3</td>\n      <td>5.35</td>\n      <td>5.03</td>\n      <td>5.36</td>\n      <td>1.71</td>\n      <td>2.87</td>\n      <td>6.96</td>\n      <td>26.78</td>\n      <td>9.72</td>\n      <td>17.38</td>\n      <td>...</td>\n      <td>9.49</td>\n      <td>0.54</td>\n      <td>10.80</td>\n      <td>2.85</td>\n      <td>12.11</td>\n      <td>0.39</td>\n      <td>Incorporações</td>\n      <td></td>\n      <td>SMLL</td>\n      <td></td>\n    </tr>\n    <tr>\n      <th>50</th>\n      <td>NEOE3</td>\n      <td>19.11</td>\n      <td>18.13</td>\n      <td>19.11</td>\n      <td>3.30</td>\n      <td>13.08</td>\n      <td>21.99</td>\n      <td>23.29</td>\n      <td>23.07</td>\n      <td>6.11</td>\n      <td>...</td>\n      <td>16.86</td>\n      <td>0.82</td>\n      <td>6.13</td>\n      <td>1.16</td>\n      <td>10.69</td>\n      <td>1.31</td>\n      <td>Energia Elétrica</td>\n      <td></td>\n      <td></td>\n      <td></td>\n    </tr>\n    <tr>\n      <th>54</th>\n      <td>POSI3</td>\n      <td>7.97</td>\n      <td>7.80</td>\n      <td>8.41</td>\n      <td>-3.86</td>\n      <td>5.92</td>\n      <td>12.45</td>\n      <td>-35.15</td>\n      <td>9.80</td>\n      <td>6.49</td>\n      <td>...</td>\n      <td>15.32</td>\n      <td>0.81</td>\n      <td>4.10</td>\n      <td>2.07</td>\n      <td>5.62</td>\n      <td>0.64</td>\n      <td>Computadores e Equipamentos</td>\n      <td></td>\n      <td>SMLL</td>\n      <td></td>\n    </tr>\n    <tr>\n      <th>58</th>\n      <td>SAPR11</td>\n      <td>23.64</td>\n      <td>22.58</td>\n      <td>23.67</td>\n      <td>4.00</td>\n      <td>15.24</td>\n      <td>23.67</td>\n      <td>48.87</td>\n      <td>30.11</td>\n      <td>7.77</td>\n      <td>...</td>\n      <td>15.03</td>\n      <td>0.78</td>\n      <td>5.62</td>\n      <td>1.47</td>\n      <td>23.19</td>\n      <td>0.49</td>\n      <td>Água e Saneamento</td>\n      <td></td>\n      <td>SMLL</td>\n      <td>IDIV</td>\n    </tr>\n    <tr>\n      <th>59</th>\n      <td>SAPR3</td>\n      <td>4.51</td>\n      <td>4.30</td>\n      <td>4.54</td>\n      <td>2.97</td>\n      <td>2.88</td>\n      <td>4.54</td>\n      <td>48.36</td>\n      <td>6.02</td>\n      <td>7.54</td>\n      <td>...</td>\n      <td>15.03</td>\n      <td>0.75</td>\n      <td>5.62</td>\n      <td>1.47</td>\n      <td>23.19</td>\n      <td>0.49</td>\n      <td>Água e Saneamento</td>\n      <td></td>\n      <td></td>\n      <td></td>\n    </tr>\n    <tr>\n      <th>60</th>\n      <td>SAPR4</td>\n      <td>4.75</td>\n      <td>4.57</td>\n      <td>4.76</td>\n      <td>2.15</td>\n      <td>3.11</td>\n      <td>4.76</td>\n      <td>45.71</td>\n      <td>6.02</td>\n      <td>7.90</td>\n      <td>...</td>\n      <td>15.03</td>\n      <td>0.79</td>\n      <td>5.62</td>\n      <td>1.47</td>\n      <td>23.19</td>\n      <td>0.49</td>\n      <td>Água e Saneamento</td>\n      <td></td>\n      <td>SMLL</td>\n      <td>IDIV</td>\n    </tr>\n    <tr>\n      <th>71</th>\n      <td>TKNO4</td>\n      <td>61.00</td>\n      <td>61.00</td>\n      <td>61.00</td>\n      <td>0.00</td>\n      <td>53.64</td>\n      <td>72.31</td>\n      <td>-13.27</td>\n      <td>92.42</td>\n      <td>6.71</td>\n      <td>...</td>\n      <td>10.69</td>\n      <td>0.66</td>\n      <td>4.14</td>\n      <td>3.65</td>\n      <td>10.54</td>\n      <td>-0.11</td>\n      <td>Artefatos de Ferro e Aço</td>\n      <td></td>\n      <td></td>\n      <td></td>\n    </tr>\n  </tbody>\n</table>\n<p>25 rows × 24 columns</p>\n</div>"
     },
     "execution_count": 11,
     "metadata": {},
     "output_type": "execute_result"
    }
   ],
   "source": [
    "value_invest"
   ],
   "metadata": {
    "collapsed": false,
    "ExecuteTime": {
     "end_time": "2023-09-15T13:29:01.386132Z",
     "start_time": "2023-09-15T13:29:01.299013Z"
    }
   },
   "id": "2563bff5104849dc"
  },
  {
   "cell_type": "code",
   "execution_count": null,
   "outputs": [],
   "source": [],
   "metadata": {
    "collapsed": false,
    "ExecuteTime": {
     "end_time": "2023-09-15T13:26:41.824770Z",
     "start_time": "2023-09-15T13:26:41.807444Z"
    }
   },
   "id": "67599ada0c98b54e"
  }
 ],
 "metadata": {
  "kernelspec": {
   "display_name": "Python 3",
   "language": "python",
   "name": "python3"
  },
  "language_info": {
   "codemirror_mode": {
    "name": "ipython",
    "version": 2
   },
   "file_extension": ".py",
   "mimetype": "text/x-python",
   "name": "python",
   "nbconvert_exporter": "python",
   "pygments_lexer": "ipython2",
   "version": "2.7.6"
  }
 },
 "nbformat": 4,
 "nbformat_minor": 5
}
