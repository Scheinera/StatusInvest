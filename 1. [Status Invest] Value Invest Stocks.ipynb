{
 "cells": [
  {
   "cell_type": "code",
   "execution_count": 1,
   "id": "initial_id",
   "metadata": {
    "collapsed": true,
    "ExecuteTime": {
     "end_time": "2023-09-26T11:44:05.090347Z",
     "start_time": "2023-09-26T11:43:58.938717Z"
    }
   },
   "outputs": [],
   "source": [
    "import pandas as pd\n",
    "import matplotlib.pyplot as plt\n",
    "import time\n",
    "import dash\n",
    "import openpyxl\n",
    "import os\n",
    "from pathlib import Path\n",
    "from selenium import webdriver\n",
    "from selenium.webdriver.chrome.service import Service \n",
    "from webdriver_manager.chrome import ChromeDriverManager\n",
    "from selenium.webdriver.common.by import By\n",
    "from selenium.webdriver.support.ui import WebDriverWait\n",
    "from selenium.webdriver.support import expected_conditions as EC"
   ]
  },
  {
   "cell_type": "code",
   "execution_count": 2,
   "id": "a192172055a6825e",
   "metadata": {
    "ExecuteTime": {
     "end_time": "2023-09-26T11:44:21.613872Z",
     "start_time": "2023-09-26T11:44:05.129353Z"
    }
   },
   "outputs": [
    {
     "name": "stdout",
     "output_type": "stream",
     "text": [
      "Source path renamed to destination path successfully.\n"
     ]
    }
   ],
   "source": [
    "#Instalando o driver\n",
    "servico = Service(ChromeDriverManager().install())\n",
    "\n",
    "#Abrindo o navegador\n",
    "navegador = webdriver.Chrome(service=servico)\n",
    "\n",
    "##Iniciando o processo dados\n",
    "navegador.get('https://statusinvest.com.br/acoes/busca-avancada/')\n",
    "time.sleep(2)\n",
    "navegador.find_element(By.XPATH, '//*[@id=\"main-2\"]/div[3]/div/div/div/button[2]').click()\n",
    "time.sleep(2)\n",
    "navegador.find_element(By.XPATH, '//*[@id=\"main-2\"]/div[4]/div/div[1]/div[2]/a/span').click()\n",
    "time.sleep(2)\n",
    "\n",
    "#Fecha o navegador\n",
    "navegador.quit()\n",
    "\n",
    "## Renomeia o arquivo e move para pasta desejada\n",
    "source = '/Users/scheiner/Downloads/statusinvest-busca-avancada.csv'\n",
    "dest = '/Users/scheiner/Documents/GitHub/StatusInvest/stocks.csv'\n",
    "os.rename(source, dest) \n",
    "\n",
    "print(\"Source path renamed to destination path successfully.\")"
   ]
  },
  {
   "cell_type": "code",
   "execution_count": 3,
   "id": "bf05b800347381e3",
   "metadata": {
    "ExecuteTime": {
     "end_time": "2023-09-26T11:44:21.780127Z",
     "start_time": "2023-09-26T11:44:21.665423Z"
    }
   },
   "outputs": [],
   "source": [
    "### Tratamento dos dados importados:\n",
    "\n",
    "df = pd.read_csv(\"stocks.csv\", sep=';', decimal=',', thousands='.', encoding=\"utf-8\")\n",
    "    \n",
    "df['P/L_IDEAL'] = df[' VPA'] / df[' LPA']\n",
    "df['UP/DOWNSIDE'] = (df[' VPA'] / df['PRECO'])-1\n",
    "    \n",
    "valuation = df.loc[:, ['TICKER', 'PRECO', ' VPA' , 'DY', ' LPA', 'P/L', 'P/L_IDEAL', 'UP/DOWNSIDE', 'ROE', \n",
    "                           'P/VP', 'EV/EBIT' ,'LIQ. CORRENTE', 'MARG. LIQUIDA', 'DIV. LIQ. / PATRI.']]\n",
    "\n",
    "valuation.fillna(value=0, inplace=True)\n",
    "valuation.rename(columns={'LIQ. CORRENTE': \"LIQ.CORR\" }, inplace=True)\n",
    "valuation.rename(columns={'MARG. LIQUIDA': \"MARG.LIQ\" }, inplace=True)\n",
    "valuation.rename(columns={'DIV. LIQ. / PATRI.': \"DIV.LIQ/PL\" }, inplace=True)\n",
    "    \n",
    "    \n",
    "valuation = valuation.loc[valuation['DY'] >= 6].loc[\n",
    "    valuation['P/L'] >= 0.01].loc[valuation['P/L'] < 15].loc[\n",
    "    valuation['ROE'] >= 6].loc[\n",
    "    valuation['EV/EBIT'] >= 0.01].loc[valuation['EV/EBIT'] <= 15].loc[\n",
    "    valuation['LIQ.CORR'] >= 0.5]\n"
   ]
  },
  {
   "cell_type": "code",
   "execution_count": 4,
   "id": "db5440719f90c5d4",
   "metadata": {
    "ExecuteTime": {
     "end_time": "2023-09-26T11:46:13.011979Z",
     "start_time": "2023-09-26T11:44:21.782572Z"
    }
   },
   "outputs": [],
   "source": [
    "#Instalando o driver\n",
    "servico = Service(ChromeDriverManager().install())\n",
    "\n",
    "#Abrindo o navegador\n",
    "navegador = webdriver.Chrome(service=servico)\n",
    "\n",
    "ticker = valuation['TICKER']\n",
    "lista_stocks = ticker.to_list()\n",
    "\n",
    "lista_indicadores_stocks = []\n",
    "for stocks in lista_stocks:\n",
    "\n",
    "    #Criando url\n",
    "    url = f\"https://statusinvest.com.br/acoes/{stocks}\"\n",
    "\n",
    "    \n",
    "    try:\n",
    "        #Abrindo o navegador\n",
    "        navegador.get(url)\n",
    "\n",
    "        time.sleep(0.25)\n",
    "    \n",
    "        #Coletando infos\n",
    "        PRECO = navegador.find_element(By.XPATH, '//*[@id=\"main-2\"]/div[2]/div/div[1]/div/div[1]/div/div[1]/strong').text\n",
    "        MIN_MES = navegador.find_element(By.XPATH, '//*[@id=\"main-2\"]/div[2]/div/div[1]/div/div[2]/div/div[2]/div/span[2]').text\n",
    "        MAX_MES = navegador.find_element(By.XPATH, '//*[@id=\"main-2\"]/div[2]/div/div[1]/div/div[3]/div/div[2]/div/span[2]').text\n",
    "        MIN_52S = navegador.find_element(By.XPATH, '//*[@id=\"main-2\"]/div[2]/div/div[1]/div/div[2]/div/div[1]/strong').text\n",
    "        MAX_52S = navegador.find_element(By.XPATH, '//*[@id=\"main-2\"]/div[2]/div/div[1]/div/div[3]/div/div[1]/strong').text\n",
    "        DY = navegador.find_element(By.XPATH, '//*[@id=\"main-2\"]/div[2]/div/div[1]/div/div[4]/div/div[1]/strong').text\n",
    "        GAIN_12M = navegador.find_element(By.XPATH, '//*[@id=\"main-2\"]/div[2]/div/div[1]/div/div[5]/div/div[1]/strong').text\n",
    "        GAIN_MES = navegador.find_element(By.XPATH, '//*[@id=\"main-2\"]/div[2]/div/div[1]/div/div[5]/div/div[2]/div/span[2]/b').text\n",
    "        SEGMENTO = navegador.find_element(By.XPATH, '//*[@id=\"company-section\"]/div[1]/div/div[3]/div/div[3]/div/div/div/a/strong').text\n",
    "        \n",
    "    \n",
    "\n",
    "        #Criando dict\n",
    "        dicionario = {  \"stocks\": stocks,\n",
    "                        \"MIN_MES\": MIN_MES, \n",
    "                        \"MAX_MES\": MAX_MES, \n",
    "                        \"MIN_52S\": MIN_52S, \n",
    "                        \"MAX_52S\": MAX_52S, \n",
    "                        \"VAL_12M\": GAIN_12M,\n",
    "                        \"VAL_MES\": GAIN_MES,\n",
    "                        \"SEGMENTO\": SEGMENTO\n",
    "                        \n",
    "                        }\n",
    "\n",
    "        #Criando lista de dicts\n",
    "        lista_indicadores_stocks.append(dicionario)\n",
    "    except Exception as e:\n",
    "        print(e)\n",
    "\n",
    "#Fecha o navegador\n",
    "navegador.quit()\n"
   ]
  },
  {
   "cell_type": "code",
   "execution_count": 5,
   "id": "591e751df974b801",
   "metadata": {
    "ExecuteTime": {
     "end_time": "2023-09-26T11:46:17.329002Z",
     "start_time": "2023-09-26T11:46:13.044754Z"
    }
   },
   "outputs": [
    {
     "data": {
      "text/plain": "   TICKERS   PRECO  MIN_MES  MAX_MES  VAL_MES  MIN_52S  MAX_52S  VAL_12M  \\\n0    ABCB4   19.62    18.35    20.77     5.09    15.27    21.24     6.11   \n3    BBAS3   46.43    46.35    47.70    -1.49    29.19    50.89    32.05   \n4    BBDC3   12.45    12.45    13.20    -5.61    11.03    16.50   -17.33   \n5    BBDC4   14.13    14.13    14.97    -5.61    12.35    20.21   -23.62   \n8    BGIP3   26.38    24.90    28.99     5.94    21.06    33.22     1.77   \n9    BGIP4   22.12    21.80    24.10     0.00    15.08    27.39    34.39   \n12   BRSR3   12.83    12.51    13.35     0.16     9.58    14.71     9.75   \n13   BRSR6   12.34    12.11    12.76    -0.56     8.56    15.00    15.98   \n14   CATA3  103.61   103.61   113.46     0.00     0.00     0.00     0.00   \n18   CIEL3    3.36     3.28     3.86   -12.95     3.28     5.69   -32.39   \n19   CLSC3   61.17    60.41    63.00     0.11    42.93    64.49    35.66   \n20   CLSC4   65.90    63.73    66.01     2.97    45.59    66.01    22.33   \n24   CSMG3   17.54    17.40    18.87    -3.84    11.82    20.81    48.39   \n34   EUCA4   12.60    12.47    13.18     1.04     6.07    13.25    70.73   \n36   GGBR3   22.84    22.40    24.32    -6.09    17.20    25.88    32.79   \n37   GGBR4   24.40    24.26    26.18    -6.15    21.08    32.10    15.09   \n38   GOAU3   11.23    11.23    12.00    -4.91     8.76    13.04    28.20   \n39   GOAU4   11.27    11.22    12.08    -5.85     9.29    13.95    20.92   \n42   JHSF3    4.73     4.67     5.01    -1.05     3.29     6.97   -26.67   \n46   MELK3    4.49     4.17     4.58     3.46     2.59     4.91    20.38   \n47   MMAQ4   49.73    48.80    61.38     0.00     0.00     0.00     0.00   \n48   MTRE3    4.65     4.65     5.36   -11.60     2.87     6.96    13.69   \n49   NEOE3   18.84    18.13    19.38     1.84    13.08    21.99    26.10   \n53   POSI3    7.07     7.07     8.41   -14.72     5.92    12.03   -36.93   \n57  SAPR11   23.19    22.58    23.67     2.02    15.24    23.67    45.67   \n58   SAPR3    4.48     4.30     4.54     2.28     2.88     4.54    46.89   \n59   SAPR4    4.65     4.57     4.76     0.00     3.11     4.76    43.52   \n70   TKNO4   60.00    60.00    61.00    -1.64    53.64    72.31   -14.69   \n\n        VPA      DY  ...    ROE  P/VP  EV/EBIT  LIQ.CORR  MARG.LIQ  \\\n0     23.98    7.99  ...  14.50  0.82     4.33      1.50     19.35   \n3     56.75    9.90  ...  20.01  0.82     3.13     12.76     12.35   \n4     15.64    7.36  ...   9.78  0.80    10.33      7.16      7.37   \n5     15.64    7.13  ...   9.78  0.90    10.33      7.16      7.37   \n8     35.35    8.50  ...  10.32  0.75     6.28      0.76      5.27   \n9     35.35   11.15  ...  10.32  0.63     6.28      0.76      5.27   \n12    23.36    7.34  ...   8.61  0.55     5.77      2.81      5.73   \n13    23.36    7.63  ...   8.61  0.53     5.77      2.81      5.73   \n14  1214.17   38.09  ...  17.46  0.09     1.91      1.85      9.25   \n18     4.31    8.63  ...  16.24  0.78     4.56      1.19     17.91   \n19    82.99    6.52  ...  19.14  0.74     4.22      0.95      5.98   \n20    82.99    6.66  ...  19.14  0.79     4.22      0.95      5.98   \n24    19.94    9.52  ...  14.28  0.88     6.63      1.19     16.06   \n34    23.09    6.27  ...  12.13  0.55     5.24      1.61      9.82   \n36    27.87   14.40  ...  19.52  0.82     3.44      2.94     12.54   \n37    27.87   13.48  ...  19.52  0.88     3.44      2.94     12.54   \n38    16.83   10.33  ...  18.39  0.67     1.22      3.03      4.20   \n39    16.83   10.29  ...  18.39  0.67     1.22      3.03      4.20   \n42     7.41    9.90  ...   9.21  0.64     7.43      3.42     27.67   \n46     5.79    7.40  ...   6.74  0.77    13.44      3.11      7.61   \n47  5503.84  503.40  ...  15.88  0.01     3.19      1.58      4.08   \n48     9.72   18.85  ...   9.49  0.48    10.12      2.85     12.11   \n49    23.07    6.14  ...  16.86  0.82     6.14      1.16     10.69   \n53     9.80    7.27  ...  15.32  0.72     3.82      2.07      5.62   \n57    30.11    7.91  ...  15.03  0.77     5.58      1.47     23.19   \n58     6.02    7.58  ...  15.03  0.74     5.58      1.47     23.19   \n59     6.02    8.03  ...  15.03  0.77     5.58      1.47     23.19   \n70    92.42    6.83  ...  10.69  0.65     4.11      3.65     10.54   \n\n    DIV.LIQ/PL                       SEGMENTO  IBOVESPA  SMALLCAP  DIVIDENDOS  \n0         0.00                         Bancos                SMLL        IDIV  \n3         0.00                         Bancos      IBOV                  IDIV  \n4         0.00                         Bancos      IBOV                        \n5         0.00                         Bancos      IBOV                        \n8         0.00                         Bancos                                  \n9         0.00                         Bancos                                  \n12        0.00                         Bancos                                  \n13        0.00                         Bancos                SMLL        IDIV  \n14        0.27                 Fios e Tecidos                                  \n18        0.55  Serviços Financeiros Diversos      IBOV      SMLL        IDIV  \n19        0.45               Energia Elétrica                                  \n20        0.45               Energia Elétrica                                  \n24        0.43              Água e Saneamento                SMLL        IDIV  \n34        0.26                        Madeira                                  \n36        0.13                     Siderurgia                                  \n37        0.13                     Siderurgia      IBOV                        \n38        0.32                     Siderurgia                                  \n39        0.32                     Siderurgia      IBOV      SMLL              \n42        0.47                  Incorporações      IBOV      SMLL              \n46       -0.14                  Incorporações                                  \n47        0.76         Material de Transporte                                  \n48        0.39                  Incorporações                SMLL              \n49        1.31               Energia Elétrica                                  \n53        0.64    Computadores e Equipamentos                SMLL              \n57        0.49              Água e Saneamento                SMLL        IDIV  \n58        0.49              Água e Saneamento                                  \n59        0.49              Água e Saneamento                SMLL        IDIV  \n70       -0.11       Artefatos de Ferro e Aço                                  \n\n[28 rows x 24 columns]",
      "text/html": "<div>\n<style scoped>\n    .dataframe tbody tr th:only-of-type {\n        vertical-align: middle;\n    }\n\n    .dataframe tbody tr th {\n        vertical-align: top;\n    }\n\n    .dataframe thead th {\n        text-align: right;\n    }\n</style>\n<table border=\"1\" class=\"dataframe\">\n  <thead>\n    <tr style=\"text-align: right;\">\n      <th></th>\n      <th>TICKERS</th>\n      <th>PRECO</th>\n      <th>MIN_MES</th>\n      <th>MAX_MES</th>\n      <th>VAL_MES</th>\n      <th>MIN_52S</th>\n      <th>MAX_52S</th>\n      <th>VAL_12M</th>\n      <th>VPA</th>\n      <th>DY</th>\n      <th>...</th>\n      <th>ROE</th>\n      <th>P/VP</th>\n      <th>EV/EBIT</th>\n      <th>LIQ.CORR</th>\n      <th>MARG.LIQ</th>\n      <th>DIV.LIQ/PL</th>\n      <th>SEGMENTO</th>\n      <th>IBOVESPA</th>\n      <th>SMALLCAP</th>\n      <th>DIVIDENDOS</th>\n    </tr>\n  </thead>\n  <tbody>\n    <tr>\n      <th>0</th>\n      <td>ABCB4</td>\n      <td>19.62</td>\n      <td>18.35</td>\n      <td>20.77</td>\n      <td>5.09</td>\n      <td>15.27</td>\n      <td>21.24</td>\n      <td>6.11</td>\n      <td>23.98</td>\n      <td>7.99</td>\n      <td>...</td>\n      <td>14.50</td>\n      <td>0.82</td>\n      <td>4.33</td>\n      <td>1.50</td>\n      <td>19.35</td>\n      <td>0.00</td>\n      <td>Bancos</td>\n      <td></td>\n      <td>SMLL</td>\n      <td>IDIV</td>\n    </tr>\n    <tr>\n      <th>3</th>\n      <td>BBAS3</td>\n      <td>46.43</td>\n      <td>46.35</td>\n      <td>47.70</td>\n      <td>-1.49</td>\n      <td>29.19</td>\n      <td>50.89</td>\n      <td>32.05</td>\n      <td>56.75</td>\n      <td>9.90</td>\n      <td>...</td>\n      <td>20.01</td>\n      <td>0.82</td>\n      <td>3.13</td>\n      <td>12.76</td>\n      <td>12.35</td>\n      <td>0.00</td>\n      <td>Bancos</td>\n      <td>IBOV</td>\n      <td></td>\n      <td>IDIV</td>\n    </tr>\n    <tr>\n      <th>4</th>\n      <td>BBDC3</td>\n      <td>12.45</td>\n      <td>12.45</td>\n      <td>13.20</td>\n      <td>-5.61</td>\n      <td>11.03</td>\n      <td>16.50</td>\n      <td>-17.33</td>\n      <td>15.64</td>\n      <td>7.36</td>\n      <td>...</td>\n      <td>9.78</td>\n      <td>0.80</td>\n      <td>10.33</td>\n      <td>7.16</td>\n      <td>7.37</td>\n      <td>0.00</td>\n      <td>Bancos</td>\n      <td>IBOV</td>\n      <td></td>\n      <td></td>\n    </tr>\n    <tr>\n      <th>5</th>\n      <td>BBDC4</td>\n      <td>14.13</td>\n      <td>14.13</td>\n      <td>14.97</td>\n      <td>-5.61</td>\n      <td>12.35</td>\n      <td>20.21</td>\n      <td>-23.62</td>\n      <td>15.64</td>\n      <td>7.13</td>\n      <td>...</td>\n      <td>9.78</td>\n      <td>0.90</td>\n      <td>10.33</td>\n      <td>7.16</td>\n      <td>7.37</td>\n      <td>0.00</td>\n      <td>Bancos</td>\n      <td>IBOV</td>\n      <td></td>\n      <td></td>\n    </tr>\n    <tr>\n      <th>8</th>\n      <td>BGIP3</td>\n      <td>26.38</td>\n      <td>24.90</td>\n      <td>28.99</td>\n      <td>5.94</td>\n      <td>21.06</td>\n      <td>33.22</td>\n      <td>1.77</td>\n      <td>35.35</td>\n      <td>8.50</td>\n      <td>...</td>\n      <td>10.32</td>\n      <td>0.75</td>\n      <td>6.28</td>\n      <td>0.76</td>\n      <td>5.27</td>\n      <td>0.00</td>\n      <td>Bancos</td>\n      <td></td>\n      <td></td>\n      <td></td>\n    </tr>\n    <tr>\n      <th>9</th>\n      <td>BGIP4</td>\n      <td>22.12</td>\n      <td>21.80</td>\n      <td>24.10</td>\n      <td>0.00</td>\n      <td>15.08</td>\n      <td>27.39</td>\n      <td>34.39</td>\n      <td>35.35</td>\n      <td>11.15</td>\n      <td>...</td>\n      <td>10.32</td>\n      <td>0.63</td>\n      <td>6.28</td>\n      <td>0.76</td>\n      <td>5.27</td>\n      <td>0.00</td>\n      <td>Bancos</td>\n      <td></td>\n      <td></td>\n      <td></td>\n    </tr>\n    <tr>\n      <th>12</th>\n      <td>BRSR3</td>\n      <td>12.83</td>\n      <td>12.51</td>\n      <td>13.35</td>\n      <td>0.16</td>\n      <td>9.58</td>\n      <td>14.71</td>\n      <td>9.75</td>\n      <td>23.36</td>\n      <td>7.34</td>\n      <td>...</td>\n      <td>8.61</td>\n      <td>0.55</td>\n      <td>5.77</td>\n      <td>2.81</td>\n      <td>5.73</td>\n      <td>0.00</td>\n      <td>Bancos</td>\n      <td></td>\n      <td></td>\n      <td></td>\n    </tr>\n    <tr>\n      <th>13</th>\n      <td>BRSR6</td>\n      <td>12.34</td>\n      <td>12.11</td>\n      <td>12.76</td>\n      <td>-0.56</td>\n      <td>8.56</td>\n      <td>15.00</td>\n      <td>15.98</td>\n      <td>23.36</td>\n      <td>7.63</td>\n      <td>...</td>\n      <td>8.61</td>\n      <td>0.53</td>\n      <td>5.77</td>\n      <td>2.81</td>\n      <td>5.73</td>\n      <td>0.00</td>\n      <td>Bancos</td>\n      <td></td>\n      <td>SMLL</td>\n      <td>IDIV</td>\n    </tr>\n    <tr>\n      <th>14</th>\n      <td>CATA3</td>\n      <td>103.61</td>\n      <td>103.61</td>\n      <td>113.46</td>\n      <td>0.00</td>\n      <td>0.00</td>\n      <td>0.00</td>\n      <td>0.00</td>\n      <td>1214.17</td>\n      <td>38.09</td>\n      <td>...</td>\n      <td>17.46</td>\n      <td>0.09</td>\n      <td>1.91</td>\n      <td>1.85</td>\n      <td>9.25</td>\n      <td>0.27</td>\n      <td>Fios e Tecidos</td>\n      <td></td>\n      <td></td>\n      <td></td>\n    </tr>\n    <tr>\n      <th>18</th>\n      <td>CIEL3</td>\n      <td>3.36</td>\n      <td>3.28</td>\n      <td>3.86</td>\n      <td>-12.95</td>\n      <td>3.28</td>\n      <td>5.69</td>\n      <td>-32.39</td>\n      <td>4.31</td>\n      <td>8.63</td>\n      <td>...</td>\n      <td>16.24</td>\n      <td>0.78</td>\n      <td>4.56</td>\n      <td>1.19</td>\n      <td>17.91</td>\n      <td>0.55</td>\n      <td>Serviços Financeiros Diversos</td>\n      <td>IBOV</td>\n      <td>SMLL</td>\n      <td>IDIV</td>\n    </tr>\n    <tr>\n      <th>19</th>\n      <td>CLSC3</td>\n      <td>61.17</td>\n      <td>60.41</td>\n      <td>63.00</td>\n      <td>0.11</td>\n      <td>42.93</td>\n      <td>64.49</td>\n      <td>35.66</td>\n      <td>82.99</td>\n      <td>6.52</td>\n      <td>...</td>\n      <td>19.14</td>\n      <td>0.74</td>\n      <td>4.22</td>\n      <td>0.95</td>\n      <td>5.98</td>\n      <td>0.45</td>\n      <td>Energia Elétrica</td>\n      <td></td>\n      <td></td>\n      <td></td>\n    </tr>\n    <tr>\n      <th>20</th>\n      <td>CLSC4</td>\n      <td>65.90</td>\n      <td>63.73</td>\n      <td>66.01</td>\n      <td>2.97</td>\n      <td>45.59</td>\n      <td>66.01</td>\n      <td>22.33</td>\n      <td>82.99</td>\n      <td>6.66</td>\n      <td>...</td>\n      <td>19.14</td>\n      <td>0.79</td>\n      <td>4.22</td>\n      <td>0.95</td>\n      <td>5.98</td>\n      <td>0.45</td>\n      <td>Energia Elétrica</td>\n      <td></td>\n      <td></td>\n      <td></td>\n    </tr>\n    <tr>\n      <th>24</th>\n      <td>CSMG3</td>\n      <td>17.54</td>\n      <td>17.40</td>\n      <td>18.87</td>\n      <td>-3.84</td>\n      <td>11.82</td>\n      <td>20.81</td>\n      <td>48.39</td>\n      <td>19.94</td>\n      <td>9.52</td>\n      <td>...</td>\n      <td>14.28</td>\n      <td>0.88</td>\n      <td>6.63</td>\n      <td>1.19</td>\n      <td>16.06</td>\n      <td>0.43</td>\n      <td>Água e Saneamento</td>\n      <td></td>\n      <td>SMLL</td>\n      <td>IDIV</td>\n    </tr>\n    <tr>\n      <th>34</th>\n      <td>EUCA4</td>\n      <td>12.60</td>\n      <td>12.47</td>\n      <td>13.18</td>\n      <td>1.04</td>\n      <td>6.07</td>\n      <td>13.25</td>\n      <td>70.73</td>\n      <td>23.09</td>\n      <td>6.27</td>\n      <td>...</td>\n      <td>12.13</td>\n      <td>0.55</td>\n      <td>5.24</td>\n      <td>1.61</td>\n      <td>9.82</td>\n      <td>0.26</td>\n      <td>Madeira</td>\n      <td></td>\n      <td></td>\n      <td></td>\n    </tr>\n    <tr>\n      <th>36</th>\n      <td>GGBR3</td>\n      <td>22.84</td>\n      <td>22.40</td>\n      <td>24.32</td>\n      <td>-6.09</td>\n      <td>17.20</td>\n      <td>25.88</td>\n      <td>32.79</td>\n      <td>27.87</td>\n      <td>14.40</td>\n      <td>...</td>\n      <td>19.52</td>\n      <td>0.82</td>\n      <td>3.44</td>\n      <td>2.94</td>\n      <td>12.54</td>\n      <td>0.13</td>\n      <td>Siderurgia</td>\n      <td></td>\n      <td></td>\n      <td></td>\n    </tr>\n    <tr>\n      <th>37</th>\n      <td>GGBR4</td>\n      <td>24.40</td>\n      <td>24.26</td>\n      <td>26.18</td>\n      <td>-6.15</td>\n      <td>21.08</td>\n      <td>32.10</td>\n      <td>15.09</td>\n      <td>27.87</td>\n      <td>13.48</td>\n      <td>...</td>\n      <td>19.52</td>\n      <td>0.88</td>\n      <td>3.44</td>\n      <td>2.94</td>\n      <td>12.54</td>\n      <td>0.13</td>\n      <td>Siderurgia</td>\n      <td>IBOV</td>\n      <td></td>\n      <td></td>\n    </tr>\n    <tr>\n      <th>38</th>\n      <td>GOAU3</td>\n      <td>11.23</td>\n      <td>11.23</td>\n      <td>12.00</td>\n      <td>-4.91</td>\n      <td>8.76</td>\n      <td>13.04</td>\n      <td>28.20</td>\n      <td>16.83</td>\n      <td>10.33</td>\n      <td>...</td>\n      <td>18.39</td>\n      <td>0.67</td>\n      <td>1.22</td>\n      <td>3.03</td>\n      <td>4.20</td>\n      <td>0.32</td>\n      <td>Siderurgia</td>\n      <td></td>\n      <td></td>\n      <td></td>\n    </tr>\n    <tr>\n      <th>39</th>\n      <td>GOAU4</td>\n      <td>11.27</td>\n      <td>11.22</td>\n      <td>12.08</td>\n      <td>-5.85</td>\n      <td>9.29</td>\n      <td>13.95</td>\n      <td>20.92</td>\n      <td>16.83</td>\n      <td>10.29</td>\n      <td>...</td>\n      <td>18.39</td>\n      <td>0.67</td>\n      <td>1.22</td>\n      <td>3.03</td>\n      <td>4.20</td>\n      <td>0.32</td>\n      <td>Siderurgia</td>\n      <td>IBOV</td>\n      <td>SMLL</td>\n      <td></td>\n    </tr>\n    <tr>\n      <th>42</th>\n      <td>JHSF3</td>\n      <td>4.73</td>\n      <td>4.67</td>\n      <td>5.01</td>\n      <td>-1.05</td>\n      <td>3.29</td>\n      <td>6.97</td>\n      <td>-26.67</td>\n      <td>7.41</td>\n      <td>9.90</td>\n      <td>...</td>\n      <td>9.21</td>\n      <td>0.64</td>\n      <td>7.43</td>\n      <td>3.42</td>\n      <td>27.67</td>\n      <td>0.47</td>\n      <td>Incorporações</td>\n      <td>IBOV</td>\n      <td>SMLL</td>\n      <td></td>\n    </tr>\n    <tr>\n      <th>46</th>\n      <td>MELK3</td>\n      <td>4.49</td>\n      <td>4.17</td>\n      <td>4.58</td>\n      <td>3.46</td>\n      <td>2.59</td>\n      <td>4.91</td>\n      <td>20.38</td>\n      <td>5.79</td>\n      <td>7.40</td>\n      <td>...</td>\n      <td>6.74</td>\n      <td>0.77</td>\n      <td>13.44</td>\n      <td>3.11</td>\n      <td>7.61</td>\n      <td>-0.14</td>\n      <td>Incorporações</td>\n      <td></td>\n      <td></td>\n      <td></td>\n    </tr>\n    <tr>\n      <th>47</th>\n      <td>MMAQ4</td>\n      <td>49.73</td>\n      <td>48.80</td>\n      <td>61.38</td>\n      <td>0.00</td>\n      <td>0.00</td>\n      <td>0.00</td>\n      <td>0.00</td>\n      <td>5503.84</td>\n      <td>503.40</td>\n      <td>...</td>\n      <td>15.88</td>\n      <td>0.01</td>\n      <td>3.19</td>\n      <td>1.58</td>\n      <td>4.08</td>\n      <td>0.76</td>\n      <td>Material de Transporte</td>\n      <td></td>\n      <td></td>\n      <td></td>\n    </tr>\n    <tr>\n      <th>48</th>\n      <td>MTRE3</td>\n      <td>4.65</td>\n      <td>4.65</td>\n      <td>5.36</td>\n      <td>-11.60</td>\n      <td>2.87</td>\n      <td>6.96</td>\n      <td>13.69</td>\n      <td>9.72</td>\n      <td>18.85</td>\n      <td>...</td>\n      <td>9.49</td>\n      <td>0.48</td>\n      <td>10.12</td>\n      <td>2.85</td>\n      <td>12.11</td>\n      <td>0.39</td>\n      <td>Incorporações</td>\n      <td></td>\n      <td>SMLL</td>\n      <td></td>\n    </tr>\n    <tr>\n      <th>49</th>\n      <td>NEOE3</td>\n      <td>18.84</td>\n      <td>18.13</td>\n      <td>19.38</td>\n      <td>1.84</td>\n      <td>13.08</td>\n      <td>21.99</td>\n      <td>26.10</td>\n      <td>23.07</td>\n      <td>6.14</td>\n      <td>...</td>\n      <td>16.86</td>\n      <td>0.82</td>\n      <td>6.14</td>\n      <td>1.16</td>\n      <td>10.69</td>\n      <td>1.31</td>\n      <td>Energia Elétrica</td>\n      <td></td>\n      <td></td>\n      <td></td>\n    </tr>\n    <tr>\n      <th>53</th>\n      <td>POSI3</td>\n      <td>7.07</td>\n      <td>7.07</td>\n      <td>8.41</td>\n      <td>-14.72</td>\n      <td>5.92</td>\n      <td>12.03</td>\n      <td>-36.93</td>\n      <td>9.80</td>\n      <td>7.27</td>\n      <td>...</td>\n      <td>15.32</td>\n      <td>0.72</td>\n      <td>3.82</td>\n      <td>2.07</td>\n      <td>5.62</td>\n      <td>0.64</td>\n      <td>Computadores e Equipamentos</td>\n      <td></td>\n      <td>SMLL</td>\n      <td></td>\n    </tr>\n    <tr>\n      <th>57</th>\n      <td>SAPR11</td>\n      <td>23.19</td>\n      <td>22.58</td>\n      <td>23.67</td>\n      <td>2.02</td>\n      <td>15.24</td>\n      <td>23.67</td>\n      <td>45.67</td>\n      <td>30.11</td>\n      <td>7.91</td>\n      <td>...</td>\n      <td>15.03</td>\n      <td>0.77</td>\n      <td>5.58</td>\n      <td>1.47</td>\n      <td>23.19</td>\n      <td>0.49</td>\n      <td>Água e Saneamento</td>\n      <td></td>\n      <td>SMLL</td>\n      <td>IDIV</td>\n    </tr>\n    <tr>\n      <th>58</th>\n      <td>SAPR3</td>\n      <td>4.48</td>\n      <td>4.30</td>\n      <td>4.54</td>\n      <td>2.28</td>\n      <td>2.88</td>\n      <td>4.54</td>\n      <td>46.89</td>\n      <td>6.02</td>\n      <td>7.58</td>\n      <td>...</td>\n      <td>15.03</td>\n      <td>0.74</td>\n      <td>5.58</td>\n      <td>1.47</td>\n      <td>23.19</td>\n      <td>0.49</td>\n      <td>Água e Saneamento</td>\n      <td></td>\n      <td></td>\n      <td></td>\n    </tr>\n    <tr>\n      <th>59</th>\n      <td>SAPR4</td>\n      <td>4.65</td>\n      <td>4.57</td>\n      <td>4.76</td>\n      <td>0.00</td>\n      <td>3.11</td>\n      <td>4.76</td>\n      <td>43.52</td>\n      <td>6.02</td>\n      <td>8.03</td>\n      <td>...</td>\n      <td>15.03</td>\n      <td>0.77</td>\n      <td>5.58</td>\n      <td>1.47</td>\n      <td>23.19</td>\n      <td>0.49</td>\n      <td>Água e Saneamento</td>\n      <td></td>\n      <td>SMLL</td>\n      <td>IDIV</td>\n    </tr>\n    <tr>\n      <th>70</th>\n      <td>TKNO4</td>\n      <td>60.00</td>\n      <td>60.00</td>\n      <td>61.00</td>\n      <td>-1.64</td>\n      <td>53.64</td>\n      <td>72.31</td>\n      <td>-14.69</td>\n      <td>92.42</td>\n      <td>6.83</td>\n      <td>...</td>\n      <td>10.69</td>\n      <td>0.65</td>\n      <td>4.11</td>\n      <td>3.65</td>\n      <td>10.54</td>\n      <td>-0.11</td>\n      <td>Artefatos de Ferro e Aço</td>\n      <td></td>\n      <td></td>\n      <td></td>\n    </tr>\n  </tbody>\n</table>\n<p>28 rows × 24 columns</p>\n</div>"
     },
     "execution_count": 5,
     "metadata": {},
     "output_type": "execute_result"
    }
   ],
   "source": [
    "### Preparando os dados e Dataframe\n",
    "\n",
    "list_stocks = pd.DataFrame.from_dict(lista_indicadores_stocks)\n",
    "\n",
    "list_stocks = list_stocks.replace('-', '')\n",
    "list_stocks = list_stocks.replace('-%', '')\n",
    "list_stocks['MIN_MES'] = (list_stocks['MIN_MES']).str.lstrip('R$ ')\n",
    "list_stocks['MAX_MES'] = (list_stocks['MAX_MES']).str.lstrip('R$ ')\n",
    "list_stocks['MIN_MES'] = (list_stocks['MIN_MES']).str.strip('- ')\n",
    "list_stocks['MAX_MES'] = (list_stocks['MAX_MES']).str.strip('- ')\n",
    "list_stocks['VAL_12M'] = (list_stocks['VAL_12M']).str.rstrip('%')\n",
    "list_stocks['VAL_MES'] = (list_stocks['VAL_MES']).str.rstrip('%')\n",
    "list_stocks.to_csv('list_stocks.csv')\n",
    "\n",
    "list_stocks = pd.read_csv(\"list_stocks.csv\", sep=',', decimal=',', thousands='.', encoding=\"utf-8\" )\n",
    "\n",
    "list_stocks = list_stocks.drop(['Unnamed: 0'],axis=1)\n",
    "list_stocks.fillna(value=0, inplace=True)\n",
    "\n",
    "\n",
    "valuation.rename(columns={'TICKER': \"TICKERS\" }, inplace=True)\n",
    "\n",
    "list_stocks.rename(columns={'stocks': \"TICKERS\" }, inplace=True)\n",
    "\n",
    "investing = pd.merge(valuation, list_stocks, on='TICKERS')\n",
    "\n",
    "value_invest = investing[['TICKERS', 'PRECO', 'MIN_MES', 'MAX_MES', 'VAL_MES', 'MIN_52S', 'MAX_52S',  'VAL_12M', \n",
    "                       ' VPA', 'DY', ' LPA', 'P/L' ,'P/L_IDEAL', 'UP/DOWNSIDE', 'ROE', 'P/VP', 'EV/EBIT', \n",
    "                       'LIQ.CORR', 'MARG.LIQ', 'DIV.LIQ/PL', 'SEGMENTO']]\n",
    "\n",
    "### PEGANDO O INDICE IBOVESPA NA B3\n",
    "def get_tickers(indice):\n",
    "  url = 'http://bvmf.bmfbovespa.com.br/indices/ResumoCarteiraTeorica.aspx?Indice={}&idioma=pt-br'.format(indice.upper())\n",
    "  return (pd.read_html(url, decimal=',', thousands='.', index_col='Código')[0][:-1].index).to_list()\n",
    "\n",
    "t = get_tickers('IBOV')\n",
    "ibov = pd.DataFrame(t)\n",
    "ibov['IBOVESPA'] = 'IBOV'\n",
    "ibov.rename(columns={0: \"TICKERS\" }, inplace=True)\n",
    "ibov = ibov\n",
    "\n",
    "\n",
    "### PEGANDO O INDICE SMALL CAPS NA B3\n",
    "def get_tickers(indice):\n",
    "  url = 'http://bvmf.bmfbovespa.com.br/indices/ResumoCarteiraTeorica.aspx?Indice={}&idioma=pt-br'.format(indice.upper())\n",
    "  return (pd.read_html(url, decimal=',', thousands='.', index_col='Código')[0][:-1].index).to_list()\n",
    "\n",
    "u = get_tickers('SMLL')\n",
    "\n",
    "smll = pd.DataFrame(u)\n",
    "smll['SMALLCAP'] = 'SMLL'\n",
    "smll.rename(columns={0: \"TICKERS\" }, inplace=True)\n",
    "smll = smll\n",
    "\n",
    "### PEGANDO O INDICE SMALL IDIV NA B3\n",
    "def get_tickers(indice):\n",
    "  url = 'http://bvmf.bmfbovespa.com.br/indices/ResumoCarteiraTeorica.aspx?Indice={}&idioma=pt-br'.format(indice.upper())\n",
    "  return (pd.read_html(url, decimal=',', thousands='.', index_col='Código')[0][:-1].index).to_list()\n",
    "\n",
    "v = get_tickers('IDIV')\n",
    "\n",
    "idiv = pd.DataFrame(v)\n",
    "idiv['DIVIDENDOS'] = 'IDIV'\n",
    "idiv.rename(columns={0: \"TICKERS\" }, inplace=True)\n",
    "idiv = idiv\n",
    "\n",
    "value_invest = pd.merge(value_invest, ibov, on='TICKERS', how = 'left').fillna(0)\n",
    "\n",
    "value_invest = pd.merge(value_invest, smll, on='TICKERS', how = 'left').fillna(0)\n",
    "\n",
    "value_invest = pd.merge(value_invest, idiv, on='TICKERS', how = 'left').fillna(0)\n",
    "\n",
    "value_invest['IBOVESPA'] = (value_invest['IBOVESPA']).str.strip('0')\n",
    "value_invest['SMALLCAP'] = (value_invest['SMALLCAP']).str.strip('0')\n",
    "value_invest['DIVIDENDOS'] = (value_invest['DIVIDENDOS']).str.strip('0')\n",
    "\n",
    "value_invest.fillna('', inplace=True)\n",
    "\n",
    "value_invest = value_invest.loc[value_invest['DY'] >= 6].loc[\n",
    "    value_invest['P/L'] >= 0.01].loc[value_invest['P/L'] < 15].loc[\n",
    "    value_invest['ROE'] >= 6].loc[\n",
    "    value_invest['EV/EBIT'] >= 0.01].loc[value_invest['EV/EBIT'] <= 15].loc[\n",
    "    value_invest['LIQ.CORR'] >= 0.5].loc[\n",
    "    value_invest['UP/DOWNSIDE'] >= 0.1]#.loc[\n",
    "#     # value_invest['IBOVESPA'] == 'IBOV'].loc[\n",
    "#     # value_invest['SMALLCAP'] == 'SMLL'].loc[\n",
    "#     # value_invest['DIVIDENDOS'] == 'IDIV']\n",
    "\n",
    "value_invest"
   ]
  },
  {
   "cell_type": "code",
   "execution_count": 5,
   "outputs": [],
   "source": [],
   "metadata": {
    "collapsed": false,
    "ExecuteTime": {
     "end_time": "2023-09-26T11:46:17.329646Z",
     "start_time": "2023-09-26T11:46:17.318573Z"
    }
   },
   "id": "c3f42206b859030f"
  }
 ],
 "metadata": {
  "kernelspec": {
   "display_name": "Python 3 (ipykernel)",
   "language": "python",
   "name": "python3"
  },
  "language_info": {
   "codemirror_mode": {
    "name": "ipython",
    "version": 3
   },
   "file_extension": ".py",
   "mimetype": "text/x-python",
   "name": "python",
   "nbconvert_exporter": "python",
   "pygments_lexer": "ipython3",
   "version": "3.11.4"
  }
 },
 "nbformat": 4,
 "nbformat_minor": 5
}
