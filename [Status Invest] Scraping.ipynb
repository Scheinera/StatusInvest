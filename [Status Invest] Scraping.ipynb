{
 "cells": [
  {
   "cell_type": "code",
   "execution_count": 21,
   "outputs": [
    {
     "name": "stdout",
     "output_type": "stream",
     "text": [
      "Requirement already satisfied: requests_html in /Users/scheiner/anaconda3/lib/python3.11/site-packages (0.10.0)\r\n",
      "Requirement already satisfied: requests in /Users/scheiner/anaconda3/lib/python3.11/site-packages (from requests_html) (2.31.0)\r\n",
      "Requirement already satisfied: pyquery in /Users/scheiner/anaconda3/lib/python3.11/site-packages (from requests_html) (2.0.0)\r\n",
      "Requirement already satisfied: fake-useragent in /Users/scheiner/anaconda3/lib/python3.11/site-packages (from requests_html) (1.2.1)\r\n",
      "Requirement already satisfied: parse in /Users/scheiner/anaconda3/lib/python3.11/site-packages (from requests_html) (1.19.1)\r\n",
      "Requirement already satisfied: bs4 in /Users/scheiner/anaconda3/lib/python3.11/site-packages (from requests_html) (0.0.1)\r\n",
      "Requirement already satisfied: w3lib in /Users/scheiner/anaconda3/lib/python3.11/site-packages (from requests_html) (1.21.0)\r\n",
      "Requirement already satisfied: pyppeteer>=0.0.14 in /Users/scheiner/anaconda3/lib/python3.11/site-packages (from requests_html) (1.0.2)\r\n",
      "Requirement already satisfied: appdirs<2.0.0,>=1.4.3 in /Users/scheiner/anaconda3/lib/python3.11/site-packages (from pyppeteer>=0.0.14->requests_html) (1.4.4)\r\n",
      "Requirement already satisfied: certifi>=2021 in /Users/scheiner/anaconda3/lib/python3.11/site-packages (from pyppeteer>=0.0.14->requests_html) (2023.7.22)\r\n",
      "Requirement already satisfied: importlib-metadata>=1.4 in /Users/scheiner/anaconda3/lib/python3.11/site-packages (from pyppeteer>=0.0.14->requests_html) (6.0.0)\r\n",
      "Requirement already satisfied: pyee<9.0.0,>=8.1.0 in /Users/scheiner/anaconda3/lib/python3.11/site-packages (from pyppeteer>=0.0.14->requests_html) (8.2.2)\r\n",
      "Requirement already satisfied: tqdm<5.0.0,>=4.42.1 in /Users/scheiner/anaconda3/lib/python3.11/site-packages (from pyppeteer>=0.0.14->requests_html) (4.65.0)\r\n",
      "Requirement already satisfied: urllib3<2.0.0,>=1.25.8 in /Users/scheiner/anaconda3/lib/python3.11/site-packages (from pyppeteer>=0.0.14->requests_html) (1.26.16)\r\n",
      "Requirement already satisfied: websockets<11.0,>=10.0 in /Users/scheiner/anaconda3/lib/python3.11/site-packages (from pyppeteer>=0.0.14->requests_html) (10.4)\r\n",
      "Requirement already satisfied: beautifulsoup4 in /Users/scheiner/anaconda3/lib/python3.11/site-packages (from bs4->requests_html) (4.12.2)\r\n",
      "Requirement already satisfied: lxml>=2.1 in /Users/scheiner/anaconda3/lib/python3.11/site-packages (from pyquery->requests_html) (4.9.2)\r\n",
      "Requirement already satisfied: cssselect>=1.2.0 in /Users/scheiner/anaconda3/lib/python3.11/site-packages (from pyquery->requests_html) (1.2.0)\r\n",
      "Requirement already satisfied: charset-normalizer<4,>=2 in /Users/scheiner/anaconda3/lib/python3.11/site-packages (from requests->requests_html) (2.0.4)\r\n",
      "Requirement already satisfied: idna<4,>=2.5 in /Users/scheiner/anaconda3/lib/python3.11/site-packages (from requests->requests_html) (3.4)\r\n",
      "Requirement already satisfied: six>=1.4.1 in /Users/scheiner/anaconda3/lib/python3.11/site-packages (from w3lib->requests_html) (1.16.0)\r\n",
      "Requirement already satisfied: zipp>=0.5 in /Users/scheiner/anaconda3/lib/python3.11/site-packages (from importlib-metadata>=1.4->pyppeteer>=0.0.14->requests_html) (3.11.0)\r\n",
      "Requirement already satisfied: soupsieve>1.2 in /Users/scheiner/anaconda3/lib/python3.11/site-packages (from beautifulsoup4->bs4->requests_html) (2.4)\r\n",
      "Requirement already satisfied: pandas in /Users/scheiner/anaconda3/lib/python3.11/site-packages (1.5.3)\r\n",
      "\u001B[31mERROR: Could not find a version that satisfies the requirement as (from versions: none)\u001B[0m\u001B[31m\r\n",
      "\u001B[0m\u001B[31mERROR: No matching distribution found for as\u001B[0m\u001B[31m\r\n",
      "\u001B[0m"
     ]
    }
   ],
   "source": [
    "!pip install requests_html\n",
    "!pip install pandas as pd"
   ],
   "metadata": {
    "collapsed": false,
    "ExecuteTime": {
     "end_time": "2023-09-09T02:32:56.325872Z",
     "start_time": "2023-09-09T02:32:42.816979Z"
    }
   }
  },
  {
   "cell_type": "code",
   "execution_count": 8,
   "outputs": [],
   "source": [
    "from requests_html import HTMLSession\n",
    "from bs4 import BeautifulSoup\n",
    "import pandas as pd\n",
    "\n",
    "s = HTMLSession()\n",
    "url = 'https://statusinvest.com.br/acoes/'\n",
    "\n",
    "ticker = 'BBAS3'\n",
    "\n",
    "def getdata(url):\n",
    "    r = s.get(url + ticker)\n",
    "    soup = BeautifulSoup(r.text, 'html.parser')\n",
    "    return soup\n",
    "\n"
   ],
   "metadata": {
    "collapsed": false,
    "ExecuteTime": {
     "end_time": "2023-09-09T02:26:09.661681Z",
     "start_time": "2023-09-09T02:26:09.628139Z"
    }
   }
  },
  {
   "cell_type": "code",
   "execution_count": null,
   "outputs": [],
   "source": [
    "print(getdata(url + ticker))"
   ],
   "metadata": {
    "collapsed": false
   }
  },
  {
   "cell_type": "code",
   "execution_count": 34,
   "outputs": [
    {
     "data": {
      "text/plain": "'46,68'"
     },
     "execution_count": 34,
     "metadata": {},
     "output_type": "execute_result"
    }
   ],
   "source": [
    "from requests_html import HTMLSession\n",
    "from bs4 import BeautifulSoup\n",
    "import pandas as pd\n",
    "\n",
    "ticker = []\n",
    "\n",
    "s = HTMLSession()\n",
    "url = 'https://statusinvest.com.br/acoes/'\n",
    "ticker = 'BBAS3'\n",
    "\n",
    "def getdata(url):\n",
    "    r = s.get(url + ticker)\n",
    "    soup = BeautifulSoup(r.text, 'html.parser')\n",
    "    return soup\n",
    "\n",
    "soup = getdata(url)\n",
    "preco = soup.find('div', {'title':'Valor atual do ativo'})\n",
    "\n",
    "if preco is not None:\n",
    "    preco = preco.find('strong', {'class':'value'}).getText()\n",
    "else:\n",
    "    preco = 'Not found'\n",
    "\n",
    "\n",
    "preco"
   ],
   "metadata": {
    "collapsed": false,
    "ExecuteTime": {
     "end_time": "2023-09-09T02:47:49.516080Z",
     "start_time": "2023-09-09T02:47:47.864716Z"
    }
   }
  },
  {
   "cell_type": "code",
   "execution_count": 10,
   "outputs": [
    {
     "data": {
      "text/plain": "'Financeiro e Outros'"
     },
     "execution_count": 10,
     "metadata": {},
     "output_type": "execute_result"
    }
   ],
   "source": [
    "setor = soup.find('div', {'class':'info pr-md-2'})\n",
    "\n",
    "if setor is not None:\n",
    "    setor = setor.find('strong', {'class':'value'}).getText()\n",
    "else:\n",
    "    setor = 'Not found'\n",
    "\n",
    "setor"
   ],
   "metadata": {
    "collapsed": false,
    "ExecuteTime": {
     "end_time": "2023-09-09T02:26:25.772056Z",
     "start_time": "2023-09-09T02:26:25.730677Z"
    }
   }
  },
  {
   "cell_type": "code",
   "execution_count": 11,
   "outputs": [
    {
     "data": {
      "text/plain": "'Intermediários Financeiros'"
     },
     "execution_count": 11,
     "metadata": {},
     "output_type": "execute_result"
    }
   ],
   "source": [
    "Sub_setor = soup.find('div', {'class':'info pl-md-2 pr-md-2'})\n",
    "\n",
    "if Sub_setor is not None:\n",
    "    Sub_setor = Sub_setor.find('strong', {'class':'value'}).getText()\n",
    "else:\n",
    "    Sub_setor = 'Not found'\n",
    "\n",
    "Sub_setor"
   ],
   "metadata": {
    "collapsed": false,
    "ExecuteTime": {
     "end_time": "2023-09-09T02:26:28.852588Z",
     "start_time": "2023-09-09T02:26:28.772259Z"
    }
   }
  },
  {
   "cell_type": "code",
   "execution_count": 91,
   "outputs": [
    {
     "data": {
      "text/plain": "'29,37'"
     },
     "execution_count": 91,
     "metadata": {},
     "output_type": "execute_result"
    }
   ],
   "source": [
    "min52s = soup.find('div', {'title': 'Valor mínimo das últimas 52 semanas'})\n",
    "\n",
    "if min52s is not None:\n",
    "    min52s = min52s.find('strong', {'class':'value'}).getText()\n",
    "else:\n",
    "    min52s = 'Not found'\n",
    "\n",
    "min52s"
   ],
   "metadata": {
    "collapsed": false,
    "ExecuteTime": {
     "end_time": "2023-09-09T03:40:29.567163Z",
     "start_time": "2023-09-09T03:40:29.380444Z"
    }
   }
  },
  {
   "cell_type": "code",
   "execution_count": 99,
   "outputs": [
    {
     "data": {
      "text/plain": "'51,20'"
     },
     "execution_count": 99,
     "metadata": {},
     "output_type": "execute_result"
    }
   ],
   "source": [
    "max52s = soup.find('div', {'title': 'Valor máximo das últimas 52 semanas'})\n",
    "\n",
    "if max52s is not None:\n",
    "    max52s = max52s.find('strong', {'class':'value'}).getText()\n",
    "else:\n",
    "    max52s = 'Not found'\n",
    "\n",
    "max52s"
   ],
   "metadata": {
    "collapsed": false,
    "ExecuteTime": {
     "end_time": "2023-09-09T03:51:12.808540Z",
     "start_time": "2023-09-09T03:51:12.777160Z"
    }
   }
  },
  {
   "cell_type": "code",
   "execution_count": 97,
   "outputs": [
    {
     "data": {
      "text/plain": "'26,13%'"
     },
     "execution_count": 97,
     "metadata": {},
     "output_type": "execute_result"
    }
   ],
   "source": [
    "val_12m = soup.find('div', {'title': 'Valorização no preço do ativo com base nos últimos 12 meses'})\n",
    "\n",
    "if val_12m is not None:\n",
    "    val_12m = val_12m.find('strong', {'class':'value'}).getText()\n",
    "else:\n",
    "    val_12m = 'Not found'\n",
    "\n",
    "val_12m"
   ],
   "metadata": {
    "collapsed": false,
    "ExecuteTime": {
     "end_time": "2023-09-09T03:46:24.239088Z",
     "start_time": "2023-09-09T03:46:24.166624Z"
    }
   }
  },
  {
   "cell_type": "code",
   "execution_count": 144,
   "outputs": [
    {
     "data": {
      "text/plain": "[<strong class=\"value\">46,68</strong>,\n <strong class=\"value\">29,37</strong>,\n <strong class=\"value\">51,20</strong>,\n <strong class=\"value\">9,66</strong>,\n <strong class=\"value\">26,13%</strong>]"
     },
     "execution_count": 144,
     "metadata": {},
     "output_type": "execute_result"
    }
   ],
   "source": [
    "resume_1 = soup.find('div', {'class': 'top-info'})\n",
    "\n",
    "if resume_1 is not None:\n",
    "    resume_1 = resume_1('strong', {'class':'value'})\n",
    "else:\n",
    "    resume_1 = 'Not found'\n",
    "\n",
    "resume_1"
   ],
   "metadata": {
    "collapsed": false,
    "ExecuteTime": {
     "end_time": "2023-09-09T04:40:38.354948Z",
     "start_time": "2023-09-09T04:40:38.321879Z"
    }
   }
  },
  {
   "cell_type": "code",
   "execution_count": 138,
   "outputs": [
    {
     "data": {
      "text/plain": "[<strong class=\"value\">ON</strong>,\n <strong class=\"value\">100 %</strong>,\n <strong class=\"value\">393.518.559,41</strong>,\n <strong class=\"value\">3,256</strong>,\n <strong class=\"value mr-1\">558</strong>]"
     },
     "execution_count": 138,
     "metadata": {},
     "output_type": "execute_result"
    }
   ],
   "source": [
    "resume_2 = soup.find('div', {'class': 'top-info top-info-1 top-info-sm-2 top-info-md-3 top-info-xl-n sm d-flex justify-between'})\n",
    "\n",
    "if resume_2 is not None:\n",
    "    resume_2 = resume_2('strong', {'class':'value'})\n",
    "else:\n",
    "    resume_2 = 'Not found'\n",
    "\n",
    "resume_2"
   ],
   "metadata": {
    "collapsed": false,
    "ExecuteTime": {
     "end_time": "2023-09-09T04:38:30.112023Z",
     "start_time": "2023-09-09T04:38:30.076188Z"
    }
   }
  },
  {
   "cell_type": "code",
   "execution_count": 161,
   "outputs": [
    {
     "data": {
      "text/plain": "[<strong class=\"value\">162.606.050.000</strong>,\n <strong class=\"value\">2.075.762.530.000</strong>,\n <strong class=\"value\">65.260.363.000</strong>,\n <strong class=\"value\">-</strong>,\n <strong class=\"value\">65.260.363.000</strong>,\n <strong class=\"value\">-</strong>,\n <strong class=\"value\">134.502.674.919</strong>,\n <strong class=\"value\">134.502.674.919</strong>,\n <strong class=\"value\">2.865.417.020</strong>,\n <strong class=\"value\">Novo Mercado</strong>,\n <strong class=\"value\">49,58%</strong>,\n <strong class=\"value\"> </strong>]"
     },
     "execution_count": 161,
     "metadata": {},
     "output_type": "execute_result"
    }
   ],
   "source": [
    "resume_3 = soup.find('div', {'class': 'top-info info-3 sm d-flex justify-between mb-3'})\n",
    "\n",
    "if resume_3 is not None:\n",
    "    resume_3 = resume_3('strong', {'class':'value'})\n",
    "else:\n",
    "    resume_3 = 'Not found'\n",
    "\n",
    "resume_3"
   ],
   "metadata": {
    "collapsed": false,
    "ExecuteTime": {
     "end_time": "2023-09-09T05:05:30.169752Z",
     "start_time": "2023-09-09T05:05:30.112725Z"
    }
   }
  },
  {
   "cell_type": "code",
   "execution_count": null,
   "outputs": [],
   "source": [],
   "metadata": {
    "collapsed": false
   }
  }
 ],
 "nbformat": 4,
 "nbformat_minor": 0,
 "metadata": {
  "deepnote": {},
  "orig_nbformat": 2,
  "deepnote_notebook_id": "5a86ee550186485eb1ddf65c019e1094",
  "deepnote_execution_queue": [],
  "kernelspec": {
   "name": "python3",
   "language": "python",
   "display_name": "Python 3 (ipykernel)"
  }
 }
}
