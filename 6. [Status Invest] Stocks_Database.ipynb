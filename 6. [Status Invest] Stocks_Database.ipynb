{
 "cells": [
  {
   "cell_type": "markdown",
   "metadata": {
    "formattedRanges": [],
    "cell_id": "131e37fce3a24b1881785045b0cc1ff9",
    "deepnote_cell_type": "text-cell-h1"
   },
   "source": [
    "# Ações"
   ],
   "block_group": "131e37fce3a24b1881785045b0cc1ff9"
  },
  {
   "cell_type": "markdown",
   "metadata": {
    "formattedRanges": [],
    "cell_id": "672749cb7bbd4f47b4cdb38ac42fe3b5",
    "deepnote_cell_type": "text-cell-h2"
   },
   "source": [
    "## Indicadores consolidados - Empresas"
   ],
   "block_group": "672749cb7bbd4f47b4cdb38ac42fe3b5"
  },
  {
   "cell_type": "code",
   "metadata": {
    "source_hash": null,
    "output_cleared": false,
    "execution_start": 1693085473678,
    "execution_millis": 452,
    "is_output_hidden": false,
    "deepnote_to_be_reexecuted": false,
    "deepnote_app_is_output_hidden": true,
    "cell_id": "72c746c0e2e541c292569057f5a03789",
    "deepnote_cell_type": "code",
    "ExecuteTime": {
     "end_time": "2023-09-15T20:44:05.184978Z",
     "start_time": "2023-09-15T20:44:05.148449Z"
    }
   },
   "source": [
    "import pandas as pd\n",
    "import numpy as np\n",
    "import json\n",
    "import requests\n",
    "import matplotlib.pyplot as mp\n",
    "import plotly.express as px\n",
    "from bs4 import BeautifulSoup\n",
    "import os\n",
    "from pathlib import Path\n",
    "\n"
   ],
   "block_group": "72c746c0e2e541c292569057f5a03789",
   "execution_count": 271,
   "outputs": []
  },
  {
   "cell_type": "code",
   "metadata": {
    "source_hash": null,
    "is_code_hidden": false,
    "execution_start": 1693085474845,
    "execution_millis": 34,
    "deepnote_to_be_reexecuted": false,
    "deepnote_app_is_code_hidden": true,
    "cell_id": "aa27ba3562974bdc99da1411c3d42339",
    "deepnote_cell_type": "code",
    "ExecuteTime": {
     "end_time": "2023-09-15T17:57:28.379835Z",
     "start_time": "2023-09-15T17:57:28.135033Z"
    }
   },
   "source": [
    "tickets = ['BBAS3']\n",
    "df = pd.DataFrame({'tickers': tickets})\n",
    "tick_list = df['tickers'].tolist()\n",
    "tick_list"
   ],
   "block_group": "aa27ba3562974bdc99da1411c3d42339",
   "execution_count": 94,
   "outputs": [
    {
     "data": {
      "text/plain": "['BBAS3']"
     },
     "execution_count": 94,
     "metadata": {},
     "output_type": "execute_result"
    }
   ]
  },
  {
   "cell_type": "markdown",
   "source": [
    "## Dividend Yield - DY"
   ],
   "metadata": {
    "collapsed": false
   }
  },
  {
   "cell_type": "code",
   "metadata": {
    "source_hash": null,
    "is_code_hidden": false,
    "execution_start": 1693085474892,
    "execution_millis": 84960,
    "is_output_hidden": false,
    "deepnote_to_be_reexecuted": false,
    "deepnote_app_is_code_hidden": true,
    "deepnote_app_is_output_hidden": true,
    "cell_id": "2315774e1b72442f9ec81f83fdbf5b6e",
    "deepnote_cell_type": "code",
    "ExecuteTime": {
     "end_time": "2023-09-15T18:10:05.363721Z",
     "start_time": "2023-09-15T18:10:04.536156Z"
    }
   },
   "source": [
    "# dicionario com todas as ações por linha a serem substituidas\n",
    "index_stocks = []\n",
    "index_tickers = {}\n",
    "for i, v in zip((range(len(tick_list))), tick_list):\n",
    "    index_tickers[i] = v\n",
    "    index_stocks.append(index_tickers)\n",
    "#index_tickers\n",
    "\n",
    "\n",
    "url = 'https://statusinvest.com.br/acoes/busca-avancada'\n",
    "\n",
    "dys = []\n",
    "\n",
    "url = 'https://statusinvest.com.br/acoes/'\n",
    "\n",
    "for i, v in zip(tick_list, (range(len(tick_list)))):\n",
    "    print(f'{v}.{i}') \n",
    "\n",
    "    headers = {\n",
    "        'authority': 'statusinvest.com.br',\n",
    "        'sec-ch-ua': '\\\"Google Chrome\\\";v=\\\"116\\\", \\\"Chromium\\\";v=\\\"116\\\", \\\";Not A Brand\\\";v=\\\"99\\\"',\n",
    "        'accept': '*/*',\n",
    "        'x-requested-with': 'XMLHttpRequest',\n",
    "        'sec-ch-ua-mobile': '?0',\n",
    "        'user-agent': 'Mozilla/5.0 (Windows NT 10.0; Win64; x64) AppleWebKit/537.36 (KHTML, like Gecko) Chrome/116.0.0.0 Safari/537.36',\n",
    "        'content-type': 'application/x-www-form-urlencoded; charset=UTF-8',\n",
    "        'origin': 'https://statusinvest.com.br',\n",
    "        'sec-fetch-site': 'same-origin',\n",
    "        'sec-fetch-mode': 'cors',\n",
    "        'sec-fetch-dest': 'empty',\n",
    "        'referer': url + str(i),\n",
    "        'accept-language': 'pt-BR,pt;q=0.9,en-US;q=0.8,en;q=0.7',\n",
    "        'cookie': '_adasys=e2299e4d-38b0-48c7-91be-a844fb91e62c; _ga=GA1.3.1768435062.1608297004; G_ENABLED_IDPS=google; __cfduid=d96cf593e372b319fd9ac85a0385fd3971614276176; denakop_freq={}; _gid=GA1.3.490929924.1615153324; __cf_bm=ccb5439cbc002734ed38f28e7c99677ec0b5afff-1615325452-1800-AWbw2mlOXKHt6BZ0dybIWT1O8Z4S9u6Mv7pm7/qkTNvQPFa+jTjP1n06mQmPXqmE938CAjZonuuP2B6noCkuoBpP5ouTIc/MWeUoxtuhdKfJ05v24zpwzU/CpAosevhANA==; _gat_gtag_UA_142136095_1=1',\n",
    "    }   \n",
    "\n",
    "    data = {\n",
    "        'ticker': str(i),\n",
    "        'time': '5'\n",
    "    }\n",
    "\n",
    "    response = requests.post('https://statusinvest.com.br/acao/indicatorhistorical', headers=headers, data=data)\n",
    "\n",
    "    \n",
    "    try:\n",
    "        r = response.json()\n",
    "    except json.JSONDecodeError as e:\n",
    "        print(f\"Error decoding JSON: {e}\")\n",
    "        exit(1)\n",
    "    \n",
    "\n",
    "    # Coletando informações para DataFrame\n",
    "    dy = {}\n",
    "    \n",
    "    \n",
    "    c = requests.get(url + str(i)).content\n",
    "    soup = BeautifulSoup(c)\n",
    "\n",
    "\n",
    "       ### INDICADORES DE VALUATION ###\n",
    "\n",
    "    try:    \n",
    "        dy['DY'] = r['data'][0]['ranks'][0]['value_F']\n",
    "    except:\n",
    "        dy['DY'] = np.NaN\n",
    "    try:    \n",
    "        dy['2022'] = r['data'][0]['ranks'][1]['value_F']\n",
    "    except:\n",
    "        dy['2022'] = np.NaN\n",
    "    try:    \n",
    "        dy['2021'] = r['data'][0]['ranks'][2]['value_F']\n",
    "    except:\n",
    "        dy['2021'] = np.NaN\n",
    "    try:    \n",
    "        dy['2020'] = r['data'][0]['ranks'][3]['value_F']\n",
    "    except:\n",
    "        dy['2020'] = np.NaN\n",
    "    try:    \n",
    "        dy['2019'] = r['data'][0]['ranks'][4]['value_F']\n",
    "    except:\n",
    "        dy['2019'] = np.NaN\n",
    "    try:    \n",
    "        dy['2018'] = r['data'][0]['ranks'][5]['value_F']\n",
    "    except:\n",
    "        dy['2018'] = np.NaN\n",
    "    try:    \n",
    "        dy['2017'] = r['data'][0]['ranks'][6]['value_F']\n",
    "    except:\n",
    "        dy['2017'] = np.NaN\n",
    "    try:    \n",
    "        dy['2016'] = r['data'][0]['ranks'][7]['value_F']\n",
    "    except:\n",
    "        dy['2016'] = np.NaN    \n",
    "    try:    \n",
    "        dy['2015'] = r['data'][0]['ranks'][8]['value_F']\n",
    "    except:\n",
    "        dy['2015'] = np.NaN\n",
    "    try:    \n",
    "        dy['2014'] = r['data'][0]['ranks'][9]['value_F']\n",
    "    except:\n",
    "        dy['2014'] = np.NaN\n",
    "    try:    \n",
    "        dy['2013'] = r['data'][0]['ranks'][10]['value_F']\n",
    "    except:\n",
    "        dy['2013'] = np.NaN\n",
    "    try:    \n",
    "        dy['2012'] = r['data'][0]['ranks'][11]['value_F']\n",
    "    except:\n",
    "        dy['2012'] = np.NaN    \n",
    "    try:    \n",
    "        dy['2011'] = r['data'][0]['ranks'][12]['value_F']\n",
    "    except:\n",
    "        dy['2011'] = np.NaN\n",
    "\n",
    "\n",
    "# Adicionando resultado a lista de cards\n",
    "    dys.append(dy)\n",
    "\n",
    "# Criando um DataFrame com os resultados\n",
    "dividend = pd.DataFrame(dys)\n",
    "dividend.rename(index = index_tickers, inplace = True)"
   ],
   "block_group": "2315774e1b72442f9ec81f83fdbf5b6e",
   "execution_count": 100,
   "outputs": [
    {
     "name": "stdout",
     "output_type": "stream",
     "text": [
      "0.BBAS3\n"
     ]
    }
   ]
  },
  {
   "cell_type": "markdown",
   "metadata": {
    "formattedRanges": [],
    "cell_id": "972fb9d212c44330b97c57b9c730d215",
    "deepnote_cell_type": "text-cell-h2",
    "ExecuteTime": {
     "start_time": "2023-09-05T20:09:38.821861Z"
    }
   },
   "source": [
    "## Preço / Lucro por ação - PL"
   ],
   "block_group": "972fb9d212c44330b97c57b9c730d215"
  },
  {
   "cell_type": "code",
   "metadata": {
    "source_hash": null,
    "is_code_hidden": false,
    "execution_start": 1693085559803,
    "execution_millis": 82585,
    "is_output_hidden": false,
    "deepnote_to_be_reexecuted": false,
    "deepnote_app_is_code_hidden": true,
    "deepnote_app_is_output_hidden": true,
    "cell_id": "0f9913d38c19441cb5ccd2e512218a52",
    "deepnote_cell_type": "code",
    "ExecuteTime": {
     "end_time": "2023-09-15T18:10:35.158878Z",
     "start_time": "2023-09-15T18:10:34.710154Z"
    }
   },
   "source": [
    "# dicionario com todas as ações por linha a serem substituidas\n",
    "index_stocks = []\n",
    "index_tickers = {}\n",
    "for i, v in zip((range(len(tick_list))), tick_list):\n",
    "    index_tickers[i] = v\n",
    "    index_stocks.append(index_tickers)\n",
    "#index_tickers\n",
    "\n",
    "url = 'https://statusinvest.com.br/acoes/busca-avancada'\n",
    "\n",
    "pls = []\n",
    "\n",
    "url = 'https://statusinvest.com.br/acoes/'\n",
    "\n",
    "for i, v in zip(tick_list, (range(len(tick_list)))):\n",
    "    print(f'{v}.{i}') \n",
    "\n",
    "    headers = {\n",
    "        'authority': 'statusinvest.com.br',\n",
    "        'sec-ch-ua': '\\\"Google Chrome\\\";v=\\\"116\\\", \\\"Chromium\\\";v=\\\"116\\\", \\\";Not A Brand\\\";v=\\\"99\\\"',\n",
    "        'accept': '*/*',\n",
    "        'x-requested-with': 'XMLHttpRequest',\n",
    "        'sec-ch-ua-mobile': '?0',\n",
    "        'user-agent': 'Mozilla/5.0 (Windows NT 10.0; Win64; x64) AppleWebKit/537.36 (KHTML, like Gecko) Chrome/116.0.0.0 Safari/537.36',\n",
    "        'content-type': 'application/x-www-form-urlencoded; charset=UTF-8',\n",
    "        'origin': 'https://statusinvest.com.br',\n",
    "        'sec-fetch-site': 'same-origin',\n",
    "        'sec-fetch-mode': 'cors',\n",
    "        'sec-fetch-dest': 'empty',\n",
    "        'referer': url + str(i),\n",
    "        'accept-language': 'pt-BR,pt;q=0.9,en-US;q=0.8,en;q=0.7',\n",
    "        'cookie': '_adasys=e2299e4d-38b0-48c7-91be-a844fb91e62c; _ga=GA1.3.1768435062.1608297004; G_ENABLED_IDPS=google; __cfduid=d96cf593e372b319fd9ac85a0385fd3971614276176; denakop_freq={}; _gid=GA1.3.490929924.1615153324; __cf_bm=ccb5439cbc002734ed38f28e7c99677ec0b5afff-1615325452-1800-AWbw2mlOXKHt6BZ0dybIWT1O8Z4S9u6Mv7pm7/qkTNvQPFa+jTjP1n06mQmPXqmE938CAjZonuuP2B6noCkuoBpP5ouTIc/MWeUoxtuhdKfJ05v24zpwzU/CpAosevhANA==; _gat_gtag_UA_142136095_1=1',\n",
    "    }   \n",
    "\n",
    "    data = {\n",
    "        'ticker': str(i),\n",
    "        'time': '5'\n",
    "    }\n",
    "\n",
    "    response = requests.post('https://statusinvest.com.br/acao/indicatorhistorical', headers=headers, data=data)\n",
    "\n",
    "    \n",
    "    try:\n",
    "        r = response.json()\n",
    "    except json.JSONDecodeError as e:\n",
    "        print(f\"Error decoding JSON: {e}\")\n",
    "        exit(1)\n",
    "    \n",
    "\n",
    "    # Coletando informações para DataFrame\n",
    "    pl = {}\n",
    "    \n",
    "    \n",
    "    c = requests.get(url + str(i)).content\n",
    "    soup = BeautifulSoup(c)\n",
    "\n",
    "\n",
    "       ### INDICADORES DE VALUATION ###\n",
    "\n",
    "    try:    \n",
    "        pl['P/L'] = r['data'][1]['ranks'][0]['value_F']\n",
    "    except:\n",
    "        pl['P/L'] = np.NaN\n",
    "    try:    \n",
    "        pl['2022'] = r['data'][1]['ranks'][1]['value_F']\n",
    "    except:\n",
    "        pl['2022'] = np.NaN\n",
    "    try:    \n",
    "        pl['2021'] = r['data'][1]['ranks'][2]['value_F']\n",
    "    except:\n",
    "        pl['2021'] = np.NaN\n",
    "    try:    \n",
    "        pl['2020'] = r['data'][1]['ranks'][3]['value_F']\n",
    "    except:\n",
    "        pl['2020'] = np.NaN\n",
    "    try:    \n",
    "        pl['2019'] = r['data'][1]['ranks'][4]['value_F']\n",
    "    except:\n",
    "        pl['2019'] = np.NaN\n",
    "    try:    \n",
    "        pl['2018'] = r['data'][1]['ranks'][5]['value_F']\n",
    "    except:\n",
    "        pl['2018'] = np.NaN\n",
    "    try:    \n",
    "        pl['2017'] = r['data'][1]['ranks'][6]['value_F']\n",
    "    except:\n",
    "        pl['2017'] = np.NaN\n",
    "    try:    \n",
    "        pl['2016'] = r['data'][1]['ranks'][7]['value_F']\n",
    "    except:\n",
    "        pl['2016'] = np.NaN    \n",
    "    try:    \n",
    "        pl['2015'] = r['data'][1]['ranks'][8]['value_F']\n",
    "    except:\n",
    "        pl['2015'] = np.NaN\n",
    "    try:    \n",
    "        pl['2014'] = r['data'][1]['ranks'][9]['value_F']\n",
    "    except:\n",
    "        pl['2014'] = np.NaN\n",
    "    try:    \n",
    "        pl['2013'] = r['data'][1]['ranks'][10]['value_F']\n",
    "    except:\n",
    "        pl['2013'] = np.NaN\n",
    "    try:    \n",
    "        pl['2012'] = r['data'][1]['ranks'][11]['value_F']\n",
    "    except:\n",
    "        pl['2012'] = np.NaN    \n",
    "    try:    \n",
    "        pl['2011'] = r['data'][1]['ranks'][12]['value_F']\n",
    "    except:\n",
    "        pl['2011'] = np.NaN\n",
    "\n",
    "\n",
    "    # Adicionando resultado a lista de cards\n",
    "    pls.append(pl)\n",
    "\n",
    "# Criando um DataFrame com os resultados\n",
    "p_l = pd.DataFrame(pls)\n",
    "p_l.rename(index = index_tickers, inplace = True)"
   ],
   "block_group": "0f9913d38c19441cb5ccd2e512218a52",
   "execution_count": 101,
   "outputs": [
    {
     "name": "stdout",
     "output_type": "stream",
     "text": [
      "0.BBAS3\n"
     ]
    }
   ]
  },
  {
   "cell_type": "markdown",
   "metadata": {
    "formattedRanges": [],
    "cell_id": "384fe24821ab4a21bf03d7b04b3eb758",
    "deepnote_cell_type": "text-cell-h2",
    "ExecuteTime": {
     "start_time": "2023-09-05T20:09:38.840351Z"
    }
   },
   "source": [
    "## Peg Ratio - (P/L)/[(LPA Atual / LPA Anterior)-1]"
   ],
   "block_group": "384fe24821ab4a21bf03d7b04b3eb758"
  },
  {
   "cell_type": "code",
   "metadata": {
    "source_hash": null,
    "is_code_hidden": false,
    "execution_start": 1693085642381,
    "execution_millis": 82857,
    "is_output_hidden": false,
    "deepnote_to_be_reexecuted": false,
    "deepnote_app_is_code_hidden": true,
    "deepnote_app_is_output_hidden": true,
    "cell_id": "2a87270ef3b34903b8ad671a36b09cfa",
    "deepnote_cell_type": "code",
    "ExecuteTime": {
     "end_time": "2023-09-15T18:10:53.362124Z",
     "start_time": "2023-09-15T18:10:52.791974Z"
    }
   },
   "source": [
    "# dicionario com todas as ações por linha a serem substituidas\n",
    "index_stocks = []\n",
    "index_tickers = {}\n",
    "for i, v in zip((range(len(tick_list))), tick_list):\n",
    "    index_tickers[i] = v\n",
    "    index_stocks.append(index_tickers)\n",
    "#index_tickers\n",
    "\n",
    "url = 'https://statusinvest.com.br/acoes/busca-avancada'\n",
    "\n",
    "peg_ratios = []\n",
    "\n",
    "url = 'https://statusinvest.com.br/acoes/'\n",
    "\n",
    "for i, v in zip(tick_list, (range(len(tick_list)))):\n",
    "    print(f'{v}.{i}') \n",
    "\n",
    "    headers = {\n",
    "        'authority': 'statusinvest.com.br',\n",
    "        'sec-ch-ua': '\\\"Google Chrome\\\";v=\\\"116\\\", \\\"Chromium\\\";v=\\\"116\\\", \\\";Not A Brand\\\";v=\\\"99\\\"',\n",
    "        'accept': '*/*',\n",
    "        'x-requested-with': 'XMLHttpRequest',\n",
    "        'sec-ch-ua-mobile': '?0',\n",
    "        'user-agent': 'Mozilla/5.0 (Windows NT 10.0; Win64; x64) AppleWebKit/537.36 (KHTML, like Gecko) Chrome/116.0.0.0 Safari/537.36',\n",
    "        'content-type': 'application/x-www-form-urlencoded; charset=UTF-8',\n",
    "        'origin': 'https://statusinvest.com.br',\n",
    "        'sec-fetch-site': 'same-origin',\n",
    "        'sec-fetch-mode': 'cors',\n",
    "        'sec-fetch-dest': 'empty',\n",
    "        'referer': url + str(i),\n",
    "        'accept-language': 'pt-BR,pt;q=0.9,en-US;q=0.8,en;q=0.7',\n",
    "        'cookie': '_adasys=e2299e4d-38b0-48c7-91be-a844fb91e62c; _ga=GA1.3.1768435062.1608297004; G_ENABLED_IDPS=google; __cfduid=d96cf593e372b319fd9ac85a0385fd3971614276176; denakop_freq={}; _gid=GA1.3.490929924.1615153324; __cf_bm=ccb5439cbc002734ed38f28e7c99677ec0b5afff-1615325452-1800-AWbw2mlOXKHt6BZ0dybIWT1O8Z4S9u6Mv7pm7/qkTNvQPFa+jTjP1n06mQmPXqmE938CAjZonuuP2B6noCkuoBpP5ouTIc/MWeUoxtuhdKfJ05v24zpwzU/CpAosevhANA==; _gat_gtag_UA_142136095_1=1',\n",
    "    }   \n",
    "\n",
    "    data = {\n",
    "        'ticker': str(i),\n",
    "        'time': '5'\n",
    "    }\n",
    "\n",
    "    response = requests.post('https://statusinvest.com.br/acao/indicatorhistorical', headers=headers, data=data)\n",
    "\n",
    "    \n",
    "    try:\n",
    "        r = response.json()\n",
    "    except json.JSONDecodeError as e:\n",
    "        print(f\"Error decoding JSON: {e}\")\n",
    "        exit(1)\n",
    "    \n",
    "\n",
    "    # Coletando informações para DataFrame\n",
    "    peg_ratio = {}\n",
    "    \n",
    "    \n",
    "    c = requests.get(url + str(i)).content\n",
    "    soup = BeautifulSoup(c)\n",
    "\n",
    "\n",
    "       ### INDICADORES DE VALUATION ###\n",
    "\n",
    "    try:    \n",
    "        peg_ratio['PEG RATIO'] = r['data'][13]['ranks'][0]['value_F']\n",
    "    except:\n",
    "        peg_ratio['PEG RATIO'] = np.NaN\n",
    "    try:    \n",
    "        peg_ratio['2022'] = r['data'][13]['ranks'][1]['value_F']\n",
    "    except:\n",
    "        peg_ratio['2022'] = np.NaN\n",
    "    try:    \n",
    "        peg_ratio['2021'] = r['data'][13]['ranks'][2]['value_F']\n",
    "    except:\n",
    "        peg_ratio['2021'] = np.NaN\n",
    "    try:    \n",
    "        peg_ratio['2020'] = r['data'][13]['ranks'][3]['value_F']\n",
    "    except:\n",
    "        peg_ratio['2020'] = np.NaN\n",
    "    try:    \n",
    "        peg_ratio['2019'] = r['data'][13]['ranks'][4]['value_F']\n",
    "    except:\n",
    "        peg_ratio['2019'] = np.NaN\n",
    "    try:    \n",
    "        peg_ratio['2018'] = r['data'][13]['ranks'][5]['value_F']\n",
    "    except:\n",
    "        peg_ratio['2018'] = np.NaN\n",
    "    try:    \n",
    "        peg_ratio['2017'] = r['data'][13]['ranks'][6]['value_F']\n",
    "    except:\n",
    "        peg_ratio['2017'] = np.NaN\n",
    "    try:    \n",
    "        peg_ratio['2016'] = r['data'][13]['ranks'][7]['value_F']\n",
    "    except:\n",
    "        peg_ratio['2016'] = np.NaN    \n",
    "    try:    \n",
    "        peg_ratio['2015'] = r['data'][13]['ranks'][8]['value_F']\n",
    "    except:\n",
    "        peg_ratio['2015'] = np.NaN\n",
    "    try:    \n",
    "        peg_ratio['2014'] = r['data'][13]['ranks'][9]['value_F']\n",
    "    except:\n",
    "        peg_ratio['2014'] = np.NaN\n",
    "    try:    \n",
    "        peg_ratio['2013'] = r['data'][13]['ranks'][10]['value_F']\n",
    "    except:\n",
    "        peg_ratio['2013'] = np.NaN\n",
    "    try:    \n",
    "        peg_ratio['2012'] = r['data'][13]['ranks'][11]['value_F']\n",
    "    except:\n",
    "        peg_ratio['2012'] = np.NaN    \n",
    "    try:    \n",
    "        peg_ratio['2011'] = r['data'][13]['ranks'][12]['value_F']\n",
    "    except:\n",
    "        peg_ratio['2011'] = np.NaN\n",
    "\n",
    "\n",
    "    # Adicionando resultado a lista de cards\n",
    "    peg_ratios.append(peg_ratio)\n",
    "    \n",
    "# Criando um DataFrame com os resultados\n",
    "pegratio = pd.DataFrame(peg_ratios)"
   ],
   "block_group": "2a87270ef3b34903b8ad671a36b09cfa",
   "execution_count": 102,
   "outputs": [
    {
     "name": "stdout",
     "output_type": "stream",
     "text": [
      "0.BBAS3\n"
     ]
    }
   ]
  },
  {
   "cell_type": "markdown",
   "metadata": {
    "formattedRanges": [],
    "cell_id": "bbab138713f24b61b93bdb86c053779c",
    "deepnote_cell_type": "text-cell-h2",
    "ExecuteTime": {
     "start_time": "2023-09-05T20:09:38.855013Z"
    }
   },
   "source": [
    "## Preço atual / Valor Patrimonial por ação (VPA)"
   ],
   "block_group": "bbab138713f24b61b93bdb86c053779c"
  },
  {
   "cell_type": "code",
   "metadata": {
    "source_hash": null,
    "is_code_hidden": false,
    "execution_start": 1693085725131,
    "execution_millis": 87352,
    "is_output_hidden": false,
    "deepnote_to_be_reexecuted": false,
    "deepnote_app_is_code_hidden": true,
    "deepnote_app_is_output_hidden": true,
    "cell_id": "827937d787af41448c2da628cf19b66c",
    "deepnote_cell_type": "code",
    "ExecuteTime": {
     "end_time": "2023-09-15T18:11:46.647384Z",
     "start_time": "2023-09-15T18:11:46.195764Z"
    }
   },
   "source": [
    "# dicionario com todas as ações por linha a serem substituidas\n",
    "index_stocks = []\n",
    "index_tickers = {}\n",
    "for i, v in zip((range(len(tick_list))), tick_list):\n",
    "    index_tickers[i] = v\n",
    "    index_stocks.append(index_tickers)\n",
    "#index_tickers\n",
    "\n",
    "url = 'https://statusinvest.com.br/acoes/busca-avancada'\n",
    "\n",
    "pvps = []\n",
    "\n",
    "url = 'https://statusinvest.com.br/acoes/'\n",
    "\n",
    "for i, v in zip(tick_list, (range(len(tick_list)))):\n",
    "    print(f'{v}.{i}') \n",
    "\n",
    "    headers = {\n",
    "        'authority': 'statusinvest.com.br',\n",
    "        'sec-ch-ua': '\\\"Google Chrome\\\";v=\\\"116\\\", \\\"Chromium\\\";v=\\\"116\\\", \\\";Not A Brand\\\";v=\\\"99\\\"',\n",
    "        'accept': '*/*',\n",
    "        'x-requested-with': 'XMLHttpRequest',\n",
    "        'sec-ch-ua-mobile': '?0',\n",
    "        'user-agent': 'Mozilla/5.0 (Windows NT 10.0; Win64; x64) AppleWebKit/537.36 (KHTML, like Gecko) Chrome/116.0.0.0 Safari/537.36',\n",
    "        'content-type': 'application/x-www-form-urlencoded; charset=UTF-8',\n",
    "        'origin': 'https://statusinvest.com.br',\n",
    "        'sec-fetch-site': 'same-origin',\n",
    "        'sec-fetch-mode': 'cors',\n",
    "        'sec-fetch-dest': 'empty',\n",
    "        'referer': url + str(i),\n",
    "        'accept-language': 'pt-BR,pt;q=0.9,en-US;q=0.8,en;q=0.7',\n",
    "        'cookie': '_adasys=e2299e4d-38b0-48c7-91be-a844fb91e62c; _ga=GA1.3.1768435062.1608297004; G_ENABLED_IDPS=google; __cfduid=d96cf593e372b319fd9ac85a0385fd3971614276176; denakop_freq={}; _gid=GA1.3.490929924.1615153324; __cf_bm=ccb5439cbc002734ed38f28e7c99677ec0b5afff-1615325452-1800-AWbw2mlOXKHt6BZ0dybIWT1O8Z4S9u6Mv7pm7/qkTNvQPFa+jTjP1n06mQmPXqmE938CAjZonuuP2B6noCkuoBpP5ouTIc/MWeUoxtuhdKfJ05v24zpwzU/CpAosevhANA==; _gat_gtag_UA_142136095_1=1',\n",
    "    }   \n",
    "\n",
    "    data = {\n",
    "        'ticker': str(i),\n",
    "        'time': '5'\n",
    "    }\n",
    "\n",
    "    response = requests.post('https://statusinvest.com.br/acao/indicatorhistorical', headers=headers, data=data)\n",
    "\n",
    "    \n",
    "    try:\n",
    "        r = response.json()\n",
    "    except json.JSONDecodeError as e:\n",
    "        print(f\"Error decoding JSON: {e}\")\n",
    "        exit(1)\n",
    "    \n",
    "\n",
    "    # Coletando informações para DataFrame\n",
    "    pvp = {}\n",
    "    \n",
    "    \n",
    "    c = requests.get(url + str(i)).content\n",
    "    soup = BeautifulSoup(c)\n",
    "\n",
    "\n",
    "       ### INDICADORES DE VALUATION ###\n",
    "\n",
    "    try:    \n",
    "        pvp['P/VP'] = r['data'][2]['ranks'][0]['value_F']\n",
    "    except:\n",
    "        pvp['P/VP'] = np.NaN\n",
    "    try:    \n",
    "        pvp['2022'] = r['data'][2]['ranks'][1]['value_F']\n",
    "    except:\n",
    "        pvp['2022'] = np.NaN\n",
    "    try:    \n",
    "        pvp['2021'] = r['data'][2]['ranks'][2]['value_F']\n",
    "    except:\n",
    "        pvp['2021'] = np.NaN\n",
    "    try:    \n",
    "        pvp['2020'] = r['data'][2]['ranks'][3]['value_F']\n",
    "    except:\n",
    "        pvp['2020'] = np.NaN\n",
    "    try:    \n",
    "        pvp['2019'] = r['data'][2]['ranks'][4]['value_F']\n",
    "    except:\n",
    "        pvp['2019'] = np.NaN\n",
    "    try:    \n",
    "        pvp['2018'] = r['data'][2]['ranks'][5]['value_F']\n",
    "    except:\n",
    "        pvp['2018'] = np.NaN\n",
    "    try:    \n",
    "        pvp['2017'] = r['data'][2]['ranks'][6]['value_F']\n",
    "    except:\n",
    "        pvp['2017'] = np.NaN\n",
    "    try:    \n",
    "        pvp['2016'] = r['data'][2]['ranks'][7]['value_F']\n",
    "    except:\n",
    "        pvp['2016'] = np.NaN    \n",
    "    try:    \n",
    "        pvp['2015'] = r['data'][2]['ranks'][8]['value_F']\n",
    "    except:\n",
    "        pvp['2015'] = np.NaN\n",
    "    try:    \n",
    "        pvp['2014'] = r['data'][2]['ranks'][9]['value_F']\n",
    "    except:\n",
    "        pvp['2014'] = np.NaN\n",
    "    try:    \n",
    "        pvp['2013'] = r['data'][2]['ranks'][10]['value_F']\n",
    "    except:\n",
    "        pvp['2013'] = np.NaN\n",
    "    try:    \n",
    "        pvp['2012'] = r['data'][2]['ranks'][11]['value_F']\n",
    "    except:\n",
    "        pvp['2012'] = np.NaN    \n",
    "    try:    \n",
    "        pvp['2011'] = r['data'][2]['ranks'][12]['value_F']\n",
    "    except:\n",
    "        pvp['2011'] = np.NaN\n",
    "\n",
    "    # Adicionando resultado a lista de cards\n",
    "    pvps.append(pvp)\n",
    "\n",
    "# Criando um DataFrame com os resultados\n",
    "p_vp = pd.DataFrame(pvps)\n",
    "p_vp.rename(index = index_tickers, inplace = True)"
   ],
   "block_group": "827937d787af41448c2da628cf19b66c",
   "execution_count": 104,
   "outputs": [
    {
     "name": "stdout",
     "output_type": "stream",
     "text": [
      "0.BBAS3\n"
     ]
    }
   ]
  },
  {
   "cell_type": "markdown",
   "metadata": {
    "formattedRanges": [],
    "cell_id": "c1e2315ef1054ab7b0a718fd39cb93ed",
    "deepnote_cell_type": "text-cell-h2",
    "ExecuteTime": {
     "start_time": "2023-09-05T20:09:38.887407Z"
    }
   },
   "source": [
    "## Valor Firma(EV) / EBITDA [EV/EBITDA]"
   ],
   "block_group": "c1e2315ef1054ab7b0a718fd39cb93ed"
  },
  {
   "cell_type": "code",
   "metadata": {
    "source_hash": null,
    "is_code_hidden": false,
    "execution_start": 1693085812482,
    "execution_millis": 82395,
    "is_output_hidden": true,
    "deepnote_to_be_reexecuted": false,
    "deepnote_app_is_code_hidden": true,
    "deepnote_app_is_output_hidden": true,
    "cell_id": "d20d6695eb9b4d4c9f833a2313d84e16",
    "deepnote_cell_type": "code",
    "ExecuteTime": {
     "end_time": "2023-09-15T18:12:42.403978Z",
     "start_time": "2023-09-15T18:12:41.954243Z"
    }
   },
   "source": [
    "# dicionario com todas as ações por linha a serem substituidas\n",
    "index_stocks = []\n",
    "index_tickers = {}\n",
    "for i, v in zip((range(len(tick_list))), tick_list):\n",
    "    index_tickers[i] = v\n",
    "    index_stocks.append(index_tickers)\n",
    "#index_tickers\n",
    "\n",
    "url = 'https://statusinvest.com.br/acoes/busca-avancada'\n",
    "\n",
    "evebitdas = []\n",
    "\n",
    "url = 'https://statusinvest.com.br/acoes/'\n",
    "\n",
    "for i, v in zip(tick_list, (range(len(tick_list)))):\n",
    "    print(f'{v}.{i}') \n",
    "\n",
    "    headers = {\n",
    "        'authority': 'statusinvest.com.br',\n",
    "        'sec-ch-ua': '\\\"Google Chrome\\\";v=\\\"116\\\", \\\"Chromium\\\";v=\\\"116\\\", \\\";Not A Brand\\\";v=\\\"99\\\"',\n",
    "        'accept': '*/*',\n",
    "        'x-requested-with': 'XMLHttpRequest',\n",
    "        'sec-ch-ua-mobile': '?0',\n",
    "        'user-agent': 'Mozilla/5.0 (Windows NT 10.0; Win64; x64) AppleWebKit/537.36 (KHTML, like Gecko) Chrome/116.0.0.0 Safari/537.36',\n",
    "        'content-type': 'application/x-www-form-urlencoded; charset=UTF-8',\n",
    "        'origin': 'https://statusinvest.com.br',\n",
    "        'sec-fetch-site': 'same-origin',\n",
    "        'sec-fetch-mode': 'cors',\n",
    "        'sec-fetch-dest': 'empty',\n",
    "        'referer': url + str(i),\n",
    "        'accept-language': 'pt-BR,pt;q=0.9,en-US;q=0.8,en;q=0.7',\n",
    "        'cookie': '_adasys=e2299e4d-38b0-48c7-91be-a844fb91e62c; _ga=GA1.3.1768435062.1608297004; G_ENABLED_IDPS=google; __cfduid=d96cf593e372b319fd9ac85a0385fd3971614276176; denakop_freq={}; _gid=GA1.3.490929924.1615153324; __cf_bm=ccb5439cbc002734ed38f28e7c99677ec0b5afff-1615325452-1800-AWbw2mlOXKHt6BZ0dybIWT1O8Z4S9u6Mv7pm7/qkTNvQPFa+jTjP1n06mQmPXqmE938CAjZonuuP2B6noCkuoBpP5ouTIc/MWeUoxtuhdKfJ05v24zpwzU/CpAosevhANA==; _gat_gtag_UA_142136095_1=1',\n",
    "    }   \n",
    "\n",
    "    data = {\n",
    "        'ticker': str(i),\n",
    "        'time': '5'\n",
    "    }\n",
    "\n",
    "    response = requests.post('https://statusinvest.com.br/acao/indicatorhistorical', headers=headers, data=data)\n",
    "\n",
    "    \n",
    "    try:\n",
    "        r = response.json()\n",
    "    except json.JSONDecodeError as e:\n",
    "        print(f\"Error decoding JSON: {e}\")\n",
    "        exit(1)\n",
    "    \n",
    "\n",
    "    # Coletando informações para DataFrame\n",
    "    evebitda = {}\n",
    "    \n",
    "    \n",
    "    c = requests.get(url + str(i)).content\n",
    "    soup = BeautifulSoup(c)\n",
    "\n",
    "\n",
    "       ### INDICADORES DE VALUATION ###\n",
    "\n",
    "    try:    \n",
    "        evebitda['EV/EBITDA'] = r['data'][3]['ranks'][0]['value_F']\n",
    "    except:\n",
    "        evebitda['EV/EBITDA'] = np.NaN\n",
    "    try:    \n",
    "        evebitda['2022'] = r['data'][3]['ranks'][1]['value_F']\n",
    "    except:\n",
    "        evebitda['2022'] = np.NaN\n",
    "    try:    \n",
    "        evebitda['2021'] = r['data'][3]['ranks'][2]['value_F']\n",
    "    except:\n",
    "        evebitda['2021'] = np.NaN\n",
    "    try:    \n",
    "        evebitda['2020'] = r['data'][3]['ranks'][3]['value_F']\n",
    "    except:\n",
    "        evebitda['2020'] = np.NaN\n",
    "    try:    \n",
    "        evebitda['2019'] = r['data'][3]['ranks'][4]['value_F']\n",
    "    except:\n",
    "        evebitda['2019'] = np.NaN\n",
    "    try:    \n",
    "        evebitda['2018'] = r['data'][3]['ranks'][5]['value_F']\n",
    "    except:\n",
    "        evebitda['2018'] = np.NaN\n",
    "    try:    \n",
    "        evebitda['2017'] = r['data'][3]['ranks'][6]['value_F']\n",
    "    except:\n",
    "        evebitda['2017'] = np.NaN\n",
    "    try:    \n",
    "        evebitda['2016'] = r['data'][3]['ranks'][7]['value_F']\n",
    "    except:\n",
    "        evebitda['2016'] = np.NaN    \n",
    "    try:    \n",
    "        evebitda['2015'] = r['data'][3]['ranks'][8]['value_F']\n",
    "    except:\n",
    "        evebitda['2015'] = np.NaN\n",
    "    try:    \n",
    "        evebitda['2014'] = r['data'][3]['ranks'][9]['value_F']\n",
    "    except:\n",
    "        evebitda['2014'] = np.NaN\n",
    "    try:    \n",
    "        evebitda['2013'] = r['data'][3]['ranks'][10]['value_F']\n",
    "    except:\n",
    "        evebitda['2013'] = np.NaN\n",
    "    try:    \n",
    "        evebitda['2012'] = r['data'][3]['ranks'][11]['value_F']\n",
    "    except:\n",
    "        evebitda['2012'] = np.NaN    \n",
    "    try:    \n",
    "        evebitda['2011'] = r['data'][3]['ranks'][12]['value_F']\n",
    "    except:\n",
    "        evebitda['2011'] = np.NaN\n",
    "\n",
    "    # Adicionando resultado a lista de cards\n",
    "    evebitdas.append(evebitda)\n",
    "\n",
    "# Criando um DataFrame com os resultados\n",
    "ev_ebitda = pd.DataFrame(evebitdas)\n",
    "ev_ebitda.rename(index = index_tickers, inplace = True)"
   ],
   "block_group": "d20d6695eb9b4d4c9f833a2313d84e16",
   "execution_count": 106,
   "outputs": [
    {
     "name": "stdout",
     "output_type": "stream",
     "text": [
      "0.BBAS3\n"
     ]
    }
   ]
  },
  {
   "cell_type": "markdown",
   "metadata": {
    "formattedRanges": [],
    "cell_id": "1401a04f92694a6f94d0713121392d03",
    "deepnote_cell_type": "text-cell-h2",
    "ExecuteTime": {
     "start_time": "2023-09-05T20:09:38.905165Z"
    }
   },
   "source": [
    "## Valor Firma(EV) / EBIT [EV/EBIT]"
   ],
   "block_group": "1401a04f92694a6f94d0713121392d03"
  },
  {
   "cell_type": "code",
   "metadata": {
    "source_hash": null,
    "is_code_hidden": false,
    "execution_start": 1693085894739,
    "execution_millis": 83518,
    "is_output_hidden": false,
    "deepnote_to_be_reexecuted": false,
    "deepnote_app_is_code_hidden": true,
    "deepnote_app_is_output_hidden": true,
    "cell_id": "399fe18ebd9e455eaf6a7622995ec4f0",
    "deepnote_cell_type": "code",
    "ExecuteTime": {
     "end_time": "2023-09-15T18:13:23.935080Z",
     "start_time": "2023-09-15T18:13:23.475148Z"
    }
   },
   "source": [
    "# dicionario com todas as ações por linha a serem substituidas\n",
    "index_stocks = []\n",
    "index_tickers = {}\n",
    "for i, v in zip((range(len(tick_list))), tick_list):\n",
    "    index_tickers[i] = v\n",
    "    index_stocks.append(index_tickers)\n",
    "#index_tickers\n",
    "\n",
    "url = 'https://statusinvest.com.br/acoes/busca-avancada'\n",
    "\n",
    "evebits = []\n",
    "\n",
    "url = 'https://statusinvest.com.br/acoes/'\n",
    "\n",
    "for i, v in zip(tick_list, (range(len(tick_list)))):\n",
    "    print(f'{v}.{i}') \n",
    "\n",
    "    headers = {\n",
    "        'authority': 'statusinvest.com.br',\n",
    "        'sec-ch-ua': '\\\"Google Chrome\\\";v=\\\"116\\\", \\\"Chromium\\\";v=\\\"116\\\", \\\";Not A Brand\\\";v=\\\"99\\\"',\n",
    "        'accept': '*/*',\n",
    "        'x-requested-with': 'XMLHttpRequest',\n",
    "        'sec-ch-ua-mobile': '?0',\n",
    "        'user-agent': 'Mozilla/5.0 (Windows NT 10.0; Win64; x64) AppleWebKit/537.36 (KHTML, like Gecko) Chrome/116.0.0.0 Safari/537.36',\n",
    "        'content-type': 'application/x-www-form-urlencoded; charset=UTF-8',\n",
    "        'origin': 'https://statusinvest.com.br',\n",
    "        'sec-fetch-site': 'same-origin',\n",
    "        'sec-fetch-mode': 'cors',\n",
    "        'sec-fetch-dest': 'empty',\n",
    "        'referer': url + str(i),\n",
    "        'accept-language': 'pt-BR,pt;q=0.9,en-US;q=0.8,en;q=0.7',\n",
    "        'cookie': '_adasys=e2299e4d-38b0-48c7-91be-a844fb91e62c; _ga=GA1.3.1768435062.1608297004; G_ENABLED_IDPS=google; __cfduid=d96cf593e372b319fd9ac85a0385fd3971614276176; denakop_freq={}; _gid=GA1.3.490929924.1615153324; __cf_bm=ccb5439cbc002734ed38f28e7c99677ec0b5afff-1615325452-1800-AWbw2mlOXKHt6BZ0dybIWT1O8Z4S9u6Mv7pm7/qkTNvQPFa+jTjP1n06mQmPXqmE938CAjZonuuP2B6noCkuoBpP5ouTIc/MWeUoxtuhdKfJ05v24zpwzU/CpAosevhANA==; _gat_gtag_UA_142136095_1=1',\n",
    "    }   \n",
    "\n",
    "    data = {\n",
    "        'ticker': str(i),\n",
    "        'time': '5'\n",
    "    }\n",
    "\n",
    "    response = requests.post('https://statusinvest.com.br/acao/indicatorhistorical', headers=headers, data=data)\n",
    "\n",
    "    \n",
    "    try:\n",
    "        r = response.json()\n",
    "    except json.JSONDecodeError as e:\n",
    "        print(f\"Error decoding JSON: {e}\")\n",
    "        exit(1)\n",
    "    \n",
    "\n",
    "    # Coletando informações para DataFrame\n",
    "    evebit = {}\n",
    "    \n",
    "    \n",
    "    c = requests.get(url + str(i)).content\n",
    "    soup = BeautifulSoup(c)\n",
    "\n",
    "\n",
    "       ### INDICADORES DE VALUATION ###\n",
    "\n",
    "    try:    \n",
    "        evebit['EV/EBIT'] = r['data'][10]['ranks'][0]['value_F']\n",
    "    except:\n",
    "        evebit['EV/EBIT'] = np.NaN\n",
    "    try:    \n",
    "        evebit['2022'] = r['data'][10]['ranks'][1]['value_F']\n",
    "    except:\n",
    "        evebit['2022'] = np.NaN\n",
    "    try:    \n",
    "        evebit['2021'] = r['data'][10]['ranks'][2]['value_F']\n",
    "    except:\n",
    "        evebit['2021'] = np.NaN\n",
    "    try:    \n",
    "        evebit['2020'] = r['data'][10]['ranks'][3]['value_F']\n",
    "    except:\n",
    "        evebit['2020'] = np.NaN\n",
    "    try:    \n",
    "        evebit['2019'] = r['data'][10]['ranks'][4]['value_F']\n",
    "    except:\n",
    "        evebit['2019'] = np.NaN\n",
    "    try:    \n",
    "        evebit['2018'] = r['data'][10]['ranks'][5]['value_F']\n",
    "    except:\n",
    "        evebit['2018'] = np.NaN\n",
    "    try:    \n",
    "        evebit['2017'] = r['data'][10]['ranks'][6]['value_F']\n",
    "    except:\n",
    "        evebit['2017'] = np.NaN\n",
    "    try:    \n",
    "        evebit['2016'] = r['data'][10]['ranks'][7]['value_F']\n",
    "    except:\n",
    "        evebit['2016'] = np.NaN    \n",
    "    try:    \n",
    "        evebit['2015'] = r['data'][10]['ranks'][8]['value_F']\n",
    "    except:\n",
    "        evebit['2015'] = np.NaN\n",
    "    try:    \n",
    "        evebit['2014'] = r['data'][10]['ranks'][9]['value_F']\n",
    "    except:\n",
    "        evebit['2014'] = np.NaN\n",
    "    try:    \n",
    "        evebit['2013'] = r['data'][10]['ranks'][10]['value_F']\n",
    "    except:\n",
    "        evebit['2013'] = np.NaN\n",
    "    try:    \n",
    "        evebit['2012'] = r['data'][10]['ranks'][11]['value_F']\n",
    "    except:\n",
    "        evebit['2012'] = np.NaN    \n",
    "    try:    \n",
    "        evebit['2011'] = r['data'][10]['ranks'][12]['value_F']\n",
    "    except:\n",
    "        evebit['2011'] = np.NaN\n",
    "\n",
    "    # Adicionando resultado a lista de cards\n",
    "    evebits.append(evebit)\n",
    "\n",
    "# Criando um DataFrame com os resultados\n",
    "ev_ebit = pd.DataFrame(evebits)\n",
    "ev_ebit.rename(index = index_tickers, inplace = True)\n",
    "ev_ebit"
   ],
   "block_group": "399fe18ebd9e455eaf6a7622995ec4f0",
   "execution_count": 107,
   "outputs": [
    {
     "name": "stdout",
     "output_type": "stream",
     "text": [
      "0.BBAS3\n"
     ]
    },
    {
     "data": {
      "text/plain": "      EV/EBIT  2022  2021  2020   2019  2018  2017  2016  2015  2014  2013  \\\nBBAS3    3,18  2,60  3,45  9,60  13,59  6,53  5,72  7,39  4,17  4,36  5,44   \n\n       2012  2011  \nBBAS3  4,89  3,79  ",
      "text/html": "<div>\n<style scoped>\n    .dataframe tbody tr th:only-of-type {\n        vertical-align: middle;\n    }\n\n    .dataframe tbody tr th {\n        vertical-align: top;\n    }\n\n    .dataframe thead th {\n        text-align: right;\n    }\n</style>\n<table border=\"1\" class=\"dataframe\">\n  <thead>\n    <tr style=\"text-align: right;\">\n      <th></th>\n      <th>EV/EBIT</th>\n      <th>2022</th>\n      <th>2021</th>\n      <th>2020</th>\n      <th>2019</th>\n      <th>2018</th>\n      <th>2017</th>\n      <th>2016</th>\n      <th>2015</th>\n      <th>2014</th>\n      <th>2013</th>\n      <th>2012</th>\n      <th>2011</th>\n    </tr>\n  </thead>\n  <tbody>\n    <tr>\n      <th>BBAS3</th>\n      <td>3,18</td>\n      <td>2,60</td>\n      <td>3,45</td>\n      <td>9,60</td>\n      <td>13,59</td>\n      <td>6,53</td>\n      <td>5,72</td>\n      <td>7,39</td>\n      <td>4,17</td>\n      <td>4,36</td>\n      <td>5,44</td>\n      <td>4,89</td>\n      <td>3,79</td>\n    </tr>\n  </tbody>\n</table>\n</div>"
     },
     "execution_count": 107,
     "metadata": {},
     "output_type": "execute_result"
    }
   ]
  },
  {
   "cell_type": "markdown",
   "metadata": {
    "formattedRanges": [],
    "cell_id": "a93b02802c3d4886a7ae4428f2f0004d",
    "deepnote_cell_type": "text-cell-h2",
    "ExecuteTime": {
     "start_time": "2023-09-05T20:09:38.921928Z"
    }
   },
   "source": [
    "## Preço / EBITDA"
   ],
   "block_group": "a93b02802c3d4886a7ae4428f2f0004d"
  },
  {
   "cell_type": "code",
   "metadata": {
    "source_hash": null,
    "is_code_hidden": false,
    "execution_start": 1693085978143,
    "execution_millis": 82846,
    "is_output_hidden": false,
    "deepnote_to_be_reexecuted": false,
    "deepnote_app_is_code_hidden": true,
    "deepnote_app_is_output_hidden": true,
    "cell_id": "f058b78507684b47af783ce8b2089d15",
    "deepnote_cell_type": "code",
    "ExecuteTime": {
     "end_time": "2023-09-15T18:14:40.621087Z",
     "start_time": "2023-09-15T18:14:40.194187Z"
    }
   },
   "source": [
    "# dicionario com todas as ações por linha a serem substituidas\n",
    "index_stocks = []\n",
    "index_tickers = {}\n",
    "for i, v in zip((range(len(tick_list))), tick_list):\n",
    "    index_tickers[i] = v\n",
    "    index_stocks.append(index_tickers)\n",
    "#index_tickers\n",
    "\n",
    "url = 'https://statusinvest.com.br/acoes/busca-avancada'\n",
    "\n",
    "pebitdas = []\n",
    "\n",
    "url = 'https://statusinvest.com.br/acoes/'\n",
    "\n",
    "for i, v in zip(tick_list, (range(len(tick_list)))):\n",
    "    print(f'{v}.{i}') \n",
    "\n",
    "    headers = {\n",
    "        'authority': 'statusinvest.com.br',\n",
    "        'sec-ch-ua': '\\\"Google Chrome\\\";v=\\\"116\\\", \\\"Chromium\\\";v=\\\"116\\\", \\\";Not A Brand\\\";v=\\\"99\\\"',\n",
    "        'accept': '*/*',\n",
    "        'x-requested-with': 'XMLHttpRequest',\n",
    "        'sec-ch-ua-mobile': '?0',\n",
    "        'user-agent': 'Mozilla/5.0 (Windows NT 10.0; Win64; x64) AppleWebKit/537.36 (KHTML, like Gecko) Chrome/116.0.0.0 Safari/537.36',\n",
    "        'content-type': 'application/x-www-form-urlencoded; charset=UTF-8',\n",
    "        'origin': 'https://statusinvest.com.br',\n",
    "        'sec-fetch-site': 'same-origin',\n",
    "        'sec-fetch-mode': 'cors',\n",
    "        'sec-fetch-dest': 'empty',\n",
    "        'referer': url + str(i),\n",
    "        'accept-language': 'pt-BR,pt;q=0.9,en-US;q=0.8,en;q=0.7',\n",
    "        'cookie': '_adasys=e2299e4d-38b0-48c7-91be-a844fb91e62c; _ga=GA1.3.1768435062.1608297004; G_ENABLED_IDPS=google; __cfduid=d96cf593e372b319fd9ac85a0385fd3971614276176; denakop_freq={}; _gid=GA1.3.490929924.1615153324; __cf_bm=ccb5439cbc002734ed38f28e7c99677ec0b5afff-1615325452-1800-AWbw2mlOXKHt6BZ0dybIWT1O8Z4S9u6Mv7pm7/qkTNvQPFa+jTjP1n06mQmPXqmE938CAjZonuuP2B6noCkuoBpP5ouTIc/MWeUoxtuhdKfJ05v24zpwzU/CpAosevhANA==; _gat_gtag_UA_142136095_1=1',\n",
    "    }   \n",
    "\n",
    "    data = {\n",
    "        'ticker': str(i),\n",
    "        'time': '5'\n",
    "    }\n",
    "\n",
    "    response = requests.post('https://statusinvest.com.br/acao/indicatorhistorical', headers=headers, data=data)\n",
    "\n",
    "    \n",
    "    try:\n",
    "        r = response.json()\n",
    "    except json.JSONDecodeError as e:\n",
    "        print(f\"Error decoding JSON: {e}\")\n",
    "        exit(1)\n",
    "    \n",
    "\n",
    "    # Coletando informações para DataFrame\n",
    "    pebitda = {}\n",
    "    \n",
    "    \n",
    "    c = requests.get(url + str(i)).content\n",
    "    soup = BeautifulSoup(c)\n",
    "\n",
    "\n",
    "       ### INDICADORES DE VALUATION ###\n",
    "\n",
    "    try:    \n",
    "        pebitda['P/EBITDA'] = r['data'][9]['ranks'][0]['value_F']\n",
    "    except:\n",
    "        pebitda['P/EBITDA'] = np.NaN\n",
    "    try:    \n",
    "        pebitda['2022'] = r['data'][9]['ranks'][1]['value_F']\n",
    "    except:\n",
    "        pebitda['2022'] = np.NaN\n",
    "    try:    \n",
    "        pebitda['2021'] = r['data'][9]['ranks'][2]['value_F']\n",
    "    except:\n",
    "        pebitda['2021'] = np.NaN\n",
    "    try:    \n",
    "        pebitda['2020'] = r['data'][9]['ranks'][3]['value_F']\n",
    "    except:\n",
    "        pebitda['2020'] = np.NaN\n",
    "    try:    \n",
    "        pebitda['2019'] = r['data'][9]['ranks'][4]['value_F']\n",
    "    except:\n",
    "        pebitda['2019'] = np.NaN\n",
    "    try:    \n",
    "        pebitda['2018'] = r['data'][9]['ranks'][5]['value_F']\n",
    "    except:\n",
    "        pebitda['2018'] = np.NaN\n",
    "    try:    \n",
    "        pebitda['2017'] = r['data'][9]['ranks'][6]['value_F']\n",
    "    except:\n",
    "        pebitda['2017'] = np.NaN\n",
    "    try:    \n",
    "        pebitda['2016'] = r['data'][9]['ranks'][7]['value_F']\n",
    "    except:\n",
    "        pebitda['2016'] = np.NaN    \n",
    "    try:    \n",
    "        pebitda['2015'] = r['data'][9]['ranks'][8]['value_F']\n",
    "    except:\n",
    "        pebitda['2015'] = np.NaN\n",
    "    try:    \n",
    "        pebitda['2014'] = r['data'][9]['ranks'][9]['value_F']\n",
    "    except:\n",
    "        pebitda['2014'] = np.NaN\n",
    "    try:    \n",
    "        pebitda['2013'] = r['data'][9]['ranks'][10]['value_F']\n",
    "    except:\n",
    "        pebitda['2013'] = np.NaN\n",
    "    try:    \n",
    "        pebitda['2012'] = r['data'][9]['ranks'][11]['value_F']\n",
    "    except:\n",
    "        pebitda['2012'] = np.NaN    \n",
    "    try:    \n",
    "        pebitda['2011'] = r['data'][9]['ranks'][12]['value_F']\n",
    "    except:\n",
    "        pebitda['2011'] = np.NaN\n",
    "\n",
    "    # Adicionando resultado a lista de cards\n",
    "    pebitdas.append(pebitda)\n",
    "    \n",
    "# Criando um DataFrame com os resultados\n",
    "p_ebitda = pd.DataFrame(pebitdas)\n",
    "p_ebitda.rename(index = index_tickers, inplace = True)"
   ],
   "block_group": "f058b78507684b47af783ce8b2089d15",
   "execution_count": 109,
   "outputs": [
    {
     "name": "stdout",
     "output_type": "stream",
     "text": [
      "0.BBAS3\n"
     ]
    }
   ]
  },
  {
   "cell_type": "markdown",
   "metadata": {
    "formattedRanges": [],
    "cell_id": "543ebb0d833a486baefad00629b16cb4",
    "deepnote_cell_type": "text-cell-h2",
    "ExecuteTime": {
     "start_time": "2023-09-05T20:09:38.961067Z"
    }
   },
   "source": [
    "## Preço / EBIT"
   ],
   "block_group": "543ebb0d833a486baefad00629b16cb4"
  },
  {
   "cell_type": "code",
   "metadata": {
    "source_hash": null,
    "is_code_hidden": false,
    "execution_start": 1693086060805,
    "execution_millis": 78016,
    "is_output_hidden": false,
    "deepnote_to_be_reexecuted": false,
    "deepnote_app_is_code_hidden": true,
    "deepnote_app_is_output_hidden": true,
    "cell_id": "45f0dee693cb43449bd2666539f8a550",
    "deepnote_cell_type": "code",
    "ExecuteTime": {
     "end_time": "2023-09-15T18:15:38.397327Z",
     "start_time": "2023-09-15T18:15:37.957058Z"
    }
   },
   "source": [
    "# dicionario com todas as ações por linha a serem substituidas\n",
    "index_stocks = []\n",
    "index_tickers = {}\n",
    "for i, v in zip((range(len(tick_list))), tick_list):\n",
    "    index_tickers[i] = v\n",
    "    index_stocks.append(index_tickers)\n",
    "#index_tickers\n",
    "\n",
    "url = 'https://statusinvest.com.br/acoes/busca-avancada'\n",
    "\n",
    "pebits = []\n",
    "\n",
    "url = 'https://statusinvest.com.br/acoes/'\n",
    "\n",
    "for i, v in zip(tick_list, (range(len(tick_list)))):\n",
    "    print(f'{v}.{i}') \n",
    "\n",
    "    headers = {\n",
    "        'authority': 'statusinvest.com.br',\n",
    "        'sec-ch-ua': '\\\"Google Chrome\\\";v=\\\"116\\\", \\\"Chromium\\\";v=\\\"116\\\", \\\";Not A Brand\\\";v=\\\"99\\\"',\n",
    "        'accept': '*/*',\n",
    "        'x-requested-with': 'XMLHttpRequest',\n",
    "        'sec-ch-ua-mobile': '?0',\n",
    "        'user-agent': 'Mozilla/5.0 (Windows NT 10.0; Win64; x64) AppleWebKit/537.36 (KHTML, like Gecko) Chrome/116.0.0.0 Safari/537.36',\n",
    "        'content-type': 'application/x-www-form-urlencoded; charset=UTF-8',\n",
    "        'origin': 'https://statusinvest.com.br',\n",
    "        'sec-fetch-site': 'same-origin',\n",
    "        'sec-fetch-mode': 'cors',\n",
    "        'sec-fetch-dest': 'empty',\n",
    "        'referer': url + str(i),\n",
    "        'accept-language': 'pt-BR,pt;q=0.9,en-US;q=0.8,en;q=0.7',\n",
    "        'cookie': '_adasys=e2299e4d-38b0-48c7-91be-a844fb91e62c; _ga=GA1.3.1768435062.1608297004; G_ENABLED_IDPS=google; __cfduid=d96cf593e372b319fd9ac85a0385fd3971614276176; denakop_freq={}; _gid=GA1.3.490929924.1615153324; __cf_bm=ccb5439cbc002734ed38f28e7c99677ec0b5afff-1615325452-1800-AWbw2mlOXKHt6BZ0dybIWT1O8Z4S9u6Mv7pm7/qkTNvQPFa+jTjP1n06mQmPXqmE938CAjZonuuP2B6noCkuoBpP5ouTIc/MWeUoxtuhdKfJ05v24zpwzU/CpAosevhANA==; _gat_gtag_UA_142136095_1=1',\n",
    "    }   \n",
    "\n",
    "    data = {\n",
    "        'ticker': str(i),\n",
    "        'time': '5'\n",
    "    }\n",
    "\n",
    "    response = requests.post('https://statusinvest.com.br/acao/indicatorhistorical', headers=headers, data=data)\n",
    "\n",
    "    \n",
    "    try:\n",
    "        r = response.json()\n",
    "    except json.JSONDecodeError as e:\n",
    "        print(f\"Error decoding JSON: {e}\")\n",
    "        exit(1)\n",
    "    \n",
    "\n",
    "    # Coletando informações para DataFrame\n",
    "    pebit = {}\n",
    "    \n",
    "    \n",
    "    c = requests.get(url + str(i)).content\n",
    "    soup = BeautifulSoup(c)\n",
    "\n",
    "\n",
    "       ### INDICADORES DE VALUATION ###\n",
    "\n",
    "    try:    \n",
    "        pebit['P/EBIT'] = r['data'][4]['ranks'][0]['value_F']\n",
    "    except:\n",
    "        pebit['P/EBIT'] = np.NaN\n",
    "    try:    \n",
    "        pebit['2022'] = r['data'][4]['ranks'][1]['value_F']\n",
    "    except:\n",
    "        pebit['2022'] = np.NaN\n",
    "    try:    \n",
    "        pebit['2021'] = r['data'][4]['ranks'][2]['value_F']\n",
    "    except:\n",
    "        pebit['2021'] = np.NaN\n",
    "    try:    \n",
    "        pebit['2020'] = r['data'][4]['ranks'][3]['value_F']\n",
    "    except:\n",
    "        pebit['2020'] = np.NaN\n",
    "    try:    \n",
    "        pebit['2019'] = r['data'][4]['ranks'][4]['value_F']\n",
    "    except:\n",
    "        pebit['2019'] = np.NaN\n",
    "    try:    \n",
    "        pebit['2018'] = r['data'][4]['ranks'][5]['value_F']\n",
    "    except:\n",
    "        pebit['2018'] = np.NaN\n",
    "    try:    \n",
    "        pebit['2017'] = r['data'][4]['ranks'][6]['value_F']\n",
    "    except:\n",
    "        pebit['2017'] = np.NaN\n",
    "    try:    \n",
    "        pebit['2016'] = r['data'][4]['ranks'][7]['value_F']\n",
    "    except:\n",
    "        pebit['2016'] = np.NaN    \n",
    "    try:    \n",
    "        pebit['2015'] = r['data'][4]['ranks'][8]['value_F']\n",
    "    except:\n",
    "        pebit['2015'] = np.NaN\n",
    "    try:    \n",
    "        pebit['2014'] = r['data'][4]['ranks'][9]['value_F']\n",
    "    except:\n",
    "        pebit['2014'] = np.NaN\n",
    "    try:    \n",
    "        pebit['2013'] = r['data'][4]['ranks'][10]['value_F']\n",
    "    except:\n",
    "        pebit['2013'] = np.NaN\n",
    "    try:    \n",
    "        pebit['2012'] = r['data'][4]['ranks'][11]['value_F']\n",
    "    except:\n",
    "        pebit['2012'] = np.NaN    \n",
    "    try:    \n",
    "        pebit['2011'] = r['data'][4]['ranks'][12]['value_F']\n",
    "    except:\n",
    "        pebit['2011'] = np.NaN\n",
    "\n",
    "    # Adicionando resultado a lista de cards\n",
    "    pebits.append(pebit)\n",
    "\n",
    "# Criando um DataFrame com os resultados\n",
    "p_ebit = pd.DataFrame(pebits)\n",
    "p_ebit.rename(index = index_tickers, inplace = True)"
   ],
   "block_group": "45f0dee693cb43449bd2666539f8a550",
   "execution_count": 111,
   "outputs": [
    {
     "name": "stdout",
     "output_type": "stream",
     "text": [
      "0.BBAS3\n"
     ]
    }
   ]
  },
  {
   "cell_type": "markdown",
   "metadata": {
    "formattedRanges": [],
    "cell_id": "7d176c4477c74000a27fc02a815249a1",
    "deepnote_cell_type": "text-cell-h2",
    "ExecuteTime": {
     "start_time": "2023-09-05T20:09:38.986809Z"
    }
   },
   "source": [
    "## PL / Nº AÇÕES - VPA"
   ],
   "block_group": "7d176c4477c74000a27fc02a815249a1"
  },
  {
   "cell_type": "code",
   "metadata": {
    "source_hash": null,
    "is_code_hidden": false,
    "execution_start": 1693086138565,
    "execution_millis": 82785,
    "is_output_hidden": false,
    "deepnote_to_be_reexecuted": false,
    "deepnote_app_is_code_hidden": true,
    "deepnote_app_is_output_hidden": true,
    "cell_id": "41df51a454f34fbf8e0d000583bee9fa",
    "deepnote_cell_type": "code",
    "ExecuteTime": {
     "end_time": "2023-09-15T18:16:43.032301Z",
     "start_time": "2023-09-15T18:16:42.422457Z"
    }
   },
   "source": [
    "# dicionario com todas as ações por linha a serem substituidas\n",
    "index_stocks = []\n",
    "index_tickers = {}\n",
    "for i, v in zip((range(len(tick_list))), tick_list):\n",
    "    index_tickers[i] = v\n",
    "    index_stocks.append(index_tickers)\n",
    "#index_tickers\n",
    "\n",
    "url = 'https://statusinvest.com.br/acoes/busca-avancada'\n",
    "\n",
    "vpas = []\n",
    "\n",
    "url = 'https://statusinvest.com.br/acoes/'\n",
    "\n",
    "for i, v in zip(tick_list, (range(len(tick_list)))):\n",
    "    print(f'{v}.{i}') \n",
    "\n",
    "    headers = {\n",
    "        'authority': 'statusinvest.com.br',\n",
    "        'sec-ch-ua': '\\\"Google Chrome\\\";v=\\\"116\\\", \\\"Chromium\\\";v=\\\"116\\\", \\\";Not A Brand\\\";v=\\\"99\\\"',\n",
    "        'accept': '*/*',\n",
    "        'x-requested-with': 'XMLHttpRequest',\n",
    "        'sec-ch-ua-mobile': '?0',\n",
    "        'user-agent': 'Mozilla/5.0 (Windows NT 10.0; Win64; x64) AppleWebKit/537.36 (KHTML, like Gecko) Chrome/116.0.0.0 Safari/537.36',\n",
    "        'content-type': 'application/x-www-form-urlencoded; charset=UTF-8',\n",
    "        'origin': 'https://statusinvest.com.br',\n",
    "        'sec-fetch-site': 'same-origin',\n",
    "        'sec-fetch-mode': 'cors',\n",
    "        'sec-fetch-dest': 'empty',\n",
    "        'referer': url + str(i),\n",
    "        'accept-language': 'pt-BR,pt;q=0.9,en-US;q=0.8,en;q=0.7',\n",
    "        'cookie': '_adasys=e2299e4d-38b0-48c7-91be-a844fb91e62c; _ga=GA1.3.1768435062.1608297004; G_ENABLED_IDPS=google; __cfduid=d96cf593e372b319fd9ac85a0385fd3971614276176; denakop_freq={}; _gid=GA1.3.490929924.1615153324; __cf_bm=ccb5439cbc002734ed38f28e7c99677ec0b5afff-1615325452-1800-AWbw2mlOXKHt6BZ0dybIWT1O8Z4S9u6Mv7pm7/qkTNvQPFa+jTjP1n06mQmPXqmE938CAjZonuuP2B6noCkuoBpP5ouTIc/MWeUoxtuhdKfJ05v24zpwzU/CpAosevhANA==; _gat_gtag_UA_142136095_1=1',\n",
    "    }   \n",
    "\n",
    "    data = {\n",
    "        'ticker': str(i),\n",
    "        'time': '5'\n",
    "    }\n",
    "\n",
    "    response = requests.post('https://statusinvest.com.br/acao/indicatorhistorical', headers=headers, data=data)\n",
    "\n",
    "    \n",
    "    try:\n",
    "        r = response.json()\n",
    "    except json.JSONDecodeError as e:\n",
    "        print(f\"Error decoding JSON: {e}\")\n",
    "        exit(1)\n",
    "    \n",
    "\n",
    "    # Coletando informações para DataFrame\n",
    "    vpa = {}\n",
    "    \n",
    "    \n",
    "    c = requests.get(url + str(i)).content\n",
    "    soup = BeautifulSoup(c)\n",
    "\n",
    "\n",
    "       ### INDICADORES DE VALUATION ###\n",
    "\n",
    "    try:    \n",
    "        vpa['VPA'] = r['data'][12]['ranks'][0]['value_F']\n",
    "    except:\n",
    "        vpa['VPA'] = np.NaN\n",
    "    try:    \n",
    "        vpa['2022'] = r['data'][12]['ranks'][1]['value_F']\n",
    "    except:\n",
    "        vpa['2022'] = np.NaN\n",
    "    try:    \n",
    "        vpa['2021'] = r['data'][12]['ranks'][2]['value_F']\n",
    "    except:\n",
    "        vpa['2021'] = np.NaN\n",
    "    try:    \n",
    "        vpa['2020'] = r['data'][12]['ranks'][3]['value_F']\n",
    "    except:\n",
    "        vpa['2020'] = np.NaN\n",
    "    try:    \n",
    "        vpa['2019'] = r['data'][12]['ranks'][4]['value_F']\n",
    "    except:\n",
    "        vpa['2019'] = np.NaN\n",
    "    try:    \n",
    "        vpa['2018'] = r['data'][12]['ranks'][5]['value_F']\n",
    "    except:\n",
    "        vpa['2018'] = np.NaN\n",
    "    try:    \n",
    "        vpa['2017'] = r['data'][12]['ranks'][6]['value_F']\n",
    "    except:\n",
    "        vpa['2017'] = np.NaN\n",
    "    try:    \n",
    "        vpa['2016'] = r['data'][12]['ranks'][7]['value_F']\n",
    "    except:\n",
    "        vpa['2016'] = np.NaN    \n",
    "    try:    \n",
    "        vpa['2015'] = r['data'][12]['ranks'][8]['value_F']\n",
    "    except:\n",
    "        vpa['2015'] = np.NaN\n",
    "    try:    \n",
    "        vpa['2014'] = r['data'][12]['ranks'][9]['value_F']\n",
    "    except:\n",
    "        vpa['2014'] = np.NaN\n",
    "    try:    \n",
    "        vpa['2013'] = r['data'][12]['ranks'][10]['value_F']\n",
    "    except:\n",
    "        vpa['2013'] = np.NaN\n",
    "    try:    \n",
    "        vpa['2012'] = r['data'][12]['ranks'][11]['value_F']\n",
    "    except:\n",
    "        vpa['2012'] = np.NaN    \n",
    "    try:    \n",
    "        vpa['2011'] = r['data'][12]['ranks'][12]['value_F']\n",
    "    except:\n",
    "        vpa['2011'] = np.NaN\n",
    "\n",
    "    # Adicionando resultado a lista de cards\n",
    "    vpas.append(vpa)\n",
    "\n",
    "# Criando um DataFrame com os resultados\n",
    "vpatrimonial = pd.DataFrame(vpas)\n",
    "vpatrimonial.rename(index = index_tickers, inplace = True)"
   ],
   "block_group": "41df51a454f34fbf8e0d000583bee9fa",
   "execution_count": 113,
   "outputs": [
    {
     "name": "stdout",
     "output_type": "stream",
     "text": [
      "0.BBAS3\n"
     ]
    }
   ]
  },
  {
   "cell_type": "markdown",
   "metadata": {
    "formattedRanges": [],
    "cell_id": "65fc7056be814e44a7116631646f53c2",
    "deepnote_cell_type": "text-cell-h2",
    "ExecuteTime": {
     "start_time": "2023-09-05T20:09:39.018205Z"
    }
   },
   "source": [
    "## PREÇO / ATIVO - P/ATIVO"
   ],
   "block_group": "65fc7056be814e44a7116631646f53c2"
  },
  {
   "cell_type": "code",
   "metadata": {
    "source_hash": null,
    "is_code_hidden": false,
    "execution_start": 1693086221320,
    "execution_millis": 84940,
    "is_output_hidden": false,
    "deepnote_to_be_reexecuted": false,
    "deepnote_app_is_code_hidden": true,
    "deepnote_app_is_output_hidden": true,
    "cell_id": "1726f840d8194e64bee985cc1f62dd05",
    "deepnote_cell_type": "code",
    "ExecuteTime": {
     "end_time": "2023-09-15T18:18:04.962592Z",
     "start_time": "2023-09-15T18:18:04.373937Z"
    }
   },
   "source": [
    "# dicionario com todas as ações por linha a serem substituidas\n",
    "index_stocks = []\n",
    "index_tickers = {}\n",
    "for i, v in zip((range(len(tick_list))), tick_list):\n",
    "    index_tickers[i] = v\n",
    "    index_stocks.append(index_tickers)\n",
    "#index_tickers\n",
    "\n",
    "url = 'https://statusinvest.com.br/acoes/busca-avancada'\n",
    "\n",
    "pativos = []\n",
    "\n",
    "url = 'https://statusinvest.com.br/acoes/'\n",
    "\n",
    "for i, v in zip(tick_list, (range(len(tick_list)))):\n",
    "    print(f'{v}.{i}') \n",
    "\n",
    "    headers = {\n",
    "        'authority': 'statusinvest.com.br',\n",
    "        'sec-ch-ua': '\\\"Google Chrome\\\";v=\\\"116\\\", \\\"Chromium\\\";v=\\\"116\\\", \\\";Not A Brand\\\";v=\\\"99\\\"',\n",
    "        'accept': '*/*',\n",
    "        'x-requested-with': 'XMLHttpRequest',\n",
    "        'sec-ch-ua-mobile': '?0',\n",
    "        'user-agent': 'Mozilla/5.0 (Windows NT 10.0; Win64; x64) AppleWebKit/537.36 (KHTML, like Gecko) Chrome/116.0.0.0 Safari/537.36',\n",
    "        'content-type': 'application/x-www-form-urlencoded; charset=UTF-8',\n",
    "        'origin': 'https://statusinvest.com.br',\n",
    "        'sec-fetch-site': 'same-origin',\n",
    "        'sec-fetch-mode': 'cors',\n",
    "        'sec-fetch-dest': 'empty',\n",
    "        'referer': url + str(i),\n",
    "        'accept-language': 'pt-BR,pt;q=0.9,en-US;q=0.8,en;q=0.7',\n",
    "        'cookie': '_adasys=e2299e4d-38b0-48c7-91be-a844fb91e62c; _ga=GA1.3.1768435062.1608297004; G_ENABLED_IDPS=google; __cfduid=d96cf593e372b319fd9ac85a0385fd3971614276176; denakop_freq={}; _gid=GA1.3.490929924.1615153324; __cf_bm=ccb5439cbc002734ed38f28e7c99677ec0b5afff-1615325452-1800-AWbw2mlOXKHt6BZ0dybIWT1O8Z4S9u6Mv7pm7/qkTNvQPFa+jTjP1n06mQmPXqmE938CAjZonuuP2B6noCkuoBpP5ouTIc/MWeUoxtuhdKfJ05v24zpwzU/CpAosevhANA==; _gat_gtag_UA_142136095_1=1',\n",
    "    }   \n",
    "\n",
    "    data = {\n",
    "        'ticker': str(i),\n",
    "        'time': '5'\n",
    "    }\n",
    "\n",
    "    response = requests.post('https://statusinvest.com.br/acao/indicatorhistorical', headers=headers, data=data)\n",
    "\n",
    "    \n",
    "    try:\n",
    "        r = response.json()\n",
    "    except json.JSONDecodeError as e:\n",
    "        print(f\"Error decoding JSON: {e}\")\n",
    "        exit(1)\n",
    "    \n",
    "\n",
    "    # Coletando informações para DataFrame\n",
    "    pativo = {}\n",
    "    \n",
    "    \n",
    "    c = requests.get(url + str(i)).content\n",
    "    soup = BeautifulSoup(c)\n",
    "\n",
    "\n",
    "       ### INDICADORES DE VALUATION ###\n",
    "\n",
    "    try:    \n",
    "        pativo['P/ATIVO'] = r['data'][6]['ranks'][0]['value_F']\n",
    "    except:\n",
    "        pativo['P/ATIVO'] = np.NaN\n",
    "    try:    \n",
    "        pativo['2022'] = r['data'][6]['ranks'][1]['value_F']\n",
    "    except:\n",
    "        pativo['2022'] = np.NaN\n",
    "    try:    \n",
    "        pativo['2021'] = r['data'][6]['ranks'][2]['value_F']\n",
    "    except:\n",
    "        pativo['2021'] = np.NaN\n",
    "    try:    \n",
    "        pativo['2020'] = r['data'][6]['ranks'][3]['value_F']\n",
    "    except:\n",
    "        pativo['2020'] = np.NaN\n",
    "    try:    \n",
    "        pativo['2019'] = r['data'][6]['ranks'][4]['value_F']\n",
    "    except:\n",
    "        pativo['2019'] = np.NaN\n",
    "    try:    \n",
    "        pativo['2018'] = r['data'][6]['ranks'][5]['value_F']\n",
    "    except:\n",
    "        pativo['2018'] = np.NaN\n",
    "    try:    \n",
    "        pativo['2017'] = r['data'][6]['ranks'][6]['value_F']\n",
    "    except:\n",
    "        pativo['2017'] = np.NaN\n",
    "    try:    \n",
    "        pativo['2016'] = r['data'][6]['ranks'][7]['value_F']\n",
    "    except:\n",
    "        pativo['2016'] = np.NaN    \n",
    "    try:    \n",
    "        pativo['2015'] = r['data'][6]['ranks'][8]['value_F']\n",
    "    except:\n",
    "        pativo['2015'] = np.NaN\n",
    "    try:    \n",
    "        pativo['2014'] = r['data'][6]['ranks'][9]['value_F']\n",
    "    except:\n",
    "        pativo['2014'] = np.NaN\n",
    "    try:    \n",
    "        pativo['2013'] = r['data'][6]['ranks'][10]['value_F']\n",
    "    except:\n",
    "        pativo['2013'] = np.NaN\n",
    "    try:    \n",
    "        pativo['2012'] = r['data'][6]['ranks'][11]['value_F']\n",
    "    except:\n",
    "        pativo['2012'] = np.NaN    \n",
    "    try:    \n",
    "        pativo['2011'] = r['data'][6]['ranks'][12]['value_F']\n",
    "    except:\n",
    "        pativo['2011'] = np.NaN\n",
    "\n",
    "    # Adicionando resultado a lista de cards\n",
    "    pativos.append(pativo)\n",
    "\n",
    "# Criando um DataFrame com os resultados\n",
    "p_ativo = pd.DataFrame(pativos)\n",
    "p_ativo.rename(index = index_tickers, inplace = True)"
   ],
   "block_group": "1726f840d8194e64bee985cc1f62dd05",
   "execution_count": 115,
   "outputs": [
    {
     "name": "stdout",
     "output_type": "stream",
     "text": [
      "0.BBAS3\n"
     ]
    }
   ]
  },
  {
   "cell_type": "markdown",
   "metadata": {
    "formattedRanges": [],
    "cell_id": "ab28509d02af408ca2fe60ac33466a59",
    "deepnote_cell_type": "text-cell-h2",
    "ExecuteTime": {
     "start_time": "2023-09-05T20:09:39.041563Z"
    }
   },
   "source": [
    "## LUCRO LÍQUIDO / Nº AÇÕES - LPA"
   ],
   "block_group": "ab28509d02af408ca2fe60ac33466a59"
  },
  {
   "cell_type": "code",
   "metadata": {
    "source_hash": null,
    "is_code_hidden": false,
    "execution_start": 1693086306066,
    "execution_millis": 84709,
    "is_output_hidden": false,
    "deepnote_to_be_reexecuted": false,
    "deepnote_app_is_code_hidden": true,
    "deepnote_app_is_output_hidden": true,
    "cell_id": "9599cf7a7de24e8ab8aa4fe32b9c729e",
    "deepnote_cell_type": "code",
    "ExecuteTime": {
     "end_time": "2023-09-15T18:19:00.389045Z",
     "start_time": "2023-09-15T18:18:59.993281Z"
    }
   },
   "source": [
    "# dicionario com todas as ações por linha a serem substituidas\n",
    "index_stocks = []\n",
    "index_tickers = {}\n",
    "for i, v in zip((range(len(tick_list))), tick_list):\n",
    "    index_tickers[i] = v\n",
    "    index_stocks.append(index_tickers)\n",
    "#index_tickers\n",
    "\n",
    "url = 'https://statusinvest.com.br/acoes/busca-avancada'\n",
    "\n",
    "lpas = []\n",
    "\n",
    "url = 'https://statusinvest.com.br/acoes/'\n",
    "\n",
    "for i, v in zip(tick_list, (range(len(tick_list)))):\n",
    "    print(f'{v}.{i}') \n",
    "\n",
    "    headers = {\n",
    "        'authority': 'statusinvest.com.br',\n",
    "        'sec-ch-ua': '\\\"Google Chrome\\\";v=\\\"116\\\", \\\"Chromium\\\";v=\\\"116\\\", \\\";Not A Brand\\\";v=\\\"99\\\"',\n",
    "        'accept': '*/*',\n",
    "        'x-requested-with': 'XMLHttpRequest',\n",
    "        'sec-ch-ua-mobile': '?0',\n",
    "        'user-agent': 'Mozilla/5.0 (Windows NT 10.0; Win64; x64) AppleWebKit/537.36 (KHTML, like Gecko) Chrome/116.0.0.0 Safari/537.36',\n",
    "        'content-type': 'application/x-www-form-urlencoded; charset=UTF-8',\n",
    "        'origin': 'https://statusinvest.com.br',\n",
    "        'sec-fetch-site': 'same-origin',\n",
    "        'sec-fetch-mode': 'cors',\n",
    "        'sec-fetch-dest': 'empty',\n",
    "        'referer': url + str(i),\n",
    "        'accept-language': 'pt-BR,pt;q=0.9,en-US;q=0.8,en;q=0.7',\n",
    "        'cookie': '_adasys=e2299e4d-38b0-48c7-91be-a844fb91e62c; _ga=GA1.3.1768435062.1608297004; G_ENABLED_IDPS=google; __cfduid=d96cf593e372b319fd9ac85a0385fd3971614276176; denakop_freq={}; _gid=GA1.3.490929924.1615153324; __cf_bm=ccb5439cbc002734ed38f28e7c99677ec0b5afff-1615325452-1800-AWbw2mlOXKHt6BZ0dybIWT1O8Z4S9u6Mv7pm7/qkTNvQPFa+jTjP1n06mQmPXqmE938CAjZonuuP2B6noCkuoBpP5ouTIc/MWeUoxtuhdKfJ05v24zpwzU/CpAosevhANA==; _gat_gtag_UA_142136095_1=1',\n",
    "    }   \n",
    "\n",
    "    data = {\n",
    "        'ticker': str(i),\n",
    "        'time': '5'\n",
    "    }\n",
    "\n",
    "    response = requests.post('https://statusinvest.com.br/acao/indicatorhistorical', headers=headers, data=data)\n",
    "\n",
    "    \n",
    "    try:\n",
    "        r = response.json()\n",
    "    except json.JSONDecodeError as e:\n",
    "        print(f\"Error decoding JSON: {e}\")\n",
    "        exit(1)\n",
    "    \n",
    "\n",
    "    # Coletando informações para DataFrame\n",
    "    lpa = {}\n",
    "    \n",
    "    \n",
    "    c = requests.get(url + str(i)).content\n",
    "    soup = BeautifulSoup(c)\n",
    "\n",
    "\n",
    "       ### INDICADORES DE VALUATION ###\n",
    "\n",
    "    try:    \n",
    "        lpa['LPA'] = r['data'][11]['ranks'][0]['value_F']\n",
    "    except:\n",
    "        lpa['LPA'] = np.NaN\n",
    "    try:    \n",
    "        lpa['2022'] = r['data'][11]['ranks'][1]['value_F']\n",
    "    except:\n",
    "        lpa['2022'] = np.NaN\n",
    "    try:    \n",
    "        lpa['2021'] = r['data'][11]['ranks'][2]['value_F']\n",
    "    except:\n",
    "        lpa['2021'] = np.NaN\n",
    "    try:    \n",
    "        lpa['2020'] = r['data'][11]['ranks'][3]['value_F']\n",
    "    except:\n",
    "        lpa['2020'] = np.NaN\n",
    "    try:    \n",
    "        lpa['2019'] = r['data'][11]['ranks'][4]['value_F']\n",
    "    except:\n",
    "        lpa['2019'] = np.NaN\n",
    "    try:    \n",
    "        lpa['2018'] = r['data'][11]['ranks'][5]['value_F']\n",
    "    except:\n",
    "        lpa['2018'] = np.NaN\n",
    "    try:    \n",
    "        lpa['2017'] = r['data'][11]['ranks'][6]['value_F']\n",
    "    except:\n",
    "        lpa['2017'] = np.NaN\n",
    "    try:    \n",
    "        lpa['2016'] = r['data'][11]['ranks'][7]['value_F']\n",
    "    except:\n",
    "        lpa['2016'] = np.NaN    \n",
    "    try:    \n",
    "        lpa['2015'] = r['data'][11]['ranks'][8]['value_F']\n",
    "    except:\n",
    "        lpa['2015'] = np.NaN\n",
    "    try:    \n",
    "        lpa['2014'] = r['data'][11]['ranks'][9]['value_F']\n",
    "    except:\n",
    "        lpa['2014'] = np.NaN\n",
    "    try:    \n",
    "        lpa['2013'] = r['data'][11]['ranks'][10]['value_F']\n",
    "    except:\n",
    "        lpa['2013'] = np.NaN\n",
    "    try:    \n",
    "        lpa['2012'] = r['data'][11]['ranks'][11]['value_F']\n",
    "    except:\n",
    "        lpa['2012'] = np.NaN    \n",
    "    try:    \n",
    "        lpa['2011'] = r['data'][11]['ranks'][12]['value_F']\n",
    "    except:\n",
    "        lpa['2011'] = np.NaN\n",
    "\n",
    "    # Adicionando resultado a lista de cards\n",
    "    lpas.append(lpa)\n",
    "\n",
    "# Criando um DataFrame com os resultados\n",
    "lucropa = pd.DataFrame(lpas)\n",
    "lucropa.rename(index = index_tickers, inplace = True)"
   ],
   "block_group": "9599cf7a7de24e8ab8aa4fe32b9c729e",
   "execution_count": 117,
   "outputs": [
    {
     "name": "stdout",
     "output_type": "stream",
     "text": [
      "0.BBAS3\n"
     ]
    }
   ]
  },
  {
   "cell_type": "markdown",
   "metadata": {
    "formattedRanges": [],
    "cell_id": "ccd6eda56a8a4f649489988f5d1bb6d2",
    "deepnote_cell_type": "text-cell-h2",
    "ExecuteTime": {
     "start_time": "2023-09-05T20:09:39.111297Z"
    }
   },
   "source": [
    "## PREÇO / RECEITA LIQ. POR AÇÃO - P/SR"
   ],
   "block_group": "ccd6eda56a8a4f649489988f5d1bb6d2"
  },
  {
   "cell_type": "code",
   "metadata": {
    "source_hash": null,
    "is_code_hidden": false,
    "execution_start": 1693086390739,
    "execution_millis": 83924,
    "is_output_hidden": false,
    "deepnote_to_be_reexecuted": false,
    "deepnote_app_is_code_hidden": true,
    "deepnote_app_is_output_hidden": true,
    "cell_id": "7ff61414a3944d8aaed8def50a4fa17a",
    "deepnote_cell_type": "code",
    "ExecuteTime": {
     "end_time": "2023-09-15T18:19:44.534486Z",
     "start_time": "2023-09-15T18:19:44.109117Z"
    }
   },
   "source": [
    "# dicionario com todas as ações por linha a serem substituidas\n",
    "index_stocks = []\n",
    "index_tickers = {}\n",
    "\n",
    "for i, v in zip((range(len(tick_list))), tick_list):\n",
    "    index_tickers[i] = v\n",
    "    index_stocks.append(index_tickers)\n",
    "#index_tickers\n",
    "\n",
    "url = 'https://statusinvest.com.br/acoes/busca-avancada'\n",
    "\n",
    "psrs = []\n",
    "\n",
    "url = 'https://statusinvest.com.br/acoes/'\n",
    "\n",
    "for i, v in zip(tick_list, (range(len(tick_list)))):\n",
    "    print(f'{v}.{i}') \n",
    "\n",
    "    headers = {\n",
    "        'authority': 'statusinvest.com.br',\n",
    "        'sec-ch-ua': '\\\"Google Chrome\\\";v=\\\"116\\\", \\\"Chromium\\\";v=\\\"116\\\", \\\";Not A Brand\\\";v=\\\"99\\\"',\n",
    "        'accept': '*/*',\n",
    "        'x-requested-with': 'XMLHttpRequest',\n",
    "        'sec-ch-ua-mobile': '?0',\n",
    "        'user-agent': 'Mozilla/5.0 (Windows NT 10.0; Win64; x64) AppleWebKit/537.36 (KHTML, like Gecko) Chrome/116.0.0.0 Safari/537.36',\n",
    "        'content-type': 'application/x-www-form-urlencoded; charset=UTF-8',\n",
    "        'origin': 'https://statusinvest.com.br',\n",
    "        'sec-fetch-site': 'same-origin',\n",
    "        'sec-fetch-mode': 'cors',\n",
    "        'sec-fetch-dest': 'empty',\n",
    "        'referer': url + str(i),\n",
    "        'accept-language': 'pt-BR,pt;q=0.9,en-US;q=0.8,en;q=0.7',\n",
    "        'cookie': '_adasys=e2299e4d-38b0-48c7-91be-a844fb91e62c; _ga=GA1.3.1768435062.1608297004; G_ENABLED_IDPS=google; __cfduid=d96cf593e372b319fd9ac85a0385fd3971614276176; denakop_freq={}; _gid=GA1.3.490929924.1615153324; __cf_bm=ccb5439cbc002734ed38f28e7c99677ec0b5afff-1615325452-1800-AWbw2mlOXKHt6BZ0dybIWT1O8Z4S9u6Mv7pm7/qkTNvQPFa+jTjP1n06mQmPXqmE938CAjZonuuP2B6noCkuoBpP5ouTIc/MWeUoxtuhdKfJ05v24zpwzU/CpAosevhANA==; _gat_gtag_UA_142136095_1=1',\n",
    "    }   \n",
    "\n",
    "    data = {\n",
    "        'ticker': str(i),\n",
    "        'time': '5'\n",
    "    }\n",
    "\n",
    "    response = requests.post('https://statusinvest.com.br/acao/indicatorhistorical', headers=headers, data=data)\n",
    "\n",
    "    \n",
    "    try:\n",
    "        r = response.json()\n",
    "    except json.JSONDecodeError as e:\n",
    "        print(f\"Error decoding JSON: {e}\")\n",
    "        exit(1)\n",
    "    \n",
    "\n",
    "    # Coletando informações para DataFrame\n",
    "    psr = {}\n",
    "    \n",
    "    \n",
    "    c = requests.get(url + str(i)).content\n",
    "    soup = BeautifulSoup(c)\n",
    "\n",
    "\n",
    "       ### INDICADORES DE VALUATION ###\n",
    "\n",
    "    try:    \n",
    "        psr['P/SR'] = r['data'][5]['ranks'][0]['value_F']\n",
    "    except:\n",
    "        psr['P/SR'] = np.NaN\n",
    "    try:    \n",
    "        psr['2022'] = r['data'][5]['ranks'][1]['value_F']\n",
    "    except:\n",
    "        psr['2022'] = np.NaN\n",
    "    try:    \n",
    "        psr['2021'] = r['data'][5]['ranks'][2]['value_F']\n",
    "    except:\n",
    "        psr['2021'] = np.NaN\n",
    "    try:    \n",
    "        psr['2020'] = r['data'][5]['ranks'][3]['value_F']\n",
    "    except:\n",
    "        psr['2020'] = np.NaN\n",
    "    try:    \n",
    "        psr['2019'] = r['data'][5]['ranks'][4]['value_F']\n",
    "    except:\n",
    "        psr['2019'] = np.NaN\n",
    "    try:    \n",
    "        psr['2018'] = r['data'][5]['ranks'][5]['value_F']\n",
    "    except:\n",
    "        psr['2018'] = np.NaN\n",
    "    try:    \n",
    "        psr['2017'] = r['data'][5]['ranks'][6]['value_F']\n",
    "    except:\n",
    "        psr['2017'] = np.NaN\n",
    "    try:    \n",
    "        psr['2016'] = r['data'][5]['ranks'][7]['value_F']\n",
    "    except:\n",
    "        psr['2016'] = np.NaN    \n",
    "    try:    \n",
    "        psr['2015'] = r['data'][5]['ranks'][8]['value_F']\n",
    "    except:\n",
    "        psr['2015'] = np.NaN\n",
    "    try:    \n",
    "        psr['2014'] = r['data'][5]['ranks'][9]['value_F']\n",
    "    except:\n",
    "        psr['2014'] = np.NaN\n",
    "    try:    \n",
    "        psr['2013'] = r['data'][5]['ranks'][10]['value_F']\n",
    "    except:\n",
    "        psr['2013'] = np.NaN\n",
    "    try:    \n",
    "        psr['2012'] = r['data'][5]['ranks'][11]['value_F']\n",
    "    except:\n",
    "        psr['2012'] = np.NaN    \n",
    "    try:    \n",
    "        psr['2011'] = r['data'][5]['ranks'][12]['value_F']\n",
    "    except:\n",
    "        psr['2011'] = np.NaN\n",
    "\n",
    "\n",
    "    # Adicionando resultado a lista de cards\n",
    "    psrs.append(psr)\n",
    "\n",
    "# Criando um DataFrame com os resultados\n",
    "p_sr = pd.DataFrame(psrs)\n",
    "p_sr.rename(index = index_tickers, inplace = True)"
   ],
   "block_group": "7ff61414a3944d8aaed8def50a4fa17a",
   "execution_count": 119,
   "outputs": [
    {
     "name": "stdout",
     "output_type": "stream",
     "text": [
      "0.BBAS3\n"
     ]
    }
   ]
  },
  {
   "cell_type": "markdown",
   "metadata": {
    "formattedRanges": [],
    "cell_id": "9dfe88599f6b4ab38b236b43cd1c0b18",
    "deepnote_cell_type": "text-cell-h2",
    "ExecuteTime": {
     "start_time": "2023-09-05T20:09:39.194491Z"
    }
   },
   "source": [
    "## PREÇO /(AC - PC) - P/CAP GIRO"
   ],
   "block_group": "9dfe88599f6b4ab38b236b43cd1c0b18"
  },
  {
   "cell_type": "code",
   "metadata": {
    "source_hash": null,
    "is_code_hidden": false,
    "execution_start": 1693086474664,
    "execution_millis": 85313,
    "is_output_hidden": false,
    "deepnote_to_be_reexecuted": false,
    "deepnote_app_is_code_hidden": true,
    "deepnote_app_is_output_hidden": true,
    "cell_id": "120ed0c50664488b9446a3a61a2b0b7a",
    "deepnote_cell_type": "code",
    "ExecuteTime": {
     "end_time": "2023-09-15T18:20:38.823210Z",
     "start_time": "2023-09-15T18:20:38.366158Z"
    }
   },
   "source": [
    "# dicionario com todas as ações por linha a serem substituidas\n",
    "index_stocks = []\n",
    "index_tickers = {}\n",
    "for i, v in zip((range(len(tick_list))), tick_list):\n",
    "    index_tickers[i] = v\n",
    "    index_stocks.append(index_tickers)\n",
    "#index_tickers\n",
    "\n",
    "url = 'https://statusinvest.com.br/acoes/busca-avancada'\n",
    "\n",
    "pcapgiros = []\n",
    "\n",
    "url = 'https://statusinvest.com.br/acoes/'\n",
    "\n",
    "for i, v in zip(tick_list, (range(len(tick_list)))):\n",
    "    print(f'{v}.{i}') \n",
    "\n",
    "    headers = {\n",
    "        'authority': 'statusinvest.com.br',\n",
    "        'sec-ch-ua': '\\\"Google Chrome\\\";v=\\\"116\\\", \\\"Chromium\\\";v=\\\"116\\\", \\\";Not A Brand\\\";v=\\\"99\\\"',\n",
    "        'accept': '*/*',\n",
    "        'x-requested-with': 'XMLHttpRequest',\n",
    "        'sec-ch-ua-mobile': '?0',\n",
    "        'user-agent': 'Mozilla/5.0 (Windows NT 10.0; Win64; x64) AppleWebKit/537.36 (KHTML, like Gecko) Chrome/116.0.0.0 Safari/537.36',\n",
    "        'content-type': 'application/x-www-form-urlencoded; charset=UTF-8',\n",
    "        'origin': 'https://statusinvest.com.br',\n",
    "        'sec-fetch-site': 'same-origin',\n",
    "        'sec-fetch-mode': 'cors',\n",
    "        'sec-fetch-dest': 'empty',\n",
    "        'referer': url + str(i),\n",
    "        'accept-language': 'pt-BR,pt;q=0.9,en-US;q=0.8,en;q=0.7',\n",
    "        'cookie': '_adasys=e2299e4d-38b0-48c7-91be-a844fb91e62c; _ga=GA1.3.1768435062.1608297004; G_ENABLED_IDPS=google; __cfduid=d96cf593e372b319fd9ac85a0385fd3971614276176; denakop_freq={}; _gid=GA1.3.490929924.1615153324; __cf_bm=ccb5439cbc002734ed38f28e7c99677ec0b5afff-1615325452-1800-AWbw2mlOXKHt6BZ0dybIWT1O8Z4S9u6Mv7pm7/qkTNvQPFa+jTjP1n06mQmPXqmE938CAjZonuuP2B6noCkuoBpP5ouTIc/MWeUoxtuhdKfJ05v24zpwzU/CpAosevhANA==; _gat_gtag_UA_142136095_1=1',\n",
    "    }   \n",
    "\n",
    "    data = {\n",
    "        'ticker': str(i),\n",
    "        'time': '5'\n",
    "    }\n",
    "\n",
    "    response = requests.post('https://statusinvest.com.br/acao/indicatorhistorical', headers=headers, data=data)\n",
    "\n",
    "    \n",
    "    try:\n",
    "        r = response.json()\n",
    "    except json.JSONDecodeError as e:\n",
    "        print(f\"Error decoding JSON: {e}\")\n",
    "        exit(1)\n",
    "    \n",
    "\n",
    "    # Coletando informações para DataFrame\n",
    "    pcapgiro = {}\n",
    "    \n",
    "    \n",
    "    c = requests.get(url + str(i)).content\n",
    "    soup = BeautifulSoup(c)\n",
    "\n",
    "\n",
    "       ### INDICADORES DE VALUATION ###\n",
    "\n",
    "    try:    \n",
    "        pcapgiro['P/CAP GIRO'] = r['data'][7]['ranks'][0]['value_F']\n",
    "    except:\n",
    "        pcapgiro['P/CAP GIRO'] = np.NaN\n",
    "    try:    \n",
    "        pcapgiro['2022'] = r['data'][7]['ranks'][1]['value_F']\n",
    "    except:\n",
    "        pcapgiro['2022'] = np.NaN\n",
    "    try:    \n",
    "        pcapgiro['2021'] = r['data'][7]['ranks'][2]['value_F']\n",
    "    except:\n",
    "        pcapgiro['2021'] = np.NaN\n",
    "    try:    \n",
    "        pcapgiro['2020'] = r['data'][7]['ranks'][3]['value_F']\n",
    "    except:\n",
    "        pcapgiro['2020'] = np.NaN\n",
    "    try:    \n",
    "        pcapgiro['2019'] = r['data'][7]['ranks'][4]['value_F']\n",
    "    except:\n",
    "        pcapgiro['2019'] = np.NaN\n",
    "    try:    \n",
    "        pcapgiro['2018'] = r['data'][7]['ranks'][5]['value_F']\n",
    "    except:\n",
    "        pcapgiro['2018'] = np.NaN\n",
    "    try:    \n",
    "        pcapgiro['2017'] = r['data'][7]['ranks'][6]['value_F']\n",
    "    except:\n",
    "        pcapgiro['2017'] = np.NaN\n",
    "    try:    \n",
    "        pcapgiro['2016'] = r['data'][7]['ranks'][7]['value_F']\n",
    "    except:\n",
    "        pcapgiro['2016'] = np.NaN    \n",
    "    try:    \n",
    "        pcapgiro['2015'] = r['data'][7]['ranks'][8]['value_F']\n",
    "    except:\n",
    "        pcapgiro['2015'] = np.NaN\n",
    "    try:    \n",
    "        pcapgiro['2014'] = r['data'][7]['ranks'][9]['value_F']\n",
    "    except:\n",
    "        pcapgiro['2014'] = np.NaN\n",
    "    try:    \n",
    "        pcapgiro['2013'] = r['data'][7]['ranks'][10]['value_F']\n",
    "    except:\n",
    "        pcapgiro['2013'] = np.NaN\n",
    "    try:    \n",
    "        pcapgiro['2012'] = r['data'][7]['ranks'][11]['value_F']\n",
    "    except:\n",
    "        pcapgiro['2012'] = np.NaN    \n",
    "    try:    \n",
    "        pcapgiro['2011'] = r['data'][7]['ranks'][12]['value_F']\n",
    "    except:\n",
    "        pcapgiro['2011'] = np.NaN\n",
    "\n",
    "\n",
    "\n",
    "\n",
    "    # Adicionando resultado a lista de cards\n",
    "    pcapgiros.append(pcapgiro)\n",
    "\n",
    "# Criando um DataFrame com os resultados\n",
    "p_capgiro = pd.DataFrame(pcapgiros)\n",
    "p_capgiro.rename(index = index_tickers, inplace = True)"
   ],
   "block_group": "120ed0c50664488b9446a3a61a2b0b7a",
   "execution_count": 121,
   "outputs": [
    {
     "name": "stdout",
     "output_type": "stream",
     "text": [
      "0.BBAS3\n"
     ]
    }
   ]
  },
  {
   "cell_type": "markdown",
   "metadata": {
    "formattedRanges": [],
    "cell_id": "aa84eab8bac84a35b210870b51ac65f5",
    "deepnote_cell_type": "text-cell-h2",
    "ExecuteTime": {
     "start_time": "2023-09-05T20:09:39.223503Z"
    }
   },
   "source": [
    "## PREÇO / ATIVO CIRCULANTE LIQ"
   ],
   "block_group": "aa84eab8bac84a35b210870b51ac65f5"
  },
  {
   "cell_type": "code",
   "metadata": {
    "source_hash": null,
    "is_code_hidden": false,
    "execution_start": 1693086559996,
    "execution_millis": 85051,
    "is_output_hidden": false,
    "deepnote_to_be_reexecuted": false,
    "deepnote_app_is_code_hidden": true,
    "deepnote_app_is_output_hidden": true,
    "cell_id": "5017d596299d4f09a1f3a9408397c110",
    "deepnote_cell_type": "code",
    "ExecuteTime": {
     "end_time": "2023-09-15T18:21:40.663140Z",
     "start_time": "2023-09-15T18:21:40.130302Z"
    }
   },
   "source": [
    "# dicionario com todas as ações por linha a serem substituidas\n",
    "index_stocks = []\n",
    "index_tickers = {}\n",
    "for i, v in zip((range(len(tick_list))), tick_list):\n",
    "    index_tickers[i] = v\n",
    "    index_stocks.append(index_tickers)\n",
    "#index_tickers\n",
    "\n",
    "url = 'https://statusinvest.com.br/acoes/busca-avancada'\n",
    "\n",
    "pativocircliqs = []\n",
    "\n",
    "url = 'https://statusinvest.com.br/acoes/'\n",
    "\n",
    "for i, v in zip(tick_list, (range(len(tick_list)))):\n",
    "    print(f'{v}.{i}') \n",
    "\n",
    "    headers = {\n",
    "        'authority': 'statusinvest.com.br',\n",
    "        'sec-ch-ua': '\\\"Google Chrome\\\";v=\\\"116\\\", \\\"Chromium\\\";v=\\\"116\\\", \\\";Not A Brand\\\";v=\\\"99\\\"',\n",
    "        'accept': '*/*',\n",
    "        'x-requested-with': 'XMLHttpRequest',\n",
    "        'sec-ch-ua-mobile': '?0',\n",
    "        'user-agent': 'Mozilla/5.0 (Windows NT 10.0; Win64; x64) AppleWebKit/537.36 (KHTML, like Gecko) Chrome/116.0.0.0 Safari/537.36',\n",
    "        'content-type': 'application/x-www-form-urlencoded; charset=UTF-8',\n",
    "        'origin': 'https://statusinvest.com.br',\n",
    "        'sec-fetch-site': 'same-origin',\n",
    "        'sec-fetch-mode': 'cors',\n",
    "        'sec-fetch-dest': 'empty',\n",
    "        'referer': url + str(i),\n",
    "        'accept-language': 'pt-BR,pt;q=0.9,en-US;q=0.8,en;q=0.7',\n",
    "        'cookie': '_adasys=e2299e4d-38b0-48c7-91be-a844fb91e62c; _ga=GA1.3.1768435062.1608297004; G_ENABLED_IDPS=google; __cfduid=d96cf593e372b319fd9ac85a0385fd3971614276176; denakop_freq={}; _gid=GA1.3.490929924.1615153324; __cf_bm=ccb5439cbc002734ed38f28e7c99677ec0b5afff-1615325452-1800-AWbw2mlOXKHt6BZ0dybIWT1O8Z4S9u6Mv7pm7/qkTNvQPFa+jTjP1n06mQmPXqmE938CAjZonuuP2B6noCkuoBpP5ouTIc/MWeUoxtuhdKfJ05v24zpwzU/CpAosevhANA==; _gat_gtag_UA_142136095_1=1',\n",
    "    }   \n",
    "\n",
    "    data = {\n",
    "        'ticker': str(i),\n",
    "        'time': '5'\n",
    "    }\n",
    "\n",
    "    response = requests.post('https://statusinvest.com.br/acao/indicatorhistorical', headers=headers, data=data)\n",
    "\n",
    "    \n",
    "    try:\n",
    "        r = response.json()\n",
    "    except json.JSONDecodeError as e:\n",
    "        print(f\"Error decoding JSON: {e}\")\n",
    "        exit(1)\n",
    "    \n",
    "\n",
    "    # Coletando informações para DataFrame\n",
    "    pativocircliq = {}\n",
    "    \n",
    "    \n",
    "    c = requests.get(url + str(i)).content\n",
    "    soup = BeautifulSoup(c)\n",
    "\n",
    "\n",
    "       ### INDICADORES DE VALUATION ###\n",
    "\n",
    "    try:    \n",
    "        pativocircliq['P/ATIVO CIRC.LIQ'] = r['data'][8]['ranks'][0]['value_F']\n",
    "    except:\n",
    "        pativocircliq['P/ATIVO CIRC.LIQ'] = np.NaN\n",
    "    try:    \n",
    "        pativocircliq['2022'] = r['data'][8]['ranks'][1]['value_F']\n",
    "    except:\n",
    "        pativocircliq['2022'] = np.NaN\n",
    "    try:    \n",
    "        pativocircliq['2021'] = r['data'][8]['ranks'][2]['value_F']\n",
    "    except:\n",
    "        pativocircliq['2021'] = np.NaN\n",
    "    try:    \n",
    "        pativocircliq['2020'] = r['data'][8]['ranks'][3]['value_F']\n",
    "    except:\n",
    "        pativocircliq['2020'] = np.NaN\n",
    "    try:    \n",
    "        pativocircliq['2019'] = r['data'][8]['ranks'][4]['value_F']\n",
    "    except:\n",
    "        pativocircliq['2019'] = np.NaN\n",
    "    try:    \n",
    "        pativocircliq['2018'] = r['data'][8]['ranks'][5]['value_F']\n",
    "    except:\n",
    "        pativocircliq['2018'] = np.NaN\n",
    "    try:    \n",
    "        pativocircliq['2017'] = r['data'][8]['ranks'][6]['value_F']\n",
    "    except:\n",
    "        pativocircliq['2017'] = np.NaN\n",
    "    try:    \n",
    "        pativocircliq['2016'] = r['data'][8]['ranks'][7]['value_F']\n",
    "    except:\n",
    "        pativocircliq['2016'] = np.NaN    \n",
    "    try:    \n",
    "        pativocircliq['2015'] = r['data'][8]['ranks'][8]['value_F']\n",
    "    except:\n",
    "        pativocircliq['2015'] = np.NaN\n",
    "    try:    \n",
    "        pativocircliq['2014'] = r['data'][8]['ranks'][9]['value_F']\n",
    "    except:\n",
    "        pativocircliq['2014'] = np.NaN\n",
    "    try:    \n",
    "        pativocircliq['2013'] = r['data'][8]['ranks'][10]['value_F']\n",
    "    except:\n",
    "        pativocircliq['2013'] = np.NaN\n",
    "    try:    \n",
    "        pativocircliq['2012'] = r['data'][8]['ranks'][11]['value_F']\n",
    "    except:\n",
    "        pativocircliq['2012'] = np.NaN    \n",
    "    try:    \n",
    "        pativocircliq['2011'] = r['data'][8]['ranks'][12]['value_F']\n",
    "    except:\n",
    "        pativocircliq['2011'] = np.NaN\n",
    "\n",
    "\n",
    "    # Adicionando resultado a lista de cards\n",
    "    pativocircliqs.append(pativocircliq)\n",
    "\n",
    "# Criando um DataFrame com os resultados\n",
    "p_ativocircliq = pd.DataFrame(pativocircliqs)\n",
    "p_ativocircliq.rename(index = index_tickers, inplace = True)"
   ],
   "block_group": "5017d596299d4f09a1f3a9408397c110",
   "execution_count": 123,
   "outputs": [
    {
     "name": "stdout",
     "output_type": "stream",
     "text": [
      "0.BBAS3\n"
     ]
    }
   ]
  },
  {
   "cell_type": "markdown",
   "metadata": {
    "formattedRanges": [],
    "cell_id": "95caf3fd65754a84b00d9de51c4c932f",
    "deepnote_cell_type": "text-cell-h2",
    "ExecuteTime": {
     "start_time": "2023-09-05T20:09:39.271494Z"
    }
   },
   "source": [
    "## DÍVIDA LÍQUIDA / PL"
   ],
   "block_group": "95caf3fd65754a84b00d9de51c4c932f"
  },
  {
   "cell_type": "code",
   "metadata": {
    "source_hash": null,
    "is_code_hidden": false,
    "execution_start": 1693086645106,
    "execution_millis": 84814,
    "is_output_hidden": false,
    "deepnote_to_be_reexecuted": false,
    "deepnote_app_is_code_hidden": true,
    "deepnote_app_is_output_hidden": true,
    "cell_id": "42ba0f3e15704bdc86387ebdc1c0cddb",
    "deepnote_cell_type": "code",
    "ExecuteTime": {
     "end_time": "2023-09-15T18:22:42.778885Z",
     "start_time": "2023-09-15T18:22:42.210765Z"
    }
   },
   "source": [
    "# dicionario com todas as ações por linha a serem substituidas\n",
    "index_stocks = []\n",
    "index_tickers = {}\n",
    "for i, v in zip((range(len(tick_list))), tick_list):\n",
    "    index_tickers[i] = v\n",
    "    index_stocks.append(index_tickers)\n",
    "#index_tickers\n",
    "\n",
    "url = 'https://statusinvest.com.br/acoes/busca-avancada'\n",
    "\n",
    "dividaliqpls = []\n",
    "\n",
    "url = 'https://statusinvest.com.br/acoes/'\n",
    "\n",
    "for i, v in zip(tick_list, (range(len(tick_list)))):\n",
    "    print(f'{v}.{i}') \n",
    "\n",
    "    headers = {\n",
    "        'authority': 'statusinvest.com.br',\n",
    "        'sec-ch-ua': '\\\"Google Chrome\\\";v=\\\"116\\\", \\\"Chromium\\\";v=\\\"116\\\", \\\";Not A Brand\\\";v=\\\"99\\\"',\n",
    "        'accept': '*/*',\n",
    "        'x-requested-with': 'XMLHttpRequest',\n",
    "        'sec-ch-ua-mobile': '?0',\n",
    "        'user-agent': 'Mozilla/5.0 (Windows NT 10.0; Win64; x64) AppleWebKit/537.36 (KHTML, like Gecko) Chrome/116.0.0.0 Safari/537.36',\n",
    "        'content-type': 'application/x-www-form-urlencoded; charset=UTF-8',\n",
    "        'origin': 'https://statusinvest.com.br',\n",
    "        'sec-fetch-site': 'same-origin',\n",
    "        'sec-fetch-mode': 'cors',\n",
    "        'sec-fetch-dest': 'empty',\n",
    "        'referer': url + str(i),\n",
    "        'accept-language': 'pt-BR,pt;q=0.9,en-US;q=0.8,en;q=0.7',\n",
    "        'cookie': '_adasys=e2299e4d-38b0-48c7-91be-a844fb91e62c; _ga=GA1.3.1768435062.1608297004; G_ENABLED_IDPS=google; __cfduid=d96cf593e372b319fd9ac85a0385fd3971614276176; denakop_freq={}; _gid=GA1.3.490929924.1615153324; __cf_bm=ccb5439cbc002734ed38f28e7c99677ec0b5afff-1615325452-1800-AWbw2mlOXKHt6BZ0dybIWT1O8Z4S9u6Mv7pm7/qkTNvQPFa+jTjP1n06mQmPXqmE938CAjZonuuP2B6noCkuoBpP5ouTIc/MWeUoxtuhdKfJ05v24zpwzU/CpAosevhANA==; _gat_gtag_UA_142136095_1=1',\n",
    "    }   \n",
    "\n",
    "    data = {\n",
    "        'ticker': str(i),\n",
    "        'time': '5'\n",
    "    }\n",
    "\n",
    "    response = requests.post('https://statusinvest.com.br/acao/indicatorhistorical', headers=headers, data=data)\n",
    "\n",
    "    \n",
    "    try:\n",
    "        r = response.json()\n",
    "    except json.JSONDecodeError as e:\n",
    "        print(f\"Error decoding JSON: {e}\")\n",
    "        exit(1)\n",
    "    \n",
    "\n",
    "    # Coletando informações para DataFrame\n",
    "    dividaliqpl = {}\n",
    "    \n",
    "    \n",
    "    c = requests.get(url + str(i)).content\n",
    "    soup = BeautifulSoup(c)\n",
    "\n",
    "\n",
    "       ### INDICADORES DE VALUATION ###\n",
    "\n",
    "    try:    \n",
    "        dividaliqpl['DÍVIDA LÍQUIDA/PL'] = r['data'][14]['ranks'][0]['value_F']\n",
    "    except:\n",
    "        dividaliqpl['DÍVIDA LÍQUIDA/PL'] = np.NaN\n",
    "    try:    \n",
    "        dividaliqpl['2022'] = r['data'][14]['ranks'][1]['value_F']\n",
    "    except:\n",
    "        dividaliqpl['2022'] = np.NaN\n",
    "    try:    \n",
    "        dividaliqpl['2021'] = r['data'][14]['ranks'][2]['value_F']\n",
    "    except:\n",
    "        dividaliqpl['2021'] = np.NaN\n",
    "    try:    \n",
    "        dividaliqpl['2020'] = r['data'][14]['ranks'][3]['value_F']\n",
    "    except:\n",
    "        dividaliqpl['2020'] = np.NaN\n",
    "    try:    \n",
    "        dividaliqpl['2019'] = r['data'][14]['ranks'][4]['value_F']\n",
    "    except:\n",
    "        dividaliqpl['2019'] = np.NaN\n",
    "    try:    \n",
    "        dividaliqpl['2018'] = r['data'][14]['ranks'][5]['value_F']\n",
    "    except:\n",
    "        dividaliqpl['2018'] = np.NaN\n",
    "    try:    \n",
    "        dividaliqpl['2017'] = r['data'][14]['ranks'][6]['value_F']\n",
    "    except:\n",
    "        dividaliqpl['2017'] = np.NaN\n",
    "    try:    \n",
    "        dividaliqpl['2016'] = r['data'][14]['ranks'][7]['value_F']\n",
    "    except:\n",
    "        dividaliqpl['2016'] = np.NaN    \n",
    "    try:    \n",
    "        dividaliqpl['2015'] = r['data'][14]['ranks'][8]['value_F']\n",
    "    except:\n",
    "        dividaliqpl['2015'] = np.NaN\n",
    "    try:    \n",
    "        dividaliqpl['2014'] = r['data'][14]['ranks'][9]['value_F']\n",
    "    except:\n",
    "        dividaliqpl['2014'] = np.NaN\n",
    "    try:    \n",
    "        dividaliqpl['2013'] = r['data'][14]['ranks'][10]['value_F']\n",
    "    except:\n",
    "        dividaliqpl['2013'] = np.NaN\n",
    "    try:    \n",
    "        dividaliqpl['2012'] = r['data'][14]['ranks'][11]['value_F']\n",
    "    except:\n",
    "        dividaliqpl['2012'] = np.NaN    \n",
    "    try:    \n",
    "        dividaliqpl['2011'] = r['data'][14]['ranks'][12]['value_F']\n",
    "    except:\n",
    "        dividaliqpl['2011'] = np.NaN\n",
    "\n",
    "    # Adicionando resultado a lista de cards\n",
    "    dividaliqpls.append(dividaliqpl)\n",
    "\n",
    "# Criando um DataFrame com os resultados\n",
    "dividaliq_pl = pd.DataFrame(dividaliqpls)\n",
    "dividaliq_pl.rename(index = index_tickers, inplace = True)"
   ],
   "block_group": "42ba0f3e15704bdc86387ebdc1c0cddb",
   "execution_count": 125,
   "outputs": [
    {
     "name": "stdout",
     "output_type": "stream",
     "text": [
      "0.BBAS3\n"
     ]
    }
   ]
  },
  {
   "cell_type": "markdown",
   "metadata": {
    "formattedRanges": [],
    "cell_id": "a8f502540c594df3be42607a0a335a52",
    "deepnote_cell_type": "text-cell-h2",
    "ExecuteTime": {
     "start_time": "2023-09-05T20:09:39.296326Z"
    }
   },
   "source": [
    "## DÍVIDA LÍQUIDA / EBITDA"
   ],
   "block_group": "a8f502540c594df3be42607a0a335a52"
  },
  {
   "cell_type": "code",
   "metadata": {
    "source_hash": null,
    "is_code_hidden": false,
    "execution_start": 1693086729848,
    "execution_millis": 84799,
    "is_output_hidden": false,
    "deepnote_to_be_reexecuted": false,
    "deepnote_app_is_code_hidden": true,
    "deepnote_app_is_output_hidden": true,
    "cell_id": "5dfd7966c2844031b3226ed6659eef36",
    "deepnote_cell_type": "code",
    "ExecuteTime": {
     "end_time": "2023-09-15T18:24:05.910206Z",
     "start_time": "2023-09-15T18:24:04.803531Z"
    }
   },
   "source": [
    "# dicionario com todas as ações por linha a serem substituidas\n",
    "index_stocks = []\n",
    "index_tickers = {}\n",
    "for i, v in zip((range(len(tick_list))), tick_list):\n",
    "    index_tickers[i] = v\n",
    "    index_stocks.append(index_tickers)\n",
    "#index_tickers\n",
    "\n",
    "url = 'https://statusinvest.com.br/acoes/busca-avancada'\n",
    "\n",
    "dividaliqebitdas = []\n",
    "\n",
    "url = 'https://statusinvest.com.br/acoes/'\n",
    "\n",
    "for i, v in zip(tick_list, (range(len(tick_list)))):\n",
    "    print(f'{v}.{i}') \n",
    "\n",
    "    headers = {\n",
    "        'authority': 'statusinvest.com.br',\n",
    "        'sec-ch-ua': '\\\"Google Chrome\\\";v=\\\"116\\\", \\\"Chromium\\\";v=\\\"116\\\", \\\";Not A Brand\\\";v=\\\"99\\\"',\n",
    "        'accept': '*/*',\n",
    "        'x-requested-with': 'XMLHttpRequest',\n",
    "        'sec-ch-ua-mobile': '?0',\n",
    "        'user-agent': 'Mozilla/5.0 (Windows NT 10.0; Win64; x64) AppleWebKit/537.36 (KHTML, like Gecko) Chrome/116.0.0.0 Safari/537.36',\n",
    "        'content-type': 'application/x-www-form-urlencoded; charset=UTF-8',\n",
    "        'origin': 'https://statusinvest.com.br',\n",
    "        'sec-fetch-site': 'same-origin',\n",
    "        'sec-fetch-mode': 'cors',\n",
    "        'sec-fetch-dest': 'empty',\n",
    "        'referer': url + str(i),\n",
    "        'accept-language': 'pt-BR,pt;q=0.9,en-US;q=0.8,en;q=0.7',\n",
    "        'cookie': '_adasys=e2299e4d-38b0-48c7-91be-a844fb91e62c; _ga=GA1.3.1768435062.1608297004; G_ENABLED_IDPS=google; __cfduid=d96cf593e372b319fd9ac85a0385fd3971614276176; denakop_freq={}; _gid=GA1.3.490929924.1615153324; __cf_bm=ccb5439cbc002734ed38f28e7c99677ec0b5afff-1615325452-1800-AWbw2mlOXKHt6BZ0dybIWT1O8Z4S9u6Mv7pm7/qkTNvQPFa+jTjP1n06mQmPXqmE938CAjZonuuP2B6noCkuoBpP5ouTIc/MWeUoxtuhdKfJ05v24zpwzU/CpAosevhANA==; _gat_gtag_UA_142136095_1=1',\n",
    "    }   \n",
    "\n",
    "    data = {\n",
    "        'ticker': str(i),\n",
    "        'time': '5'\n",
    "    }\n",
    "\n",
    "    response = requests.post('https://statusinvest.com.br/acao/indicatorhistorical', headers=headers, data=data)\n",
    "\n",
    "    \n",
    "    try:\n",
    "        r = response.json()\n",
    "    except json.JSONDecodeError as e:\n",
    "        print(f\"Error decoding JSON: {e}\")\n",
    "        exit(1)\n",
    "    \n",
    "\n",
    "    # Coletando informações para DataFrame\n",
    "    dividaliqebitda = {}\n",
    "    \n",
    "    \n",
    "    c = requests.get(url + str(i)).content\n",
    "    soup = BeautifulSoup(c)\n",
    "\n",
    "\n",
    "       ### INDICADORES DE VALUATION ###\n",
    "\n",
    "    try:    \n",
    "        dividaliqebitda['DÍVIDA LÍQUIDA/EBITDA'] = r['data'][15]['ranks'][0]['value_F']\n",
    "    except:\n",
    "        dividaliqebitda['DÍVIDA LÍQUIDA/EBITDA'] = np.NaN\n",
    "    try:    \n",
    "        dividaliqebitda['2022'] = r['data'][15]['ranks'][1]['value_F']\n",
    "    except:\n",
    "        dividaliqebitda['2022'] = np.NaN\n",
    "    try:    \n",
    "        dividaliqebitda['2021'] = r['data'][15]['ranks'][2]['value_F']\n",
    "    except:\n",
    "        dividaliqebitda['2021'] = np.NaN\n",
    "    try:    \n",
    "        dividaliqebitda['2020'] = r['data'][15]['ranks'][3]['value_F']\n",
    "    except:\n",
    "        dividaliqebitda['2020'] = np.NaN\n",
    "    try:    \n",
    "        dividaliqebitda['2019'] = r['data'][15]['ranks'][4]['value_F']\n",
    "    except:\n",
    "        dividaliqebitda['2019'] = np.NaN\n",
    "    try:    \n",
    "        dividaliqebitda['2018'] = r['data'][15]['ranks'][5]['value_F']\n",
    "    except:\n",
    "        dividaliqebitda['2018'] = np.NaN\n",
    "    try:    \n",
    "        dividaliqebitda['2017'] = r['data'][15]['ranks'][6]['value_F']\n",
    "    except:\n",
    "        dividaliqebitda['2017'] = np.NaN\n",
    "    try:    \n",
    "        dividaliqebitda['2016'] = r['data'][15]['ranks'][7]['value_F']\n",
    "    except:\n",
    "        dividaliqebitda['2016'] = np.NaN    \n",
    "    try:    \n",
    "        dividaliqebitda['2015'] = r['data'][15]['ranks'][8]['value_F']\n",
    "    except:\n",
    "        dividaliqebitda['2015'] = np.NaN\n",
    "    try:    \n",
    "        dividaliqebitda['2014'] = r['data'][15]['ranks'][9]['value_F']\n",
    "    except:\n",
    "        dividaliqebitda['2014'] = np.NaN\n",
    "    try:    \n",
    "        dividaliqebitda['2013'] = r['data'][15]['ranks'][10]['value_F']\n",
    "    except:\n",
    "        dividaliqebitda['2013'] = np.NaN\n",
    "    try:    \n",
    "        dividaliqebitda['2012'] = r['data'][15]['ranks'][11]['value_F']\n",
    "    except:\n",
    "        dividaliqebitda['2012'] = np.NaN    \n",
    "    try:    \n",
    "        dividaliqebitda['2011'] = r['data'][15]['ranks'][12]['value_F']\n",
    "    except:\n",
    "        dividaliqebitda['2011'] = np.NaN\n",
    "\n",
    "    # Adicionando resultado a lista de cards\n",
    "    dividaliqebitdas.append(dividaliqebitda)\n",
    "\n",
    "# Criando um DataFrame com os resultados\n",
    "dividaliq_ebitda = pd.DataFrame(dividaliqebitdas)\n",
    "dividaliq_ebitda.rename(index = index_tickers, inplace = True)"
   ],
   "block_group": "5dfd7966c2844031b3226ed6659eef36",
   "execution_count": 127,
   "outputs": [
    {
     "name": "stdout",
     "output_type": "stream",
     "text": [
      "0.BBAS3\n"
     ]
    }
   ]
  },
  {
   "cell_type": "markdown",
   "metadata": {
    "formattedRanges": [],
    "cell_id": "055fd83e4a4740fcbdba338380835653",
    "deepnote_cell_type": "text-cell-h2",
    "ExecuteTime": {
     "start_time": "2023-09-05T20:09:39.386979Z"
    }
   },
   "source": [
    "## DÍVIDA LÍQUIDA / EBIT"
   ],
   "block_group": "055fd83e4a4740fcbdba338380835653"
  },
  {
   "cell_type": "code",
   "metadata": {
    "source_hash": null,
    "is_code_hidden": false,
    "execution_start": 1693086814637,
    "execution_millis": 83862,
    "is_output_hidden": false,
    "deepnote_to_be_reexecuted": false,
    "deepnote_app_is_code_hidden": true,
    "deepnote_app_is_output_hidden": true,
    "cell_id": "24294c415ef34c0ca27796058d957171",
    "deepnote_cell_type": "code",
    "ExecuteTime": {
     "end_time": "2023-09-15T18:24:59.578247Z",
     "start_time": "2023-09-15T18:24:59.156292Z"
    }
   },
   "source": [
    "# dicionario com todas as ações por linha a serem substituidas\n",
    "index_stocks = []\n",
    "index_tickers = {}\n",
    "for i, v in zip((range(len(tick_list))), tick_list):\n",
    "    index_tickers[i] = v\n",
    "    index_stocks.append(index_tickers)\n",
    "#index_tickers\n",
    "\n",
    "url = 'https://statusinvest.com.br/acoes/busca-avancada'\n",
    "\n",
    "dividaliqebits = []\n",
    "\n",
    "url = 'https://statusinvest.com.br/acoes/'\n",
    "\n",
    "for i, v in zip(tick_list, (range(len(tick_list)))):\n",
    "    print(f'{v}.{i}') \n",
    "\n",
    "    headers = {\n",
    "        'authority': 'statusinvest.com.br',\n",
    "        'sec-ch-ua': '\\\"Google Chrome\\\";v=\\\"116\\\", \\\"Chromium\\\";v=\\\"116\\\", \\\";Not A Brand\\\";v=\\\"99\\\"',\n",
    "        'accept': '*/*',\n",
    "        'x-requested-with': 'XMLHttpRequest',\n",
    "        'sec-ch-ua-mobile': '?0',\n",
    "        'user-agent': 'Mozilla/5.0 (Windows NT 10.0; Win64; x64) AppleWebKit/537.36 (KHTML, like Gecko) Chrome/116.0.0.0 Safari/537.36',\n",
    "        'content-type': 'application/x-www-form-urlencoded; charset=UTF-8',\n",
    "        'origin': 'https://statusinvest.com.br',\n",
    "        'sec-fetch-site': 'same-origin',\n",
    "        'sec-fetch-mode': 'cors',\n",
    "        'sec-fetch-dest': 'empty',\n",
    "        'referer': url + str(i),\n",
    "        'accept-language': 'pt-BR,pt;q=0.9,en-US;q=0.8,en;q=0.7',\n",
    "        'cookie': '_adasys=e2299e4d-38b0-48c7-91be-a844fb91e62c; _ga=GA1.3.1768435062.1608297004; G_ENABLED_IDPS=google; __cfduid=d96cf593e372b319fd9ac85a0385fd3971614276176; denakop_freq={}; _gid=GA1.3.490929924.1615153324; __cf_bm=ccb5439cbc002734ed38f28e7c99677ec0b5afff-1615325452-1800-AWbw2mlOXKHt6BZ0dybIWT1O8Z4S9u6Mv7pm7/qkTNvQPFa+jTjP1n06mQmPXqmE938CAjZonuuP2B6noCkuoBpP5ouTIc/MWeUoxtuhdKfJ05v24zpwzU/CpAosevhANA==; _gat_gtag_UA_142136095_1=1',\n",
    "    }   \n",
    "\n",
    "    data = {\n",
    "        'ticker': str(i),\n",
    "        'time': '5'\n",
    "    }\n",
    "\n",
    "    response = requests.post('https://statusinvest.com.br/acao/indicatorhistorical', headers=headers, data=data)\n",
    "\n",
    "    \n",
    "    try:\n",
    "        r = response.json()\n",
    "    except json.JSONDecodeError as e:\n",
    "        print(f\"Error decoding JSON: {e}\")\n",
    "        exit(1)\n",
    "    \n",
    "\n",
    "    # Coletando informações para DataFrame\n",
    "    dividaliqebit = {}\n",
    "    \n",
    "    \n",
    "    c = requests.get(url + str(i)).content\n",
    "    soup = BeautifulSoup(c)\n",
    "\n",
    "\n",
    "       ### INDICADORES DE VALUATION ###\n",
    "\n",
    "    try:    \n",
    "        dividaliqebit['DÍVIDA LÍQUIDA/EBIT'] = r['data'][16]['ranks'][0]['value_F']\n",
    "    except:\n",
    "        dividaliqebit['DÍVIDA LÍQUIDA/EBIT'] = np.NaN\n",
    "    try:    \n",
    "        dividaliqebit['2022'] = r['data'][16]['ranks'][1]['value_F']\n",
    "    except:\n",
    "        dividaliqebit['2022'] = np.NaN\n",
    "    try:    \n",
    "        dividaliqebit['2021'] = r['data'][16]['ranks'][2]['value_F']\n",
    "    except:\n",
    "        dividaliqebit['2021'] = np.NaN\n",
    "    try:    \n",
    "        dividaliqebit['2020'] = r['data'][16]['ranks'][3]['value_F']\n",
    "    except:\n",
    "        dividaliqebit['2020'] = np.NaN\n",
    "    try:    \n",
    "        dividaliqebit['2019'] = r['data'][16]['ranks'][4]['value_F']\n",
    "    except:\n",
    "        dividaliqebit['2019'] = np.NaN\n",
    "    try:    \n",
    "        dividaliqebit['2018'] = r['data'][16]['ranks'][5]['value_F']\n",
    "    except:\n",
    "        dividaliqebit['2018'] = np.NaN\n",
    "    try:    \n",
    "        dividaliqebit['2017'] = r['data'][16]['ranks'][6]['value_F']\n",
    "    except:\n",
    "        dividaliqebit['2017'] = np.NaN\n",
    "    try:    \n",
    "        dividaliqebit['2016'] = r['data'][16]['ranks'][7]['value_F']\n",
    "    except:\n",
    "        dividaliqebit['2016'] = np.NaN    \n",
    "    try:    \n",
    "        dividaliqebit['2015'] = r['data'][16]['ranks'][8]['value_F']\n",
    "    except:\n",
    "        dividaliqebit['2015'] = np.NaN\n",
    "    try:    \n",
    "        dividaliqebit['2014'] = r['data'][16]['ranks'][9]['value_F']\n",
    "    except:\n",
    "        dividaliqebit['2014'] = np.NaN\n",
    "    try:    \n",
    "        dividaliqebit['2013'] = r['data'][16]['ranks'][10]['value_F']\n",
    "    except:\n",
    "        dividaliqebit['2013'] = np.NaN\n",
    "    try:    \n",
    "        dividaliqebit['2012'] = r['data'][16]['ranks'][11]['value_F']\n",
    "    except:\n",
    "        dividaliqebit['2012'] = np.NaN    \n",
    "    try:    \n",
    "        dividaliqebit['2011'] = r['data'][16]['ranks'][12]['value_F']\n",
    "    except:\n",
    "        dividaliqebit['2011'] = np.NaN\n",
    "\n",
    "    # Adicionando resultado a lista de cards\n",
    "    dividaliqebits.append(dividaliqebit)\n",
    "\n",
    "# Criando um DataFrame com os resultados\n",
    "dividaliq_ebit = pd.DataFrame(dividaliqebits)\n",
    "dividaliq_ebit.rename(index = index_tickers, inplace = True)"
   ],
   "block_group": "24294c415ef34c0ca27796058d957171",
   "execution_count": 129,
   "outputs": [
    {
     "name": "stdout",
     "output_type": "stream",
     "text": [
      "0.BBAS3\n"
     ]
    }
   ]
  },
  {
   "cell_type": "markdown",
   "metadata": {
    "formattedRanges": [],
    "cell_id": "eefe4d380ef34f57891ad23d82991902",
    "deepnote_cell_type": "text-cell-h2",
    "ExecuteTime": {
     "start_time": "2023-09-05T20:09:39.439878Z"
    }
   },
   "source": [
    "## PL / ATIVOS"
   ],
   "block_group": "eefe4d380ef34f57891ad23d82991902"
  },
  {
   "cell_type": "code",
   "metadata": {
    "source_hash": null,
    "is_code_hidden": false,
    "execution_start": 1693086898489,
    "execution_millis": 85993,
    "is_output_hidden": false,
    "deepnote_to_be_reexecuted": false,
    "deepnote_app_is_code_hidden": true,
    "deepnote_app_is_output_hidden": true,
    "cell_id": "bdbd0e7d584848749c0f85ce89f09b05",
    "deepnote_cell_type": "code",
    "ExecuteTime": {
     "end_time": "2023-09-15T18:26:03.675842Z",
     "start_time": "2023-09-15T18:26:03.255537Z"
    }
   },
   "source": [
    "# dicionario com todas as ações por linha a serem substituidas\n",
    "index_stocks = []\n",
    "index_tickers = {}\n",
    "for i, v in zip((range(len(tick_list))), tick_list):\n",
    "    index_tickers[i] = v\n",
    "    index_stocks.append(index_tickers)\n",
    "#index_tickers\n",
    "\n",
    "url = 'https://statusinvest.com.br/acoes/busca-avancada'\n",
    "\n",
    "plativos = []\n",
    "\n",
    "url = 'https://statusinvest.com.br/acoes/'\n",
    "\n",
    "for i, v in zip(tick_list, (range(len(tick_list)))):\n",
    "    print(f'{v}.{i}') \n",
    "\n",
    "    headers = {\n",
    "        'authority': 'statusinvest.com.br',\n",
    "        'sec-ch-ua': '\\\"Google Chrome\\\";v=\\\"116\\\", \\\"Chromium\\\";v=\\\"116\\\", \\\";Not A Brand\\\";v=\\\"99\\\"',\n",
    "        'accept': '*/*',\n",
    "        'x-requested-with': 'XMLHttpRequest',\n",
    "        'sec-ch-ua-mobile': '?0',\n",
    "        'user-agent': 'Mozilla/5.0 (Windows NT 10.0; Win64; x64) AppleWebKit/537.36 (KHTML, like Gecko) Chrome/116.0.0.0 Safari/537.36',\n",
    "        'content-type': 'application/x-www-form-urlencoded; charset=UTF-8',\n",
    "        'origin': 'https://statusinvest.com.br',\n",
    "        'sec-fetch-site': 'same-origin',\n",
    "        'sec-fetch-mode': 'cors',\n",
    "        'sec-fetch-dest': 'empty',\n",
    "        'referer': url + str(i),\n",
    "        'accept-language': 'pt-BR,pt;q=0.9,en-US;q=0.8,en;q=0.7',\n",
    "        'cookie': '_adasys=e2299e4d-38b0-48c7-91be-a844fb91e62c; _ga=GA1.3.1768435062.1608297004; G_ENABLED_IDPS=google; __cfduid=d96cf593e372b319fd9ac85a0385fd3971614276176; denakop_freq={}; _gid=GA1.3.490929924.1615153324; __cf_bm=ccb5439cbc002734ed38f28e7c99677ec0b5afff-1615325452-1800-AWbw2mlOXKHt6BZ0dybIWT1O8Z4S9u6Mv7pm7/qkTNvQPFa+jTjP1n06mQmPXqmE938CAjZonuuP2B6noCkuoBpP5ouTIc/MWeUoxtuhdKfJ05v24zpwzU/CpAosevhANA==; _gat_gtag_UA_142136095_1=1',\n",
    "    }   \n",
    "\n",
    "    data = {\n",
    "        'ticker': str(i),\n",
    "        'time': '5'\n",
    "    }\n",
    "\n",
    "    response = requests.post('https://statusinvest.com.br/acao/indicatorhistorical', headers=headers, data=data)\n",
    "\n",
    "    \n",
    "    try:\n",
    "        r = response.json()\n",
    "    except json.JSONDecodeError as e:\n",
    "        print(f\"Error decoding JSON: {e}\")\n",
    "        exit(1)\n",
    "    \n",
    "\n",
    "    # Coletando informações para DataFrame\n",
    "    plativo = {}\n",
    "    \n",
    "    \n",
    "    c = requests.get(url + str(i)).content\n",
    "    soup = BeautifulSoup(c)\n",
    "\n",
    "\n",
    "       ### INDICADORES DE VALUATION ###\n",
    "\n",
    "    try:    \n",
    "        plativo['PL/ATIVOS'] = r['data'][17]['ranks'][0]['value_F']\n",
    "    except:\n",
    "        plativo['PL/ATIVOS'] = np.NaN\n",
    "    try:    \n",
    "        plativo['2022'] = r['data'][17]['ranks'][1]['value_F']\n",
    "    except:\n",
    "        plativo['2022'] = np.NaN\n",
    "    try:    \n",
    "        plativo['2021'] = r['data'][17]['ranks'][2]['value_F']\n",
    "    except:\n",
    "        plativo['2021'] = np.NaN\n",
    "    try:    \n",
    "        plativo['2020'] = r['data'][17]['ranks'][3]['value_F']\n",
    "    except:\n",
    "        plativo['2020'] = np.NaN\n",
    "    try:    \n",
    "        plativo['2019'] = r['data'][17]['ranks'][4]['value_F']\n",
    "    except:\n",
    "        plativo['2019'] = np.NaN\n",
    "    try:    \n",
    "        plativo['2018'] = r['data'][17]['ranks'][5]['value_F']\n",
    "    except:\n",
    "        plativo['2018'] = np.NaN\n",
    "    try:    \n",
    "        plativo['2017'] = r['data'][17]['ranks'][6]['value_F']\n",
    "    except:\n",
    "        plativo['2017'] = np.NaN\n",
    "    try:    \n",
    "        plativo['2016'] = r['data'][17]['ranks'][7]['value_F']\n",
    "    except:\n",
    "        plativo['2016'] = np.NaN    \n",
    "    try:    \n",
    "        plativo['2015'] = r['data'][17]['ranks'][8]['value_F']\n",
    "    except:\n",
    "        plativo['2015'] = np.NaN\n",
    "    try:    \n",
    "        plativo['2014'] = r['data'][17]['ranks'][9]['value_F']\n",
    "    except:\n",
    "        plativo['2014'] = np.NaN\n",
    "    try:    \n",
    "        plativo['2013'] = r['data'][17]['ranks'][10]['value_F']\n",
    "    except:\n",
    "        plativo['2013'] = np.NaN\n",
    "    try:    \n",
    "        plativo['2012'] = r['data'][17]['ranks'][11]['value_F']\n",
    "    except:\n",
    "        plativo['2012'] = np.NaN    \n",
    "    try:    \n",
    "        plativo['2011'] = r['data'][17]['ranks'][12]['value_F']\n",
    "    except:\n",
    "        plativo['2011'] = np.NaN\n",
    "\n",
    "    # Adicionando resultado a lista de cards\n",
    "    plativos.append(plativo)\n",
    "\n",
    "# Criando um DataFrame com os resultados\n",
    "pl_ativo = pd.DataFrame(plativos)\n",
    "pl_ativo.rename(index = index_tickers, inplace = True)"
   ],
   "block_group": "bdbd0e7d584848749c0f85ce89f09b05",
   "execution_count": 131,
   "outputs": [
    {
     "name": "stdout",
     "output_type": "stream",
     "text": [
      "0.BBAS3\n"
     ]
    }
   ]
  },
  {
   "cell_type": "markdown",
   "metadata": {
    "formattedRanges": [],
    "cell_id": "f215e9eed616404a820e6d39e1dd0753",
    "deepnote_cell_type": "text-cell-h2",
    "ExecuteTime": {
     "start_time": "2023-09-05T20:09:39.527813Z"
    }
   },
   "source": [
    "## PASSIVOS / ATIVOS"
   ],
   "block_group": "f215e9eed616404a820e6d39e1dd0753"
  },
  {
   "cell_type": "code",
   "metadata": {
    "source_hash": null,
    "is_code_hidden": false,
    "execution_start": 1693086984441,
    "execution_millis": 85339,
    "is_output_hidden": false,
    "deepnote_to_be_reexecuted": false,
    "deepnote_app_is_code_hidden": true,
    "deepnote_app_is_output_hidden": true,
    "cell_id": "1c98dfe9364d4b43b5924b6ac9f99919",
    "deepnote_cell_type": "code",
    "ExecuteTime": {
     "end_time": "2023-09-15T18:27:09.261685Z",
     "start_time": "2023-09-15T18:27:08.774261Z"
    }
   },
   "source": [
    "# dicionario com todas as ações por linha a serem substituidas\n",
    "index_stocks = []\n",
    "index_tickers = {}\n",
    "for i, v in zip((range(len(tick_list))), tick_list):\n",
    "    index_tickers[i] = v\n",
    "    index_stocks.append(index_tickers)\n",
    "#index_tickers\n",
    "\n",
    "url = 'https://statusinvest.com.br/acoes/busca-avancada'\n",
    "\n",
    "passivoativos = []\n",
    "\n",
    "url = 'https://statusinvest.com.br/acoes/'\n",
    "\n",
    "for i, v in zip(tick_list, (range(len(tick_list)))):\n",
    "    print(f'{v}.{i}') \n",
    "\n",
    "    headers = {\n",
    "        'authority': 'statusinvest.com.br',\n",
    "        'sec-ch-ua': '\\\"Google Chrome\\\";v=\\\"116\\\", \\\"Chromium\\\";v=\\\"116\\\", \\\";Not A Brand\\\";v=\\\"99\\\"',\n",
    "        'accept': '*/*',\n",
    "        'x-requested-with': 'XMLHttpRequest',\n",
    "        'sec-ch-ua-mobile': '?0',\n",
    "        'user-agent': 'Mozilla/5.0 (Windows NT 10.0; Win64; x64) AppleWebKit/537.36 (KHTML, like Gecko) Chrome/116.0.0.0 Safari/537.36',\n",
    "        'content-type': 'application/x-www-form-urlencoded; charset=UTF-8',\n",
    "        'origin': 'https://statusinvest.com.br',\n",
    "        'sec-fetch-site': 'same-origin',\n",
    "        'sec-fetch-mode': 'cors',\n",
    "        'sec-fetch-dest': 'empty',\n",
    "        'referer': url + str(i),\n",
    "        'accept-language': 'pt-BR,pt;q=0.9,en-US;q=0.8,en;q=0.7',\n",
    "        'cookie': '_adasys=e2299e4d-38b0-48c7-91be-a844fb91e62c; _ga=GA1.3.1768435062.1608297004; G_ENABLED_IDPS=google; __cfduid=d96cf593e372b319fd9ac85a0385fd3971614276176; denakop_freq={}; _gid=GA1.3.490929924.1615153324; __cf_bm=ccb5439cbc002734ed38f28e7c99677ec0b5afff-1615325452-1800-AWbw2mlOXKHt6BZ0dybIWT1O8Z4S9u6Mv7pm7/qkTNvQPFa+jTjP1n06mQmPXqmE938CAjZonuuP2B6noCkuoBpP5ouTIc/MWeUoxtuhdKfJ05v24zpwzU/CpAosevhANA==; _gat_gtag_UA_142136095_1=1',\n",
    "    }   \n",
    "\n",
    "    data = {\n",
    "        'ticker': str(i),\n",
    "        'time': '5'\n",
    "    }\n",
    "\n",
    "    response = requests.post('https://statusinvest.com.br/acao/indicatorhistorical', headers=headers, data=data)\n",
    "\n",
    "    \n",
    "    try:\n",
    "        r = response.json()\n",
    "    except json.JSONDecodeError as e:\n",
    "        print(f\"Error decoding JSON: {e}\")\n",
    "        exit(1)\n",
    "    \n",
    "\n",
    "    # Coletando informações para DataFrame\n",
    "    passivoativo = {}\n",
    "    \n",
    "    \n",
    "    c = requests.get(url + str(i)).content\n",
    "    soup = BeautifulSoup(c)\n",
    "\n",
    "\n",
    "       ### INDICADORES DE VALUATION ###\n",
    "\n",
    "    try:    \n",
    "        passivoativo['PASSIVOS/ATIVOS'] = r['data'][18]['ranks'][0]['value_F']\n",
    "    except:\n",
    "        passivoativo['PASSIVOS/ATIVOS'] = np.NaN\n",
    "    try:    \n",
    "        passivoativo['2022'] = r['data'][18]['ranks'][1]['value_F']\n",
    "    except:\n",
    "        passivoativo['2022'] = np.NaN\n",
    "    try:    \n",
    "        passivoativo['2021'] = r['data'][18]['ranks'][2]['value_F']\n",
    "    except:\n",
    "        passivoativo['2021'] = np.NaN\n",
    "    try:    \n",
    "        passivoativo['2020'] = r['data'][18]['ranks'][3]['value_F']\n",
    "    except:\n",
    "        passivoativo['2020'] = np.NaN\n",
    "    try:    \n",
    "        passivoativo['2019'] = r['data'][18]['ranks'][4]['value_F']\n",
    "    except:\n",
    "        passivoativo['2019'] = np.NaN\n",
    "    try:    \n",
    "        passivoativo['2018'] = r['data'][18]['ranks'][5]['value_F']\n",
    "    except:\n",
    "        passivoativo['2018'] = np.NaN\n",
    "    try:    \n",
    "        passivoativo['2017'] = r['data'][18]['ranks'][6]['value_F']\n",
    "    except:\n",
    "        passivoativo['2017'] = np.NaN\n",
    "    try:    \n",
    "        passivoativo['2016'] = r['data'][18]['ranks'][7]['value_F']\n",
    "    except:\n",
    "        passivoativo['2016'] = np.NaN    \n",
    "    try:    \n",
    "        passivoativo['2015'] = r['data'][18]['ranks'][8]['value_F']\n",
    "    except:\n",
    "        passivoativo['2015'] = np.NaN\n",
    "    try:    \n",
    "        passivoativo['2014'] = r['data'][18]['ranks'][9]['value_F']\n",
    "    except:\n",
    "        passivoativo['2014'] = np.NaN\n",
    "    try:    \n",
    "        passivoativo['2013'] = r['data'][18]['ranks'][10]['value_F']\n",
    "    except:\n",
    "        passivoativo['2013'] = np.NaN\n",
    "    try:    \n",
    "        passivoativo['2012'] = r['data'][18]['ranks'][11]['value_F']\n",
    "    except:\n",
    "        passivoativo['2012'] = np.NaN    \n",
    "    try:    \n",
    "        passivoativo['2011'] = r['data'][18]['ranks'][12]['value_F']\n",
    "    except:\n",
    "        passivoativo['2011'] = np.NaN\n",
    "\n",
    "\n",
    "    # Adicionando resultado a lista de cards\n",
    "    passivoativos.append(passivoativo)\n",
    "\n",
    "# Criando um DataFrame com os resultados\n",
    "passivo_ativo = pd.DataFrame(passivoativos)\n",
    "passivo_ativo.rename(index = index_tickers, inplace = True)"
   ],
   "block_group": "1c98dfe9364d4b43b5924b6ac9f99919",
   "execution_count": 133,
   "outputs": [
    {
     "name": "stdout",
     "output_type": "stream",
     "text": [
      "0.BBAS3\n"
     ]
    }
   ]
  },
  {
   "cell_type": "markdown",
   "metadata": {
    "formattedRanges": [],
    "cell_id": "87829f07aea94cfcaac777a76e23328e",
    "deepnote_cell_type": "text-cell-h2",
    "ExecuteTime": {
     "start_time": "2023-09-05T20:09:39.545604Z"
    }
   },
   "source": [
    "## LIQUIDEZ CORRENTE"
   ],
   "block_group": "87829f07aea94cfcaac777a76e23328e"
  },
  {
   "cell_type": "code",
   "metadata": {
    "source_hash": null,
    "is_code_hidden": false,
    "execution_start": 1693087069656,
    "execution_millis": 86272,
    "is_output_hidden": false,
    "deepnote_to_be_reexecuted": false,
    "deepnote_app_is_code_hidden": true,
    "deepnote_app_is_output_hidden": true,
    "cell_id": "5392efc953e14696aa1e43a31707f057",
    "deepnote_cell_type": "code",
    "ExecuteTime": {
     "end_time": "2023-09-15T18:27:57.732405Z",
     "start_time": "2023-09-15T18:27:57.330806Z"
    }
   },
   "source": [
    "# dicionario com todas as ações por linha a serem substituidas\n",
    "index_stocks = []\n",
    "index_tickers = {}\n",
    "for i, v in zip((range(len(tick_list))), tick_list):\n",
    "    index_tickers[i] = v\n",
    "    index_stocks.append(index_tickers)\n",
    "#index_tickers\n",
    "\n",
    "url = 'https://statusinvest.com.br/acoes/busca-avancada'\n",
    "\n",
    "liqcorrentes = []\n",
    "\n",
    "url = 'https://statusinvest.com.br/acoes/'\n",
    "\n",
    "for i, v in zip(tick_list, (range(len(tick_list)))):\n",
    "    print(f'{v}.{i}') \n",
    "\n",
    "    headers = {\n",
    "        'authority': 'statusinvest.com.br',\n",
    "        'sec-ch-ua': '\\\"Google Chrome\\\";v=\\\"116\\\", \\\"Chromium\\\";v=\\\"116\\\", \\\";Not A Brand\\\";v=\\\"99\\\"',\n",
    "        'accept': '*/*',\n",
    "        'x-requested-with': 'XMLHttpRequest',\n",
    "        'sec-ch-ua-mobile': '?0',\n",
    "        'user-agent': 'Mozilla/5.0 (Windows NT 10.0; Win64; x64) AppleWebKit/537.36 (KHTML, like Gecko) Chrome/116.0.0.0 Safari/537.36',\n",
    "        'content-type': 'application/x-www-form-urlencoded; charset=UTF-8',\n",
    "        'origin': 'https://statusinvest.com.br',\n",
    "        'sec-fetch-site': 'same-origin',\n",
    "        'sec-fetch-mode': 'cors',\n",
    "        'sec-fetch-dest': 'empty',\n",
    "        'referer': url + str(i),\n",
    "        'accept-language': 'pt-BR,pt;q=0.9,en-US;q=0.8,en;q=0.7',\n",
    "        'cookie': '_adasys=e2299e4d-38b0-48c7-91be-a844fb91e62c; _ga=GA1.3.1768435062.1608297004; G_ENABLED_IDPS=google; __cfduid=d96cf593e372b319fd9ac85a0385fd3971614276176; denakop_freq={}; _gid=GA1.3.490929924.1615153324; __cf_bm=ccb5439cbc002734ed38f28e7c99677ec0b5afff-1615325452-1800-AWbw2mlOXKHt6BZ0dybIWT1O8Z4S9u6Mv7pm7/qkTNvQPFa+jTjP1n06mQmPXqmE938CAjZonuuP2B6noCkuoBpP5ouTIc/MWeUoxtuhdKfJ05v24zpwzU/CpAosevhANA==; _gat_gtag_UA_142136095_1=1',\n",
    "    }   \n",
    "\n",
    "    data = {\n",
    "        'ticker': str(i),\n",
    "        'time': '5'\n",
    "    }\n",
    "\n",
    "    response = requests.post('https://statusinvest.com.br/acao/indicatorhistorical', headers=headers, data=data)\n",
    "\n",
    "    \n",
    "    try:\n",
    "        r = response.json()\n",
    "    except json.JSONDecodeError as e:\n",
    "        print(f\"Error decoding JSON: {e}\")\n",
    "        exit(1)\n",
    "    \n",
    "\n",
    "    # Coletando informações para DataFrame\n",
    "    liqcorrente = {}\n",
    "    \n",
    "    \n",
    "    c = requests.get(url + str(i)).content\n",
    "    soup = BeautifulSoup(c)\n",
    "\n",
    "\n",
    "       ### INDICADORES DE VALUATION ###\n",
    "\n",
    "    try:    \n",
    "        liqcorrente['LIQUIDEZ CORRENTE'] = r['data'][19]['ranks'][0]['value_F']\n",
    "    except:\n",
    "        liqcorrente['LIQUIDEZ CORRENTE'] = np.NaN\n",
    "    try:    \n",
    "        liqcorrente['2022'] = r['data'][19]['ranks'][1]['value_F']\n",
    "    except:\n",
    "        liqcorrente['2022'] = np.NaN\n",
    "    try:    \n",
    "        liqcorrente['2021'] = r['data'][19]['ranks'][2]['value_F']\n",
    "    except:\n",
    "        liqcorrente['2021'] = np.NaN\n",
    "    try:    \n",
    "        liqcorrente['2020'] = r['data'][19]['ranks'][3]['value_F']\n",
    "    except:\n",
    "        liqcorrente['2020'] = np.NaN\n",
    "    try:    \n",
    "        liqcorrente['2019'] = r['data'][19]['ranks'][4]['value_F']\n",
    "    except:\n",
    "        liqcorrente['2019'] = np.NaN\n",
    "    try:    \n",
    "        liqcorrente['2018'] = r['data'][19]['ranks'][5]['value_F']\n",
    "    except:\n",
    "        liqcorrente['2018'] = np.NaN\n",
    "    try:    \n",
    "        liqcorrente['2017'] = r['data'][19]['ranks'][6]['value_F']\n",
    "    except:\n",
    "        liqcorrente['2017'] = np.NaN\n",
    "    try:    \n",
    "        liqcorrente['2016'] = r['data'][19]['ranks'][7]['value_F']\n",
    "    except:\n",
    "        liqcorrente['2016'] = np.NaN    \n",
    "    try:    \n",
    "        liqcorrente['2015'] = r['data'][19]['ranks'][8]['value_F']\n",
    "    except:\n",
    "        liqcorrente['2015'] = np.NaN\n",
    "    try:    \n",
    "        liqcorrente['2014'] = r['data'][19]['ranks'][9]['value_F']\n",
    "    except:\n",
    "        liqcorrente['2014'] = np.NaN\n",
    "    try:    \n",
    "        liqcorrente['2013'] = r['data'][19]['ranks'][10]['value_F']\n",
    "    except:\n",
    "        liqcorrente['2013'] = np.NaN\n",
    "    try:    \n",
    "        liqcorrente['2012'] = r['data'][19]['ranks'][11]['value_F']\n",
    "    except:\n",
    "        liqcorrente['2012'] = np.NaN    \n",
    "    try:    \n",
    "        liqcorrente['2011'] = r['data'][19]['ranks'][12]['value_F']\n",
    "    except:\n",
    "        liqcorrente['2011'] = np.NaN\n",
    "\n",
    "    # Adicionando resultado a lista de cards\n",
    "    liqcorrentes.append(liqcorrente)\n",
    "\n",
    "# Criando um DataFrame com os resultados\n",
    "liqcorr = pd.DataFrame(liqcorrentes)\n",
    "liqcorr.rename(index = index_tickers, inplace = True)"
   ],
   "block_group": "5392efc953e14696aa1e43a31707f057",
   "execution_count": 135,
   "outputs": [
    {
     "name": "stdout",
     "output_type": "stream",
     "text": [
      "0.BBAS3\n"
     ]
    }
   ]
  },
  {
   "cell_type": "markdown",
   "metadata": {
    "formattedRanges": [],
    "cell_id": "865c8b125abc4afaa4f6a8d9f5b47c1a",
    "deepnote_cell_type": "text-cell-h2",
    "ExecuteTime": {
     "start_time": "2023-09-05T20:09:39.601929Z"
    }
   },
   "source": [
    "## M.BRUTA"
   ],
   "block_group": "865c8b125abc4afaa4f6a8d9f5b47c1a"
  },
  {
   "cell_type": "code",
   "metadata": {
    "source_hash": null,
    "is_code_hidden": false,
    "execution_start": 1693087155842,
    "execution_millis": 85393,
    "is_output_hidden": false,
    "deepnote_to_be_reexecuted": false,
    "deepnote_app_is_code_hidden": true,
    "deepnote_app_is_output_hidden": true,
    "cell_id": "df8c467ac47840b6aedacb2fb72adda4",
    "deepnote_cell_type": "code",
    "ExecuteTime": {
     "end_time": "2023-09-15T18:28:53.514718Z",
     "start_time": "2023-09-15T18:28:52.738387Z"
    }
   },
   "source": [
    "# dicionario com todas as ações por linha a serem substituidas\n",
    "index_stocks = []\n",
    "index_tickers = {}\n",
    "for i, v in zip((range(len(tick_list))), tick_list):\n",
    "    index_tickers[i] = v\n",
    "    index_stocks.append(index_tickers)\n",
    "#index_tickers\n",
    "\n",
    "url = 'https://statusinvest.com.br/acoes/busca-avancada'\n",
    "\n",
    "mbrutas = []\n",
    "\n",
    "url = 'https://statusinvest.com.br/acoes/'\n",
    "\n",
    "for i, v in zip(tick_list, (range(len(tick_list)))):\n",
    "    print(f'{v}.{i}') \n",
    "\n",
    "    headers = {\n",
    "        'authority': 'statusinvest.com.br',\n",
    "        'sec-ch-ua': '\\\"Google Chrome\\\";v=\\\"116\\\", \\\"Chromium\\\";v=\\\"116\\\", \\\";Not A Brand\\\";v=\\\"99\\\"',\n",
    "        'accept': '*/*',\n",
    "        'x-requested-with': 'XMLHttpRequest',\n",
    "        'sec-ch-ua-mobile': '?0',\n",
    "        'user-agent': 'Mozilla/5.0 (Windows NT 10.0; Win64; x64) AppleWebKit/537.36 (KHTML, like Gecko) Chrome/116.0.0.0 Safari/537.36',\n",
    "        'content-type': 'application/x-www-form-urlencoded; charset=UTF-8',\n",
    "        'origin': 'https://statusinvest.com.br',\n",
    "        'sec-fetch-site': 'same-origin',\n",
    "        'sec-fetch-mode': 'cors',\n",
    "        'sec-fetch-dest': 'empty',\n",
    "        'referer': url + str(i),\n",
    "        'accept-language': 'pt-BR,pt;q=0.9,en-US;q=0.8,en;q=0.7',\n",
    "        'cookie': '_adasys=e2299e4d-38b0-48c7-91be-a844fb91e62c; _ga=GA1.3.1768435062.1608297004; G_ENABLED_IDPS=google; __cfduid=d96cf593e372b319fd9ac85a0385fd3971614276176; denakop_freq={}; _gid=GA1.3.490929924.1615153324; __cf_bm=ccb5439cbc002734ed38f28e7c99677ec0b5afff-1615325452-1800-AWbw2mlOXKHt6BZ0dybIWT1O8Z4S9u6Mv7pm7/qkTNvQPFa+jTjP1n06mQmPXqmE938CAjZonuuP2B6noCkuoBpP5ouTIc/MWeUoxtuhdKfJ05v24zpwzU/CpAosevhANA==; _gat_gtag_UA_142136095_1=1',\n",
    "    }   \n",
    "\n",
    "    data = {\n",
    "        'ticker': str(i),\n",
    "        'time': '5'\n",
    "    }\n",
    "\n",
    "    response = requests.post('https://statusinvest.com.br/acao/indicatorhistorical', headers=headers, data=data)\n",
    "\n",
    "    \n",
    "    try:\n",
    "        r = response.json()\n",
    "    except json.JSONDecodeError as e:\n",
    "        print(f\"Error decoding JSON: {e}\")\n",
    "        exit(1)\n",
    "    \n",
    "\n",
    "    # Coletando informações para DataFrame\n",
    "    mbruta = {}\n",
    "    \n",
    "    \n",
    "    c = requests.get(url + str(i)).content\n",
    "    soup = BeautifulSoup(c)\n",
    "\n",
    "\n",
    "       ### INDICADORES DE VALUATION ###\n",
    "\n",
    "    try:    \n",
    "        mbruta['M.BRUTA'] = r['data'][20]['ranks'][0]['value_F']\n",
    "    except:\n",
    "        mbruta['M.BRUTA'] = np.NaN\n",
    "    try:    \n",
    "        mbruta['2022'] = r['data'][20]['ranks'][1]['value_F']\n",
    "    except:\n",
    "        mbruta['2022'] = np.NaN\n",
    "    try:    \n",
    "        mbruta['2021'] = r['data'][20]['ranks'][2]['value_F']\n",
    "    except:\n",
    "        mbruta['2021'] = np.NaN\n",
    "    try:    \n",
    "        mbruta['2020'] = r['data'][20]['ranks'][3]['value_F']\n",
    "    except:\n",
    "        mbruta['2020'] = np.NaN\n",
    "    try:    \n",
    "        mbruta['2019'] = r['data'][20]['ranks'][4]['value_F']\n",
    "    except:\n",
    "        mbruta['2019'] = np.NaN\n",
    "    try:    \n",
    "        mbruta['2018'] = r['data'][20]['ranks'][5]['value_F']\n",
    "    except:\n",
    "        mbruta['2018'] = np.NaN\n",
    "    try:    \n",
    "        mbruta['2017'] = r['data'][20]['ranks'][6]['value_F']\n",
    "    except:\n",
    "        mbruta['2017'] = np.NaN\n",
    "    try:    \n",
    "        mbruta['2016'] = r['data'][20]['ranks'][7]['value_F']\n",
    "    except:\n",
    "        mbruta['2016'] = np.NaN    \n",
    "    try:    \n",
    "        mbruta['2015'] = r['data'][20]['ranks'][8]['value_F']\n",
    "    except:\n",
    "        mbruta['2015'] = np.NaN\n",
    "    try:    \n",
    "        mbruta['2014'] = r['data'][20]['ranks'][9]['value_F']\n",
    "    except:\n",
    "        mbruta['2014'] = np.NaN\n",
    "    try:    \n",
    "        mbruta['2013'] = r['data'][20]['ranks'][10]['value_F']\n",
    "    except:\n",
    "        mbruta['2013'] = np.NaN\n",
    "    try:    \n",
    "        mbruta['2012'] = r['data'][20]['ranks'][11]['value_F']\n",
    "    except:\n",
    "        mbruta['2012'] = np.NaN    \n",
    "    try:    \n",
    "        mbruta['2011'] = r['data'][20]['ranks'][12]['value_F']\n",
    "    except:\n",
    "        mbruta['2011'] = np.NaN\n",
    "\n",
    "\n",
    "    # Adicionando resultado a lista de cards\n",
    "    mbrutas.append(mbruta)\n",
    "\n",
    "# Criando um DataFrame com os resultados\n",
    "m_bruta = pd.DataFrame(mbrutas)\n",
    "m_bruta.rename(index = index_tickers, inplace = True)"
   ],
   "block_group": "df8c467ac47840b6aedacb2fb72adda4",
   "execution_count": 137,
   "outputs": [
    {
     "name": "stdout",
     "output_type": "stream",
     "text": [
      "0.BBAS3\n"
     ]
    }
   ]
  },
  {
   "cell_type": "markdown",
   "metadata": {
    "formattedRanges": [],
    "cell_id": "4ff02e746ad14bf2ab0db321319a8ccf",
    "deepnote_cell_type": "text-cell-h2",
    "ExecuteTime": {
     "start_time": "2023-09-05T20:09:39.638667Z"
    }
   },
   "source": [
    "## M. EBITDA"
   ],
   "block_group": "4ff02e746ad14bf2ab0db321319a8ccf"
  },
  {
   "cell_type": "code",
   "metadata": {
    "source_hash": null,
    "is_code_hidden": false,
    "execution_start": 1693087241205,
    "execution_millis": 96069,
    "is_output_hidden": false,
    "deepnote_to_be_reexecuted": false,
    "deepnote_app_is_code_hidden": true,
    "deepnote_app_is_output_hidden": true,
    "cell_id": "0ad7e0a0c15c457aa899ea64f86eef91",
    "deepnote_cell_type": "code",
    "ExecuteTime": {
     "end_time": "2023-09-15T18:30:14.427754Z",
     "start_time": "2023-09-15T18:30:13.936964Z"
    }
   },
   "source": [
    "# dicionario com todas as ações por linha a serem substituidas\n",
    "index_stocks = []\n",
    "index_tickers = {}\n",
    "for i, v in zip((range(len(tick_list))), tick_list):\n",
    "    index_tickers[i] = v\n",
    "    index_stocks.append(index_tickers)\n",
    "#index_tickers\n",
    "\n",
    "url = 'https://statusinvest.com.br/acoes/busca-avancada'\n",
    "\n",
    "mebitdas = []\n",
    "\n",
    "url = 'https://statusinvest.com.br/acoes/'\n",
    "\n",
    "for i, v in zip(tick_list, (range(len(tick_list)))):\n",
    "    print(f'{v}.{i}') \n",
    "\n",
    "    headers = {\n",
    "        'authority': 'statusinvest.com.br',\n",
    "        'sec-ch-ua': '\\\"Google Chrome\\\";v=\\\"116\\\", \\\"Chromium\\\";v=\\\"116\\\", \\\";Not A Brand\\\";v=\\\"99\\\"',\n",
    "        'accept': '*/*',\n",
    "        'x-requested-with': 'XMLHttpRequest',\n",
    "        'sec-ch-ua-mobile': '?0',\n",
    "        'user-agent': 'Mozilla/5.0 (Windows NT 10.0; Win64; x64) AppleWebKit/537.36 (KHTML, like Gecko) Chrome/116.0.0.0 Safari/537.36',\n",
    "        'content-type': 'application/x-www-form-urlencoded; charset=UTF-8',\n",
    "        'origin': 'https://statusinvest.com.br',\n",
    "        'sec-fetch-site': 'same-origin',\n",
    "        'sec-fetch-mode': 'cors',\n",
    "        'sec-fetch-dest': 'empty',\n",
    "        'referer': url + str(i),\n",
    "        'accept-language': 'pt-BR,pt;q=0.9,en-US;q=0.8,en;q=0.7',\n",
    "        'cookie': '_adasys=e2299e4d-38b0-48c7-91be-a844fb91e62c; _ga=GA1.3.1768435062.1608297004; G_ENABLED_IDPS=google; __cfduid=d96cf593e372b319fd9ac85a0385fd3971614276176; denakop_freq={}; _gid=GA1.3.490929924.1615153324; __cf_bm=ccb5439cbc002734ed38f28e7c99677ec0b5afff-1615325452-1800-AWbw2mlOXKHt6BZ0dybIWT1O8Z4S9u6Mv7pm7/qkTNvQPFa+jTjP1n06mQmPXqmE938CAjZonuuP2B6noCkuoBpP5ouTIc/MWeUoxtuhdKfJ05v24zpwzU/CpAosevhANA==; _gat_gtag_UA_142136095_1=1',\n",
    "    }   \n",
    "\n",
    "    data = {\n",
    "        'ticker': str(i),\n",
    "        'time': '5'\n",
    "    }\n",
    "\n",
    "    response = requests.post('https://statusinvest.com.br/acao/indicatorhistorical', headers=headers, data=data)\n",
    "\n",
    "    \n",
    "    try:\n",
    "        r = response.json()\n",
    "    except json.JSONDecodeError as e:\n",
    "        print(f\"Error decoding JSON: {e}\")\n",
    "        exit(1)\n",
    "    \n",
    "\n",
    "    # Coletando informações para DataFrame\n",
    "    mebitda = {}\n",
    "    \n",
    "    \n",
    "    c = requests.get(url + str(i)).content\n",
    "    soup = BeautifulSoup(c)\n",
    "\n",
    "\n",
    "       ### INDICADORES DE VALUATION ###\n",
    "\n",
    "    try:    \n",
    "        mebitda['M.EBITDA'] = r['data'][21]['ranks'][0]['value_F']\n",
    "    except:\n",
    "        mebitda['M.EBITDA'] = np.NaN\n",
    "    try:    \n",
    "        mebitda['2022'] = r['data'][21]['ranks'][1]['value_F']\n",
    "    except:\n",
    "        mebitda['2022'] = np.NaN\n",
    "    try:    \n",
    "        mebitda['2021'] = r['data'][21]['ranks'][2]['value_F']\n",
    "    except:\n",
    "        mebitda['2021'] = np.NaN\n",
    "    try:    \n",
    "        mebitda['2020'] = r['data'][21]['ranks'][3]['value_F']\n",
    "    except:\n",
    "        mebitda['2020'] = np.NaN\n",
    "    try:    \n",
    "        mebitda['2019'] = r['data'][21]['ranks'][4]['value_F']\n",
    "    except:\n",
    "        mebitda['2019'] = np.NaN\n",
    "    try:    \n",
    "        mebitda['2018'] = r['data'][21]['ranks'][5]['value_F']\n",
    "    except:\n",
    "        mebitda['2018'] = np.NaN\n",
    "    try:    \n",
    "        mebitda['2017'] = r['data'][21]['ranks'][6]['value_F']\n",
    "    except:\n",
    "        mebitda['2017'] = np.NaN\n",
    "    try:    \n",
    "        mebitda['2016'] = r['data'][21]['ranks'][7]['value_F']\n",
    "    except:\n",
    "        mebitda['2016'] = np.NaN    \n",
    "    try:    \n",
    "        mebitda['2015'] = r['data'][21]['ranks'][8]['value_F']\n",
    "    except:\n",
    "        mebitda['2015'] = np.NaN\n",
    "    try:    \n",
    "        mebitda['2014'] = r['data'][21]['ranks'][9]['value_F']\n",
    "    except:\n",
    "        mebitda['2014'] = np.NaN\n",
    "    try:    \n",
    "        mebitda['2013'] = r['data'][21]['ranks'][10]['value_F']\n",
    "    except:\n",
    "        mebitda['2013'] = np.NaN\n",
    "    try:    \n",
    "        mebitda['2012'] = r['data'][21]['ranks'][11]['value_F']\n",
    "    except:\n",
    "        mebitda['2012'] = np.NaN    \n",
    "    try:    \n",
    "        mebitda['2011'] = r['data'][21]['ranks'][12]['value_F']\n",
    "    except:\n",
    "        mebitda['2011'] = np.NaN\n",
    "\n",
    "\n",
    "    # Adicionando resultado a lista de cards\n",
    "    mebitdas.append(mebitda)\n",
    "\n",
    "# Criando um DataFrame com os resultados\n",
    "m_ebitda = pd.DataFrame(mebitdas)\n",
    "m_ebitda.rename(index = index_tickers, inplace = True)"
   ],
   "block_group": "0ad7e0a0c15c457aa899ea64f86eef91",
   "execution_count": 139,
   "outputs": [
    {
     "name": "stdout",
     "output_type": "stream",
     "text": [
      "0.BBAS3\n"
     ]
    }
   ]
  },
  {
   "cell_type": "markdown",
   "metadata": {
    "formattedRanges": [],
    "cell_id": "01c9afb158424c44a6870382bf46f814",
    "deepnote_cell_type": "text-cell-h2",
    "ExecuteTime": {
     "start_time": "2023-09-05T20:09:39.660822Z"
    }
   },
   "source": [
    "## M.EBIT"
   ],
   "block_group": "01c9afb158424c44a6870382bf46f814"
  },
  {
   "cell_type": "code",
   "metadata": {
    "source_hash": null,
    "is_code_hidden": false,
    "execution_start": 1693087336648,
    "execution_millis": 85324,
    "is_output_hidden": false,
    "deepnote_to_be_reexecuted": false,
    "deepnote_app_is_code_hidden": true,
    "deepnote_app_is_output_hidden": true,
    "cell_id": "ee914e5d0b8b4302b739c16a95aa6b8b",
    "deepnote_cell_type": "code",
    "ExecuteTime": {
     "end_time": "2023-09-15T18:31:07.604636Z",
     "start_time": "2023-09-15T18:31:07.206741Z"
    }
   },
   "source": [
    "# dicionario com todas as ações por linha a serem substituidas\n",
    "index_stocks = []\n",
    "index_tickers = {}\n",
    "for i, v in zip((range(len(tick_list))), tick_list):\n",
    "    index_tickers[i] = v\n",
    "    index_stocks.append(index_tickers)\n",
    "#index_tickers\n",
    "\n",
    "url = 'https://statusinvest.com.br/acoes/busca-avancada'\n",
    "\n",
    "mebits = []\n",
    "\n",
    "url = 'https://statusinvest.com.br/acoes/'\n",
    "\n",
    "for i, v in zip(tick_list, (range(len(tick_list)))):\n",
    "    print(f'{v}.{i}') \n",
    "\n",
    "    headers = {\n",
    "        'authority': 'statusinvest.com.br',\n",
    "        'sec-ch-ua': '\\\"Google Chrome\\\";v=\\\"116\\\", \\\"Chromium\\\";v=\\\"116\\\", \\\";Not A Brand\\\";v=\\\"99\\\"',\n",
    "        'accept': '*/*',\n",
    "        'x-requested-with': 'XMLHttpRequest',\n",
    "        'sec-ch-ua-mobile': '?0',\n",
    "        'user-agent': 'Mozilla/5.0 (Windows NT 10.0; Win64; x64) AppleWebKit/537.36 (KHTML, like Gecko) Chrome/116.0.0.0 Safari/537.36',\n",
    "        'content-type': 'application/x-www-form-urlencoded; charset=UTF-8',\n",
    "        'origin': 'https://statusinvest.com.br',\n",
    "        'sec-fetch-site': 'same-origin',\n",
    "        'sec-fetch-mode': 'cors',\n",
    "        'sec-fetch-dest': 'empty',\n",
    "        'referer': url + str(i),\n",
    "        'accept-language': 'pt-BR,pt;q=0.9,en-US;q=0.8,en;q=0.7',\n",
    "        'cookie': '_adasys=e2299e4d-38b0-48c7-91be-a844fb91e62c; _ga=GA1.3.1768435062.1608297004; G_ENABLED_IDPS=google; __cfduid=d96cf593e372b319fd9ac85a0385fd3971614276176; denakop_freq={}; _gid=GA1.3.490929924.1615153324; __cf_bm=ccb5439cbc002734ed38f28e7c99677ec0b5afff-1615325452-1800-AWbw2mlOXKHt6BZ0dybIWT1O8Z4S9u6Mv7pm7/qkTNvQPFa+jTjP1n06mQmPXqmE938CAjZonuuP2B6noCkuoBpP5ouTIc/MWeUoxtuhdKfJ05v24zpwzU/CpAosevhANA==; _gat_gtag_UA_142136095_1=1',\n",
    "    }   \n",
    "\n",
    "    data = {\n",
    "        'ticker': str(i),\n",
    "        'time': '5'\n",
    "    }\n",
    "\n",
    "    response = requests.post('https://statusinvest.com.br/acao/indicatorhistorical', headers=headers, data=data)\n",
    "\n",
    "    \n",
    "    try:\n",
    "        r = response.json()\n",
    "    except json.JSONDecodeError as e:\n",
    "        print(f\"Error decoding JSON: {e}\")\n",
    "        exit(1)\n",
    "    \n",
    "\n",
    "    # Coletando informações para DataFrame\n",
    "    mebit = {}\n",
    "    \n",
    "    \n",
    "    c = requests.get(url + str(i)).content\n",
    "    soup = BeautifulSoup(c)\n",
    "\n",
    "\n",
    "       ### INDICADORES DE VALUATION ###\n",
    "\n",
    "    try:    \n",
    "        mebit['M.EBIT'] = r['data'][22]['ranks'][0]['value_F']\n",
    "    except:\n",
    "        mebit['M.EBIT'] = np.NaN\n",
    "    try:    \n",
    "        mebit['2022'] = r['data'][22]['ranks'][1]['value_F']\n",
    "    except:\n",
    "        mebit['2022'] = np.NaN\n",
    "    try:    \n",
    "        mebit['2021'] = r['data'][22]['ranks'][2]['value_F']\n",
    "    except:\n",
    "        mebit['2021'] = np.NaN\n",
    "    try:    \n",
    "        mebit['2020'] = r['data'][22]['ranks'][3]['value_F']\n",
    "    except:\n",
    "        mebit['2020'] = np.NaN\n",
    "    try:    \n",
    "        mebit['2019'] = r['data'][22]['ranks'][4]['value_F']\n",
    "    except:\n",
    "        mebit['2019'] = np.NaN\n",
    "    try:    \n",
    "        mebit['2018'] = r['data'][22]['ranks'][5]['value_F']\n",
    "    except:\n",
    "        mebit['2018'] = np.NaN\n",
    "    try:    \n",
    "        mebit['2017'] = r['data'][22]['ranks'][6]['value_F']\n",
    "    except:\n",
    "        mebit['2017'] = np.NaN\n",
    "    try:    \n",
    "        mebit['2016'] = r['data'][22]['ranks'][7]['value_F']\n",
    "    except:\n",
    "        mebit['2016'] = np.NaN    \n",
    "    try:    \n",
    "        mebit['2015'] = r['data'][22]['ranks'][8]['value_F']\n",
    "    except:\n",
    "        mebit['2015'] = np.NaN\n",
    "    try:    \n",
    "        mebit['2014'] = r['data'][22]['ranks'][9]['value_F']\n",
    "    except:\n",
    "        mebit['2014'] = np.NaN\n",
    "    try:    \n",
    "        mebit['2013'] = r['data'][22]['ranks'][10]['value_F']\n",
    "    except:\n",
    "        mebit['2013'] = np.NaN\n",
    "    try:    \n",
    "        mebit['2012'] = r['data'][22]['ranks'][11]['value_F']\n",
    "    except:\n",
    "        mebit['2012'] = np.NaN    \n",
    "    try:    \n",
    "        mebit['2011'] = r['data'][22]['ranks'][12]['value_F']\n",
    "    except:\n",
    "        mebit['2011'] = np.NaN\n",
    "\n",
    "    # Adicionando resultado a lista de cards\n",
    "    mebits.append(mebit)\n",
    "\n",
    "# Criando um DataFrame com os resultados\n",
    "m_ebit = pd.DataFrame(mebits)\n",
    "m_ebit.rename(index = index_tickers, inplace = True)"
   ],
   "block_group": "ee914e5d0b8b4302b739c16a95aa6b8b",
   "execution_count": 141,
   "outputs": [
    {
     "name": "stdout",
     "output_type": "stream",
     "text": [
      "0.BBAS3\n"
     ]
    }
   ]
  },
  {
   "cell_type": "markdown",
   "metadata": {
    "formattedRanges": [],
    "cell_id": "585c2377cafd424c81e71b87cb85602a",
    "deepnote_cell_type": "text-cell-h2",
    "ExecuteTime": {
     "start_time": "2023-09-05T20:09:39.681184Z"
    }
   },
   "source": [
    "## M.LIQUIDA"
   ],
   "block_group": "585c2377cafd424c81e71b87cb85602a"
  },
  {
   "cell_type": "code",
   "metadata": {
    "source_hash": null,
    "is_code_hidden": false,
    "execution_start": 1693087421890,
    "execution_millis": 85761,
    "is_output_hidden": false,
    "deepnote_to_be_reexecuted": false,
    "deepnote_app_is_code_hidden": true,
    "deepnote_app_is_output_hidden": true,
    "cell_id": "ba01724e40884d40be7d3e02e1ffc6c3",
    "deepnote_cell_type": "code",
    "ExecuteTime": {
     "end_time": "2023-09-15T18:31:55.234773Z",
     "start_time": "2023-09-15T18:31:54.724886Z"
    }
   },
   "source": [
    "# dicionario com todas as ações por linha a serem substituidas\n",
    "index_stocks = []\n",
    "index_tickers = {}\n",
    "for i, v in zip((range(len(tick_list))), tick_list):\n",
    "    index_tickers[i] = v\n",
    "    index_stocks.append(index_tickers)\n",
    "#index_tickers\n",
    "\n",
    "url = 'https://statusinvest.com.br/acoes/busca-avancada'\n",
    "\n",
    "mliquidas = []\n",
    "\n",
    "url = 'https://statusinvest.com.br/acoes/'\n",
    "\n",
    "for i, v in zip(tick_list, (range(len(tick_list)))):\n",
    "    print(f'{v}.{i}') \n",
    "\n",
    "    headers = {\n",
    "        'authority': 'statusinvest.com.br',\n",
    "        'sec-ch-ua': '\\\"Google Chrome\\\";v=\\\"116\\\", \\\"Chromium\\\";v=\\\"116\\\", \\\";Not A Brand\\\";v=\\\"99\\\"',\n",
    "        'accept': '*/*',\n",
    "        'x-requested-with': 'XMLHttpRequest',\n",
    "        'sec-ch-ua-mobile': '?0',\n",
    "        'user-agent': 'Mozilla/5.0 (Windows NT 10.0; Win64; x64) AppleWebKit/537.36 (KHTML, like Gecko) Chrome/116.0.0.0 Safari/537.36',\n",
    "        'content-type': 'application/x-www-form-urlencoded; charset=UTF-8',\n",
    "        'origin': 'https://statusinvest.com.br',\n",
    "        'sec-fetch-site': 'same-origin',\n",
    "        'sec-fetch-mode': 'cors',\n",
    "        'sec-fetch-dest': 'empty',\n",
    "        'referer': url + str(i),\n",
    "        'accept-language': 'pt-BR,pt;q=0.9,en-US;q=0.8,en;q=0.7',\n",
    "        'cookie': '_adasys=e2299e4d-38b0-48c7-91be-a844fb91e62c; _ga=GA1.3.1768435062.1608297004; G_ENABLED_IDPS=google; __cfduid=d96cf593e372b319fd9ac85a0385fd3971614276176; denakop_freq={}; _gid=GA1.3.490929924.1615153324; __cf_bm=ccb5439cbc002734ed38f28e7c99677ec0b5afff-1615325452-1800-AWbw2mlOXKHt6BZ0dybIWT1O8Z4S9u6Mv7pm7/qkTNvQPFa+jTjP1n06mQmPXqmE938CAjZonuuP2B6noCkuoBpP5ouTIc/MWeUoxtuhdKfJ05v24zpwzU/CpAosevhANA==; _gat_gtag_UA_142136095_1=1',\n",
    "    }   \n",
    "\n",
    "    data = {\n",
    "        'ticker': str(i),\n",
    "        'time': '5'\n",
    "    }\n",
    "\n",
    "    response = requests.post('https://statusinvest.com.br/acao/indicatorhistorical', headers=headers, data=data)\n",
    "\n",
    "    \n",
    "    try:\n",
    "        r = response.json()\n",
    "    except json.JSONDecodeError as e:\n",
    "        print(f\"Error decoding JSON: {e}\")\n",
    "        exit(1)\n",
    "    \n",
    "\n",
    "    # Coletando informações para DataFrame\n",
    "    mliquida = {}\n",
    "    \n",
    "    \n",
    "    c = requests.get(url + str(i)).content\n",
    "    soup = BeautifulSoup(c)\n",
    "\n",
    "\n",
    "       ### INDICADORES DE VALUATION ###\n",
    "\n",
    "    try:    \n",
    "        mliquida['M.LÍQUIDA'] = r['data'][23]['ranks'][0]['value_F']\n",
    "    except:\n",
    "        mliquida['M.LÍQUIDA'] = np.NaN\n",
    "    try:    \n",
    "        mliquida['2022'] = r['data'][23]['ranks'][1]['value_F']\n",
    "    except:\n",
    "        mliquida['2022'] = np.NaN\n",
    "    try:    \n",
    "        mliquida['2021'] = r['data'][23]['ranks'][2]['value_F']\n",
    "    except:\n",
    "        mliquida['2021'] = np.NaN\n",
    "    try:    \n",
    "        mliquida['2020'] = r['data'][23]['ranks'][3]['value_F']\n",
    "    except:\n",
    "        mliquida['2020'] = np.NaN\n",
    "    try:    \n",
    "        mliquida['2019'] = r['data'][23]['ranks'][4]['value_F']\n",
    "    except:\n",
    "        mliquida['2019'] = np.NaN\n",
    "    try:    \n",
    "        mliquida['2018'] = r['data'][23]['ranks'][5]['value_F']\n",
    "    except:\n",
    "        mliquida['2018'] = np.NaN\n",
    "    try:    \n",
    "        mliquida['2017'] = r['data'][23]['ranks'][6]['value_F']\n",
    "    except:\n",
    "        mliquida['2017'] = np.NaN\n",
    "    try:    \n",
    "        mliquida['2016'] = r['data'][23]['ranks'][7]['value_F']\n",
    "    except:\n",
    "        mliquida['2016'] = np.NaN    \n",
    "    try:    \n",
    "        mliquida['2015'] = r['data'][23]['ranks'][8]['value_F']\n",
    "    except:\n",
    "        mliquida['2015'] = np.NaN\n",
    "    try:    \n",
    "        mliquida['2014'] = r['data'][23]['ranks'][9]['value_F']\n",
    "    except:\n",
    "        mliquida['2014'] = np.NaN\n",
    "    try:    \n",
    "        mliquida['2013'] = r['data'][23]['ranks'][10]['value_F']\n",
    "    except:\n",
    "        mliquida['2013'] = np.NaN\n",
    "    try:    \n",
    "        mliquida['2012'] = r['data'][23]['ranks'][11]['value_F']\n",
    "    except:\n",
    "        mliquida['2012'] = np.NaN    \n",
    "    try:    \n",
    "        mliquida['2011'] = r['data'][23]['ranks'][12]['value_F']\n",
    "    except:\n",
    "        mliquida['2011'] = np.NaN\n",
    "\n",
    "\n",
    "    # Adicionando resultado a lista de cards\n",
    "    mliquidas.append(mliquida)\n",
    "\n",
    "# Criando um DataFrame com os resultados\n",
    "m_liquida = pd.DataFrame(mliquidas)\n",
    "m_liquida.rename(index = index_tickers, inplace = True)"
   ],
   "block_group": "ba01724e40884d40be7d3e02e1ffc6c3",
   "execution_count": 143,
   "outputs": [
    {
     "name": "stdout",
     "output_type": "stream",
     "text": [
      "0.BBAS3\n"
     ]
    }
   ]
  },
  {
   "cell_type": "markdown",
   "metadata": {
    "formattedRanges": [],
    "cell_id": "f41154102c57449f92cdc2dc14eceb77",
    "deepnote_cell_type": "text-cell-h2",
    "ExecuteTime": {
     "start_time": "2023-09-05T20:09:39.770269Z"
    }
   },
   "source": [
    "## ROE"
   ],
   "block_group": "f41154102c57449f92cdc2dc14eceb77"
  },
  {
   "cell_type": "code",
   "metadata": {
    "source_hash": null,
    "is_code_hidden": false,
    "execution_start": 1693087507679,
    "execution_millis": 86211,
    "is_output_hidden": false,
    "deepnote_to_be_reexecuted": false,
    "deepnote_app_is_code_hidden": true,
    "deepnote_app_is_output_hidden": true,
    "cell_id": "7d7426d391014882ba260e3fcde4dfab",
    "deepnote_cell_type": "code",
    "ExecuteTime": {
     "end_time": "2023-09-15T18:32:45.125163Z",
     "start_time": "2023-09-15T18:32:44.735777Z"
    }
   },
   "source": [
    "# dicionario com todas as ações por linha a serem substituidas\n",
    "index_stocks = []\n",
    "index_tickers = {}\n",
    "for i, v in zip((range(len(tick_list))), tick_list):\n",
    "    index_tickers[i] = v\n",
    "    index_stocks.append(index_tickers)\n",
    "#index_tickers\n",
    "\n",
    "url = 'https://statusinvest.com.br/acoes/busca-avancada'\n",
    "\n",
    "roes = []\n",
    "\n",
    "url = 'https://statusinvest.com.br/acoes/'\n",
    "\n",
    "for i, v in zip(tick_list, (range(len(tick_list)))):\n",
    "    print(f'{v}.{i}') \n",
    "\n",
    "    headers = {\n",
    "        'authority': 'statusinvest.com.br',\n",
    "        'sec-ch-ua': '\\\"Google Chrome\\\";v=\\\"116\\\", \\\"Chromium\\\";v=\\\"116\\\", \\\";Not A Brand\\\";v=\\\"99\\\"',\n",
    "        'accept': '*/*',\n",
    "        'x-requested-with': 'XMLHttpRequest',\n",
    "        'sec-ch-ua-mobile': '?0',\n",
    "        'user-agent': 'Mozilla/5.0 (Windows NT 10.0; Win64; x64) AppleWebKit/537.36 (KHTML, like Gecko) Chrome/116.0.0.0 Safari/537.36',\n",
    "        'content-type': 'application/x-www-form-urlencoded; charset=UTF-8',\n",
    "        'origin': 'https://statusinvest.com.br',\n",
    "        'sec-fetch-site': 'same-origin',\n",
    "        'sec-fetch-mode': 'cors',\n",
    "        'sec-fetch-dest': 'empty',\n",
    "        'referer': url + str(i),\n",
    "        'accept-language': 'pt-BR,pt;q=0.9,en-US;q=0.8,en;q=0.7',\n",
    "        'cookie': '_adasys=e2299e4d-38b0-48c7-91be-a844fb91e62c; _ga=GA1.3.1768435062.1608297004; G_ENABLED_IDPS=google; __cfduid=d96cf593e372b319fd9ac85a0385fd3971614276176; denakop_freq={}; _gid=GA1.3.490929924.1615153324; __cf_bm=ccb5439cbc002734ed38f28e7c99677ec0b5afff-1615325452-1800-AWbw2mlOXKHt6BZ0dybIWT1O8Z4S9u6Mv7pm7/qkTNvQPFa+jTjP1n06mQmPXqmE938CAjZonuuP2B6noCkuoBpP5ouTIc/MWeUoxtuhdKfJ05v24zpwzU/CpAosevhANA==; _gat_gtag_UA_142136095_1=1',\n",
    "    }   \n",
    "\n",
    "    data = {\n",
    "        'ticker': str(i),\n",
    "        'time': '5'\n",
    "    }\n",
    "\n",
    "    response = requests.post('https://statusinvest.com.br/acao/indicatorhistorical', headers=headers, data=data)\n",
    "\n",
    "    \n",
    "    try:\n",
    "        r = response.json()\n",
    "    except json.JSONDecodeError as e:\n",
    "        print(f\"Error decoding JSON: {e}\")\n",
    "        exit(1)\n",
    "    \n",
    "\n",
    "    # Coletando informações para DataFrame\n",
    "    roe = {}\n",
    "    \n",
    "    \n",
    "    c = requests.get(url + str(i)).content\n",
    "    soup = BeautifulSoup(c)\n",
    "\n",
    "\n",
    "       ### INDICADORES DE VALUATION ###\n",
    "\n",
    "    try:    \n",
    "        roe['ROE'] = r['data'][24]['ranks'][0]['value_F']\n",
    "    except:\n",
    "        roe['ROE'] = np.NaN\n",
    "    try:    \n",
    "        roe['2022'] = r['data'][24]['ranks'][1]['value_F']\n",
    "    except:\n",
    "        roe['2022'] = np.NaN\n",
    "    try:    \n",
    "        roe['2021'] = r['data'][24]['ranks'][2]['value_F']\n",
    "    except:\n",
    "        roe['2021'] = np.NaN\n",
    "    try:    \n",
    "        roe['2020'] = r['data'][24]['ranks'][3]['value_F']\n",
    "    except:\n",
    "        roe['2020'] = np.NaN\n",
    "    try:    \n",
    "        roe['2019'] = r['data'][24]['ranks'][4]['value_F']\n",
    "    except:\n",
    "        roe['2019'] = np.NaN\n",
    "    try:    \n",
    "        roe['2018'] = r['data'][24]['ranks'][5]['value_F']\n",
    "    except:\n",
    "        roe['2018'] = np.NaN\n",
    "    try:    \n",
    "        roe['2017'] = r['data'][24]['ranks'][6]['value_F']\n",
    "    except:\n",
    "        roe['2017'] = np.NaN\n",
    "    try:    \n",
    "        roe['2016'] = r['data'][24]['ranks'][7]['value_F']\n",
    "    except:\n",
    "        roe['2016'] = np.NaN    \n",
    "    try:    \n",
    "        roe['2015'] = r['data'][24]['ranks'][8]['value_F']\n",
    "    except:\n",
    "        roe['2015'] = np.NaN\n",
    "    try:    \n",
    "        roe['2014'] = r['data'][24]['ranks'][9]['value_F']\n",
    "    except:\n",
    "        roe['2014'] = np.NaN\n",
    "    try:    \n",
    "        roe['2013'] = r['data'][24]['ranks'][10]['value_F']\n",
    "    except:\n",
    "        roe['2013'] = np.NaN\n",
    "    try:    \n",
    "        roe['2012'] = r['data'][24]['ranks'][11]['value_F']\n",
    "    except:\n",
    "        roe['2012'] = np.NaN    \n",
    "    try:    \n",
    "        roe['2011'] = r['data'][24]['ranks'][12]['value_F']\n",
    "    except:\n",
    "        roe['2011'] = np.NaN\n",
    "\n",
    "\n",
    "    # Adicionando resultado a lista de cards\n",
    "    roes.append(roe)\n",
    "\n",
    "# Criando um DataFrame com os resultados\n",
    "r_roe = pd.DataFrame(roes)\n",
    "r_roe.rename(index = index_tickers, inplace = True)"
   ],
   "block_group": "7d7426d391014882ba260e3fcde4dfab",
   "execution_count": 145,
   "outputs": [
    {
     "name": "stdout",
     "output_type": "stream",
     "text": [
      "0.BBAS3\n"
     ]
    }
   ]
  },
  {
   "cell_type": "markdown",
   "metadata": {
    "formattedRanges": [],
    "cell_id": "02c914c6aca94f58b1221973a3e3c490",
    "deepnote_cell_type": "text-cell-h2",
    "ExecuteTime": {
     "start_time": "2023-09-05T20:09:39.807947Z"
    }
   },
   "source": [
    "## ROA"
   ],
   "block_group": "02c914c6aca94f58b1221973a3e3c490"
  },
  {
   "cell_type": "code",
   "metadata": {
    "source_hash": null,
    "is_code_hidden": false,
    "execution_start": 1693087593786,
    "execution_millis": 85038,
    "is_output_hidden": false,
    "deepnote_to_be_reexecuted": false,
    "deepnote_app_is_code_hidden": true,
    "deepnote_app_is_output_hidden": true,
    "cell_id": "a440927b6ee64c60a2843cd573771df3",
    "deepnote_cell_type": "code",
    "ExecuteTime": {
     "end_time": "2023-09-15T18:33:36.030470Z",
     "start_time": "2023-09-15T18:33:35.660597Z"
    }
   },
   "source": [
    "# dicionario com todas as ações por linha a serem substituidas\n",
    "index_stocks = []\n",
    "index_tickers = {}\n",
    "for i, v in zip((range(len(tick_list))), tick_list):\n",
    "    index_tickers[i] = v\n",
    "    index_stocks.append(index_tickers)\n",
    "#index_tickers\n",
    "\n",
    "url = 'https://statusinvest.com.br/acoes/busca-avancada'\n",
    "\n",
    "roas = []\n",
    "\n",
    "url = 'https://statusinvest.com.br/acoes/'\n",
    "\n",
    "for i, v in zip(tick_list, (range(len(tick_list)))):\n",
    "    print(f'{v}.{i}') \n",
    "\n",
    "    headers = {\n",
    "        'authority': 'statusinvest.com.br',\n",
    "        'sec-ch-ua': '\\\"Google Chrome\\\";v=\\\"116\\\", \\\"Chromium\\\";v=\\\"116\\\", \\\";Not A Brand\\\";v=\\\"99\\\"',\n",
    "        'accept': '*/*',\n",
    "        'x-requested-with': 'XMLHttpRequest',\n",
    "        'sec-ch-ua-mobile': '?0',\n",
    "        'user-agent': 'Mozilla/5.0 (Windows NT 10.0; Win64; x64) AppleWebKit/537.36 (KHTML, like Gecko) Chrome/116.0.0.0 Safari/537.36',\n",
    "        'content-type': 'application/x-www-form-urlencoded; charset=UTF-8',\n",
    "        'origin': 'https://statusinvest.com.br',\n",
    "        'sec-fetch-site': 'same-origin',\n",
    "        'sec-fetch-mode': 'cors',\n",
    "        'sec-fetch-dest': 'empty',\n",
    "        'referer': url + str(i),\n",
    "        'accept-language': 'pt-BR,pt;q=0.9,en-US;q=0.8,en;q=0.7',\n",
    "        'cookie': '_adasys=e2299e4d-38b0-48c7-91be-a844fb91e62c; _ga=GA1.3.1768435062.1608297004; G_ENABLED_IDPS=google; __cfduid=d96cf593e372b319fd9ac85a0385fd3971614276176; denakop_freq={}; _gid=GA1.3.490929924.1615153324; __cf_bm=ccb5439cbc002734ed38f28e7c99677ec0b5afff-1615325452-1800-AWbw2mlOXKHt6BZ0dybIWT1O8Z4S9u6Mv7pm7/qkTNvQPFa+jTjP1n06mQmPXqmE938CAjZonuuP2B6noCkuoBpP5ouTIc/MWeUoxtuhdKfJ05v24zpwzU/CpAosevhANA==; _gat_gtag_UA_142136095_1=1',\n",
    "    }   \n",
    "\n",
    "    data = {\n",
    "        'ticker': str(i),\n",
    "        'time': '5'\n",
    "    }\n",
    "\n",
    "    response = requests.post('https://statusinvest.com.br/acao/indicatorhistorical', headers=headers, data=data)\n",
    "\n",
    "    \n",
    "    try:\n",
    "        r = response.json()\n",
    "    except json.JSONDecodeError as e:\n",
    "        print(f\"Error decoding JSON: {e}\")\n",
    "        exit(1)\n",
    "    \n",
    "\n",
    "    # Coletando informações para DataFrame\n",
    "    roa = {}\n",
    "    \n",
    "    \n",
    "    c = requests.get(url + str(i)).content\n",
    "    soup = BeautifulSoup(c)\n",
    "\n",
    "\n",
    "       ### INDICADORES DE VALUATION ###\n",
    "\n",
    "    try:    \n",
    "        roa['ROA'] = r['data'][25]['ranks'][0]['value_F']\n",
    "    except:\n",
    "        roa['ROA'] = np.NaN\n",
    "    try:    \n",
    "        roa['2022'] = r['data'][25]['ranks'][1]['value_F']\n",
    "    except:\n",
    "        roa['2022'] = np.NaN\n",
    "    try:    \n",
    "        roa['2021'] = r['data'][25]['ranks'][2]['value_F']\n",
    "    except:\n",
    "        roa['2021'] = np.NaN\n",
    "    try:    \n",
    "        roa['2020'] = r['data'][25]['ranks'][3]['value_F']\n",
    "    except:\n",
    "        roa['2020'] = np.NaN\n",
    "    try:    \n",
    "        roa['2019'] = r['data'][25]['ranks'][4]['value_F']\n",
    "    except:\n",
    "        roa['2019'] = np.NaN\n",
    "    try:    \n",
    "        roa['2018'] = r['data'][25]['ranks'][5]['value_F']\n",
    "    except:\n",
    "        roa['2018'] = np.NaN\n",
    "    try:    \n",
    "        roa['2017'] = r['data'][25]['ranks'][6]['value_F']\n",
    "    except:\n",
    "        roa['2017'] = np.NaN\n",
    "    try:    \n",
    "        roa['2016'] = r['data'][25]['ranks'][7]['value_F']\n",
    "    except:\n",
    "        roa['2016'] = np.NaN    \n",
    "    try:    \n",
    "        roa['2015'] = r['data'][25]['ranks'][8]['value_F']\n",
    "    except:\n",
    "        roa['2015'] = np.NaN\n",
    "    try:    \n",
    "        roa['2014'] = r['data'][25]['ranks'][9]['value_F']\n",
    "    except:\n",
    "        roa['2014'] = np.NaN\n",
    "    try:    \n",
    "        roa['2013'] = r['data'][25]['ranks'][10]['value_F']\n",
    "    except:\n",
    "        roa['2013'] = np.NaN\n",
    "    try:    \n",
    "        roa['2012'] = r['data'][25]['ranks'][11]['value_F']\n",
    "    except:\n",
    "        roa['2012'] = np.NaN    \n",
    "    try:    \n",
    "        roa['2011'] = r['data'][25]['ranks'][12]['value_F']\n",
    "    except:\n",
    "        roa['2011'] = np.NaN\n",
    "\n",
    "\n",
    "    # Adicionando resultado a lista de cards\n",
    "    roas.append(roa)\n",
    "\n",
    "# Criando um DataFrame com os resultados\n",
    "r_roa = pd.DataFrame(roas)\n",
    "r_roa.rename(index = index_tickers, inplace = True)"
   ],
   "block_group": "a440927b6ee64c60a2843cd573771df3",
   "execution_count": 147,
   "outputs": [
    {
     "name": "stdout",
     "output_type": "stream",
     "text": [
      "0.BBAS3\n"
     ]
    }
   ]
  },
  {
   "cell_type": "markdown",
   "metadata": {
    "formattedRanges": [],
    "cell_id": "51874e5547e54e60b13dff764717fc70",
    "deepnote_cell_type": "text-cell-h2",
    "ExecuteTime": {
     "start_time": "2023-09-05T20:09:39.856002Z"
    }
   },
   "source": [
    "## ROIC"
   ],
   "block_group": "51874e5547e54e60b13dff764717fc70"
  },
  {
   "cell_type": "code",
   "metadata": {
    "source_hash": null,
    "is_code_hidden": false,
    "execution_start": 1693087678755,
    "execution_millis": 85732,
    "is_output_hidden": false,
    "deepnote_to_be_reexecuted": false,
    "deepnote_app_is_code_hidden": true,
    "deepnote_app_is_output_hidden": true,
    "cell_id": "38dc4071c0cf4155a761b28c201c4200",
    "deepnote_cell_type": "code",
    "ExecuteTime": {
     "end_time": "2023-09-15T18:34:50.750575Z",
     "start_time": "2023-09-15T18:34:50.068486Z"
    }
   },
   "source": [
    "# dicionario com todas as ações por linha a serem substituidas\n",
    "index_stocks = []\n",
    "index_tickers = {}\n",
    "for i, v in zip((range(len(tick_list))), tick_list):\n",
    "    index_tickers[i] = v\n",
    "    index_stocks.append(index_tickers)\n",
    "#index_tickers\n",
    "\n",
    "url = 'https://statusinvest.com.br/acoes/busca-avancada'\n",
    "\n",
    "roics = []\n",
    "\n",
    "url = 'https://statusinvest.com.br/acoes/'\n",
    "\n",
    "for i, v in zip(tick_list, (range(len(tick_list)))):\n",
    "    print(f'{v}.{i}') \n",
    "\n",
    "    headers = {\n",
    "        'authority': 'statusinvest.com.br',\n",
    "        'sec-ch-ua': '\\\"Google Chrome\\\";v=\\\"116\\\", \\\"Chromium\\\";v=\\\"116\\\", \\\";Not A Brand\\\";v=\\\"99\\\"',\n",
    "        'accept': '*/*',\n",
    "        'x-requested-with': 'XMLHttpRequest',\n",
    "        'sec-ch-ua-mobile': '?0',\n",
    "        'user-agent': 'Mozilla/5.0 (Windows NT 10.0; Win64; x64) AppleWebKit/537.36 (KHTML, like Gecko) Chrome/116.0.0.0 Safari/537.36',\n",
    "        'content-type': 'application/x-www-form-urlencoded; charset=UTF-8',\n",
    "        'origin': 'https://statusinvest.com.br',\n",
    "        'sec-fetch-site': 'same-origin',\n",
    "        'sec-fetch-mode': 'cors',\n",
    "        'sec-fetch-dest': 'empty',\n",
    "        'referer': url + str(i),\n",
    "        'accept-language': 'pt-BR,pt;q=0.9,en-US;q=0.8,en;q=0.7',\n",
    "        'cookie': '_adasys=e2299e4d-38b0-48c7-91be-a844fb91e62c; _ga=GA1.3.1768435062.1608297004; G_ENABLED_IDPS=google; __cfduid=d96cf593e372b319fd9ac85a0385fd3971614276176; denakop_freq={}; _gid=GA1.3.490929924.1615153324; __cf_bm=ccb5439cbc002734ed38f28e7c99677ec0b5afff-1615325452-1800-AWbw2mlOXKHt6BZ0dybIWT1O8Z4S9u6Mv7pm7/qkTNvQPFa+jTjP1n06mQmPXqmE938CAjZonuuP2B6noCkuoBpP5ouTIc/MWeUoxtuhdKfJ05v24zpwzU/CpAosevhANA==; _gat_gtag_UA_142136095_1=1',\n",
    "    }   \n",
    "\n",
    "    data = {\n",
    "        'ticker': str(i),\n",
    "        'time': '5'\n",
    "    }\n",
    "\n",
    "    response = requests.post('https://statusinvest.com.br/acao/indicatorhistorical', headers=headers, data=data)\n",
    "\n",
    "    \n",
    "    try:\n",
    "        r = response.json()\n",
    "    except json.JSONDecodeError as e:\n",
    "        print(f\"Error decoding JSON: {e}\")\n",
    "        exit(1)\n",
    "    \n",
    "\n",
    "    # Coletando informações para DataFrame\n",
    "    roic = {}\n",
    "    \n",
    "    \n",
    "    c = requests.get(url + str(i)).content\n",
    "    soup = BeautifulSoup(c)\n",
    "\n",
    "\n",
    "       ### INDICADORES DE VALUATION ###\n",
    "\n",
    "    try:    \n",
    "        roic['ROIC'] = r['data'][26]['ranks'][0]['value_F']\n",
    "    except:\n",
    "        roic['ROIC'] = np.NaN\n",
    "    try:    \n",
    "        roic['2022'] = r['data'][26]['ranks'][1]['value_F']\n",
    "    except:\n",
    "        roic['2022'] = np.NaN\n",
    "    try:    \n",
    "        roic['2021'] = r['data'][26]['ranks'][2]['value_F']\n",
    "    except:\n",
    "        roic['2021'] = np.NaN\n",
    "    try:    \n",
    "        roic['2020'] = r['data'][26]['ranks'][3]['value_F']\n",
    "    except:\n",
    "        roic['2020'] = np.NaN\n",
    "    try:    \n",
    "        roic['2019'] = r['data'][26]['ranks'][4]['value_F']\n",
    "    except:\n",
    "        roic['2019'] = np.NaN\n",
    "    try:    \n",
    "        roic['2018'] = r['data'][26]['ranks'][5]['value_F']\n",
    "    except:\n",
    "        roic['2018'] = np.NaN\n",
    "    try:    \n",
    "        roic['2017'] = r['data'][26]['ranks'][6]['value_F']\n",
    "    except:\n",
    "        roic['2017'] = np.NaN\n",
    "    try:    \n",
    "        roic['2016'] = r['data'][26]['ranks'][7]['value_F']\n",
    "    except:\n",
    "        roic['2016'] = np.NaN    \n",
    "    try:    \n",
    "        roic['2015'] = r['data'][26]['ranks'][8]['value_F']\n",
    "    except:\n",
    "        roic['2015'] = np.NaN\n",
    "    try:    \n",
    "        roic['2014'] = r['data'][26]['ranks'][9]['value_F']\n",
    "    except:\n",
    "        roic['2014'] = np.NaN\n",
    "    try:    \n",
    "        roic['2013'] = r['data'][26]['ranks'][10]['value_F']\n",
    "    except:\n",
    "        roic['2013'] = np.NaN\n",
    "    try:    \n",
    "        roic['2012'] = r['data'][26]['ranks'][11]['value_F']\n",
    "    except:\n",
    "        roic['2012'] = np.NaN    \n",
    "    try:    \n",
    "        roic['2011'] = r['data'][26]['ranks'][12]['value_F']\n",
    "    except:\n",
    "        roic['2011'] = np.NaN\n",
    "\n",
    "\n",
    "    # Adicionando resultado a lista de cards\n",
    "    roics.append(roic)\n",
    "\n",
    "# Criando um DataFrame com os resultados\n",
    "r_roic = pd.DataFrame(roics)\n",
    "r_roic.rename(index = index_tickers, inplace = True)"
   ],
   "block_group": "38dc4071c0cf4155a761b28c201c4200",
   "execution_count": 149,
   "outputs": [
    {
     "name": "stdout",
     "output_type": "stream",
     "text": [
      "0.BBAS3\n"
     ]
    }
   ]
  },
  {
   "cell_type": "markdown",
   "metadata": {
    "formattedRanges": [],
    "cell_id": "f4c81311b60249ab9dcefad58f9c40e7",
    "deepnote_cell_type": "text-cell-h2",
    "ExecuteTime": {
     "start_time": "2023-09-05T20:09:39.909427Z"
    }
   },
   "source": [
    "## GIRO ATIVOS"
   ],
   "block_group": "f4c81311b60249ab9dcefad58f9c40e7"
  },
  {
   "cell_type": "code",
   "metadata": {
    "source_hash": null,
    "is_code_hidden": false,
    "execution_start": 1693087764406,
    "execution_millis": 85588,
    "is_output_hidden": false,
    "deepnote_to_be_reexecuted": false,
    "deepnote_app_is_code_hidden": true,
    "deepnote_app_is_output_hidden": true,
    "cell_id": "c2a0fe0c3f35422ebe30dfe4aab1e2a0",
    "deepnote_cell_type": "code",
    "ExecuteTime": {
     "end_time": "2023-09-15T18:39:25.577198Z",
     "start_time": "2023-09-15T18:39:25.129901Z"
    }
   },
   "source": [
    "# dicionario com todas as ações por linha a serem substituidas\n",
    "index_stocks = []\n",
    "index_tickers = {}\n",
    "for i, v in zip((range(len(tick_list))), tick_list):\n",
    "    index_tickers[i] = v\n",
    "    index_stocks.append(index_tickers)\n",
    "#index_tickers\n",
    "\n",
    "url = 'https://statusinvest.com.br/acoes/busca-avancada'\n",
    "\n",
    "giroativos = []\n",
    "\n",
    "url = 'https://statusinvest.com.br/acoes/'\n",
    "\n",
    "for i, v in zip(tick_list, (range(len(tick_list)))):\n",
    "    print(f'{v}.{i}') \n",
    "\n",
    "    headers = {\n",
    "        'authority': 'statusinvest.com.br',\n",
    "        'sec-ch-ua': '\\\"Google Chrome\\\";v=\\\"116\\\", \\\"Chromium\\\";v=\\\"116\\\", \\\";Not A Brand\\\";v=\\\"99\\\"',\n",
    "        'accept': '*/*',\n",
    "        'x-requested-with': 'XMLHttpRequest',\n",
    "        'sec-ch-ua-mobile': '?0',\n",
    "        'user-agent': 'Mozilla/5.0 (Windows NT 10.0; Win64; x64) AppleWebKit/537.36 (KHTML, like Gecko) Chrome/116.0.0.0 Safari/537.36',\n",
    "        'content-type': 'application/x-www-form-urlencoded; charset=UTF-8',\n",
    "        'origin': 'https://statusinvest.com.br',\n",
    "        'sec-fetch-site': 'same-origin',\n",
    "        'sec-fetch-mode': 'cors',\n",
    "        'sec-fetch-dest': 'empty',\n",
    "        'referer': url + str(i),\n",
    "        'accept-language': 'pt-BR,pt;q=0.9,en-US;q=0.8,en;q=0.7',\n",
    "        'cookie': '_adasys=e2299e4d-38b0-48c7-91be-a844fb91e62c; _ga=GA1.3.1768435062.1608297004; G_ENABLED_IDPS=google; __cfduid=d96cf593e372b319fd9ac85a0385fd3971614276176; denakop_freq={}; _gid=GA1.3.490929924.1615153324; __cf_bm=ccb5439cbc002734ed38f28e7c99677ec0b5afff-1615325452-1800-AWbw2mlOXKHt6BZ0dybIWT1O8Z4S9u6Mv7pm7/qkTNvQPFa+jTjP1n06mQmPXqmE938CAjZonuuP2B6noCkuoBpP5ouTIc/MWeUoxtuhdKfJ05v24zpwzU/CpAosevhANA==; _gat_gtag_UA_142136095_1=1',\n",
    "    }   \n",
    "\n",
    "    data = {\n",
    "        'ticker': str(i),\n",
    "        'time': '5'\n",
    "    }\n",
    "\n",
    "    response = requests.post('https://statusinvest.com.br/acao/indicatorhistorical', headers=headers, data=data)\n",
    "\n",
    "    \n",
    "    try:\n",
    "        r = response.json()\n",
    "    except json.JSONDecodeError as e:\n",
    "        print(f\"Error decoding JSON: {e}\")\n",
    "        exit(1)\n",
    "    \n",
    "\n",
    "    # Coletando informações para DataFrame\n",
    "    giroativo = {}\n",
    "    \n",
    "    \n",
    "    c = requests.get(url + str(i)).content\n",
    "    soup = BeautifulSoup(c)\n",
    "\n",
    "\n",
    "       ### INDICADORES DE VALUATION ###\n",
    "\n",
    "    try:    \n",
    "        giroativo['GIRO ATIVOS'] = r['data'][27]['ranks'][0]['value_F']\n",
    "    except:\n",
    "        giroativo['GIRO ATIVOS'] = np.NaN\n",
    "    try:    \n",
    "        giroativo['2022'] = r['data'][27]['ranks'][1]['value_F']\n",
    "    except:\n",
    "        giroativo['2022'] = np.NaN\n",
    "    try:    \n",
    "        giroativo['2021'] = r['data'][27]['ranks'][2]['value_F']\n",
    "    except:\n",
    "        giroativo['2021'] = np.NaN\n",
    "    try:    \n",
    "        giroativo['2020'] = r['data'][27]['ranks'][3]['value_F']\n",
    "    except:\n",
    "        giroativo['2020'] = np.NaN\n",
    "    try:    \n",
    "        giroativo['2019'] = r['data'][27]['ranks'][4]['value_F']\n",
    "    except:\n",
    "        giroativo['2019'] = np.NaN\n",
    "    try:    \n",
    "        giroativo['2018'] = r['data'][27]['ranks'][5]['value_F']\n",
    "    except:\n",
    "        giroativo['2018'] = np.NaN\n",
    "    try:    \n",
    "        giroativo['2017'] = r['data'][27]['ranks'][6]['value_F']\n",
    "    except:\n",
    "        giroativo['2017'] = np.NaN\n",
    "    try:    \n",
    "        giroativo['2016'] = r['data'][27]['ranks'][7]['value_F']\n",
    "    except:\n",
    "        giroativo['2016'] = np.NaN    \n",
    "    try:    \n",
    "        giroativo['2015'] = r['data'][27]['ranks'][8]['value_F']\n",
    "    except:\n",
    "        giroativo['2015'] = np.NaN\n",
    "    try:    \n",
    "        giroativo['2014'] = r['data'][27]['ranks'][9]['value_F']\n",
    "    except:\n",
    "        giroativo['2014'] = np.NaN\n",
    "    try:    \n",
    "        giroativo['2013'] = r['data'][27]['ranks'][10]['value_F']\n",
    "    except:\n",
    "        giroativo['2013'] = np.NaN\n",
    "    try:    \n",
    "        giroativo['2012'] = r['data'][27]['ranks'][11]['value_F']\n",
    "    except:\n",
    "        giroativo['2012'] = np.NaN    \n",
    "    try:    \n",
    "        giroativo['2011'] = r['data'][27]['ranks'][12]['value_F']\n",
    "    except:\n",
    "        giroativo['2011'] = np.NaN\n",
    "\n",
    "\n",
    "    # Adicionando resultado a lista de cards\n",
    "    giroativos.append(giroativo)\n",
    "\n",
    "# Criando um DataFrame com os resultados\n",
    "giro_ativo = pd.DataFrame(giroativos)\n",
    "giro_ativo.rename(index = index_tickers, inplace = True)"
   ],
   "block_group": "c2a0fe0c3f35422ebe30dfe4aab1e2a0",
   "execution_count": 151,
   "outputs": [
    {
     "name": "stdout",
     "output_type": "stream",
     "text": [
      "0.BBAS3\n"
     ]
    }
   ]
  },
  {
   "cell_type": "markdown",
   "metadata": {
    "formattedRanges": [],
    "cell_id": "a2b2b821a4f748ca8be9c7b6be4b8c5d",
    "deepnote_cell_type": "text-cell-h2",
    "ExecuteTime": {
     "start_time": "2023-09-05T20:09:39.935574Z"
    }
   },
   "source": [
    "## CAGR RECEITAS 5 ANOS"
   ],
   "block_group": "a2b2b821a4f748ca8be9c7b6be4b8c5d"
  },
  {
   "cell_type": "code",
   "metadata": {
    "source_hash": null,
    "is_code_hidden": false,
    "execution_start": 1693087849906,
    "execution_millis": 85613,
    "is_output_hidden": false,
    "deepnote_to_be_reexecuted": false,
    "deepnote_app_is_code_hidden": true,
    "deepnote_app_is_output_hidden": true,
    "cell_id": "1fa823031dc84d2caac559533750dd85",
    "deepnote_cell_type": "code",
    "ExecuteTime": {
     "end_time": "2023-09-15T18:44:31.291011Z",
     "start_time": "2023-09-15T18:44:30.856182Z"
    }
   },
   "source": [
    "# dicionario com todas as ações por linha a serem substituidas\n",
    "index_stocks = []\n",
    "index_tickers = {}\n",
    "for i, v in zip((range(len(tick_list))), tick_list):\n",
    "    index_tickers[i] = v\n",
    "    index_stocks.append(index_tickers)\n",
    "#index_tickers\n",
    "\n",
    "url = 'https://statusinvest.com.br/acoes/busca-avancada'\n",
    "\n",
    "gagrrec5s = []\n",
    "\n",
    "url = 'https://statusinvest.com.br/acoes/'\n",
    "\n",
    "for i, v in zip(tick_list, (range(len(tick_list)))):\n",
    "    print(f'{v}.{i}') \n",
    "\n",
    "    headers = {\n",
    "        'authority': 'statusinvest.com.br',\n",
    "        'sec-ch-ua': '\\\"Google Chrome\\\";v=\\\"116\\\", \\\"Chromium\\\";v=\\\"116\\\", \\\";Not A Brand\\\";v=\\\"99\\\"',\n",
    "        'accept': '*/*',\n",
    "        'x-requested-with': 'XMLHttpRequest',\n",
    "        'sec-ch-ua-mobile': '?0',\n",
    "        'user-agent': 'Mozilla/5.0 (Windows NT 10.0; Win64; x64) AppleWebKit/537.36 (KHTML, like Gecko) Chrome/116.0.0.0 Safari/537.36',\n",
    "        'content-type': 'application/x-www-form-urlencoded; charset=UTF-8',\n",
    "        'origin': 'https://statusinvest.com.br',\n",
    "        'sec-fetch-site': 'same-origin',\n",
    "        'sec-fetch-mode': 'cors',\n",
    "        'sec-fetch-dest': 'empty',\n",
    "        'referer': url + str(i),\n",
    "        'accept-language': 'pt-BR,pt;q=0.9,en-US;q=0.8,en;q=0.7',\n",
    "        'cookie': '_adasys=e2299e4d-38b0-48c7-91be-a844fb91e62c; _ga=GA1.3.1768435062.1608297004; G_ENABLED_IDPS=google; __cfduid=d96cf593e372b319fd9ac85a0385fd3971614276176; denakop_freq={}; _gid=GA1.3.490929924.1615153324; __cf_bm=ccb5439cbc002734ed38f28e7c99677ec0b5afff-1615325452-1800-AWbw2mlOXKHt6BZ0dybIWT1O8Z4S9u6Mv7pm7/qkTNvQPFa+jTjP1n06mQmPXqmE938CAjZonuuP2B6noCkuoBpP5ouTIc/MWeUoxtuhdKfJ05v24zpwzU/CpAosevhANA==; _gat_gtag_UA_142136095_1=1',\n",
    "    }   \n",
    "\n",
    "    data = {\n",
    "        'ticker': str(i),\n",
    "        'time': '5'\n",
    "    }\n",
    "\n",
    "    response = requests.post('https://statusinvest.com.br/acao/indicatorhistorical', headers=headers, data=data)\n",
    "\n",
    "    \n",
    "    try:\n",
    "        r = response.json()\n",
    "    except json.JSONDecodeError as e:\n",
    "        print(f\"Error decoding JSON: {e}\")\n",
    "        exit(1)\n",
    "    \n",
    "\n",
    "    # Coletando informações para DataFrame\n",
    "    gagrrec5 = {}\n",
    "    \n",
    "    \n",
    "    c = requests.get(url + str(i)).content\n",
    "    soup = BeautifulSoup(c)\n",
    "\n",
    "\n",
    "       ### INDICADORES DE VALUATION ###\n",
    "\n",
    "    try:    \n",
    "        gagrrec5['CAGR RECEITAS 5 ANOS'] = r['data'][28]['ranks'][0]['value_F']\n",
    "    except:\n",
    "        gagrrec5['CAGR RECEITAS 5 ANOS'] = np.NaN\n",
    "    try:    \n",
    "        gagrrec5['2022'] = r['data'][28]['ranks'][1]['value_F']\n",
    "    except:\n",
    "        gagrrec5['2022'] = np.NaN\n",
    "    try:    \n",
    "        gagrrec5['2021'] = r['data'][28]['ranks'][2]['value_F']\n",
    "    except:\n",
    "        gagrrec5['2021'] = np.NaN\n",
    "    try:    \n",
    "        gagrrec5['2020'] = r['data'][28]['ranks'][3]['value_F']\n",
    "    except:\n",
    "        gagrrec5['2020'] = np.NaN\n",
    "    try:    \n",
    "        gagrrec5['2019'] = r['data'][28]['ranks'][4]['value_F']\n",
    "    except:\n",
    "        gagrrec5['2019'] = np.NaN\n",
    "    try:    \n",
    "        gagrrec5['2018'] = r['data'][28]['ranks'][5]['value_F']\n",
    "    except:\n",
    "        gagrrec5['2018'] = np.NaN\n",
    "    try:    \n",
    "        gagrrec5['2017'] = r['data'][28]['ranks'][6]['value_F']\n",
    "    except:\n",
    "        gagrrec5['2017'] = np.NaN\n",
    "    try:    \n",
    "        gagrrec5['2016'] = r['data'][28]['ranks'][7]['value_F']\n",
    "    except:\n",
    "        gagrrec5['2016'] = np.NaN    \n",
    "    try:    \n",
    "        gagrrec5['2015'] = r['data'][28]['ranks'][8]['value_F']\n",
    "    except:\n",
    "        gagrrec5['2015'] = np.NaN\n",
    "    try:    \n",
    "        gagrrec5['2014'] = r['data'][28]['ranks'][9]['value_F']\n",
    "    except:\n",
    "        gagrrec5['2014'] = np.NaN\n",
    "    try:    \n",
    "        gagrrec5['2013'] = r['data'][28]['ranks'][10]['value_F']\n",
    "    except:\n",
    "        gagrrec5['2013'] = np.NaN\n",
    "    try:    \n",
    "        gagrrec5['2012'] = r['data'][28]['ranks'][11]['value_F']\n",
    "    except:\n",
    "        gagrrec5['2012'] = np.NaN    \n",
    "    try:    \n",
    "        gagrrec5['2011'] = r['data'][28]['ranks'][12]['value_F']\n",
    "    except:\n",
    "        gagrrec5['2011'] = np.NaN\n",
    "\n",
    "    # Adicionando resultado a lista de cards\n",
    "    gagrrec5s.append(gagrrec5)\n",
    "\n",
    "# Criando um DataFrame com os resultados\n",
    "gagr_rec5 = pd.DataFrame(gagrrec5s)\n",
    "gagr_rec5.rename(index = index_tickers, inplace = True)"
   ],
   "block_group": "1fa823031dc84d2caac559533750dd85",
   "execution_count": 153,
   "outputs": [
    {
     "name": "stdout",
     "output_type": "stream",
     "text": [
      "0.BBAS3\n"
     ]
    }
   ]
  },
  {
   "cell_type": "markdown",
   "metadata": {
    "formattedRanges": [],
    "cell_id": "3b5843383a6c4130b122abd9ca8c11eb",
    "deepnote_cell_type": "text-cell-h2",
    "ExecuteTime": {
     "start_time": "2023-09-05T20:09:39.969949Z"
    }
   },
   "source": [
    "## CAGR LUCROS 5 ANOS"
   ],
   "block_group": "3b5843383a6c4130b122abd9ca8c11eb"
  },
  {
   "cell_type": "code",
   "metadata": {
    "source_hash": null,
    "is_code_hidden": false,
    "execution_start": 1693087935405,
    "execution_millis": 85768,
    "is_output_hidden": false,
    "deepnote_to_be_reexecuted": false,
    "deepnote_app_is_code_hidden": true,
    "deepnote_app_is_output_hidden": true,
    "cell_id": "4b7d8fceb42940249b35acfe8b402a7f",
    "deepnote_cell_type": "code",
    "ExecuteTime": {
     "end_time": "2023-09-15T20:20:31.885654Z",
     "start_time": "2023-09-15T20:20:31.423858Z"
    }
   },
   "source": [
    "# dicionario com todas as ações por linha a serem substituidas\n",
    "index_stocks = []\n",
    "index_tickers = {}\n",
    "for i, v in zip((range(len(tick_list))), tick_list):\n",
    "    index_tickers[i] = v\n",
    "    index_stocks.append(index_tickers)\n",
    "#index_tickers\n",
    "\n",
    "url = 'https://statusinvest.com.br/acoes/busca-avancada'\n",
    "\n",
    "cagrlucro5s = []\n",
    "\n",
    "url = 'https://statusinvest.com.br/acoes/'\n",
    "\n",
    "for i, v in zip(tick_list, (range(len(tick_list)))):\n",
    "    print(f'{v}.{i}') \n",
    "\n",
    "    headers = {\n",
    "        'authority': 'statusinvest.com.br',\n",
    "        'sec-ch-ua': '\\\"Google Chrome\\\";v=\\\"116\\\", \\\"Chromium\\\";v=\\\"116\\\", \\\";Not A Brand\\\";v=\\\"99\\\"',\n",
    "        'accept': '*/*',\n",
    "        'x-requested-with': 'XMLHttpRequest',\n",
    "        'sec-ch-ua-mobile': '?0',\n",
    "        'user-agent': 'Mozilla/5.0 (Windows NT 10.0; Win64; x64) AppleWebKit/537.36 (KHTML, like Gecko) Chrome/116.0.0.0 Safari/537.36',\n",
    "        'content-type': 'application/x-www-form-urlencoded; charset=UTF-8',\n",
    "        'origin': 'https://statusinvest.com.br',\n",
    "        'sec-fetch-site': 'same-origin',\n",
    "        'sec-fetch-mode': 'cors',\n",
    "        'sec-fetch-dest': 'empty',\n",
    "        'referer': url + str(i),\n",
    "        'accept-language': 'pt-BR,pt;q=0.9,en-US;q=0.8,en;q=0.7',\n",
    "        'cookie': '_adasys=e2299e4d-38b0-48c7-91be-a844fb91e62c; _ga=GA1.3.1768435062.1608297004; G_ENABLED_IDPS=google; __cfduid=d96cf593e372b319fd9ac85a0385fd3971614276176; denakop_freq={}; _gid=GA1.3.490929924.1615153324; __cf_bm=ccb5439cbc002734ed38f28e7c99677ec0b5afff-1615325452-1800-AWbw2mlOXKHt6BZ0dybIWT1O8Z4S9u6Mv7pm7/qkTNvQPFa+jTjP1n06mQmPXqmE938CAjZonuuP2B6noCkuoBpP5ouTIc/MWeUoxtuhdKfJ05v24zpwzU/CpAosevhANA==; _gat_gtag_UA_142136095_1=1',\n",
    "    }   \n",
    "\n",
    "    data = {\n",
    "        'ticker': str(i),\n",
    "        'time': '5'\n",
    "    }\n",
    "\n",
    "    response = requests.post('https://statusinvest.com.br/acao/indicatorhistorical', headers=headers, data=data)\n",
    "\n",
    "    \n",
    "    try:\n",
    "        r = response.json()\n",
    "    except json.JSONDecodeError as e:\n",
    "        print(f\"Error decoding JSON: {e}\")\n",
    "        exit(1)\n",
    "    \n",
    "\n",
    "    # Coletando informações para DataFrame\n",
    "    cagrlucro5 = {}\n",
    "    \n",
    "    \n",
    "    c = requests.get(url + str(i)).content\n",
    "    soup = BeautifulSoup(c)\n",
    "\n",
    "\n",
    "       ### INDICADORES DE VALUATION ###\n",
    "\n",
    "    try:    \n",
    "        cagrlucro5['CAGR LUCROS 5 ANOS'] = r['data'][29]['ranks'][0]['value_F']\n",
    "    except:\n",
    "        cagrlucro5['CAGR LUCROS 5 ANOS'] = np.NaN\n",
    "    try:    \n",
    "        cagrlucro5['2022'] = r['data'][29]['ranks'][1]['value_F']\n",
    "    except:\n",
    "        cagrlucro5['2022'] = np.NaN\n",
    "    try:    \n",
    "        cagrlucro5['2021'] = r['data'][29]['ranks'][2]['value_F']\n",
    "    except:\n",
    "        cagrlucro5['2021'] = np.NaN\n",
    "    try:    \n",
    "        cagrlucro5['2020'] = r['data'][29]['ranks'][3]['value_F']\n",
    "    except:\n",
    "        cagrlucro5['2020'] = np.NaN\n",
    "    try:    \n",
    "        cagrlucro5['2019'] = r['data'][29]['ranks'][4]['value_F']\n",
    "    except:\n",
    "        cagrlucro5['2019'] = np.NaN\n",
    "    try:    \n",
    "        cagrlucro5['2018'] = r['data'][29]['ranks'][5]['value_F']\n",
    "    except:\n",
    "        cagrlucro5['2018'] = np.NaN\n",
    "    try:    \n",
    "        cagrlucro5['2017'] = r['data'][29]['ranks'][6]['value_F']\n",
    "    except:\n",
    "        cagrlucro5['2017'] = np.NaN\n",
    "    try:    \n",
    "        cagrlucro5['2016'] = r['data'][29]['ranks'][7]['value_F']\n",
    "    except:\n",
    "        cagrlucro5['2016'] = np.NaN    \n",
    "    try:    \n",
    "        cagrlucro5['2015'] = r['data'][29]['ranks'][8]['value_F']\n",
    "    except:\n",
    "        cagrlucro5['2015'] = np.NaN\n",
    "    try:    \n",
    "        cagrlucro5['2014'] = r['data'][29]['ranks'][9]['value_F']\n",
    "    except:\n",
    "        cagrlucro5['2014'] = np.NaN\n",
    "    try:    \n",
    "        cagrlucro5['2013'] = r['data'][29]['ranks'][10]['value_F']\n",
    "    except:\n",
    "        cagrlucro5['2013'] = np.NaN\n",
    "    try:    \n",
    "        cagrlucro5['2012'] = r['data'][29]['ranks'][11]['value_F']\n",
    "    except:\n",
    "        cagrlucro5['2012'] = np.NaN    \n",
    "    try:    \n",
    "        cagrlucro5['2011'] = r['data'][29]['ranks'][12]['value_F']\n",
    "    except:\n",
    "        cagrlucro5['2011'] = np.NaN\n",
    "\n",
    "    # Adicionando resultado a lista de cards\n",
    "    cagrlucro5s.append(cagrlucro5)\n",
    "\n",
    "# Criando e Preparando um DataFrame com os resultados\n",
    "cagr_lucro5 = pd.DataFrame(cagrlucro5s)\n",
    "cagr_lucro5.rename(index = index_tickers, inplace = True)\n",
    "cagr_lucro5.index.name = 'TICKERS'\n",
    "\n",
    "cagr_lucro5 = cagr_lucro5.replace('-%', '')\n",
    "cagr_lucro5 = cagr_lucro5.replace('-', '')\n",
    "\n",
    "cagr_lucro5['CAGR LUCROS 5 ANOS'] = (cagr_lucro5['CAGR LUCROS 5 ANOS']).str.rstrip('%')\n",
    "cagr_lucro5['2022'] = (cagr_lucro5['2022']).str.rstrip('%')\n",
    "cagr_lucro5['2021'] = (cagr_lucro5['2021']).str.rstrip('%')\n",
    "cagr_lucro5['2020'] = (cagr_lucro5['2020']).str.rstrip('%')\n",
    "cagr_lucro5['2019'] = (cagr_lucro5['2019']).str.rstrip('%')\n",
    "cagr_lucro5['2018'] = (cagr_lucro5['2018']).str.rstrip('%')\n",
    "cagr_lucro5['2017'] = (cagr_lucro5['2017']).str.rstrip('%')\n",
    "cagr_lucro5['2016'] = (cagr_lucro5['2016']).str.rstrip('%')\n",
    "cagr_lucro5['2015'] = (cagr_lucro5['2015']).str.rstrip('%')\n",
    "cagr_lucro5['2014'] = (cagr_lucro5['2014']).str.rstrip('%')\n",
    "cagr_lucro5['2013'] = (cagr_lucro5['2013']).str.rstrip('%')\n",
    "cagr_lucro5['2012'] = (cagr_lucro5['2012']).str.rstrip('%')\n",
    "cagr_lucro5['2011'] = (cagr_lucro5['2011']).str.rstrip('%')\n",
    "\n",
    "cagr_lucro5.to_csv(\"cagr_lucro5.csv\")\n",
    "cagr_lucro5 = pd.read_csv(\"cagr_lucro5.csv\", sep=',', decimal=',', thousands='.', encoding='ISO-8859-1' )\n",
    "os.remove(\"cagr_lucro5.csv\")\n",
    "\n",
    "cagr_lucro5.fillna(value=0, inplace=True)"
   ],
   "block_group": "4b7d8fceb42940249b35acfe8b402a7f",
   "execution_count": 254,
   "outputs": [
    {
     "name": "stdout",
     "output_type": "stream",
     "text": [
      "0.BBAS3\n"
     ]
    }
   ]
  },
  {
   "cell_type": "code",
   "execution_count": 257,
   "outputs": [
    {
     "data": {
      "text/plain": "  TICKERS  CAGR LUCROS 5 ANOS   2022   2021  2020  2019  2018  2017   2016  \\\n0   BBAS3               25.08  22.94  22.92 -1.13  6.71  5.78 -1.12 -11.14   \n\n   2015  2014  2013  2012  2011  \n0  4.49 -2.49   0.0   0.0   0.0  ",
      "text/html": "<div>\n<style scoped>\n    .dataframe tbody tr th:only-of-type {\n        vertical-align: middle;\n    }\n\n    .dataframe tbody tr th {\n        vertical-align: top;\n    }\n\n    .dataframe thead th {\n        text-align: right;\n    }\n</style>\n<table border=\"1\" class=\"dataframe\">\n  <thead>\n    <tr style=\"text-align: right;\">\n      <th></th>\n      <th>TICKERS</th>\n      <th>CAGR LUCROS 5 ANOS</th>\n      <th>2022</th>\n      <th>2021</th>\n      <th>2020</th>\n      <th>2019</th>\n      <th>2018</th>\n      <th>2017</th>\n      <th>2016</th>\n      <th>2015</th>\n      <th>2014</th>\n      <th>2013</th>\n      <th>2012</th>\n      <th>2011</th>\n    </tr>\n  </thead>\n  <tbody>\n    <tr>\n      <th>0</th>\n      <td>BBAS3</td>\n      <td>25.08</td>\n      <td>22.94</td>\n      <td>22.92</td>\n      <td>-1.13</td>\n      <td>6.71</td>\n      <td>5.78</td>\n      <td>-1.12</td>\n      <td>-11.14</td>\n      <td>4.49</td>\n      <td>-2.49</td>\n      <td>0.0</td>\n      <td>0.0</td>\n      <td>0.0</td>\n    </tr>\n  </tbody>\n</table>\n</div>"
     },
     "execution_count": 257,
     "metadata": {},
     "output_type": "execute_result"
    }
   ],
   "source": [
    "cagr_lucro5"
   ],
   "metadata": {
    "collapsed": false,
    "ExecuteTime": {
     "end_time": "2023-09-15T20:21:09.704890Z",
     "start_time": "2023-09-15T20:21:09.585288Z"
    }
   }
  },
  {
   "cell_type": "code",
   "execution_count": 276,
   "outputs": [
    {
     "data": {
      "application/vnd.plotly.v1+json": {
       "data": [
        {
         "hovertemplate": "variable=2022<br>value=%{x}<br>index=%{y}<extra></extra>",
         "legendgroup": "2022",
         "line": {
          "color": "#636efa",
          "dash": "solid"
         },
         "marker": {
          "symbol": "circle"
         },
         "mode": "lines",
         "name": "2022",
         "orientation": "h",
         "showlegend": true,
         "x": [
          22.94
         ],
         "xaxis": "x",
         "y": [
          0
         ],
         "yaxis": "y",
         "type": "scatter"
        },
        {
         "hovertemplate": "variable=2021<br>value=%{x}<br>index=%{y}<extra></extra>",
         "legendgroup": "2021",
         "line": {
          "color": "#EF553B",
          "dash": "solid"
         },
         "marker": {
          "symbol": "circle"
         },
         "mode": "lines",
         "name": "2021",
         "orientation": "h",
         "showlegend": true,
         "x": [
          22.92
         ],
         "xaxis": "x",
         "y": [
          0
         ],
         "yaxis": "y",
         "type": "scatter"
        },
        {
         "hovertemplate": "variable=2020<br>value=%{x}<br>index=%{y}<extra></extra>",
         "legendgroup": "2020",
         "line": {
          "color": "#00cc96",
          "dash": "solid"
         },
         "marker": {
          "symbol": "circle"
         },
         "mode": "lines",
         "name": "2020",
         "orientation": "h",
         "showlegend": true,
         "x": [
          -1.13
         ],
         "xaxis": "x",
         "y": [
          0
         ],
         "yaxis": "y",
         "type": "scatter"
        },
        {
         "hovertemplate": "variable=2019<br>value=%{x}<br>index=%{y}<extra></extra>",
         "legendgroup": "2019",
         "line": {
          "color": "#ab63fa",
          "dash": "solid"
         },
         "marker": {
          "symbol": "circle"
         },
         "mode": "lines",
         "name": "2019",
         "orientation": "h",
         "showlegend": true,
         "x": [
          6.71
         ],
         "xaxis": "x",
         "y": [
          0
         ],
         "yaxis": "y",
         "type": "scatter"
        }
       ],
       "layout": {
        "template": {
         "data": {
          "histogram2dcontour": [
           {
            "type": "histogram2dcontour",
            "colorbar": {
             "outlinewidth": 0,
             "ticks": ""
            },
            "colorscale": [
             [
              0.0,
              "#0d0887"
             ],
             [
              0.1111111111111111,
              "#46039f"
             ],
             [
              0.2222222222222222,
              "#7201a8"
             ],
             [
              0.3333333333333333,
              "#9c179e"
             ],
             [
              0.4444444444444444,
              "#bd3786"
             ],
             [
              0.5555555555555556,
              "#d8576b"
             ],
             [
              0.6666666666666666,
              "#ed7953"
             ],
             [
              0.7777777777777778,
              "#fb9f3a"
             ],
             [
              0.8888888888888888,
              "#fdca26"
             ],
             [
              1.0,
              "#f0f921"
             ]
            ]
           }
          ],
          "choropleth": [
           {
            "type": "choropleth",
            "colorbar": {
             "outlinewidth": 0,
             "ticks": ""
            }
           }
          ],
          "histogram2d": [
           {
            "type": "histogram2d",
            "colorbar": {
             "outlinewidth": 0,
             "ticks": ""
            },
            "colorscale": [
             [
              0.0,
              "#0d0887"
             ],
             [
              0.1111111111111111,
              "#46039f"
             ],
             [
              0.2222222222222222,
              "#7201a8"
             ],
             [
              0.3333333333333333,
              "#9c179e"
             ],
             [
              0.4444444444444444,
              "#bd3786"
             ],
             [
              0.5555555555555556,
              "#d8576b"
             ],
             [
              0.6666666666666666,
              "#ed7953"
             ],
             [
              0.7777777777777778,
              "#fb9f3a"
             ],
             [
              0.8888888888888888,
              "#fdca26"
             ],
             [
              1.0,
              "#f0f921"
             ]
            ]
           }
          ],
          "heatmap": [
           {
            "type": "heatmap",
            "colorbar": {
             "outlinewidth": 0,
             "ticks": ""
            },
            "colorscale": [
             [
              0.0,
              "#0d0887"
             ],
             [
              0.1111111111111111,
              "#46039f"
             ],
             [
              0.2222222222222222,
              "#7201a8"
             ],
             [
              0.3333333333333333,
              "#9c179e"
             ],
             [
              0.4444444444444444,
              "#bd3786"
             ],
             [
              0.5555555555555556,
              "#d8576b"
             ],
             [
              0.6666666666666666,
              "#ed7953"
             ],
             [
              0.7777777777777778,
              "#fb9f3a"
             ],
             [
              0.8888888888888888,
              "#fdca26"
             ],
             [
              1.0,
              "#f0f921"
             ]
            ]
           }
          ],
          "heatmapgl": [
           {
            "type": "heatmapgl",
            "colorbar": {
             "outlinewidth": 0,
             "ticks": ""
            },
            "colorscale": [
             [
              0.0,
              "#0d0887"
             ],
             [
              0.1111111111111111,
              "#46039f"
             ],
             [
              0.2222222222222222,
              "#7201a8"
             ],
             [
              0.3333333333333333,
              "#9c179e"
             ],
             [
              0.4444444444444444,
              "#bd3786"
             ],
             [
              0.5555555555555556,
              "#d8576b"
             ],
             [
              0.6666666666666666,
              "#ed7953"
             ],
             [
              0.7777777777777778,
              "#fb9f3a"
             ],
             [
              0.8888888888888888,
              "#fdca26"
             ],
             [
              1.0,
              "#f0f921"
             ]
            ]
           }
          ],
          "contourcarpet": [
           {
            "type": "contourcarpet",
            "colorbar": {
             "outlinewidth": 0,
             "ticks": ""
            }
           }
          ],
          "contour": [
           {
            "type": "contour",
            "colorbar": {
             "outlinewidth": 0,
             "ticks": ""
            },
            "colorscale": [
             [
              0.0,
              "#0d0887"
             ],
             [
              0.1111111111111111,
              "#46039f"
             ],
             [
              0.2222222222222222,
              "#7201a8"
             ],
             [
              0.3333333333333333,
              "#9c179e"
             ],
             [
              0.4444444444444444,
              "#bd3786"
             ],
             [
              0.5555555555555556,
              "#d8576b"
             ],
             [
              0.6666666666666666,
              "#ed7953"
             ],
             [
              0.7777777777777778,
              "#fb9f3a"
             ],
             [
              0.8888888888888888,
              "#fdca26"
             ],
             [
              1.0,
              "#f0f921"
             ]
            ]
           }
          ],
          "surface": [
           {
            "type": "surface",
            "colorbar": {
             "outlinewidth": 0,
             "ticks": ""
            },
            "colorscale": [
             [
              0.0,
              "#0d0887"
             ],
             [
              0.1111111111111111,
              "#46039f"
             ],
             [
              0.2222222222222222,
              "#7201a8"
             ],
             [
              0.3333333333333333,
              "#9c179e"
             ],
             [
              0.4444444444444444,
              "#bd3786"
             ],
             [
              0.5555555555555556,
              "#d8576b"
             ],
             [
              0.6666666666666666,
              "#ed7953"
             ],
             [
              0.7777777777777778,
              "#fb9f3a"
             ],
             [
              0.8888888888888888,
              "#fdca26"
             ],
             [
              1.0,
              "#f0f921"
             ]
            ]
           }
          ],
          "mesh3d": [
           {
            "type": "mesh3d",
            "colorbar": {
             "outlinewidth": 0,
             "ticks": ""
            }
           }
          ],
          "scatter": [
           {
            "marker": {
             "line": {
              "color": "#283442"
             }
            },
            "type": "scatter"
           }
          ],
          "parcoords": [
           {
            "type": "parcoords",
            "line": {
             "colorbar": {
              "outlinewidth": 0,
              "ticks": ""
             }
            }
           }
          ],
          "scatterpolargl": [
           {
            "type": "scatterpolargl",
            "marker": {
             "colorbar": {
              "outlinewidth": 0,
              "ticks": ""
             }
            }
           }
          ],
          "bar": [
           {
            "error_x": {
             "color": "#f2f5fa"
            },
            "error_y": {
             "color": "#f2f5fa"
            },
            "marker": {
             "line": {
              "color": "rgb(17,17,17)",
              "width": 0.5
             },
             "pattern": {
              "fillmode": "overlay",
              "size": 10,
              "solidity": 0.2
             }
            },
            "type": "bar"
           }
          ],
          "scattergeo": [
           {
            "type": "scattergeo",
            "marker": {
             "colorbar": {
              "outlinewidth": 0,
              "ticks": ""
             }
            }
           }
          ],
          "scatterpolar": [
           {
            "type": "scatterpolar",
            "marker": {
             "colorbar": {
              "outlinewidth": 0,
              "ticks": ""
             }
            }
           }
          ],
          "histogram": [
           {
            "marker": {
             "pattern": {
              "fillmode": "overlay",
              "size": 10,
              "solidity": 0.2
             }
            },
            "type": "histogram"
           }
          ],
          "scattergl": [
           {
            "marker": {
             "line": {
              "color": "#283442"
             }
            },
            "type": "scattergl"
           }
          ],
          "scatter3d": [
           {
            "type": "scatter3d",
            "line": {
             "colorbar": {
              "outlinewidth": 0,
              "ticks": ""
             }
            },
            "marker": {
             "colorbar": {
              "outlinewidth": 0,
              "ticks": ""
             }
            }
           }
          ],
          "scattermapbox": [
           {
            "type": "scattermapbox",
            "marker": {
             "colorbar": {
              "outlinewidth": 0,
              "ticks": ""
             }
            }
           }
          ],
          "scatterternary": [
           {
            "type": "scatterternary",
            "marker": {
             "colorbar": {
              "outlinewidth": 0,
              "ticks": ""
             }
            }
           }
          ],
          "scattercarpet": [
           {
            "type": "scattercarpet",
            "marker": {
             "colorbar": {
              "outlinewidth": 0,
              "ticks": ""
             }
            }
           }
          ],
          "carpet": [
           {
            "aaxis": {
             "endlinecolor": "#A2B1C6",
             "gridcolor": "#506784",
             "linecolor": "#506784",
             "minorgridcolor": "#506784",
             "startlinecolor": "#A2B1C6"
            },
            "baxis": {
             "endlinecolor": "#A2B1C6",
             "gridcolor": "#506784",
             "linecolor": "#506784",
             "minorgridcolor": "#506784",
             "startlinecolor": "#A2B1C6"
            },
            "type": "carpet"
           }
          ],
          "table": [
           {
            "cells": {
             "fill": {
              "color": "#506784"
             },
             "line": {
              "color": "rgb(17,17,17)"
             }
            },
            "header": {
             "fill": {
              "color": "#2a3f5f"
             },
             "line": {
              "color": "rgb(17,17,17)"
             }
            },
            "type": "table"
           }
          ],
          "barpolar": [
           {
            "marker": {
             "line": {
              "color": "rgb(17,17,17)",
              "width": 0.5
             },
             "pattern": {
              "fillmode": "overlay",
              "size": 10,
              "solidity": 0.2
             }
            },
            "type": "barpolar"
           }
          ],
          "pie": [
           {
            "automargin": true,
            "type": "pie"
           }
          ]
         },
         "layout": {
          "autotypenumbers": "strict",
          "colorway": [
           "#636efa",
           "#EF553B",
           "#00cc96",
           "#ab63fa",
           "#FFA15A",
           "#19d3f3",
           "#FF6692",
           "#B6E880",
           "#FF97FF",
           "#FECB52"
          ],
          "font": {
           "color": "#f2f5fa"
          },
          "hovermode": "closest",
          "hoverlabel": {
           "align": "left"
          },
          "paper_bgcolor": "rgb(17,17,17)",
          "plot_bgcolor": "rgb(17,17,17)",
          "polar": {
           "bgcolor": "rgb(17,17,17)",
           "angularaxis": {
            "gridcolor": "#506784",
            "linecolor": "#506784",
            "ticks": ""
           },
           "radialaxis": {
            "gridcolor": "#506784",
            "linecolor": "#506784",
            "ticks": ""
           }
          },
          "ternary": {
           "bgcolor": "rgb(17,17,17)",
           "aaxis": {
            "gridcolor": "#506784",
            "linecolor": "#506784",
            "ticks": ""
           },
           "baxis": {
            "gridcolor": "#506784",
            "linecolor": "#506784",
            "ticks": ""
           },
           "caxis": {
            "gridcolor": "#506784",
            "linecolor": "#506784",
            "ticks": ""
           }
          },
          "coloraxis": {
           "colorbar": {
            "outlinewidth": 0,
            "ticks": ""
           }
          },
          "colorscale": {
           "sequential": [
            [
             0.0,
             "#0d0887"
            ],
            [
             0.1111111111111111,
             "#46039f"
            ],
            [
             0.2222222222222222,
             "#7201a8"
            ],
            [
             0.3333333333333333,
             "#9c179e"
            ],
            [
             0.4444444444444444,
             "#bd3786"
            ],
            [
             0.5555555555555556,
             "#d8576b"
            ],
            [
             0.6666666666666666,
             "#ed7953"
            ],
            [
             0.7777777777777778,
             "#fb9f3a"
            ],
            [
             0.8888888888888888,
             "#fdca26"
            ],
            [
             1.0,
             "#f0f921"
            ]
           ],
           "sequentialminus": [
            [
             0.0,
             "#0d0887"
            ],
            [
             0.1111111111111111,
             "#46039f"
            ],
            [
             0.2222222222222222,
             "#7201a8"
            ],
            [
             0.3333333333333333,
             "#9c179e"
            ],
            [
             0.4444444444444444,
             "#bd3786"
            ],
            [
             0.5555555555555556,
             "#d8576b"
            ],
            [
             0.6666666666666666,
             "#ed7953"
            ],
            [
             0.7777777777777778,
             "#fb9f3a"
            ],
            [
             0.8888888888888888,
             "#fdca26"
            ],
            [
             1.0,
             "#f0f921"
            ]
           ],
           "diverging": [
            [
             0,
             "#8e0152"
            ],
            [
             0.1,
             "#c51b7d"
            ],
            [
             0.2,
             "#de77ae"
            ],
            [
             0.3,
             "#f1b6da"
            ],
            [
             0.4,
             "#fde0ef"
            ],
            [
             0.5,
             "#f7f7f7"
            ],
            [
             0.6,
             "#e6f5d0"
            ],
            [
             0.7,
             "#b8e186"
            ],
            [
             0.8,
             "#7fbc41"
            ],
            [
             0.9,
             "#4d9221"
            ],
            [
             1,
             "#276419"
            ]
           ]
          },
          "xaxis": {
           "gridcolor": "#283442",
           "linecolor": "#506784",
           "ticks": "",
           "title": {
            "standoff": 15
           },
           "zerolinecolor": "#283442",
           "automargin": true,
           "zerolinewidth": 2
          },
          "yaxis": {
           "gridcolor": "#283442",
           "linecolor": "#506784",
           "ticks": "",
           "title": {
            "standoff": 15
           },
           "zerolinecolor": "#283442",
           "automargin": true,
           "zerolinewidth": 2
          },
          "scene": {
           "xaxis": {
            "backgroundcolor": "rgb(17,17,17)",
            "gridcolor": "#506784",
            "linecolor": "#506784",
            "showbackground": true,
            "ticks": "",
            "zerolinecolor": "#C8D4E3",
            "gridwidth": 2
           },
           "yaxis": {
            "backgroundcolor": "rgb(17,17,17)",
            "gridcolor": "#506784",
            "linecolor": "#506784",
            "showbackground": true,
            "ticks": "",
            "zerolinecolor": "#C8D4E3",
            "gridwidth": 2
           },
           "zaxis": {
            "backgroundcolor": "rgb(17,17,17)",
            "gridcolor": "#506784",
            "linecolor": "#506784",
            "showbackground": true,
            "ticks": "",
            "zerolinecolor": "#C8D4E3",
            "gridwidth": 2
           }
          },
          "shapedefaults": {
           "line": {
            "color": "#f2f5fa"
           }
          },
          "annotationdefaults": {
           "arrowcolor": "#f2f5fa",
           "arrowhead": 0,
           "arrowwidth": 1
          },
          "geo": {
           "bgcolor": "rgb(17,17,17)",
           "landcolor": "rgb(17,17,17)",
           "subunitcolor": "#506784",
           "showland": true,
           "showlakes": true,
           "lakecolor": "rgb(17,17,17)"
          },
          "title": {
           "x": 0.05
          },
          "updatemenudefaults": {
           "bgcolor": "#506784",
           "borderwidth": 0
          },
          "sliderdefaults": {
           "bgcolor": "#C8D4E3",
           "borderwidth": 1,
           "bordercolor": "rgb(17,17,17)",
           "tickwidth": 0
          },
          "mapbox": {
           "style": "dark"
          }
         }
        },
        "xaxis": {
         "anchor": "y",
         "domain": [
          0.0,
          1.0
         ],
         "title": {
          "text": "value"
         }
        },
        "yaxis": {
         "anchor": "x",
         "domain": [
          0.0,
          1.0
         ],
         "title": {
          "text": "index"
         }
        },
        "legend": {
         "title": {
          "text": "variable"
         },
         "tracegroupgap": 0
        },
        "margin": {
         "t": 60
        }
       },
       "config": {
        "plotlyServerURL": "https://plot.ly"
       }
      },
      "text/html": "<div>                            <div id=\"472aa9af-7b64-4376-8e61-7716197f1535\" class=\"plotly-graph-div\" style=\"height:525px; width:100%;\"></div>            <script type=\"text/javascript\">                require([\"plotly\"], function(Plotly) {                    window.PLOTLYENV=window.PLOTLYENV || {};                                    if (document.getElementById(\"472aa9af-7b64-4376-8e61-7716197f1535\")) {                    Plotly.newPlot(                        \"472aa9af-7b64-4376-8e61-7716197f1535\",                        [{\"hovertemplate\":\"variable=2022<br>value=%{x}<br>index=%{y}<extra></extra>\",\"legendgroup\":\"2022\",\"line\":{\"color\":\"#636efa\",\"dash\":\"solid\"},\"marker\":{\"symbol\":\"circle\"},\"mode\":\"lines\",\"name\":\"2022\",\"orientation\":\"h\",\"showlegend\":true,\"x\":[22.94],\"xaxis\":\"x\",\"y\":[0],\"yaxis\":\"y\",\"type\":\"scatter\"},{\"hovertemplate\":\"variable=2021<br>value=%{x}<br>index=%{y}<extra></extra>\",\"legendgroup\":\"2021\",\"line\":{\"color\":\"#EF553B\",\"dash\":\"solid\"},\"marker\":{\"symbol\":\"circle\"},\"mode\":\"lines\",\"name\":\"2021\",\"orientation\":\"h\",\"showlegend\":true,\"x\":[22.92],\"xaxis\":\"x\",\"y\":[0],\"yaxis\":\"y\",\"type\":\"scatter\"},{\"hovertemplate\":\"variable=2020<br>value=%{x}<br>index=%{y}<extra></extra>\",\"legendgroup\":\"2020\",\"line\":{\"color\":\"#00cc96\",\"dash\":\"solid\"},\"marker\":{\"symbol\":\"circle\"},\"mode\":\"lines\",\"name\":\"2020\",\"orientation\":\"h\",\"showlegend\":true,\"x\":[-1.13],\"xaxis\":\"x\",\"y\":[0],\"yaxis\":\"y\",\"type\":\"scatter\"},{\"hovertemplate\":\"variable=2019<br>value=%{x}<br>index=%{y}<extra></extra>\",\"legendgroup\":\"2019\",\"line\":{\"color\":\"#ab63fa\",\"dash\":\"solid\"},\"marker\":{\"symbol\":\"circle\"},\"mode\":\"lines\",\"name\":\"2019\",\"orientation\":\"h\",\"showlegend\":true,\"x\":[6.71],\"xaxis\":\"x\",\"y\":[0],\"yaxis\":\"y\",\"type\":\"scatter\"}],                        {\"template\":{\"data\":{\"histogram2dcontour\":[{\"type\":\"histogram2dcontour\",\"colorbar\":{\"outlinewidth\":0,\"ticks\":\"\"},\"colorscale\":[[0.0,\"#0d0887\"],[0.1111111111111111,\"#46039f\"],[0.2222222222222222,\"#7201a8\"],[0.3333333333333333,\"#9c179e\"],[0.4444444444444444,\"#bd3786\"],[0.5555555555555556,\"#d8576b\"],[0.6666666666666666,\"#ed7953\"],[0.7777777777777778,\"#fb9f3a\"],[0.8888888888888888,\"#fdca26\"],[1.0,\"#f0f921\"]]}],\"choropleth\":[{\"type\":\"choropleth\",\"colorbar\":{\"outlinewidth\":0,\"ticks\":\"\"}}],\"histogram2d\":[{\"type\":\"histogram2d\",\"colorbar\":{\"outlinewidth\":0,\"ticks\":\"\"},\"colorscale\":[[0.0,\"#0d0887\"],[0.1111111111111111,\"#46039f\"],[0.2222222222222222,\"#7201a8\"],[0.3333333333333333,\"#9c179e\"],[0.4444444444444444,\"#bd3786\"],[0.5555555555555556,\"#d8576b\"],[0.6666666666666666,\"#ed7953\"],[0.7777777777777778,\"#fb9f3a\"],[0.8888888888888888,\"#fdca26\"],[1.0,\"#f0f921\"]]}],\"heatmap\":[{\"type\":\"heatmap\",\"colorbar\":{\"outlinewidth\":0,\"ticks\":\"\"},\"colorscale\":[[0.0,\"#0d0887\"],[0.1111111111111111,\"#46039f\"],[0.2222222222222222,\"#7201a8\"],[0.3333333333333333,\"#9c179e\"],[0.4444444444444444,\"#bd3786\"],[0.5555555555555556,\"#d8576b\"],[0.6666666666666666,\"#ed7953\"],[0.7777777777777778,\"#fb9f3a\"],[0.8888888888888888,\"#fdca26\"],[1.0,\"#f0f921\"]]}],\"heatmapgl\":[{\"type\":\"heatmapgl\",\"colorbar\":{\"outlinewidth\":0,\"ticks\":\"\"},\"colorscale\":[[0.0,\"#0d0887\"],[0.1111111111111111,\"#46039f\"],[0.2222222222222222,\"#7201a8\"],[0.3333333333333333,\"#9c179e\"],[0.4444444444444444,\"#bd3786\"],[0.5555555555555556,\"#d8576b\"],[0.6666666666666666,\"#ed7953\"],[0.7777777777777778,\"#fb9f3a\"],[0.8888888888888888,\"#fdca26\"],[1.0,\"#f0f921\"]]}],\"contourcarpet\":[{\"type\":\"contourcarpet\",\"colorbar\":{\"outlinewidth\":0,\"ticks\":\"\"}}],\"contour\":[{\"type\":\"contour\",\"colorbar\":{\"outlinewidth\":0,\"ticks\":\"\"},\"colorscale\":[[0.0,\"#0d0887\"],[0.1111111111111111,\"#46039f\"],[0.2222222222222222,\"#7201a8\"],[0.3333333333333333,\"#9c179e\"],[0.4444444444444444,\"#bd3786\"],[0.5555555555555556,\"#d8576b\"],[0.6666666666666666,\"#ed7953\"],[0.7777777777777778,\"#fb9f3a\"],[0.8888888888888888,\"#fdca26\"],[1.0,\"#f0f921\"]]}],\"surface\":[{\"type\":\"surface\",\"colorbar\":{\"outlinewidth\":0,\"ticks\":\"\"},\"colorscale\":[[0.0,\"#0d0887\"],[0.1111111111111111,\"#46039f\"],[0.2222222222222222,\"#7201a8\"],[0.3333333333333333,\"#9c179e\"],[0.4444444444444444,\"#bd3786\"],[0.5555555555555556,\"#d8576b\"],[0.6666666666666666,\"#ed7953\"],[0.7777777777777778,\"#fb9f3a\"],[0.8888888888888888,\"#fdca26\"],[1.0,\"#f0f921\"]]}],\"mesh3d\":[{\"type\":\"mesh3d\",\"colorbar\":{\"outlinewidth\":0,\"ticks\":\"\"}}],\"scatter\":[{\"marker\":{\"line\":{\"color\":\"#283442\"}},\"type\":\"scatter\"}],\"parcoords\":[{\"type\":\"parcoords\",\"line\":{\"colorbar\":{\"outlinewidth\":0,\"ticks\":\"\"}}}],\"scatterpolargl\":[{\"type\":\"scatterpolargl\",\"marker\":{\"colorbar\":{\"outlinewidth\":0,\"ticks\":\"\"}}}],\"bar\":[{\"error_x\":{\"color\":\"#f2f5fa\"},\"error_y\":{\"color\":\"#f2f5fa\"},\"marker\":{\"line\":{\"color\":\"rgb(17,17,17)\",\"width\":0.5},\"pattern\":{\"fillmode\":\"overlay\",\"size\":10,\"solidity\":0.2}},\"type\":\"bar\"}],\"scattergeo\":[{\"type\":\"scattergeo\",\"marker\":{\"colorbar\":{\"outlinewidth\":0,\"ticks\":\"\"}}}],\"scatterpolar\":[{\"type\":\"scatterpolar\",\"marker\":{\"colorbar\":{\"outlinewidth\":0,\"ticks\":\"\"}}}],\"histogram\":[{\"marker\":{\"pattern\":{\"fillmode\":\"overlay\",\"size\":10,\"solidity\":0.2}},\"type\":\"histogram\"}],\"scattergl\":[{\"marker\":{\"line\":{\"color\":\"#283442\"}},\"type\":\"scattergl\"}],\"scatter3d\":[{\"type\":\"scatter3d\",\"line\":{\"colorbar\":{\"outlinewidth\":0,\"ticks\":\"\"}},\"marker\":{\"colorbar\":{\"outlinewidth\":0,\"ticks\":\"\"}}}],\"scattermapbox\":[{\"type\":\"scattermapbox\",\"marker\":{\"colorbar\":{\"outlinewidth\":0,\"ticks\":\"\"}}}],\"scatterternary\":[{\"type\":\"scatterternary\",\"marker\":{\"colorbar\":{\"outlinewidth\":0,\"ticks\":\"\"}}}],\"scattercarpet\":[{\"type\":\"scattercarpet\",\"marker\":{\"colorbar\":{\"outlinewidth\":0,\"ticks\":\"\"}}}],\"carpet\":[{\"aaxis\":{\"endlinecolor\":\"#A2B1C6\",\"gridcolor\":\"#506784\",\"linecolor\":\"#506784\",\"minorgridcolor\":\"#506784\",\"startlinecolor\":\"#A2B1C6\"},\"baxis\":{\"endlinecolor\":\"#A2B1C6\",\"gridcolor\":\"#506784\",\"linecolor\":\"#506784\",\"minorgridcolor\":\"#506784\",\"startlinecolor\":\"#A2B1C6\"},\"type\":\"carpet\"}],\"table\":[{\"cells\":{\"fill\":{\"color\":\"#506784\"},\"line\":{\"color\":\"rgb(17,17,17)\"}},\"header\":{\"fill\":{\"color\":\"#2a3f5f\"},\"line\":{\"color\":\"rgb(17,17,17)\"}},\"type\":\"table\"}],\"barpolar\":[{\"marker\":{\"line\":{\"color\":\"rgb(17,17,17)\",\"width\":0.5},\"pattern\":{\"fillmode\":\"overlay\",\"size\":10,\"solidity\":0.2}},\"type\":\"barpolar\"}],\"pie\":[{\"automargin\":true,\"type\":\"pie\"}]},\"layout\":{\"autotypenumbers\":\"strict\",\"colorway\":[\"#636efa\",\"#EF553B\",\"#00cc96\",\"#ab63fa\",\"#FFA15A\",\"#19d3f3\",\"#FF6692\",\"#B6E880\",\"#FF97FF\",\"#FECB52\"],\"font\":{\"color\":\"#f2f5fa\"},\"hovermode\":\"closest\",\"hoverlabel\":{\"align\":\"left\"},\"paper_bgcolor\":\"rgb(17,17,17)\",\"plot_bgcolor\":\"rgb(17,17,17)\",\"polar\":{\"bgcolor\":\"rgb(17,17,17)\",\"angularaxis\":{\"gridcolor\":\"#506784\",\"linecolor\":\"#506784\",\"ticks\":\"\"},\"radialaxis\":{\"gridcolor\":\"#506784\",\"linecolor\":\"#506784\",\"ticks\":\"\"}},\"ternary\":{\"bgcolor\":\"rgb(17,17,17)\",\"aaxis\":{\"gridcolor\":\"#506784\",\"linecolor\":\"#506784\",\"ticks\":\"\"},\"baxis\":{\"gridcolor\":\"#506784\",\"linecolor\":\"#506784\",\"ticks\":\"\"},\"caxis\":{\"gridcolor\":\"#506784\",\"linecolor\":\"#506784\",\"ticks\":\"\"}},\"coloraxis\":{\"colorbar\":{\"outlinewidth\":0,\"ticks\":\"\"}},\"colorscale\":{\"sequential\":[[0.0,\"#0d0887\"],[0.1111111111111111,\"#46039f\"],[0.2222222222222222,\"#7201a8\"],[0.3333333333333333,\"#9c179e\"],[0.4444444444444444,\"#bd3786\"],[0.5555555555555556,\"#d8576b\"],[0.6666666666666666,\"#ed7953\"],[0.7777777777777778,\"#fb9f3a\"],[0.8888888888888888,\"#fdca26\"],[1.0,\"#f0f921\"]],\"sequentialminus\":[[0.0,\"#0d0887\"],[0.1111111111111111,\"#46039f\"],[0.2222222222222222,\"#7201a8\"],[0.3333333333333333,\"#9c179e\"],[0.4444444444444444,\"#bd3786\"],[0.5555555555555556,\"#d8576b\"],[0.6666666666666666,\"#ed7953\"],[0.7777777777777778,\"#fb9f3a\"],[0.8888888888888888,\"#fdca26\"],[1.0,\"#f0f921\"]],\"diverging\":[[0,\"#8e0152\"],[0.1,\"#c51b7d\"],[0.2,\"#de77ae\"],[0.3,\"#f1b6da\"],[0.4,\"#fde0ef\"],[0.5,\"#f7f7f7\"],[0.6,\"#e6f5d0\"],[0.7,\"#b8e186\"],[0.8,\"#7fbc41\"],[0.9,\"#4d9221\"],[1,\"#276419\"]]},\"xaxis\":{\"gridcolor\":\"#283442\",\"linecolor\":\"#506784\",\"ticks\":\"\",\"title\":{\"standoff\":15},\"zerolinecolor\":\"#283442\",\"automargin\":true,\"zerolinewidth\":2},\"yaxis\":{\"gridcolor\":\"#283442\",\"linecolor\":\"#506784\",\"ticks\":\"\",\"title\":{\"standoff\":15},\"zerolinecolor\":\"#283442\",\"automargin\":true,\"zerolinewidth\":2},\"scene\":{\"xaxis\":{\"backgroundcolor\":\"rgb(17,17,17)\",\"gridcolor\":\"#506784\",\"linecolor\":\"#506784\",\"showbackground\":true,\"ticks\":\"\",\"zerolinecolor\":\"#C8D4E3\",\"gridwidth\":2},\"yaxis\":{\"backgroundcolor\":\"rgb(17,17,17)\",\"gridcolor\":\"#506784\",\"linecolor\":\"#506784\",\"showbackground\":true,\"ticks\":\"\",\"zerolinecolor\":\"#C8D4E3\",\"gridwidth\":2},\"zaxis\":{\"backgroundcolor\":\"rgb(17,17,17)\",\"gridcolor\":\"#506784\",\"linecolor\":\"#506784\",\"showbackground\":true,\"ticks\":\"\",\"zerolinecolor\":\"#C8D4E3\",\"gridwidth\":2}},\"shapedefaults\":{\"line\":{\"color\":\"#f2f5fa\"}},\"annotationdefaults\":{\"arrowcolor\":\"#f2f5fa\",\"arrowhead\":0,\"arrowwidth\":1},\"geo\":{\"bgcolor\":\"rgb(17,17,17)\",\"landcolor\":\"rgb(17,17,17)\",\"subunitcolor\":\"#506784\",\"showland\":true,\"showlakes\":true,\"lakecolor\":\"rgb(17,17,17)\"},\"title\":{\"x\":0.05},\"updatemenudefaults\":{\"bgcolor\":\"#506784\",\"borderwidth\":0},\"sliderdefaults\":{\"bgcolor\":\"#C8D4E3\",\"borderwidth\":1,\"bordercolor\":\"rgb(17,17,17)\",\"tickwidth\":0},\"mapbox\":{\"style\":\"dark\"}}},\"xaxis\":{\"anchor\":\"y\",\"domain\":[0.0,1.0],\"title\":{\"text\":\"value\"}},\"yaxis\":{\"anchor\":\"x\",\"domain\":[0.0,1.0],\"title\":{\"text\":\"index\"}},\"legend\":{\"title\":{\"text\":\"variable\"},\"tracegroupgap\":0},\"margin\":{\"t\":60}},                        {\"responsive\": true}                    ).then(function(){\n                            \nvar gd = document.getElementById('472aa9af-7b64-4376-8e61-7716197f1535');\nvar x = new MutationObserver(function (mutations, observer) {{\n        var display = window.getComputedStyle(gd).display;\n        if (!display || display === 'none') {{\n            console.log([gd, 'removed!']);\n            Plotly.purge(gd);\n            observer.disconnect();\n        }}\n}});\n\n// Listen for the removal of the full notebook cells\nvar notebookContainer = gd.closest('#notebook-container');\nif (notebookContainer) {{\n    x.observe(notebookContainer, {childList: true});\n}}\n\n// Listen for the clearing of the current output cell\nvar outputEl = gd.closest('.output');\nif (outputEl) {{\n    x.observe(outputEl, {childList: true});\n}}\n\n                        })                };                });            </script>        </div>"
     },
     "metadata": {},
     "output_type": "display_data"
    }
   ],
   "source": [
    "fig = px.line(cagr_lucro5, x= 'TICKERS', y=['2022', '2021', '2020', '2019'])\n",
    "fig.show()"
   ],
   "metadata": {
    "collapsed": false,
    "ExecuteTime": {
     "end_time": "2023-09-15T20:47:26.904854Z",
     "start_time": "2023-09-15T20:47:26.752062Z"
    }
   }
  },
  {
   "cell_type": "code",
   "execution_count": null,
   "outputs": [],
   "source": [
    "fig = go.Figure([go.Scatter(x=df['Date'], y=df['AAPL.High'])])"
   ],
   "metadata": {
    "collapsed": false
   }
  }
 ],
 "nbformat": 4,
 "nbformat_minor": 0,
 "metadata": {
  "deepnote": {},
  "orig_nbformat": 2,
  "deepnote_full_width": false,
  "deepnote_notebook_id": "8c192b8b3a8944b28b4ad3f2abf9b877",
  "deepnote_persisted_session": {
   "createdAt": "2023-08-26T18:01:16.818Z"
  },
  "deepnote_execution_queue": [],
  "kernelspec": {
   "name": "python3",
   "language": "python",
   "display_name": "Python 3 (ipykernel)"
  }
 }
}
