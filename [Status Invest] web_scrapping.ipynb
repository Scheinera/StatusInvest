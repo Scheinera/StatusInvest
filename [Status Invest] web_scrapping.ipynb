{
 "cells": [
  {
   "cell_type": "code",
   "execution_count": 1,
   "metadata": {
    "ExecuteTime": {
     "end_time": "2023-09-12T17:11:48.834854Z",
     "start_time": "2023-09-12T17:11:46.693286Z"
    }
   },
   "outputs": [],
   "source": [
    "import os\n",
    "import time\n",
    "import pandas as pd\n",
    "from selenium import webdriver\n",
    "from selenium.webdriver.chrome.service import Service \n",
    "from webdriver_manager.chrome import ChromeDriverManager\n",
    "from selenium.webdriver.common.by import By\n",
    "from selenium.webdriver.support.ui import WebDriverWait\n",
    "from selenium.webdriver.support import expected_conditions as EC"
   ]
  },
  {
   "cell_type": "code",
   "execution_count": 14,
   "outputs": [],
   "source": [
    "#Instalando o driver\n",
    "servico = Service(ChromeDriverManager().install())\n",
    "\n",
    "#Abrindo o navegador\n",
    "navegador = webdriver.Chrome(service=servico)"
   ],
   "metadata": {
    "collapsed": false,
    "ExecuteTime": {
     "end_time": "2023-09-12T17:33:44.826061Z",
     "start_time": "2023-09-12T17:33:38.483764Z"
    }
   }
  },
  {
   "cell_type": "code",
   "execution_count": 15,
   "outputs": [],
   "source": [
    "lista_fii = [ \"mxrf11\", \"tgar11\", \"ggrc11\", \"recr11\", 'rect11', 'vino11', 'brcr11', 'pvbi11', 'visc11', 'hsml11', 'mfii11' ]"
   ],
   "metadata": {
    "collapsed": false,
    "ExecuteTime": {
     "end_time": "2023-09-12T17:33:51.137206Z",
     "start_time": "2023-09-12T17:33:51.116104Z"
    }
   }
  },
  {
   "cell_type": "code",
   "execution_count": 16,
   "metadata": {
    "ExecuteTime": {
     "end_time": "2023-09-12T17:34:06.271178Z",
     "start_time": "2023-09-12T17:33:52.201571Z"
    }
   },
   "outputs": [],
   "source": [
    "lista_indicadores_fii = []\n",
    "for fii in lista_fii:\n",
    "\n",
    "    #Criando url\n",
    "    url = f\"https://statusinvest.com.br/fundos-imobiliarios/{fii}\"\n",
    "\n",
    "    \n",
    "    try:\n",
    "        #Abrindo o navegador\n",
    "        navegador.get(url)\n",
    "\n",
    "        time.sleep(0.25)\n",
    "    \n",
    "        #Coletando infos\n",
    "        segmento = navegador.find_element(By.XPATH, '//*[@id=\"fund-section\"]/div/div/div[4]/div/div[1]/div/div/div/a/strong').text\n",
    "        tipo_anbima = navegador.find_element(By.XPATH, '//*[@id=\"fund-section\"]/div/div/div[2]/div/div[5]/div/div/div/strong').text\n",
    "        valor_atual = navegador.find_element(By.XPATH, '//*[@id=\"main-2\"]/div[2]/div[1]/div[1]/div/div[1]/strong').text\n",
    "        variacao_valor_atual = navegador.find_element(By.XPATH, '//*[@id=\"main-2\"]/div[2]/div[1]/div[1]/div/div[2]/span/b').text\n",
    "        dividend_yield = navegador.find_element(By.XPATH, '//*[@id=\"main-2\"]/div[2]/div[1]/div[4]/div/div[1]/strong').text\n",
    "        pvp = navegador.find_element(By.XPATH, '//*[@id=\"main-2\"]/div[2]/div[5]/div/div[2]/div/div[1]/strong').text\n",
    "        caixa = navegador.find_element(By.XPATH, '//*[@id=\"main-2\"]/div[2]/div[5]/div/div[3]/div/div[1]/strong').text\n",
    "        cnpj_fii = navegador.find_element(By.XPATH, '//*[@id=\"fund-section\"]/div/div/div[2]/div/div[1]/div/div/strong').text\n",
    "        administrador = navegador.find_element(By.XPATH, '//*[@id=\"fund-section\"]/div/div/div[3]/div/div[2]/div[1]/div/strong').text\n",
    "        cnpj_administrador = navegador.find_element(By.XPATH, '//*[@id=\"fund-section\"]/div/div/div[3]/div/div[2]/div[1]/div/span').text\n",
    "    \n",
    "\n",
    "        #Criando dict\n",
    "        dicionario = {  \"fii\": fii, \n",
    "                        \"segmento\": segmento,\n",
    "                        \"tipo_anbima\": tipo_anbima, \n",
    "                        \"valor_atual\": valor_atual, \n",
    "                        \"variacao_valor_atual\": variacao_valor_atual, \n",
    "                        \"dividend_yield\": dividend_yield, \n",
    "                        \"pvp\": pvp,\n",
    "                        \"caixa\": caixa,\n",
    "                        \"cnpj_fii\": cnpj_fii,\n",
    "                        \"administrador\": administrador,\n",
    "                        \"cnpj_administrador\": cnpj_administrador \n",
    "                        \n",
    "                        }\n",
    "\n",
    "        #Criando lista de dicts\n",
    "        lista_indicadores_fii.append(dicionario)\n",
    "    except Exception as e:\n",
    "        print(e)\n",
    "\n",
    "#Fecha o navegador\n",
    "navegador.quit()\n",
    "\n"
   ]
  },
  {
   "cell_type": "code",
   "execution_count": 17,
   "metadata": {
    "ExecuteTime": {
     "end_time": "2023-09-12T17:34:07.526952Z",
     "start_time": "2023-09-12T17:34:07.501124Z"
    }
   },
   "outputs": [
    {
     "data": {
      "text/plain": "       fii                          segmento                    tipo_anbima  \\\n0   mxrf11                            Papéis                        Híbrido   \n1   tgar11          Fundo de Desenvolvimento                        Híbrido   \n2   ggrc11  Imóveis Industriais e Logísticos                        Híbrido   \n3   recr11                            Papéis  Títulos e Valores Mobiliários   \n4   rect11                Lajes Corporativas                        Híbrido   \n5   vino11                Lajes Corporativas                          Renda   \n6   brcr11                Lajes Corporativas                        Híbrido   \n7   pvbi11                Lajes Corporativas                          Renda   \n8   visc11                         Shoppings                          Renda   \n9   hsml11                         Shoppings                          Renda   \n10  mfii11          Fundo de Desenvolvimento                        Híbrido   \n\n   valor_atual variacao_valor_atual dividend_yield   pvp caixa  \\\n0        10,90                0,18%          12,12  1,09  5,28   \n1       122,04                0,10%          13,79  1,03  1,82   \n2       116,50               -0,17%          10,29  1,02  4,00   \n3        88,40               -0,01%          11,68  0,92  1,77   \n4        46,66               -1,87%          12,38  0,50  0,27   \n5         9,07               -0,55%           8,45  0,17  3,75   \n6        62,60                0,97%           8,80  0,62  0,81   \n7       105,97                0,00%           6,92  1,05  3,68   \n8       122,41                0,42%           8,03  1,06  3,03   \n9        95,00               -0,22%           9,09  1,00  5,23   \n10       94,02               -0,17%          14,01  0,93  0,39   \n\n              cnpj_fii                                      administrador  \\\n0   97.521.225/0001-25          BTG PACTUAL SERVIÇOS FINANCEIROS S/A DTVM   \n1   25.032.881/0001-53  VORTX DISTRIBUIDORA DE TITULOS E VALORES MOBIL...   \n2   26.614.291/0001-00                       CM CAPITAL MARKETS DTVM LTDA   \n3   28.152.272/0001-26  BRL TRUST DISTRIBUIDORA DE TITULOS E VALORES M...   \n4   32.274.163/0001-59  BRL TRUST DISTRIBUIDORA DE TITULOS E VALORES M...   \n5   12.516.185/0001-70  BRL TRUST DISTRIBUIDORA DE TITULOS E VALORES M...   \n6   08.924.783/0001-01          BTG PACTUAL SERVIÇOS FINANCEIROS S/A DTVM   \n7   35.652.102/0001-76          BTG PACTUAL SERVIÇOS FINANCEIROS S/A DTVM   \n8   17.554.274/0001-25  BRL TRUST DISTRIBUIDORA DE TITULOS E VALORES M...   \n9   32.892.018/0001-31      SANTANDER SECURITIES SERVICES BRASIL DTVM S.A   \n10  16.915.968/0001-88  MERITO DISTRIBUIDORA DE TITULOS E VALORES MOBI...   \n\n    cnpj_administrador  \n0   59.281.253/0001-23  \n1   22.610.500/0001-88  \n2   02.671.743/0001-19  \n3   13.486.793/0001-42  \n4   13.486.793/0001-42  \n5   13.486.793/0001-42  \n6   59.281.253/0001-23  \n7   59.281.253/0001-23  \n8   13.486.793/0001-42  \n9   62.318.407/0001-19  \n10  41.592.532/0001-42  ",
      "text/html": "<div>\n<style scoped>\n    .dataframe tbody tr th:only-of-type {\n        vertical-align: middle;\n    }\n\n    .dataframe tbody tr th {\n        vertical-align: top;\n    }\n\n    .dataframe thead th {\n        text-align: right;\n    }\n</style>\n<table border=\"1\" class=\"dataframe\">\n  <thead>\n    <tr style=\"text-align: right;\">\n      <th></th>\n      <th>fii</th>\n      <th>segmento</th>\n      <th>tipo_anbima</th>\n      <th>valor_atual</th>\n      <th>variacao_valor_atual</th>\n      <th>dividend_yield</th>\n      <th>pvp</th>\n      <th>caixa</th>\n      <th>cnpj_fii</th>\n      <th>administrador</th>\n      <th>cnpj_administrador</th>\n    </tr>\n  </thead>\n  <tbody>\n    <tr>\n      <th>0</th>\n      <td>mxrf11</td>\n      <td>Papéis</td>\n      <td>Híbrido</td>\n      <td>10,90</td>\n      <td>0,18%</td>\n      <td>12,12</td>\n      <td>1,09</td>\n      <td>5,28</td>\n      <td>97.521.225/0001-25</td>\n      <td>BTG PACTUAL SERVIÇOS FINANCEIROS S/A DTVM</td>\n      <td>59.281.253/0001-23</td>\n    </tr>\n    <tr>\n      <th>1</th>\n      <td>tgar11</td>\n      <td>Fundo de Desenvolvimento</td>\n      <td>Híbrido</td>\n      <td>122,04</td>\n      <td>0,10%</td>\n      <td>13,79</td>\n      <td>1,03</td>\n      <td>1,82</td>\n      <td>25.032.881/0001-53</td>\n      <td>VORTX DISTRIBUIDORA DE TITULOS E VALORES MOBIL...</td>\n      <td>22.610.500/0001-88</td>\n    </tr>\n    <tr>\n      <th>2</th>\n      <td>ggrc11</td>\n      <td>Imóveis Industriais e Logísticos</td>\n      <td>Híbrido</td>\n      <td>116,50</td>\n      <td>-0,17%</td>\n      <td>10,29</td>\n      <td>1,02</td>\n      <td>4,00</td>\n      <td>26.614.291/0001-00</td>\n      <td>CM CAPITAL MARKETS DTVM LTDA</td>\n      <td>02.671.743/0001-19</td>\n    </tr>\n    <tr>\n      <th>3</th>\n      <td>recr11</td>\n      <td>Papéis</td>\n      <td>Títulos e Valores Mobiliários</td>\n      <td>88,40</td>\n      <td>-0,01%</td>\n      <td>11,68</td>\n      <td>0,92</td>\n      <td>1,77</td>\n      <td>28.152.272/0001-26</td>\n      <td>BRL TRUST DISTRIBUIDORA DE TITULOS E VALORES M...</td>\n      <td>13.486.793/0001-42</td>\n    </tr>\n    <tr>\n      <th>4</th>\n      <td>rect11</td>\n      <td>Lajes Corporativas</td>\n      <td>Híbrido</td>\n      <td>46,66</td>\n      <td>-1,87%</td>\n      <td>12,38</td>\n      <td>0,50</td>\n      <td>0,27</td>\n      <td>32.274.163/0001-59</td>\n      <td>BRL TRUST DISTRIBUIDORA DE TITULOS E VALORES M...</td>\n      <td>13.486.793/0001-42</td>\n    </tr>\n    <tr>\n      <th>5</th>\n      <td>vino11</td>\n      <td>Lajes Corporativas</td>\n      <td>Renda</td>\n      <td>9,07</td>\n      <td>-0,55%</td>\n      <td>8,45</td>\n      <td>0,17</td>\n      <td>3,75</td>\n      <td>12.516.185/0001-70</td>\n      <td>BRL TRUST DISTRIBUIDORA DE TITULOS E VALORES M...</td>\n      <td>13.486.793/0001-42</td>\n    </tr>\n    <tr>\n      <th>6</th>\n      <td>brcr11</td>\n      <td>Lajes Corporativas</td>\n      <td>Híbrido</td>\n      <td>62,60</td>\n      <td>0,97%</td>\n      <td>8,80</td>\n      <td>0,62</td>\n      <td>0,81</td>\n      <td>08.924.783/0001-01</td>\n      <td>BTG PACTUAL SERVIÇOS FINANCEIROS S/A DTVM</td>\n      <td>59.281.253/0001-23</td>\n    </tr>\n    <tr>\n      <th>7</th>\n      <td>pvbi11</td>\n      <td>Lajes Corporativas</td>\n      <td>Renda</td>\n      <td>105,97</td>\n      <td>0,00%</td>\n      <td>6,92</td>\n      <td>1,05</td>\n      <td>3,68</td>\n      <td>35.652.102/0001-76</td>\n      <td>BTG PACTUAL SERVIÇOS FINANCEIROS S/A DTVM</td>\n      <td>59.281.253/0001-23</td>\n    </tr>\n    <tr>\n      <th>8</th>\n      <td>visc11</td>\n      <td>Shoppings</td>\n      <td>Renda</td>\n      <td>122,41</td>\n      <td>0,42%</td>\n      <td>8,03</td>\n      <td>1,06</td>\n      <td>3,03</td>\n      <td>17.554.274/0001-25</td>\n      <td>BRL TRUST DISTRIBUIDORA DE TITULOS E VALORES M...</td>\n      <td>13.486.793/0001-42</td>\n    </tr>\n    <tr>\n      <th>9</th>\n      <td>hsml11</td>\n      <td>Shoppings</td>\n      <td>Renda</td>\n      <td>95,00</td>\n      <td>-0,22%</td>\n      <td>9,09</td>\n      <td>1,00</td>\n      <td>5,23</td>\n      <td>32.892.018/0001-31</td>\n      <td>SANTANDER SECURITIES SERVICES BRASIL DTVM S.A</td>\n      <td>62.318.407/0001-19</td>\n    </tr>\n    <tr>\n      <th>10</th>\n      <td>mfii11</td>\n      <td>Fundo de Desenvolvimento</td>\n      <td>Híbrido</td>\n      <td>94,02</td>\n      <td>-0,17%</td>\n      <td>14,01</td>\n      <td>0,93</td>\n      <td>0,39</td>\n      <td>16.915.968/0001-88</td>\n      <td>MERITO DISTRIBUIDORA DE TITULOS E VALORES MOBI...</td>\n      <td>41.592.532/0001-42</td>\n    </tr>\n  </tbody>\n</table>\n</div>"
     },
     "execution_count": 17,
     "metadata": {},
     "output_type": "execute_result"
    }
   ],
   "source": [
    "df = pd.DataFrame.from_dict(lista_indicadores_fii)\n",
    "df"
   ]
  },
  {
   "cell_type": "code",
   "execution_count": null,
   "outputs": [],
   "source": [],
   "metadata": {
    "collapsed": false
   }
  }
 ],
 "metadata": {
  "kernelspec": {
   "display_name": "Python 3.9.12 ('base')",
   "language": "python",
   "name": "python3"
  },
  "language_info": {
   "codemirror_mode": {
    "name": "ipython",
    "version": 3
   },
   "file_extension": ".py",
   "mimetype": "text/x-python",
   "name": "python",
   "nbconvert_exporter": "python",
   "pygments_lexer": "ipython3",
   "version": "3.9.12"
  },
  "orig_nbformat": 4,
  "vscode": {
   "interpreter": {
    "hash": "ad2bdc8ecc057115af97d19610ffacc2b4e99fae6737bb82f5d7fb13d2f2c186"
   }
  }
 },
 "nbformat": 4,
 "nbformat_minor": 2
}
