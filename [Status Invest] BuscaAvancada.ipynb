{
 "cells": [
  {
   "cell_type": "code",
   "execution_count": 1,
   "id": "initial_id",
   "metadata": {
    "collapsed": true,
    "ExecuteTime": {
     "end_time": "2023-09-09T05:21:33.078505Z",
     "start_time": "2023-09-09T05:21:30.902497Z"
    }
   },
   "outputs": [],
   "source": [
    "import pandas as pd"
   ]
  },
  {
   "cell_type": "code",
   "execution_count": 4,
   "outputs": [
    {
     "data": {
      "text/plain": "    TICKER  PRECO     DY    P/L  P/VP  P/ATIVOS  MARGEM BRUTA  MARGEM EBIT  \\\n0    ABCB4  18.32   8.43   5.35  0.78      0.08         31.62        25.25   \n1    ABEV3  13.71   5.46  15.39  2.58      1.65         49.95        21.50   \n2    AFLT3   8.70   2.95  14.33  2.07      1.82         59.73        49.97   \n3    AGRO3  26.38  12.49   9.88  1.21      0.76         30.76        21.55   \n4    ALLD3   6.37   5.49   9.58  0.39      0.17         13.77         3.60   \n..     ...    ...    ...    ...   ...       ...           ...          ...   \n276  WHRL3   4.85   3.99  20.04  2.95      0.81         15.89         7.10   \n277  WHRL4   4.58   4.48  19.61  2.89      0.79         15.89         7.10   \n278  WIZC3   6.16   7.20   9.41  2.38      0.42         58.20        36.98   \n279  WLMM3  25.17   3.14   8.08  1.40      0.97         12.56         7.05   \n280  WLMM4  37.99   2.32  12.04  2.09      1.45         12.56         7.05   \n\n     MARG. LIQUIDA  P/EBIT  ...  PATRIMONIO / ATIVOS  PASSIVOS / ATIVOS  \\\n0            19.35    4.10  ...                 0.10               0.90   \n1            17.26   12.36  ...                 0.64               0.35   \n2            48.96   14.04  ...                 0.88               0.12   \n3            20.98    9.62  ...                 0.63               0.37   \n4             1.16    3.10  ...                 0.43               0.57   \n..             ...     ...  ...                  ...                ...   \n276           3.25    9.18  ...                 0.27               0.73   \n277           3.25    8.99  ...                 0.27               0.73   \n278          10.49    2.67  ...                 0.17               0.59   \n279           5.11    5.86  ...                 0.69               0.31   \n280           5.11    8.73  ...                 0.69               0.31   \n\n     GIRO ATIVOS  CAGR RECEITAS 5 ANOS  CAGR LUCROS 5 ANOS  \\\n0           0.07                 18.70               12.95   \n1           0.62                 10.72               14.46   \n2           0.26                 24.96               25.66   \n3           0.36                 27.22               16.28   \n4           1.51                 14.71               27.14   \n..           ...                   ...                 ...   \n276         1.24                 12.32               -4.20   \n277         1.24                 12.32               -4.20   \n278         0.42                 12.37               -8.01   \n279         2.35                 32.16                 NaN   \n280         2.35                 32.16                 NaN   \n\n      LIQUIDEZ MEDIA DIARIA    VPA   LPA   PEG Ratio   VALOR DE MERCADO  \n0              1.651319e+07  23.98  3.48        0.37       4.203015e+09  \n1              3.758548e+08   5.40  0.91        2.83       2.197660e+11  \n2              1.070605e+04   4.30  0.62       -0.23       5.620847e+08  \n3              1.286306e+07  21.46  2.62       -0.20       2.653612e+09  \n4              2.335241e+05  16.44  0.67       -0.18       6.012728e+08  \n..                      ...    ...   ...         ...                ...  \n276            1.873938e+04   1.59  0.23       -0.35       7.000658e+09  \n277            5.278300e+04   1.59  0.23       -0.34       7.000658e+09  \n278            4.966351e+06   2.59  0.66       -0.57       9.882270e+08  \n279            2.736964e+04  17.94  3.11        0.67       1.161029e+09  \n280            1.019819e+05  17.94  3.11        0.99       1.161029e+09  \n\n[281 rows x 30 columns]",
      "text/html": "<div>\n<style scoped>\n    .dataframe tbody tr th:only-of-type {\n        vertical-align: middle;\n    }\n\n    .dataframe tbody tr th {\n        vertical-align: top;\n    }\n\n    .dataframe thead th {\n        text-align: right;\n    }\n</style>\n<table border=\"1\" class=\"dataframe\">\n  <thead>\n    <tr style=\"text-align: right;\">\n      <th></th>\n      <th>TICKER</th>\n      <th>PRECO</th>\n      <th>DY</th>\n      <th>P/L</th>\n      <th>P/VP</th>\n      <th>P/ATIVOS</th>\n      <th>MARGEM BRUTA</th>\n      <th>MARGEM EBIT</th>\n      <th>MARG. LIQUIDA</th>\n      <th>P/EBIT</th>\n      <th>...</th>\n      <th>PATRIMONIO / ATIVOS</th>\n      <th>PASSIVOS / ATIVOS</th>\n      <th>GIRO ATIVOS</th>\n      <th>CAGR RECEITAS 5 ANOS</th>\n      <th>CAGR LUCROS 5 ANOS</th>\n      <th>LIQUIDEZ MEDIA DIARIA</th>\n      <th>VPA</th>\n      <th>LPA</th>\n      <th>PEG Ratio</th>\n      <th>VALOR DE MERCADO</th>\n    </tr>\n  </thead>\n  <tbody>\n    <tr>\n      <th>0</th>\n      <td>ABCB4</td>\n      <td>18.32</td>\n      <td>8.43</td>\n      <td>5.35</td>\n      <td>0.78</td>\n      <td>0.08</td>\n      <td>31.62</td>\n      <td>25.25</td>\n      <td>19.35</td>\n      <td>4.10</td>\n      <td>...</td>\n      <td>0.10</td>\n      <td>0.90</td>\n      <td>0.07</td>\n      <td>18.70</td>\n      <td>12.95</td>\n      <td>1.651319e+07</td>\n      <td>23.98</td>\n      <td>3.48</td>\n      <td>0.37</td>\n      <td>4.203015e+09</td>\n    </tr>\n    <tr>\n      <th>1</th>\n      <td>ABEV3</td>\n      <td>13.71</td>\n      <td>5.46</td>\n      <td>15.39</td>\n      <td>2.58</td>\n      <td>1.65</td>\n      <td>49.95</td>\n      <td>21.50</td>\n      <td>17.26</td>\n      <td>12.36</td>\n      <td>...</td>\n      <td>0.64</td>\n      <td>0.35</td>\n      <td>0.62</td>\n      <td>10.72</td>\n      <td>14.46</td>\n      <td>3.758548e+08</td>\n      <td>5.40</td>\n      <td>0.91</td>\n      <td>2.83</td>\n      <td>2.197660e+11</td>\n    </tr>\n    <tr>\n      <th>2</th>\n      <td>AFLT3</td>\n      <td>8.70</td>\n      <td>2.95</td>\n      <td>14.33</td>\n      <td>2.07</td>\n      <td>1.82</td>\n      <td>59.73</td>\n      <td>49.97</td>\n      <td>48.96</td>\n      <td>14.04</td>\n      <td>...</td>\n      <td>0.88</td>\n      <td>0.12</td>\n      <td>0.26</td>\n      <td>24.96</td>\n      <td>25.66</td>\n      <td>1.070605e+04</td>\n      <td>4.30</td>\n      <td>0.62</td>\n      <td>-0.23</td>\n      <td>5.620847e+08</td>\n    </tr>\n    <tr>\n      <th>3</th>\n      <td>AGRO3</td>\n      <td>26.38</td>\n      <td>12.49</td>\n      <td>9.88</td>\n      <td>1.21</td>\n      <td>0.76</td>\n      <td>30.76</td>\n      <td>21.55</td>\n      <td>20.98</td>\n      <td>9.62</td>\n      <td>...</td>\n      <td>0.63</td>\n      <td>0.37</td>\n      <td>0.36</td>\n      <td>27.22</td>\n      <td>16.28</td>\n      <td>1.286306e+07</td>\n      <td>21.46</td>\n      <td>2.62</td>\n      <td>-0.20</td>\n      <td>2.653612e+09</td>\n    </tr>\n    <tr>\n      <th>4</th>\n      <td>ALLD3</td>\n      <td>6.37</td>\n      <td>5.49</td>\n      <td>9.58</td>\n      <td>0.39</td>\n      <td>0.17</td>\n      <td>13.77</td>\n      <td>3.60</td>\n      <td>1.16</td>\n      <td>3.10</td>\n      <td>...</td>\n      <td>0.43</td>\n      <td>0.57</td>\n      <td>1.51</td>\n      <td>14.71</td>\n      <td>27.14</td>\n      <td>2.335241e+05</td>\n      <td>16.44</td>\n      <td>0.67</td>\n      <td>-0.18</td>\n      <td>6.012728e+08</td>\n    </tr>\n    <tr>\n      <th>...</th>\n      <td>...</td>\n      <td>...</td>\n      <td>...</td>\n      <td>...</td>\n      <td>...</td>\n      <td>...</td>\n      <td>...</td>\n      <td>...</td>\n      <td>...</td>\n      <td>...</td>\n      <td>...</td>\n      <td>...</td>\n      <td>...</td>\n      <td>...</td>\n      <td>...</td>\n      <td>...</td>\n      <td>...</td>\n      <td>...</td>\n      <td>...</td>\n      <td>...</td>\n      <td>...</td>\n    </tr>\n    <tr>\n      <th>276</th>\n      <td>WHRL3</td>\n      <td>4.85</td>\n      <td>3.99</td>\n      <td>20.04</td>\n      <td>2.95</td>\n      <td>0.81</td>\n      <td>15.89</td>\n      <td>7.10</td>\n      <td>3.25</td>\n      <td>9.18</td>\n      <td>...</td>\n      <td>0.27</td>\n      <td>0.73</td>\n      <td>1.24</td>\n      <td>12.32</td>\n      <td>-4.20</td>\n      <td>1.873938e+04</td>\n      <td>1.59</td>\n      <td>0.23</td>\n      <td>-0.35</td>\n      <td>7.000658e+09</td>\n    </tr>\n    <tr>\n      <th>277</th>\n      <td>WHRL4</td>\n      <td>4.58</td>\n      <td>4.48</td>\n      <td>19.61</td>\n      <td>2.89</td>\n      <td>0.79</td>\n      <td>15.89</td>\n      <td>7.10</td>\n      <td>3.25</td>\n      <td>8.99</td>\n      <td>...</td>\n      <td>0.27</td>\n      <td>0.73</td>\n      <td>1.24</td>\n      <td>12.32</td>\n      <td>-4.20</td>\n      <td>5.278300e+04</td>\n      <td>1.59</td>\n      <td>0.23</td>\n      <td>-0.34</td>\n      <td>7.000658e+09</td>\n    </tr>\n    <tr>\n      <th>278</th>\n      <td>WIZC3</td>\n      <td>6.16</td>\n      <td>7.20</td>\n      <td>9.41</td>\n      <td>2.38</td>\n      <td>0.42</td>\n      <td>58.20</td>\n      <td>36.98</td>\n      <td>10.49</td>\n      <td>2.67</td>\n      <td>...</td>\n      <td>0.17</td>\n      <td>0.59</td>\n      <td>0.42</td>\n      <td>12.37</td>\n      <td>-8.01</td>\n      <td>4.966351e+06</td>\n      <td>2.59</td>\n      <td>0.66</td>\n      <td>-0.57</td>\n      <td>9.882270e+08</td>\n    </tr>\n    <tr>\n      <th>279</th>\n      <td>WLMM3</td>\n      <td>25.17</td>\n      <td>3.14</td>\n      <td>8.08</td>\n      <td>1.40</td>\n      <td>0.97</td>\n      <td>12.56</td>\n      <td>7.05</td>\n      <td>5.11</td>\n      <td>5.86</td>\n      <td>...</td>\n      <td>0.69</td>\n      <td>0.31</td>\n      <td>2.35</td>\n      <td>32.16</td>\n      <td>NaN</td>\n      <td>2.736964e+04</td>\n      <td>17.94</td>\n      <td>3.11</td>\n      <td>0.67</td>\n      <td>1.161029e+09</td>\n    </tr>\n    <tr>\n      <th>280</th>\n      <td>WLMM4</td>\n      <td>37.99</td>\n      <td>2.32</td>\n      <td>12.04</td>\n      <td>2.09</td>\n      <td>1.45</td>\n      <td>12.56</td>\n      <td>7.05</td>\n      <td>5.11</td>\n      <td>8.73</td>\n      <td>...</td>\n      <td>0.69</td>\n      <td>0.31</td>\n      <td>2.35</td>\n      <td>32.16</td>\n      <td>NaN</td>\n      <td>1.019819e+05</td>\n      <td>17.94</td>\n      <td>3.11</td>\n      <td>0.99</td>\n      <td>1.161029e+09</td>\n    </tr>\n  </tbody>\n</table>\n<p>281 rows × 30 columns</p>\n</div>"
     },
     "execution_count": 4,
     "metadata": {},
     "output_type": "execute_result"
    }
   ],
   "source": [
    "df = pd.read_csv(\"buscaavancada.csv\", sep=';', decimal=',', thousands='.', encoding='ISO-8859-1' )\n",
    "df"
   ],
   "metadata": {
    "collapsed": false,
    "ExecuteTime": {
     "end_time": "2023-09-09T05:24:30.707869Z",
     "start_time": "2023-09-09T05:24:30.554737Z"
    }
   },
   "id": "bf05b800347381e3"
  },
  {
   "cell_type": "code",
   "execution_count": 5,
   "outputs": [
    {
     "name": "stdout",
     "output_type": "stream",
     "text": [
      "<class 'pandas.core.frame.DataFrame'>\n",
      "RangeIndex: 281 entries, 0 to 280\n",
      "Data columns (total 30 columns):\n",
      " #   Column                  Non-Null Count  Dtype  \n",
      "---  ------                  --------------  -----  \n",
      " 0   TICKER                  281 non-null    object \n",
      " 1   PRECO                   281 non-null    float64\n",
      " 2   DY                      281 non-null    float64\n",
      " 3   P/L                     281 non-null    float64\n",
      " 4   P/VP                    280 non-null    float64\n",
      " 5   P/ATIVOS                281 non-null    float64\n",
      " 6   MARGEM BRUTA            274 non-null    float64\n",
      " 7   MARGEM EBIT             274 non-null    float64\n",
      " 8   MARG. LIQUIDA           274 non-null    float64\n",
      " 9   P/EBIT                  281 non-null    float64\n",
      " 10  EV/EBIT                 281 non-null    float64\n",
      " 11  DIVIDA LIQUIDA / EBIT   242 non-null    float64\n",
      " 12  DIV. LIQ. / PATRI.      241 non-null    float64\n",
      " 13  PSR                     274 non-null    float64\n",
      " 14  P/CAP. GIRO             272 non-null    float64\n",
      " 15  P. AT CIR. LIQ.         281 non-null    float64\n",
      " 16  LIQ. CORRENTE           263 non-null    float64\n",
      " 17  ROE                     280 non-null    float64\n",
      " 18  ROA                     281 non-null    float64\n",
      " 19  ROIC                    242 non-null    float64\n",
      " 20  PATRIMONIO / ATIVOS     281 non-null    float64\n",
      " 21  PASSIVOS / ATIVOS       281 non-null    float64\n",
      " 22  GIRO ATIVOS             281 non-null    float64\n",
      " 23  CAGR RECEITAS 5 ANOS    256 non-null    float64\n",
      " 24  CAGR LUCROS 5 ANOS      215 non-null    float64\n",
      " 25   LIQUIDEZ MEDIA DIARIA  281 non-null    float64\n",
      " 26   VPA                    281 non-null    float64\n",
      " 27   LPA                    281 non-null    float64\n",
      " 28   PEG Ratio              280 non-null    float64\n",
      " 29   VALOR DE MERCADO       281 non-null    float64\n",
      "dtypes: float64(29), object(1)\n",
      "memory usage: 66.0+ KB\n"
     ]
    }
   ],
   "source": [
    "df.info()"
   ],
   "metadata": {
    "collapsed": false,
    "ExecuteTime": {
     "end_time": "2023-09-09T05:24:51.890252Z",
     "start_time": "2023-09-09T05:24:51.799237Z"
    }
   },
   "id": "34709a0aec812e65"
  },
  {
   "cell_type": "code",
   "execution_count": null,
   "outputs": [],
   "source": [],
   "metadata": {
    "collapsed": false
   },
   "id": "80421bde5da63bf2"
  }
 ],
 "metadata": {
  "kernelspec": {
   "display_name": "Python 3",
   "language": "python",
   "name": "python3"
  },
  "language_info": {
   "codemirror_mode": {
    "name": "ipython",
    "version": 2
   },
   "file_extension": ".py",
   "mimetype": "text/x-python",
   "name": "python",
   "nbconvert_exporter": "python",
   "pygments_lexer": "ipython2",
   "version": "2.7.6"
  }
 },
 "nbformat": 4,
 "nbformat_minor": 5
}
