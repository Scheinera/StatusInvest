{
 "cells": [
  {
   "cell_type": "code",
   "execution_count": 1,
   "id": "initial_id",
   "metadata": {
    "collapsed": true,
    "ExecuteTime": {
     "end_time": "2023-09-11T05:13:16.182631Z",
     "start_time": "2023-09-11T05:13:14.169419Z"
    }
   },
   "outputs": [],
   "source": [
    "import pandas as pd"
   ]
  },
  {
   "cell_type": "code",
   "execution_count": 2,
   "outputs": [
    {
     "data": {
      "text/plain": "    TICKER  PRECO    DY    P/L  P/VP  P/ATIVOS  MARGEM BRUTA  MARGEM EBIT  \\\n0    AALR3   7.93   NaN  -3.13  1.04      0.36         30.29        -1.09   \n1    ABCB4  18.35  8.43   5.35  0.78      0.08         31.62        25.25   \n2    ABEV3  13.70  5.46  15.39  2.58      1.65         49.95        21.50   \n3    ADHM3   1.56   NaN  -4.09 -1.29    105.12        100.00    -13548.48   \n4    AERI3   0.94   NaN  -6.97  0.88      0.23         13.03         9.37   \n..     ...    ...   ...    ...   ...       ...           ...          ...   \n615  WIZC3   6.15  7.20   9.41  2.38      0.42         58.20        36.98   \n616  WLMM3  25.17  3.14   8.08  1.40      0.97         12.56         7.05   \n617  WLMM4  37.99  2.32  12.04  2.09      1.45         12.56         7.05   \n618  YDUQ3  20.84   NaN  56.84  2.00      0.64         58.53        16.35   \n619  ZAMP3   5.39   NaN -13.39  1.09      0.37         64.96         2.25   \n\n     MARG. LIQUIDA  P/EBIT  ...  PATRIMONIO / ATIVOS  PASSIVOS / ATIVOS  \\\n0           -25.30  -72.63  ...                 0.34               0.65   \n1            19.35    4.10  ...                 0.10               0.90   \n2            17.26   12.36  ...                 0.64               0.35   \n3        -18860.61   -5.69  ...               -81.72              82.72   \n4            -3.59    2.67  ...                 0.27               0.73   \n..             ...     ...  ...                  ...                ...   \n615          10.49    2.67  ...                 0.17               0.59   \n616           5.11    5.86  ...                 0.69               0.31   \n617           5.11    8.73  ...                 0.69               0.31   \n618           2.27    7.88  ...                 0.32               0.68   \n619          -2.95   17.56  ...                 0.34               0.66   \n\n     GIRO ATIVOS  CAGR RECEITAS 5 ANOS  CAGR LUCROS 5 ANOS  \\\n0           0.45                  0.13                 NaN   \n1           0.07                 18.70               12.95   \n2           0.62                 10.72               14.46   \n3           0.14                   NaN                 NaN   \n4           0.93                   NaN                 NaN   \n..           ...                   ...                 ...   \n615         0.42                 12.37               -8.01   \n616         2.35                 32.16                 NaN   \n617         2.35                 32.16                 NaN   \n618         0.50                  6.20              -23.65   \n619         0.94                 15.36                 NaN   \n\n      LIQUIDEZ MEDIA DIARIA    VPA   LPA   PEG Ratio   VALOR DE MERCADO  \n0              6.665866e+06   7.32 -2.42       -0.01       8.966595e+08  \n1              1.651047e+07  23.98  3.48        0.37       4.203015e+09  \n2              3.758367e+08   5.40  0.91        2.83       2.197660e+11  \n3                       NaN  -1.21 -0.38       -0.58       2.543977e+07  \n4              6.507727e+06   1.10 -0.14        0.00       7.432271e+08  \n..                      ...    ...   ...         ...                ...  \n615            4.966191e+06   2.59  0.66       -0.57       9.882270e+08  \n616            2.736964e+04  17.94  3.11        0.67       1.161029e+09  \n617            1.019819e+05  17.94  3.11        0.99       1.161029e+09  \n618            1.225647e+08  10.16  0.36        0.06       6.262140e+09  \n619            2.396657e+07   4.97 -0.40       -0.30       1.492427e+09  \n\n[620 rows x 30 columns]",
      "text/html": "<div>\n<style scoped>\n    .dataframe tbody tr th:only-of-type {\n        vertical-align: middle;\n    }\n\n    .dataframe tbody tr th {\n        vertical-align: top;\n    }\n\n    .dataframe thead th {\n        text-align: right;\n    }\n</style>\n<table border=\"1\" class=\"dataframe\">\n  <thead>\n    <tr style=\"text-align: right;\">\n      <th></th>\n      <th>TICKER</th>\n      <th>PRECO</th>\n      <th>DY</th>\n      <th>P/L</th>\n      <th>P/VP</th>\n      <th>P/ATIVOS</th>\n      <th>MARGEM BRUTA</th>\n      <th>MARGEM EBIT</th>\n      <th>MARG. LIQUIDA</th>\n      <th>P/EBIT</th>\n      <th>...</th>\n      <th>PATRIMONIO / ATIVOS</th>\n      <th>PASSIVOS / ATIVOS</th>\n      <th>GIRO ATIVOS</th>\n      <th>CAGR RECEITAS 5 ANOS</th>\n      <th>CAGR LUCROS 5 ANOS</th>\n      <th>LIQUIDEZ MEDIA DIARIA</th>\n      <th>VPA</th>\n      <th>LPA</th>\n      <th>PEG Ratio</th>\n      <th>VALOR DE MERCADO</th>\n    </tr>\n  </thead>\n  <tbody>\n    <tr>\n      <th>0</th>\n      <td>AALR3</td>\n      <td>7.93</td>\n      <td>NaN</td>\n      <td>-3.13</td>\n      <td>1.04</td>\n      <td>0.36</td>\n      <td>30.29</td>\n      <td>-1.09</td>\n      <td>-25.30</td>\n      <td>-72.63</td>\n      <td>...</td>\n      <td>0.34</td>\n      <td>0.65</td>\n      <td>0.45</td>\n      <td>0.13</td>\n      <td>NaN</td>\n      <td>6.665866e+06</td>\n      <td>7.32</td>\n      <td>-2.42</td>\n      <td>-0.01</td>\n      <td>8.966595e+08</td>\n    </tr>\n    <tr>\n      <th>1</th>\n      <td>ABCB4</td>\n      <td>18.35</td>\n      <td>8.43</td>\n      <td>5.35</td>\n      <td>0.78</td>\n      <td>0.08</td>\n      <td>31.62</td>\n      <td>25.25</td>\n      <td>19.35</td>\n      <td>4.10</td>\n      <td>...</td>\n      <td>0.10</td>\n      <td>0.90</td>\n      <td>0.07</td>\n      <td>18.70</td>\n      <td>12.95</td>\n      <td>1.651047e+07</td>\n      <td>23.98</td>\n      <td>3.48</td>\n      <td>0.37</td>\n      <td>4.203015e+09</td>\n    </tr>\n    <tr>\n      <th>2</th>\n      <td>ABEV3</td>\n      <td>13.70</td>\n      <td>5.46</td>\n      <td>15.39</td>\n      <td>2.58</td>\n      <td>1.65</td>\n      <td>49.95</td>\n      <td>21.50</td>\n      <td>17.26</td>\n      <td>12.36</td>\n      <td>...</td>\n      <td>0.64</td>\n      <td>0.35</td>\n      <td>0.62</td>\n      <td>10.72</td>\n      <td>14.46</td>\n      <td>3.758367e+08</td>\n      <td>5.40</td>\n      <td>0.91</td>\n      <td>2.83</td>\n      <td>2.197660e+11</td>\n    </tr>\n    <tr>\n      <th>3</th>\n      <td>ADHM3</td>\n      <td>1.56</td>\n      <td>NaN</td>\n      <td>-4.09</td>\n      <td>-1.29</td>\n      <td>105.12</td>\n      <td>100.00</td>\n      <td>-13548.48</td>\n      <td>-18860.61</td>\n      <td>-5.69</td>\n      <td>...</td>\n      <td>-81.72</td>\n      <td>82.72</td>\n      <td>0.14</td>\n      <td>NaN</td>\n      <td>NaN</td>\n      <td>NaN</td>\n      <td>-1.21</td>\n      <td>-0.38</td>\n      <td>-0.58</td>\n      <td>2.543977e+07</td>\n    </tr>\n    <tr>\n      <th>4</th>\n      <td>AERI3</td>\n      <td>0.94</td>\n      <td>NaN</td>\n      <td>-6.97</td>\n      <td>0.88</td>\n      <td>0.23</td>\n      <td>13.03</td>\n      <td>9.37</td>\n      <td>-3.59</td>\n      <td>2.67</td>\n      <td>...</td>\n      <td>0.27</td>\n      <td>0.73</td>\n      <td>0.93</td>\n      <td>NaN</td>\n      <td>NaN</td>\n      <td>6.507727e+06</td>\n      <td>1.10</td>\n      <td>-0.14</td>\n      <td>0.00</td>\n      <td>7.432271e+08</td>\n    </tr>\n    <tr>\n      <th>...</th>\n      <td>...</td>\n      <td>...</td>\n      <td>...</td>\n      <td>...</td>\n      <td>...</td>\n      <td>...</td>\n      <td>...</td>\n      <td>...</td>\n      <td>...</td>\n      <td>...</td>\n      <td>...</td>\n      <td>...</td>\n      <td>...</td>\n      <td>...</td>\n      <td>...</td>\n      <td>...</td>\n      <td>...</td>\n      <td>...</td>\n      <td>...</td>\n      <td>...</td>\n      <td>...</td>\n    </tr>\n    <tr>\n      <th>615</th>\n      <td>WIZC3</td>\n      <td>6.15</td>\n      <td>7.20</td>\n      <td>9.41</td>\n      <td>2.38</td>\n      <td>0.42</td>\n      <td>58.20</td>\n      <td>36.98</td>\n      <td>10.49</td>\n      <td>2.67</td>\n      <td>...</td>\n      <td>0.17</td>\n      <td>0.59</td>\n      <td>0.42</td>\n      <td>12.37</td>\n      <td>-8.01</td>\n      <td>4.966191e+06</td>\n      <td>2.59</td>\n      <td>0.66</td>\n      <td>-0.57</td>\n      <td>9.882270e+08</td>\n    </tr>\n    <tr>\n      <th>616</th>\n      <td>WLMM3</td>\n      <td>25.17</td>\n      <td>3.14</td>\n      <td>8.08</td>\n      <td>1.40</td>\n      <td>0.97</td>\n      <td>12.56</td>\n      <td>7.05</td>\n      <td>5.11</td>\n      <td>5.86</td>\n      <td>...</td>\n      <td>0.69</td>\n      <td>0.31</td>\n      <td>2.35</td>\n      <td>32.16</td>\n      <td>NaN</td>\n      <td>2.736964e+04</td>\n      <td>17.94</td>\n      <td>3.11</td>\n      <td>0.67</td>\n      <td>1.161029e+09</td>\n    </tr>\n    <tr>\n      <th>617</th>\n      <td>WLMM4</td>\n      <td>37.99</td>\n      <td>2.32</td>\n      <td>12.04</td>\n      <td>2.09</td>\n      <td>1.45</td>\n      <td>12.56</td>\n      <td>7.05</td>\n      <td>5.11</td>\n      <td>8.73</td>\n      <td>...</td>\n      <td>0.69</td>\n      <td>0.31</td>\n      <td>2.35</td>\n      <td>32.16</td>\n      <td>NaN</td>\n      <td>1.019819e+05</td>\n      <td>17.94</td>\n      <td>3.11</td>\n      <td>0.99</td>\n      <td>1.161029e+09</td>\n    </tr>\n    <tr>\n      <th>618</th>\n      <td>YDUQ3</td>\n      <td>20.84</td>\n      <td>NaN</td>\n      <td>56.84</td>\n      <td>2.00</td>\n      <td>0.64</td>\n      <td>58.53</td>\n      <td>16.35</td>\n      <td>2.27</td>\n      <td>7.88</td>\n      <td>...</td>\n      <td>0.32</td>\n      <td>0.68</td>\n      <td>0.50</td>\n      <td>6.20</td>\n      <td>-23.65</td>\n      <td>1.225647e+08</td>\n      <td>10.16</td>\n      <td>0.36</td>\n      <td>0.06</td>\n      <td>6.262140e+09</td>\n    </tr>\n    <tr>\n      <th>619</th>\n      <td>ZAMP3</td>\n      <td>5.39</td>\n      <td>NaN</td>\n      <td>-13.39</td>\n      <td>1.09</td>\n      <td>0.37</td>\n      <td>64.96</td>\n      <td>2.25</td>\n      <td>-2.95</td>\n      <td>17.56</td>\n      <td>...</td>\n      <td>0.34</td>\n      <td>0.66</td>\n      <td>0.94</td>\n      <td>15.36</td>\n      <td>NaN</td>\n      <td>2.396657e+07</td>\n      <td>4.97</td>\n      <td>-0.40</td>\n      <td>-0.30</td>\n      <td>1.492427e+09</td>\n    </tr>\n  </tbody>\n</table>\n<p>620 rows × 30 columns</p>\n</div>"
     },
     "execution_count": 2,
     "metadata": {},
     "output_type": "execute_result"
    }
   ],
   "source": [
    "df = pd.read_csv(\"buscaavancada.csv\", sep=';', decimal=',', thousands='.', encoding='ISO-8859-1' )\n",
    "df"
   ],
   "metadata": {
    "collapsed": false,
    "ExecuteTime": {
     "end_time": "2023-09-11T05:13:16.284857Z",
     "start_time": "2023-09-11T05:13:16.189637Z"
    }
   },
   "id": "bf05b800347381e3"
  },
  {
   "cell_type": "code",
   "execution_count": 5,
   "outputs": [
    {
     "data": {
      "text/plain": "    TICKER  PRECO     DY    P/L  P/VP    VPA    LPA    ROE  EV/EBIT  MARG.LIQ  \\\n1    ABCB4  18.35   8.43   5.35  0.78  23.98   3.48  14.50     4.25     19.35   \n7    AGRO3  26.37  12.49   9.88  1.21  21.46   2.62  12.22    11.44     20.98   \n36   AURE3  13.78  10.90   4.44  0.93  14.79   3.10  20.94     8.88     52.70   \n47   BBAS3  46.64   9.66   4.13  0.83  56.75  11.36  20.01     3.26     12.35   \n51   BBSE3  31.11  11.21   8.66  6.95   4.47   3.59  80.32     7.54      0.00   \n..     ...    ...    ...    ...   ...    ...    ...    ...      ...       ...   \n572  TKNO4  64.98   6.30   6.58  0.70  92.42   9.88  10.69     4.28     10.54   \n588  UNIP3  72.34   8.68   9.59  2.88  25.12   7.54  30.02     5.11     12.50   \n589  UNIP5  84.50   8.25  11.20  3.36  25.12   7.54  30.02     5.11     12.50   \n590  UNIP6  79.77   8.64  10.59  3.18  25.12   7.54  30.02     5.11     12.50   \n615  WIZC3   6.15   7.20   9.41  2.38   2.59   0.66  25.32     2.72     10.49   \n\n     DIV.LIQ  LIQ.CORRENTE  LIQ.DIARIA    VLR.MERCADO       N_ACOES  \n1       0.00          1.50   16.510469    4203.015294    175.271697  \n7       0.21          2.14   12.846752    2653.612047    123.653870  \n36      0.03          2.12   35.225354   13760.000000    930.358350  \n47      0.00         12.76  393.463094  134502.674919   2370.091188  \n51      0.00          0.98  154.152510   62200.000000  13914.988814  \n..       ...           ...         ...            ...           ...  \n572    -0.11          3.65    0.011373     198.928713      2.152442  \n588    -0.01          2.00    0.873707    8022.407047    319.363338  \n589    -0.01          2.00    0.023113    8022.407047    319.363338  \n590    -0.01          2.00   15.402955    8022.407047    319.363338  \n615     0.10          0.84    4.966191     988.227003    381.554827  \n\n[69 rows x 15 columns]",
      "text/html": "<div>\n<style scoped>\n    .dataframe tbody tr th:only-of-type {\n        vertical-align: middle;\n    }\n\n    .dataframe tbody tr th {\n        vertical-align: top;\n    }\n\n    .dataframe thead th {\n        text-align: right;\n    }\n</style>\n<table border=\"1\" class=\"dataframe\">\n  <thead>\n    <tr style=\"text-align: right;\">\n      <th></th>\n      <th>TICKER</th>\n      <th>PRECO</th>\n      <th>DY</th>\n      <th>P/L</th>\n      <th>P/VP</th>\n      <th>VPA</th>\n      <th>LPA</th>\n      <th>ROE</th>\n      <th>EV/EBIT</th>\n      <th>MARG.LIQ</th>\n      <th>DIV.LIQ</th>\n      <th>LIQ.CORRENTE</th>\n      <th>LIQ.DIARIA</th>\n      <th>VLR.MERCADO</th>\n      <th>N_ACOES</th>\n    </tr>\n  </thead>\n  <tbody>\n    <tr>\n      <th>1</th>\n      <td>ABCB4</td>\n      <td>18.35</td>\n      <td>8.43</td>\n      <td>5.35</td>\n      <td>0.78</td>\n      <td>23.98</td>\n      <td>3.48</td>\n      <td>14.50</td>\n      <td>4.25</td>\n      <td>19.35</td>\n      <td>0.00</td>\n      <td>1.50</td>\n      <td>16.510469</td>\n      <td>4203.015294</td>\n      <td>175.271697</td>\n    </tr>\n    <tr>\n      <th>7</th>\n      <td>AGRO3</td>\n      <td>26.37</td>\n      <td>12.49</td>\n      <td>9.88</td>\n      <td>1.21</td>\n      <td>21.46</td>\n      <td>2.62</td>\n      <td>12.22</td>\n      <td>11.44</td>\n      <td>20.98</td>\n      <td>0.21</td>\n      <td>2.14</td>\n      <td>12.846752</td>\n      <td>2653.612047</td>\n      <td>123.653870</td>\n    </tr>\n    <tr>\n      <th>36</th>\n      <td>AURE3</td>\n      <td>13.78</td>\n      <td>10.90</td>\n      <td>4.44</td>\n      <td>0.93</td>\n      <td>14.79</td>\n      <td>3.10</td>\n      <td>20.94</td>\n      <td>8.88</td>\n      <td>52.70</td>\n      <td>0.03</td>\n      <td>2.12</td>\n      <td>35.225354</td>\n      <td>13760.000000</td>\n      <td>930.358350</td>\n    </tr>\n    <tr>\n      <th>47</th>\n      <td>BBAS3</td>\n      <td>46.64</td>\n      <td>9.66</td>\n      <td>4.13</td>\n      <td>0.83</td>\n      <td>56.75</td>\n      <td>11.36</td>\n      <td>20.01</td>\n      <td>3.26</td>\n      <td>12.35</td>\n      <td>0.00</td>\n      <td>12.76</td>\n      <td>393.463094</td>\n      <td>134502.674919</td>\n      <td>2370.091188</td>\n    </tr>\n    <tr>\n      <th>51</th>\n      <td>BBSE3</td>\n      <td>31.11</td>\n      <td>11.21</td>\n      <td>8.66</td>\n      <td>6.95</td>\n      <td>4.47</td>\n      <td>3.59</td>\n      <td>80.32</td>\n      <td>7.54</td>\n      <td>0.00</td>\n      <td>0.00</td>\n      <td>0.98</td>\n      <td>154.152510</td>\n      <td>62200.000000</td>\n      <td>13914.988814</td>\n    </tr>\n    <tr>\n      <th>...</th>\n      <td>...</td>\n      <td>...</td>\n      <td>...</td>\n      <td>...</td>\n      <td>...</td>\n      <td>...</td>\n      <td>...</td>\n      <td>...</td>\n      <td>...</td>\n      <td>...</td>\n      <td>...</td>\n      <td>...</td>\n      <td>...</td>\n      <td>...</td>\n      <td>...</td>\n    </tr>\n    <tr>\n      <th>572</th>\n      <td>TKNO4</td>\n      <td>64.98</td>\n      <td>6.30</td>\n      <td>6.58</td>\n      <td>0.70</td>\n      <td>92.42</td>\n      <td>9.88</td>\n      <td>10.69</td>\n      <td>4.28</td>\n      <td>10.54</td>\n      <td>-0.11</td>\n      <td>3.65</td>\n      <td>0.011373</td>\n      <td>198.928713</td>\n      <td>2.152442</td>\n    </tr>\n    <tr>\n      <th>588</th>\n      <td>UNIP3</td>\n      <td>72.34</td>\n      <td>8.68</td>\n      <td>9.59</td>\n      <td>2.88</td>\n      <td>25.12</td>\n      <td>7.54</td>\n      <td>30.02</td>\n      <td>5.11</td>\n      <td>12.50</td>\n      <td>-0.01</td>\n      <td>2.00</td>\n      <td>0.873707</td>\n      <td>8022.407047</td>\n      <td>319.363338</td>\n    </tr>\n    <tr>\n      <th>589</th>\n      <td>UNIP5</td>\n      <td>84.50</td>\n      <td>8.25</td>\n      <td>11.20</td>\n      <td>3.36</td>\n      <td>25.12</td>\n      <td>7.54</td>\n      <td>30.02</td>\n      <td>5.11</td>\n      <td>12.50</td>\n      <td>-0.01</td>\n      <td>2.00</td>\n      <td>0.023113</td>\n      <td>8022.407047</td>\n      <td>319.363338</td>\n    </tr>\n    <tr>\n      <th>590</th>\n      <td>UNIP6</td>\n      <td>79.77</td>\n      <td>8.64</td>\n      <td>10.59</td>\n      <td>3.18</td>\n      <td>25.12</td>\n      <td>7.54</td>\n      <td>30.02</td>\n      <td>5.11</td>\n      <td>12.50</td>\n      <td>-0.01</td>\n      <td>2.00</td>\n      <td>15.402955</td>\n      <td>8022.407047</td>\n      <td>319.363338</td>\n    </tr>\n    <tr>\n      <th>615</th>\n      <td>WIZC3</td>\n      <td>6.15</td>\n      <td>7.20</td>\n      <td>9.41</td>\n      <td>2.38</td>\n      <td>2.59</td>\n      <td>0.66</td>\n      <td>25.32</td>\n      <td>2.72</td>\n      <td>10.49</td>\n      <td>0.10</td>\n      <td>0.84</td>\n      <td>4.966191</td>\n      <td>988.227003</td>\n      <td>381.554827</td>\n    </tr>\n  </tbody>\n</table>\n<p>69 rows × 15 columns</p>\n</div>"
     },
     "execution_count": 5,
     "metadata": {},
     "output_type": "execute_result"
    }
   ],
   "source": [
    "filter = df.loc[df['DY'] >= 6].loc[df['P/L'] >= 0.01].loc[df['P/L'] <= 15].loc[df['ROE'] >= 10].loc[df['EV/EBIT'] >= 0.01].loc[\n",
    "    df['EV/EBIT'] <= 15].loc[df['LIQ. CORRENTE'] >= 0.5].loc[df[' LIQUIDEZ MEDIA DIARIA'] >= 100]\n",
    "\n",
    "filter = filter.loc[:, ['TICKER', 'PRECO', 'DY', 'P/L', 'P/VP', ' VPA' , ' LPA', 'ROE', 'EV/EBIT', 'MARG. LIQUIDA', 'DIV. LIQ. / PATRI.', 'LIQ. CORRENTE',' LIQUIDEZ MEDIA DIARIA', ' VALOR DE MERCADO']]\n",
    "\n",
    "filter.fillna(value=0, inplace=True)\n",
    "\n",
    "filter[' LIQUIDEZ MEDIA DIARIA'] = (filter[' LIQUIDEZ MEDIA DIARIA']) / 1000000\n",
    "filter[' VALOR DE MERCADO'] = (filter[' VALOR DE MERCADO']) / 1000000\n",
    "filter.rename(columns={'DIV. LIQ. / PATRI.': \"DIV.LIQ\" }, inplace=True)\n",
    "filter.rename(columns={' LIQUIDEZ MEDIA DIARIA': \"LIQ.DIARIA\" }, inplace=True)\n",
    "filter.rename(columns={'MARG. LIQUIDA': \"MARG.LIQ\" }, inplace=True)\n",
    "filter.rename(columns={'LIQ. CORRENTE': \"LIQ.CORRENTE\" }, inplace=True)\n",
    "filter.rename(columns={' VALOR DE MERCADO': \"VLR.MERCADO\" }, inplace=True)\n",
    "\n",
    "filter['N_ACOES'] = filter['VLR.MERCADO'] / filter[' VPA']\n",
    "filter\n"
   ],
   "metadata": {
    "collapsed": false,
    "ExecuteTime": {
     "end_time": "2023-09-11T05:34:36.664315Z",
     "start_time": "2023-09-11T05:34:36.479610Z"
    }
   },
   "id": "fa97d0730a48ac9a"
  },
  {
   "cell_type": "code",
   "execution_count": null,
   "outputs": [],
   "source": [],
   "metadata": {
    "collapsed": false
   },
   "id": "c2e09cbc7f4ed79f"
  }
 ],
 "metadata": {
  "kernelspec": {
   "display_name": "Python 3",
   "language": "python",
   "name": "python3"
  },
  "language_info": {
   "codemirror_mode": {
    "name": "ipython",
    "version": 2
   },
   "file_extension": ".py",
   "mimetype": "text/x-python",
   "name": "python",
   "nbconvert_exporter": "python",
   "pygments_lexer": "ipython2",
   "version": "2.7.6"
  }
 },
 "nbformat": 4,
 "nbformat_minor": 5
}
