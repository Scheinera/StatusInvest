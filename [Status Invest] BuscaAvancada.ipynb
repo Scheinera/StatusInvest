{
 "cells": [
  {
   "cell_type": "code",
   "execution_count": 1,
   "id": "initial_id",
   "metadata": {
    "collapsed": true,
    "ExecuteTime": {
     "end_time": "2023-09-13T05:03:53.457751Z",
     "start_time": "2023-09-13T05:03:48.621972Z"
    }
   },
   "outputs": [],
   "source": [
    "import pandas as pd\n",
    "import matplotlib.pyplot as plt\n",
    "import time\n",
    "import dash\n",
    "import openpyxl\n",
    "import os\n",
    "from selenium import webdriver\n",
    "from selenium.webdriver.chrome.service import Service \n",
    "from webdriver_manager.chrome import ChromeDriverManager\n",
    "from selenium.webdriver.common.by import By\n",
    "from selenium.webdriver.support.ui import WebDriverWait\n",
    "from selenium.webdriver.support import expected_conditions as EC"
   ]
  },
  {
   "cell_type": "code",
   "execution_count": 2,
   "outputs": [],
   "source": [
    "\n",
    "    df = pd.read_csv(\"statusinvest-busca-avancada.csv\", sep=';', decimal=',', thousands='.', encoding='ISO-8859-1' )\n",
    "    \n",
    "    df['P/L_IDEAL'] = df[' VPA'] / df[' LPA']\n",
    "    df['UP/DOWNSIDE'] = (df[' VPA'] / df['PRECO'])-1\n",
    "    \n",
    "    valuation = df.loc[:, ['TICKER', 'PRECO', ' VPA' , 'DY', ' LPA', 'P/L', 'P/L_IDEAL', 'UP/DOWNSIDE', 'ROE', \n",
    "                           'P/VP', 'EV/EBIT' ,'LIQ. CORRENTE', 'MARG. LIQUIDA', 'DIV. LIQ. / PATRI.']]\n",
    "    valuation.fillna(value=0, inplace=True)\n",
    "    valuation.rename(columns={'LIQ. CORRENTE': \"LIQ.CORR\" }, inplace=True)\n",
    "    valuation.rename(columns={'MARG. LIQUIDA': \"MARG.LIQ\" }, inplace=True)\n",
    "    valuation.rename(columns={'DIV. LIQ. / PATRI.': \"DIV.LIQ/PL\" }, inplace=True)\n",
    "    \n",
    "    \n",
    "    #valuation = valuation.loc[valuation['DY'] >= 10].loc[\n",
    "    #    valuation['P/L'] >= 0.01].loc[valuation['P/L'] < 15].loc[\n",
    "    #    valuation['ROE'] >= 10].loc[\n",
    "    #    valuation['EV/EBIT'] >= 0.01].loc[valuation['EV/EBIT'] <= 15].loc[\n",
    "    #    valuation['LIQ.CORR'] >= 0.5]\n"
   ],
   "metadata": {
    "collapsed": false,
    "ExecuteTime": {
     "end_time": "2023-09-13T05:03:53.527624Z",
     "start_time": "2023-09-13T05:03:53.468116Z"
    }
   },
   "id": "bf05b800347381e3"
  },
  {
   "cell_type": "code",
   "execution_count": 3,
   "outputs": [],
   "source": [
    "#Instalando o driver\n",
    "servico = Service(ChromeDriverManager().install())\n",
    "\n",
    "#Abrindo o navegador\n",
    "navegador = webdriver.Chrome(service=servico)"
   ],
   "metadata": {
    "collapsed": false,
    "ExecuteTime": {
     "end_time": "2023-09-13T05:03:58.683796Z",
     "start_time": "2023-09-13T05:03:53.527426Z"
    }
   },
   "id": "e1e1f4ee0f2825de"
  },
  {
   "cell_type": "code",
   "execution_count": 4,
   "outputs": [],
   "source": [
    "ticker = valuation['TICKER']\n",
    "lista_stocks = ticker.to_list()\n",
    "\n",
    "lista_indicadores_stocks = []\n",
    "for stocks in lista_stocks:\n",
    "\n",
    "    #Criando url\n",
    "    url = f\"https://statusinvest.com.br/acoes/{stocks}\"\n",
    "\n",
    "    \n",
    "    try:\n",
    "        #Abrindo o navegador\n",
    "        navegador.get(url)\n",
    "\n",
    "        time.sleep(0.25)\n",
    "    \n",
    "        #Coletando infos\n",
    "        PRECO = navegador.find_element(By.XPATH, '//*[@id=\"main-2\"]/div[2]/div/div[1]/div/div[1]/div/div[1]/strong').text\n",
    "        MIN_MES = navegador.find_element(By.XPATH, '//*[@id=\"main-2\"]/div[2]/div/div[1]/div/div[2]/div/div[2]/div/span[2]').text\n",
    "        MAX_MES = navegador.find_element(By.XPATH, '//*[@id=\"main-2\"]/div[2]/div/div[1]/div/div[3]/div/div[2]/div/span[2]').text\n",
    "        MIN_52S = navegador.find_element(By.XPATH, '//*[@id=\"main-2\"]/div[2]/div/div[1]/div/div[2]/div/div[1]/strong').text\n",
    "        MAX_52S = navegador.find_element(By.XPATH, '//*[@id=\"main-2\"]/div[2]/div/div[1]/div/div[3]/div/div[1]/strong').text\n",
    "        DY = navegador.find_element(By.XPATH, '//*[@id=\"main-2\"]/div[2]/div/div[1]/div/div[4]/div/div[1]/strong').text\n",
    "        GAIN_12M = navegador.find_element(By.XPATH, '//*[@id=\"main-2\"]/div[2]/div/div[1]/div/div[5]/div/div[1]/strong').text\n",
    "        GAIN_MES = navegador.find_element(By.XPATH, '//*[@id=\"main-2\"]/div[2]/div/div[1]/div/div[5]/div/div[2]/div/span[2]/b').text\n",
    "        QTDEPAPEL = navegador.find_element(By.XPATH, '//*[@id=\"company-section\"]/div[1]/div/div[2]/div[9]/div/div/strong').text\n",
    "        SEGMENTO = navegador.find_element(By.XPATH, '//*[@id=\"company-section\"]/div[1]/div/div[3]/div/div[3]/div/div/div/a/strong').text\n",
    "        \n",
    "        \n",
    "\n",
    "        #Criando dict\n",
    "        dicionario = {  \"stocks\": stocks, \n",
    "                        \"PRECO\": PRECO,\n",
    "                        \"MIN_MES\": MIN_MES, \n",
    "                        \"MAX_MES\": MAX_MES, \n",
    "                        \"MIN_52S\": MIN_52S, \n",
    "                        \"MAX_52S\": MAX_52S, \n",
    "                        \"DY\": DY,\n",
    "                        \"VAL_12M\": GAIN_12M,\n",
    "                        \"VAL_MES\": GAIN_MES,\n",
    "                        \"QTDEPAPEL\": QTDEPAPEL,\n",
    "                        \"SEGMENTO\": SEGMENTO\n",
    "                        \n",
    "                        }\n",
    "\n",
    "        #Criando lista de dicts\n",
    "        lista_indicadores_stocks.append(dicionario)\n",
    "    except Exception as e:\n",
    "        print(e)\n",
    "\n",
    "#Fecha o navegador\n",
    "navegador.quit()\n"
   ],
   "metadata": {
    "collapsed": false,
    "ExecuteTime": {
     "end_time": "2023-09-13T05:19:11.277771Z",
     "start_time": "2023-09-13T05:03:58.651593Z"
    }
   },
   "id": "db5440719f90c5d4"
  },
  {
   "cell_type": "code",
   "execution_count": 5,
   "outputs": [],
   "source": [
    "list_stocks = pd.DataFrame.from_dict(lista_indicadores_stocks)\n",
    "\n",
    "list_stocks = list_stocks.replace('-', '')\n",
    "list_stocks = list_stocks.replace('-%', '')\n",
    "\n",
    "\n",
    "list_stocks['MIN_MES'] = (list_stocks['MIN_MES']).str.lstrip('R$ ')\n",
    "list_stocks['MAX_MES'] = (list_stocks['MAX_MES']).str.lstrip('R$ ')\n",
    "list_stocks['MIN_MES'] = (list_stocks['MIN_MES']).str.strip('- ')\n",
    "list_stocks['MAX_MES'] = (list_stocks['MAX_MES']).str.strip('- ')\n",
    "\n",
    "\n",
    "\n",
    "list_stocks['VAL_12M'] = (list_stocks['VAL_12M']).str.rstrip('%')\n",
    "list_stocks['VAL_MES'] = (list_stocks['VAL_MES']).str.rstrip('%')\n",
    "\n",
    "list_stocks.to_csv('list_stocks.csv')\n",
    "\n",
    "\n",
    "\n",
    "list_stocks = pd.read_csv(\"list_stocks.csv\", sep=',', decimal=',', thousands='.', encoding='ISO-8859-1' )\n",
    "\n",
    "list_stocks = list_stocks.drop(['Unnamed: 0'],axis=1)\n",
    "list_stocks.fillna(value=0, inplace=True)\n",
    "\n",
    "\n",
    "list_stocks = list_stocks.replace('AcessÃ³rios', 'Acessorios')\n",
    "list_stocks = list_stocks.replace('Armas e MuniÃ§Ãµes', 'Armas e Municoes')\n",
    "list_stocks = list_stocks.replace('Artefatos de Ferro e AÃ§o', 'Artefatos de Ferro e Aco')\n",
    "list_stocks = list_stocks.replace('AutomÃ³veis e Motocicletas', 'Automoveis e Motocicletas')\n",
    "list_stocks = list_stocks.replace('AÃ§ucar e Alcool', 'Acucar e Alcool')\n",
    "list_stocks = list_stocks.replace('CalÃ§ados', 'Calcados')\n",
    "list_stocks = list_stocks.replace('ConstruÃ§Ã£o Pesada', 'Construcao Pesada')\n",
    "list_stocks = list_stocks.replace('EletrodomÃ©sticos', 'Eletrodomesticos')\n",
    "list_stocks = list_stocks.replace('Energia ElÃ©trica', 'Energia Eletrica')\n",
    "list_stocks = list_stocks.replace('Equipamentos e ServiÃ§os', 'Equipamentos e Servicos')\n",
    "list_stocks = list_stocks.replace('ExploraÃ§Ã£o de ImÃ³veis', 'Exploracao de Imoveis')\n",
    "list_stocks = list_stocks.replace('ExploraÃ§Ã£o de Rodovias', 'Exploracao de Rodovias')\n",
    "list_stocks = list_stocks.replace('ExploraÃ§Ã£o. Refino e DistribuiÃ§Ã£o', 'Exploracao Refino e Distribuicao')\n",
    "list_stocks = list_stocks.replace('GestÃ£o de Recursos e Investimentos', 'Gestao Recursos e Investimentos')\n",
    "list_stocks = list_stocks.replace('GÃ¡s', 'Gas')\n",
    "list_stocks = list_stocks.replace('IncorporaÃ§Ãµes', 'Incorporacoes')\n",
    "list_stocks = list_stocks.replace('IntermediaÃ§Ã£o ImobiliÃ¡ria', 'Intermediacao Imobiliaria')\n",
    "list_stocks = list_stocks.replace('LogÃ­stica', 'Logistica')\n",
    "list_stocks = list_stocks.replace('Material AeronÃ¡utico e de Defesa', 'Material Aeronautico e Defesa')\n",
    "list_stocks = list_stocks.replace('Material RodoviÃ¡rio', 'Material Rodoviario')\n",
    "list_stocks = list_stocks.replace('Minerais MetÃ¡licos', 'Minerais Metalicos')\n",
    "list_stocks = list_stocks.replace('MÃ¡q. e Equip. ConstruÃ§Ã£o e AgrÃ­colas', 'Maq Equip Construcao e Agricolas')\n",
    "list_stocks = list_stocks.replace('MÃ¡q. e Equip. Industriais', 'Maq Equip Industriais')\n",
    "list_stocks = list_stocks.replace('MÃ³veis', 'Moveis')\n",
    "list_stocks = list_stocks.replace('PetroquÃ­micos', 'Petroquimicos')\n",
    "list_stocks = list_stocks.replace('Produtos para ConstruÃ§Ã£o', 'Produtos para Construcao')\n",
    "list_stocks = list_stocks.replace('ProduÃ§Ã£o de Eventos e Shows', 'Producao de Eventos e Shows')\n",
    "list_stocks = list_stocks.replace('ProduÃ§Ã£o e DifusÃ£o de Filmes e Programas', 'Producao Difusao de Filmes e Programas')\n",
    "list_stocks = list_stocks.replace('Programas de FidelizaÃ§Ã£o', 'Programas de Fidelizacao')\n",
    "list_stocks = list_stocks.replace('Programas e ServiÃ§os', 'Programas e Servicos')\n",
    "list_stocks = list_stocks.replace('QuÃ­micos Diversos', 'Quimicos Diversos')\n",
    "list_stocks = list_stocks.replace('Serv.MÃ©d.Hospit..AnÃ¡lises e DiagnÃ³sticos', 'Serv Mao Hosp Analises e Diagnosticos')\n",
    "list_stocks = list_stocks.replace('ServiÃ§os Diversos', 'Servicos Diversos')\n",
    "list_stocks = list_stocks.replace('ServiÃ§os Educacionais', 'Servicos Educacionais')\n",
    "list_stocks = list_stocks.replace('ServiÃ§os Financeiros Diversos', 'Servicos Financeiros Diversos')\n",
    "list_stocks = list_stocks.replace('Soc. CrÃ©dito e Financiamento', 'Soc Credito e Financiamento')\n",
    "list_stocks = list_stocks.replace('Tecidos. VestuÃ¡rio e CalÃ§ados', 'Tecidos Vestuario e Calcados')\n",
    "list_stocks = list_stocks.replace('TelecomunicaÃ§Ãµes', 'Telecomunicacoes')\n",
    "list_stocks = list_stocks.replace('Transporte AÃ©reo', 'Transporte Aereo')\n",
    "list_stocks = list_stocks.replace('Transporte FerroviÃ¡rio', 'Transporte Ferroviario')\n",
    "list_stocks = list_stocks.replace('Transporte HidroviÃ¡rio', 'Transporte Hidroviario')\n",
    "list_stocks = list_stocks.replace('UtensÃ­lios DomÃ©sticos', 'Utensilios Domesticos')\n",
    "list_stocks = list_stocks.replace('VestuÃ¡rio', 'Vestuario')\n",
    "list_stocks = list_stocks.replace('Ãgua e Saneamento', 'Agua e Saneamento')\n"
   ],
   "metadata": {
    "collapsed": false,
    "ExecuteTime": {
     "end_time": "2023-09-13T05:19:11.585395Z",
     "start_time": "2023-09-13T05:19:11.511905Z"
    }
   },
   "id": "591e751df974b801"
  },
  {
   "cell_type": "code",
   "execution_count": 6,
   "outputs": [
    {
     "data": {
      "text/plain": "    TICKERS  PRECO    VPA    DY   LPA    P/L  P/L_IDEAL  UP/DOWNSIDE    ROE  \\\n0     AALR3   7.84   7.32  0.00 -2.42  -3.13  -3.024793    -0.066327 -33.11   \n1     ABCB4  19.23  23.98  8.43  3.48   5.35   6.890805     0.247010  14.50   \n2     ABEV3  13.69   5.40  5.46  0.91  15.39   5.934066    -0.605551  16.78   \n3     ADHM3   1.56  -1.21  0.00 -0.38  -4.09   3.184211    -1.775641 -31.47   \n4     AERI3   0.98   1.10  0.00 -0.14  -6.97  -7.857143     0.122449 -12.65   \n..      ...    ...    ...   ...   ...    ...        ...          ...    ...   \n615   WIZC3   6.29   2.59  7.20  0.66   9.41   3.924242    -0.588235  25.32   \n616   WLMM3  23.11  17.94  3.14  3.11   8.08   5.768489    -0.223713  17.35   \n617   WLMM4  39.00  17.94  2.32  3.11  12.04   5.768489    -0.540000  17.35   \n618   YDUQ3  20.60  10.16  0.00  0.36  56.84  28.222222    -0.506796   3.51   \n619   ZAMP3   5.68   4.97  0.00 -0.40 -13.39 -12.425000    -0.125000  -8.15   \n\n     P/VP  EV/EBIT  LIQ.CORR  MARG.LIQ  DIV.LIQ/PL  \n0    1.04  -157.54      0.55    -25.30        1.03  \n1    0.78     4.25      1.50     19.35        0.00  \n2    2.58    12.12      1.01     17.26       -0.10  \n3   -1.29    -5.69      0.00 -18860.61        0.00  \n4    0.88     6.19      1.63     -3.59        1.11  \n..    ...      ...       ...       ...         ...  \n615  2.38     2.72      0.84     10.49        0.10  \n616  1.40     7.22      2.48      5.11        0.00  \n617  2.09     7.22      2.48      5.11        0.00  \n618  2.00    13.34      1.56      2.27        1.36  \n619  1.09    25.49      1.18     -2.95        0.54  \n\n[620 rows x 14 columns]",
      "text/html": "<div>\n<style scoped>\n    .dataframe tbody tr th:only-of-type {\n        vertical-align: middle;\n    }\n\n    .dataframe tbody tr th {\n        vertical-align: top;\n    }\n\n    .dataframe thead th {\n        text-align: right;\n    }\n</style>\n<table border=\"1\" class=\"dataframe\">\n  <thead>\n    <tr style=\"text-align: right;\">\n      <th></th>\n      <th>TICKERS</th>\n      <th>PRECO</th>\n      <th>VPA</th>\n      <th>DY</th>\n      <th>LPA</th>\n      <th>P/L</th>\n      <th>P/L_IDEAL</th>\n      <th>UP/DOWNSIDE</th>\n      <th>ROE</th>\n      <th>P/VP</th>\n      <th>EV/EBIT</th>\n      <th>LIQ.CORR</th>\n      <th>MARG.LIQ</th>\n      <th>DIV.LIQ/PL</th>\n    </tr>\n  </thead>\n  <tbody>\n    <tr>\n      <th>0</th>\n      <td>AALR3</td>\n      <td>7.84</td>\n      <td>7.32</td>\n      <td>0.00</td>\n      <td>-2.42</td>\n      <td>-3.13</td>\n      <td>-3.024793</td>\n      <td>-0.066327</td>\n      <td>-33.11</td>\n      <td>1.04</td>\n      <td>-157.54</td>\n      <td>0.55</td>\n      <td>-25.30</td>\n      <td>1.03</td>\n    </tr>\n    <tr>\n      <th>1</th>\n      <td>ABCB4</td>\n      <td>19.23</td>\n      <td>23.98</td>\n      <td>8.43</td>\n      <td>3.48</td>\n      <td>5.35</td>\n      <td>6.890805</td>\n      <td>0.247010</td>\n      <td>14.50</td>\n      <td>0.78</td>\n      <td>4.25</td>\n      <td>1.50</td>\n      <td>19.35</td>\n      <td>0.00</td>\n    </tr>\n    <tr>\n      <th>2</th>\n      <td>ABEV3</td>\n      <td>13.69</td>\n      <td>5.40</td>\n      <td>5.46</td>\n      <td>0.91</td>\n      <td>15.39</td>\n      <td>5.934066</td>\n      <td>-0.605551</td>\n      <td>16.78</td>\n      <td>2.58</td>\n      <td>12.12</td>\n      <td>1.01</td>\n      <td>17.26</td>\n      <td>-0.10</td>\n    </tr>\n    <tr>\n      <th>3</th>\n      <td>ADHM3</td>\n      <td>1.56</td>\n      <td>-1.21</td>\n      <td>0.00</td>\n      <td>-0.38</td>\n      <td>-4.09</td>\n      <td>3.184211</td>\n      <td>-1.775641</td>\n      <td>-31.47</td>\n      <td>-1.29</td>\n      <td>-5.69</td>\n      <td>0.00</td>\n      <td>-18860.61</td>\n      <td>0.00</td>\n    </tr>\n    <tr>\n      <th>4</th>\n      <td>AERI3</td>\n      <td>0.98</td>\n      <td>1.10</td>\n      <td>0.00</td>\n      <td>-0.14</td>\n      <td>-6.97</td>\n      <td>-7.857143</td>\n      <td>0.122449</td>\n      <td>-12.65</td>\n      <td>0.88</td>\n      <td>6.19</td>\n      <td>1.63</td>\n      <td>-3.59</td>\n      <td>1.11</td>\n    </tr>\n    <tr>\n      <th>...</th>\n      <td>...</td>\n      <td>...</td>\n      <td>...</td>\n      <td>...</td>\n      <td>...</td>\n      <td>...</td>\n      <td>...</td>\n      <td>...</td>\n      <td>...</td>\n      <td>...</td>\n      <td>...</td>\n      <td>...</td>\n      <td>...</td>\n      <td>...</td>\n    </tr>\n    <tr>\n      <th>615</th>\n      <td>WIZC3</td>\n      <td>6.29</td>\n      <td>2.59</td>\n      <td>7.20</td>\n      <td>0.66</td>\n      <td>9.41</td>\n      <td>3.924242</td>\n      <td>-0.588235</td>\n      <td>25.32</td>\n      <td>2.38</td>\n      <td>2.72</td>\n      <td>0.84</td>\n      <td>10.49</td>\n      <td>0.10</td>\n    </tr>\n    <tr>\n      <th>616</th>\n      <td>WLMM3</td>\n      <td>23.11</td>\n      <td>17.94</td>\n      <td>3.14</td>\n      <td>3.11</td>\n      <td>8.08</td>\n      <td>5.768489</td>\n      <td>-0.223713</td>\n      <td>17.35</td>\n      <td>1.40</td>\n      <td>7.22</td>\n      <td>2.48</td>\n      <td>5.11</td>\n      <td>0.00</td>\n    </tr>\n    <tr>\n      <th>617</th>\n      <td>WLMM4</td>\n      <td>39.00</td>\n      <td>17.94</td>\n      <td>2.32</td>\n      <td>3.11</td>\n      <td>12.04</td>\n      <td>5.768489</td>\n      <td>-0.540000</td>\n      <td>17.35</td>\n      <td>2.09</td>\n      <td>7.22</td>\n      <td>2.48</td>\n      <td>5.11</td>\n      <td>0.00</td>\n    </tr>\n    <tr>\n      <th>618</th>\n      <td>YDUQ3</td>\n      <td>20.60</td>\n      <td>10.16</td>\n      <td>0.00</td>\n      <td>0.36</td>\n      <td>56.84</td>\n      <td>28.222222</td>\n      <td>-0.506796</td>\n      <td>3.51</td>\n      <td>2.00</td>\n      <td>13.34</td>\n      <td>1.56</td>\n      <td>2.27</td>\n      <td>1.36</td>\n    </tr>\n    <tr>\n      <th>619</th>\n      <td>ZAMP3</td>\n      <td>5.68</td>\n      <td>4.97</td>\n      <td>0.00</td>\n      <td>-0.40</td>\n      <td>-13.39</td>\n      <td>-12.425000</td>\n      <td>-0.125000</td>\n      <td>-8.15</td>\n      <td>1.09</td>\n      <td>25.49</td>\n      <td>1.18</td>\n      <td>-2.95</td>\n      <td>0.54</td>\n    </tr>\n  </tbody>\n</table>\n<p>620 rows × 14 columns</p>\n</div>"
     },
     "execution_count": 6,
     "metadata": {},
     "output_type": "execute_result"
    }
   ],
   "source": [
    "valuation.rename(columns={'TICKER': \"TICKERS\" }, inplace=True)\n",
    "valuation"
   ],
   "metadata": {
    "collapsed": false,
    "ExecuteTime": {
     "end_time": "2023-09-13T05:19:11.669322Z",
     "start_time": "2023-09-13T05:19:11.586036Z"
    }
   },
   "id": "8e7a06438738dfb2"
  },
  {
   "cell_type": "code",
   "execution_count": 7,
   "outputs": [
    {
     "data": {
      "text/plain": "    TICKERS  PRECO  MIN_MES  MAX_MES  MIN_52S  MAX_52S    DY  VAL_12M  \\\n0     AALR3   7.84     7.55     7.93     7.55    24.30  0.00   -60.94   \n1     ABCB4  19.23    18.35    19.23    15.27    21.24  8.43     2.72   \n2     ABEV3  13.69    13.69    14.01    12.86    16.03  5.46    -7.00   \n3     ADHM3   1.56     1.56     2.10     0.00     0.00  0.00     0.00   \n4     AERI3   0.98     0.94     1.03     0.88     2.38  0.00   -58.82   \n..      ...    ...      ...      ...      ...      ...   ...      ...   \n615   WIZC3   6.29     6.13     6.46     4.91     8.41  7.20   -21.86   \n616   WLMM3  23.11    23.11    25.17    19.22    25.17  3.14    20.24   \n617   WLMM4  39.00    37.49    39.00    14.88    39.00  2.32    45.25   \n618   YDUQ3  20.60    19.87    21.11     6.47    23.70  0.00    80.54   \n619   ZAMP3   5.68     5.38     5.68     3.63     8.15  0.00   -30.31   \n\n     VAL_MES    QTDEPAPEL                               SEGMENTO  \n0       0.51    118292816  Serv Mao Hosp Analises e Diagnosticos  \n1       3.00    226090118                                 Bancos  \n2      -1.30  15753833284               Cervejas e Refrigerantes  \n3       0.00     16307545  Serv Mao Hosp Analises e Diagnosticos  \n4       1.03    766213456                  Maq Equip Industriais  \n..       ...          ...                                    ...  \n615     0.80    159907282                  Corretoras de Seguros  \n616    -8.18     36414670                 Material de Transporte  \n617     2.39     36414670                 Material de Transporte  \n618    -2.42    309088851                  Servicos Educacionais  \n619     2.34    275355447                Restaurante e Similares  \n\n[620 rows x 11 columns]",
      "text/html": "<div>\n<style scoped>\n    .dataframe tbody tr th:only-of-type {\n        vertical-align: middle;\n    }\n\n    .dataframe tbody tr th {\n        vertical-align: top;\n    }\n\n    .dataframe thead th {\n        text-align: right;\n    }\n</style>\n<table border=\"1\" class=\"dataframe\">\n  <thead>\n    <tr style=\"text-align: right;\">\n      <th></th>\n      <th>TICKERS</th>\n      <th>PRECO</th>\n      <th>MIN_MES</th>\n      <th>MAX_MES</th>\n      <th>MIN_52S</th>\n      <th>MAX_52S</th>\n      <th>DY</th>\n      <th>VAL_12M</th>\n      <th>VAL_MES</th>\n      <th>QTDEPAPEL</th>\n      <th>SEGMENTO</th>\n    </tr>\n  </thead>\n  <tbody>\n    <tr>\n      <th>0</th>\n      <td>AALR3</td>\n      <td>7.84</td>\n      <td>7.55</td>\n      <td>7.93</td>\n      <td>7.55</td>\n      <td>24.30</td>\n      <td>0.00</td>\n      <td>-60.94</td>\n      <td>0.51</td>\n      <td>118292816</td>\n      <td>Serv Mao Hosp Analises e Diagnosticos</td>\n    </tr>\n    <tr>\n      <th>1</th>\n      <td>ABCB4</td>\n      <td>19.23</td>\n      <td>18.35</td>\n      <td>19.23</td>\n      <td>15.27</td>\n      <td>21.24</td>\n      <td>8.43</td>\n      <td>2.72</td>\n      <td>3.00</td>\n      <td>226090118</td>\n      <td>Bancos</td>\n    </tr>\n    <tr>\n      <th>2</th>\n      <td>ABEV3</td>\n      <td>13.69</td>\n      <td>13.69</td>\n      <td>14.01</td>\n      <td>12.86</td>\n      <td>16.03</td>\n      <td>5.46</td>\n      <td>-7.00</td>\n      <td>-1.30</td>\n      <td>15753833284</td>\n      <td>Cervejas e Refrigerantes</td>\n    </tr>\n    <tr>\n      <th>3</th>\n      <td>ADHM3</td>\n      <td>1.56</td>\n      <td>1.56</td>\n      <td>2.10</td>\n      <td>0.00</td>\n      <td>0.00</td>\n      <td>0.00</td>\n      <td>0.00</td>\n      <td>0.00</td>\n      <td>16307545</td>\n      <td>Serv Mao Hosp Analises e Diagnosticos</td>\n    </tr>\n    <tr>\n      <th>4</th>\n      <td>AERI3</td>\n      <td>0.98</td>\n      <td>0.94</td>\n      <td>1.03</td>\n      <td>0.88</td>\n      <td>2.38</td>\n      <td>0.00</td>\n      <td>-58.82</td>\n      <td>1.03</td>\n      <td>766213456</td>\n      <td>Maq Equip Industriais</td>\n    </tr>\n    <tr>\n      <th>...</th>\n      <td>...</td>\n      <td>...</td>\n      <td>...</td>\n      <td>...</td>\n      <td>...</td>\n      <td>...</td>\n      <td>...</td>\n      <td>...</td>\n      <td>...</td>\n      <td>...</td>\n      <td>...</td>\n    </tr>\n    <tr>\n      <th>615</th>\n      <td>WIZC3</td>\n      <td>6.29</td>\n      <td>6.13</td>\n      <td>6.46</td>\n      <td>4.91</td>\n      <td>8.41</td>\n      <td>7.20</td>\n      <td>-21.86</td>\n      <td>0.80</td>\n      <td>159907282</td>\n      <td>Corretoras de Seguros</td>\n    </tr>\n    <tr>\n      <th>616</th>\n      <td>WLMM3</td>\n      <td>23.11</td>\n      <td>23.11</td>\n      <td>25.17</td>\n      <td>19.22</td>\n      <td>25.17</td>\n      <td>3.14</td>\n      <td>20.24</td>\n      <td>-8.18</td>\n      <td>36414670</td>\n      <td>Material de Transporte</td>\n    </tr>\n    <tr>\n      <th>617</th>\n      <td>WLMM4</td>\n      <td>39.00</td>\n      <td>37.49</td>\n      <td>39.00</td>\n      <td>14.88</td>\n      <td>39.00</td>\n      <td>2.32</td>\n      <td>45.25</td>\n      <td>2.39</td>\n      <td>36414670</td>\n      <td>Material de Transporte</td>\n    </tr>\n    <tr>\n      <th>618</th>\n      <td>YDUQ3</td>\n      <td>20.60</td>\n      <td>19.87</td>\n      <td>21.11</td>\n      <td>6.47</td>\n      <td>23.70</td>\n      <td>0.00</td>\n      <td>80.54</td>\n      <td>-2.42</td>\n      <td>309088851</td>\n      <td>Servicos Educacionais</td>\n    </tr>\n    <tr>\n      <th>619</th>\n      <td>ZAMP3</td>\n      <td>5.68</td>\n      <td>5.38</td>\n      <td>5.68</td>\n      <td>3.63</td>\n      <td>8.15</td>\n      <td>0.00</td>\n      <td>-30.31</td>\n      <td>2.34</td>\n      <td>275355447</td>\n      <td>Restaurante e Similares</td>\n    </tr>\n  </tbody>\n</table>\n<p>620 rows × 11 columns</p>\n</div>"
     },
     "execution_count": 7,
     "metadata": {},
     "output_type": "execute_result"
    }
   ],
   "source": [
    "list_stocks.rename(columns={'stocks': \"TICKERS\" }, inplace=True)\n",
    "list_stocks"
   ],
   "metadata": {
    "collapsed": false,
    "ExecuteTime": {
     "end_time": "2023-09-13T05:19:11.790933Z",
     "start_time": "2023-09-13T05:19:11.655215Z"
    }
   },
   "id": "bbc541d90298a7fe"
  },
  {
   "cell_type": "code",
   "execution_count": 8,
   "outputs": [
    {
     "data": {
      "text/plain": "    TICKERS  PRECO_x    VPA  DY_x   LPA    P/L  P/L_IDEAL  UP/DOWNSIDE    ROE  \\\n0     AALR3     7.84   7.32  0.00 -2.42  -3.13  -3.024793    -0.066327 -33.11   \n1     ABCB4    19.23  23.98  8.43  3.48   5.35   6.890805     0.247010  14.50   \n2     ABEV3    13.69   5.40  5.46  0.91  15.39   5.934066    -0.605551  16.78   \n3     ADHM3     1.56  -1.21  0.00 -0.38  -4.09   3.184211    -1.775641 -31.47   \n4     AERI3     0.98   1.10  0.00 -0.14  -6.97  -7.857143     0.122449 -12.65   \n..      ...      ...    ...   ...   ...    ...        ...          ...    ...   \n615   WIZC3     6.29   2.59  7.20  0.66   9.41   3.924242    -0.588235  25.32   \n616   WLMM3    23.11  17.94  3.14  3.11   8.08   5.768489    -0.223713  17.35   \n617   WLMM4    39.00  17.94  2.32  3.11  12.04   5.768489    -0.540000  17.35   \n618   YDUQ3    20.60  10.16  0.00  0.36  56.84  28.222222    -0.506796   3.51   \n619   ZAMP3     5.68   4.97  0.00 -0.40 -13.39 -12.425000    -0.125000  -8.15   \n\n     P/VP  ...  PRECO_y  MIN_MES  MAX_MES  MIN_52S  MAX_52S  DY_y  VAL_12M  \\\n0    1.04  ...     7.84     7.55     7.93     7.55    24.30  0.00   -60.94   \n1    0.78  ...    19.23    18.35    19.23    15.27    21.24  8.43     2.72   \n2    2.58  ...    13.69    13.69    14.01    12.86    16.03  5.46    -7.00   \n3   -1.29  ...     1.56     1.56     2.10     0.00     0.00  0.00     0.00   \n4    0.88  ...     0.98     0.94     1.03     0.88     2.38  0.00   -58.82   \n..    ...  ...      ...      ...      ...      ...      ...   ...      ...   \n615  2.38  ...     6.29     6.13     6.46     4.91     8.41  7.20   -21.86   \n616  1.40  ...    23.11    23.11    25.17    19.22    25.17  3.14    20.24   \n617  2.09  ...    39.00    37.49    39.00    14.88    39.00  2.32    45.25   \n618  2.00  ...    20.60    19.87    21.11     6.47    23.70  0.00    80.54   \n619  1.09  ...     5.68     5.38     5.68     3.63     8.15  0.00   -30.31   \n\n     VAL_MES    QTDEPAPEL                               SEGMENTO  \n0       0.51    118292816  Serv Mao Hosp Analises e Diagnosticos  \n1       3.00    226090118                                 Bancos  \n2      -1.30  15753833284               Cervejas e Refrigerantes  \n3       0.00     16307545  Serv Mao Hosp Analises e Diagnosticos  \n4       1.03    766213456                  Maq Equip Industriais  \n..       ...          ...                                    ...  \n615     0.80    159907282                  Corretoras de Seguros  \n616    -8.18     36414670                 Material de Transporte  \n617     2.39     36414670                 Material de Transporte  \n618    -2.42    309088851                  Servicos Educacionais  \n619     2.34    275355447                Restaurante e Similares  \n\n[620 rows x 24 columns]",
      "text/html": "<div>\n<style scoped>\n    .dataframe tbody tr th:only-of-type {\n        vertical-align: middle;\n    }\n\n    .dataframe tbody tr th {\n        vertical-align: top;\n    }\n\n    .dataframe thead th {\n        text-align: right;\n    }\n</style>\n<table border=\"1\" class=\"dataframe\">\n  <thead>\n    <tr style=\"text-align: right;\">\n      <th></th>\n      <th>TICKERS</th>\n      <th>PRECO_x</th>\n      <th>VPA</th>\n      <th>DY_x</th>\n      <th>LPA</th>\n      <th>P/L</th>\n      <th>P/L_IDEAL</th>\n      <th>UP/DOWNSIDE</th>\n      <th>ROE</th>\n      <th>P/VP</th>\n      <th>...</th>\n      <th>PRECO_y</th>\n      <th>MIN_MES</th>\n      <th>MAX_MES</th>\n      <th>MIN_52S</th>\n      <th>MAX_52S</th>\n      <th>DY_y</th>\n      <th>VAL_12M</th>\n      <th>VAL_MES</th>\n      <th>QTDEPAPEL</th>\n      <th>SEGMENTO</th>\n    </tr>\n  </thead>\n  <tbody>\n    <tr>\n      <th>0</th>\n      <td>AALR3</td>\n      <td>7.84</td>\n      <td>7.32</td>\n      <td>0.00</td>\n      <td>-2.42</td>\n      <td>-3.13</td>\n      <td>-3.024793</td>\n      <td>-0.066327</td>\n      <td>-33.11</td>\n      <td>1.04</td>\n      <td>...</td>\n      <td>7.84</td>\n      <td>7.55</td>\n      <td>7.93</td>\n      <td>7.55</td>\n      <td>24.30</td>\n      <td>0.00</td>\n      <td>-60.94</td>\n      <td>0.51</td>\n      <td>118292816</td>\n      <td>Serv Mao Hosp Analises e Diagnosticos</td>\n    </tr>\n    <tr>\n      <th>1</th>\n      <td>ABCB4</td>\n      <td>19.23</td>\n      <td>23.98</td>\n      <td>8.43</td>\n      <td>3.48</td>\n      <td>5.35</td>\n      <td>6.890805</td>\n      <td>0.247010</td>\n      <td>14.50</td>\n      <td>0.78</td>\n      <td>...</td>\n      <td>19.23</td>\n      <td>18.35</td>\n      <td>19.23</td>\n      <td>15.27</td>\n      <td>21.24</td>\n      <td>8.43</td>\n      <td>2.72</td>\n      <td>3.00</td>\n      <td>226090118</td>\n      <td>Bancos</td>\n    </tr>\n    <tr>\n      <th>2</th>\n      <td>ABEV3</td>\n      <td>13.69</td>\n      <td>5.40</td>\n      <td>5.46</td>\n      <td>0.91</td>\n      <td>15.39</td>\n      <td>5.934066</td>\n      <td>-0.605551</td>\n      <td>16.78</td>\n      <td>2.58</td>\n      <td>...</td>\n      <td>13.69</td>\n      <td>13.69</td>\n      <td>14.01</td>\n      <td>12.86</td>\n      <td>16.03</td>\n      <td>5.46</td>\n      <td>-7.00</td>\n      <td>-1.30</td>\n      <td>15753833284</td>\n      <td>Cervejas e Refrigerantes</td>\n    </tr>\n    <tr>\n      <th>3</th>\n      <td>ADHM3</td>\n      <td>1.56</td>\n      <td>-1.21</td>\n      <td>0.00</td>\n      <td>-0.38</td>\n      <td>-4.09</td>\n      <td>3.184211</td>\n      <td>-1.775641</td>\n      <td>-31.47</td>\n      <td>-1.29</td>\n      <td>...</td>\n      <td>1.56</td>\n      <td>1.56</td>\n      <td>2.10</td>\n      <td>0.00</td>\n      <td>0.00</td>\n      <td>0.00</td>\n      <td>0.00</td>\n      <td>0.00</td>\n      <td>16307545</td>\n      <td>Serv Mao Hosp Analises e Diagnosticos</td>\n    </tr>\n    <tr>\n      <th>4</th>\n      <td>AERI3</td>\n      <td>0.98</td>\n      <td>1.10</td>\n      <td>0.00</td>\n      <td>-0.14</td>\n      <td>-6.97</td>\n      <td>-7.857143</td>\n      <td>0.122449</td>\n      <td>-12.65</td>\n      <td>0.88</td>\n      <td>...</td>\n      <td>0.98</td>\n      <td>0.94</td>\n      <td>1.03</td>\n      <td>0.88</td>\n      <td>2.38</td>\n      <td>0.00</td>\n      <td>-58.82</td>\n      <td>1.03</td>\n      <td>766213456</td>\n      <td>Maq Equip Industriais</td>\n    </tr>\n    <tr>\n      <th>...</th>\n      <td>...</td>\n      <td>...</td>\n      <td>...</td>\n      <td>...</td>\n      <td>...</td>\n      <td>...</td>\n      <td>...</td>\n      <td>...</td>\n      <td>...</td>\n      <td>...</td>\n      <td>...</td>\n      <td>...</td>\n      <td>...</td>\n      <td>...</td>\n      <td>...</td>\n      <td>...</td>\n      <td>...</td>\n      <td>...</td>\n      <td>...</td>\n      <td>...</td>\n      <td>...</td>\n    </tr>\n    <tr>\n      <th>615</th>\n      <td>WIZC3</td>\n      <td>6.29</td>\n      <td>2.59</td>\n      <td>7.20</td>\n      <td>0.66</td>\n      <td>9.41</td>\n      <td>3.924242</td>\n      <td>-0.588235</td>\n      <td>25.32</td>\n      <td>2.38</td>\n      <td>...</td>\n      <td>6.29</td>\n      <td>6.13</td>\n      <td>6.46</td>\n      <td>4.91</td>\n      <td>8.41</td>\n      <td>7.20</td>\n      <td>-21.86</td>\n      <td>0.80</td>\n      <td>159907282</td>\n      <td>Corretoras de Seguros</td>\n    </tr>\n    <tr>\n      <th>616</th>\n      <td>WLMM3</td>\n      <td>23.11</td>\n      <td>17.94</td>\n      <td>3.14</td>\n      <td>3.11</td>\n      <td>8.08</td>\n      <td>5.768489</td>\n      <td>-0.223713</td>\n      <td>17.35</td>\n      <td>1.40</td>\n      <td>...</td>\n      <td>23.11</td>\n      <td>23.11</td>\n      <td>25.17</td>\n      <td>19.22</td>\n      <td>25.17</td>\n      <td>3.14</td>\n      <td>20.24</td>\n      <td>-8.18</td>\n      <td>36414670</td>\n      <td>Material de Transporte</td>\n    </tr>\n    <tr>\n      <th>617</th>\n      <td>WLMM4</td>\n      <td>39.00</td>\n      <td>17.94</td>\n      <td>2.32</td>\n      <td>3.11</td>\n      <td>12.04</td>\n      <td>5.768489</td>\n      <td>-0.540000</td>\n      <td>17.35</td>\n      <td>2.09</td>\n      <td>...</td>\n      <td>39.00</td>\n      <td>37.49</td>\n      <td>39.00</td>\n      <td>14.88</td>\n      <td>39.00</td>\n      <td>2.32</td>\n      <td>45.25</td>\n      <td>2.39</td>\n      <td>36414670</td>\n      <td>Material de Transporte</td>\n    </tr>\n    <tr>\n      <th>618</th>\n      <td>YDUQ3</td>\n      <td>20.60</td>\n      <td>10.16</td>\n      <td>0.00</td>\n      <td>0.36</td>\n      <td>56.84</td>\n      <td>28.222222</td>\n      <td>-0.506796</td>\n      <td>3.51</td>\n      <td>2.00</td>\n      <td>...</td>\n      <td>20.60</td>\n      <td>19.87</td>\n      <td>21.11</td>\n      <td>6.47</td>\n      <td>23.70</td>\n      <td>0.00</td>\n      <td>80.54</td>\n      <td>-2.42</td>\n      <td>309088851</td>\n      <td>Servicos Educacionais</td>\n    </tr>\n    <tr>\n      <th>619</th>\n      <td>ZAMP3</td>\n      <td>5.68</td>\n      <td>4.97</td>\n      <td>0.00</td>\n      <td>-0.40</td>\n      <td>-13.39</td>\n      <td>-12.425000</td>\n      <td>-0.125000</td>\n      <td>-8.15</td>\n      <td>1.09</td>\n      <td>...</td>\n      <td>5.68</td>\n      <td>5.38</td>\n      <td>5.68</td>\n      <td>3.63</td>\n      <td>8.15</td>\n      <td>0.00</td>\n      <td>-30.31</td>\n      <td>2.34</td>\n      <td>275355447</td>\n      <td>Restaurante e Similares</td>\n    </tr>\n  </tbody>\n</table>\n<p>620 rows × 24 columns</p>\n</div>"
     },
     "execution_count": 8,
     "metadata": {},
     "output_type": "execute_result"
    }
   ],
   "source": [
    "investing = pd.merge(valuation, list_stocks, on='TICKERS')\n",
    "investing"
   ],
   "metadata": {
    "collapsed": false,
    "ExecuteTime": {
     "end_time": "2023-09-13T05:19:12.126945Z",
     "start_time": "2023-09-13T05:19:11.711596Z"
    }
   },
   "id": "482d8e2d60c51440"
  },
  {
   "cell_type": "code",
   "execution_count": 9,
   "outputs": [
    {
     "data": {
      "text/plain": "      LPA    VPA  DIV.LIQ/PL  DY_x  DY_y  EV/EBIT  LIQ.CORR  MARG.LIQ  \\\n0   -2.42   7.32        1.03  0.00  0.00  -157.54      0.55    -25.30   \n1    3.48  23.98        0.00  8.43  8.43     4.25      1.50     19.35   \n2    0.91   5.40       -0.10  5.46  5.46    12.12      1.01     17.26   \n3   -0.38  -1.21        0.00  0.00  0.00    -5.69      0.00 -18860.61   \n4   -0.14   1.10        1.11  0.00  0.00     6.19      1.63     -3.59   \n..    ...    ...         ...   ...   ...      ...       ...       ...   \n615  0.66   2.59        0.10  7.20  7.20     2.72      0.84     10.49   \n616  3.11  17.94        0.00  3.14  3.14     7.22      2.48      5.11   \n617  3.11  17.94        0.00  2.32  2.32     7.22      2.48      5.11   \n618  0.36  10.16        1.36  0.00  0.00    13.34      1.56      2.27   \n619 -0.40   4.97        0.54  0.00  0.00    25.49      1.18     -2.95   \n\n     MAX_52S  MAX_MES  ...  P/VP  PRECO_x  PRECO_y    QTDEPAPEL    ROE  \\\n0      24.30     7.93  ...  1.04     7.84     7.84    118292816 -33.11   \n1      21.24    19.23  ...  0.78    19.23    19.23    226090118  14.50   \n2      16.03    14.01  ...  2.58    13.69    13.69  15753833284  16.78   \n3       0.00     2.10  ... -1.29     1.56     1.56     16307545 -31.47   \n4       2.38     1.03  ...  0.88     0.98     0.98    766213456 -12.65   \n..       ...      ...  ...   ...      ...      ...          ...    ...   \n615     8.41     6.46  ...  2.38     6.29     6.29    159907282  25.32   \n616    25.17    25.17  ...  1.40    23.11    23.11     36414670  17.35   \n617    39.00    39.00  ...  2.09    39.00    39.00     36414670  17.35   \n618    23.70    21.11  ...  2.00    20.60    20.60    309088851   3.51   \n619     8.15     5.68  ...  1.09     5.68     5.68    275355447  -8.15   \n\n                                  SEGMENTO  TICKERS  UP/DOWNSIDE  VAL_12M  \\\n0    Serv Mao Hosp Analises e Diagnosticos    AALR3    -0.066327   -60.94   \n1                                   Bancos    ABCB4     0.247010     2.72   \n2                 Cervejas e Refrigerantes    ABEV3    -0.605551    -7.00   \n3    Serv Mao Hosp Analises e Diagnosticos    ADHM3    -1.775641     0.00   \n4                    Maq Equip Industriais    AERI3     0.122449   -58.82   \n..                                     ...      ...          ...      ...   \n615                  Corretoras de Seguros    WIZC3    -0.588235   -21.86   \n616                 Material de Transporte    WLMM3    -0.223713    20.24   \n617                 Material de Transporte    WLMM4    -0.540000    45.25   \n618                  Servicos Educacionais    YDUQ3    -0.506796    80.54   \n619                Restaurante e Similares    ZAMP3    -0.125000   -30.31   \n\n    VAL_MES  \n0      0.51  \n1      3.00  \n2     -1.30  \n3      0.00  \n4      1.03  \n..      ...  \n615    0.80  \n616   -8.18  \n617    2.39  \n618   -2.42  \n619    2.34  \n\n[620 rows x 24 columns]",
      "text/html": "<div>\n<style scoped>\n    .dataframe tbody tr th:only-of-type {\n        vertical-align: middle;\n    }\n\n    .dataframe tbody tr th {\n        vertical-align: top;\n    }\n\n    .dataframe thead th {\n        text-align: right;\n    }\n</style>\n<table border=\"1\" class=\"dataframe\">\n  <thead>\n    <tr style=\"text-align: right;\">\n      <th></th>\n      <th>LPA</th>\n      <th>VPA</th>\n      <th>DIV.LIQ/PL</th>\n      <th>DY_x</th>\n      <th>DY_y</th>\n      <th>EV/EBIT</th>\n      <th>LIQ.CORR</th>\n      <th>MARG.LIQ</th>\n      <th>MAX_52S</th>\n      <th>MAX_MES</th>\n      <th>...</th>\n      <th>P/VP</th>\n      <th>PRECO_x</th>\n      <th>PRECO_y</th>\n      <th>QTDEPAPEL</th>\n      <th>ROE</th>\n      <th>SEGMENTO</th>\n      <th>TICKERS</th>\n      <th>UP/DOWNSIDE</th>\n      <th>VAL_12M</th>\n      <th>VAL_MES</th>\n    </tr>\n  </thead>\n  <tbody>\n    <tr>\n      <th>0</th>\n      <td>-2.42</td>\n      <td>7.32</td>\n      <td>1.03</td>\n      <td>0.00</td>\n      <td>0.00</td>\n      <td>-157.54</td>\n      <td>0.55</td>\n      <td>-25.30</td>\n      <td>24.30</td>\n      <td>7.93</td>\n      <td>...</td>\n      <td>1.04</td>\n      <td>7.84</td>\n      <td>7.84</td>\n      <td>118292816</td>\n      <td>-33.11</td>\n      <td>Serv Mao Hosp Analises e Diagnosticos</td>\n      <td>AALR3</td>\n      <td>-0.066327</td>\n      <td>-60.94</td>\n      <td>0.51</td>\n    </tr>\n    <tr>\n      <th>1</th>\n      <td>3.48</td>\n      <td>23.98</td>\n      <td>0.00</td>\n      <td>8.43</td>\n      <td>8.43</td>\n      <td>4.25</td>\n      <td>1.50</td>\n      <td>19.35</td>\n      <td>21.24</td>\n      <td>19.23</td>\n      <td>...</td>\n      <td>0.78</td>\n      <td>19.23</td>\n      <td>19.23</td>\n      <td>226090118</td>\n      <td>14.50</td>\n      <td>Bancos</td>\n      <td>ABCB4</td>\n      <td>0.247010</td>\n      <td>2.72</td>\n      <td>3.00</td>\n    </tr>\n    <tr>\n      <th>2</th>\n      <td>0.91</td>\n      <td>5.40</td>\n      <td>-0.10</td>\n      <td>5.46</td>\n      <td>5.46</td>\n      <td>12.12</td>\n      <td>1.01</td>\n      <td>17.26</td>\n      <td>16.03</td>\n      <td>14.01</td>\n      <td>...</td>\n      <td>2.58</td>\n      <td>13.69</td>\n      <td>13.69</td>\n      <td>15753833284</td>\n      <td>16.78</td>\n      <td>Cervejas e Refrigerantes</td>\n      <td>ABEV3</td>\n      <td>-0.605551</td>\n      <td>-7.00</td>\n      <td>-1.30</td>\n    </tr>\n    <tr>\n      <th>3</th>\n      <td>-0.38</td>\n      <td>-1.21</td>\n      <td>0.00</td>\n      <td>0.00</td>\n      <td>0.00</td>\n      <td>-5.69</td>\n      <td>0.00</td>\n      <td>-18860.61</td>\n      <td>0.00</td>\n      <td>2.10</td>\n      <td>...</td>\n      <td>-1.29</td>\n      <td>1.56</td>\n      <td>1.56</td>\n      <td>16307545</td>\n      <td>-31.47</td>\n      <td>Serv Mao Hosp Analises e Diagnosticos</td>\n      <td>ADHM3</td>\n      <td>-1.775641</td>\n      <td>0.00</td>\n      <td>0.00</td>\n    </tr>\n    <tr>\n      <th>4</th>\n      <td>-0.14</td>\n      <td>1.10</td>\n      <td>1.11</td>\n      <td>0.00</td>\n      <td>0.00</td>\n      <td>6.19</td>\n      <td>1.63</td>\n      <td>-3.59</td>\n      <td>2.38</td>\n      <td>1.03</td>\n      <td>...</td>\n      <td>0.88</td>\n      <td>0.98</td>\n      <td>0.98</td>\n      <td>766213456</td>\n      <td>-12.65</td>\n      <td>Maq Equip Industriais</td>\n      <td>AERI3</td>\n      <td>0.122449</td>\n      <td>-58.82</td>\n      <td>1.03</td>\n    </tr>\n    <tr>\n      <th>...</th>\n      <td>...</td>\n      <td>...</td>\n      <td>...</td>\n      <td>...</td>\n      <td>...</td>\n      <td>...</td>\n      <td>...</td>\n      <td>...</td>\n      <td>...</td>\n      <td>...</td>\n      <td>...</td>\n      <td>...</td>\n      <td>...</td>\n      <td>...</td>\n      <td>...</td>\n      <td>...</td>\n      <td>...</td>\n      <td>...</td>\n      <td>...</td>\n      <td>...</td>\n      <td>...</td>\n    </tr>\n    <tr>\n      <th>615</th>\n      <td>0.66</td>\n      <td>2.59</td>\n      <td>0.10</td>\n      <td>7.20</td>\n      <td>7.20</td>\n      <td>2.72</td>\n      <td>0.84</td>\n      <td>10.49</td>\n      <td>8.41</td>\n      <td>6.46</td>\n      <td>...</td>\n      <td>2.38</td>\n      <td>6.29</td>\n      <td>6.29</td>\n      <td>159907282</td>\n      <td>25.32</td>\n      <td>Corretoras de Seguros</td>\n      <td>WIZC3</td>\n      <td>-0.588235</td>\n      <td>-21.86</td>\n      <td>0.80</td>\n    </tr>\n    <tr>\n      <th>616</th>\n      <td>3.11</td>\n      <td>17.94</td>\n      <td>0.00</td>\n      <td>3.14</td>\n      <td>3.14</td>\n      <td>7.22</td>\n      <td>2.48</td>\n      <td>5.11</td>\n      <td>25.17</td>\n      <td>25.17</td>\n      <td>...</td>\n      <td>1.40</td>\n      <td>23.11</td>\n      <td>23.11</td>\n      <td>36414670</td>\n      <td>17.35</td>\n      <td>Material de Transporte</td>\n      <td>WLMM3</td>\n      <td>-0.223713</td>\n      <td>20.24</td>\n      <td>-8.18</td>\n    </tr>\n    <tr>\n      <th>617</th>\n      <td>3.11</td>\n      <td>17.94</td>\n      <td>0.00</td>\n      <td>2.32</td>\n      <td>2.32</td>\n      <td>7.22</td>\n      <td>2.48</td>\n      <td>5.11</td>\n      <td>39.00</td>\n      <td>39.00</td>\n      <td>...</td>\n      <td>2.09</td>\n      <td>39.00</td>\n      <td>39.00</td>\n      <td>36414670</td>\n      <td>17.35</td>\n      <td>Material de Transporte</td>\n      <td>WLMM4</td>\n      <td>-0.540000</td>\n      <td>45.25</td>\n      <td>2.39</td>\n    </tr>\n    <tr>\n      <th>618</th>\n      <td>0.36</td>\n      <td>10.16</td>\n      <td>1.36</td>\n      <td>0.00</td>\n      <td>0.00</td>\n      <td>13.34</td>\n      <td>1.56</td>\n      <td>2.27</td>\n      <td>23.70</td>\n      <td>21.11</td>\n      <td>...</td>\n      <td>2.00</td>\n      <td>20.60</td>\n      <td>20.60</td>\n      <td>309088851</td>\n      <td>3.51</td>\n      <td>Servicos Educacionais</td>\n      <td>YDUQ3</td>\n      <td>-0.506796</td>\n      <td>80.54</td>\n      <td>-2.42</td>\n    </tr>\n    <tr>\n      <th>619</th>\n      <td>-0.40</td>\n      <td>4.97</td>\n      <td>0.54</td>\n      <td>0.00</td>\n      <td>0.00</td>\n      <td>25.49</td>\n      <td>1.18</td>\n      <td>-2.95</td>\n      <td>8.15</td>\n      <td>5.68</td>\n      <td>...</td>\n      <td>1.09</td>\n      <td>5.68</td>\n      <td>5.68</td>\n      <td>275355447</td>\n      <td>-8.15</td>\n      <td>Restaurante e Similares</td>\n      <td>ZAMP3</td>\n      <td>-0.125000</td>\n      <td>-30.31</td>\n      <td>2.34</td>\n    </tr>\n  </tbody>\n</table>\n<p>620 rows × 24 columns</p>\n</div>"
     },
     "execution_count": 9,
     "metadata": {},
     "output_type": "execute_result"
    }
   ],
   "source": [
    "investing.sort_index(axis=1, inplace=True)\n",
    "investing\n",
    "\n",
    "#temperatures.columns = sorted(temperatures.columns)\n",
    "#investing = investing[['TICKERS', 'PRECO_x']]"
   ],
   "metadata": {
    "collapsed": false,
    "ExecuteTime": {
     "end_time": "2023-09-13T05:19:12.128646Z",
     "start_time": "2023-09-13T05:19:11.795953Z"
    }
   },
   "id": "489c38ac0238ed7f"
  },
  {
   "cell_type": "code",
   "execution_count": 9,
   "outputs": [],
   "source": [],
   "metadata": {
    "collapsed": false,
    "ExecuteTime": {
     "end_time": "2023-09-13T05:19:12.128988Z",
     "start_time": "2023-09-13T05:19:11.871469Z"
    }
   },
   "id": "503d1eebd1ea4835"
  }
 ],
 "metadata": {
  "kernelspec": {
   "display_name": "Python 3",
   "language": "python",
   "name": "python3"
  },
  "language_info": {
   "codemirror_mode": {
    "name": "ipython",
    "version": 2
   },
   "file_extension": ".py",
   "mimetype": "text/x-python",
   "name": "python",
   "nbconvert_exporter": "python",
   "pygments_lexer": "ipython2",
   "version": "2.7.6"
  }
 },
 "nbformat": 4,
 "nbformat_minor": 5
}
