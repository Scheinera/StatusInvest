{
 "cells": [
  {
   "cell_type": "code",
   "execution_count": 2,
   "id": "initial_id",
   "metadata": {
    "collapsed": true,
    "ExecuteTime": {
     "end_time": "2023-09-13T04:30:49.253533Z",
     "start_time": "2023-09-13T04:30:49.041184Z"
    }
   },
   "outputs": [],
   "source": [
    "import pandas as pd\n",
    "import matplotlib.pyplot as plt\n",
    "import time\n",
    "import dash\n",
    "import openpyxl\n",
    "import os\n",
    "from selenium import webdriver\n",
    "from selenium.webdriver.chrome.service import Service \n",
    "from webdriver_manager.chrome import ChromeDriverManager\n",
    "from selenium.webdriver.common.by import By\n",
    "from selenium.webdriver.support.ui import WebDriverWait\n",
    "from selenium.webdriver.support import expected_conditions as EC"
   ]
  },
  {
   "cell_type": "code",
   "execution_count": 3,
   "outputs": [],
   "source": [
    "\n",
    "    df = pd.read_csv(\"statusinvest-busca-avancada.csv\", sep=';', decimal=',', thousands='.', encoding='ISO-8859-1' )\n",
    "    \n",
    "    df['P/L_IDEAL'] = df[' VPA'] / df[' LPA']\n",
    "    df['UP/DOWNSIDE'] = (df[' VPA'] / df['PRECO'])-1\n",
    "    \n",
    "    valuation = df.loc[:, ['TICKER', 'PRECO', ' VPA' , 'DY', ' LPA', 'P/L', 'P/L_IDEAL', 'UP/DOWNSIDE', 'ROE', \n",
    "                           'P/VP', 'EV/EBIT' ,'LIQ. CORRENTE', 'MARG. LIQUIDA', 'DIV. LIQ. / PATRI.']]\n",
    "    valuation.fillna(value=0, inplace=True)\n",
    "    valuation.rename(columns={'LIQ. CORRENTE': \"LIQ.CORR\" }, inplace=True)\n",
    "    valuation.rename(columns={'MARG. LIQUIDA': \"MARG.LIQ\" }, inplace=True)\n",
    "    valuation.rename(columns={'DIV. LIQ. / PATRI.': \"DIV.LIQ/PL\" }, inplace=True)\n",
    "    \n",
    "    \n",
    "    valuation = valuation.loc[valuation['DY'] >= 10].loc[\n",
    "        valuation['P/L'] >= 0.01].loc[valuation['P/L'] < 15].loc[\n",
    "        valuation['ROE'] >= 10].loc[\n",
    "        valuation['EV/EBIT'] >= 0.01].loc[valuation['EV/EBIT'] <= 15].loc[\n",
    "        valuation['LIQ.CORR'] >= 0.5]\n"
   ],
   "metadata": {
    "collapsed": false,
    "ExecuteTime": {
     "end_time": "2023-09-13T04:30:49.256123Z",
     "start_time": "2023-09-13T04:30:49.064209Z"
    }
   },
   "id": "bf05b800347381e3"
  },
  {
   "cell_type": "code",
   "execution_count": 4,
   "outputs": [],
   "source": [
    "#Instalando o driver\n",
    "servico = Service(ChromeDriverManager().install())\n",
    "\n",
    "#Abrindo o navegador\n",
    "navegador = webdriver.Chrome(service=servico)"
   ],
   "metadata": {
    "collapsed": false,
    "ExecuteTime": {
     "end_time": "2023-09-13T04:30:55.575295Z",
     "start_time": "2023-09-13T04:30:49.109183Z"
    }
   },
   "id": "e1e1f4ee0f2825de"
  },
  {
   "cell_type": "code",
   "execution_count": 5,
   "outputs": [],
   "source": [
    "ticker = valuation['TICKER']\n",
    "lista_stocks = ticker.to_list()\n",
    "\n",
    "lista_indicadores_stocks = []\n",
    "for stocks in lista_stocks:\n",
    "\n",
    "    #Criando url\n",
    "    url = f\"https://statusinvest.com.br/acoes/{stocks}\"\n",
    "\n",
    "    \n",
    "    try:\n",
    "        #Abrindo o navegador\n",
    "        navegador.get(url)\n",
    "\n",
    "        time.sleep(0.25)\n",
    "    \n",
    "        #Coletando infos\n",
    "        PRECO = navegador.find_element(By.XPATH, '//*[@id=\"main-2\"]/div[2]/div/div[1]/div/div[1]/div/div[1]/strong').text\n",
    "        MIN_MES = navegador.find_element(By.XPATH, '//*[@id=\"main-2\"]/div[2]/div/div[1]/div/div[2]/div/div[2]/div/span[2]').text\n",
    "        MAX_MES = navegador.find_element(By.XPATH, '//*[@id=\"main-2\"]/div[2]/div/div[1]/div/div[3]/div/div[2]/div/span[2]').text\n",
    "        MIN_52S = navegador.find_element(By.XPATH, '//*[@id=\"main-2\"]/div[2]/div/div[1]/div/div[2]/div/div[1]/strong').text\n",
    "        MAX_52S = navegador.find_element(By.XPATH, '//*[@id=\"main-2\"]/div[2]/div/div[1]/div/div[3]/div/div[1]/strong').text\n",
    "        DY = navegador.find_element(By.XPATH, '//*[@id=\"main-2\"]/div[2]/div/div[1]/div/div[4]/div/div[1]/strong').text\n",
    "        GAIN_12M = navegador.find_element(By.XPATH, '//*[@id=\"main-2\"]/div[2]/div/div[1]/div/div[5]/div/div[1]/strong').text\n",
    "        GAIN_MES = navegador.find_element(By.XPATH, '//*[@id=\"main-2\"]/div[2]/div/div[1]/div/div[5]/div/div[2]/div/span[2]/b').text\n",
    "        QTDEPAPEL = navegador.find_element(By.XPATH, '//*[@id=\"company-section\"]/div[1]/div/div[2]/div[9]/div/div/strong').text\n",
    "        SEGMENTO = navegador.find_element(By.XPATH, '//*[@id=\"company-section\"]/div[1]/div/div[3]/div/div[3]/div/div/div/a/strong').text\n",
    "        \n",
    "        \n",
    "\n",
    "        #Criando dict\n",
    "        dicionario = {  \"stocks\": stocks, \n",
    "                        \"PRECO\": PRECO,\n",
    "                        \"MIN_MES\": MIN_MES, \n",
    "                        \"MAX_MES\": MAX_MES, \n",
    "                        \"MIN_52S\": MIN_52S, \n",
    "                        \"MAX_52S\": MAX_52S, \n",
    "                        \"DY\": DY,\n",
    "                        \"VAL_12M\": GAIN_12M,\n",
    "                        \"VAL_MES\": GAIN_MES,\n",
    "                        \"QTDEPAPEL\": QTDEPAPEL,\n",
    "                        \"SEGMENTO\": SEGMENTO\n",
    "                        \n",
    "                        }\n",
    "\n",
    "        #Criando lista de dicts\n",
    "        lista_indicadores_stocks.append(dicionario)\n",
    "    except Exception as e:\n",
    "        print(e)\n",
    "\n",
    "#Fecha o navegador\n",
    "navegador.quit()\n"
   ],
   "metadata": {
    "collapsed": false,
    "ExecuteTime": {
     "end_time": "2023-09-13T04:31:30.759912Z",
     "start_time": "2023-09-13T04:30:55.563562Z"
    }
   },
   "id": "db5440719f90c5d4"
  },
  {
   "cell_type": "code",
   "execution_count": 6,
   "outputs": [],
   "source": [
    "list_stocks = pd.DataFrame.from_dict(lista_indicadores_stocks)\n",
    "\n",
    "list_stocks = list_stocks.replace('-', '')\n",
    "list_stocks = list_stocks.replace('-%', '')\n",
    "\n",
    "\n",
    "list_stocks['MIN_MES'] = (list_stocks['MIN_MES']).str.lstrip('R$ ')\n",
    "list_stocks['MAX_MES'] = (list_stocks['MAX_MES']).str.lstrip('R$ ')\n",
    "list_stocks['MIN_MES'] = (list_stocks['MIN_MES']).str.strip('- ')\n",
    "list_stocks['MAX_MES'] = (list_stocks['MAX_MES']).str.strip('- ')\n",
    "\n",
    "\n",
    "\n",
    "list_stocks['VAL_12M'] = (list_stocks['VAL_12M']).str.rstrip('%')\n",
    "list_stocks['VAL_MES'] = (list_stocks['VAL_MES']).str.rstrip('%')\n",
    "\n",
    "list_stocks.to_csv('list_stocks.csv')\n",
    "\n",
    "\n",
    "\n",
    "list_stocks = pd.read_csv(\"list_stocks.csv\", sep=',', decimal=',', thousands='.', encoding='ISO-8859-1' )\n",
    "\n",
    "list_stocks = list_stocks.drop(['Unnamed: 0'],axis=1)\n",
    "list_stocks.fillna(value=0, inplace=True)\n",
    "\n",
    "\n",
    "list_stocks = list_stocks.replace('AcessÃ³rios', 'Acessorios')\n",
    "list_stocks = list_stocks.replace('Armas e MuniÃ§Ãµes', 'Armas e Municoes')\n",
    "list_stocks = list_stocks.replace('Artefatos de Ferro e AÃ§o', 'Artefatos de Ferro e Aco')\n",
    "list_stocks = list_stocks.replace('AutomÃ³veis e Motocicletas', 'Automoveis e Motocicletas')\n",
    "list_stocks = list_stocks.replace('AÃ§ucar e Alcool', 'Acucar e Alcool')\n",
    "list_stocks = list_stocks.replace('CalÃ§ados', 'Calcados')\n",
    "list_stocks = list_stocks.replace('ConstruÃ§Ã£o Pesada', 'Construcao Pesada')\n",
    "list_stocks = list_stocks.replace('EletrodomÃ©sticos', 'Eletrodomesticos')\n",
    "list_stocks = list_stocks.replace('Energia ElÃ©trica', 'Energia Eletrica')\n",
    "list_stocks = list_stocks.replace('Equipamentos e ServiÃ§os', 'Equipamentos e Servicos')\n",
    "list_stocks = list_stocks.replace('ExploraÃ§Ã£o de ImÃ³veis', 'Exploracao de Imoveis')\n",
    "list_stocks = list_stocks.replace('ExploraÃ§Ã£o de Rodovias', 'Exploracao de Rodovias')\n",
    "list_stocks = list_stocks.replace('ExploraÃ§Ã£o. Refino e DistribuiÃ§Ã£o', 'Exploracao Refino e Distribuicao')\n",
    "list_stocks = list_stocks.replace('GestÃ£o de Recursos e Investimentos', 'Gestao Recursos e Investimentos')\n",
    "list_stocks = list_stocks.replace('GÃ¡s', 'Gas')\n",
    "list_stocks = list_stocks.replace('IncorporaÃ§Ãµes', 'Incorporacoes')\n",
    "list_stocks = list_stocks.replace('IntermediaÃ§Ã£o ImobiliÃ¡ria', 'Intermediacao Imobiliaria')\n",
    "list_stocks = list_stocks.replace('LogÃ­stica', 'Logistica')\n",
    "list_stocks = list_stocks.replace('Material AeronÃ¡utico e de Defesa', 'Material Aeronautico e Defesa')\n",
    "list_stocks = list_stocks.replace('Material RodoviÃ¡rio', 'Material Rodoviario')\n",
    "list_stocks = list_stocks.replace('Minerais MetÃ¡licos', 'Minerais Metalicos')\n",
    "list_stocks = list_stocks.replace('MÃ¡q. e Equip. ConstruÃ§Ã£o e AgrÃ­colas', 'Maq Equip Construcao e Agricolas')\n",
    "list_stocks = list_stocks.replace('MÃ¡q. e Equip. Industriais', 'Maq Equip Industriais')\n",
    "list_stocks = list_stocks.replace('MÃ³veis', 'Moveis')\n",
    "list_stocks = list_stocks.replace('PetroquÃ­micos', 'Petroquimicos')\n",
    "list_stocks = list_stocks.replace('Produtos para ConstruÃ§Ã£o', 'Produtos para Construcao')\n",
    "list_stocks = list_stocks.replace('ProduÃ§Ã£o de Eventos e Shows', 'Producao de Eventos e Shows')\n",
    "list_stocks = list_stocks.replace('ProduÃ§Ã£o e DifusÃ£o de Filmes e Programas', 'Producao Difusao de Filmes e Programas')\n",
    "list_stocks = list_stocks.replace('Programas de FidelizaÃ§Ã£o', 'Programas de Fidelizacao')\n",
    "list_stocks = list_stocks.replace('Programas e ServiÃ§os', 'Programas e Servicos')\n",
    "list_stocks = list_stocks.replace('QuÃ­micos Diversos', 'Quimicos Diversos')\n",
    "list_stocks = list_stocks.replace('Serv.MÃ©d.Hospit..AnÃ¡lises e DiagnÃ³sticos', 'Serv Mao Hosp Analises e Diagnosticos')\n",
    "list_stocks = list_stocks.replace('ServiÃ§os Diversos', 'Servicos Diversos')\n",
    "list_stocks = list_stocks.replace('ServiÃ§os Educacionais', 'Servicos Educacionais')\n",
    "list_stocks = list_stocks.replace('ServiÃ§os Financeiros Diversos', 'Servicos Financeiros Diversos')\n",
    "list_stocks = list_stocks.replace('Soc. CrÃ©dito e Financiamento', 'Soc Credito e Financiamento')\n",
    "list_stocks = list_stocks.replace('Tecidos. VestuÃ¡rio e CalÃ§ados', 'Tecidos Vestuario e Calcados')\n",
    "list_stocks = list_stocks.replace('TelecomunicaÃ§Ãµes', 'Telecomunicacoes')\n",
    "list_stocks = list_stocks.replace('Transporte AÃ©reo', 'Transporte Aereo')\n",
    "list_stocks = list_stocks.replace('Transporte FerroviÃ¡rio', 'Transporte Ferroviario')\n",
    "list_stocks = list_stocks.replace('Transporte HidroviÃ¡rio', 'Transporte Hidroviario')\n",
    "list_stocks = list_stocks.replace('UtensÃ­lios DomÃ©sticos', 'Utensilios Domesticos')\n",
    "list_stocks = list_stocks.replace('VestuÃ¡rio', 'Vestuario')\n",
    "list_stocks = list_stocks.replace('Ãgua e Saneamento', 'Agua e Saneamento')\n"
   ],
   "metadata": {
    "collapsed": false,
    "ExecuteTime": {
     "end_time": "2023-09-13T04:31:31.069344Z",
     "start_time": "2023-09-13T04:31:31.041876Z"
    }
   },
   "id": "591e751df974b801"
  },
  {
   "cell_type": "code",
   "execution_count": 7,
   "outputs": [
    {
     "data": {
      "text/plain": "    TICKERS   PRECO      VPA      DY     LPA   P/L  P/L_IDEAL  UP/DOWNSIDE  \\\n7     AGRO3   28.90    21.46   12.49    2.62  9.88   8.190840    -0.257439   \n36    AURE3   13.93    14.79   10.90    3.10  4.44   4.770968     0.061737   \n51    BBSE3   31.94     4.47   11.21    3.59  8.66   1.245125    -0.860050   \n61    BGIP4   23.50    35.35   10.66    3.65  6.35   9.684932     0.504255   \n87    BRAP3   20.88    19.30   12.29    7.01  3.09   2.753210    -0.075670   \n88    BRAP4   22.60    19.30   12.58    7.01  3.32   2.753210    -0.146018   \n125   CATA3  103.61  1214.17   38.09  211.94  0.49   5.728838    10.718657   \n132   CEBR3   13.62    13.92   10.97    2.61  5.20   5.333333     0.022026   \n133   CEBR5   13.70    13.92   11.03    2.61  5.17   5.333333     0.016058   \n134   CEBR6   15.15    13.92   11.16    2.61  5.62   5.333333    -0.081188   \n159   CMIN3    4.31     1.91   21.27    0.44  9.80   4.340909    -0.556845   \n226   EKTR3   34.00    16.27   10.63    4.93  6.90   3.300203    -0.521471   \n227   EKTR4   38.51    16.27   11.01    4.93  7.32   3.300203    -0.577512   \n288   GGBR3   23.81    27.87   14.03    5.44  4.31   5.123162     0.170517   \n289   GGBR4   25.73    27.87   12.96    5.44  4.67   5.123162     0.083171   \n387   MMAQ4   49.73  5503.84  503.40  873.91  0.06   6.297948   109.674442   \n448   PETR3   36.78    28.42   25.02   11.99  3.09   2.370309    -0.227297   \n449   PETR4   33.53    28.42   27.61   11.99  2.80   2.370309    -0.152401   \n534   SOND3   46.01    22.63   12.04    6.67  6.90   3.392804    -0.508150   \n535   SOND5   50.00    22.63   12.19    6.67  7.50   3.392804    -0.547400   \n536   SOND6   45.00    22.63   13.54    6.67  6.75   3.392804    -0.497111   \n\n       ROE  P/VP  EV/EBIT  LIQ.CORR  MARG.LIQ  DIV.LIQ/PL  \n7    12.22  1.21    11.44      2.14     20.98        0.21  \n36   20.94  0.93     8.88      2.12     52.70        0.03  \n51   80.32  6.95     7.54      0.98      0.00        0.00  \n61   10.32  0.65     6.18      0.76      5.27        0.00  \n87   36.31  1.12     3.11      4.70      0.00       -0.03  \n88   36.31  1.21     3.11      4.70      0.00       -0.03  \n125  17.46  0.09     1.91      1.85      9.25        0.27  \n132  18.78  0.98     1.55      5.72     66.35       -0.62  \n133  18.78  0.97     1.55      5.72     66.35       -0.62  \n134  18.78  1.06     1.55      5.72     66.35       -0.62  \n159  22.89  2.24     5.42      2.73     15.73       -0.03  \n226  30.29  2.09     6.28      1.23     11.25        1.43  \n227  30.29  2.22     6.28      1.23     11.25        1.43  \n288  19.52  0.84     3.58      2.94     12.54        0.13  \n289  19.52  0.91     3.58      2.94     12.54        0.13  \n387  15.88  0.01     3.19      1.58      4.08        0.76  \n448  42.19  1.30     2.83      0.90     26.89        0.59  \n449  42.19  1.18     2.83      0.90     26.89        0.59  \n534  29.45  2.03     2.76      2.29     10.01       -0.58  \n535  29.45  2.21     2.76      2.29     10.01       -0.58  \n536  29.45  1.99     2.76      2.29     10.01       -0.58  ",
      "text/html": "<div>\n<style scoped>\n    .dataframe tbody tr th:only-of-type {\n        vertical-align: middle;\n    }\n\n    .dataframe tbody tr th {\n        vertical-align: top;\n    }\n\n    .dataframe thead th {\n        text-align: right;\n    }\n</style>\n<table border=\"1\" class=\"dataframe\">\n  <thead>\n    <tr style=\"text-align: right;\">\n      <th></th>\n      <th>TICKERS</th>\n      <th>PRECO</th>\n      <th>VPA</th>\n      <th>DY</th>\n      <th>LPA</th>\n      <th>P/L</th>\n      <th>P/L_IDEAL</th>\n      <th>UP/DOWNSIDE</th>\n      <th>ROE</th>\n      <th>P/VP</th>\n      <th>EV/EBIT</th>\n      <th>LIQ.CORR</th>\n      <th>MARG.LIQ</th>\n      <th>DIV.LIQ/PL</th>\n    </tr>\n  </thead>\n  <tbody>\n    <tr>\n      <th>7</th>\n      <td>AGRO3</td>\n      <td>28.90</td>\n      <td>21.46</td>\n      <td>12.49</td>\n      <td>2.62</td>\n      <td>9.88</td>\n      <td>8.190840</td>\n      <td>-0.257439</td>\n      <td>12.22</td>\n      <td>1.21</td>\n      <td>11.44</td>\n      <td>2.14</td>\n      <td>20.98</td>\n      <td>0.21</td>\n    </tr>\n    <tr>\n      <th>36</th>\n      <td>AURE3</td>\n      <td>13.93</td>\n      <td>14.79</td>\n      <td>10.90</td>\n      <td>3.10</td>\n      <td>4.44</td>\n      <td>4.770968</td>\n      <td>0.061737</td>\n      <td>20.94</td>\n      <td>0.93</td>\n      <td>8.88</td>\n      <td>2.12</td>\n      <td>52.70</td>\n      <td>0.03</td>\n    </tr>\n    <tr>\n      <th>51</th>\n      <td>BBSE3</td>\n      <td>31.94</td>\n      <td>4.47</td>\n      <td>11.21</td>\n      <td>3.59</td>\n      <td>8.66</td>\n      <td>1.245125</td>\n      <td>-0.860050</td>\n      <td>80.32</td>\n      <td>6.95</td>\n      <td>7.54</td>\n      <td>0.98</td>\n      <td>0.00</td>\n      <td>0.00</td>\n    </tr>\n    <tr>\n      <th>61</th>\n      <td>BGIP4</td>\n      <td>23.50</td>\n      <td>35.35</td>\n      <td>10.66</td>\n      <td>3.65</td>\n      <td>6.35</td>\n      <td>9.684932</td>\n      <td>0.504255</td>\n      <td>10.32</td>\n      <td>0.65</td>\n      <td>6.18</td>\n      <td>0.76</td>\n      <td>5.27</td>\n      <td>0.00</td>\n    </tr>\n    <tr>\n      <th>87</th>\n      <td>BRAP3</td>\n      <td>20.88</td>\n      <td>19.30</td>\n      <td>12.29</td>\n      <td>7.01</td>\n      <td>3.09</td>\n      <td>2.753210</td>\n      <td>-0.075670</td>\n      <td>36.31</td>\n      <td>1.12</td>\n      <td>3.11</td>\n      <td>4.70</td>\n      <td>0.00</td>\n      <td>-0.03</td>\n    </tr>\n    <tr>\n      <th>88</th>\n      <td>BRAP4</td>\n      <td>22.60</td>\n      <td>19.30</td>\n      <td>12.58</td>\n      <td>7.01</td>\n      <td>3.32</td>\n      <td>2.753210</td>\n      <td>-0.146018</td>\n      <td>36.31</td>\n      <td>1.21</td>\n      <td>3.11</td>\n      <td>4.70</td>\n      <td>0.00</td>\n      <td>-0.03</td>\n    </tr>\n    <tr>\n      <th>125</th>\n      <td>CATA3</td>\n      <td>103.61</td>\n      <td>1214.17</td>\n      <td>38.09</td>\n      <td>211.94</td>\n      <td>0.49</td>\n      <td>5.728838</td>\n      <td>10.718657</td>\n      <td>17.46</td>\n      <td>0.09</td>\n      <td>1.91</td>\n      <td>1.85</td>\n      <td>9.25</td>\n      <td>0.27</td>\n    </tr>\n    <tr>\n      <th>132</th>\n      <td>CEBR3</td>\n      <td>13.62</td>\n      <td>13.92</td>\n      <td>10.97</td>\n      <td>2.61</td>\n      <td>5.20</td>\n      <td>5.333333</td>\n      <td>0.022026</td>\n      <td>18.78</td>\n      <td>0.98</td>\n      <td>1.55</td>\n      <td>5.72</td>\n      <td>66.35</td>\n      <td>-0.62</td>\n    </tr>\n    <tr>\n      <th>133</th>\n      <td>CEBR5</td>\n      <td>13.70</td>\n      <td>13.92</td>\n      <td>11.03</td>\n      <td>2.61</td>\n      <td>5.17</td>\n      <td>5.333333</td>\n      <td>0.016058</td>\n      <td>18.78</td>\n      <td>0.97</td>\n      <td>1.55</td>\n      <td>5.72</td>\n      <td>66.35</td>\n      <td>-0.62</td>\n    </tr>\n    <tr>\n      <th>134</th>\n      <td>CEBR6</td>\n      <td>15.15</td>\n      <td>13.92</td>\n      <td>11.16</td>\n      <td>2.61</td>\n      <td>5.62</td>\n      <td>5.333333</td>\n      <td>-0.081188</td>\n      <td>18.78</td>\n      <td>1.06</td>\n      <td>1.55</td>\n      <td>5.72</td>\n      <td>66.35</td>\n      <td>-0.62</td>\n    </tr>\n    <tr>\n      <th>159</th>\n      <td>CMIN3</td>\n      <td>4.31</td>\n      <td>1.91</td>\n      <td>21.27</td>\n      <td>0.44</td>\n      <td>9.80</td>\n      <td>4.340909</td>\n      <td>-0.556845</td>\n      <td>22.89</td>\n      <td>2.24</td>\n      <td>5.42</td>\n      <td>2.73</td>\n      <td>15.73</td>\n      <td>-0.03</td>\n    </tr>\n    <tr>\n      <th>226</th>\n      <td>EKTR3</td>\n      <td>34.00</td>\n      <td>16.27</td>\n      <td>10.63</td>\n      <td>4.93</td>\n      <td>6.90</td>\n      <td>3.300203</td>\n      <td>-0.521471</td>\n      <td>30.29</td>\n      <td>2.09</td>\n      <td>6.28</td>\n      <td>1.23</td>\n      <td>11.25</td>\n      <td>1.43</td>\n    </tr>\n    <tr>\n      <th>227</th>\n      <td>EKTR4</td>\n      <td>38.51</td>\n      <td>16.27</td>\n      <td>11.01</td>\n      <td>4.93</td>\n      <td>7.32</td>\n      <td>3.300203</td>\n      <td>-0.577512</td>\n      <td>30.29</td>\n      <td>2.22</td>\n      <td>6.28</td>\n      <td>1.23</td>\n      <td>11.25</td>\n      <td>1.43</td>\n    </tr>\n    <tr>\n      <th>288</th>\n      <td>GGBR3</td>\n      <td>23.81</td>\n      <td>27.87</td>\n      <td>14.03</td>\n      <td>5.44</td>\n      <td>4.31</td>\n      <td>5.123162</td>\n      <td>0.170517</td>\n      <td>19.52</td>\n      <td>0.84</td>\n      <td>3.58</td>\n      <td>2.94</td>\n      <td>12.54</td>\n      <td>0.13</td>\n    </tr>\n    <tr>\n      <th>289</th>\n      <td>GGBR4</td>\n      <td>25.73</td>\n      <td>27.87</td>\n      <td>12.96</td>\n      <td>5.44</td>\n      <td>4.67</td>\n      <td>5.123162</td>\n      <td>0.083171</td>\n      <td>19.52</td>\n      <td>0.91</td>\n      <td>3.58</td>\n      <td>2.94</td>\n      <td>12.54</td>\n      <td>0.13</td>\n    </tr>\n    <tr>\n      <th>387</th>\n      <td>MMAQ4</td>\n      <td>49.73</td>\n      <td>5503.84</td>\n      <td>503.40</td>\n      <td>873.91</td>\n      <td>0.06</td>\n      <td>6.297948</td>\n      <td>109.674442</td>\n      <td>15.88</td>\n      <td>0.01</td>\n      <td>3.19</td>\n      <td>1.58</td>\n      <td>4.08</td>\n      <td>0.76</td>\n    </tr>\n    <tr>\n      <th>448</th>\n      <td>PETR3</td>\n      <td>36.78</td>\n      <td>28.42</td>\n      <td>25.02</td>\n      <td>11.99</td>\n      <td>3.09</td>\n      <td>2.370309</td>\n      <td>-0.227297</td>\n      <td>42.19</td>\n      <td>1.30</td>\n      <td>2.83</td>\n      <td>0.90</td>\n      <td>26.89</td>\n      <td>0.59</td>\n    </tr>\n    <tr>\n      <th>449</th>\n      <td>PETR4</td>\n      <td>33.53</td>\n      <td>28.42</td>\n      <td>27.61</td>\n      <td>11.99</td>\n      <td>2.80</td>\n      <td>2.370309</td>\n      <td>-0.152401</td>\n      <td>42.19</td>\n      <td>1.18</td>\n      <td>2.83</td>\n      <td>0.90</td>\n      <td>26.89</td>\n      <td>0.59</td>\n    </tr>\n    <tr>\n      <th>534</th>\n      <td>SOND3</td>\n      <td>46.01</td>\n      <td>22.63</td>\n      <td>12.04</td>\n      <td>6.67</td>\n      <td>6.90</td>\n      <td>3.392804</td>\n      <td>-0.508150</td>\n      <td>29.45</td>\n      <td>2.03</td>\n      <td>2.76</td>\n      <td>2.29</td>\n      <td>10.01</td>\n      <td>-0.58</td>\n    </tr>\n    <tr>\n      <th>535</th>\n      <td>SOND5</td>\n      <td>50.00</td>\n      <td>22.63</td>\n      <td>12.19</td>\n      <td>6.67</td>\n      <td>7.50</td>\n      <td>3.392804</td>\n      <td>-0.547400</td>\n      <td>29.45</td>\n      <td>2.21</td>\n      <td>2.76</td>\n      <td>2.29</td>\n      <td>10.01</td>\n      <td>-0.58</td>\n    </tr>\n    <tr>\n      <th>536</th>\n      <td>SOND6</td>\n      <td>45.00</td>\n      <td>22.63</td>\n      <td>13.54</td>\n      <td>6.67</td>\n      <td>6.75</td>\n      <td>3.392804</td>\n      <td>-0.497111</td>\n      <td>29.45</td>\n      <td>1.99</td>\n      <td>2.76</td>\n      <td>2.29</td>\n      <td>10.01</td>\n      <td>-0.58</td>\n    </tr>\n  </tbody>\n</table>\n</div>"
     },
     "execution_count": 7,
     "metadata": {},
     "output_type": "execute_result"
    }
   ],
   "source": [
    "valuation.rename(columns={'TICKER': \"TICKERS\" }, inplace=True)\n",
    "valuation"
   ],
   "metadata": {
    "collapsed": false,
    "ExecuteTime": {
     "end_time": "2023-09-13T04:31:31.140548Z",
     "start_time": "2023-09-13T04:31:31.077508Z"
    }
   },
   "id": "8e7a06438738dfb2"
  },
  {
   "cell_type": "code",
   "execution_count": 8,
   "outputs": [
    {
     "data": {
      "text/plain": "   TICKERS   PRECO  MIN_MES  MAX_MES  MIN_52S  MAX_52S      DY  VAL_12M  \\\n0    AGRO3   28.90    24.06    28.90    22.59    31.35   12.49     6.06   \n1    AURE3   13.93    13.77    13.93    12.10    14.95   10.90     7.57   \n2    BBSE3   31.94    31.03    31.94    23.95    34.18   11.21    25.95   \n3    BGIP4   23.50    22.12    23.50    15.08    27.39   10.66    42.34   \n4    BRAP3   20.88    20.80    21.97    18.59    27.04   12.29    12.32   \n5    BRAP4   22.60    22.56    23.95    20.18    31.20   12.58    11.66   \n6    CATA3  103.61   103.61   113.46     0.00     0.00   38.09     0.00   \n7    CEBR3   13.62    13.59    13.62     8.64    13.78   10.97    19.16   \n8    CEBR5   13.70    13.36    13.70     9.82    14.00   11.03    34.18   \n9    CEBR6   15.15    14.66    15.15     9.66    15.15   11.16    35.39   \n10   CMIN3    4.31     4.21     4.41     2.81     5.20   21.27    38.14   \n11   EKTR3   34.00    34.00    34.00    28.86    35.40   10.63     6.18   \n12   EKTR4   38.51    36.08    39.00    26.24    40.15   11.01    44.83   \n13   GGBR3   23.81    23.45    24.32    16.79    25.88   14.03    41.81   \n14   GGBR4   25.73    25.31    26.18    20.33    32.10   12.96    26.56   \n15   MMAQ4   49.73    48.80    61.38     0.00     0.00  503.40     0.00   \n16   PETR3   36.78    35.20    37.00    20.08    37.00   25.02    43.73   \n17   PETR4   33.53    32.29    33.53    17.38    33.53   27.61    51.51   \n18   SOND3   46.01    46.01    46.01     0.00     0.00   12.04     0.00   \n19   SOND5   50.00    40.00    50.00    26.93    50.00   12.19    70.13   \n20   SOND6   45.00    40.56    45.00    25.97    45.60   13.54    63.10   \n\n    VAL_MES    QTDEPAPEL                          SEGMENTO  \n0     18.25    102377008                       Agricultura  \n1      0.14   1000000000                  Energia Eletrica  \n2      2.93   2000000000                       Seguradoras  \n3      6.24     16905980                            Bancos  \n4     -4.48    393096610                Minerais Metalicos  \n5     -4.36    393096610                Minerais Metalicos  \n6      0.00       145307                    Fios e Tecidos  \n7      0.15     72081915                  Energia Eletrica  \n8      0.74     72081915                  Energia Eletrica  \n9      3.34     72081915                  Energia Eletrica  \n10    -1.15   5485338838                Minerais Metalicos  \n11     0.00    193759265                  Energia Eletrica  \n12    -1.26    193759265                  Energia Eletrica  \n13    -2.10   1757067050                        Siderurgia  \n14    -1.04   1757067050                        Siderurgia  \n15     0.00        44850            Material de Transporte  \n16     3.05  13044496930  Exploracao Refino e Distribuicao  \n17     2.76  13044496930  Exploracao Refino e Distribuicao  \n18     0.00      2457900             Engenharia Consultiva  \n19    25.00      2457900             Engenharia Consultiva  \n20    10.95      2457900             Engenharia Consultiva  ",
      "text/html": "<div>\n<style scoped>\n    .dataframe tbody tr th:only-of-type {\n        vertical-align: middle;\n    }\n\n    .dataframe tbody tr th {\n        vertical-align: top;\n    }\n\n    .dataframe thead th {\n        text-align: right;\n    }\n</style>\n<table border=\"1\" class=\"dataframe\">\n  <thead>\n    <tr style=\"text-align: right;\">\n      <th></th>\n      <th>TICKERS</th>\n      <th>PRECO</th>\n      <th>MIN_MES</th>\n      <th>MAX_MES</th>\n      <th>MIN_52S</th>\n      <th>MAX_52S</th>\n      <th>DY</th>\n      <th>VAL_12M</th>\n      <th>VAL_MES</th>\n      <th>QTDEPAPEL</th>\n      <th>SEGMENTO</th>\n    </tr>\n  </thead>\n  <tbody>\n    <tr>\n      <th>0</th>\n      <td>AGRO3</td>\n      <td>28.90</td>\n      <td>24.06</td>\n      <td>28.90</td>\n      <td>22.59</td>\n      <td>31.35</td>\n      <td>12.49</td>\n      <td>6.06</td>\n      <td>18.25</td>\n      <td>102377008</td>\n      <td>Agricultura</td>\n    </tr>\n    <tr>\n      <th>1</th>\n      <td>AURE3</td>\n      <td>13.93</td>\n      <td>13.77</td>\n      <td>13.93</td>\n      <td>12.10</td>\n      <td>14.95</td>\n      <td>10.90</td>\n      <td>7.57</td>\n      <td>0.14</td>\n      <td>1000000000</td>\n      <td>Energia Eletrica</td>\n    </tr>\n    <tr>\n      <th>2</th>\n      <td>BBSE3</td>\n      <td>31.94</td>\n      <td>31.03</td>\n      <td>31.94</td>\n      <td>23.95</td>\n      <td>34.18</td>\n      <td>11.21</td>\n      <td>25.95</td>\n      <td>2.93</td>\n      <td>2000000000</td>\n      <td>Seguradoras</td>\n    </tr>\n    <tr>\n      <th>3</th>\n      <td>BGIP4</td>\n      <td>23.50</td>\n      <td>22.12</td>\n      <td>23.50</td>\n      <td>15.08</td>\n      <td>27.39</td>\n      <td>10.66</td>\n      <td>42.34</td>\n      <td>6.24</td>\n      <td>16905980</td>\n      <td>Bancos</td>\n    </tr>\n    <tr>\n      <th>4</th>\n      <td>BRAP3</td>\n      <td>20.88</td>\n      <td>20.80</td>\n      <td>21.97</td>\n      <td>18.59</td>\n      <td>27.04</td>\n      <td>12.29</td>\n      <td>12.32</td>\n      <td>-4.48</td>\n      <td>393096610</td>\n      <td>Minerais Metalicos</td>\n    </tr>\n    <tr>\n      <th>5</th>\n      <td>BRAP4</td>\n      <td>22.60</td>\n      <td>22.56</td>\n      <td>23.95</td>\n      <td>20.18</td>\n      <td>31.20</td>\n      <td>12.58</td>\n      <td>11.66</td>\n      <td>-4.36</td>\n      <td>393096610</td>\n      <td>Minerais Metalicos</td>\n    </tr>\n    <tr>\n      <th>6</th>\n      <td>CATA3</td>\n      <td>103.61</td>\n      <td>103.61</td>\n      <td>113.46</td>\n      <td>0.00</td>\n      <td>0.00</td>\n      <td>38.09</td>\n      <td>0.00</td>\n      <td>0.00</td>\n      <td>145307</td>\n      <td>Fios e Tecidos</td>\n    </tr>\n    <tr>\n      <th>7</th>\n      <td>CEBR3</td>\n      <td>13.62</td>\n      <td>13.59</td>\n      <td>13.62</td>\n      <td>8.64</td>\n      <td>13.78</td>\n      <td>10.97</td>\n      <td>19.16</td>\n      <td>0.15</td>\n      <td>72081915</td>\n      <td>Energia Eletrica</td>\n    </tr>\n    <tr>\n      <th>8</th>\n      <td>CEBR5</td>\n      <td>13.70</td>\n      <td>13.36</td>\n      <td>13.70</td>\n      <td>9.82</td>\n      <td>14.00</td>\n      <td>11.03</td>\n      <td>34.18</td>\n      <td>0.74</td>\n      <td>72081915</td>\n      <td>Energia Eletrica</td>\n    </tr>\n    <tr>\n      <th>9</th>\n      <td>CEBR6</td>\n      <td>15.15</td>\n      <td>14.66</td>\n      <td>15.15</td>\n      <td>9.66</td>\n      <td>15.15</td>\n      <td>11.16</td>\n      <td>35.39</td>\n      <td>3.34</td>\n      <td>72081915</td>\n      <td>Energia Eletrica</td>\n    </tr>\n    <tr>\n      <th>10</th>\n      <td>CMIN3</td>\n      <td>4.31</td>\n      <td>4.21</td>\n      <td>4.41</td>\n      <td>2.81</td>\n      <td>5.20</td>\n      <td>21.27</td>\n      <td>38.14</td>\n      <td>-1.15</td>\n      <td>5485338838</td>\n      <td>Minerais Metalicos</td>\n    </tr>\n    <tr>\n      <th>11</th>\n      <td>EKTR3</td>\n      <td>34.00</td>\n      <td>34.00</td>\n      <td>34.00</td>\n      <td>28.86</td>\n      <td>35.40</td>\n      <td>10.63</td>\n      <td>6.18</td>\n      <td>0.00</td>\n      <td>193759265</td>\n      <td>Energia Eletrica</td>\n    </tr>\n    <tr>\n      <th>12</th>\n      <td>EKTR4</td>\n      <td>38.51</td>\n      <td>36.08</td>\n      <td>39.00</td>\n      <td>26.24</td>\n      <td>40.15</td>\n      <td>11.01</td>\n      <td>44.83</td>\n      <td>-1.26</td>\n      <td>193759265</td>\n      <td>Energia Eletrica</td>\n    </tr>\n    <tr>\n      <th>13</th>\n      <td>GGBR3</td>\n      <td>23.81</td>\n      <td>23.45</td>\n      <td>24.32</td>\n      <td>16.79</td>\n      <td>25.88</td>\n      <td>14.03</td>\n      <td>41.81</td>\n      <td>-2.10</td>\n      <td>1757067050</td>\n      <td>Siderurgia</td>\n    </tr>\n    <tr>\n      <th>14</th>\n      <td>GGBR4</td>\n      <td>25.73</td>\n      <td>25.31</td>\n      <td>26.18</td>\n      <td>20.33</td>\n      <td>32.10</td>\n      <td>12.96</td>\n      <td>26.56</td>\n      <td>-1.04</td>\n      <td>1757067050</td>\n      <td>Siderurgia</td>\n    </tr>\n    <tr>\n      <th>15</th>\n      <td>MMAQ4</td>\n      <td>49.73</td>\n      <td>48.80</td>\n      <td>61.38</td>\n      <td>0.00</td>\n      <td>0.00</td>\n      <td>503.40</td>\n      <td>0.00</td>\n      <td>0.00</td>\n      <td>44850</td>\n      <td>Material de Transporte</td>\n    </tr>\n    <tr>\n      <th>16</th>\n      <td>PETR3</td>\n      <td>36.78</td>\n      <td>35.20</td>\n      <td>37.00</td>\n      <td>20.08</td>\n      <td>37.00</td>\n      <td>25.02</td>\n      <td>43.73</td>\n      <td>3.05</td>\n      <td>13044496930</td>\n      <td>Exploracao Refino e Distribuicao</td>\n    </tr>\n    <tr>\n      <th>17</th>\n      <td>PETR4</td>\n      <td>33.53</td>\n      <td>32.29</td>\n      <td>33.53</td>\n      <td>17.38</td>\n      <td>33.53</td>\n      <td>27.61</td>\n      <td>51.51</td>\n      <td>2.76</td>\n      <td>13044496930</td>\n      <td>Exploracao Refino e Distribuicao</td>\n    </tr>\n    <tr>\n      <th>18</th>\n      <td>SOND3</td>\n      <td>46.01</td>\n      <td>46.01</td>\n      <td>46.01</td>\n      <td>0.00</td>\n      <td>0.00</td>\n      <td>12.04</td>\n      <td>0.00</td>\n      <td>0.00</td>\n      <td>2457900</td>\n      <td>Engenharia Consultiva</td>\n    </tr>\n    <tr>\n      <th>19</th>\n      <td>SOND5</td>\n      <td>50.00</td>\n      <td>40.00</td>\n      <td>50.00</td>\n      <td>26.93</td>\n      <td>50.00</td>\n      <td>12.19</td>\n      <td>70.13</td>\n      <td>25.00</td>\n      <td>2457900</td>\n      <td>Engenharia Consultiva</td>\n    </tr>\n    <tr>\n      <th>20</th>\n      <td>SOND6</td>\n      <td>45.00</td>\n      <td>40.56</td>\n      <td>45.00</td>\n      <td>25.97</td>\n      <td>45.60</td>\n      <td>13.54</td>\n      <td>63.10</td>\n      <td>10.95</td>\n      <td>2457900</td>\n      <td>Engenharia Consultiva</td>\n    </tr>\n  </tbody>\n</table>\n</div>"
     },
     "execution_count": 8,
     "metadata": {},
     "output_type": "execute_result"
    }
   ],
   "source": [
    "list_stocks.rename(columns={'stocks': \"TICKERS\" }, inplace=True)\n",
    "list_stocks"
   ],
   "metadata": {
    "collapsed": false,
    "ExecuteTime": {
     "end_time": "2023-09-13T04:31:31.270125Z",
     "start_time": "2023-09-13T04:31:31.149535Z"
    }
   },
   "id": "bbc541d90298a7fe"
  },
  {
   "cell_type": "code",
   "execution_count": 9,
   "outputs": [
    {
     "data": {
      "text/plain": "   TICKERS  PRECO_x      VPA    DY_x     LPA   P/L  P/L_IDEAL  UP/DOWNSIDE  \\\n0    AGRO3    28.90    21.46   12.49    2.62  9.88   8.190840    -0.257439   \n1    AURE3    13.93    14.79   10.90    3.10  4.44   4.770968     0.061737   \n2    BBSE3    31.94     4.47   11.21    3.59  8.66   1.245125    -0.860050   \n3    BGIP4    23.50    35.35   10.66    3.65  6.35   9.684932     0.504255   \n4    BRAP3    20.88    19.30   12.29    7.01  3.09   2.753210    -0.075670   \n5    BRAP4    22.60    19.30   12.58    7.01  3.32   2.753210    -0.146018   \n6    CATA3   103.61  1214.17   38.09  211.94  0.49   5.728838    10.718657   \n7    CEBR3    13.62    13.92   10.97    2.61  5.20   5.333333     0.022026   \n8    CEBR5    13.70    13.92   11.03    2.61  5.17   5.333333     0.016058   \n9    CEBR6    15.15    13.92   11.16    2.61  5.62   5.333333    -0.081188   \n10   CMIN3     4.31     1.91   21.27    0.44  9.80   4.340909    -0.556845   \n11   EKTR3    34.00    16.27   10.63    4.93  6.90   3.300203    -0.521471   \n12   EKTR4    38.51    16.27   11.01    4.93  7.32   3.300203    -0.577512   \n13   GGBR3    23.81    27.87   14.03    5.44  4.31   5.123162     0.170517   \n14   GGBR4    25.73    27.87   12.96    5.44  4.67   5.123162     0.083171   \n15   MMAQ4    49.73  5503.84  503.40  873.91  0.06   6.297948   109.674442   \n16   PETR3    36.78    28.42   25.02   11.99  3.09   2.370309    -0.227297   \n17   PETR4    33.53    28.42   27.61   11.99  2.80   2.370309    -0.152401   \n18   SOND3    46.01    22.63   12.04    6.67  6.90   3.392804    -0.508150   \n19   SOND5    50.00    22.63   12.19    6.67  7.50   3.392804    -0.547400   \n20   SOND6    45.00    22.63   13.54    6.67  6.75   3.392804    -0.497111   \n\n      ROE  P/VP  ...  PRECO_y  MIN_MES  MAX_MES  MIN_52S  MAX_52S    DY_y  \\\n0   12.22  1.21  ...    28.90    24.06    28.90    22.59    31.35   12.49   \n1   20.94  0.93  ...    13.93    13.77    13.93    12.10    14.95   10.90   \n2   80.32  6.95  ...    31.94    31.03    31.94    23.95    34.18   11.21   \n3   10.32  0.65  ...    23.50    22.12    23.50    15.08    27.39   10.66   \n4   36.31  1.12  ...    20.88    20.80    21.97    18.59    27.04   12.29   \n5   36.31  1.21  ...    22.60    22.56    23.95    20.18    31.20   12.58   \n6   17.46  0.09  ...   103.61   103.61   113.46     0.00     0.00   38.09   \n7   18.78  0.98  ...    13.62    13.59    13.62     8.64    13.78   10.97   \n8   18.78  0.97  ...    13.70    13.36    13.70     9.82    14.00   11.03   \n9   18.78  1.06  ...    15.15    14.66    15.15     9.66    15.15   11.16   \n10  22.89  2.24  ...     4.31     4.21     4.41     2.81     5.20   21.27   \n11  30.29  2.09  ...    34.00    34.00    34.00    28.86    35.40   10.63   \n12  30.29  2.22  ...    38.51    36.08    39.00    26.24    40.15   11.01   \n13  19.52  0.84  ...    23.81    23.45    24.32    16.79    25.88   14.03   \n14  19.52  0.91  ...    25.73    25.31    26.18    20.33    32.10   12.96   \n15  15.88  0.01  ...    49.73    48.80    61.38     0.00     0.00  503.40   \n16  42.19  1.30  ...    36.78    35.20    37.00    20.08    37.00   25.02   \n17  42.19  1.18  ...    33.53    32.29    33.53    17.38    33.53   27.61   \n18  29.45  2.03  ...    46.01    46.01    46.01     0.00     0.00   12.04   \n19  29.45  2.21  ...    50.00    40.00    50.00    26.93    50.00   12.19   \n20  29.45  1.99  ...    45.00    40.56    45.00    25.97    45.60   13.54   \n\n    VAL_12M  VAL_MES    QTDEPAPEL                          SEGMENTO  \n0      6.06    18.25    102377008                       Agricultura  \n1      7.57     0.14   1000000000                  Energia Eletrica  \n2     25.95     2.93   2000000000                       Seguradoras  \n3     42.34     6.24     16905980                            Bancos  \n4     12.32    -4.48    393096610                Minerais Metalicos  \n5     11.66    -4.36    393096610                Minerais Metalicos  \n6      0.00     0.00       145307                    Fios e Tecidos  \n7     19.16     0.15     72081915                  Energia Eletrica  \n8     34.18     0.74     72081915                  Energia Eletrica  \n9     35.39     3.34     72081915                  Energia Eletrica  \n10    38.14    -1.15   5485338838                Minerais Metalicos  \n11     6.18     0.00    193759265                  Energia Eletrica  \n12    44.83    -1.26    193759265                  Energia Eletrica  \n13    41.81    -2.10   1757067050                        Siderurgia  \n14    26.56    -1.04   1757067050                        Siderurgia  \n15     0.00     0.00        44850            Material de Transporte  \n16    43.73     3.05  13044496930  Exploracao Refino e Distribuicao  \n17    51.51     2.76  13044496930  Exploracao Refino e Distribuicao  \n18     0.00     0.00      2457900             Engenharia Consultiva  \n19    70.13    25.00      2457900             Engenharia Consultiva  \n20    63.10    10.95      2457900             Engenharia Consultiva  \n\n[21 rows x 24 columns]",
      "text/html": "<div>\n<style scoped>\n    .dataframe tbody tr th:only-of-type {\n        vertical-align: middle;\n    }\n\n    .dataframe tbody tr th {\n        vertical-align: top;\n    }\n\n    .dataframe thead th {\n        text-align: right;\n    }\n</style>\n<table border=\"1\" class=\"dataframe\">\n  <thead>\n    <tr style=\"text-align: right;\">\n      <th></th>\n      <th>TICKERS</th>\n      <th>PRECO_x</th>\n      <th>VPA</th>\n      <th>DY_x</th>\n      <th>LPA</th>\n      <th>P/L</th>\n      <th>P/L_IDEAL</th>\n      <th>UP/DOWNSIDE</th>\n      <th>ROE</th>\n      <th>P/VP</th>\n      <th>...</th>\n      <th>PRECO_y</th>\n      <th>MIN_MES</th>\n      <th>MAX_MES</th>\n      <th>MIN_52S</th>\n      <th>MAX_52S</th>\n      <th>DY_y</th>\n      <th>VAL_12M</th>\n      <th>VAL_MES</th>\n      <th>QTDEPAPEL</th>\n      <th>SEGMENTO</th>\n    </tr>\n  </thead>\n  <tbody>\n    <tr>\n      <th>0</th>\n      <td>AGRO3</td>\n      <td>28.90</td>\n      <td>21.46</td>\n      <td>12.49</td>\n      <td>2.62</td>\n      <td>9.88</td>\n      <td>8.190840</td>\n      <td>-0.257439</td>\n      <td>12.22</td>\n      <td>1.21</td>\n      <td>...</td>\n      <td>28.90</td>\n      <td>24.06</td>\n      <td>28.90</td>\n      <td>22.59</td>\n      <td>31.35</td>\n      <td>12.49</td>\n      <td>6.06</td>\n      <td>18.25</td>\n      <td>102377008</td>\n      <td>Agricultura</td>\n    </tr>\n    <tr>\n      <th>1</th>\n      <td>AURE3</td>\n      <td>13.93</td>\n      <td>14.79</td>\n      <td>10.90</td>\n      <td>3.10</td>\n      <td>4.44</td>\n      <td>4.770968</td>\n      <td>0.061737</td>\n      <td>20.94</td>\n      <td>0.93</td>\n      <td>...</td>\n      <td>13.93</td>\n      <td>13.77</td>\n      <td>13.93</td>\n      <td>12.10</td>\n      <td>14.95</td>\n      <td>10.90</td>\n      <td>7.57</td>\n      <td>0.14</td>\n      <td>1000000000</td>\n      <td>Energia Eletrica</td>\n    </tr>\n    <tr>\n      <th>2</th>\n      <td>BBSE3</td>\n      <td>31.94</td>\n      <td>4.47</td>\n      <td>11.21</td>\n      <td>3.59</td>\n      <td>8.66</td>\n      <td>1.245125</td>\n      <td>-0.860050</td>\n      <td>80.32</td>\n      <td>6.95</td>\n      <td>...</td>\n      <td>31.94</td>\n      <td>31.03</td>\n      <td>31.94</td>\n      <td>23.95</td>\n      <td>34.18</td>\n      <td>11.21</td>\n      <td>25.95</td>\n      <td>2.93</td>\n      <td>2000000000</td>\n      <td>Seguradoras</td>\n    </tr>\n    <tr>\n      <th>3</th>\n      <td>BGIP4</td>\n      <td>23.50</td>\n      <td>35.35</td>\n      <td>10.66</td>\n      <td>3.65</td>\n      <td>6.35</td>\n      <td>9.684932</td>\n      <td>0.504255</td>\n      <td>10.32</td>\n      <td>0.65</td>\n      <td>...</td>\n      <td>23.50</td>\n      <td>22.12</td>\n      <td>23.50</td>\n      <td>15.08</td>\n      <td>27.39</td>\n      <td>10.66</td>\n      <td>42.34</td>\n      <td>6.24</td>\n      <td>16905980</td>\n      <td>Bancos</td>\n    </tr>\n    <tr>\n      <th>4</th>\n      <td>BRAP3</td>\n      <td>20.88</td>\n      <td>19.30</td>\n      <td>12.29</td>\n      <td>7.01</td>\n      <td>3.09</td>\n      <td>2.753210</td>\n      <td>-0.075670</td>\n      <td>36.31</td>\n      <td>1.12</td>\n      <td>...</td>\n      <td>20.88</td>\n      <td>20.80</td>\n      <td>21.97</td>\n      <td>18.59</td>\n      <td>27.04</td>\n      <td>12.29</td>\n      <td>12.32</td>\n      <td>-4.48</td>\n      <td>393096610</td>\n      <td>Minerais Metalicos</td>\n    </tr>\n    <tr>\n      <th>5</th>\n      <td>BRAP4</td>\n      <td>22.60</td>\n      <td>19.30</td>\n      <td>12.58</td>\n      <td>7.01</td>\n      <td>3.32</td>\n      <td>2.753210</td>\n      <td>-0.146018</td>\n      <td>36.31</td>\n      <td>1.21</td>\n      <td>...</td>\n      <td>22.60</td>\n      <td>22.56</td>\n      <td>23.95</td>\n      <td>20.18</td>\n      <td>31.20</td>\n      <td>12.58</td>\n      <td>11.66</td>\n      <td>-4.36</td>\n      <td>393096610</td>\n      <td>Minerais Metalicos</td>\n    </tr>\n    <tr>\n      <th>6</th>\n      <td>CATA3</td>\n      <td>103.61</td>\n      <td>1214.17</td>\n      <td>38.09</td>\n      <td>211.94</td>\n      <td>0.49</td>\n      <td>5.728838</td>\n      <td>10.718657</td>\n      <td>17.46</td>\n      <td>0.09</td>\n      <td>...</td>\n      <td>103.61</td>\n      <td>103.61</td>\n      <td>113.46</td>\n      <td>0.00</td>\n      <td>0.00</td>\n      <td>38.09</td>\n      <td>0.00</td>\n      <td>0.00</td>\n      <td>145307</td>\n      <td>Fios e Tecidos</td>\n    </tr>\n    <tr>\n      <th>7</th>\n      <td>CEBR3</td>\n      <td>13.62</td>\n      <td>13.92</td>\n      <td>10.97</td>\n      <td>2.61</td>\n      <td>5.20</td>\n      <td>5.333333</td>\n      <td>0.022026</td>\n      <td>18.78</td>\n      <td>0.98</td>\n      <td>...</td>\n      <td>13.62</td>\n      <td>13.59</td>\n      <td>13.62</td>\n      <td>8.64</td>\n      <td>13.78</td>\n      <td>10.97</td>\n      <td>19.16</td>\n      <td>0.15</td>\n      <td>72081915</td>\n      <td>Energia Eletrica</td>\n    </tr>\n    <tr>\n      <th>8</th>\n      <td>CEBR5</td>\n      <td>13.70</td>\n      <td>13.92</td>\n      <td>11.03</td>\n      <td>2.61</td>\n      <td>5.17</td>\n      <td>5.333333</td>\n      <td>0.016058</td>\n      <td>18.78</td>\n      <td>0.97</td>\n      <td>...</td>\n      <td>13.70</td>\n      <td>13.36</td>\n      <td>13.70</td>\n      <td>9.82</td>\n      <td>14.00</td>\n      <td>11.03</td>\n      <td>34.18</td>\n      <td>0.74</td>\n      <td>72081915</td>\n      <td>Energia Eletrica</td>\n    </tr>\n    <tr>\n      <th>9</th>\n      <td>CEBR6</td>\n      <td>15.15</td>\n      <td>13.92</td>\n      <td>11.16</td>\n      <td>2.61</td>\n      <td>5.62</td>\n      <td>5.333333</td>\n      <td>-0.081188</td>\n      <td>18.78</td>\n      <td>1.06</td>\n      <td>...</td>\n      <td>15.15</td>\n      <td>14.66</td>\n      <td>15.15</td>\n      <td>9.66</td>\n      <td>15.15</td>\n      <td>11.16</td>\n      <td>35.39</td>\n      <td>3.34</td>\n      <td>72081915</td>\n      <td>Energia Eletrica</td>\n    </tr>\n    <tr>\n      <th>10</th>\n      <td>CMIN3</td>\n      <td>4.31</td>\n      <td>1.91</td>\n      <td>21.27</td>\n      <td>0.44</td>\n      <td>9.80</td>\n      <td>4.340909</td>\n      <td>-0.556845</td>\n      <td>22.89</td>\n      <td>2.24</td>\n      <td>...</td>\n      <td>4.31</td>\n      <td>4.21</td>\n      <td>4.41</td>\n      <td>2.81</td>\n      <td>5.20</td>\n      <td>21.27</td>\n      <td>38.14</td>\n      <td>-1.15</td>\n      <td>5485338838</td>\n      <td>Minerais Metalicos</td>\n    </tr>\n    <tr>\n      <th>11</th>\n      <td>EKTR3</td>\n      <td>34.00</td>\n      <td>16.27</td>\n      <td>10.63</td>\n      <td>4.93</td>\n      <td>6.90</td>\n      <td>3.300203</td>\n      <td>-0.521471</td>\n      <td>30.29</td>\n      <td>2.09</td>\n      <td>...</td>\n      <td>34.00</td>\n      <td>34.00</td>\n      <td>34.00</td>\n      <td>28.86</td>\n      <td>35.40</td>\n      <td>10.63</td>\n      <td>6.18</td>\n      <td>0.00</td>\n      <td>193759265</td>\n      <td>Energia Eletrica</td>\n    </tr>\n    <tr>\n      <th>12</th>\n      <td>EKTR4</td>\n      <td>38.51</td>\n      <td>16.27</td>\n      <td>11.01</td>\n      <td>4.93</td>\n      <td>7.32</td>\n      <td>3.300203</td>\n      <td>-0.577512</td>\n      <td>30.29</td>\n      <td>2.22</td>\n      <td>...</td>\n      <td>38.51</td>\n      <td>36.08</td>\n      <td>39.00</td>\n      <td>26.24</td>\n      <td>40.15</td>\n      <td>11.01</td>\n      <td>44.83</td>\n      <td>-1.26</td>\n      <td>193759265</td>\n      <td>Energia Eletrica</td>\n    </tr>\n    <tr>\n      <th>13</th>\n      <td>GGBR3</td>\n      <td>23.81</td>\n      <td>27.87</td>\n      <td>14.03</td>\n      <td>5.44</td>\n      <td>4.31</td>\n      <td>5.123162</td>\n      <td>0.170517</td>\n      <td>19.52</td>\n      <td>0.84</td>\n      <td>...</td>\n      <td>23.81</td>\n      <td>23.45</td>\n      <td>24.32</td>\n      <td>16.79</td>\n      <td>25.88</td>\n      <td>14.03</td>\n      <td>41.81</td>\n      <td>-2.10</td>\n      <td>1757067050</td>\n      <td>Siderurgia</td>\n    </tr>\n    <tr>\n      <th>14</th>\n      <td>GGBR4</td>\n      <td>25.73</td>\n      <td>27.87</td>\n      <td>12.96</td>\n      <td>5.44</td>\n      <td>4.67</td>\n      <td>5.123162</td>\n      <td>0.083171</td>\n      <td>19.52</td>\n      <td>0.91</td>\n      <td>...</td>\n      <td>25.73</td>\n      <td>25.31</td>\n      <td>26.18</td>\n      <td>20.33</td>\n      <td>32.10</td>\n      <td>12.96</td>\n      <td>26.56</td>\n      <td>-1.04</td>\n      <td>1757067050</td>\n      <td>Siderurgia</td>\n    </tr>\n    <tr>\n      <th>15</th>\n      <td>MMAQ4</td>\n      <td>49.73</td>\n      <td>5503.84</td>\n      <td>503.40</td>\n      <td>873.91</td>\n      <td>0.06</td>\n      <td>6.297948</td>\n      <td>109.674442</td>\n      <td>15.88</td>\n      <td>0.01</td>\n      <td>...</td>\n      <td>49.73</td>\n      <td>48.80</td>\n      <td>61.38</td>\n      <td>0.00</td>\n      <td>0.00</td>\n      <td>503.40</td>\n      <td>0.00</td>\n      <td>0.00</td>\n      <td>44850</td>\n      <td>Material de Transporte</td>\n    </tr>\n    <tr>\n      <th>16</th>\n      <td>PETR3</td>\n      <td>36.78</td>\n      <td>28.42</td>\n      <td>25.02</td>\n      <td>11.99</td>\n      <td>3.09</td>\n      <td>2.370309</td>\n      <td>-0.227297</td>\n      <td>42.19</td>\n      <td>1.30</td>\n      <td>...</td>\n      <td>36.78</td>\n      <td>35.20</td>\n      <td>37.00</td>\n      <td>20.08</td>\n      <td>37.00</td>\n      <td>25.02</td>\n      <td>43.73</td>\n      <td>3.05</td>\n      <td>13044496930</td>\n      <td>Exploracao Refino e Distribuicao</td>\n    </tr>\n    <tr>\n      <th>17</th>\n      <td>PETR4</td>\n      <td>33.53</td>\n      <td>28.42</td>\n      <td>27.61</td>\n      <td>11.99</td>\n      <td>2.80</td>\n      <td>2.370309</td>\n      <td>-0.152401</td>\n      <td>42.19</td>\n      <td>1.18</td>\n      <td>...</td>\n      <td>33.53</td>\n      <td>32.29</td>\n      <td>33.53</td>\n      <td>17.38</td>\n      <td>33.53</td>\n      <td>27.61</td>\n      <td>51.51</td>\n      <td>2.76</td>\n      <td>13044496930</td>\n      <td>Exploracao Refino e Distribuicao</td>\n    </tr>\n    <tr>\n      <th>18</th>\n      <td>SOND3</td>\n      <td>46.01</td>\n      <td>22.63</td>\n      <td>12.04</td>\n      <td>6.67</td>\n      <td>6.90</td>\n      <td>3.392804</td>\n      <td>-0.508150</td>\n      <td>29.45</td>\n      <td>2.03</td>\n      <td>...</td>\n      <td>46.01</td>\n      <td>46.01</td>\n      <td>46.01</td>\n      <td>0.00</td>\n      <td>0.00</td>\n      <td>12.04</td>\n      <td>0.00</td>\n      <td>0.00</td>\n      <td>2457900</td>\n      <td>Engenharia Consultiva</td>\n    </tr>\n    <tr>\n      <th>19</th>\n      <td>SOND5</td>\n      <td>50.00</td>\n      <td>22.63</td>\n      <td>12.19</td>\n      <td>6.67</td>\n      <td>7.50</td>\n      <td>3.392804</td>\n      <td>-0.547400</td>\n      <td>29.45</td>\n      <td>2.21</td>\n      <td>...</td>\n      <td>50.00</td>\n      <td>40.00</td>\n      <td>50.00</td>\n      <td>26.93</td>\n      <td>50.00</td>\n      <td>12.19</td>\n      <td>70.13</td>\n      <td>25.00</td>\n      <td>2457900</td>\n      <td>Engenharia Consultiva</td>\n    </tr>\n    <tr>\n      <th>20</th>\n      <td>SOND6</td>\n      <td>45.00</td>\n      <td>22.63</td>\n      <td>13.54</td>\n      <td>6.67</td>\n      <td>6.75</td>\n      <td>3.392804</td>\n      <td>-0.497111</td>\n      <td>29.45</td>\n      <td>1.99</td>\n      <td>...</td>\n      <td>45.00</td>\n      <td>40.56</td>\n      <td>45.00</td>\n      <td>25.97</td>\n      <td>45.60</td>\n      <td>13.54</td>\n      <td>63.10</td>\n      <td>10.95</td>\n      <td>2457900</td>\n      <td>Engenharia Consultiva</td>\n    </tr>\n  </tbody>\n</table>\n<p>21 rows × 24 columns</p>\n</div>"
     },
     "execution_count": 9,
     "metadata": {},
     "output_type": "execute_result"
    }
   ],
   "source": [
    "Investing = pd.merge(valuation, list_stocks, on='TICKERS')\n",
    "Investing"
   ],
   "metadata": {
    "collapsed": false,
    "ExecuteTime": {
     "end_time": "2023-09-13T04:31:31.386048Z",
     "start_time": "2023-09-13T04:31:31.234148Z"
    }
   },
   "id": "482d8e2d60c51440"
  },
  {
   "cell_type": "code",
   "execution_count": 9,
   "outputs": [],
   "source": [],
   "metadata": {
    "collapsed": false,
    "ExecuteTime": {
     "end_time": "2023-09-13T04:31:31.398805Z",
     "start_time": "2023-09-13T04:31:31.323591Z"
    }
   },
   "id": "489c38ac0238ed7f"
  }
 ],
 "metadata": {
  "kernelspec": {
   "display_name": "Python 3",
   "language": "python",
   "name": "python3"
  },
  "language_info": {
   "codemirror_mode": {
    "name": "ipython",
    "version": 2
   },
   "file_extension": ".py",
   "mimetype": "text/x-python",
   "name": "python",
   "nbconvert_exporter": "python",
   "pygments_lexer": "ipython2",
   "version": "2.7.6"
  }
 },
 "nbformat": 4,
 "nbformat_minor": 5
}
