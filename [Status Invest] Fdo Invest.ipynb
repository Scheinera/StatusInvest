{
 "cells": [
  {
   "cell_type": "code",
   "execution_count": null,
   "outputs": [],
   "source": [
    "import pandas as pd\n",
    "import numpy as np"
   ],
   "metadata": {
    "collapsed": false
   }
  },
  {
   "cell_type": "code",
   "execution_count": null,
   "outputs": [],
   "source": [
    "fundos = pd.read_csv('fundos.csv', sep=';', decimal=',', encoding='ISO-8859-1')\n",
    "fiis = pd.DataFrame(fundos)"
   ],
   "metadata": {
    "collapsed": false
   }
  },
  {
   "cell_type": "code",
   "execution_count": 4,
   "outputs": [
    {
     "data": {
      "text/plain": "     TICKER   PRECO ULTIMO DIVIDENDO     DY VALOR PATRIMONIAL COTA  P/VP  \\\n0    ABCP11   69,38         0,500000   8,24                  91,86  0,76   \n1    AFHI11   97,00         1,050000  13,01                  95,95  1,01   \n2    AIEC11   70,05         0,760000  12,92                  94,70  0,74   \n3    ALMI11  800,00         0,371133   0,00               2.030,94  0,39   \n4    ALZC11    0,00              NaN   0,00                    NaN   NaN   \n..      ...     ...              ...    ...                    ...   ...   \n466  XPPR11   22,48         0,100000  10,68                  70,49  0,32   \n467  XPSF11    8,65         0,075000  10,59                   8,81  0,98   \n468  YUFI11   94,99         0,297990   3,06                 101,69  0,93   \n469  ZAVI11  128,00         1,120000   8,73                 135,22  0,95   \n470  ZIFI11  860,00         3,304958   0,00               1.205,80  0,71   \n\n    LIQUIDEZ MEDIA DIARIA PERCENTUAL EM CAIXA  CAGR DIVIDENDOS 3 ANOS  \\\n0               56.025,71                1,53                   13.72   \n1            1.407.442,80                2,10                     NaN   \n2              627.494,27                2,47                     NaN   \n3               61.584,90                2,24                     NaN   \n4                     NaN                 NaN                     NaN   \n..                    ...                 ...                     ...   \n466            302.071,63                3,67                  -29.33   \n467            697.661,51                1,24                    0.78   \n468                184,00               13,17                     NaN   \n469            222.406,95                6,33                     NaN   \n470             26.259,56                0,00                     NaN   \n\n      CAGR VALOR CORA 3 ANOS      PATRIMONIO N COTISTAS   GESTAO  \\\n0                      -7.94  432.552.807,00  17.906,00  Passiva   \n1                        NaN  289.711.187,37  22.313,00    Ativa   \n2                        NaN  456.945.283,72  15.088,00    Ativa   \n3                     -12.64  225.793.787,83   2.367,00  Passiva   \n4                        NaN             NaN        NaN      NaN   \n..                       ...             ...        ...      ...   \n466                   -37.65  515.697.388,77  61.991,00    Ativa   \n467                    -3.81  381.685.180,11  46.486,00    Ativa   \n468                      NaN   50.098.006,90      55,00    Ativa   \n469                      NaN  158.659.136,14   3.311,00    Ativa   \n470                      NaN   57.257.472,65      65,00    Ativa   \n\n           N COTAS  \n0     4.709.082,00  \n1     3.019.453,00  \n2     4.824.987,00  \n3       111.177,00  \n4     1.000.000,00  \n..             ...  \n466   7.316.171,00  \n467  43.302.140,00  \n468     492.650,00  \n469   1.173.322,00  \n470      47.485,00  \n\n[471 rows x 14 columns]",
      "text/html": "<div>\n<style scoped>\n    .dataframe tbody tr th:only-of-type {\n        vertical-align: middle;\n    }\n\n    .dataframe tbody tr th {\n        vertical-align: top;\n    }\n\n    .dataframe thead th {\n        text-align: right;\n    }\n</style>\n<table border=\"1\" class=\"dataframe\">\n  <thead>\n    <tr style=\"text-align: right;\">\n      <th></th>\n      <th>TICKER</th>\n      <th>PRECO</th>\n      <th>ULTIMO DIVIDENDO</th>\n      <th>DY</th>\n      <th>VALOR PATRIMONIAL COTA</th>\n      <th>P/VP</th>\n      <th>LIQUIDEZ MEDIA DIARIA</th>\n      <th>PERCENTUAL EM CAIXA</th>\n      <th>CAGR DIVIDENDOS 3 ANOS</th>\n      <th>CAGR VALOR CORA 3 ANOS</th>\n      <th>PATRIMONIO</th>\n      <th>N COTISTAS</th>\n      <th>GESTAO</th>\n      <th>N COTAS</th>\n    </tr>\n  </thead>\n  <tbody>\n    <tr>\n      <th>0</th>\n      <td>ABCP11</td>\n      <td>69,38</td>\n      <td>0,500000</td>\n      <td>8,24</td>\n      <td>91,86</td>\n      <td>0,76</td>\n      <td>56.025,71</td>\n      <td>1,53</td>\n      <td>13.72</td>\n      <td>-7.94</td>\n      <td>432.552.807,00</td>\n      <td>17.906,00</td>\n      <td>Passiva</td>\n      <td>4.709.082,00</td>\n    </tr>\n    <tr>\n      <th>1</th>\n      <td>AFHI11</td>\n      <td>97,00</td>\n      <td>1,050000</td>\n      <td>13,01</td>\n      <td>95,95</td>\n      <td>1,01</td>\n      <td>1.407.442,80</td>\n      <td>2,10</td>\n      <td>NaN</td>\n      <td>NaN</td>\n      <td>289.711.187,37</td>\n      <td>22.313,00</td>\n      <td>Ativa</td>\n      <td>3.019.453,00</td>\n    </tr>\n    <tr>\n      <th>2</th>\n      <td>AIEC11</td>\n      <td>70,05</td>\n      <td>0,760000</td>\n      <td>12,92</td>\n      <td>94,70</td>\n      <td>0,74</td>\n      <td>627.494,27</td>\n      <td>2,47</td>\n      <td>NaN</td>\n      <td>NaN</td>\n      <td>456.945.283,72</td>\n      <td>15.088,00</td>\n      <td>Ativa</td>\n      <td>4.824.987,00</td>\n    </tr>\n    <tr>\n      <th>3</th>\n      <td>ALMI11</td>\n      <td>800,00</td>\n      <td>0,371133</td>\n      <td>0,00</td>\n      <td>2.030,94</td>\n      <td>0,39</td>\n      <td>61.584,90</td>\n      <td>2,24</td>\n      <td>NaN</td>\n      <td>-12.64</td>\n      <td>225.793.787,83</td>\n      <td>2.367,00</td>\n      <td>Passiva</td>\n      <td>111.177,00</td>\n    </tr>\n    <tr>\n      <th>4</th>\n      <td>ALZC11</td>\n      <td>0,00</td>\n      <td>NaN</td>\n      <td>0,00</td>\n      <td>NaN</td>\n      <td>NaN</td>\n      <td>NaN</td>\n      <td>NaN</td>\n      <td>NaN</td>\n      <td>NaN</td>\n      <td>NaN</td>\n      <td>NaN</td>\n      <td>NaN</td>\n      <td>1.000.000,00</td>\n    </tr>\n    <tr>\n      <th>...</th>\n      <td>...</td>\n      <td>...</td>\n      <td>...</td>\n      <td>...</td>\n      <td>...</td>\n      <td>...</td>\n      <td>...</td>\n      <td>...</td>\n      <td>...</td>\n      <td>...</td>\n      <td>...</td>\n      <td>...</td>\n      <td>...</td>\n      <td>...</td>\n    </tr>\n    <tr>\n      <th>466</th>\n      <td>XPPR11</td>\n      <td>22,48</td>\n      <td>0,100000</td>\n      <td>10,68</td>\n      <td>70,49</td>\n      <td>0,32</td>\n      <td>302.071,63</td>\n      <td>3,67</td>\n      <td>-29.33</td>\n      <td>-37.65</td>\n      <td>515.697.388,77</td>\n      <td>61.991,00</td>\n      <td>Ativa</td>\n      <td>7.316.171,00</td>\n    </tr>\n    <tr>\n      <th>467</th>\n      <td>XPSF11</td>\n      <td>8,65</td>\n      <td>0,075000</td>\n      <td>10,59</td>\n      <td>8,81</td>\n      <td>0,98</td>\n      <td>697.661,51</td>\n      <td>1,24</td>\n      <td>0.78</td>\n      <td>-3.81</td>\n      <td>381.685.180,11</td>\n      <td>46.486,00</td>\n      <td>Ativa</td>\n      <td>43.302.140,00</td>\n    </tr>\n    <tr>\n      <th>468</th>\n      <td>YUFI11</td>\n      <td>94,99</td>\n      <td>0,297990</td>\n      <td>3,06</td>\n      <td>101,69</td>\n      <td>0,93</td>\n      <td>184,00</td>\n      <td>13,17</td>\n      <td>NaN</td>\n      <td>NaN</td>\n      <td>50.098.006,90</td>\n      <td>55,00</td>\n      <td>Ativa</td>\n      <td>492.650,00</td>\n    </tr>\n    <tr>\n      <th>469</th>\n      <td>ZAVI11</td>\n      <td>128,00</td>\n      <td>1,120000</td>\n      <td>8,73</td>\n      <td>135,22</td>\n      <td>0,95</td>\n      <td>222.406,95</td>\n      <td>6,33</td>\n      <td>NaN</td>\n      <td>NaN</td>\n      <td>158.659.136,14</td>\n      <td>3.311,00</td>\n      <td>Ativa</td>\n      <td>1.173.322,00</td>\n    </tr>\n    <tr>\n      <th>470</th>\n      <td>ZIFI11</td>\n      <td>860,00</td>\n      <td>3,304958</td>\n      <td>0,00</td>\n      <td>1.205,80</td>\n      <td>0,71</td>\n      <td>26.259,56</td>\n      <td>0,00</td>\n      <td>NaN</td>\n      <td>NaN</td>\n      <td>57.257.472,65</td>\n      <td>65,00</td>\n      <td>Ativa</td>\n      <td>47.485,00</td>\n    </tr>\n  </tbody>\n</table>\n<p>471 rows × 14 columns</p>\n</div>"
     },
     "execution_count": 4,
     "metadata": {},
     "output_type": "execute_result"
    }
   ],
   "source": [
    "fiis"
   ],
   "metadata": {
    "collapsed": false,
    "ExecuteTime": {
     "end_time": "2023-09-05T21:00:01.053766Z",
     "start_time": "2023-09-05T21:00:00.893284Z"
    }
   }
  },
  {
   "cell_type": "code",
   "execution_count": null,
   "outputs": [],
   "source": [],
   "metadata": {
    "collapsed": false
   }
  }
 ],
 "nbformat": 4,
 "nbformat_minor": 0,
 "metadata": {
  "deepnote": {},
  "orig_nbformat": 2,
  "deepnote_notebook_id": "492085a6bf3141a79474d7a842a3ce2d",
  "deepnote_persisted_session": {
   "createdAt": "2023-08-25T04:16:33.077Z"
  },
  "deepnote_execution_queue": [],
  "kernelspec": {
   "name": "python3",
   "language": "python",
   "display_name": "Python 3 (ipykernel)"
  }
 }
}
