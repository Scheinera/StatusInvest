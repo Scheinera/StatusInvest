{
 "cells": [
  {
   "cell_type": "code",
   "metadata": {
    "source_hash": null,
    "output_cleared": false,
    "execution_start": 1693024141354,
    "execution_millis": 9,
    "is_output_hidden": true,
    "deepnote_to_be_reexecuted": false,
    "deepnote_app_is_output_hidden": true,
    "cell_id": "ced38634790543a686a921bcacb24514",
    "deepnote_cell_type": "code",
    "ExecuteTime": {
     "end_time": "2023-09-05T14:11:19.600650Z",
     "start_time": "2023-09-05T14:10:59.127462Z"
    }
   },
   "source": [
    "!pip install pandas\n",
    "!pip install numpy\n",
    "import os\n",
    "from pathlib import Path\n",
    "import pandas as pd\n",
    "import numpy as np"
   ],
   "block_group": "72c746c0e2e541c292569057f5a03789",
   "execution_count": 1,
   "outputs": [
    {
     "name": "stdout",
     "output_type": "stream",
     "text": [
      "Requirement already satisfied: pandas in /Users/scheiner/anaconda3/lib/python3.11/site-packages (1.5.3)\r\n",
      "Requirement already satisfied: python-dateutil>=2.8.1 in /Users/scheiner/anaconda3/lib/python3.11/site-packages (from pandas) (2.8.2)\r\n",
      "Requirement already satisfied: pytz>=2020.1 in /Users/scheiner/anaconda3/lib/python3.11/site-packages (from pandas) (2022.7)\r\n",
      "Requirement already satisfied: numpy>=1.21.0 in /Users/scheiner/anaconda3/lib/python3.11/site-packages (from pandas) (1.24.3)\r\n",
      "Requirement already satisfied: six>=1.5 in /Users/scheiner/anaconda3/lib/python3.11/site-packages (from python-dateutil>=2.8.1->pandas) (1.16.0)\r\n",
      "Requirement already satisfied: numpy in /Users/scheiner/anaconda3/lib/python3.11/site-packages (1.24.3)\r\n"
     ]
    }
   ]
  },
  {
   "cell_type": "code",
   "execution_count": 3,
   "outputs": [
    {
     "data": {
      "text/plain": "PosixPath('/Users/scheiner/Documents/GitHub/StatusInvest')"
     },
     "execution_count": 3,
     "metadata": {},
     "output_type": "execute_result"
    }
   ],
   "source": [
    "caminho= Path.cwd()\n",
    "caminho"
   ],
   "metadata": {
    "collapsed": false,
    "ExecuteTime": {
     "end_time": "2023-09-05T14:13:27.651456Z",
     "start_time": "2023-09-05T14:13:27.613204Z"
    }
   }
  },
  {
   "cell_type": "code",
   "execution_count": 4,
   "outputs": [],
   "source": [
    "internacional = pd.read_csv('internacional.csv', sep=';', decimal=',', encoding='ISO-8859-1')\n",
    "internacional = pd.DataFrame(internacional)"
   ],
   "metadata": {
    "collapsed": false,
    "ExecuteTime": {
     "end_time": "2023-09-05T15:55:01.499394Z",
     "start_time": "2023-09-05T15:55:01.215506Z"
    }
   }
  },
  {
   "cell_type": "code",
   "metadata": {
    "source_hash": null,
    "execution_start": 1693024152029,
    "execution_millis": 467,
    "deepnote_to_be_reexecuted": false,
    "cell_id": "8812671e46c34c15af9f04525d092ab1",
    "deepnote_cell_type": "code",
    "ExecuteTime": {
     "end_time": "2023-09-05T15:55:09.308856Z",
     "start_time": "2023-09-05T15:55:09.178946Z"
    }
   },
   "source": [
    "internacional"
   ],
   "block_group": "76cfc38bb50a4c4daf82522a35707ad9",
   "execution_count": 5,
   "outputs": [
    {
     "data": {
      "text/plain": "     TICKER   PRECO    DY      P/L    P/VP P/ATIVOS MARGEM BRUTA MARGEM EBIT  \\\n0         A  119,48  0,74    25,99    6,07     3,25        54,59       24,57   \n1        AA   28,43  1,40    -3,46    1,05     0,36         6,30      -10,53   \n2      AACG    1,22   NaN    -3,72    1,68     0,54        51,68      -31,49   \n3      AACQ    9,99   NaN   -93,43  180,94     1,25          NaN         NaN   \n4     AACQU   11,05   NaN  -103,35  200,14     1,38          NaN         NaN   \n...     ...     ...   ...      ...     ...      ...          ...         ...   \n6168    ZUO    8,91   NaN    -6,38   11,94     1,84        61,98      -40,35   \n6169    ZVO    0,09   NaN    -0,08    0,47     0,04        35,09      -17,75   \n6170   ZYME    7,52   NaN     3,02    1,14     0,85       100,00       40,70   \n6171   ZYNE    1,33   NaN    -1,96    1,84     1,48          NaN         NaN   \n6172   ZYXI    7,62   NaN    16,02    4,44     1,81        79,53       12,60   \n\n     MARG. LIQUIDA P/EBIT  ... PATRIMONIO / ATIVOS PASSIVOS / ATIVOS  \\\n0            19,19  17,37  ...                0.54              0.46   \n1           -13,56  -9,42  ...                0.34              0.66   \n2           -32,34    NaN  ...                0.32              0.68   \n3              NaN    NaN  ...                0.01              0.12   \n4              NaN    NaN  ...                0.01              0.12   \n...            ...    ...  ...                 ...               ...   \n6168        -47,81  -9,88  ...                0.15              0.85   \n6169        -17,80  -0,09  ...                0.08              0.92   \n6170         37,58   2,62  ...                0.75              0.25   \n6171           NaN  -1,97  ...                0.80              0.20   \n6172          9,72  10,65  ...                0.41              0.59   \n\n      GIRO ATIVOS CAGR RECEITAS 5 ANOS CAGR LUCROS 5 ANOS  \\\n0            0.65                 8.90              12.89   \n1            0.77                 1.34                NaN   \n2            0.44               106.31                NaN   \n3            0.00                  NaN                NaN   \n4            0.00                  NaN                NaN   \n...           ...                  ...                ...   \n6168         0.60                18.28                NaN   \n6169         2.69               -12.86                NaN   \n6170         0.75                51.45                NaN   \n6171         0.00                  NaN                NaN   \n6172         1.16                46.51              18.28   \n\n      LIQUIDEZ MEDIA DIARIA    VPA    LPA  PEG Ratio   VALOR DE MERCADO  \n0                       NaN  19,73   4,61        NaN  35.113.120.000,00  \n1                       NaN  27,13  -8,26        NaN   5.105.443.056,00  \n2                       NaN   0,72  -0,33        NaN      38.534.798,00  \n3                       NaN   0,06  -0,11        NaN     904.719.375,00  \n4                       NaN   0,06  -0,11        NaN     904.719.375,00  \n...                     ...    ...    ...        ...                ...  \n6168                    NaN   0,76  -1,41        NaN   1.237.999.510,00  \n6169                    NaN   0,19  -1,20        NaN       3.078.549,00  \n6170                    NaN   6,62   2,50        NaN     511.413.318,00  \n6171                    NaN   0,72  -0,68        NaN      71.739.402,00  \n6172                    NaN   1,73   0,48        NaN     276.267.095,00  \n\n[6173 rows x 30 columns]",
      "text/html": "<div>\n<style scoped>\n    .dataframe tbody tr th:only-of-type {\n        vertical-align: middle;\n    }\n\n    .dataframe tbody tr th {\n        vertical-align: top;\n    }\n\n    .dataframe thead th {\n        text-align: right;\n    }\n</style>\n<table border=\"1\" class=\"dataframe\">\n  <thead>\n    <tr style=\"text-align: right;\">\n      <th></th>\n      <th>TICKER</th>\n      <th>PRECO</th>\n      <th>DY</th>\n      <th>P/L</th>\n      <th>P/VP</th>\n      <th>P/ATIVOS</th>\n      <th>MARGEM BRUTA</th>\n      <th>MARGEM EBIT</th>\n      <th>MARG. LIQUIDA</th>\n      <th>P/EBIT</th>\n      <th>...</th>\n      <th>PATRIMONIO / ATIVOS</th>\n      <th>PASSIVOS / ATIVOS</th>\n      <th>GIRO ATIVOS</th>\n      <th>CAGR RECEITAS 5 ANOS</th>\n      <th>CAGR LUCROS 5 ANOS</th>\n      <th>LIQUIDEZ MEDIA DIARIA</th>\n      <th>VPA</th>\n      <th>LPA</th>\n      <th>PEG Ratio</th>\n      <th>VALOR DE MERCADO</th>\n    </tr>\n  </thead>\n  <tbody>\n    <tr>\n      <th>0</th>\n      <td>A</td>\n      <td>119,48</td>\n      <td>0,74</td>\n      <td>25,99</td>\n      <td>6,07</td>\n      <td>3,25</td>\n      <td>54,59</td>\n      <td>24,57</td>\n      <td>19,19</td>\n      <td>17,37</td>\n      <td>...</td>\n      <td>0.54</td>\n      <td>0.46</td>\n      <td>0.65</td>\n      <td>8.90</td>\n      <td>12.89</td>\n      <td>NaN</td>\n      <td>19,73</td>\n      <td>4,61</td>\n      <td>NaN</td>\n      <td>35.113.120.000,00</td>\n    </tr>\n    <tr>\n      <th>1</th>\n      <td>AA</td>\n      <td>28,43</td>\n      <td>1,40</td>\n      <td>-3,46</td>\n      <td>1,05</td>\n      <td>0,36</td>\n      <td>6,30</td>\n      <td>-10,53</td>\n      <td>-13,56</td>\n      <td>-9,42</td>\n      <td>...</td>\n      <td>0.34</td>\n      <td>0.66</td>\n      <td>0.77</td>\n      <td>1.34</td>\n      <td>NaN</td>\n      <td>NaN</td>\n      <td>27,13</td>\n      <td>-8,26</td>\n      <td>NaN</td>\n      <td>5.105.443.056,00</td>\n    </tr>\n    <tr>\n      <th>2</th>\n      <td>AACG</td>\n      <td>1,22</td>\n      <td>NaN</td>\n      <td>-3,72</td>\n      <td>1,68</td>\n      <td>0,54</td>\n      <td>51,68</td>\n      <td>-31,49</td>\n      <td>-32,34</td>\n      <td>NaN</td>\n      <td>...</td>\n      <td>0.32</td>\n      <td>0.68</td>\n      <td>0.44</td>\n      <td>106.31</td>\n      <td>NaN</td>\n      <td>NaN</td>\n      <td>0,72</td>\n      <td>-0,33</td>\n      <td>NaN</td>\n      <td>38.534.798,00</td>\n    </tr>\n    <tr>\n      <th>3</th>\n      <td>AACQ</td>\n      <td>9,99</td>\n      <td>NaN</td>\n      <td>-93,43</td>\n      <td>180,94</td>\n      <td>1,25</td>\n      <td>NaN</td>\n      <td>NaN</td>\n      <td>NaN</td>\n      <td>NaN</td>\n      <td>...</td>\n      <td>0.01</td>\n      <td>0.12</td>\n      <td>0.00</td>\n      <td>NaN</td>\n      <td>NaN</td>\n      <td>NaN</td>\n      <td>0,06</td>\n      <td>-0,11</td>\n      <td>NaN</td>\n      <td>904.719.375,00</td>\n    </tr>\n    <tr>\n      <th>4</th>\n      <td>AACQU</td>\n      <td>11,05</td>\n      <td>NaN</td>\n      <td>-103,35</td>\n      <td>200,14</td>\n      <td>1,38</td>\n      <td>NaN</td>\n      <td>NaN</td>\n      <td>NaN</td>\n      <td>NaN</td>\n      <td>...</td>\n      <td>0.01</td>\n      <td>0.12</td>\n      <td>0.00</td>\n      <td>NaN</td>\n      <td>NaN</td>\n      <td>NaN</td>\n      <td>0,06</td>\n      <td>-0,11</td>\n      <td>NaN</td>\n      <td>904.719.375,00</td>\n    </tr>\n    <tr>\n      <th>...</th>\n      <td>...</td>\n      <td>...</td>\n      <td>...</td>\n      <td>...</td>\n      <td>...</td>\n      <td>...</td>\n      <td>...</td>\n      <td>...</td>\n      <td>...</td>\n      <td>...</td>\n      <td>...</td>\n      <td>...</td>\n      <td>...</td>\n      <td>...</td>\n      <td>...</td>\n      <td>...</td>\n      <td>...</td>\n      <td>...</td>\n      <td>...</td>\n      <td>...</td>\n      <td>...</td>\n    </tr>\n    <tr>\n      <th>6168</th>\n      <td>ZUO</td>\n      <td>8,91</td>\n      <td>NaN</td>\n      <td>-6,38</td>\n      <td>11,94</td>\n      <td>1,84</td>\n      <td>61,98</td>\n      <td>-40,35</td>\n      <td>-47,81</td>\n      <td>-9,88</td>\n      <td>...</td>\n      <td>0.15</td>\n      <td>0.85</td>\n      <td>0.60</td>\n      <td>18.28</td>\n      <td>NaN</td>\n      <td>NaN</td>\n      <td>0,76</td>\n      <td>-1,41</td>\n      <td>NaN</td>\n      <td>1.237.999.510,00</td>\n    </tr>\n    <tr>\n      <th>6169</th>\n      <td>ZVO</td>\n      <td>0,09</td>\n      <td>NaN</td>\n      <td>-0,08</td>\n      <td>0,47</td>\n      <td>0,04</td>\n      <td>35,09</td>\n      <td>-17,75</td>\n      <td>-17,80</td>\n      <td>-0,09</td>\n      <td>...</td>\n      <td>0.08</td>\n      <td>0.92</td>\n      <td>2.69</td>\n      <td>-12.86</td>\n      <td>NaN</td>\n      <td>NaN</td>\n      <td>0,19</td>\n      <td>-1,20</td>\n      <td>NaN</td>\n      <td>3.078.549,00</td>\n    </tr>\n    <tr>\n      <th>6170</th>\n      <td>ZYME</td>\n      <td>7,52</td>\n      <td>NaN</td>\n      <td>3,02</td>\n      <td>1,14</td>\n      <td>0,85</td>\n      <td>100,00</td>\n      <td>40,70</td>\n      <td>37,58</td>\n      <td>2,62</td>\n      <td>...</td>\n      <td>0.75</td>\n      <td>0.25</td>\n      <td>0.75</td>\n      <td>51.45</td>\n      <td>NaN</td>\n      <td>NaN</td>\n      <td>6,62</td>\n      <td>2,50</td>\n      <td>NaN</td>\n      <td>511.413.318,00</td>\n    </tr>\n    <tr>\n      <th>6171</th>\n      <td>ZYNE</td>\n      <td>1,33</td>\n      <td>NaN</td>\n      <td>-1,96</td>\n      <td>1,84</td>\n      <td>1,48</td>\n      <td>NaN</td>\n      <td>NaN</td>\n      <td>NaN</td>\n      <td>-1,97</td>\n      <td>...</td>\n      <td>0.80</td>\n      <td>0.20</td>\n      <td>0.00</td>\n      <td>NaN</td>\n      <td>NaN</td>\n      <td>NaN</td>\n      <td>0,72</td>\n      <td>-0,68</td>\n      <td>NaN</td>\n      <td>71.739.402,00</td>\n    </tr>\n    <tr>\n      <th>6172</th>\n      <td>ZYXI</td>\n      <td>7,62</td>\n      <td>NaN</td>\n      <td>16,02</td>\n      <td>4,44</td>\n      <td>1,81</td>\n      <td>79,53</td>\n      <td>12,60</td>\n      <td>9,72</td>\n      <td>10,65</td>\n      <td>...</td>\n      <td>0.41</td>\n      <td>0.59</td>\n      <td>1.16</td>\n      <td>46.51</td>\n      <td>18.28</td>\n      <td>NaN</td>\n      <td>1,73</td>\n      <td>0,48</td>\n      <td>NaN</td>\n      <td>276.267.095,00</td>\n    </tr>\n  </tbody>\n</table>\n<p>6173 rows × 30 columns</p>\n</div>"
     },
     "execution_count": 5,
     "metadata": {},
     "output_type": "execute_result"
    }
   ]
  },
  {
   "cell_type": "markdown",
   "source": [],
   "metadata": {
    "created_in_deepnote_cell": true,
    "deepnote_cell_type": "markdown"
   }
  }
 ],
 "nbformat": 4,
 "nbformat_minor": 0,
 "metadata": {
  "deepnote": {},
  "orig_nbformat": 2,
  "deepnote_notebook_id": "a348ade93c514fbc821716497741219a",
  "deepnote_persisted_session": {
   "createdAt": "2023-08-25T04:16:33.077Z"
  },
  "deepnote_execution_queue": [],
  "kernelspec": {
   "name": "python3",
   "language": "python",
   "display_name": "Python 3 (ipykernel)"
  }
 }
}
