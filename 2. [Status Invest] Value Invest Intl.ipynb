{
 "cells": [
  {
   "cell_type": "code",
   "metadata": {
    "source_hash": null,
    "output_cleared": false,
    "execution_start": 1693024141354,
    "execution_millis": 9,
    "is_output_hidden": true,
    "deepnote_to_be_reexecuted": false,
    "deepnote_app_is_output_hidden": true,
    "cell_id": "ced38634790543a686a921bcacb24514",
    "deepnote_cell_type": "code",
    "ExecuteTime": {
     "end_time": "2023-09-26T11:47:31.469920Z",
     "start_time": "2023-09-26T11:47:26.898218Z"
    }
   },
   "source": [
    "import pandas as pd\n",
    "import numpy as np\n",
    "import matplotlib.pyplot as plt\n",
    "import time\n",
    "import dash\n",
    "import openpyxl\n",
    "import os\n",
    "from pathlib import Path\n",
    "from selenium import webdriver\n",
    "from selenium.webdriver.chrome.service import Service \n",
    "from webdriver_manager.chrome import ChromeDriverManager\n",
    "from selenium.webdriver.common.by import By\n",
    "from selenium.webdriver.support.ui import WebDriverWait\n",
    "from selenium.webdriver.support import expected_conditions as EC"
   ],
   "block_group": "72c746c0e2e541c292569057f5a03789",
   "execution_count": 1,
   "outputs": []
  },
  {
   "cell_type": "code",
   "execution_count": 2,
   "outputs": [
    {
     "name": "stdout",
     "output_type": "stream",
     "text": [
      "Source path renamed to destination path successfully.\n"
     ]
    }
   ],
   "source": [
    "servico = Service(ChromeDriverManager().install())\n",
    "\n",
    "#Abrindo o navegador\n",
    "navegador = webdriver.Chrome(service=servico)\n",
    "\n",
    "##Iniciando o processo dados\n",
    "navegador.get('https://statusinvest.com.br/acoes/eua/busca-avancada')\n",
    "time.sleep(2)\n",
    "navegador.find_element(By.XPATH, '//*[@id=\"main-2\"]/div[1]/div/div/div/button[2]').click()\n",
    "time.sleep(2)\n",
    "navegador.find_element(By.XPATH, '//*[@id=\"main-2\"]/div[2]/div/div[1]/div[2]/a/span').click()\n",
    "time.sleep(5)\n",
    "\n",
    "#Fecha o navegador\n",
    "navegador.quit()\n",
    "\n",
    "## Renomeia o arquivo e move para pasta desejada\n",
    "source = '/Users/scheiner/Downloads/statusinvest-busca-avancada.csv'\n",
    "dest = '/Users/scheiner/Documents/GitHub/StatusInvest/international.csv'\n",
    "os.rename(source, dest) \n",
    "\n",
    "print(\"Source path renamed to destination path successfully.\")"
   ],
   "metadata": {
    "collapsed": false,
    "ExecuteTime": {
     "end_time": "2023-09-26T11:47:50.630785Z",
     "start_time": "2023-09-26T11:47:31.522804Z"
    }
   }
  },
  {
   "cell_type": "code",
   "execution_count": 3,
   "outputs": [
    {
     "data": {
      "text/plain": "     TICKER   PRECO     VPA     DY    LPA   P/L  P/L_IDEAL  UP/DOWNSIDE  \\\n11      AAP   56.91   45.79   5.71   6.37  8.93   7.188383    -0.195396   \n13     AAWW  102.48  107.04   0.00  12.43  8.25   8.611424     0.044496   \n23      ABG  224.14  149.14   0.00  45.49  4.93   3.278523    -0.334612   \n57      ACI   23.26    3.47  31.51   2.70  8.61   1.285185    -0.850817   \n93      ADM   77.23   46.52   2.27   7.74  9.98   6.010336    -0.397643   \n...     ...     ...     ...    ...    ...   ...        ...          ...   \n6104   YALA    5.11    2.50   0.00   0.53  9.65   4.716981    -0.510763   \n6109   YGMZ    0.45    0.44   0.00   0.08  5.57   5.500000    -0.022222   \n6116    YPF   12.58   25.42   0.00   3.93  3.20   6.468193     1.020668   \n6147    ZIM   10.83   43.66  86.33  51.64  0.21   0.845469     3.031394   \n6171   ZYME    6.35    6.62   0.00   2.50  2.54   2.648000     0.042520   \n\n         ROE  P/VP  EV/EBIT  LIQ.CORR  MARG.LIQ  DIV.LIQ/PL  \n11     13.92  1.24     8.76      1.26      3.37        0.59  \n13     11.61  0.96     8.47      0.96      7.82        0.51  \n23     30.50  1.50     5.59      1.91      6.28        1.04  \n57     77.76  6.70     8.99      0.78      1.86        4.09  \n93     16.63  1.66     7.32      1.63      4.15       -0.04  \n...      ...   ...      ...       ...       ...         ...  \n6104   21.22  2.05     4.84      8.50     28.81       -1.01  \n6109   18.50  1.03     4.89      1.57      6.33        0.56  \n6116   15.46  0.49     7.30      1.15      9.72        0.57  \n6147  118.29  0.25     0.14      1.64     45.16       -0.04  \n6171   37.71  0.96     0.49      4.49     37.58       -0.76  \n\n[411 rows x 14 columns]",
      "text/html": "<div>\n<style scoped>\n    .dataframe tbody tr th:only-of-type {\n        vertical-align: middle;\n    }\n\n    .dataframe tbody tr th {\n        vertical-align: top;\n    }\n\n    .dataframe thead th {\n        text-align: right;\n    }\n</style>\n<table border=\"1\" class=\"dataframe\">\n  <thead>\n    <tr style=\"text-align: right;\">\n      <th></th>\n      <th>TICKER</th>\n      <th>PRECO</th>\n      <th>VPA</th>\n      <th>DY</th>\n      <th>LPA</th>\n      <th>P/L</th>\n      <th>P/L_IDEAL</th>\n      <th>UP/DOWNSIDE</th>\n      <th>ROE</th>\n      <th>P/VP</th>\n      <th>EV/EBIT</th>\n      <th>LIQ.CORR</th>\n      <th>MARG.LIQ</th>\n      <th>DIV.LIQ/PL</th>\n    </tr>\n  </thead>\n  <tbody>\n    <tr>\n      <th>11</th>\n      <td>AAP</td>\n      <td>56.91</td>\n      <td>45.79</td>\n      <td>5.71</td>\n      <td>6.37</td>\n      <td>8.93</td>\n      <td>7.188383</td>\n      <td>-0.195396</td>\n      <td>13.92</td>\n      <td>1.24</td>\n      <td>8.76</td>\n      <td>1.26</td>\n      <td>3.37</td>\n      <td>0.59</td>\n    </tr>\n    <tr>\n      <th>13</th>\n      <td>AAWW</td>\n      <td>102.48</td>\n      <td>107.04</td>\n      <td>0.00</td>\n      <td>12.43</td>\n      <td>8.25</td>\n      <td>8.611424</td>\n      <td>0.044496</td>\n      <td>11.61</td>\n      <td>0.96</td>\n      <td>8.47</td>\n      <td>0.96</td>\n      <td>7.82</td>\n      <td>0.51</td>\n    </tr>\n    <tr>\n      <th>23</th>\n      <td>ABG</td>\n      <td>224.14</td>\n      <td>149.14</td>\n      <td>0.00</td>\n      <td>45.49</td>\n      <td>4.93</td>\n      <td>3.278523</td>\n      <td>-0.334612</td>\n      <td>30.50</td>\n      <td>1.50</td>\n      <td>5.59</td>\n      <td>1.91</td>\n      <td>6.28</td>\n      <td>1.04</td>\n    </tr>\n    <tr>\n      <th>57</th>\n      <td>ACI</td>\n      <td>23.26</td>\n      <td>3.47</td>\n      <td>31.51</td>\n      <td>2.70</td>\n      <td>8.61</td>\n      <td>1.285185</td>\n      <td>-0.850817</td>\n      <td>77.76</td>\n      <td>6.70</td>\n      <td>8.99</td>\n      <td>0.78</td>\n      <td>1.86</td>\n      <td>4.09</td>\n    </tr>\n    <tr>\n      <th>93</th>\n      <td>ADM</td>\n      <td>77.23</td>\n      <td>46.52</td>\n      <td>2.27</td>\n      <td>7.74</td>\n      <td>9.98</td>\n      <td>6.010336</td>\n      <td>-0.397643</td>\n      <td>16.63</td>\n      <td>1.66</td>\n      <td>7.32</td>\n      <td>1.63</td>\n      <td>4.15</td>\n      <td>-0.04</td>\n    </tr>\n    <tr>\n      <th>...</th>\n      <td>...</td>\n      <td>...</td>\n      <td>...</td>\n      <td>...</td>\n      <td>...</td>\n      <td>...</td>\n      <td>...</td>\n      <td>...</td>\n      <td>...</td>\n      <td>...</td>\n      <td>...</td>\n      <td>...</td>\n      <td>...</td>\n      <td>...</td>\n    </tr>\n    <tr>\n      <th>6104</th>\n      <td>YALA</td>\n      <td>5.11</td>\n      <td>2.50</td>\n      <td>0.00</td>\n      <td>0.53</td>\n      <td>9.65</td>\n      <td>4.716981</td>\n      <td>-0.510763</td>\n      <td>21.22</td>\n      <td>2.05</td>\n      <td>4.84</td>\n      <td>8.50</td>\n      <td>28.81</td>\n      <td>-1.01</td>\n    </tr>\n    <tr>\n      <th>6109</th>\n      <td>YGMZ</td>\n      <td>0.45</td>\n      <td>0.44</td>\n      <td>0.00</td>\n      <td>0.08</td>\n      <td>5.57</td>\n      <td>5.500000</td>\n      <td>-0.022222</td>\n      <td>18.50</td>\n      <td>1.03</td>\n      <td>4.89</td>\n      <td>1.57</td>\n      <td>6.33</td>\n      <td>0.56</td>\n    </tr>\n    <tr>\n      <th>6116</th>\n      <td>YPF</td>\n      <td>12.58</td>\n      <td>25.42</td>\n      <td>0.00</td>\n      <td>3.93</td>\n      <td>3.20</td>\n      <td>6.468193</td>\n      <td>1.020668</td>\n      <td>15.46</td>\n      <td>0.49</td>\n      <td>7.30</td>\n      <td>1.15</td>\n      <td>9.72</td>\n      <td>0.57</td>\n    </tr>\n    <tr>\n      <th>6147</th>\n      <td>ZIM</td>\n      <td>10.83</td>\n      <td>43.66</td>\n      <td>86.33</td>\n      <td>51.64</td>\n      <td>0.21</td>\n      <td>0.845469</td>\n      <td>3.031394</td>\n      <td>118.29</td>\n      <td>0.25</td>\n      <td>0.14</td>\n      <td>1.64</td>\n      <td>45.16</td>\n      <td>-0.04</td>\n    </tr>\n    <tr>\n      <th>6171</th>\n      <td>ZYME</td>\n      <td>6.35</td>\n      <td>6.62</td>\n      <td>0.00</td>\n      <td>2.50</td>\n      <td>2.54</td>\n      <td>2.648000</td>\n      <td>0.042520</td>\n      <td>37.71</td>\n      <td>0.96</td>\n      <td>0.49</td>\n      <td>4.49</td>\n      <td>37.58</td>\n      <td>-0.76</td>\n    </tr>\n  </tbody>\n</table>\n<p>411 rows × 14 columns</p>\n</div>"
     },
     "execution_count": 3,
     "metadata": {},
     "output_type": "execute_result"
    }
   ],
   "source": [
    "intl = pd.read_csv('international.csv', sep=';',  decimal=',', thousands='.', encoding=\"utf-8\" )\n",
    "\n",
    "intl['P/L_IDEAL'] = intl[' VPA'] / intl[' LPA']\n",
    "intl['UP/DOWNSIDE'] = (intl[' VPA'] / intl['PRECO'])-1\n",
    "    \n",
    "value_intl = intl.loc[:, ['TICKER', 'PRECO', ' VPA' , 'DY', ' LPA', 'P/L', 'P/L_IDEAL', 'UP/DOWNSIDE', 'ROE', \n",
    "                           'P/VP', 'EV/EBIT' ,'LIQ. CORRENTE', 'MARG. LIQUIDA', 'DIV. LIQ. / PATRI.']]\n",
    "\n",
    "value_intl.fillna(value=0, inplace=True)\n",
    "value_intl.rename(columns={'LIQ. CORRENTE': \"LIQ.CORR\" }, inplace=True)\n",
    "value_intl.rename(columns={'MARG. LIQUIDA': \"MARG.LIQ\" }, inplace=True)\n",
    "value_intl.rename(columns={'DIV. LIQ. / PATRI.': \"DIV.LIQ/PL\" }, inplace=True)\n",
    "    \n",
    "    \n",
    "value_intl = value_intl.loc[value_intl['DY'] >= 0].loc[\n",
    "    value_intl['P/L'] >= 0.01].loc[value_intl['P/L'] < 10].loc[\n",
    "    value_intl['ROE'] >= 6].loc[\n",
    "    value_intl['EV/EBIT'] >= 0.01].loc[value_intl['EV/EBIT'] <= 10].loc[\n",
    "    value_intl['LIQ.CORR'] >= 0.5]\n",
    "\n",
    "value_intl"
   ],
   "metadata": {
    "collapsed": false,
    "ExecuteTime": {
     "end_time": "2023-09-26T11:47:50.856078Z",
     "start_time": "2023-09-26T11:47:50.630171Z"
    }
   }
  },
  {
   "cell_type": "code",
   "execution_count": 4,
   "outputs": [],
   "source": [
    "#Instalando o driver\n",
    "servico = Service(ChromeDriverManager().install())\n",
    "\n",
    "#Abrindo o navegador\n",
    "navegador = webdriver.Chrome(service=servico)\n",
    "\n",
    "ticker = value_intl['TICKER']\n",
    "list_intl = ticker.to_list()\n",
    "\n",
    "indicators_lis_intl = []\n",
    "for intl in list_intl:\n",
    "\n",
    "    #Criando url\n",
    "    url = f\"https://statusinvest.com.br/acoes/eua/{intl}\"\n",
    "\n",
    "    \n",
    "    try:\n",
    "        #Abrindo o navegador\n",
    "        navegador.get(url)\n",
    "\n",
    "        time.sleep(0.25)\n",
    "    \n",
    "        #Coletando infos\n",
    "        NAME = navegador.find_element(By.XPATH, '//*[@id=\"main-header\"]/div[2]/div/div[1]/div[1]/h1/small').text\n",
    "        MIN_MES = navegador.find_element(By.XPATH, '//*[@id=\"main-2\"]/div[2]/div[1]/div[1]/div[2]/div/div[2]/div/span[2]').text\n",
    "        MAX_MES = navegador.find_element(By.XPATH, '//*[@id=\"main-2\"]/div[2]/div[1]/div[1]/div[3]/div/div[2]/div/span[2]').text\n",
    "        MIN_52S = navegador.find_element(By.XPATH, '//*[@id=\"main-2\"]/div[2]/div[1]/div[1]/div[2]/div/div[1]/strong').text\n",
    "        MAX_52S = navegador.find_element(By.XPATH, '//*[@id=\"main-2\"]/div[2]/div[1]/div[1]/div[3]/div/div[1]/strong').text\n",
    "        GAIN_12M = navegador.find_element(By.XPATH, '//*[@id=\"main-2\"]/div[2]/div[1]/div[1]/div[5]/div/div[1]/strong').text\n",
    "        GAIN_MES = navegador.find_element(By.XPATH, '//*[@id=\"main-2\"]/div[2]/div[1]/div[1]/div[5]/div/div[1]/strong').text\n",
    "        ORIGEM = navegador.find_element(By.XPATH, '//*[@id=\"company-section\"]/div[1]/div[3]/div/div[2]/div/div/div/strong/span').text\n",
    "        SEGMENTO = navegador.find_element(By.XPATH, '//*[@id=\"company-section\"]/div[1]/div[4]/div[2]/div[1]/div/div/div/a/strong').text\n",
    "        \n",
    "        \n",
    "\n",
    "        #Criando dict\n",
    "        dicionario = {  \"intl\": intl,\n",
    "                        \"NAME\": NAME,\n",
    "                        \"MIN_MES\": MIN_MES, \n",
    "                        \"MAX_MES\": MAX_MES, \n",
    "                        \"MIN_52S\": MIN_52S, \n",
    "                        \"MAX_52S\": MAX_52S, \n",
    "                        \"VAL_12M\": GAIN_12M,\n",
    "                        \"VAL_MES\": GAIN_MES,\n",
    "                        \"ORIGEM\": ORIGEM,\n",
    "                        \"SEGMENTO\": SEGMENTO\n",
    "                        \n",
    "                        }\n",
    "\n",
    "        #Criando lista de dicts\n",
    "        indicators_lis_intl.append(dicionario)\n",
    "    except Exception as e:\n",
    "        print(e)\n",
    "\n",
    "#Fecha o navegador\n",
    "navegador.quit()"
   ],
   "metadata": {
    "collapsed": false,
    "ExecuteTime": {
     "end_time": "2023-09-26T11:55:41.444130Z",
     "start_time": "2023-09-26T11:47:50.858266Z"
    }
   }
  },
  {
   "cell_type": "code",
   "execution_count": 5,
   "outputs": [
    {
     "data": {
      "text/plain": "    TICKERS                                  NAME   PRECO  MIN_MES  MAX_MES  \\\n15     AMPY                  AMPLIFY ENERGY CORP.    7.14     6.60     7.50   \n40     BEST                             BEST INC.    2.40     2.37     2.90   \n42     BGFV      BIG 5 SPORTING GOODS CORPORATION    6.96     6.86     7.65   \n44       BH                 BIGLARI HOLDINGS INC.  165.11   165.11   186.76   \n48     BRID           BRIDGFORD FOODS CORPORATION   10.91    10.61    11.67   \n..      ...                                   ...     ...      ...      ...   \n402       X       UNITED STATES STEEL CORPORATION   32.02    30.22    32.02   \n403    XCUR                          EXICURE INC.    0.74     0.74     0.96   \n405     XYF                           X FINANCIAL    4.18     4.06     4.52   \n408     YPF                  YPF SOCIEDAD ANONIMA   12.58    11.99    14.20   \n409     ZIM  ZIM INTEGRATED SHIPPING SERVICES LTD   10.83    10.83    12.24   \n\n     VAL_MES  MIN_52S  MAX_52S  VAL_12M     VPA  ...  P/L_IDEAL  UP/DOWNSIDE  \\\n15     25.93     5.67    10.21    25.93    9.17  ...   0.814387     0.284314   \n40    245.27     0.50     3.01   245.27   10.16  ...   1.946360     3.233333   \n42    -36.32     6.86    13.56   -36.32   12.11  ...   6.147208     0.739943   \n44     38.57   115.60   212.62    38.57  198.63  ...   5.660587     0.203016   \n48    -23.71    10.61    14.92   -23.71   14.04  ...   2.830645     0.286893   \n..       ...      ...      ...      ...     ...  ...        ...          ...   \n402    71.78    18.12    32.15    71.78   48.10  ...   8.003328     0.502186   \n403   -47.52     0.71     1.86   -47.52    1.12  ...   3.200000     0.513514   \n405    79.78     1.62     5.00    79.78   13.52  ...   5.656904     2.234450   \n408   102.58     6.21    15.67   102.58   25.42  ...   6.468193     1.020668   \n409   -56.63    10.83    27.08   -56.63   43.66  ...   0.845469     3.031394   \n\n        ROE  P/VP  EV/EBIT  LIQ.CORR  MARG.LIQ  DIV.LIQ/PL  ORIGEM  \\\n15   122.81  0.78     1.95      0.87    116.64        0.33    NYSE   \n40    51.40  0.24     2.06      0.90     44.90       -1.61    NYSE   \n42    16.29  0.57     2.19      1.61      4.30       -0.11  NASDAQ   \n44    17.67  0.83     3.39      1.26     29.10       -0.02    NYSE   \n48    35.35  0.78     1.39      4.18     17.39       -0.09  NASDAQ   \n..      ...   ...      ...       ...       ...         ...     ...   \n402   12.49  0.67     5.39      1.92      7.05        0.11    NYSE   \n403   31.58  0.66     1.24      2.56     12.88       -0.24  NASDAQ   \n405   17.71  0.31     0.21      1.89     20.98       -0.25    NYSE   \n408   15.46  0.49     7.30      1.15      9.72        0.57    NYSE   \n409  118.29  0.25     0.14      1.64     45.16       -0.04    NYSE   \n\n                  SEGMENTO  \n15                  Energy  \n40          Transportation  \n42       Consumer Services  \n44       Consumer Services  \n48   Consumer Non-Durables  \n..                     ...  \n402       Basic Industries  \n403            Health Care  \n405                      0  \n408                 Energy  \n409         Transportation  \n\n[106 rows x 23 columns]",
      "text/html": "<div>\n<style scoped>\n    .dataframe tbody tr th:only-of-type {\n        vertical-align: middle;\n    }\n\n    .dataframe tbody tr th {\n        vertical-align: top;\n    }\n\n    .dataframe thead th {\n        text-align: right;\n    }\n</style>\n<table border=\"1\" class=\"dataframe\">\n  <thead>\n    <tr style=\"text-align: right;\">\n      <th></th>\n      <th>TICKERS</th>\n      <th>NAME</th>\n      <th>PRECO</th>\n      <th>MIN_MES</th>\n      <th>MAX_MES</th>\n      <th>VAL_MES</th>\n      <th>MIN_52S</th>\n      <th>MAX_52S</th>\n      <th>VAL_12M</th>\n      <th>VPA</th>\n      <th>...</th>\n      <th>P/L_IDEAL</th>\n      <th>UP/DOWNSIDE</th>\n      <th>ROE</th>\n      <th>P/VP</th>\n      <th>EV/EBIT</th>\n      <th>LIQ.CORR</th>\n      <th>MARG.LIQ</th>\n      <th>DIV.LIQ/PL</th>\n      <th>ORIGEM</th>\n      <th>SEGMENTO</th>\n    </tr>\n  </thead>\n  <tbody>\n    <tr>\n      <th>15</th>\n      <td>AMPY</td>\n      <td>AMPLIFY ENERGY CORP.</td>\n      <td>7.14</td>\n      <td>6.60</td>\n      <td>7.50</td>\n      <td>25.93</td>\n      <td>5.67</td>\n      <td>10.21</td>\n      <td>25.93</td>\n      <td>9.17</td>\n      <td>...</td>\n      <td>0.814387</td>\n      <td>0.284314</td>\n      <td>122.81</td>\n      <td>0.78</td>\n      <td>1.95</td>\n      <td>0.87</td>\n      <td>116.64</td>\n      <td>0.33</td>\n      <td>NYSE</td>\n      <td>Energy</td>\n    </tr>\n    <tr>\n      <th>40</th>\n      <td>BEST</td>\n      <td>BEST INC.</td>\n      <td>2.40</td>\n      <td>2.37</td>\n      <td>2.90</td>\n      <td>245.27</td>\n      <td>0.50</td>\n      <td>3.01</td>\n      <td>245.27</td>\n      <td>10.16</td>\n      <td>...</td>\n      <td>1.946360</td>\n      <td>3.233333</td>\n      <td>51.40</td>\n      <td>0.24</td>\n      <td>2.06</td>\n      <td>0.90</td>\n      <td>44.90</td>\n      <td>-1.61</td>\n      <td>NYSE</td>\n      <td>Transportation</td>\n    </tr>\n    <tr>\n      <th>42</th>\n      <td>BGFV</td>\n      <td>BIG 5 SPORTING GOODS CORPORATION</td>\n      <td>6.96</td>\n      <td>6.86</td>\n      <td>7.65</td>\n      <td>-36.32</td>\n      <td>6.86</td>\n      <td>13.56</td>\n      <td>-36.32</td>\n      <td>12.11</td>\n      <td>...</td>\n      <td>6.147208</td>\n      <td>0.739943</td>\n      <td>16.29</td>\n      <td>0.57</td>\n      <td>2.19</td>\n      <td>1.61</td>\n      <td>4.30</td>\n      <td>-0.11</td>\n      <td>NASDAQ</td>\n      <td>Consumer Services</td>\n    </tr>\n    <tr>\n      <th>44</th>\n      <td>BH</td>\n      <td>BIGLARI HOLDINGS INC.</td>\n      <td>165.11</td>\n      <td>165.11</td>\n      <td>186.76</td>\n      <td>38.57</td>\n      <td>115.60</td>\n      <td>212.62</td>\n      <td>38.57</td>\n      <td>198.63</td>\n      <td>...</td>\n      <td>5.660587</td>\n      <td>0.203016</td>\n      <td>17.67</td>\n      <td>0.83</td>\n      <td>3.39</td>\n      <td>1.26</td>\n      <td>29.10</td>\n      <td>-0.02</td>\n      <td>NYSE</td>\n      <td>Consumer Services</td>\n    </tr>\n    <tr>\n      <th>48</th>\n      <td>BRID</td>\n      <td>BRIDGFORD FOODS CORPORATION</td>\n      <td>10.91</td>\n      <td>10.61</td>\n      <td>11.67</td>\n      <td>-23.71</td>\n      <td>10.61</td>\n      <td>14.92</td>\n      <td>-23.71</td>\n      <td>14.04</td>\n      <td>...</td>\n      <td>2.830645</td>\n      <td>0.286893</td>\n      <td>35.35</td>\n      <td>0.78</td>\n      <td>1.39</td>\n      <td>4.18</td>\n      <td>17.39</td>\n      <td>-0.09</td>\n      <td>NASDAQ</td>\n      <td>Consumer Non-Durables</td>\n    </tr>\n    <tr>\n      <th>...</th>\n      <td>...</td>\n      <td>...</td>\n      <td>...</td>\n      <td>...</td>\n      <td>...</td>\n      <td>...</td>\n      <td>...</td>\n      <td>...</td>\n      <td>...</td>\n      <td>...</td>\n      <td>...</td>\n      <td>...</td>\n      <td>...</td>\n      <td>...</td>\n      <td>...</td>\n      <td>...</td>\n      <td>...</td>\n      <td>...</td>\n      <td>...</td>\n      <td>...</td>\n      <td>...</td>\n    </tr>\n    <tr>\n      <th>402</th>\n      <td>X</td>\n      <td>UNITED STATES STEEL CORPORATION</td>\n      <td>32.02</td>\n      <td>30.22</td>\n      <td>32.02</td>\n      <td>71.78</td>\n      <td>18.12</td>\n      <td>32.15</td>\n      <td>71.78</td>\n      <td>48.10</td>\n      <td>...</td>\n      <td>8.003328</td>\n      <td>0.502186</td>\n      <td>12.49</td>\n      <td>0.67</td>\n      <td>5.39</td>\n      <td>1.92</td>\n      <td>7.05</td>\n      <td>0.11</td>\n      <td>NYSE</td>\n      <td>Basic Industries</td>\n    </tr>\n    <tr>\n      <th>403</th>\n      <td>XCUR</td>\n      <td>EXICURE INC.</td>\n      <td>0.74</td>\n      <td>0.74</td>\n      <td>0.96</td>\n      <td>-47.52</td>\n      <td>0.71</td>\n      <td>1.86</td>\n      <td>-47.52</td>\n      <td>1.12</td>\n      <td>...</td>\n      <td>3.200000</td>\n      <td>0.513514</td>\n      <td>31.58</td>\n      <td>0.66</td>\n      <td>1.24</td>\n      <td>2.56</td>\n      <td>12.88</td>\n      <td>-0.24</td>\n      <td>NASDAQ</td>\n      <td>Health Care</td>\n    </tr>\n    <tr>\n      <th>405</th>\n      <td>XYF</td>\n      <td>X FINANCIAL</td>\n      <td>4.18</td>\n      <td>4.06</td>\n      <td>4.52</td>\n      <td>79.78</td>\n      <td>1.62</td>\n      <td>5.00</td>\n      <td>79.78</td>\n      <td>13.52</td>\n      <td>...</td>\n      <td>5.656904</td>\n      <td>2.234450</td>\n      <td>17.71</td>\n      <td>0.31</td>\n      <td>0.21</td>\n      <td>1.89</td>\n      <td>20.98</td>\n      <td>-0.25</td>\n      <td>NYSE</td>\n      <td>0</td>\n    </tr>\n    <tr>\n      <th>408</th>\n      <td>YPF</td>\n      <td>YPF SOCIEDAD ANONIMA</td>\n      <td>12.58</td>\n      <td>11.99</td>\n      <td>14.20</td>\n      <td>102.58</td>\n      <td>6.21</td>\n      <td>15.67</td>\n      <td>102.58</td>\n      <td>25.42</td>\n      <td>...</td>\n      <td>6.468193</td>\n      <td>1.020668</td>\n      <td>15.46</td>\n      <td>0.49</td>\n      <td>7.30</td>\n      <td>1.15</td>\n      <td>9.72</td>\n      <td>0.57</td>\n      <td>NYSE</td>\n      <td>Energy</td>\n    </tr>\n    <tr>\n      <th>409</th>\n      <td>ZIM</td>\n      <td>ZIM INTEGRATED SHIPPING SERVICES LTD</td>\n      <td>10.83</td>\n      <td>10.83</td>\n      <td>12.24</td>\n      <td>-56.63</td>\n      <td>10.83</td>\n      <td>27.08</td>\n      <td>-56.63</td>\n      <td>43.66</td>\n      <td>...</td>\n      <td>0.845469</td>\n      <td>3.031394</td>\n      <td>118.29</td>\n      <td>0.25</td>\n      <td>0.14</td>\n      <td>1.64</td>\n      <td>45.16</td>\n      <td>-0.04</td>\n      <td>NYSE</td>\n      <td>Transportation</td>\n    </tr>\n  </tbody>\n</table>\n<p>106 rows × 23 columns</p>\n</div>"
     },
     "execution_count": 5,
     "metadata": {},
     "output_type": "execute_result"
    }
   ],
   "source": [
    "list_intl = pd.DataFrame.from_dict(indicators_lis_intl)\n",
    "\n",
    "list_intl = list_intl.replace('-', '')\n",
    "list_intl = list_intl.replace('-%', '')\n",
    "list_intl['MIN_MES'] = (list_intl['MIN_MES']).str.lstrip('$')\n",
    "list_intl['MAX_MES'] = (list_intl['MAX_MES']).str.lstrip('$')\n",
    "list_intl['MIN_MES'] = (list_intl['MIN_MES']).str.strip('- ')\n",
    "list_intl['MAX_MES'] = (list_intl['MAX_MES']).str.strip('- ')\n",
    "list_intl['VAL_12M'] = (list_intl['VAL_12M']).str.rstrip('%')\n",
    "list_intl['VAL_MES'] = (list_intl['VAL_MES']).str.rstrip('%')\n",
    "\n",
    "list_intl.to_csv('list_intl.csv')\n",
    "\n",
    "list_intl = pd.read_csv(\"list_intl.csv\", sep=',', decimal=',', thousands='.', encoding=\"utf-8\" )\n",
    "\n",
    "list_intl.fillna(value=0, inplace=True)\n",
    "list_intl = list_intl.drop(['Unnamed: 0'],axis=1)\n",
    "\n",
    "value_intl.rename(columns={'TICKER': \"TICKERS\" }, inplace=True)\n",
    "\n",
    "list_intl.rename(columns={'intl': \"TICKERS\" }, inplace=True)\n",
    "\n",
    "invest_intl = pd.merge(value_intl, list_intl, on='TICKERS')\n",
    "\n",
    "invest_intl = invest_intl[['TICKERS', 'NAME', 'PRECO', 'MIN_MES', 'MAX_MES', 'VAL_MES', 'MIN_52S', 'MAX_52S',  'VAL_12M', \n",
    "                       ' VPA', 'DY', ' LPA', 'P/L' ,'P/L_IDEAL', 'UP/DOWNSIDE', 'ROE', 'P/VP', 'EV/EBIT', \n",
    "                       'LIQ.CORR', 'MARG.LIQ', 'DIV.LIQ/PL', 'ORIGEM', 'SEGMENTO']]\n",
    "\n",
    "invest_intl = invest_intl.loc[invest_intl['DY'] >= 0].loc[\n",
    "    invest_intl['P/L'] >= 0.01].loc[invest_intl['P/L'] < 10].loc[\n",
    "    invest_intl['ROE'] >= 6].loc[\n",
    "    invest_intl['EV/EBIT'] >= 0.01].loc[invest_intl['EV/EBIT'] <= 10].loc[\n",
    "    invest_intl['LIQ.CORR'] >= 0.5].loc[\n",
    "    invest_intl['UP/DOWNSIDE'] >= 0.1]\n",
    "\n",
    "#invest_intl[(invest_intl['TICKERS'] == 'MSFT')]\n",
    "#invest_intl.loc[invest_intl['SEGMENTO'] == 'Technology'].loc[invest_intl['ORIGEM'] == 'NASDAQ']\n",
    "# \n",
    "invest_intl\n"
   ],
   "metadata": {
    "collapsed": false,
    "ExecuteTime": {
     "end_time": "2023-09-26T11:55:41.620187Z",
     "start_time": "2023-09-26T11:55:41.471065Z"
    }
   }
  },
  {
   "cell_type": "code",
   "execution_count": 5,
   "outputs": [],
   "source": [],
   "metadata": {
    "collapsed": false,
    "ExecuteTime": {
     "end_time": "2023-09-26T11:55:41.626056Z",
     "start_time": "2023-09-26T11:55:41.610158Z"
    }
   }
  }
 ],
 "nbformat": 4,
 "nbformat_minor": 0,
 "metadata": {
  "deepnote": {},
  "orig_nbformat": 2,
  "deepnote_notebook_id": "a348ade93c514fbc821716497741219a",
  "deepnote_persisted_session": {
   "createdAt": "2023-08-25T04:16:33.077Z"
  },
  "deepnote_execution_queue": [],
  "kernelspec": {
   "name": "python3",
   "language": "python",
   "display_name": "Python 3 (ipykernel)"
  }
 }
}
