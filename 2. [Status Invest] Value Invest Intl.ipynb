{
 "cells": [
  {
   "cell_type": "code",
   "metadata": {
    "source_hash": null,
    "output_cleared": false,
    "execution_start": 1693024141354,
    "execution_millis": 9,
    "is_output_hidden": true,
    "deepnote_to_be_reexecuted": false,
    "deepnote_app_is_output_hidden": true,
    "cell_id": "ced38634790543a686a921bcacb24514",
    "deepnote_cell_type": "code",
    "ExecuteTime": {
     "end_time": "2023-09-14T15:54:03.237797Z",
     "start_time": "2023-09-14T15:53:58.709563Z"
    }
   },
   "source": [
    "import pandas as pd\n",
    "import numpy as np\n",
    "import matplotlib.pyplot as plt\n",
    "import time\n",
    "import dash\n",
    "import openpyxl\n",
    "import os\n",
    "from pathlib import Path\n",
    "from selenium import webdriver\n",
    "from selenium.webdriver.chrome.service import Service \n",
    "from webdriver_manager.chrome import ChromeDriverManager\n",
    "from selenium.webdriver.common.by import By\n",
    "from selenium.webdriver.support.ui import WebDriverWait\n",
    "from selenium.webdriver.support import expected_conditions as EC"
   ],
   "block_group": "72c746c0e2e541c292569057f5a03789",
   "execution_count": 1,
   "outputs": []
  },
  {
   "cell_type": "code",
   "execution_count": 2,
   "outputs": [
    {
     "name": "stdout",
     "output_type": "stream",
     "text": [
      "Source path renamed to destination path successfully.\n"
     ]
    }
   ],
   "source": [
    "servico = Service(ChromeDriverManager().install())\n",
    "\n",
    "#Abrindo o navegador\n",
    "navegador = webdriver.Chrome(service=servico)\n",
    "\n",
    "##Iniciando o processo dados\n",
    "navegador.get('https://statusinvest.com.br/acoes/eua/busca-avancada')\n",
    "time.sleep(2)\n",
    "navegador.find_element(By.XPATH, '//*[@id=\"main-2\"]/div[1]/div/div/div/button[2]').click()\n",
    "time.sleep(2)\n",
    "navegador.find_element(By.XPATH, '//*[@id=\"main-2\"]/div[2]/div/div[1]/div[2]/a/span').click()\n",
    "time.sleep(5)\n",
    "\n",
    "#Fecha o navegador\n",
    "navegador.quit()\n",
    "\n",
    "## Renomeia o arquivo e move para pasta desejada\n",
    "source = '/Users/scheiner/Downloads/statusinvest-busca-avancada.csv'\n",
    "dest = '/Users/scheiner/Documents/GitHub/StatusInvest/international.csv'\n",
    "os.rename(source, dest) \n",
    "\n",
    "print(\"Source path renamed to destination path successfully.\")"
   ],
   "metadata": {
    "collapsed": false,
    "ExecuteTime": {
     "end_time": "2023-09-14T15:54:22.849408Z",
     "start_time": "2023-09-14T15:54:03.254661Z"
    }
   }
  },
  {
   "cell_type": "code",
   "execution_count": 3,
   "outputs": [
    {
     "data": {
      "text/plain": "     TICKER   PRECO    VPA    DY   LPA     P/L  P/L_IDEAL  UP/DOWNSIDE  \\\n0         A  113.93  19.76  0.78  4.62   24.54   4.277056    -0.826560   \n1        AA   29.61  27.13  1.35 -8.26   -3.59  -3.284504    -0.083755   \n2      AACG    1.18   0.72  0.00 -0.33   -3.60  -2.181818    -0.389831   \n3      AACQ    9.99   0.06  0.00 -0.11  -93.43  -0.545455    -0.993994   \n4     AACQU   11.05   0.06  0.00 -0.11 -103.35  -0.545455    -0.994570   \n...     ...     ...    ...   ...   ...     ...        ...          ...   \n6169    ZUO    8.81   0.76  0.00 -1.41   -6.24  -0.539007    -0.913734   \n6170    ZVO    0.09   0.19  0.00 -1.20   -0.08  -0.158333     1.111111   \n6171   ZYME    6.86   6.62  0.00  2.50    2.74   2.648000    -0.034985   \n6172   ZYNE    1.33   0.54  0.00 -0.70   -1.91  -0.771429    -0.593985   \n6173   ZYXI    8.38   1.73  0.00  0.48   17.10   3.604167    -0.793556   \n\n         ROE    P/VP  EV/EBIT  LIQ.CORR  MARG.LIQ  DIV.LIQ/PL  \n0      23.37    5.73    20.10      2.37     19.19        0.27  \n1     -30.44    1.09    -6.11      1.80    -13.56        0.35  \n2     -45.26    1.63    -3.09      0.23    -32.34       -0.27  \n3    -193.66  180.94   -27.74      3.56      0.00       -0.07  \n4    -193.66  200.14   -27.74      3.56      0.00       -0.07  \n...      ...     ...      ...       ...       ...         ...  \n6169 -187.20   11.69    -6.25      1.69    -47.81       -1.78  \n6170 -619.73    0.47     0.59      0.95    -17.80       -4.11  \n6171   37.71    1.03     0.66      4.49     37.58       -0.76  \n6172 -129.50    2.47    -0.95      3.43      0.00       -1.24  \n6173   27.70    4.74    13.08      7.63      9.72       -0.02  \n\n[6174 rows x 14 columns]",
      "text/html": "<div>\n<style scoped>\n    .dataframe tbody tr th:only-of-type {\n        vertical-align: middle;\n    }\n\n    .dataframe tbody tr th {\n        vertical-align: top;\n    }\n\n    .dataframe thead th {\n        text-align: right;\n    }\n</style>\n<table border=\"1\" class=\"dataframe\">\n  <thead>\n    <tr style=\"text-align: right;\">\n      <th></th>\n      <th>TICKER</th>\n      <th>PRECO</th>\n      <th>VPA</th>\n      <th>DY</th>\n      <th>LPA</th>\n      <th>P/L</th>\n      <th>P/L_IDEAL</th>\n      <th>UP/DOWNSIDE</th>\n      <th>ROE</th>\n      <th>P/VP</th>\n      <th>EV/EBIT</th>\n      <th>LIQ.CORR</th>\n      <th>MARG.LIQ</th>\n      <th>DIV.LIQ/PL</th>\n    </tr>\n  </thead>\n  <tbody>\n    <tr>\n      <th>0</th>\n      <td>A</td>\n      <td>113.93</td>\n      <td>19.76</td>\n      <td>0.78</td>\n      <td>4.62</td>\n      <td>24.54</td>\n      <td>4.277056</td>\n      <td>-0.826560</td>\n      <td>23.37</td>\n      <td>5.73</td>\n      <td>20.10</td>\n      <td>2.37</td>\n      <td>19.19</td>\n      <td>0.27</td>\n    </tr>\n    <tr>\n      <th>1</th>\n      <td>AA</td>\n      <td>29.61</td>\n      <td>27.13</td>\n      <td>1.35</td>\n      <td>-8.26</td>\n      <td>-3.59</td>\n      <td>-3.284504</td>\n      <td>-0.083755</td>\n      <td>-30.44</td>\n      <td>1.09</td>\n      <td>-6.11</td>\n      <td>1.80</td>\n      <td>-13.56</td>\n      <td>0.35</td>\n    </tr>\n    <tr>\n      <th>2</th>\n      <td>AACG</td>\n      <td>1.18</td>\n      <td>0.72</td>\n      <td>0.00</td>\n      <td>-0.33</td>\n      <td>-3.60</td>\n      <td>-2.181818</td>\n      <td>-0.389831</td>\n      <td>-45.26</td>\n      <td>1.63</td>\n      <td>-3.09</td>\n      <td>0.23</td>\n      <td>-32.34</td>\n      <td>-0.27</td>\n    </tr>\n    <tr>\n      <th>3</th>\n      <td>AACQ</td>\n      <td>9.99</td>\n      <td>0.06</td>\n      <td>0.00</td>\n      <td>-0.11</td>\n      <td>-93.43</td>\n      <td>-0.545455</td>\n      <td>-0.993994</td>\n      <td>-193.66</td>\n      <td>180.94</td>\n      <td>-27.74</td>\n      <td>3.56</td>\n      <td>0.00</td>\n      <td>-0.07</td>\n    </tr>\n    <tr>\n      <th>4</th>\n      <td>AACQU</td>\n      <td>11.05</td>\n      <td>0.06</td>\n      <td>0.00</td>\n      <td>-0.11</td>\n      <td>-103.35</td>\n      <td>-0.545455</td>\n      <td>-0.994570</td>\n      <td>-193.66</td>\n      <td>200.14</td>\n      <td>-27.74</td>\n      <td>3.56</td>\n      <td>0.00</td>\n      <td>-0.07</td>\n    </tr>\n    <tr>\n      <th>...</th>\n      <td>...</td>\n      <td>...</td>\n      <td>...</td>\n      <td>...</td>\n      <td>...</td>\n      <td>...</td>\n      <td>...</td>\n      <td>...</td>\n      <td>...</td>\n      <td>...</td>\n      <td>...</td>\n      <td>...</td>\n      <td>...</td>\n      <td>...</td>\n    </tr>\n    <tr>\n      <th>6169</th>\n      <td>ZUO</td>\n      <td>8.81</td>\n      <td>0.76</td>\n      <td>0.00</td>\n      <td>-1.41</td>\n      <td>-6.24</td>\n      <td>-0.539007</td>\n      <td>-0.913734</td>\n      <td>-187.20</td>\n      <td>11.69</td>\n      <td>-6.25</td>\n      <td>1.69</td>\n      <td>-47.81</td>\n      <td>-1.78</td>\n    </tr>\n    <tr>\n      <th>6170</th>\n      <td>ZVO</td>\n      <td>0.09</td>\n      <td>0.19</td>\n      <td>0.00</td>\n      <td>-1.20</td>\n      <td>-0.08</td>\n      <td>-0.158333</td>\n      <td>1.111111</td>\n      <td>-619.73</td>\n      <td>0.47</td>\n      <td>0.59</td>\n      <td>0.95</td>\n      <td>-17.80</td>\n      <td>-4.11</td>\n    </tr>\n    <tr>\n      <th>6171</th>\n      <td>ZYME</td>\n      <td>6.86</td>\n      <td>6.62</td>\n      <td>0.00</td>\n      <td>2.50</td>\n      <td>2.74</td>\n      <td>2.648000</td>\n      <td>-0.034985</td>\n      <td>37.71</td>\n      <td>1.03</td>\n      <td>0.66</td>\n      <td>4.49</td>\n      <td>37.58</td>\n      <td>-0.76</td>\n    </tr>\n    <tr>\n      <th>6172</th>\n      <td>ZYNE</td>\n      <td>1.33</td>\n      <td>0.54</td>\n      <td>0.00</td>\n      <td>-0.70</td>\n      <td>-1.91</td>\n      <td>-0.771429</td>\n      <td>-0.593985</td>\n      <td>-129.50</td>\n      <td>2.47</td>\n      <td>-0.95</td>\n      <td>3.43</td>\n      <td>0.00</td>\n      <td>-1.24</td>\n    </tr>\n    <tr>\n      <th>6173</th>\n      <td>ZYXI</td>\n      <td>8.38</td>\n      <td>1.73</td>\n      <td>0.00</td>\n      <td>0.48</td>\n      <td>17.10</td>\n      <td>3.604167</td>\n      <td>-0.793556</td>\n      <td>27.70</td>\n      <td>4.74</td>\n      <td>13.08</td>\n      <td>7.63</td>\n      <td>9.72</td>\n      <td>-0.02</td>\n    </tr>\n  </tbody>\n</table>\n<p>6174 rows × 14 columns</p>\n</div>"
     },
     "execution_count": 3,
     "metadata": {},
     "output_type": "execute_result"
    }
   ],
   "source": [
    "intl = pd.read_csv('international.csv', sep=';',  decimal=',', thousands='.', encoding='ISO-8859-1' )\n",
    "\n",
    "intl['P/L_IDEAL'] = intl[' VPA'] / intl[' LPA']\n",
    "intl['UP/DOWNSIDE'] = (intl[' VPA'] / intl['PRECO'])-1\n",
    "    \n",
    "value_intl = intl.loc[:, ['TICKER', 'PRECO', ' VPA' , 'DY', ' LPA', 'P/L', 'P/L_IDEAL', 'UP/DOWNSIDE', 'ROE', \n",
    "                           'P/VP', 'EV/EBIT' ,'LIQ. CORRENTE', 'MARG. LIQUIDA', 'DIV. LIQ. / PATRI.']]\n",
    "\n",
    "value_intl.fillna(value=0, inplace=True)\n",
    "value_intl.rename(columns={'LIQ. CORRENTE': \"LIQ.CORR\" }, inplace=True)\n",
    "value_intl.rename(columns={'MARG. LIQUIDA': \"MARG.LIQ\" }, inplace=True)\n",
    "value_intl.rename(columns={'DIV. LIQ. / PATRI.': \"DIV.LIQ/PL\" }, inplace=True)\n",
    "    \n",
    "    \n",
    "# value_intl = value_intl.loc[value_intl['DY'] >= 9].loc[\n",
    "#     value_intl['P/L'] >= 0.01].loc[value_intl['P/L'] < 10].loc[\n",
    "#     value_intl['ROE'] >= 6].loc[\n",
    "#     value_intl['EV/EBIT'] >= 0.01].loc[value_intl['EV/EBIT'] <= 10].loc[\n",
    "#     value_intl['LIQ.CORR'] >= 0.5]\n",
    "\n",
    "value_intl"
   ],
   "metadata": {
    "collapsed": false,
    "ExecuteTime": {
     "end_time": "2023-09-14T15:54:23.075504Z",
     "start_time": "2023-09-14T15:54:22.862887Z"
    }
   }
  },
  {
   "cell_type": "code",
   "execution_count": 4,
   "outputs": [],
   "source": [
    "#Instalando o driver\n",
    "servico = Service(ChromeDriverManager().install())\n",
    "\n",
    "#Abrindo o navegador\n",
    "navegador = webdriver.Chrome(service=servico)\n",
    "\n",
    "ticker = value_intl['TICKER']\n",
    "list_intl = ticker.to_list()\n",
    "\n",
    "indicators_lis_intl = []\n",
    "for intl in list_intl:\n",
    "\n",
    "    #Criando url\n",
    "    url = f\"https://statusinvest.com.br/acoes/eua/{intl}\"\n",
    "\n",
    "    \n",
    "    try:\n",
    "        #Abrindo o navegador\n",
    "        navegador.get(url)\n",
    "\n",
    "        time.sleep(0.25)\n",
    "    \n",
    "        #Coletando infos\n",
    "        NAME = navegador.find_element(By.XPATH, '//*[@id=\"main-header\"]/div[2]/div/div[1]/div[1]/h1/small').text\n",
    "        MIN_MES = navegador.find_element(By.XPATH, '//*[@id=\"main-2\"]/div[2]/div[1]/div[1]/div[2]/div/div[2]/div/span[2]').text\n",
    "        MAX_MES = navegador.find_element(By.XPATH, '//*[@id=\"main-2\"]/div[2]/div[1]/div[1]/div[3]/div/div[2]/div/span[2]').text\n",
    "        MIN_52S = navegador.find_element(By.XPATH, '//*[@id=\"main-2\"]/div[2]/div[1]/div[1]/div[2]/div/div[1]/strong').text\n",
    "        MAX_52S = navegador.find_element(By.XPATH, '//*[@id=\"main-2\"]/div[2]/div[1]/div[1]/div[3]/div/div[1]/strong').text\n",
    "        GAIN_12M = navegador.find_element(By.XPATH, '//*[@id=\"main-2\"]/div[2]/div[1]/div[1]/div[5]/div/div[1]/strong').text\n",
    "        GAIN_MES = navegador.find_element(By.XPATH, '//*[@id=\"main-2\"]/div[2]/div[1]/div[1]/div[5]/div/div[1]/strong').text\n",
    "        ORIGEM = navegador.find_element(By.XPATH, '//*[@id=\"company-section\"]/div[1]/div[3]/div/div[2]/div/div/div/strong/span').text\n",
    "        SEGMENTO = navegador.find_element(By.XPATH, '//*[@id=\"company-section\"]/div[1]/div[4]/div[2]/div[1]/div/div/div/a/strong').text\n",
    "        \n",
    "        \n",
    "\n",
    "        #Criando dict\n",
    "        dicionario = {  \"intl\": intl,\n",
    "                        \"NAME\": NAME,\n",
    "                        \"MIN_MES\": MIN_MES, \n",
    "                        \"MAX_MES\": MAX_MES, \n",
    "                        \"MIN_52S\": MIN_52S, \n",
    "                        \"MAX_52S\": MAX_52S, \n",
    "                        \"VAL_12M\": GAIN_12M,\n",
    "                        \"VAL_MES\": GAIN_MES,\n",
    "                        \"ORIGEM\": ORIGEM,\n",
    "                        \"SEGMENTO\": SEGMENTO\n",
    "                        \n",
    "                        }\n",
    "\n",
    "        #Criando lista de dicts\n",
    "        indicators_lis_intl.append(dicionario)\n",
    "    except Exception as e:\n",
    "        print(e)\n",
    "\n",
    "#Fecha o navegador\n",
    "navegador.quit()"
   ],
   "metadata": {
    "collapsed": false,
    "ExecuteTime": {
     "end_time": "2023-09-14T17:51:31.189428Z",
     "start_time": "2023-09-14T15:54:23.072395Z"
    }
   }
  },
  {
   "cell_type": "code",
   "execution_count": 84,
   "outputs": [
    {
     "data": {
      "text/plain": "     TICKERS                                  NAME   PRECO  MIN_MES  MAX_MES  \\\n295     AMPY                  AMPLIFY ENERGY CORP.    7.45     6.60     7.50   \n683     BEST                             BEST INC.    2.51     2.37     2.90   \n703     BGFV      BIG 5 SPORTING GOODS CORPORATION    7.14     6.86     7.65   \n713       BH                 BIGLARI HOLDINGS INC.  178.47   178.43   186.76   \n855     BRID           BRIDGFORD FOODS CORPORATION   11.01    10.61    11.67   \n...      ...                                   ...     ...      ...      ...   \n6059       X       UNITED STATES STEEL CORPORATION   30.48    30.22    31.14   \n6064    XCUR                          EXICURE INC.    0.83     0.81     0.96   \n6098     XYF                           X FINANCIAL    4.45     4.15     4.49   \n6116     YPF                  YPF SOCIEDAD ANONIMA   12.83    11.99    14.20   \n6147     ZIM  ZIM INTEGRATED SHIPPING SERVICES LTD   11.34    11.29    12.24   \n\n      VAL_MES  MIN_52S  MAX_52S  VAL_12M     VPA  ...  P/L_IDEAL  UP/DOWNSIDE  \\\n295     -2.61     5.66    10.21    -2.61    9.17  ...   0.814387     0.230872   \n683    136.79     0.50     3.01   136.79   10.16  ...   1.946360     3.047809   \n703    -40.65     6.86    13.56   -40.65   12.11  ...   6.147208     0.696078   \n713     45.68   115.60   212.62    45.68  198.63  ...   5.660587     0.112960   \n855    -21.30    10.61    15.00   -21.30   14.04  ...   2.830645     0.275204   \n...       ...      ...      ...      ...     ...  ...        ...          ...   \n6059    51.38    18.12    32.15    51.38   48.10  ...   8.003328     0.578084   \n6064   -59.90     0.71     2.07   -59.90    1.12  ...   3.200000     0.349398   \n6098   112.80     1.62     5.00   112.80   13.52  ...   5.656904     2.038202   \n6116    93.40     6.21    15.67    93.40   25.42  ...   6.468193     0.981294   \n6147   -63.38    11.29    30.83   -63.38   43.66  ...   0.845469     2.850088   \n\n         ROE  P/VP  EV/EBIT  LIQ.CORR  MARG.LIQ  DIV.LIQ/PL  ORIGEM  \\\n295   122.81  0.82     2.01      0.87    116.64        0.33    NYSE   \n683    51.40  0.25     2.05      0.90     44.90       -1.61    NYSE   \n703    16.29  0.58     2.19      1.61      4.30       -0.11  NASDAQ   \n713    17.67  0.90     3.65      1.26     29.10       -0.02    NYSE   \n855    35.35  0.78     1.40      4.18     17.39       -0.09  NASDAQ   \n...      ...   ...      ...       ...       ...         ...     ...   \n6059   12.49  0.64     5.20      1.92      7.05        0.11    NYSE   \n6064   31.58  0.77     1.56      2.56     12.88       -0.24  NASDAQ   \n6098   17.71  0.33     0.24      1.89     20.98       -0.25    NYSE   \n6116   15.46  0.51     7.34      1.15      9.72        0.57    NYSE   \n6147  118.29  0.26     0.14      1.64     45.16       -0.04    NYSE   \n\n                   SEGMENTO  \n295                  Energy  \n683          Transportation  \n703       Consumer Services  \n713       Consumer Services  \n855   Consumer Non-Durables  \n...                     ...  \n6059       Basic Industries  \n6064            Health Care  \n6098                      0  \n6116                 Energy  \n6147         Transportation  \n\n[82 rows x 23 columns]",
      "text/html": "<div>\n<style scoped>\n    .dataframe tbody tr th:only-of-type {\n        vertical-align: middle;\n    }\n\n    .dataframe tbody tr th {\n        vertical-align: top;\n    }\n\n    .dataframe thead th {\n        text-align: right;\n    }\n</style>\n<table border=\"1\" class=\"dataframe\">\n  <thead>\n    <tr style=\"text-align: right;\">\n      <th></th>\n      <th>TICKERS</th>\n      <th>NAME</th>\n      <th>PRECO</th>\n      <th>MIN_MES</th>\n      <th>MAX_MES</th>\n      <th>VAL_MES</th>\n      <th>MIN_52S</th>\n      <th>MAX_52S</th>\n      <th>VAL_12M</th>\n      <th>VPA</th>\n      <th>...</th>\n      <th>P/L_IDEAL</th>\n      <th>UP/DOWNSIDE</th>\n      <th>ROE</th>\n      <th>P/VP</th>\n      <th>EV/EBIT</th>\n      <th>LIQ.CORR</th>\n      <th>MARG.LIQ</th>\n      <th>DIV.LIQ/PL</th>\n      <th>ORIGEM</th>\n      <th>SEGMENTO</th>\n    </tr>\n  </thead>\n  <tbody>\n    <tr>\n      <th>295</th>\n      <td>AMPY</td>\n      <td>AMPLIFY ENERGY CORP.</td>\n      <td>7.45</td>\n      <td>6.60</td>\n      <td>7.50</td>\n      <td>-2.61</td>\n      <td>5.66</td>\n      <td>10.21</td>\n      <td>-2.61</td>\n      <td>9.17</td>\n      <td>...</td>\n      <td>0.814387</td>\n      <td>0.230872</td>\n      <td>122.81</td>\n      <td>0.82</td>\n      <td>2.01</td>\n      <td>0.87</td>\n      <td>116.64</td>\n      <td>0.33</td>\n      <td>NYSE</td>\n      <td>Energy</td>\n    </tr>\n    <tr>\n      <th>683</th>\n      <td>BEST</td>\n      <td>BEST INC.</td>\n      <td>2.51</td>\n      <td>2.37</td>\n      <td>2.90</td>\n      <td>136.79</td>\n      <td>0.50</td>\n      <td>3.01</td>\n      <td>136.79</td>\n      <td>10.16</td>\n      <td>...</td>\n      <td>1.946360</td>\n      <td>3.047809</td>\n      <td>51.40</td>\n      <td>0.25</td>\n      <td>2.05</td>\n      <td>0.90</td>\n      <td>44.90</td>\n      <td>-1.61</td>\n      <td>NYSE</td>\n      <td>Transportation</td>\n    </tr>\n    <tr>\n      <th>703</th>\n      <td>BGFV</td>\n      <td>BIG 5 SPORTING GOODS CORPORATION</td>\n      <td>7.14</td>\n      <td>6.86</td>\n      <td>7.65</td>\n      <td>-40.65</td>\n      <td>6.86</td>\n      <td>13.56</td>\n      <td>-40.65</td>\n      <td>12.11</td>\n      <td>...</td>\n      <td>6.147208</td>\n      <td>0.696078</td>\n      <td>16.29</td>\n      <td>0.58</td>\n      <td>2.19</td>\n      <td>1.61</td>\n      <td>4.30</td>\n      <td>-0.11</td>\n      <td>NASDAQ</td>\n      <td>Consumer Services</td>\n    </tr>\n    <tr>\n      <th>713</th>\n      <td>BH</td>\n      <td>BIGLARI HOLDINGS INC.</td>\n      <td>178.47</td>\n      <td>178.43</td>\n      <td>186.76</td>\n      <td>45.68</td>\n      <td>115.60</td>\n      <td>212.62</td>\n      <td>45.68</td>\n      <td>198.63</td>\n      <td>...</td>\n      <td>5.660587</td>\n      <td>0.112960</td>\n      <td>17.67</td>\n      <td>0.90</td>\n      <td>3.65</td>\n      <td>1.26</td>\n      <td>29.10</td>\n      <td>-0.02</td>\n      <td>NYSE</td>\n      <td>Consumer Services</td>\n    </tr>\n    <tr>\n      <th>855</th>\n      <td>BRID</td>\n      <td>BRIDGFORD FOODS CORPORATION</td>\n      <td>11.01</td>\n      <td>10.61</td>\n      <td>11.67</td>\n      <td>-21.30</td>\n      <td>10.61</td>\n      <td>15.00</td>\n      <td>-21.30</td>\n      <td>14.04</td>\n      <td>...</td>\n      <td>2.830645</td>\n      <td>0.275204</td>\n      <td>35.35</td>\n      <td>0.78</td>\n      <td>1.40</td>\n      <td>4.18</td>\n      <td>17.39</td>\n      <td>-0.09</td>\n      <td>NASDAQ</td>\n      <td>Consumer Non-Durables</td>\n    </tr>\n    <tr>\n      <th>...</th>\n      <td>...</td>\n      <td>...</td>\n      <td>...</td>\n      <td>...</td>\n      <td>...</td>\n      <td>...</td>\n      <td>...</td>\n      <td>...</td>\n      <td>...</td>\n      <td>...</td>\n      <td>...</td>\n      <td>...</td>\n      <td>...</td>\n      <td>...</td>\n      <td>...</td>\n      <td>...</td>\n      <td>...</td>\n      <td>...</td>\n      <td>...</td>\n      <td>...</td>\n      <td>...</td>\n    </tr>\n    <tr>\n      <th>6059</th>\n      <td>X</td>\n      <td>UNITED STATES STEEL CORPORATION</td>\n      <td>30.48</td>\n      <td>30.22</td>\n      <td>31.14</td>\n      <td>51.38</td>\n      <td>18.12</td>\n      <td>32.15</td>\n      <td>51.38</td>\n      <td>48.10</td>\n      <td>...</td>\n      <td>8.003328</td>\n      <td>0.578084</td>\n      <td>12.49</td>\n      <td>0.64</td>\n      <td>5.20</td>\n      <td>1.92</td>\n      <td>7.05</td>\n      <td>0.11</td>\n      <td>NYSE</td>\n      <td>Basic Industries</td>\n    </tr>\n    <tr>\n      <th>6064</th>\n      <td>XCUR</td>\n      <td>EXICURE INC.</td>\n      <td>0.83</td>\n      <td>0.81</td>\n      <td>0.96</td>\n      <td>-59.90</td>\n      <td>0.71</td>\n      <td>2.07</td>\n      <td>-59.90</td>\n      <td>1.12</td>\n      <td>...</td>\n      <td>3.200000</td>\n      <td>0.349398</td>\n      <td>31.58</td>\n      <td>0.77</td>\n      <td>1.56</td>\n      <td>2.56</td>\n      <td>12.88</td>\n      <td>-0.24</td>\n      <td>NASDAQ</td>\n      <td>Health Care</td>\n    </tr>\n    <tr>\n      <th>6098</th>\n      <td>XYF</td>\n      <td>X FINANCIAL</td>\n      <td>4.45</td>\n      <td>4.15</td>\n      <td>4.49</td>\n      <td>112.80</td>\n      <td>1.62</td>\n      <td>5.00</td>\n      <td>112.80</td>\n      <td>13.52</td>\n      <td>...</td>\n      <td>5.656904</td>\n      <td>2.038202</td>\n      <td>17.71</td>\n      <td>0.33</td>\n      <td>0.24</td>\n      <td>1.89</td>\n      <td>20.98</td>\n      <td>-0.25</td>\n      <td>NYSE</td>\n      <td>0</td>\n    </tr>\n    <tr>\n      <th>6116</th>\n      <td>YPF</td>\n      <td>YPF SOCIEDAD ANONIMA</td>\n      <td>12.83</td>\n      <td>11.99</td>\n      <td>14.20</td>\n      <td>93.40</td>\n      <td>6.21</td>\n      <td>15.67</td>\n      <td>93.40</td>\n      <td>25.42</td>\n      <td>...</td>\n      <td>6.468193</td>\n      <td>0.981294</td>\n      <td>15.46</td>\n      <td>0.51</td>\n      <td>7.34</td>\n      <td>1.15</td>\n      <td>9.72</td>\n      <td>0.57</td>\n      <td>NYSE</td>\n      <td>Energy</td>\n    </tr>\n    <tr>\n      <th>6147</th>\n      <td>ZIM</td>\n      <td>ZIM INTEGRATED SHIPPING SERVICES LTD</td>\n      <td>11.34</td>\n      <td>11.29</td>\n      <td>12.24</td>\n      <td>-63.38</td>\n      <td>11.29</td>\n      <td>30.83</td>\n      <td>-63.38</td>\n      <td>43.66</td>\n      <td>...</td>\n      <td>0.845469</td>\n      <td>2.850088</td>\n      <td>118.29</td>\n      <td>0.26</td>\n      <td>0.14</td>\n      <td>1.64</td>\n      <td>45.16</td>\n      <td>-0.04</td>\n      <td>NYSE</td>\n      <td>Transportation</td>\n    </tr>\n  </tbody>\n</table>\n<p>82 rows × 23 columns</p>\n</div>"
     },
     "execution_count": 84,
     "metadata": {},
     "output_type": "execute_result"
    }
   ],
   "source": [
    "list_intl = pd.DataFrame.from_dict(indicators_lis_intl)\n",
    "\n",
    "list_intl = list_intl.replace('-', '')\n",
    "list_intl = list_intl.replace('-%', '')\n",
    "list_intl['MIN_MES'] = (list_intl['MIN_MES']).str.lstrip('$')\n",
    "list_intl['MAX_MES'] = (list_intl['MAX_MES']).str.lstrip('$')\n",
    "list_intl['MIN_MES'] = (list_intl['MIN_MES']).str.strip('- ')\n",
    "list_intl['MAX_MES'] = (list_intl['MAX_MES']).str.strip('- ')\n",
    "list_intl['VAL_12M'] = (list_intl['VAL_12M']).str.rstrip('%')\n",
    "list_intl['VAL_MES'] = (list_intl['VAL_MES']).str.rstrip('%')\n",
    "\n",
    "list_intl.to_csv('list_intl.csv')\n",
    "\n",
    "list_intl = pd.read_csv(\"list_intl.csv\", sep=',', decimal=',', thousands='.', encoding='ISO-8859-1' )\n",
    "\n",
    "list_intl.fillna(value=0, inplace=True)\n",
    "list_intl = list_intl.drop(['Unnamed: 0'],axis=1)\n",
    "\n",
    "value_intl.rename(columns={'TICKER': \"TICKERS\" }, inplace=True)\n",
    "\n",
    "list_intl.rename(columns={'intl': \"TICKERS\" }, inplace=True)\n",
    "\n",
    "invest_intl = pd.merge(value_intl, list_intl, on='TICKERS')\n",
    "\n",
    "invest_intl = invest_intl[['TICKERS', 'NAME', 'PRECO', 'MIN_MES', 'MAX_MES', 'VAL_MES', 'MIN_52S', 'MAX_52S',  'VAL_12M', \n",
    "                       ' VPA', 'DY', ' LPA', 'P/L' ,'P/L_IDEAL', 'UP/DOWNSIDE', 'ROE', 'P/VP', 'EV/EBIT', \n",
    "                       'LIQ.CORR', 'MARG.LIQ', 'DIV.LIQ/PL', 'ORIGEM', 'SEGMENTO']]\n",
    "\n",
    "invest_intl = invest_intl.loc[invest_intl['DY'] >= 0].loc[\n",
    "    invest_intl['P/L'] >= 0.01].loc[invest_intl['P/L'] < 10].loc[\n",
    "    invest_intl['ROE'] >= 10].loc[\n",
    "    invest_intl['EV/EBIT'] >= 0.01].loc[invest_intl['EV/EBIT'] <= 10].loc[\n",
    "    invest_intl['LIQ.CORR'] >= 0.5].loc[\n",
    "    invest_intl['UP/DOWNSIDE'] >= 0.1]\n",
    "\n",
    "#invest_intl[(invest_intl['TICKERS'] == 'MSFT')]\n",
    "#invest_intl.loc[invest_intl['SEGMENTO'] == 'Technology'].loc[invest_intl['ORIGEM'] == 'NASDAQ']\n",
    "# \n",
    "invest_intl\n"
   ],
   "metadata": {
    "collapsed": false,
    "ExecuteTime": {
     "end_time": "2023-09-15T01:51:35.598059Z",
     "start_time": "2023-09-15T01:51:34.769479Z"
    }
   }
  },
  {
   "cell_type": "code",
   "execution_count": null,
   "outputs": [],
   "source": [],
   "metadata": {
    "collapsed": false
   }
  }
 ],
 "nbformat": 4,
 "nbformat_minor": 0,
 "metadata": {
  "deepnote": {},
  "orig_nbformat": 2,
  "deepnote_notebook_id": "a348ade93c514fbc821716497741219a",
  "deepnote_persisted_session": {
   "createdAt": "2023-08-25T04:16:33.077Z"
  },
  "deepnote_execution_queue": [],
  "kernelspec": {
   "name": "python3",
   "language": "python",
   "display_name": "Python 3 (ipykernel)"
  }
 }
}
