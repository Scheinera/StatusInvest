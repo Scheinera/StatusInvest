{
 "cells": [
  {
   "cell_type": "code",
   "metadata": {
    "source_hash": null,
    "output_cleared": false,
    "execution_start": 1693024141354,
    "execution_millis": 9,
    "is_output_hidden": true,
    "deepnote_to_be_reexecuted": false,
    "deepnote_app_is_output_hidden": true,
    "cell_id": "ced38634790543a686a921bcacb24514",
    "deepnote_cell_type": "code",
    "ExecuteTime": {
     "end_time": "2023-09-15T13:32:09.289696Z",
     "start_time": "2023-09-15T13:32:04.243269Z"
    }
   },
   "source": [
    "import pandas as pd\n",
    "import numpy as np\n",
    "import matplotlib.pyplot as plt\n",
    "import time\n",
    "import dash\n",
    "import openpyxl\n",
    "import os\n",
    "from pathlib import Path\n",
    "from selenium import webdriver\n",
    "from selenium.webdriver.chrome.service import Service \n",
    "from webdriver_manager.chrome import ChromeDriverManager\n",
    "from selenium.webdriver.common.by import By\n",
    "from selenium.webdriver.support.ui import WebDriverWait\n",
    "from selenium.webdriver.support import expected_conditions as EC"
   ],
   "block_group": "72c746c0e2e541c292569057f5a03789",
   "execution_count": 1,
   "outputs": []
  },
  {
   "cell_type": "code",
   "execution_count": 2,
   "outputs": [
    {
     "name": "stdout",
     "output_type": "stream",
     "text": [
      "Source path renamed to destination path successfully.\n"
     ]
    }
   ],
   "source": [
    "servico = Service(ChromeDriverManager().install())\n",
    "\n",
    "#Abrindo o navegador\n",
    "navegador = webdriver.Chrome(service=servico)\n",
    "\n",
    "##Iniciando o processo dados\n",
    "navegador.get('https://statusinvest.com.br/acoes/eua/busca-avancada')\n",
    "time.sleep(2)\n",
    "navegador.find_element(By.XPATH, '//*[@id=\"main-2\"]/div[1]/div/div/div/button[2]').click()\n",
    "time.sleep(2)\n",
    "navegador.find_element(By.XPATH, '//*[@id=\"main-2\"]/div[2]/div/div[1]/div[2]/a/span').click()\n",
    "time.sleep(5)\n",
    "\n",
    "#Fecha o navegador\n",
    "navegador.quit()\n",
    "\n",
    "## Renomeia o arquivo e move para pasta desejada\n",
    "source = '/Users/scheiner/Downloads/statusinvest-busca-avancada.csv'\n",
    "dest = '/Users/scheiner/Documents/GitHub/StatusInvest/international.csv'\n",
    "os.rename(source, dest) \n",
    "\n",
    "print(\"Source path renamed to destination path successfully.\")"
   ],
   "metadata": {
    "collapsed": false,
    "ExecuteTime": {
     "end_time": "2023-09-15T13:32:28.999466Z",
     "start_time": "2023-09-15T13:32:09.300897Z"
    }
   }
  },
  {
   "cell_type": "code",
   "execution_count": 3,
   "outputs": [
    {
     "data": {
      "text/plain": "     TICKER   PRECO     VPA     DY    LPA   P/L  P/L_IDEAL  UP/DOWNSIDE  \\\n11      AAP   59.59   45.79   7.97   6.37  9.35   7.188383    -0.231582   \n13     AAWW  102.48  107.04   0.00  12.43  8.25   8.611424     0.044496   \n23      ABG  233.57  149.14   0.00  45.49  5.13   3.278523    -0.361476   \n57      ACI   23.50    3.47  31.19   2.70  8.70   1.285185    -0.852340   \n158    AGCO  122.59   55.27   4.94  14.85  8.26   3.721886    -0.549148   \n...     ...     ...     ...    ...    ...   ...        ...          ...   \n6104   YALA    5.11    2.50   0.00   0.53  9.65   4.716981    -0.510763   \n6109   YGMZ    0.49    0.44   0.00   0.08  6.07   5.500000    -0.102041   \n6116    YPF   12.94   25.42   0.00   3.93  3.29   6.468193     0.964451   \n6147    ZIM   11.26   43.66  83.04  51.64  0.22   0.845469     2.877442   \n6171   ZYME    6.77    6.62   0.00   2.50  2.71   2.648000    -0.022157   \n\n         ROE  P/VP  EV/EBIT  LIQ.CORR  MARG.LIQ  DIV.LIQ/PL  \n11     13.92  1.30     9.03      1.26      3.37        0.59  \n13     11.61  0.96     8.47      0.96      7.82        0.51  \n23     30.50  1.57     5.73      1.91      6.28        1.04  \n57     77.76  6.76     9.05      0.78      1.86        4.09  \n158    26.87  2.22     7.59      1.57      7.84        0.43  \n...      ...   ...      ...       ...       ...         ...  \n6104   21.22  2.05     4.84      8.50     28.81       -1.01  \n6109   18.50  1.12     5.17      1.57      6.33        0.56  \n6116   15.46  0.51     7.39      1.15      9.72        0.57  \n6147  118.29  0.26     0.14      1.64     45.16       -0.04  \n6171   37.71  1.02     0.65      4.49     37.58       -0.76  \n\n[396 rows x 14 columns]",
      "text/html": "<div>\n<style scoped>\n    .dataframe tbody tr th:only-of-type {\n        vertical-align: middle;\n    }\n\n    .dataframe tbody tr th {\n        vertical-align: top;\n    }\n\n    .dataframe thead th {\n        text-align: right;\n    }\n</style>\n<table border=\"1\" class=\"dataframe\">\n  <thead>\n    <tr style=\"text-align: right;\">\n      <th></th>\n      <th>TICKER</th>\n      <th>PRECO</th>\n      <th>VPA</th>\n      <th>DY</th>\n      <th>LPA</th>\n      <th>P/L</th>\n      <th>P/L_IDEAL</th>\n      <th>UP/DOWNSIDE</th>\n      <th>ROE</th>\n      <th>P/VP</th>\n      <th>EV/EBIT</th>\n      <th>LIQ.CORR</th>\n      <th>MARG.LIQ</th>\n      <th>DIV.LIQ/PL</th>\n    </tr>\n  </thead>\n  <tbody>\n    <tr>\n      <th>11</th>\n      <td>AAP</td>\n      <td>59.59</td>\n      <td>45.79</td>\n      <td>7.97</td>\n      <td>6.37</td>\n      <td>9.35</td>\n      <td>7.188383</td>\n      <td>-0.231582</td>\n      <td>13.92</td>\n      <td>1.30</td>\n      <td>9.03</td>\n      <td>1.26</td>\n      <td>3.37</td>\n      <td>0.59</td>\n    </tr>\n    <tr>\n      <th>13</th>\n      <td>AAWW</td>\n      <td>102.48</td>\n      <td>107.04</td>\n      <td>0.00</td>\n      <td>12.43</td>\n      <td>8.25</td>\n      <td>8.611424</td>\n      <td>0.044496</td>\n      <td>11.61</td>\n      <td>0.96</td>\n      <td>8.47</td>\n      <td>0.96</td>\n      <td>7.82</td>\n      <td>0.51</td>\n    </tr>\n    <tr>\n      <th>23</th>\n      <td>ABG</td>\n      <td>233.57</td>\n      <td>149.14</td>\n      <td>0.00</td>\n      <td>45.49</td>\n      <td>5.13</td>\n      <td>3.278523</td>\n      <td>-0.361476</td>\n      <td>30.50</td>\n      <td>1.57</td>\n      <td>5.73</td>\n      <td>1.91</td>\n      <td>6.28</td>\n      <td>1.04</td>\n    </tr>\n    <tr>\n      <th>57</th>\n      <td>ACI</td>\n      <td>23.50</td>\n      <td>3.47</td>\n      <td>31.19</td>\n      <td>2.70</td>\n      <td>8.70</td>\n      <td>1.285185</td>\n      <td>-0.852340</td>\n      <td>77.76</td>\n      <td>6.76</td>\n      <td>9.05</td>\n      <td>0.78</td>\n      <td>1.86</td>\n      <td>4.09</td>\n    </tr>\n    <tr>\n      <th>158</th>\n      <td>AGCO</td>\n      <td>122.59</td>\n      <td>55.27</td>\n      <td>4.94</td>\n      <td>14.85</td>\n      <td>8.26</td>\n      <td>3.721886</td>\n      <td>-0.549148</td>\n      <td>26.87</td>\n      <td>2.22</td>\n      <td>7.59</td>\n      <td>1.57</td>\n      <td>7.84</td>\n      <td>0.43</td>\n    </tr>\n    <tr>\n      <th>...</th>\n      <td>...</td>\n      <td>...</td>\n      <td>...</td>\n      <td>...</td>\n      <td>...</td>\n      <td>...</td>\n      <td>...</td>\n      <td>...</td>\n      <td>...</td>\n      <td>...</td>\n      <td>...</td>\n      <td>...</td>\n      <td>...</td>\n      <td>...</td>\n    </tr>\n    <tr>\n      <th>6104</th>\n      <td>YALA</td>\n      <td>5.11</td>\n      <td>2.50</td>\n      <td>0.00</td>\n      <td>0.53</td>\n      <td>9.65</td>\n      <td>4.716981</td>\n      <td>-0.510763</td>\n      <td>21.22</td>\n      <td>2.05</td>\n      <td>4.84</td>\n      <td>8.50</td>\n      <td>28.81</td>\n      <td>-1.01</td>\n    </tr>\n    <tr>\n      <th>6109</th>\n      <td>YGMZ</td>\n      <td>0.49</td>\n      <td>0.44</td>\n      <td>0.00</td>\n      <td>0.08</td>\n      <td>6.07</td>\n      <td>5.500000</td>\n      <td>-0.102041</td>\n      <td>18.50</td>\n      <td>1.12</td>\n      <td>5.17</td>\n      <td>1.57</td>\n      <td>6.33</td>\n      <td>0.56</td>\n    </tr>\n    <tr>\n      <th>6116</th>\n      <td>YPF</td>\n      <td>12.94</td>\n      <td>25.42</td>\n      <td>0.00</td>\n      <td>3.93</td>\n      <td>3.29</td>\n      <td>6.468193</td>\n      <td>0.964451</td>\n      <td>15.46</td>\n      <td>0.51</td>\n      <td>7.39</td>\n      <td>1.15</td>\n      <td>9.72</td>\n      <td>0.57</td>\n    </tr>\n    <tr>\n      <th>6147</th>\n      <td>ZIM</td>\n      <td>11.26</td>\n      <td>43.66</td>\n      <td>83.04</td>\n      <td>51.64</td>\n      <td>0.22</td>\n      <td>0.845469</td>\n      <td>2.877442</td>\n      <td>118.29</td>\n      <td>0.26</td>\n      <td>0.14</td>\n      <td>1.64</td>\n      <td>45.16</td>\n      <td>-0.04</td>\n    </tr>\n    <tr>\n      <th>6171</th>\n      <td>ZYME</td>\n      <td>6.77</td>\n      <td>6.62</td>\n      <td>0.00</td>\n      <td>2.50</td>\n      <td>2.71</td>\n      <td>2.648000</td>\n      <td>-0.022157</td>\n      <td>37.71</td>\n      <td>1.02</td>\n      <td>0.65</td>\n      <td>4.49</td>\n      <td>37.58</td>\n      <td>-0.76</td>\n    </tr>\n  </tbody>\n</table>\n<p>396 rows × 14 columns</p>\n</div>"
     },
     "execution_count": 3,
     "metadata": {},
     "output_type": "execute_result"
    }
   ],
   "source": [
    "intl = pd.read_csv('international.csv', sep=';',  decimal=',', thousands='.', encoding=\"utf-8\" )\n",
    "\n",
    "intl['P/L_IDEAL'] = intl[' VPA'] / intl[' LPA']\n",
    "intl['UP/DOWNSIDE'] = (intl[' VPA'] / intl['PRECO'])-1\n",
    "    \n",
    "value_intl = intl.loc[:, ['TICKER', 'PRECO', ' VPA' , 'DY', ' LPA', 'P/L', 'P/L_IDEAL', 'UP/DOWNSIDE', 'ROE', \n",
    "                           'P/VP', 'EV/EBIT' ,'LIQ. CORRENTE', 'MARG. LIQUIDA', 'DIV. LIQ. / PATRI.']]\n",
    "\n",
    "value_intl.fillna(value=0, inplace=True)\n",
    "value_intl.rename(columns={'LIQ. CORRENTE': \"LIQ.CORR\" }, inplace=True)\n",
    "value_intl.rename(columns={'MARG. LIQUIDA': \"MARG.LIQ\" }, inplace=True)\n",
    "value_intl.rename(columns={'DIV. LIQ. / PATRI.': \"DIV.LIQ/PL\" }, inplace=True)\n",
    "    \n",
    "    \n",
    "value_intl = value_intl.loc[value_intl['DY'] >= 0].loc[\n",
    "    value_intl['P/L'] >= 0.01].loc[value_intl['P/L'] < 10].loc[\n",
    "    value_intl['ROE'] >= 6].loc[\n",
    "    value_intl['EV/EBIT'] >= 0.01].loc[value_intl['EV/EBIT'] <= 10].loc[\n",
    "    value_intl['LIQ.CORR'] >= 0.5]\n",
    "\n",
    "value_intl"
   ],
   "metadata": {
    "collapsed": false,
    "ExecuteTime": {
     "end_time": "2023-09-15T13:32:29.318172Z",
     "start_time": "2023-09-15T13:32:28.991529Z"
    }
   }
  },
  {
   "cell_type": "code",
   "execution_count": 4,
   "outputs": [],
   "source": [
    "#Instalando o driver\n",
    "servico = Service(ChromeDriverManager().install())\n",
    "\n",
    "#Abrindo o navegador\n",
    "navegador = webdriver.Chrome(service=servico)\n",
    "\n",
    "ticker = value_intl['TICKER']\n",
    "list_intl = ticker.to_list()\n",
    "\n",
    "indicators_lis_intl = []\n",
    "for intl in list_intl:\n",
    "\n",
    "    #Criando url\n",
    "    url = f\"https://statusinvest.com.br/acoes/eua/{intl}\"\n",
    "\n",
    "    \n",
    "    try:\n",
    "        #Abrindo o navegador\n",
    "        navegador.get(url)\n",
    "\n",
    "        time.sleep(0.25)\n",
    "    \n",
    "        #Coletando infos\n",
    "        NAME = navegador.find_element(By.XPATH, '//*[@id=\"main-header\"]/div[2]/div/div[1]/div[1]/h1/small').text\n",
    "        MIN_MES = navegador.find_element(By.XPATH, '//*[@id=\"main-2\"]/div[2]/div[1]/div[1]/div[2]/div/div[2]/div/span[2]').text\n",
    "        MAX_MES = navegador.find_element(By.XPATH, '//*[@id=\"main-2\"]/div[2]/div[1]/div[1]/div[3]/div/div[2]/div/span[2]').text\n",
    "        MIN_52S = navegador.find_element(By.XPATH, '//*[@id=\"main-2\"]/div[2]/div[1]/div[1]/div[2]/div/div[1]/strong').text\n",
    "        MAX_52S = navegador.find_element(By.XPATH, '//*[@id=\"main-2\"]/div[2]/div[1]/div[1]/div[3]/div/div[1]/strong').text\n",
    "        GAIN_12M = navegador.find_element(By.XPATH, '//*[@id=\"main-2\"]/div[2]/div[1]/div[1]/div[5]/div/div[1]/strong').text\n",
    "        GAIN_MES = navegador.find_element(By.XPATH, '//*[@id=\"main-2\"]/div[2]/div[1]/div[1]/div[5]/div/div[1]/strong').text\n",
    "        ORIGEM = navegador.find_element(By.XPATH, '//*[@id=\"company-section\"]/div[1]/div[3]/div/div[2]/div/div/div/strong/span').text\n",
    "        SEGMENTO = navegador.find_element(By.XPATH, '//*[@id=\"company-section\"]/div[1]/div[4]/div[2]/div[1]/div/div/div/a/strong').text\n",
    "        \n",
    "        \n",
    "\n",
    "        #Criando dict\n",
    "        dicionario = {  \"intl\": intl,\n",
    "                        \"NAME\": NAME,\n",
    "                        \"MIN_MES\": MIN_MES, \n",
    "                        \"MAX_MES\": MAX_MES, \n",
    "                        \"MIN_52S\": MIN_52S, \n",
    "                        \"MAX_52S\": MAX_52S, \n",
    "                        \"VAL_12M\": GAIN_12M,\n",
    "                        \"VAL_MES\": GAIN_MES,\n",
    "                        \"ORIGEM\": ORIGEM,\n",
    "                        \"SEGMENTO\": SEGMENTO\n",
    "                        \n",
    "                        }\n",
    "\n",
    "        #Criando lista de dicts\n",
    "        indicators_lis_intl.append(dicionario)\n",
    "    except Exception as e:\n",
    "        print(e)\n",
    "\n",
    "#Fecha o navegador\n",
    "navegador.quit()"
   ],
   "metadata": {
    "collapsed": false,
    "ExecuteTime": {
     "end_time": "2023-09-15T13:40:24.886843Z",
     "start_time": "2023-09-15T13:32:29.324765Z"
    }
   }
  },
  {
   "cell_type": "code",
   "execution_count": 5,
   "outputs": [
    {
     "data": {
      "text/plain": "    TICKERS                                  NAME   PRECO  MIN_MES  MAX_MES  \\\n11     AMPY                  AMPLIFY ENERGY CORP.    7.42     6.60     7.50   \n35     BEST                             BEST INC.    2.49     2.37     2.90   \n37     BGFV      BIG 5 SPORTING GOODS CORPORATION    7.14     6.86     7.65   \n39       BH                 BIGLARI HOLDINGS INC.  176.03   176.03   186.76   \n43     BRID           BRIDGFORD FOODS CORPORATION   11.05    10.61    11.67   \n..      ...                                   ...     ...      ...      ...   \n387       X       UNITED STATES STEEL CORPORATION   30.89    30.22    31.14   \n388    XCUR                          EXICURE INC.    0.83     0.81     0.96   \n390     XYF                           X FINANCIAL    4.52     4.15     4.52   \n393     YPF                  YPF SOCIEDAD ANONIMA   12.94    11.99    14.20   \n394     ZIM  ZIM INTEGRATED SHIPPING SERVICES LTD   11.26    11.26    12.24   \n\n     VAL_MES  MIN_52S  MAX_52S  VAL_12M     VPA  ...  P/L_IDEAL  UP/DOWNSIDE  \\\n11     -0.13     5.66    10.21    -0.13    9.17  ...   0.814387     0.235849   \n35    149.00     0.50     3.01   149.00   10.16  ...   1.946360     3.080321   \n37    -38.97     6.86    13.56   -38.97   12.11  ...   6.147208     0.696078   \n39     43.70   115.60   212.62    43.70  198.63  ...   5.660587     0.128387   \n43    -25.59    10.61    15.00   -25.59   14.04  ...   2.830645     0.270588   \n..       ...      ...      ...      ...     ...  ...        ...          ...   \n387    53.38    18.12    32.15    53.38   48.10  ...   8.003328     0.557138   \n388   -55.14     0.71     1.93   -55.14    1.12  ...   3.200000     0.349398   \n390   126.00     1.62     5.00   126.00   13.52  ...   5.656904     1.991150   \n393    85.65     6.21    15.67    85.65   25.42  ...   6.468193     0.964451   \n394   -61.87    11.26    29.53   -61.87   43.66  ...   0.845469     2.877442   \n\n        ROE  P/VP  EV/EBIT  LIQ.CORR  MARG.LIQ  DIV.LIQ/PL  ORIGEM  \\\n11   122.81  0.81     2.00      0.87    116.64        0.33    NYSE   \n35    51.40  0.25     2.05      0.90     44.90       -1.61    NYSE   \n37    16.29  0.59     2.26      1.61      4.30       -0.11  NASDAQ   \n39    17.67  0.89     3.62      1.26     29.10       -0.02    NYSE   \n43    35.35  0.79     1.41      4.18     17.39       -0.09  NASDAQ   \n..      ...   ...      ...       ...       ...         ...     ...   \n387   12.49  0.64     5.23      1.92      7.05        0.11    NYSE   \n388   31.58  0.74     1.48      2.56     12.88       -0.24  NASDAQ   \n390   17.71  0.33     0.29      1.89     20.98       -0.25    NYSE   \n393   15.46  0.51     7.39      1.15      9.72        0.57    NYSE   \n394  118.29  0.26     0.14      1.64     45.16       -0.04    NYSE   \n\n                  SEGMENTO  \n11                  Energy  \n35          Transportation  \n37       Consumer Services  \n39       Consumer Services  \n43   Consumer Non-Durables  \n..                     ...  \n387       Basic Industries  \n388            Health Care  \n390                      0  \n393                 Energy  \n394         Transportation  \n\n[105 rows x 23 columns]",
      "text/html": "<div>\n<style scoped>\n    .dataframe tbody tr th:only-of-type {\n        vertical-align: middle;\n    }\n\n    .dataframe tbody tr th {\n        vertical-align: top;\n    }\n\n    .dataframe thead th {\n        text-align: right;\n    }\n</style>\n<table border=\"1\" class=\"dataframe\">\n  <thead>\n    <tr style=\"text-align: right;\">\n      <th></th>\n      <th>TICKERS</th>\n      <th>NAME</th>\n      <th>PRECO</th>\n      <th>MIN_MES</th>\n      <th>MAX_MES</th>\n      <th>VAL_MES</th>\n      <th>MIN_52S</th>\n      <th>MAX_52S</th>\n      <th>VAL_12M</th>\n      <th>VPA</th>\n      <th>...</th>\n      <th>P/L_IDEAL</th>\n      <th>UP/DOWNSIDE</th>\n      <th>ROE</th>\n      <th>P/VP</th>\n      <th>EV/EBIT</th>\n      <th>LIQ.CORR</th>\n      <th>MARG.LIQ</th>\n      <th>DIV.LIQ/PL</th>\n      <th>ORIGEM</th>\n      <th>SEGMENTO</th>\n    </tr>\n  </thead>\n  <tbody>\n    <tr>\n      <th>11</th>\n      <td>AMPY</td>\n      <td>AMPLIFY ENERGY CORP.</td>\n      <td>7.42</td>\n      <td>6.60</td>\n      <td>7.50</td>\n      <td>-0.13</td>\n      <td>5.66</td>\n      <td>10.21</td>\n      <td>-0.13</td>\n      <td>9.17</td>\n      <td>...</td>\n      <td>0.814387</td>\n      <td>0.235849</td>\n      <td>122.81</td>\n      <td>0.81</td>\n      <td>2.00</td>\n      <td>0.87</td>\n      <td>116.64</td>\n      <td>0.33</td>\n      <td>NYSE</td>\n      <td>Energy</td>\n    </tr>\n    <tr>\n      <th>35</th>\n      <td>BEST</td>\n      <td>BEST INC.</td>\n      <td>2.49</td>\n      <td>2.37</td>\n      <td>2.90</td>\n      <td>149.00</td>\n      <td>0.50</td>\n      <td>3.01</td>\n      <td>149.00</td>\n      <td>10.16</td>\n      <td>...</td>\n      <td>1.946360</td>\n      <td>3.080321</td>\n      <td>51.40</td>\n      <td>0.25</td>\n      <td>2.05</td>\n      <td>0.90</td>\n      <td>44.90</td>\n      <td>-1.61</td>\n      <td>NYSE</td>\n      <td>Transportation</td>\n    </tr>\n    <tr>\n      <th>37</th>\n      <td>BGFV</td>\n      <td>BIG 5 SPORTING GOODS CORPORATION</td>\n      <td>7.14</td>\n      <td>6.86</td>\n      <td>7.65</td>\n      <td>-38.97</td>\n      <td>6.86</td>\n      <td>13.56</td>\n      <td>-38.97</td>\n      <td>12.11</td>\n      <td>...</td>\n      <td>6.147208</td>\n      <td>0.696078</td>\n      <td>16.29</td>\n      <td>0.59</td>\n      <td>2.26</td>\n      <td>1.61</td>\n      <td>4.30</td>\n      <td>-0.11</td>\n      <td>NASDAQ</td>\n      <td>Consumer Services</td>\n    </tr>\n    <tr>\n      <th>39</th>\n      <td>BH</td>\n      <td>BIGLARI HOLDINGS INC.</td>\n      <td>176.03</td>\n      <td>176.03</td>\n      <td>186.76</td>\n      <td>43.70</td>\n      <td>115.60</td>\n      <td>212.62</td>\n      <td>43.70</td>\n      <td>198.63</td>\n      <td>...</td>\n      <td>5.660587</td>\n      <td>0.128387</td>\n      <td>17.67</td>\n      <td>0.89</td>\n      <td>3.62</td>\n      <td>1.26</td>\n      <td>29.10</td>\n      <td>-0.02</td>\n      <td>NYSE</td>\n      <td>Consumer Services</td>\n    </tr>\n    <tr>\n      <th>43</th>\n      <td>BRID</td>\n      <td>BRIDGFORD FOODS CORPORATION</td>\n      <td>11.05</td>\n      <td>10.61</td>\n      <td>11.67</td>\n      <td>-25.59</td>\n      <td>10.61</td>\n      <td>15.00</td>\n      <td>-25.59</td>\n      <td>14.04</td>\n      <td>...</td>\n      <td>2.830645</td>\n      <td>0.270588</td>\n      <td>35.35</td>\n      <td>0.79</td>\n      <td>1.41</td>\n      <td>4.18</td>\n      <td>17.39</td>\n      <td>-0.09</td>\n      <td>NASDAQ</td>\n      <td>Consumer Non-Durables</td>\n    </tr>\n    <tr>\n      <th>...</th>\n      <td>...</td>\n      <td>...</td>\n      <td>...</td>\n      <td>...</td>\n      <td>...</td>\n      <td>...</td>\n      <td>...</td>\n      <td>...</td>\n      <td>...</td>\n      <td>...</td>\n      <td>...</td>\n      <td>...</td>\n      <td>...</td>\n      <td>...</td>\n      <td>...</td>\n      <td>...</td>\n      <td>...</td>\n      <td>...</td>\n      <td>...</td>\n      <td>...</td>\n      <td>...</td>\n    </tr>\n    <tr>\n      <th>387</th>\n      <td>X</td>\n      <td>UNITED STATES STEEL CORPORATION</td>\n      <td>30.89</td>\n      <td>30.22</td>\n      <td>31.14</td>\n      <td>53.38</td>\n      <td>18.12</td>\n      <td>32.15</td>\n      <td>53.38</td>\n      <td>48.10</td>\n      <td>...</td>\n      <td>8.003328</td>\n      <td>0.557138</td>\n      <td>12.49</td>\n      <td>0.64</td>\n      <td>5.23</td>\n      <td>1.92</td>\n      <td>7.05</td>\n      <td>0.11</td>\n      <td>NYSE</td>\n      <td>Basic Industries</td>\n    </tr>\n    <tr>\n      <th>388</th>\n      <td>XCUR</td>\n      <td>EXICURE INC.</td>\n      <td>0.83</td>\n      <td>0.81</td>\n      <td>0.96</td>\n      <td>-55.14</td>\n      <td>0.71</td>\n      <td>1.93</td>\n      <td>-55.14</td>\n      <td>1.12</td>\n      <td>...</td>\n      <td>3.200000</td>\n      <td>0.349398</td>\n      <td>31.58</td>\n      <td>0.74</td>\n      <td>1.48</td>\n      <td>2.56</td>\n      <td>12.88</td>\n      <td>-0.24</td>\n      <td>NASDAQ</td>\n      <td>Health Care</td>\n    </tr>\n    <tr>\n      <th>390</th>\n      <td>XYF</td>\n      <td>X FINANCIAL</td>\n      <td>4.52</td>\n      <td>4.15</td>\n      <td>4.52</td>\n      <td>126.00</td>\n      <td>1.62</td>\n      <td>5.00</td>\n      <td>126.00</td>\n      <td>13.52</td>\n      <td>...</td>\n      <td>5.656904</td>\n      <td>1.991150</td>\n      <td>17.71</td>\n      <td>0.33</td>\n      <td>0.29</td>\n      <td>1.89</td>\n      <td>20.98</td>\n      <td>-0.25</td>\n      <td>NYSE</td>\n      <td>0</td>\n    </tr>\n    <tr>\n      <th>393</th>\n      <td>YPF</td>\n      <td>YPF SOCIEDAD ANONIMA</td>\n      <td>12.94</td>\n      <td>11.99</td>\n      <td>14.20</td>\n      <td>85.65</td>\n      <td>6.21</td>\n      <td>15.67</td>\n      <td>85.65</td>\n      <td>25.42</td>\n      <td>...</td>\n      <td>6.468193</td>\n      <td>0.964451</td>\n      <td>15.46</td>\n      <td>0.51</td>\n      <td>7.39</td>\n      <td>1.15</td>\n      <td>9.72</td>\n      <td>0.57</td>\n      <td>NYSE</td>\n      <td>Energy</td>\n    </tr>\n    <tr>\n      <th>394</th>\n      <td>ZIM</td>\n      <td>ZIM INTEGRATED SHIPPING SERVICES LTD</td>\n      <td>11.26</td>\n      <td>11.26</td>\n      <td>12.24</td>\n      <td>-61.87</td>\n      <td>11.26</td>\n      <td>29.53</td>\n      <td>-61.87</td>\n      <td>43.66</td>\n      <td>...</td>\n      <td>0.845469</td>\n      <td>2.877442</td>\n      <td>118.29</td>\n      <td>0.26</td>\n      <td>0.14</td>\n      <td>1.64</td>\n      <td>45.16</td>\n      <td>-0.04</td>\n      <td>NYSE</td>\n      <td>Transportation</td>\n    </tr>\n  </tbody>\n</table>\n<p>105 rows × 23 columns</p>\n</div>"
     },
     "execution_count": 5,
     "metadata": {},
     "output_type": "execute_result"
    }
   ],
   "source": [
    "list_intl = pd.DataFrame.from_dict(indicators_lis_intl)\n",
    "\n",
    "list_intl = list_intl.replace('-', '')\n",
    "list_intl = list_intl.replace('-%', '')\n",
    "list_intl['MIN_MES'] = (list_intl['MIN_MES']).str.lstrip('$')\n",
    "list_intl['MAX_MES'] = (list_intl['MAX_MES']).str.lstrip('$')\n",
    "list_intl['MIN_MES'] = (list_intl['MIN_MES']).str.strip('- ')\n",
    "list_intl['MAX_MES'] = (list_intl['MAX_MES']).str.strip('- ')\n",
    "list_intl['VAL_12M'] = (list_intl['VAL_12M']).str.rstrip('%')\n",
    "list_intl['VAL_MES'] = (list_intl['VAL_MES']).str.rstrip('%')\n",
    "\n",
    "list_intl.to_csv('list_intl.csv')\n",
    "\n",
    "list_intl = pd.read_csv(\"list_intl.csv\", sep=',', decimal=',', thousands='.', encoding=\"utf-8\" )\n",
    "\n",
    "list_intl.fillna(value=0, inplace=True)\n",
    "list_intl = list_intl.drop(['Unnamed: 0'],axis=1)\n",
    "\n",
    "value_intl.rename(columns={'TICKER': \"TICKERS\" }, inplace=True)\n",
    "\n",
    "list_intl.rename(columns={'intl': \"TICKERS\" }, inplace=True)\n",
    "\n",
    "invest_intl = pd.merge(value_intl, list_intl, on='TICKERS')\n",
    "\n",
    "invest_intl = invest_intl[['TICKERS', 'NAME', 'PRECO', 'MIN_MES', 'MAX_MES', 'VAL_MES', 'MIN_52S', 'MAX_52S',  'VAL_12M', \n",
    "                       ' VPA', 'DY', ' LPA', 'P/L' ,'P/L_IDEAL', 'UP/DOWNSIDE', 'ROE', 'P/VP', 'EV/EBIT', \n",
    "                       'LIQ.CORR', 'MARG.LIQ', 'DIV.LIQ/PL', 'ORIGEM', 'SEGMENTO']]\n",
    "\n",
    "invest_intl = invest_intl.loc[invest_intl['DY'] >= 0].loc[\n",
    "    invest_intl['P/L'] >= 0.01].loc[invest_intl['P/L'] < 10].loc[\n",
    "    invest_intl['ROE'] >= 6].loc[\n",
    "    invest_intl['EV/EBIT'] >= 0.01].loc[invest_intl['EV/EBIT'] <= 10].loc[\n",
    "    invest_intl['LIQ.CORR'] >= 0.5].loc[\n",
    "    invest_intl['UP/DOWNSIDE'] >= 0.1]\n",
    "\n",
    "#invest_intl[(invest_intl['TICKERS'] == 'MSFT')]\n",
    "#invest_intl.loc[invest_intl['SEGMENTO'] == 'Technology'].loc[invest_intl['ORIGEM'] == 'NASDAQ']\n",
    "# \n",
    "invest_intl\n"
   ],
   "metadata": {
    "collapsed": false,
    "ExecuteTime": {
     "end_time": "2023-09-15T13:40:25.025820Z",
     "start_time": "2023-09-15T13:40:24.882041Z"
    }
   }
  },
  {
   "cell_type": "code",
   "execution_count": 5,
   "outputs": [],
   "source": [],
   "metadata": {
    "collapsed": false,
    "ExecuteTime": {
     "end_time": "2023-09-15T13:40:25.026572Z",
     "start_time": "2023-09-15T13:40:25.016448Z"
    }
   }
  }
 ],
 "nbformat": 4,
 "nbformat_minor": 0,
 "metadata": {
  "deepnote": {},
  "orig_nbformat": 2,
  "deepnote_notebook_id": "a348ade93c514fbc821716497741219a",
  "deepnote_persisted_session": {
   "createdAt": "2023-08-25T04:16:33.077Z"
  },
  "deepnote_execution_queue": [],
  "kernelspec": {
   "name": "python3",
   "language": "python",
   "display_name": "Python 3 (ipykernel)"
  }
 }
}
