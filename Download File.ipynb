{
 "cells": [
  {
   "cell_type": "code",
   "execution_count": 1,
   "id": "initial_id",
   "metadata": {
    "collapsed": true,
    "ExecuteTime": {
     "end_time": "2023-09-14T00:30:49.452540Z",
     "start_time": "2023-09-14T00:30:48.659275Z"
    }
   },
   "outputs": [],
   "source": [
    "import time\n",
    "import os\n",
    "from pathlib import Path\n",
    "from selenium import webdriver\n",
    "from selenium.webdriver.chrome.service import Service \n",
    "from webdriver_manager.chrome import ChromeDriverManager\n",
    "from selenium.webdriver.common.by import By\n",
    "from selenium.webdriver.support.ui import WebDriverWait\n",
    "from selenium.webdriver.support import expected_conditions as EC"
   ]
  },
  {
   "cell_type": "code",
   "execution_count": 2,
   "outputs": [
    {
     "name": "stdout",
     "output_type": "stream",
     "text": [
      "Source path renamed to destination path successfully.\n"
     ]
    }
   ],
   "source": [
    "#Instalando o driver\n",
    "servico = Service(ChromeDriverManager().install())\n",
    "\n",
    "#Abrindo o navegador\n",
    "navegador = webdriver.Chrome(service=servico)\n",
    "\n",
    "##Iniciando o processo dados\n",
    "navegador.get('https://statusinvest.com.br/acoes/busca-avancada/')\n",
    "time.sleep(2)\n",
    "navegador.find_element(By.XPATH, '//*[@id=\"main-2\"]/div[3]/div/div/div/button[2]').click()\n",
    "time.sleep(2)\n",
    "navegador.find_element(By.XPATH, '//*[@id=\"main-2\"]/div[4]/div/div[1]/div[2]/a/span').click()\n",
    "time.sleep(2)\n",
    "\n",
    "#Fecha o navegador\n",
    "navegador.quit()\n",
    "\n",
    "## Renomeia o arquivo e move para pasta desejada\n",
    "source = '/Users/scheiner/Downloads/statusinvest-busca-avancada.csv'\n",
    "dest = '/Users/scheiner/Documents/GitHub/StatusInvest/stocks.csv'\n",
    "os.rename(source, dest) \n",
    "print(\"Source path renamed to destination path successfully.\")\n"
   ],
   "metadata": {
    "collapsed": false,
    "ExecuteTime": {
     "end_time": "2023-09-14T00:39:36.949251Z",
     "start_time": "2023-09-14T00:39:14.955323Z"
    }
   },
   "id": "2c572f62e5ad8011"
  },
  {
   "cell_type": "code",
   "execution_count": null,
   "outputs": [],
   "source": [],
   "metadata": {
    "collapsed": false
   },
   "id": "789630165e9b14c1"
  }
 ],
 "metadata": {
  "kernelspec": {
   "display_name": "Python 3",
   "language": "python",
   "name": "python3"
  },
  "language_info": {
   "codemirror_mode": {
    "name": "ipython",
    "version": 2
   },
   "file_extension": ".py",
   "mimetype": "text/x-python",
   "name": "python",
   "nbconvert_exporter": "python",
   "pygments_lexer": "ipython2",
   "version": "2.7.6"
  }
 },
 "nbformat": 4,
 "nbformat_minor": 5
}
